{
 "cells": [
  {
   "cell_type": "markdown",
   "id": "65365c19",
   "metadata": {
    "id": "65365c19"
   },
   "source": [
    "## Описание задачи\n",
    "\n",
    "Многие знают про маркетплейсы где продаются б/у вещи, на которых есть возможность недорого купить качественную и полезную вещь. Но всегда волнует вопрос - кто и как устанавливает цену, и какие его характеристики больше всего влияют на итоговую стоимость продажи?! Вопрос становиться особо актуальным, если речь идет про дорогие товары, например про автомобили!\n",
    "\n",
    " Целью проекта будет модель предсказания стоимости автомобиля на вторичном рынке.\n",
    " \n",
    "## Description of the task\n",
    "Many people know about marketplaces where used items are sold, where you can inexpensively buy a high-quality and useful item. But the question always concerns us: who sets the price and how, and what characteristics most influence the final sale price?! The question becomes especially relevant when it comes to expensive goods, such as cars!\n",
    "\n",
    "The goal of the project will be a model for predicting the cost of a car on the secondary market."
   ]
  },
  {
   "cell_type": "markdown",
   "id": "f81e678e",
   "metadata": {
    "id": "f81e678e"
   },
   "source": [
    "https://www.kaggle.com/competitions/used-cars-price-prediction-22ds\n",
    "    \n",
    "соревнование здесь\n",
    "\n",
    "competition here\n"
   ]
  },
  {
   "cell_type": "code",
   "execution_count": 1,
   "id": "8c8854c6",
   "metadata": {
    "colab": {
     "base_uri": "https://localhost:8080/"
    },
    "executionInfo": {
     "elapsed": 20622,
     "status": "ok",
     "timestamp": 1694150500706,
     "user": {
      "displayName": "Андрей Медведев",
      "userId": "02560461935100345008"
     },
     "user_tz": -180
    },
    "id": "8c8854c6",
    "outputId": "ed853591-f66d-434b-d91e-36a3f089fdea"
   },
   "outputs": [
    {
     "name": "stdout",
     "output_type": "stream",
     "text": [
      "Mounted at /content/drive\n"
     ]
    }
   ],
   "source": [
    "#монтирование диска\n",
    "from google.colab import drive\n",
    "\n",
    "drive.mount('/content/drive')\n"
   ]
  },
  {
   "cell_type": "markdown",
   "id": "c86c7a8c",
   "metadata": {
    "id": "c86c7a8c"
   },
   "source": [
    "## 0. Бибилиотеки\n",
    "## 0. Libraries"
   ]
  },
  {
   "cell_type": "code",
   "execution_count": 2,
   "id": "3f94cf02",
   "metadata": {
    "executionInfo": {
     "elapsed": 14544,
     "status": "ok",
     "timestamp": 1694150515243,
     "user": {
      "displayName": "Андрей Медведев",
      "userId": "02560461935100345008"
     },
     "user_tz": -180
    },
    "id": "3f94cf02"
   },
   "outputs": [],
   "source": [
    "!pip3 install vininfo pyvin -q\n",
    "!pip install vin-decoder-nhtsa -q"
   ]
  },
  {
   "cell_type": "code",
   "execution_count": 3,
   "id": "19002e96",
   "metadata": {
    "executionInfo": {
     "elapsed": 1989,
     "status": "ok",
     "timestamp": 1694150517229,
     "user": {
      "displayName": "Андрей Медведев",
      "userId": "02560461935100345008"
     },
     "user_tz": -180
    },
    "id": "19002e96"
   },
   "outputs": [],
   "source": [
    "import pandas as pd\n",
    "import numpy as np\n",
    "import os\n",
    "#from ydata_profiling import ProfileReport\n",
    "from vininfo import Vin\n",
    "from pyvin import VIN\n",
    "from vin_decoder_nhtsa.decoder import Vin\n",
    "\n",
    "from tqdm import notebook\n",
    "from tqdm.notebook import tqdm\n",
    "tqdm.pandas()\n",
    "\n",
    "#import polars\n",
    "\n",
    "from scipy.stats import mode\n",
    "from scipy.sparse import csr_matrix\n",
    "\n",
    "from scipy.sparse import hstack\n",
    "\n",
    "from sklearn.ensemble import RandomForestRegressor\n",
    "from sklearn.tree import DecisionTreeRegressor\n",
    "\n",
    "from sklearn import linear_model\n",
    "from sklearn.linear_model import LinearRegression\n",
    "#from sklearn.dummy import DummyClassifier\n",
    "from sklearn.model_selection import GridSearchCV\n",
    "from sklearn.preprocessing import OneHotEncoder, OrdinalEncoder, MinMaxScaler\n",
    "\n",
    "from sklearn.metrics import mean_absolute_percentage_error\n"
   ]
  },
  {
   "cell_type": "code",
   "execution_count": 1,
   "id": "0a2249c0",
   "metadata": {
    "executionInfo": {
     "elapsed": 6,
     "status": "ok",
     "timestamp": 1694150517229,
     "user": {
      "displayName": "Андрей Медведев",
      "userId": "02560461935100345008"
     },
     "user_tz": -180
    },
    "id": "0a2249c0"
   },
   "outputs": [],
   "source": [
    "#константы constants\n",
    "STATE = 33443\n",
    "\n",
    "#Путь к каталогу с данными\n",
    "#Path to the data directory\n",
    "DATA_PATH = '/content/drive/MyDrive/Peton/mastersk_yandex/'"
   ]
  },
  {
   "cell_type": "code",
   "execution_count": 4,
   "id": "8f4a9813",
   "metadata": {
    "executionInfo": {
     "elapsed": 4,
     "status": "ok",
     "timestamp": 1694150517229,
     "user": {
      "displayName": "Андрей Медведев",
      "userId": "02560461935100345008"
     },
     "user_tz": -180
    },
    "id": "8f4a9813"
   },
   "outputs": [],
   "source": []
  },
  {
   "cell_type": "markdown",
   "id": "a13943ac",
   "metadata": {
    "id": "a13943ac"
   },
   "source": [
    "## 1. Исследовательский анализ данных"
   ]
  },
  {
   "cell_type": "code",
   "execution_count": 5,
   "id": "01384faf",
   "metadata": {
    "colab": {
     "base_uri": "https://localhost:8080/",
     "height": 196
    },
    "executionInfo": {
     "elapsed": 5132,
     "status": "ok",
     "timestamp": 1694150522358,
     "user": {
      "displayName": "Андрей Медведев",
      "userId": "02560461935100345008"
     },
     "user_tz": -180
    },
    "id": "01384faf",
    "outputId": "5f78ee6e-5149-4efe-cbf4-cc31ce102881"
   },
   "outputs": [
    {
     "data": {
      "text/html": [
       "\n",
       "  <div id=\"df-d5dce7eb-7192-482c-8aed-45f1bd8b3442\" class=\"colab-df-container\">\n",
       "    <div>\n",
       "<style scoped>\n",
       "    .dataframe tbody tr th:only-of-type {\n",
       "        vertical-align: middle;\n",
       "    }\n",
       "\n",
       "    .dataframe tbody tr th {\n",
       "        vertical-align: top;\n",
       "    }\n",
       "\n",
       "    .dataframe thead th {\n",
       "        text-align: right;\n",
       "    }\n",
       "</style>\n",
       "<table border=\"1\" class=\"dataframe\">\n",
       "  <thead>\n",
       "    <tr style=\"text-align: right;\">\n",
       "      <th></th>\n",
       "      <th>year</th>\n",
       "      <th>make</th>\n",
       "      <th>model</th>\n",
       "      <th>trim</th>\n",
       "      <th>body</th>\n",
       "      <th>transmission</th>\n",
       "      <th>vin</th>\n",
       "      <th>state</th>\n",
       "      <th>condition</th>\n",
       "      <th>odometer</th>\n",
       "      <th>color</th>\n",
       "      <th>interior</th>\n",
       "      <th>seller</th>\n",
       "      <th>sellingprice</th>\n",
       "      <th>saledate</th>\n",
       "    </tr>\n",
       "  </thead>\n",
       "  <tbody>\n",
       "    <tr>\n",
       "      <th>317819</th>\n",
       "      <td>2011</td>\n",
       "      <td>Chevrolet</td>\n",
       "      <td>Silverado 1500</td>\n",
       "      <td>LS</td>\n",
       "      <td>Crew Cab</td>\n",
       "      <td>automatic</td>\n",
       "      <td>3gcpcrea9bg157780</td>\n",
       "      <td>nv</td>\n",
       "      <td>2.6</td>\n",
       "      <td>72549.0</td>\n",
       "      <td>—</td>\n",
       "      <td>black</td>\n",
       "      <td>henderson chevrolet company</td>\n",
       "      <td>17900</td>\n",
       "      <td>Thu Mar 05 2015 03:45:00 GMT-0800 (PST)</td>\n",
       "    </tr>\n",
       "    <tr>\n",
       "      <th>355249</th>\n",
       "      <td>2010</td>\n",
       "      <td>Chevrolet</td>\n",
       "      <td>Camaro</td>\n",
       "      <td>2SS</td>\n",
       "      <td>Coupe</td>\n",
       "      <td>manual</td>\n",
       "      <td>2g1ft1ew9a9142030</td>\n",
       "      <td>ca</td>\n",
       "      <td>2.8</td>\n",
       "      <td>61700.0</td>\n",
       "      <td>black</td>\n",
       "      <td>black</td>\n",
       "      <td>remarketing by ge/xpress rent a car</td>\n",
       "      <td>20500</td>\n",
       "      <td>Tue Jan 13 2015 12:00:00 GMT-0800 (PST)</td>\n",
       "    </tr>\n",
       "    <tr>\n",
       "      <th>314257</th>\n",
       "      <td>2013</td>\n",
       "      <td>Dodge</td>\n",
       "      <td>Grand Caravan</td>\n",
       "      <td>SXT</td>\n",
       "      <td>Minivan</td>\n",
       "      <td>automatic</td>\n",
       "      <td>2c4rdgcg5dr719317</td>\n",
       "      <td>nc</td>\n",
       "      <td>2.6</td>\n",
       "      <td>65000.0</td>\n",
       "      <td>blue</td>\n",
       "      <td>black</td>\n",
       "      <td>dtg operations inc</td>\n",
       "      <td>10800</td>\n",
       "      <td>Tue Jun 16 2015 02:15:00 GMT-0700 (PDT)</td>\n",
       "    </tr>\n",
       "  </tbody>\n",
       "</table>\n",
       "</div>\n",
       "    <div class=\"colab-df-buttons\">\n",
       "\n",
       "  <div class=\"colab-df-container\">\n",
       "    <button class=\"colab-df-convert\" onclick=\"convertToInteractive('df-d5dce7eb-7192-482c-8aed-45f1bd8b3442')\"\n",
       "            title=\"Convert this dataframe to an interactive table.\"\n",
       "            style=\"display:none;\">\n",
       "\n",
       "  <svg xmlns=\"http://www.w3.org/2000/svg\" height=\"24px\" viewBox=\"0 -960 960 960\">\n",
       "    <path d=\"M120-120v-720h720v720H120Zm60-500h600v-160H180v160Zm220 220h160v-160H400v160Zm0 220h160v-160H400v160ZM180-400h160v-160H180v160Zm440 0h160v-160H620v160ZM180-180h160v-160H180v160Zm440 0h160v-160H620v160Z\"/>\n",
       "  </svg>\n",
       "    </button>\n",
       "\n",
       "  <style>\n",
       "    .colab-df-container {\n",
       "      display:flex;\n",
       "      gap: 12px;\n",
       "    }\n",
       "\n",
       "    .colab-df-convert {\n",
       "      background-color: #E8F0FE;\n",
       "      border: none;\n",
       "      border-radius: 50%;\n",
       "      cursor: pointer;\n",
       "      display: none;\n",
       "      fill: #1967D2;\n",
       "      height: 32px;\n",
       "      padding: 0 0 0 0;\n",
       "      width: 32px;\n",
       "    }\n",
       "\n",
       "    .colab-df-convert:hover {\n",
       "      background-color: #E2EBFA;\n",
       "      box-shadow: 0px 1px 2px rgba(60, 64, 67, 0.3), 0px 1px 3px 1px rgba(60, 64, 67, 0.15);\n",
       "      fill: #174EA6;\n",
       "    }\n",
       "\n",
       "    .colab-df-buttons div {\n",
       "      margin-bottom: 4px;\n",
       "    }\n",
       "\n",
       "    [theme=dark] .colab-df-convert {\n",
       "      background-color: #3B4455;\n",
       "      fill: #D2E3FC;\n",
       "    }\n",
       "\n",
       "    [theme=dark] .colab-df-convert:hover {\n",
       "      background-color: #434B5C;\n",
       "      box-shadow: 0px 1px 3px 1px rgba(0, 0, 0, 0.15);\n",
       "      filter: drop-shadow(0px 1px 2px rgba(0, 0, 0, 0.3));\n",
       "      fill: #FFFFFF;\n",
       "    }\n",
       "  </style>\n",
       "\n",
       "    <script>\n",
       "      const buttonEl =\n",
       "        document.querySelector('#df-d5dce7eb-7192-482c-8aed-45f1bd8b3442 button.colab-df-convert');\n",
       "      buttonEl.style.display =\n",
       "        google.colab.kernel.accessAllowed ? 'block' : 'none';\n",
       "\n",
       "      async function convertToInteractive(key) {\n",
       "        const element = document.querySelector('#df-d5dce7eb-7192-482c-8aed-45f1bd8b3442');\n",
       "        const dataTable =\n",
       "          await google.colab.kernel.invokeFunction('convertToInteractive',\n",
       "                                                    [key], {});\n",
       "        if (!dataTable) return;\n",
       "\n",
       "        const docLinkHtml = 'Like what you see? Visit the ' +\n",
       "          '<a target=\"_blank\" href=https://colab.research.google.com/notebooks/data_table.ipynb>data table notebook</a>'\n",
       "          + ' to learn more about interactive tables.';\n",
       "        element.innerHTML = '';\n",
       "        dataTable['output_type'] = 'display_data';\n",
       "        await google.colab.output.renderOutput(dataTable, element);\n",
       "        const docLink = document.createElement('div');\n",
       "        docLink.innerHTML = docLinkHtml;\n",
       "        element.appendChild(docLink);\n",
       "      }\n",
       "    </script>\n",
       "  </div>\n",
       "\n",
       "\n",
       "<div id=\"df-8dd4c9d9-5928-4c16-923d-54161ef54601\">\n",
       "  <button class=\"colab-df-quickchart\" onclick=\"quickchart('df-8dd4c9d9-5928-4c16-923d-54161ef54601')\"\n",
       "            title=\"Suggest charts.\"\n",
       "            style=\"display:none;\">\n",
       "\n",
       "<svg xmlns=\"http://www.w3.org/2000/svg\" height=\"24px\"viewBox=\"0 0 24 24\"\n",
       "     width=\"24px\">\n",
       "    <g>\n",
       "        <path d=\"M19 3H5c-1.1 0-2 .9-2 2v14c0 1.1.9 2 2 2h14c1.1 0 2-.9 2-2V5c0-1.1-.9-2-2-2zM9 17H7v-7h2v7zm4 0h-2V7h2v10zm4 0h-2v-4h2v4z\"/>\n",
       "    </g>\n",
       "</svg>\n",
       "  </button>\n",
       "\n",
       "<style>\n",
       "  .colab-df-quickchart {\n",
       "      --bg-color: #E8F0FE;\n",
       "      --fill-color: #1967D2;\n",
       "      --hover-bg-color: #E2EBFA;\n",
       "      --hover-fill-color: #174EA6;\n",
       "      --disabled-fill-color: #AAA;\n",
       "      --disabled-bg-color: #DDD;\n",
       "  }\n",
       "\n",
       "  [theme=dark] .colab-df-quickchart {\n",
       "      --bg-color: #3B4455;\n",
       "      --fill-color: #D2E3FC;\n",
       "      --hover-bg-color: #434B5C;\n",
       "      --hover-fill-color: #FFFFFF;\n",
       "      --disabled-bg-color: #3B4455;\n",
       "      --disabled-fill-color: #666;\n",
       "  }\n",
       "\n",
       "  .colab-df-quickchart {\n",
       "    background-color: var(--bg-color);\n",
       "    border: none;\n",
       "    border-radius: 50%;\n",
       "    cursor: pointer;\n",
       "    display: none;\n",
       "    fill: var(--fill-color);\n",
       "    height: 32px;\n",
       "    padding: 0;\n",
       "    width: 32px;\n",
       "  }\n",
       "\n",
       "  .colab-df-quickchart:hover {\n",
       "    background-color: var(--hover-bg-color);\n",
       "    box-shadow: 0 1px 2px rgba(60, 64, 67, 0.3), 0 1px 3px 1px rgba(60, 64, 67, 0.15);\n",
       "    fill: var(--button-hover-fill-color);\n",
       "  }\n",
       "\n",
       "  .colab-df-quickchart-complete:disabled,\n",
       "  .colab-df-quickchart-complete:disabled:hover {\n",
       "    background-color: var(--disabled-bg-color);\n",
       "    fill: var(--disabled-fill-color);\n",
       "    box-shadow: none;\n",
       "  }\n",
       "\n",
       "  .colab-df-spinner {\n",
       "    border: 2px solid var(--fill-color);\n",
       "    border-color: transparent;\n",
       "    border-bottom-color: var(--fill-color);\n",
       "    animation:\n",
       "      spin 1s steps(1) infinite;\n",
       "  }\n",
       "\n",
       "  @keyframes spin {\n",
       "    0% {\n",
       "      border-color: transparent;\n",
       "      border-bottom-color: var(--fill-color);\n",
       "      border-left-color: var(--fill-color);\n",
       "    }\n",
       "    20% {\n",
       "      border-color: transparent;\n",
       "      border-left-color: var(--fill-color);\n",
       "      border-top-color: var(--fill-color);\n",
       "    }\n",
       "    30% {\n",
       "      border-color: transparent;\n",
       "      border-left-color: var(--fill-color);\n",
       "      border-top-color: var(--fill-color);\n",
       "      border-right-color: var(--fill-color);\n",
       "    }\n",
       "    40% {\n",
       "      border-color: transparent;\n",
       "      border-right-color: var(--fill-color);\n",
       "      border-top-color: var(--fill-color);\n",
       "    }\n",
       "    60% {\n",
       "      border-color: transparent;\n",
       "      border-right-color: var(--fill-color);\n",
       "    }\n",
       "    80% {\n",
       "      border-color: transparent;\n",
       "      border-right-color: var(--fill-color);\n",
       "      border-bottom-color: var(--fill-color);\n",
       "    }\n",
       "    90% {\n",
       "      border-color: transparent;\n",
       "      border-bottom-color: var(--fill-color);\n",
       "    }\n",
       "  }\n",
       "</style>\n",
       "\n",
       "  <script>\n",
       "    async function quickchart(key) {\n",
       "      const quickchartButtonEl =\n",
       "        document.querySelector('#' + key + ' button');\n",
       "      quickchartButtonEl.disabled = true;  // To prevent multiple clicks.\n",
       "      quickchartButtonEl.classList.add('colab-df-spinner');\n",
       "      try {\n",
       "        const charts = await google.colab.kernel.invokeFunction(\n",
       "            'suggestCharts', [key], {});\n",
       "      } catch (error) {\n",
       "        console.error('Error during call to suggestCharts:', error);\n",
       "      }\n",
       "      quickchartButtonEl.classList.remove('colab-df-spinner');\n",
       "      quickchartButtonEl.classList.add('colab-df-quickchart-complete');\n",
       "    }\n",
       "    (() => {\n",
       "      let quickchartButtonEl =\n",
       "        document.querySelector('#df-8dd4c9d9-5928-4c16-923d-54161ef54601 button');\n",
       "      quickchartButtonEl.style.display =\n",
       "        google.colab.kernel.accessAllowed ? 'block' : 'none';\n",
       "    })();\n",
       "  </script>\n",
       "</div>\n",
       "    </div>\n",
       "  </div>\n"
      ],
      "text/plain": [
       "        year       make           model trim      body transmission  \\\n",
       "317819  2011  Chevrolet  Silverado 1500   LS  Crew Cab    automatic   \n",
       "355249  2010  Chevrolet          Camaro  2SS     Coupe       manual   \n",
       "314257  2013      Dodge   Grand Caravan  SXT   Minivan    automatic   \n",
       "\n",
       "                      vin state  condition  odometer  color interior  \\\n",
       "317819  3gcpcrea9bg157780    nv        2.6   72549.0      —    black   \n",
       "355249  2g1ft1ew9a9142030    ca        2.8   61700.0  black    black   \n",
       "314257  2c4rdgcg5dr719317    nc        2.6   65000.0   blue    black   \n",
       "\n",
       "                                     seller  sellingprice  \\\n",
       "317819          henderson chevrolet company         17900   \n",
       "355249  remarketing by ge/xpress rent a car         20500   \n",
       "314257                   dtg operations inc         10800   \n",
       "\n",
       "                                       saledate  \n",
       "317819  Thu Mar 05 2015 03:45:00 GMT-0800 (PST)  \n",
       "355249  Tue Jan 13 2015 12:00:00 GMT-0800 (PST)  \n",
       "314257  Tue Jun 16 2015 02:15:00 GMT-0700 (PDT)  "
      ]
     },
     "execution_count": 5,
     "metadata": {},
     "output_type": "execute_result"
    }
   ],
   "source": [
    "#прочитаем данные train\n",
    "#read train\n",
    "patch = os.path.join(DATA_PATH, 'train.csv')\n",
    "train = pd.read_csv(patch)\n",
    "train.sample(3)"
   ]
  },
  {
   "cell_type": "code",
   "execution_count": 6,
   "id": "62476e7d",
   "metadata": {
    "colab": {
     "base_uri": "https://localhost:8080/"
    },
    "executionInfo": {
     "elapsed": 1827,
     "status": "ok",
     "timestamp": 1694150524174,
     "user": {
      "displayName": "Андрей Медведев",
      "userId": "02560461935100345008"
     },
     "user_tz": -180
    },
    "id": "62476e7d",
    "outputId": "9583a7ae-50f7-460d-89c9-b1d456a232a0"
   },
   "outputs": [
    {
     "name": "stdout",
     "output_type": "stream",
     "text": [
      "<class 'pandas.core.frame.DataFrame'>\n",
      "RangeIndex: 440236 entries, 0 to 440235\n",
      "Data columns (total 15 columns):\n",
      " #   Column        Non-Null Count   Dtype  \n",
      "---  ------        --------------   -----  \n",
      " 0   year          440236 non-null  int64  \n",
      " 1   make          432193 non-null  object \n",
      " 2   model         432113 non-null  object \n",
      " 3   trim          431899 non-null  object \n",
      " 4   body          429843 non-null  object \n",
      " 5   transmission  388775 non-null  object \n",
      " 6   vin           440236 non-null  object \n",
      " 7   state         440236 non-null  object \n",
      " 8   condition     430831 non-null  float64\n",
      " 9   odometer      440167 non-null  float64\n",
      " 10  color         439650 non-null  object \n",
      " 11  interior      439650 non-null  object \n",
      " 12  seller        440236 non-null  object \n",
      " 13  sellingprice  440236 non-null  int64  \n",
      " 14  saledate      440236 non-null  object \n",
      "dtypes: float64(2), int64(2), object(11)\n",
      "memory usage: 325.9 MB\n"
     ]
    }
   ],
   "source": [
    "train.info(memory_usage='deep')"
   ]
  },
  {
   "cell_type": "code",
   "execution_count": 7,
   "id": "94630dd1",
   "metadata": {
    "colab": {
     "base_uri": "https://localhost:8080/"
    },
    "executionInfo": {
     "elapsed": 1752,
     "status": "ok",
     "timestamp": 1694150525924,
     "user": {
      "displayName": "Андрей Медведев",
      "userId": "02560461935100345008"
     },
     "user_tz": -180
    },
    "id": "94630dd1",
    "outputId": "90b242ab-1daa-4390-88cf-0a8a7bd340e3"
   },
   "outputs": [
    {
     "data": {
      "text/plain": [
       "0"
      ]
     },
     "execution_count": 7,
     "metadata": {},
     "output_type": "execute_result"
    }
   ],
   "source": [
    "#проверка дубликатов строк\n",
    "#checking for duplicate rows\n",
    "train.duplicated().sum()"
   ]
  },
  {
   "cell_type": "code",
   "execution_count": 8,
   "id": "28f4fc77",
   "metadata": {
    "colab": {
     "base_uri": "https://localhost:8080/"
    },
    "executionInfo": {
     "elapsed": 2287,
     "status": "ok",
     "timestamp": 1694150528210,
     "user": {
      "displayName": "Андрей Медведев",
      "userId": "02560461935100345008"
     },
     "user_tz": -180
    },
    "id": "28f4fc77",
    "outputId": "bcae367c-b447-4862-b010-d54744ed5945"
   },
   "outputs": [
    {
     "data": {
      "text/plain": [
       "year                0\n",
       "make             8043\n",
       "model            8123\n",
       "trim             8337\n",
       "body            10393\n",
       "transmission    51461\n",
       "vin                 0\n",
       "state               0\n",
       "condition        9405\n",
       "odometer           69\n",
       "color             586\n",
       "interior          586\n",
       "seller              0\n",
       "sellingprice        0\n",
       "saledate            0\n",
       "dtype: int64"
      ]
     },
     "execution_count": 8,
     "metadata": {},
     "output_type": "execute_result"
    }
   ],
   "source": [
    "#просмотр пропущенных значений\n",
    "#view missing values\n",
    "train.isna().sum()"
   ]
  },
  {
   "cell_type": "code",
   "execution_count": 9,
   "id": "e63a1d47",
   "metadata": {
    "colab": {
     "base_uri": "https://localhost:8080/"
    },
    "executionInfo": {
     "elapsed": 1746,
     "status": "ok",
     "timestamp": 1694150529953,
     "user": {
      "displayName": "Андрей Медведев",
      "userId": "02560461935100345008"
     },
     "user_tz": -180
    },
    "id": "e63a1d47",
    "outputId": "70047484-00b4-43b3-f43d-befd75140a87"
   },
   "outputs": [
    {
     "data": {
      "text/plain": [
       "year                0\n",
       "make                0\n",
       "model              80\n",
       "trim              294\n",
       "body             2350\n",
       "transmission    50075\n",
       "vin                 0\n",
       "state               0\n",
       "condition        9339\n",
       "odometer           67\n",
       "color             572\n",
       "interior          572\n",
       "seller              0\n",
       "sellingprice        0\n",
       "saledate            0\n",
       "dtype: int64"
      ]
     },
     "execution_count": 9,
     "metadata": {},
     "output_type": "execute_result"
    }
   ],
   "source": [
    "#view missing values for non-empty column 'make'\n",
    "train.loc[~train.make.isna()].isna().sum()"
   ]
  },
  {
   "cell_type": "markdown",
   "id": "ESLjBImJiXI9",
   "metadata": {
    "id": "ESLjBImJiXI9"
   },
   "source": [
    "То есть большинство пропусков одновременно в нескольких столбцах\n",
    "\n",
    "That is, most of the gaps are in several columns at the same time"
   ]
  },
  {
   "cell_type": "code",
   "execution_count": 10,
   "id": "cc0fa986",
   "metadata": {
    "colab": {
     "base_uri": "https://localhost:8080/",
     "height": 143
    },
    "executionInfo": {
     "elapsed": 1765,
     "status": "ok",
     "timestamp": 1694150531716,
     "user": {
      "displayName": "Андрей Медведев",
      "userId": "02560461935100345008"
     },
     "user_tz": -180
    },
    "id": "cc0fa986",
    "outputId": "6a4fc15c-d40d-44ce-ff6d-4b6f9252f91f",
    "scrolled": true
   },
   "outputs": [
    {
     "data": {
      "text/html": [
       "\n",
       "  <div id=\"df-f7658d3d-e34b-404f-9a97-f1118dc35a3e\" class=\"colab-df-container\">\n",
       "    <div>\n",
       "<style scoped>\n",
       "    .dataframe tbody tr th:only-of-type {\n",
       "        vertical-align: middle;\n",
       "    }\n",
       "\n",
       "    .dataframe tbody tr th {\n",
       "        vertical-align: top;\n",
       "    }\n",
       "\n",
       "    .dataframe thead th {\n",
       "        text-align: right;\n",
       "    }\n",
       "</style>\n",
       "<table border=\"1\" class=\"dataframe\">\n",
       "  <thead>\n",
       "    <tr style=\"text-align: right;\">\n",
       "      <th></th>\n",
       "      <th>year</th>\n",
       "      <th>make</th>\n",
       "      <th>model</th>\n",
       "      <th>trim</th>\n",
       "      <th>body</th>\n",
       "      <th>transmission</th>\n",
       "      <th>vin</th>\n",
       "      <th>state</th>\n",
       "      <th>condition</th>\n",
       "      <th>odometer</th>\n",
       "      <th>color</th>\n",
       "      <th>interior</th>\n",
       "      <th>seller</th>\n",
       "      <th>saledate</th>\n",
       "    </tr>\n",
       "  </thead>\n",
       "  <tbody>\n",
       "    <tr>\n",
       "      <th>97970</th>\n",
       "      <td>2012</td>\n",
       "      <td>Toyota</td>\n",
       "      <td>RAV4</td>\n",
       "      <td>Base</td>\n",
       "      <td>suv</td>\n",
       "      <td>automatic</td>\n",
       "      <td>2t3bf4dv1cw207856</td>\n",
       "      <td>nj</td>\n",
       "      <td>3.4</td>\n",
       "      <td>24707.0</td>\n",
       "      <td>brown</td>\n",
       "      <td>beige</td>\n",
       "      <td>hudson toyota</td>\n",
       "      <td>Wed Jun 03 2015 02:30:00 GMT-0700 (PDT)</td>\n",
       "    </tr>\n",
       "    <tr>\n",
       "      <th>33465</th>\n",
       "      <td>2011</td>\n",
       "      <td>Honda</td>\n",
       "      <td>Odyssey</td>\n",
       "      <td>EX-L</td>\n",
       "      <td>Minivan</td>\n",
       "      <td>automatic</td>\n",
       "      <td>5fnrl5h66bb093681</td>\n",
       "      <td>pa</td>\n",
       "      <td>3.5</td>\n",
       "      <td>34459.0</td>\n",
       "      <td>black</td>\n",
       "      <td>gray</td>\n",
       "      <td>ahfc/honda lease trust/hvt, inc.</td>\n",
       "      <td>Fri Feb 06 2015 01:00:00 GMT-0800 (PST)</td>\n",
       "    </tr>\n",
       "    <tr>\n",
       "      <th>69969</th>\n",
       "      <td>2014</td>\n",
       "      <td>Nissan</td>\n",
       "      <td>Altima</td>\n",
       "      <td>2.5</td>\n",
       "      <td>Sedan</td>\n",
       "      <td>automatic</td>\n",
       "      <td>1n4al3ap2ec186564</td>\n",
       "      <td>ca</td>\n",
       "      <td>3.7</td>\n",
       "      <td>16557.0</td>\n",
       "      <td>white</td>\n",
       "      <td>black</td>\n",
       "      <td>nissan motor acceptance corporation</td>\n",
       "      <td>Wed Feb 11 2015 04:30:00 GMT-0800 (PST)</td>\n",
       "    </tr>\n",
       "  </tbody>\n",
       "</table>\n",
       "</div>\n",
       "    <div class=\"colab-df-buttons\">\n",
       "\n",
       "  <div class=\"colab-df-container\">\n",
       "    <button class=\"colab-df-convert\" onclick=\"convertToInteractive('df-f7658d3d-e34b-404f-9a97-f1118dc35a3e')\"\n",
       "            title=\"Convert this dataframe to an interactive table.\"\n",
       "            style=\"display:none;\">\n",
       "\n",
       "  <svg xmlns=\"http://www.w3.org/2000/svg\" height=\"24px\" viewBox=\"0 -960 960 960\">\n",
       "    <path d=\"M120-120v-720h720v720H120Zm60-500h600v-160H180v160Zm220 220h160v-160H400v160Zm0 220h160v-160H400v160ZM180-400h160v-160H180v160Zm440 0h160v-160H620v160ZM180-180h160v-160H180v160Zm440 0h160v-160H620v160Z\"/>\n",
       "  </svg>\n",
       "    </button>\n",
       "\n",
       "  <style>\n",
       "    .colab-df-container {\n",
       "      display:flex;\n",
       "      gap: 12px;\n",
       "    }\n",
       "\n",
       "    .colab-df-convert {\n",
       "      background-color: #E8F0FE;\n",
       "      border: none;\n",
       "      border-radius: 50%;\n",
       "      cursor: pointer;\n",
       "      display: none;\n",
       "      fill: #1967D2;\n",
       "      height: 32px;\n",
       "      padding: 0 0 0 0;\n",
       "      width: 32px;\n",
       "    }\n",
       "\n",
       "    .colab-df-convert:hover {\n",
       "      background-color: #E2EBFA;\n",
       "      box-shadow: 0px 1px 2px rgba(60, 64, 67, 0.3), 0px 1px 3px 1px rgba(60, 64, 67, 0.15);\n",
       "      fill: #174EA6;\n",
       "    }\n",
       "\n",
       "    .colab-df-buttons div {\n",
       "      margin-bottom: 4px;\n",
       "    }\n",
       "\n",
       "    [theme=dark] .colab-df-convert {\n",
       "      background-color: #3B4455;\n",
       "      fill: #D2E3FC;\n",
       "    }\n",
       "\n",
       "    [theme=dark] .colab-df-convert:hover {\n",
       "      background-color: #434B5C;\n",
       "      box-shadow: 0px 1px 3px 1px rgba(0, 0, 0, 0.15);\n",
       "      filter: drop-shadow(0px 1px 2px rgba(0, 0, 0, 0.3));\n",
       "      fill: #FFFFFF;\n",
       "    }\n",
       "  </style>\n",
       "\n",
       "    <script>\n",
       "      const buttonEl =\n",
       "        document.querySelector('#df-f7658d3d-e34b-404f-9a97-f1118dc35a3e button.colab-df-convert');\n",
       "      buttonEl.style.display =\n",
       "        google.colab.kernel.accessAllowed ? 'block' : 'none';\n",
       "\n",
       "      async function convertToInteractive(key) {\n",
       "        const element = document.querySelector('#df-f7658d3d-e34b-404f-9a97-f1118dc35a3e');\n",
       "        const dataTable =\n",
       "          await google.colab.kernel.invokeFunction('convertToInteractive',\n",
       "                                                    [key], {});\n",
       "        if (!dataTable) return;\n",
       "\n",
       "        const docLinkHtml = 'Like what you see? Visit the ' +\n",
       "          '<a target=\"_blank\" href=https://colab.research.google.com/notebooks/data_table.ipynb>data table notebook</a>'\n",
       "          + ' to learn more about interactive tables.';\n",
       "        element.innerHTML = '';\n",
       "        dataTable['output_type'] = 'display_data';\n",
       "        await google.colab.output.renderOutput(dataTable, element);\n",
       "        const docLink = document.createElement('div');\n",
       "        docLink.innerHTML = docLinkHtml;\n",
       "        element.appendChild(docLink);\n",
       "      }\n",
       "    </script>\n",
       "  </div>\n",
       "\n",
       "\n",
       "<div id=\"df-35c27b7c-bf81-4bbd-97fa-05dd733a0f4c\">\n",
       "  <button class=\"colab-df-quickchart\" onclick=\"quickchart('df-35c27b7c-bf81-4bbd-97fa-05dd733a0f4c')\"\n",
       "            title=\"Suggest charts.\"\n",
       "            style=\"display:none;\">\n",
       "\n",
       "<svg xmlns=\"http://www.w3.org/2000/svg\" height=\"24px\"viewBox=\"0 0 24 24\"\n",
       "     width=\"24px\">\n",
       "    <g>\n",
       "        <path d=\"M19 3H5c-1.1 0-2 .9-2 2v14c0 1.1.9 2 2 2h14c1.1 0 2-.9 2-2V5c0-1.1-.9-2-2-2zM9 17H7v-7h2v7zm4 0h-2V7h2v10zm4 0h-2v-4h2v4z\"/>\n",
       "    </g>\n",
       "</svg>\n",
       "  </button>\n",
       "\n",
       "<style>\n",
       "  .colab-df-quickchart {\n",
       "      --bg-color: #E8F0FE;\n",
       "      --fill-color: #1967D2;\n",
       "      --hover-bg-color: #E2EBFA;\n",
       "      --hover-fill-color: #174EA6;\n",
       "      --disabled-fill-color: #AAA;\n",
       "      --disabled-bg-color: #DDD;\n",
       "  }\n",
       "\n",
       "  [theme=dark] .colab-df-quickchart {\n",
       "      --bg-color: #3B4455;\n",
       "      --fill-color: #D2E3FC;\n",
       "      --hover-bg-color: #434B5C;\n",
       "      --hover-fill-color: #FFFFFF;\n",
       "      --disabled-bg-color: #3B4455;\n",
       "      --disabled-fill-color: #666;\n",
       "  }\n",
       "\n",
       "  .colab-df-quickchart {\n",
       "    background-color: var(--bg-color);\n",
       "    border: none;\n",
       "    border-radius: 50%;\n",
       "    cursor: pointer;\n",
       "    display: none;\n",
       "    fill: var(--fill-color);\n",
       "    height: 32px;\n",
       "    padding: 0;\n",
       "    width: 32px;\n",
       "  }\n",
       "\n",
       "  .colab-df-quickchart:hover {\n",
       "    background-color: var(--hover-bg-color);\n",
       "    box-shadow: 0 1px 2px rgba(60, 64, 67, 0.3), 0 1px 3px 1px rgba(60, 64, 67, 0.15);\n",
       "    fill: var(--button-hover-fill-color);\n",
       "  }\n",
       "\n",
       "  .colab-df-quickchart-complete:disabled,\n",
       "  .colab-df-quickchart-complete:disabled:hover {\n",
       "    background-color: var(--disabled-bg-color);\n",
       "    fill: var(--disabled-fill-color);\n",
       "    box-shadow: none;\n",
       "  }\n",
       "\n",
       "  .colab-df-spinner {\n",
       "    border: 2px solid var(--fill-color);\n",
       "    border-color: transparent;\n",
       "    border-bottom-color: var(--fill-color);\n",
       "    animation:\n",
       "      spin 1s steps(1) infinite;\n",
       "  }\n",
       "\n",
       "  @keyframes spin {\n",
       "    0% {\n",
       "      border-color: transparent;\n",
       "      border-bottom-color: var(--fill-color);\n",
       "      border-left-color: var(--fill-color);\n",
       "    }\n",
       "    20% {\n",
       "      border-color: transparent;\n",
       "      border-left-color: var(--fill-color);\n",
       "      border-top-color: var(--fill-color);\n",
       "    }\n",
       "    30% {\n",
       "      border-color: transparent;\n",
       "      border-left-color: var(--fill-color);\n",
       "      border-top-color: var(--fill-color);\n",
       "      border-right-color: var(--fill-color);\n",
       "    }\n",
       "    40% {\n",
       "      border-color: transparent;\n",
       "      border-right-color: var(--fill-color);\n",
       "      border-top-color: var(--fill-color);\n",
       "    }\n",
       "    60% {\n",
       "      border-color: transparent;\n",
       "      border-right-color: var(--fill-color);\n",
       "    }\n",
       "    80% {\n",
       "      border-color: transparent;\n",
       "      border-right-color: var(--fill-color);\n",
       "      border-bottom-color: var(--fill-color);\n",
       "    }\n",
       "    90% {\n",
       "      border-color: transparent;\n",
       "      border-bottom-color: var(--fill-color);\n",
       "    }\n",
       "  }\n",
       "</style>\n",
       "\n",
       "  <script>\n",
       "    async function quickchart(key) {\n",
       "      const quickchartButtonEl =\n",
       "        document.querySelector('#' + key + ' button');\n",
       "      quickchartButtonEl.disabled = true;  // To prevent multiple clicks.\n",
       "      quickchartButtonEl.classList.add('colab-df-spinner');\n",
       "      try {\n",
       "        const charts = await google.colab.kernel.invokeFunction(\n",
       "            'suggestCharts', [key], {});\n",
       "      } catch (error) {\n",
       "        console.error('Error during call to suggestCharts:', error);\n",
       "      }\n",
       "      quickchartButtonEl.classList.remove('colab-df-spinner');\n",
       "      quickchartButtonEl.classList.add('colab-df-quickchart-complete');\n",
       "    }\n",
       "    (() => {\n",
       "      let quickchartButtonEl =\n",
       "        document.querySelector('#df-35c27b7c-bf81-4bbd-97fa-05dd733a0f4c button');\n",
       "      quickchartButtonEl.style.display =\n",
       "        google.colab.kernel.accessAllowed ? 'block' : 'none';\n",
       "    })();\n",
       "  </script>\n",
       "</div>\n",
       "    </div>\n",
       "  </div>\n"
      ],
      "text/plain": [
       "       year    make    model  trim     body transmission                vin  \\\n",
       "97970  2012  Toyota     RAV4  Base      suv    automatic  2t3bf4dv1cw207856   \n",
       "33465  2011   Honda  Odyssey  EX-L  Minivan    automatic  5fnrl5h66bb093681   \n",
       "69969  2014  Nissan   Altima   2.5    Sedan    automatic  1n4al3ap2ec186564   \n",
       "\n",
       "      state  condition  odometer  color interior  \\\n",
       "97970    nj        3.4   24707.0  brown    beige   \n",
       "33465    pa        3.5   34459.0  black     gray   \n",
       "69969    ca        3.7   16557.0  white    black   \n",
       "\n",
       "                                    seller  \\\n",
       "97970                        hudson toyota   \n",
       "33465     ahfc/honda lease trust/hvt, inc.   \n",
       "69969  nissan motor acceptance corporation   \n",
       "\n",
       "                                      saledate  \n",
       "97970  Wed Jun 03 2015 02:30:00 GMT-0700 (PDT)  \n",
       "33465  Fri Feb 06 2015 01:00:00 GMT-0800 (PST)  \n",
       "69969  Wed Feb 11 2015 04:30:00 GMT-0800 (PST)  "
      ]
     },
     "execution_count": 10,
     "metadata": {},
     "output_type": "execute_result"
    }
   ],
   "source": [
    "#прочитаем данные test\n",
    "#read test data\n",
    "patch = os.path.join(DATA_PATH, 'test.csv')\n",
    "test = pd.read_csv(patch)\n",
    "test.sample(3)"
   ]
  },
  {
   "cell_type": "code",
   "execution_count": 11,
   "id": "7bf71fd8",
   "metadata": {
    "colab": {
     "base_uri": "https://localhost:8080/"
    },
    "executionInfo": {
     "elapsed": 29,
     "status": "ok",
     "timestamp": 1694150531717,
     "user": {
      "displayName": "Андрей Медведев",
      "userId": "02560461935100345008"
     },
     "user_tz": -180
    },
    "id": "7bf71fd8",
    "outputId": "6925fcf8-16e4-42c3-8aa2-991ae1114ac4"
   },
   "outputs": [
    {
     "data": {
      "text/plain": [
       "0"
      ]
     },
     "execution_count": 11,
     "metadata": {},
     "output_type": "execute_result"
    }
   ],
   "source": [
    "#проверка дубликатов строк\n",
    "#checking for duplicate rows test\n",
    "test.duplicated().sum()"
   ]
  },
  {
   "cell_type": "code",
   "execution_count": 12,
   "id": "42cbebc9",
   "metadata": {
    "colab": {
     "base_uri": "https://localhost:8080/"
    },
    "executionInfo": {
     "elapsed": 1217,
     "status": "ok",
     "timestamp": 1694150532927,
     "user": {
      "displayName": "Андрей Медведев",
      "userId": "02560461935100345008"
     },
     "user_tz": -180
    },
    "id": "42cbebc9",
    "outputId": "8b2d5a70-b355-4e59-e324-1f7da8447440"
   },
   "outputs": [
    {
     "data": {
      "text/plain": [
       "year                0\n",
       "make             2061\n",
       "model            2079\n",
       "trim             2114\n",
       "body             2594\n",
       "transmission    13011\n",
       "vin                 0\n",
       "state               0\n",
       "condition        2379\n",
       "odometer           19\n",
       "color             158\n",
       "interior          158\n",
       "seller              0\n",
       "saledate            0\n",
       "dtype: int64"
      ]
     },
     "execution_count": 12,
     "metadata": {},
     "output_type": "execute_result"
    }
   ],
   "source": [
    "#просмотр пропущенных значений\n",
    "#view missing values test data\n",
    "test.isna().sum()"
   ]
  },
  {
   "cell_type": "code",
   "execution_count": 13,
   "id": "256fe1a8",
   "metadata": {
    "colab": {
     "base_uri": "https://localhost:8080/"
    },
    "executionInfo": {
     "elapsed": 1264,
     "status": "ok",
     "timestamp": 1694150534187,
     "user": {
      "displayName": "Андрей Медведев",
      "userId": "02560461935100345008"
     },
     "user_tz": -180
    },
    "id": "256fe1a8",
    "outputId": "faeaf433-9a0c-4fd3-ce8f-d7efd5c1af5a"
   },
   "outputs": [
    {
     "data": {
      "text/plain": [
       "year                0\n",
       "make                0\n",
       "model               0\n",
       "trim               53\n",
       "body              533\n",
       "transmission    12655\n",
       "vin                 0\n",
       "state               0\n",
       "condition        2358\n",
       "odometer           18\n",
       "color             157\n",
       "interior          157\n",
       "seller              0\n",
       "saledate            0\n",
       "dtype: int64"
      ]
     },
     "execution_count": 13,
     "metadata": {},
     "output_type": "execute_result"
    }
   ],
   "source": [
    "test.loc[(~test.make.isna())&(~test.model.isna())].isna().sum()"
   ]
  },
  {
   "cell_type": "markdown",
   "id": "BBVKS8phisAw",
   "metadata": {
    "id": "BBVKS8phisAw"
   },
   "source": [
    "Подобная картина с пропусками и в датасете тест\n",
    "\n",
    "A similar picture with gaps in the test dataset"
   ]
  },
  {
   "cell_type": "code",
   "execution_count": 13,
   "id": "5c59e3bd",
   "metadata": {
    "executionInfo": {
     "elapsed": 24,
     "status": "ok",
     "timestamp": 1694150534188,
     "user": {
      "displayName": "Андрей Медведев",
      "userId": "02560461935100345008"
     },
     "user_tz": -180
    },
    "id": "5c59e3bd"
   },
   "outputs": [],
   "source": []
  },
  {
   "cell_type": "code",
   "execution_count": 246,
   "id": "99040068",
   "metadata": {
    "executionInfo": {
     "elapsed": 356,
     "status": "ok",
     "timestamp": 1694161037325,
     "user": {
      "displayName": "Андрей Медведев",
      "userId": "02560461935100345008"
     },
     "user_tz": -180
    },
    "id": "99040068"
   },
   "outputs": [],
   "source": [
    "#проверка работы вин декодера\n",
    "#check vin decoder\n",
    "v_i_n = 'KNDJH741685009910'.upper()"
   ]
  },
  {
   "cell_type": "code",
   "execution_count": 15,
   "id": "a6e99dc5",
   "metadata": {
    "colab": {
     "base_uri": "https://localhost:8080/"
    },
    "executionInfo": {
     "elapsed": 539,
     "status": "ok",
     "timestamp": 1694150534706,
     "user": {
      "displayName": "Андрей Медведев",
      "userId": "02560461935100345008"
     },
     "user_tz": -180
    },
    "id": "a6e99dc5",
    "outputId": "a658197a-a8e9-44ab-d8fd-2e44be9c7d38"
   },
   "outputs": [
    {
     "name": "stderr",
     "output_type": "stream",
     "text": [
      "DEBUG:root:%s check [OK]\n",
      "DEBUG:urllib3.connectionpool:Starting new HTTPS connection (1): vpic.nhtsa.dot.gov:443\n",
      "DEBUG:urllib3.connectionpool:https://vpic.nhtsa.dot.gov:443 \"POST /api/vehicles/DecodeVINValuesBatch/ HTTP/1.1\" 200 2014\n"
     ]
    }
   ],
   "source": [
    "vehicle = VIN(v_i_n)"
   ]
  },
  {
   "cell_type": "code",
   "execution_count": 16,
   "id": "90e28dfd",
   "metadata": {
    "colab": {
     "base_uri": "https://localhost:8080/"
    },
    "executionInfo": {
     "elapsed": 6,
     "status": "ok",
     "timestamp": 1694150534706,
     "user": {
      "displayName": "Андрей Медведев",
      "userId": "02560461935100345008"
     },
     "user_tz": -180
    },
    "id": "90e28dfd",
    "outputId": "c63563d6-d0fb-4073-9db1-f6d23ef326b5"
   },
   "outputs": [
    {
     "data": {
      "text/plain": [
       "('',\n",
       " '',\n",
       " '2008',\n",
       " '',\n",
       " '4',\n",
       " '',\n",
       " '',\n",
       " 'Sport Utility Vehicle (SUV)/Multi-Purpose Vehicle (MPV)',\n",
       " '',\n",
       " 'MULTIPURPOSE PASSENGER VEHICLE (MPV)',\n",
       " '',\n",
       " '')"
      ]
     },
     "execution_count": 16,
     "metadata": {},
     "output_type": "execute_result"
    }
   ],
   "source": [
    "(vehicle.Make,\n",
    " vehicle.Model,\n",
    " vehicle.ModelYear,\n",
    " vehicle.Series,\n",
    " vehicle.Doors,\n",
    " vehicle.EngineHP,\n",
    " vehicle.AirBagLocFront,\n",
    " vehicle.BodyClass,\n",
    " vehicle.FuelTypePrimary,\n",
    " #vehicle.OtherEngineInfo,\n",
    " vehicle.VehicleType,\n",
    " vehicle.DisplacementCC,\n",
    " vehicle.EngineCylinders,\n",
    " #vehicle.SeatBeltsAll\n",
    ")"
   ]
  },
  {
   "cell_type": "code",
   "execution_count": 17,
   "id": "6f9a3411",
   "metadata": {
    "colab": {
     "base_uri": "https://localhost:8080/"
    },
    "executionInfo": {
     "elapsed": 945,
     "status": "ok",
     "timestamp": 1694150536380,
     "user": {
      "displayName": "Андрей Медведев",
      "userId": "02560461935100345008"
     },
     "user_tz": -180
    },
    "id": "6f9a3411",
    "outputId": "864784b3-fe07-4274-a4c6-191188d5e8cf"
   },
   "outputs": [
    {
     "name": "stdout",
     "output_type": "stream",
     "text": [
      "<class 'pandas.core.frame.DataFrame'>\n",
      "RangeIndex: 110058 entries, 0 to 110057\n",
      "Data columns (total 14 columns):\n",
      " #   Column        Non-Null Count   Dtype  \n",
      "---  ------        --------------   -----  \n",
      " 0   year          110058 non-null  int64  \n",
      " 1   make          107997 non-null  object \n",
      " 2   model         107979 non-null  object \n",
      " 3   trim          107944 non-null  object \n",
      " 4   body          107464 non-null  object \n",
      " 5   transmission  97047 non-null   object \n",
      " 6   vin           110058 non-null  object \n",
      " 7   state         110058 non-null  object \n",
      " 8   condition     107679 non-null  float64\n",
      " 9   odometer      110039 non-null  float64\n",
      " 10  color         109900 non-null  object \n",
      " 11  interior      109900 non-null  object \n",
      " 12  seller        110058 non-null  object \n",
      " 13  saledate      110058 non-null  object \n",
      "dtypes: float64(2), int64(1), object(11)\n",
      "memory usage: 80.6 MB\n"
     ]
    }
   ],
   "source": [
    "test.info(memory_usage='deep')"
   ]
  },
  {
   "cell_type": "code",
   "execution_count": 18,
   "id": "83e3f12e",
   "metadata": {
    "colab": {
     "base_uri": "https://localhost:8080/",
     "height": 206
    },
    "executionInfo": {
     "elapsed": 751,
     "status": "ok",
     "timestamp": 1694150537125,
     "user": {
      "displayName": "Андрей Медведев",
      "userId": "02560461935100345008"
     },
     "user_tz": -180
    },
    "id": "83e3f12e",
    "outputId": "4ad0c52f-551f-453f-c1a1-c48d5ea5a077"
   },
   "outputs": [
    {
     "data": {
      "text/html": [
       "\n",
       "  <div id=\"df-938c1856-2c1f-48b7-847b-3f0db95cdcaf\" class=\"colab-df-container\">\n",
       "    <div>\n",
       "<style scoped>\n",
       "    .dataframe tbody tr th:only-of-type {\n",
       "        vertical-align: middle;\n",
       "    }\n",
       "\n",
       "    .dataframe tbody tr th {\n",
       "        vertical-align: top;\n",
       "    }\n",
       "\n",
       "    .dataframe thead th {\n",
       "        text-align: right;\n",
       "    }\n",
       "</style>\n",
       "<table border=\"1\" class=\"dataframe\">\n",
       "  <thead>\n",
       "    <tr style=\"text-align: right;\">\n",
       "      <th></th>\n",
       "      <th>vin</th>\n",
       "      <th>sellingprice</th>\n",
       "    </tr>\n",
       "  </thead>\n",
       "  <tbody>\n",
       "    <tr>\n",
       "      <th>78180</th>\n",
       "      <td>2g1wc5e35d1183190</td>\n",
       "      <td>13592.209588</td>\n",
       "    </tr>\n",
       "    <tr>\n",
       "      <th>21130</th>\n",
       "      <td>kmhfh4jg1ea342642</td>\n",
       "      <td>13592.209588</td>\n",
       "    </tr>\n",
       "    <tr>\n",
       "      <th>50551</th>\n",
       "      <td>1n4aa5ap5cc800103</td>\n",
       "      <td>13592.209588</td>\n",
       "    </tr>\n",
       "    <tr>\n",
       "      <th>105823</th>\n",
       "      <td>2c3ka53v89h634633</td>\n",
       "      <td>13592.209588</td>\n",
       "    </tr>\n",
       "    <tr>\n",
       "      <th>18814</th>\n",
       "      <td>4t1bf1fkxeu862918</td>\n",
       "      <td>13592.209588</td>\n",
       "    </tr>\n",
       "  </tbody>\n",
       "</table>\n",
       "</div>\n",
       "    <div class=\"colab-df-buttons\">\n",
       "\n",
       "  <div class=\"colab-df-container\">\n",
       "    <button class=\"colab-df-convert\" onclick=\"convertToInteractive('df-938c1856-2c1f-48b7-847b-3f0db95cdcaf')\"\n",
       "            title=\"Convert this dataframe to an interactive table.\"\n",
       "            style=\"display:none;\">\n",
       "\n",
       "  <svg xmlns=\"http://www.w3.org/2000/svg\" height=\"24px\" viewBox=\"0 -960 960 960\">\n",
       "    <path d=\"M120-120v-720h720v720H120Zm60-500h600v-160H180v160Zm220 220h160v-160H400v160Zm0 220h160v-160H400v160ZM180-400h160v-160H180v160Zm440 0h160v-160H620v160ZM180-180h160v-160H180v160Zm440 0h160v-160H620v160Z\"/>\n",
       "  </svg>\n",
       "    </button>\n",
       "\n",
       "  <style>\n",
       "    .colab-df-container {\n",
       "      display:flex;\n",
       "      gap: 12px;\n",
       "    }\n",
       "\n",
       "    .colab-df-convert {\n",
       "      background-color: #E8F0FE;\n",
       "      border: none;\n",
       "      border-radius: 50%;\n",
       "      cursor: pointer;\n",
       "      display: none;\n",
       "      fill: #1967D2;\n",
       "      height: 32px;\n",
       "      padding: 0 0 0 0;\n",
       "      width: 32px;\n",
       "    }\n",
       "\n",
       "    .colab-df-convert:hover {\n",
       "      background-color: #E2EBFA;\n",
       "      box-shadow: 0px 1px 2px rgba(60, 64, 67, 0.3), 0px 1px 3px 1px rgba(60, 64, 67, 0.15);\n",
       "      fill: #174EA6;\n",
       "    }\n",
       "\n",
       "    .colab-df-buttons div {\n",
       "      margin-bottom: 4px;\n",
       "    }\n",
       "\n",
       "    [theme=dark] .colab-df-convert {\n",
       "      background-color: #3B4455;\n",
       "      fill: #D2E3FC;\n",
       "    }\n",
       "\n",
       "    [theme=dark] .colab-df-convert:hover {\n",
       "      background-color: #434B5C;\n",
       "      box-shadow: 0px 1px 3px 1px rgba(0, 0, 0, 0.15);\n",
       "      filter: drop-shadow(0px 1px 2px rgba(0, 0, 0, 0.3));\n",
       "      fill: #FFFFFF;\n",
       "    }\n",
       "  </style>\n",
       "\n",
       "    <script>\n",
       "      const buttonEl =\n",
       "        document.querySelector('#df-938c1856-2c1f-48b7-847b-3f0db95cdcaf button.colab-df-convert');\n",
       "      buttonEl.style.display =\n",
       "        google.colab.kernel.accessAllowed ? 'block' : 'none';\n",
       "\n",
       "      async function convertToInteractive(key) {\n",
       "        const element = document.querySelector('#df-938c1856-2c1f-48b7-847b-3f0db95cdcaf');\n",
       "        const dataTable =\n",
       "          await google.colab.kernel.invokeFunction('convertToInteractive',\n",
       "                                                    [key], {});\n",
       "        if (!dataTable) return;\n",
       "\n",
       "        const docLinkHtml = 'Like what you see? Visit the ' +\n",
       "          '<a target=\"_blank\" href=https://colab.research.google.com/notebooks/data_table.ipynb>data table notebook</a>'\n",
       "          + ' to learn more about interactive tables.';\n",
       "        element.innerHTML = '';\n",
       "        dataTable['output_type'] = 'display_data';\n",
       "        await google.colab.output.renderOutput(dataTable, element);\n",
       "        const docLink = document.createElement('div');\n",
       "        docLink.innerHTML = docLinkHtml;\n",
       "        element.appendChild(docLink);\n",
       "      }\n",
       "    </script>\n",
       "  </div>\n",
       "\n",
       "\n",
       "<div id=\"df-5a3133ea-9108-4b28-a31f-29ae480522ea\">\n",
       "  <button class=\"colab-df-quickchart\" onclick=\"quickchart('df-5a3133ea-9108-4b28-a31f-29ae480522ea')\"\n",
       "            title=\"Suggest charts.\"\n",
       "            style=\"display:none;\">\n",
       "\n",
       "<svg xmlns=\"http://www.w3.org/2000/svg\" height=\"24px\"viewBox=\"0 0 24 24\"\n",
       "     width=\"24px\">\n",
       "    <g>\n",
       "        <path d=\"M19 3H5c-1.1 0-2 .9-2 2v14c0 1.1.9 2 2 2h14c1.1 0 2-.9 2-2V5c0-1.1-.9-2-2-2zM9 17H7v-7h2v7zm4 0h-2V7h2v10zm4 0h-2v-4h2v4z\"/>\n",
       "    </g>\n",
       "</svg>\n",
       "  </button>\n",
       "\n",
       "<style>\n",
       "  .colab-df-quickchart {\n",
       "      --bg-color: #E8F0FE;\n",
       "      --fill-color: #1967D2;\n",
       "      --hover-bg-color: #E2EBFA;\n",
       "      --hover-fill-color: #174EA6;\n",
       "      --disabled-fill-color: #AAA;\n",
       "      --disabled-bg-color: #DDD;\n",
       "  }\n",
       "\n",
       "  [theme=dark] .colab-df-quickchart {\n",
       "      --bg-color: #3B4455;\n",
       "      --fill-color: #D2E3FC;\n",
       "      --hover-bg-color: #434B5C;\n",
       "      --hover-fill-color: #FFFFFF;\n",
       "      --disabled-bg-color: #3B4455;\n",
       "      --disabled-fill-color: #666;\n",
       "  }\n",
       "\n",
       "  .colab-df-quickchart {\n",
       "    background-color: var(--bg-color);\n",
       "    border: none;\n",
       "    border-radius: 50%;\n",
       "    cursor: pointer;\n",
       "    display: none;\n",
       "    fill: var(--fill-color);\n",
       "    height: 32px;\n",
       "    padding: 0;\n",
       "    width: 32px;\n",
       "  }\n",
       "\n",
       "  .colab-df-quickchart:hover {\n",
       "    background-color: var(--hover-bg-color);\n",
       "    box-shadow: 0 1px 2px rgba(60, 64, 67, 0.3), 0 1px 3px 1px rgba(60, 64, 67, 0.15);\n",
       "    fill: var(--button-hover-fill-color);\n",
       "  }\n",
       "\n",
       "  .colab-df-quickchart-complete:disabled,\n",
       "  .colab-df-quickchart-complete:disabled:hover {\n",
       "    background-color: var(--disabled-bg-color);\n",
       "    fill: var(--disabled-fill-color);\n",
       "    box-shadow: none;\n",
       "  }\n",
       "\n",
       "  .colab-df-spinner {\n",
       "    border: 2px solid var(--fill-color);\n",
       "    border-color: transparent;\n",
       "    border-bottom-color: var(--fill-color);\n",
       "    animation:\n",
       "      spin 1s steps(1) infinite;\n",
       "  }\n",
       "\n",
       "  @keyframes spin {\n",
       "    0% {\n",
       "      border-color: transparent;\n",
       "      border-bottom-color: var(--fill-color);\n",
       "      border-left-color: var(--fill-color);\n",
       "    }\n",
       "    20% {\n",
       "      border-color: transparent;\n",
       "      border-left-color: var(--fill-color);\n",
       "      border-top-color: var(--fill-color);\n",
       "    }\n",
       "    30% {\n",
       "      border-color: transparent;\n",
       "      border-left-color: var(--fill-color);\n",
       "      border-top-color: var(--fill-color);\n",
       "      border-right-color: var(--fill-color);\n",
       "    }\n",
       "    40% {\n",
       "      border-color: transparent;\n",
       "      border-right-color: var(--fill-color);\n",
       "      border-top-color: var(--fill-color);\n",
       "    }\n",
       "    60% {\n",
       "      border-color: transparent;\n",
       "      border-right-color: var(--fill-color);\n",
       "    }\n",
       "    80% {\n",
       "      border-color: transparent;\n",
       "      border-right-color: var(--fill-color);\n",
       "      border-bottom-color: var(--fill-color);\n",
       "    }\n",
       "    90% {\n",
       "      border-color: transparent;\n",
       "      border-bottom-color: var(--fill-color);\n",
       "    }\n",
       "  }\n",
       "</style>\n",
       "\n",
       "  <script>\n",
       "    async function quickchart(key) {\n",
       "      const quickchartButtonEl =\n",
       "        document.querySelector('#' + key + ' button');\n",
       "      quickchartButtonEl.disabled = true;  // To prevent multiple clicks.\n",
       "      quickchartButtonEl.classList.add('colab-df-spinner');\n",
       "      try {\n",
       "        const charts = await google.colab.kernel.invokeFunction(\n",
       "            'suggestCharts', [key], {});\n",
       "      } catch (error) {\n",
       "        console.error('Error during call to suggestCharts:', error);\n",
       "      }\n",
       "      quickchartButtonEl.classList.remove('colab-df-spinner');\n",
       "      quickchartButtonEl.classList.add('colab-df-quickchart-complete');\n",
       "    }\n",
       "    (() => {\n",
       "      let quickchartButtonEl =\n",
       "        document.querySelector('#df-5a3133ea-9108-4b28-a31f-29ae480522ea button');\n",
       "      quickchartButtonEl.style.display =\n",
       "        google.colab.kernel.accessAllowed ? 'block' : 'none';\n",
       "    })();\n",
       "  </script>\n",
       "</div>\n",
       "    </div>\n",
       "  </div>\n"
      ],
      "text/plain": [
       "                      vin  sellingprice\n",
       "78180   2g1wc5e35d1183190  13592.209588\n",
       "21130   kmhfh4jg1ea342642  13592.209588\n",
       "50551   1n4aa5ap5cc800103  13592.209588\n",
       "105823  2c3ka53v89h634633  13592.209588\n",
       "18814   4t1bf1fkxeu862918  13592.209588"
      ]
     },
     "execution_count": 18,
     "metadata": {},
     "output_type": "execute_result"
    }
   ],
   "source": [
    "#прочитаем данные sample_submission\n",
    "#read sample_submission data\n",
    "patch = os.path.join(DATA_PATH, 'sample_submission.csv')\n",
    "sample_submission = pd.read_csv(patch)\n",
    "sample_submission.sample(5)"
   ]
  },
  {
   "cell_type": "code",
   "execution_count": 19,
   "id": "8fcae1f2",
   "metadata": {
    "colab": {
     "base_uri": "https://localhost:8080/"
    },
    "executionInfo": {
     "elapsed": 433,
     "status": "ok",
     "timestamp": 1694150537551,
     "user": {
      "displayName": "Андрей Медведев",
      "userId": "02560461935100345008"
     },
     "user_tz": -180
    },
    "id": "8fcae1f2",
    "outputId": "d43d0b2a-3f17-4534-a435-5769cb4fc606",
    "scrolled": true
   },
   "outputs": [
    {
     "name": "stdout",
     "output_type": "stream",
     "text": [
      "<class 'pandas.core.frame.DataFrame'>\n",
      "RangeIndex: 110058 entries, 0 to 110057\n",
      "Data columns (total 2 columns):\n",
      " #   Column        Non-Null Count   Dtype  \n",
      "---  ------        --------------   -----  \n",
      " 0   vin           110058 non-null  object \n",
      " 1   sellingprice  110058 non-null  float64\n",
      "dtypes: float64(1), object(1)\n",
      "memory usage: 8.6 MB\n"
     ]
    }
   ],
   "source": [
    "sample_submission.info(memory_usage='deep')"
   ]
  },
  {
   "cell_type": "code",
   "execution_count": 20,
   "id": "4c826ff2",
   "metadata": {
    "colab": {
     "base_uri": "https://localhost:8080/"
    },
    "executionInfo": {
     "elapsed": 42,
     "status": "ok",
     "timestamp": 1694150537551,
     "user": {
      "displayName": "Андрей Медведев",
      "userId": "02560461935100345008"
     },
     "user_tz": -180
    },
    "id": "4c826ff2",
    "outputId": "4077040e-f960-41d6-c72a-90d1ea877d1d",
    "scrolled": true
   },
   "outputs": [
    {
     "data": {
      "text/plain": [
       "array([13592.20958758])"
      ]
     },
     "execution_count": 20,
     "metadata": {},
     "output_type": "execute_result"
    }
   ],
   "source": [
    "sample_submission['sellingprice'].unique()"
   ]
  },
  {
   "cell_type": "markdown",
   "id": "799ba403",
   "metadata": {
    "id": "799ba403"
   },
   "source": [
    "Табличка `sample_submission` содержить только вин номера и столбец с одной ценой.\n",
    "\n",
    "Для нас она не нужна, так как не содержит полезной информации.\n",
    "\n",
    "The `sample_submission` table contains only VIN numbers and a column with one price.\n",
    "\n",
    "It is not needed for us, since it does not contain useful information."
   ]
  },
  {
   "cell_type": "code",
   "execution_count": 20,
   "id": "c2c2da03",
   "metadata": {
    "executionInfo": {
     "elapsed": 30,
     "status": "ok",
     "timestamp": 1694150537552,
     "user": {
      "displayName": "Андрей Медведев",
      "userId": "02560461935100345008"
     },
     "user_tz": -180
    },
    "id": "c2c2da03"
   },
   "outputs": [],
   "source": []
  },
  {
   "cell_type": "markdown",
   "id": "3d8be49d",
   "metadata": {
    "id": "3d8be49d"
   },
   "source": [
    "### 1.1. Исследование train"
   ]
  },
  {
   "cell_type": "code",
   "execution_count": 23,
   "id": "317db1e0",
   "metadata": {
    "colab": {
     "base_uri": "https://localhost:8080/"
    },
    "executionInfo": {
     "elapsed": 28,
     "status": "ok",
     "timestamp": 1694150537553,
     "user": {
      "displayName": "Андрей Медведев",
      "userId": "02560461935100345008"
     },
     "user_tz": -180
    },
    "id": "317db1e0",
    "outputId": "6fe16d64-616f-4b08-c49e-5d24d41d37e9"
   },
   "outputs": [
    {
     "data": {
      "text/plain": [
       "(13025,)"
      ]
     },
     "execution_count": 23,
     "metadata": {},
     "output_type": "execute_result"
    }
   ],
   "source": [
    "train['seller'].unique().shape"
   ]
  },
  {
   "cell_type": "code",
   "execution_count": 24,
   "id": "130c900b",
   "metadata": {
    "colab": {
     "base_uri": "https://localhost:8080/"
    },
    "executionInfo": {
     "elapsed": 15,
     "status": "ok",
     "timestamp": 1694150537554,
     "user": {
      "displayName": "Андрей Медведев",
      "userId": "02560461935100345008"
     },
     "user_tz": -180
    },
    "id": "130c900b",
    "outputId": "584ba08e-eb03-4229-84b8-f1cbeb2c6b22"
   },
   "outputs": [
    {
     "data": {
      "text/plain": [
       "(440236,)"
      ]
     },
     "execution_count": 24,
     "metadata": {},
     "output_type": "execute_result"
    }
   ],
   "source": [
    "train['vin'].unique().shape"
   ]
  },
  {
   "cell_type": "markdown",
   "id": "0248a71a",
   "metadata": {
    "id": "0248a71a"
   },
   "source": [
    "Все номера вин в трейн датасете уникальные.\n",
    "\n",
    "Это значит что часть признаков можно выбросить и заново заполнить некоторые столбцы таблицы.\n",
    "\n",
    "Например: make, model, body\n",
    "-- --\n",
    "All VIN numbers in the train dataset are unique.\n",
    "\n",
    "This means that some of the features can be discarded and some columns of the table can be refilled.\n",
    "\n",
    "For example: make, model, body"
   ]
  },
  {
   "cell_type": "code",
   "execution_count": 25,
   "id": "6a1989e3",
   "metadata": {
    "colab": {
     "base_uri": "https://localhost:8080/"
    },
    "executionInfo": {
     "elapsed": 406,
     "status": "ok",
     "timestamp": 1694150537953,
     "user": {
      "displayName": "Андрей Медведев",
      "userId": "02560461935100345008"
     },
     "user_tz": -180
    },
    "id": "6a1989e3",
    "outputId": "42c7f421-aeab-418b-8707-ebd39333840e"
   },
   "outputs": [
    {
     "data": {
      "text/plain": [
       "(110058,)"
      ]
     },
     "execution_count": 25,
     "metadata": {},
     "output_type": "execute_result"
    }
   ],
   "source": [
    "test['vin'].unique().shape"
   ]
  },
  {
   "cell_type": "markdown",
   "id": "YrlUeH6VRYlf",
   "metadata": {
    "id": "YrlUeH6VRYlf"
   },
   "source": [
    "Vin в тесте также уникальные\n",
    "\n",
    "Vin in the test is also unique"
   ]
  },
  {
   "cell_type": "code",
   "execution_count": 26,
   "id": "a9401562",
   "metadata": {
    "executionInfo": {
     "elapsed": 10,
     "status": "ok",
     "timestamp": 1694150537955,
     "user": {
      "displayName": "Андрей Медведев",
      "userId": "02560461935100345008"
     },
     "user_tz": -180
    },
    "id": "a9401562"
   },
   "outputs": [],
   "source": []
  },
  {
   "cell_type": "markdown",
   "id": "11590fcf",
   "metadata": {
    "id": "11590fcf"
   },
   "source": [
    "## 2 Заполнение пропущеных значений\n",
    "## 2 Filling in missing values"
   ]
  },
  {
   "cell_type": "code",
   "execution_count": 27,
   "id": "e2901514",
   "metadata": {
    "executionInfo": {
     "elapsed": 10,
     "status": "ok",
     "timestamp": 1694150537955,
     "user": {
      "displayName": "Андрей Медведев",
      "userId": "02560461935100345008"
     },
     "user_tz": -180
    },
    "id": "e2901514"
   },
   "outputs": [],
   "source": [
    "#функция для получения из вин номера разных признаков\n",
    "#function for obtaining numbers of different characteristics from VINs\n",
    "from vin_decoder_nhtsa.decoder import Vin\n",
    "\n",
    "def new_futures(vin):\n",
    "\n",
    "    vin = vin.upper()\n",
    "    vehicle = Vin(vin)\n",
    "\n",
    "    Make = vehicle.Make\n",
    "    Model = vehicle.Model\n",
    "    ModelYear = vehicle.ModelYear\n",
    "    Series = vehicle.Series\n",
    "    Doors = vehicle.Doors\n",
    "    EngineHP = vehicle.EngineHP\n",
    "    AirBagLocFront = vehicle.AirBagLocFront\n",
    "    BodyClass = vehicle.BodyClass\n",
    "    FuelTypePrimary = vehicle.FuelTypePrimary\n",
    "    VehicleType = vehicle.VehicleType\n",
    "    DisplacementCC = vehicle.DisplacementCC\n",
    "    EngineCylinders = vehicle.EngineCylinders\n",
    "\n",
    "    return pd.Series([Make,\n",
    "                      Model,\n",
    "                      ModelYear,\n",
    "                      Series,\n",
    "                      Doors,\n",
    "                      EngineHP,\n",
    "                      AirBagLocFront,\n",
    "                      BodyClass,\n",
    "                      FuelTypePrimary,\n",
    "                      VehicleType,\n",
    "                      DisplacementCC,\n",
    "                      EngineCylinders\n",
    "                     ])"
   ]
  },
  {
   "cell_type": "code",
   "execution_count": 28,
   "id": "5053d281",
   "metadata": {
    "colab": {
     "base_uri": "https://localhost:8080/",
     "height": 53
    },
    "executionInfo": {
     "elapsed": 10,
     "status": "ok",
     "timestamp": 1694150537955,
     "user": {
      "displayName": "Андрей Медведев",
      "userId": "02560461935100345008"
     },
     "user_tz": -180
    },
    "id": "5053d281",
    "outputId": "392ffc59-8e73-421f-a013-64ec9a2f8379",
    "scrolled": true
   },
   "outputs": [
    {
     "data": {
      "application/vnd.google.colaboratory.intrinsic+json": {
       "type": "string"
      },
      "text/plain": [
       "\"\\ntrain[['Make',\\n       'Model',\\n       'ModelYear',\\n       'Series',\\n       'Doors',\\n       'EngineHP',\\n       'AirBagLocFront',\\n       'BodyClass',\\n       'FuelTypePrimary',\\n       'VehicleType',\\n       'DisplacementCC',\\n       'EngineCylinders'\\n      ]] = train['vin'].progress_apply(new_futures)\\n      \""
      ]
     },
     "execution_count": 28,
     "metadata": {},
     "output_type": "execute_result"
    }
   ],
   "source": [
    "#пока не воспользовался\n",
    "#not use it\n",
    "'''\n",
    "train[['Make',\n",
    "       'Model',\n",
    "       'ModelYear',\n",
    "       'Series',\n",
    "       'Doors',\n",
    "       'EngineHP',\n",
    "       'AirBagLocFront',\n",
    "       'BodyClass',\n",
    "       'FuelTypePrimary',\n",
    "       'VehicleType',\n",
    "       'DisplacementCC',\n",
    "       'EngineCylinders'\n",
    "      ]] = train['vin'].progress_apply(new_futures)\n",
    "      '''"
   ]
  },
  {
   "cell_type": "code",
   "execution_count": 29,
   "id": "903cc3d5",
   "metadata": {
    "executionInfo": {
     "elapsed": 9,
     "status": "ok",
     "timestamp": 1694150537955,
     "user": {
      "displayName": "Андрей Медведев",
      "userId": "02560461935100345008"
     },
     "user_tz": -180
    },
    "id": "903cc3d5"
   },
   "outputs": [],
   "source": [
    "#функция для получения из вин номера - производителя авто и модели авто\n",
    "#function for obtaining from VIN numbers - car manufacturer (make) and car model\n",
    "def from_vin(row):\n",
    "    if (pd.isna(row['make'])) or (pd.isna(row['model'])):\n",
    "        vin = row['vin'].upper()\n",
    "        vehicle = Vin(vin)\n",
    "        Make = vehicle.Make\n",
    "        Model = vehicle.Model\n",
    "        return pd.Series([Make, Model])\n",
    "    else:\n",
    "        return pd.Series([row['make'], row['model']])"
   ]
  },
  {
   "cell_type": "code",
   "execution_count": 30,
   "id": "86993252",
   "metadata": {
    "executionInfo": {
     "elapsed": 10,
     "status": "ok",
     "timestamp": 1694150537956,
     "user": {
      "displayName": "Андрей Медведев",
      "userId": "02560461935100345008"
     },
     "user_tz": -180
    },
    "id": "86993252"
   },
   "outputs": [],
   "source": [
    "#заполнение пропусков в 'make', 'model'\n",
    "#filling in 'make', 'model'\n",
    "\n",
    "#train[['make', 'model']] = train.progress_apply(from_vin, axis=1)"
   ]
  },
  {
   "cell_type": "code",
   "execution_count": 31,
   "id": "WPM9zV7LRt2Y",
   "metadata": {
    "executionInfo": {
     "elapsed": 10,
     "status": "ok",
     "timestamp": 1694150537956,
     "user": {
      "displayName": "Андрей Медведев",
      "userId": "02560461935100345008"
     },
     "user_tz": -180
    },
    "id": "WPM9zV7LRt2Y"
   },
   "outputs": [],
   "source": [
    "#заполнение пропусков в 'make', 'model'\n",
    "#filling in 'make', 'model'\n",
    "\n",
    "#test[['make', 'model']] = test.progress_apply(from_vin, axis=1)"
   ]
  },
  {
   "cell_type": "code",
   "execution_count": 32,
   "id": "unZA4NiKGVTM",
   "metadata": {
    "executionInfo": {
     "elapsed": 9,
     "status": "ok",
     "timestamp": 1694150537956,
     "user": {
      "displayName": "Андрей Медведев",
      "userId": "02560461935100345008"
     },
     "user_tz": -180
    },
    "id": "unZA4NiKGVTM"
   },
   "outputs": [],
   "source": [
    "#train.loc[train['make'].isna()]"
   ]
  },
  {
   "cell_type": "code",
   "execution_count": 33,
   "id": "pslIkoXG7kSo",
   "metadata": {
    "executionInfo": {
     "elapsed": 9,
     "status": "ok",
     "timestamp": 1694150537956,
     "user": {
      "displayName": "Андрей Медведев",
      "userId": "02560461935100345008"
     },
     "user_tz": -180
    },
    "id": "pslIkoXG7kSo"
   },
   "outputs": [],
   "source": [
    "#сохранение результатов на диск. С целью дальнейшей загрузки, потому что прогон идет более часа.\n",
    "#saving results to disk. For the purpose of further loading, because the run takes more than an hour.\n",
    "\n",
    "#patch = os.path.join(DATA_PATH, 'train_fill.csv')\n",
    "#pd.DataFrame(train).to_csv(patch, index=False)"
   ]
  },
  {
   "cell_type": "code",
   "execution_count": 34,
   "id": "cCMCm-5JSEv-",
   "metadata": {
    "executionInfo": {
     "elapsed": 9,
     "status": "ok",
     "timestamp": 1694150537956,
     "user": {
      "displayName": "Андрей Медведев",
      "userId": "02560461935100345008"
     },
     "user_tz": -180
    },
    "id": "cCMCm-5JSEv-"
   },
   "outputs": [],
   "source": [
    "#сохранение результатов на диск Test. С целью дальнейшей загрузки.\n",
    "\n",
    "#patch = os.path.join(DATA_PATH, 'test_fill.csv')\n",
    "#pd.DataFrame(test).to_csv(patch, index=False)"
   ]
  },
  {
   "cell_type": "code",
   "execution_count": 35,
   "id": "FdH03_Ak9vsk",
   "metadata": {
    "colab": {
     "base_uri": "https://localhost:8080/",
     "height": 112
    },
    "executionInfo": {
     "elapsed": 4454,
     "status": "ok",
     "timestamp": 1694150542401,
     "user": {
      "displayName": "Андрей Медведев",
      "userId": "02560461935100345008"
     },
     "user_tz": -180
    },
    "id": "FdH03_Ak9vsk",
    "outputId": "389d7819-46e9-478b-9189-0b33e4aa1545"
   },
   "outputs": [
    {
     "data": {
      "text/html": [
       "\n",
       "  <div id=\"df-c3e00479-fd2a-46ab-809d-4dc3467c0318\" class=\"colab-df-container\">\n",
       "    <div>\n",
       "<style scoped>\n",
       "    .dataframe tbody tr th:only-of-type {\n",
       "        vertical-align: middle;\n",
       "    }\n",
       "\n",
       "    .dataframe tbody tr th {\n",
       "        vertical-align: top;\n",
       "    }\n",
       "\n",
       "    .dataframe thead th {\n",
       "        text-align: right;\n",
       "    }\n",
       "</style>\n",
       "<table border=\"1\" class=\"dataframe\">\n",
       "  <thead>\n",
       "    <tr style=\"text-align: right;\">\n",
       "      <th></th>\n",
       "      <th>year</th>\n",
       "      <th>make</th>\n",
       "      <th>model</th>\n",
       "      <th>trim</th>\n",
       "      <th>body</th>\n",
       "      <th>transmission</th>\n",
       "      <th>vin</th>\n",
       "      <th>state</th>\n",
       "      <th>condition</th>\n",
       "      <th>odometer</th>\n",
       "      <th>color</th>\n",
       "      <th>interior</th>\n",
       "      <th>seller</th>\n",
       "      <th>sellingprice</th>\n",
       "      <th>saledate</th>\n",
       "    </tr>\n",
       "  </thead>\n",
       "  <tbody>\n",
       "    <tr>\n",
       "      <th>387680</th>\n",
       "      <td>2008</td>\n",
       "      <td>Toyota</td>\n",
       "      <td>Yaris</td>\n",
       "      <td>Base</td>\n",
       "      <td>sedan</td>\n",
       "      <td>automatic</td>\n",
       "      <td>jtdbt923281297077</td>\n",
       "      <td>nv</td>\n",
       "      <td>NaN</td>\n",
       "      <td>110792.0</td>\n",
       "      <td>black</td>\n",
       "      <td>—</td>\n",
       "      <td>desert trail auto</td>\n",
       "      <td>5000</td>\n",
       "      <td>Thu Dec 18 2014 11:45:00 GMT-0800 (PST)</td>\n",
       "    </tr>\n",
       "    <tr>\n",
       "      <th>291609</th>\n",
       "      <td>2014</td>\n",
       "      <td>Ford</td>\n",
       "      <td>Fusion</td>\n",
       "      <td>SE</td>\n",
       "      <td>sedan</td>\n",
       "      <td>automatic</td>\n",
       "      <td>3fa6p0hd1er160091</td>\n",
       "      <td>fl</td>\n",
       "      <td>3.8</td>\n",
       "      <td>32206.0</td>\n",
       "      <td>—</td>\n",
       "      <td>black</td>\n",
       "      <td>ars/avis budget group</td>\n",
       "      <td>14500</td>\n",
       "      <td>Fri Feb 27 2015 01:00:00 GMT-0800 (PST)</td>\n",
       "    </tr>\n",
       "  </tbody>\n",
       "</table>\n",
       "</div>\n",
       "    <div class=\"colab-df-buttons\">\n",
       "\n",
       "  <div class=\"colab-df-container\">\n",
       "    <button class=\"colab-df-convert\" onclick=\"convertToInteractive('df-c3e00479-fd2a-46ab-809d-4dc3467c0318')\"\n",
       "            title=\"Convert this dataframe to an interactive table.\"\n",
       "            style=\"display:none;\">\n",
       "\n",
       "  <svg xmlns=\"http://www.w3.org/2000/svg\" height=\"24px\" viewBox=\"0 -960 960 960\">\n",
       "    <path d=\"M120-120v-720h720v720H120Zm60-500h600v-160H180v160Zm220 220h160v-160H400v160Zm0 220h160v-160H400v160ZM180-400h160v-160H180v160Zm440 0h160v-160H620v160ZM180-180h160v-160H180v160Zm440 0h160v-160H620v160Z\"/>\n",
       "  </svg>\n",
       "    </button>\n",
       "\n",
       "  <style>\n",
       "    .colab-df-container {\n",
       "      display:flex;\n",
       "      gap: 12px;\n",
       "    }\n",
       "\n",
       "    .colab-df-convert {\n",
       "      background-color: #E8F0FE;\n",
       "      border: none;\n",
       "      border-radius: 50%;\n",
       "      cursor: pointer;\n",
       "      display: none;\n",
       "      fill: #1967D2;\n",
       "      height: 32px;\n",
       "      padding: 0 0 0 0;\n",
       "      width: 32px;\n",
       "    }\n",
       "\n",
       "    .colab-df-convert:hover {\n",
       "      background-color: #E2EBFA;\n",
       "      box-shadow: 0px 1px 2px rgba(60, 64, 67, 0.3), 0px 1px 3px 1px rgba(60, 64, 67, 0.15);\n",
       "      fill: #174EA6;\n",
       "    }\n",
       "\n",
       "    .colab-df-buttons div {\n",
       "      margin-bottom: 4px;\n",
       "    }\n",
       "\n",
       "    [theme=dark] .colab-df-convert {\n",
       "      background-color: #3B4455;\n",
       "      fill: #D2E3FC;\n",
       "    }\n",
       "\n",
       "    [theme=dark] .colab-df-convert:hover {\n",
       "      background-color: #434B5C;\n",
       "      box-shadow: 0px 1px 3px 1px rgba(0, 0, 0, 0.15);\n",
       "      filter: drop-shadow(0px 1px 2px rgba(0, 0, 0, 0.3));\n",
       "      fill: #FFFFFF;\n",
       "    }\n",
       "  </style>\n",
       "\n",
       "    <script>\n",
       "      const buttonEl =\n",
       "        document.querySelector('#df-c3e00479-fd2a-46ab-809d-4dc3467c0318 button.colab-df-convert');\n",
       "      buttonEl.style.display =\n",
       "        google.colab.kernel.accessAllowed ? 'block' : 'none';\n",
       "\n",
       "      async function convertToInteractive(key) {\n",
       "        const element = document.querySelector('#df-c3e00479-fd2a-46ab-809d-4dc3467c0318');\n",
       "        const dataTable =\n",
       "          await google.colab.kernel.invokeFunction('convertToInteractive',\n",
       "                                                    [key], {});\n",
       "        if (!dataTable) return;\n",
       "\n",
       "        const docLinkHtml = 'Like what you see? Visit the ' +\n",
       "          '<a target=\"_blank\" href=https://colab.research.google.com/notebooks/data_table.ipynb>data table notebook</a>'\n",
       "          + ' to learn more about interactive tables.';\n",
       "        element.innerHTML = '';\n",
       "        dataTable['output_type'] = 'display_data';\n",
       "        await google.colab.output.renderOutput(dataTable, element);\n",
       "        const docLink = document.createElement('div');\n",
       "        docLink.innerHTML = docLinkHtml;\n",
       "        element.appendChild(docLink);\n",
       "      }\n",
       "    </script>\n",
       "  </div>\n",
       "\n",
       "\n",
       "<div id=\"df-f1ab9bca-a0cf-49f4-b780-f2bb7353f7ae\">\n",
       "  <button class=\"colab-df-quickchart\" onclick=\"quickchart('df-f1ab9bca-a0cf-49f4-b780-f2bb7353f7ae')\"\n",
       "            title=\"Suggest charts.\"\n",
       "            style=\"display:none;\">\n",
       "\n",
       "<svg xmlns=\"http://www.w3.org/2000/svg\" height=\"24px\"viewBox=\"0 0 24 24\"\n",
       "     width=\"24px\">\n",
       "    <g>\n",
       "        <path d=\"M19 3H5c-1.1 0-2 .9-2 2v14c0 1.1.9 2 2 2h14c1.1 0 2-.9 2-2V5c0-1.1-.9-2-2-2zM9 17H7v-7h2v7zm4 0h-2V7h2v10zm4 0h-2v-4h2v4z\"/>\n",
       "    </g>\n",
       "</svg>\n",
       "  </button>\n",
       "\n",
       "<style>\n",
       "  .colab-df-quickchart {\n",
       "      --bg-color: #E8F0FE;\n",
       "      --fill-color: #1967D2;\n",
       "      --hover-bg-color: #E2EBFA;\n",
       "      --hover-fill-color: #174EA6;\n",
       "      --disabled-fill-color: #AAA;\n",
       "      --disabled-bg-color: #DDD;\n",
       "  }\n",
       "\n",
       "  [theme=dark] .colab-df-quickchart {\n",
       "      --bg-color: #3B4455;\n",
       "      --fill-color: #D2E3FC;\n",
       "      --hover-bg-color: #434B5C;\n",
       "      --hover-fill-color: #FFFFFF;\n",
       "      --disabled-bg-color: #3B4455;\n",
       "      --disabled-fill-color: #666;\n",
       "  }\n",
       "\n",
       "  .colab-df-quickchart {\n",
       "    background-color: var(--bg-color);\n",
       "    border: none;\n",
       "    border-radius: 50%;\n",
       "    cursor: pointer;\n",
       "    display: none;\n",
       "    fill: var(--fill-color);\n",
       "    height: 32px;\n",
       "    padding: 0;\n",
       "    width: 32px;\n",
       "  }\n",
       "\n",
       "  .colab-df-quickchart:hover {\n",
       "    background-color: var(--hover-bg-color);\n",
       "    box-shadow: 0 1px 2px rgba(60, 64, 67, 0.3), 0 1px 3px 1px rgba(60, 64, 67, 0.15);\n",
       "    fill: var(--button-hover-fill-color);\n",
       "  }\n",
       "\n",
       "  .colab-df-quickchart-complete:disabled,\n",
       "  .colab-df-quickchart-complete:disabled:hover {\n",
       "    background-color: var(--disabled-bg-color);\n",
       "    fill: var(--disabled-fill-color);\n",
       "    box-shadow: none;\n",
       "  }\n",
       "\n",
       "  .colab-df-spinner {\n",
       "    border: 2px solid var(--fill-color);\n",
       "    border-color: transparent;\n",
       "    border-bottom-color: var(--fill-color);\n",
       "    animation:\n",
       "      spin 1s steps(1) infinite;\n",
       "  }\n",
       "\n",
       "  @keyframes spin {\n",
       "    0% {\n",
       "      border-color: transparent;\n",
       "      border-bottom-color: var(--fill-color);\n",
       "      border-left-color: var(--fill-color);\n",
       "    }\n",
       "    20% {\n",
       "      border-color: transparent;\n",
       "      border-left-color: var(--fill-color);\n",
       "      border-top-color: var(--fill-color);\n",
       "    }\n",
       "    30% {\n",
       "      border-color: transparent;\n",
       "      border-left-color: var(--fill-color);\n",
       "      border-top-color: var(--fill-color);\n",
       "      border-right-color: var(--fill-color);\n",
       "    }\n",
       "    40% {\n",
       "      border-color: transparent;\n",
       "      border-right-color: var(--fill-color);\n",
       "      border-top-color: var(--fill-color);\n",
       "    }\n",
       "    60% {\n",
       "      border-color: transparent;\n",
       "      border-right-color: var(--fill-color);\n",
       "    }\n",
       "    80% {\n",
       "      border-color: transparent;\n",
       "      border-right-color: var(--fill-color);\n",
       "      border-bottom-color: var(--fill-color);\n",
       "    }\n",
       "    90% {\n",
       "      border-color: transparent;\n",
       "      border-bottom-color: var(--fill-color);\n",
       "    }\n",
       "  }\n",
       "</style>\n",
       "\n",
       "  <script>\n",
       "    async function quickchart(key) {\n",
       "      const quickchartButtonEl =\n",
       "        document.querySelector('#' + key + ' button');\n",
       "      quickchartButtonEl.disabled = true;  // To prevent multiple clicks.\n",
       "      quickchartButtonEl.classList.add('colab-df-spinner');\n",
       "      try {\n",
       "        const charts = await google.colab.kernel.invokeFunction(\n",
       "            'suggestCharts', [key], {});\n",
       "      } catch (error) {\n",
       "        console.error('Error during call to suggestCharts:', error);\n",
       "      }\n",
       "      quickchartButtonEl.classList.remove('colab-df-spinner');\n",
       "      quickchartButtonEl.classList.add('colab-df-quickchart-complete');\n",
       "    }\n",
       "    (() => {\n",
       "      let quickchartButtonEl =\n",
       "        document.querySelector('#df-f1ab9bca-a0cf-49f4-b780-f2bb7353f7ae button');\n",
       "      quickchartButtonEl.style.display =\n",
       "        google.colab.kernel.accessAllowed ? 'block' : 'none';\n",
       "    })();\n",
       "  </script>\n",
       "</div>\n",
       "    </div>\n",
       "  </div>\n"
      ],
      "text/plain": [
       "        year    make   model  trim   body transmission                vin  \\\n",
       "387680  2008  Toyota   Yaris  Base  sedan    automatic  jtdbt923281297077   \n",
       "291609  2014    Ford  Fusion    SE  sedan    automatic  3fa6p0hd1er160091   \n",
       "\n",
       "       state  condition  odometer  color interior                 seller  \\\n",
       "387680    nv        NaN  110792.0  black        —      desert trail auto   \n",
       "291609    fl        3.8   32206.0      —    black  ars/avis budget group   \n",
       "\n",
       "        sellingprice                                 saledate  \n",
       "387680          5000  Thu Dec 18 2014 11:45:00 GMT-0800 (PST)  \n",
       "291609         14500  Fri Feb 27 2015 01:00:00 GMT-0800 (PST)  "
      ]
     },
     "execution_count": 35,
     "metadata": {},
     "output_type": "execute_result"
    }
   ],
   "source": [
    "#прочитаем записанные данные с диска train_fill\n",
    "#read the recorded data from the disk train_fill\n",
    "\n",
    "patch = os.path.join(DATA_PATH, 'train_fill.csv')\n",
    "train_fill = pd.read_csv(patch)\n",
    "train_fill.sample(2)"
   ]
  },
  {
   "cell_type": "code",
   "execution_count": 36,
   "id": "Hp1pwisCSRbS",
   "metadata": {
    "colab": {
     "base_uri": "https://localhost:8080/",
     "height": 112
    },
    "executionInfo": {
     "elapsed": 2052,
     "status": "ok",
     "timestamp": 1694150544441,
     "user": {
      "displayName": "Андрей Медведев",
      "userId": "02560461935100345008"
     },
     "user_tz": -180
    },
    "id": "Hp1pwisCSRbS",
    "outputId": "ae8e4459-7ce8-4713-f3f3-082c55209bc3"
   },
   "outputs": [
    {
     "data": {
      "text/html": [
       "\n",
       "  <div id=\"df-7980222a-9722-4287-9773-9b5b9da781d3\" class=\"colab-df-container\">\n",
       "    <div>\n",
       "<style scoped>\n",
       "    .dataframe tbody tr th:only-of-type {\n",
       "        vertical-align: middle;\n",
       "    }\n",
       "\n",
       "    .dataframe tbody tr th {\n",
       "        vertical-align: top;\n",
       "    }\n",
       "\n",
       "    .dataframe thead th {\n",
       "        text-align: right;\n",
       "    }\n",
       "</style>\n",
       "<table border=\"1\" class=\"dataframe\">\n",
       "  <thead>\n",
       "    <tr style=\"text-align: right;\">\n",
       "      <th></th>\n",
       "      <th>year</th>\n",
       "      <th>make</th>\n",
       "      <th>model</th>\n",
       "      <th>trim</th>\n",
       "      <th>body</th>\n",
       "      <th>transmission</th>\n",
       "      <th>vin</th>\n",
       "      <th>state</th>\n",
       "      <th>condition</th>\n",
       "      <th>odometer</th>\n",
       "      <th>color</th>\n",
       "      <th>interior</th>\n",
       "      <th>seller</th>\n",
       "      <th>saledate</th>\n",
       "    </tr>\n",
       "  </thead>\n",
       "  <tbody>\n",
       "    <tr>\n",
       "      <th>27146</th>\n",
       "      <td>2011</td>\n",
       "      <td>Ford</td>\n",
       "      <td>Fusion Hybrid</td>\n",
       "      <td>Base</td>\n",
       "      <td>Sedan</td>\n",
       "      <td>automatic</td>\n",
       "      <td>3fadp0l34br305531</td>\n",
       "      <td>ca</td>\n",
       "      <td>3.4</td>\n",
       "      <td>56369.0</td>\n",
       "      <td>gray</td>\n",
       "      <td>black</td>\n",
       "      <td>ge fleet services for itself/servicer</td>\n",
       "      <td>Thu Jan 22 2015 04:00:00 GMT-0800 (PST)</td>\n",
       "    </tr>\n",
       "    <tr>\n",
       "      <th>102887</th>\n",
       "      <td>2014</td>\n",
       "      <td>Ford</td>\n",
       "      <td>Fusion</td>\n",
       "      <td>SE</td>\n",
       "      <td>Sedan</td>\n",
       "      <td>automatic</td>\n",
       "      <td>3fa6p0hd4er143866</td>\n",
       "      <td>tx</td>\n",
       "      <td>3.3</td>\n",
       "      <td>37607.0</td>\n",
       "      <td>white</td>\n",
       "      <td>black</td>\n",
       "      <td>avis corporation</td>\n",
       "      <td>Wed Feb 25 2015 02:15:00 GMT-0800 (PST)</td>\n",
       "    </tr>\n",
       "  </tbody>\n",
       "</table>\n",
       "</div>\n",
       "    <div class=\"colab-df-buttons\">\n",
       "\n",
       "  <div class=\"colab-df-container\">\n",
       "    <button class=\"colab-df-convert\" onclick=\"convertToInteractive('df-7980222a-9722-4287-9773-9b5b9da781d3')\"\n",
       "            title=\"Convert this dataframe to an interactive table.\"\n",
       "            style=\"display:none;\">\n",
       "\n",
       "  <svg xmlns=\"http://www.w3.org/2000/svg\" height=\"24px\" viewBox=\"0 -960 960 960\">\n",
       "    <path d=\"M120-120v-720h720v720H120Zm60-500h600v-160H180v160Zm220 220h160v-160H400v160Zm0 220h160v-160H400v160ZM180-400h160v-160H180v160Zm440 0h160v-160H620v160ZM180-180h160v-160H180v160Zm440 0h160v-160H620v160Z\"/>\n",
       "  </svg>\n",
       "    </button>\n",
       "\n",
       "  <style>\n",
       "    .colab-df-container {\n",
       "      display:flex;\n",
       "      gap: 12px;\n",
       "    }\n",
       "\n",
       "    .colab-df-convert {\n",
       "      background-color: #E8F0FE;\n",
       "      border: none;\n",
       "      border-radius: 50%;\n",
       "      cursor: pointer;\n",
       "      display: none;\n",
       "      fill: #1967D2;\n",
       "      height: 32px;\n",
       "      padding: 0 0 0 0;\n",
       "      width: 32px;\n",
       "    }\n",
       "\n",
       "    .colab-df-convert:hover {\n",
       "      background-color: #E2EBFA;\n",
       "      box-shadow: 0px 1px 2px rgba(60, 64, 67, 0.3), 0px 1px 3px 1px rgba(60, 64, 67, 0.15);\n",
       "      fill: #174EA6;\n",
       "    }\n",
       "\n",
       "    .colab-df-buttons div {\n",
       "      margin-bottom: 4px;\n",
       "    }\n",
       "\n",
       "    [theme=dark] .colab-df-convert {\n",
       "      background-color: #3B4455;\n",
       "      fill: #D2E3FC;\n",
       "    }\n",
       "\n",
       "    [theme=dark] .colab-df-convert:hover {\n",
       "      background-color: #434B5C;\n",
       "      box-shadow: 0px 1px 3px 1px rgba(0, 0, 0, 0.15);\n",
       "      filter: drop-shadow(0px 1px 2px rgba(0, 0, 0, 0.3));\n",
       "      fill: #FFFFFF;\n",
       "    }\n",
       "  </style>\n",
       "\n",
       "    <script>\n",
       "      const buttonEl =\n",
       "        document.querySelector('#df-7980222a-9722-4287-9773-9b5b9da781d3 button.colab-df-convert');\n",
       "      buttonEl.style.display =\n",
       "        google.colab.kernel.accessAllowed ? 'block' : 'none';\n",
       "\n",
       "      async function convertToInteractive(key) {\n",
       "        const element = document.querySelector('#df-7980222a-9722-4287-9773-9b5b9da781d3');\n",
       "        const dataTable =\n",
       "          await google.colab.kernel.invokeFunction('convertToInteractive',\n",
       "                                                    [key], {});\n",
       "        if (!dataTable) return;\n",
       "\n",
       "        const docLinkHtml = 'Like what you see? Visit the ' +\n",
       "          '<a target=\"_blank\" href=https://colab.research.google.com/notebooks/data_table.ipynb>data table notebook</a>'\n",
       "          + ' to learn more about interactive tables.';\n",
       "        element.innerHTML = '';\n",
       "        dataTable['output_type'] = 'display_data';\n",
       "        await google.colab.output.renderOutput(dataTable, element);\n",
       "        const docLink = document.createElement('div');\n",
       "        docLink.innerHTML = docLinkHtml;\n",
       "        element.appendChild(docLink);\n",
       "      }\n",
       "    </script>\n",
       "  </div>\n",
       "\n",
       "\n",
       "<div id=\"df-d602cae4-0b2b-4290-9463-ebfbb1b4fd84\">\n",
       "  <button class=\"colab-df-quickchart\" onclick=\"quickchart('df-d602cae4-0b2b-4290-9463-ebfbb1b4fd84')\"\n",
       "            title=\"Suggest charts.\"\n",
       "            style=\"display:none;\">\n",
       "\n",
       "<svg xmlns=\"http://www.w3.org/2000/svg\" height=\"24px\"viewBox=\"0 0 24 24\"\n",
       "     width=\"24px\">\n",
       "    <g>\n",
       "        <path d=\"M19 3H5c-1.1 0-2 .9-2 2v14c0 1.1.9 2 2 2h14c1.1 0 2-.9 2-2V5c0-1.1-.9-2-2-2zM9 17H7v-7h2v7zm4 0h-2V7h2v10zm4 0h-2v-4h2v4z\"/>\n",
       "    </g>\n",
       "</svg>\n",
       "  </button>\n",
       "\n",
       "<style>\n",
       "  .colab-df-quickchart {\n",
       "      --bg-color: #E8F0FE;\n",
       "      --fill-color: #1967D2;\n",
       "      --hover-bg-color: #E2EBFA;\n",
       "      --hover-fill-color: #174EA6;\n",
       "      --disabled-fill-color: #AAA;\n",
       "      --disabled-bg-color: #DDD;\n",
       "  }\n",
       "\n",
       "  [theme=dark] .colab-df-quickchart {\n",
       "      --bg-color: #3B4455;\n",
       "      --fill-color: #D2E3FC;\n",
       "      --hover-bg-color: #434B5C;\n",
       "      --hover-fill-color: #FFFFFF;\n",
       "      --disabled-bg-color: #3B4455;\n",
       "      --disabled-fill-color: #666;\n",
       "  }\n",
       "\n",
       "  .colab-df-quickchart {\n",
       "    background-color: var(--bg-color);\n",
       "    border: none;\n",
       "    border-radius: 50%;\n",
       "    cursor: pointer;\n",
       "    display: none;\n",
       "    fill: var(--fill-color);\n",
       "    height: 32px;\n",
       "    padding: 0;\n",
       "    width: 32px;\n",
       "  }\n",
       "\n",
       "  .colab-df-quickchart:hover {\n",
       "    background-color: var(--hover-bg-color);\n",
       "    box-shadow: 0 1px 2px rgba(60, 64, 67, 0.3), 0 1px 3px 1px rgba(60, 64, 67, 0.15);\n",
       "    fill: var(--button-hover-fill-color);\n",
       "  }\n",
       "\n",
       "  .colab-df-quickchart-complete:disabled,\n",
       "  .colab-df-quickchart-complete:disabled:hover {\n",
       "    background-color: var(--disabled-bg-color);\n",
       "    fill: var(--disabled-fill-color);\n",
       "    box-shadow: none;\n",
       "  }\n",
       "\n",
       "  .colab-df-spinner {\n",
       "    border: 2px solid var(--fill-color);\n",
       "    border-color: transparent;\n",
       "    border-bottom-color: var(--fill-color);\n",
       "    animation:\n",
       "      spin 1s steps(1) infinite;\n",
       "  }\n",
       "\n",
       "  @keyframes spin {\n",
       "    0% {\n",
       "      border-color: transparent;\n",
       "      border-bottom-color: var(--fill-color);\n",
       "      border-left-color: var(--fill-color);\n",
       "    }\n",
       "    20% {\n",
       "      border-color: transparent;\n",
       "      border-left-color: var(--fill-color);\n",
       "      border-top-color: var(--fill-color);\n",
       "    }\n",
       "    30% {\n",
       "      border-color: transparent;\n",
       "      border-left-color: var(--fill-color);\n",
       "      border-top-color: var(--fill-color);\n",
       "      border-right-color: var(--fill-color);\n",
       "    }\n",
       "    40% {\n",
       "      border-color: transparent;\n",
       "      border-right-color: var(--fill-color);\n",
       "      border-top-color: var(--fill-color);\n",
       "    }\n",
       "    60% {\n",
       "      border-color: transparent;\n",
       "      border-right-color: var(--fill-color);\n",
       "    }\n",
       "    80% {\n",
       "      border-color: transparent;\n",
       "      border-right-color: var(--fill-color);\n",
       "      border-bottom-color: var(--fill-color);\n",
       "    }\n",
       "    90% {\n",
       "      border-color: transparent;\n",
       "      border-bottom-color: var(--fill-color);\n",
       "    }\n",
       "  }\n",
       "</style>\n",
       "\n",
       "  <script>\n",
       "    async function quickchart(key) {\n",
       "      const quickchartButtonEl =\n",
       "        document.querySelector('#' + key + ' button');\n",
       "      quickchartButtonEl.disabled = true;  // To prevent multiple clicks.\n",
       "      quickchartButtonEl.classList.add('colab-df-spinner');\n",
       "      try {\n",
       "        const charts = await google.colab.kernel.invokeFunction(\n",
       "            'suggestCharts', [key], {});\n",
       "      } catch (error) {\n",
       "        console.error('Error during call to suggestCharts:', error);\n",
       "      }\n",
       "      quickchartButtonEl.classList.remove('colab-df-spinner');\n",
       "      quickchartButtonEl.classList.add('colab-df-quickchart-complete');\n",
       "    }\n",
       "    (() => {\n",
       "      let quickchartButtonEl =\n",
       "        document.querySelector('#df-d602cae4-0b2b-4290-9463-ebfbb1b4fd84 button');\n",
       "      quickchartButtonEl.style.display =\n",
       "        google.colab.kernel.accessAllowed ? 'block' : 'none';\n",
       "    })();\n",
       "  </script>\n",
       "</div>\n",
       "    </div>\n",
       "  </div>\n"
      ],
      "text/plain": [
       "        year  make          model  trim   body transmission  \\\n",
       "27146   2011  Ford  Fusion Hybrid  Base  Sedan    automatic   \n",
       "102887  2014  Ford         Fusion    SE  Sedan    automatic   \n",
       "\n",
       "                      vin state  condition  odometer  color interior  \\\n",
       "27146   3fadp0l34br305531    ca        3.4   56369.0   gray    black   \n",
       "102887  3fa6p0hd4er143866    tx        3.3   37607.0  white    black   \n",
       "\n",
       "                                       seller  \\\n",
       "27146   ge fleet services for itself/servicer   \n",
       "102887                       avis corporation   \n",
       "\n",
       "                                       saledate  \n",
       "27146   Thu Jan 22 2015 04:00:00 GMT-0800 (PST)  \n",
       "102887  Wed Feb 25 2015 02:15:00 GMT-0800 (PST)  "
      ]
     },
     "execution_count": 36,
     "metadata": {},
     "output_type": "execute_result"
    }
   ],
   "source": [
    "#прочитаем записанные данные с диска test_fill\n",
    "#read the recorded data from the disk test_fill\n",
    "\n",
    "patch = os.path.join(DATA_PATH, 'test_fill.csv')\n",
    "test_fill = pd.read_csv(patch)\n",
    "test_fill.sample(2)"
   ]
  },
  {
   "cell_type": "code",
   "execution_count": 37,
   "id": "hYQPAU4mWual",
   "metadata": {
    "colab": {
     "base_uri": "https://localhost:8080/"
    },
    "executionInfo": {
     "elapsed": 23,
     "status": "ok",
     "timestamp": 1694150544825,
     "user": {
      "displayName": "Андрей Медведев",
      "userId": "02560461935100345008"
     },
     "user_tz": -180
    },
    "id": "hYQPAU4mWual",
    "outputId": "eac5a678-d94b-462b-ec52-6ba283d14ea2"
   },
   "outputs": [
    {
     "data": {
      "text/plain": [
       "year                0\n",
       "make                0\n",
       "model               0\n",
       "trim             2114\n",
       "body             2594\n",
       "transmission    13011\n",
       "vin                 0\n",
       "state               0\n",
       "condition        2379\n",
       "odometer           19\n",
       "color             158\n",
       "interior          158\n",
       "seller              0\n",
       "saledate            0\n",
       "dtype: int64"
      ]
     },
     "execution_count": 37,
     "metadata": {},
     "output_type": "execute_result"
    }
   ],
   "source": [
    "#checking filling values\n",
    "test_fill.isna().sum()"
   ]
  },
  {
   "cell_type": "code",
   "execution_count": 40,
   "id": "iGKsdMDdaSwL",
   "metadata": {
    "colab": {
     "base_uri": "https://localhost:8080/",
     "height": 53
    },
    "executionInfo": {
     "elapsed": 15,
     "status": "ok",
     "timestamp": 1694150544826,
     "user": {
      "displayName": "Андрей Медведев",
      "userId": "02560461935100345008"
     },
     "user_tz": -180
    },
    "id": "iGKsdMDdaSwL",
    "outputId": "547f206c-e5ae-44d7-d402-f05e06864d0d"
   },
   "outputs": [
    {
     "data": {
      "text/html": [
       "\n",
       "  <div id=\"df-2aeb6156-c239-4524-9056-6ec591a7c76a\" class=\"colab-df-container\">\n",
       "    <div>\n",
       "<style scoped>\n",
       "    .dataframe tbody tr th:only-of-type {\n",
       "        vertical-align: middle;\n",
       "    }\n",
       "\n",
       "    .dataframe tbody tr th {\n",
       "        vertical-align: top;\n",
       "    }\n",
       "\n",
       "    .dataframe thead th {\n",
       "        text-align: right;\n",
       "    }\n",
       "</style>\n",
       "<table border=\"1\" class=\"dataframe\">\n",
       "  <thead>\n",
       "    <tr style=\"text-align: right;\">\n",
       "      <th></th>\n",
       "      <th>year</th>\n",
       "      <th>make</th>\n",
       "      <th>model</th>\n",
       "      <th>trim</th>\n",
       "      <th>body</th>\n",
       "      <th>transmission</th>\n",
       "      <th>vin</th>\n",
       "      <th>state</th>\n",
       "      <th>condition</th>\n",
       "      <th>odometer</th>\n",
       "      <th>color</th>\n",
       "      <th>interior</th>\n",
       "      <th>seller</th>\n",
       "      <th>saledate</th>\n",
       "    </tr>\n",
       "  </thead>\n",
       "  <tbody>\n",
       "  </tbody>\n",
       "</table>\n",
       "</div>\n",
       "    <div class=\"colab-df-buttons\">\n",
       "\n",
       "  <div class=\"colab-df-container\">\n",
       "    <button class=\"colab-df-convert\" onclick=\"convertToInteractive('df-2aeb6156-c239-4524-9056-6ec591a7c76a')\"\n",
       "            title=\"Convert this dataframe to an interactive table.\"\n",
       "            style=\"display:none;\">\n",
       "\n",
       "  <svg xmlns=\"http://www.w3.org/2000/svg\" height=\"24px\" viewBox=\"0 -960 960 960\">\n",
       "    <path d=\"M120-120v-720h720v720H120Zm60-500h600v-160H180v160Zm220 220h160v-160H400v160Zm0 220h160v-160H400v160ZM180-400h160v-160H180v160Zm440 0h160v-160H620v160ZM180-180h160v-160H180v160Zm440 0h160v-160H620v160Z\"/>\n",
       "  </svg>\n",
       "    </button>\n",
       "\n",
       "  <style>\n",
       "    .colab-df-container {\n",
       "      display:flex;\n",
       "      gap: 12px;\n",
       "    }\n",
       "\n",
       "    .colab-df-convert {\n",
       "      background-color: #E8F0FE;\n",
       "      border: none;\n",
       "      border-radius: 50%;\n",
       "      cursor: pointer;\n",
       "      display: none;\n",
       "      fill: #1967D2;\n",
       "      height: 32px;\n",
       "      padding: 0 0 0 0;\n",
       "      width: 32px;\n",
       "    }\n",
       "\n",
       "    .colab-df-convert:hover {\n",
       "      background-color: #E2EBFA;\n",
       "      box-shadow: 0px 1px 2px rgba(60, 64, 67, 0.3), 0px 1px 3px 1px rgba(60, 64, 67, 0.15);\n",
       "      fill: #174EA6;\n",
       "    }\n",
       "\n",
       "    .colab-df-buttons div {\n",
       "      margin-bottom: 4px;\n",
       "    }\n",
       "\n",
       "    [theme=dark] .colab-df-convert {\n",
       "      background-color: #3B4455;\n",
       "      fill: #D2E3FC;\n",
       "    }\n",
       "\n",
       "    [theme=dark] .colab-df-convert:hover {\n",
       "      background-color: #434B5C;\n",
       "      box-shadow: 0px 1px 3px 1px rgba(0, 0, 0, 0.15);\n",
       "      filter: drop-shadow(0px 1px 2px rgba(0, 0, 0, 0.3));\n",
       "      fill: #FFFFFF;\n",
       "    }\n",
       "  </style>\n",
       "\n",
       "    <script>\n",
       "      const buttonEl =\n",
       "        document.querySelector('#df-2aeb6156-c239-4524-9056-6ec591a7c76a button.colab-df-convert');\n",
       "      buttonEl.style.display =\n",
       "        google.colab.kernel.accessAllowed ? 'block' : 'none';\n",
       "\n",
       "      async function convertToInteractive(key) {\n",
       "        const element = document.querySelector('#df-2aeb6156-c239-4524-9056-6ec591a7c76a');\n",
       "        const dataTable =\n",
       "          await google.colab.kernel.invokeFunction('convertToInteractive',\n",
       "                                                    [key], {});\n",
       "        if (!dataTable) return;\n",
       "\n",
       "        const docLinkHtml = 'Like what you see? Visit the ' +\n",
       "          '<a target=\"_blank\" href=https://colab.research.google.com/notebooks/data_table.ipynb>data table notebook</a>'\n",
       "          + ' to learn more about interactive tables.';\n",
       "        element.innerHTML = '';\n",
       "        dataTable['output_type'] = 'display_data';\n",
       "        await google.colab.output.renderOutput(dataTable, element);\n",
       "        const docLink = document.createElement('div');\n",
       "        docLink.innerHTML = docLinkHtml;\n",
       "        element.appendChild(docLink);\n",
       "      }\n",
       "    </script>\n",
       "  </div>\n",
       "\n",
       "    </div>\n",
       "  </div>\n"
      ],
      "text/plain": [
       "Empty DataFrame\n",
       "Columns: [year, make, model, trim, body, transmission, vin, state, condition, odometer, color, interior, seller, saledate]\n",
       "Index: []"
      ]
     },
     "execution_count": 40,
     "metadata": {},
     "output_type": "execute_result"
    }
   ],
   "source": [
    "#additional check\n",
    "test_fill.loc[(test_fill['make'].isna())|(test_fill['model'].isna())]"
   ]
  },
  {
   "cell_type": "code",
   "execution_count": 42,
   "id": "IxGqCRlT9v0a",
   "metadata": {
    "executionInfo": {
     "elapsed": 491,
     "status": "ok",
     "timestamp": 1694150545304,
     "user": {
      "displayName": "Андрей Медведев",
      "userId": "02560461935100345008"
     },
     "user_tz": -180
    },
    "id": "IxGqCRlT9v0a"
   },
   "outputs": [],
   "source": [
    "#удаление строк с неизвестными производителями и марками авто\n",
    "#removing rows with unknown 'make' and 'model'\n",
    "train_fill = train_fill.loc[(~train['make'].isna())&(~train['model'].isna())].reset_index(drop=True)"
   ]
  },
  {
   "cell_type": "code",
   "execution_count": 43,
   "id": "lakjIPiy_2zN",
   "metadata": {
    "executionInfo": {
     "elapsed": 3,
     "status": "ok",
     "timestamp": 1694150545305,
     "user": {
      "displayName": "Андрей Медведев",
      "userId": "02560461935100345008"
     },
     "user_tz": -180
    },
    "id": "lakjIPiy_2zN"
   },
   "outputs": [],
   "source": [
    "#категориальные столбцы\n",
    "#categorical columns\n",
    "cat_col = [##'year',\n",
    "           'make',\n",
    "           'model',\n",
    "           'trim',\n",
    "           'body',\n",
    "           'transmission',\n",
    "           ##'vin',\n",
    "           ##'state',\n",
    "           ##'condition',\n",
    "           ##'odometer',\n",
    "           'color',\n",
    "           'interior',\n",
    "           'seller',\n",
    "           ##'sellingprice',\n",
    "           ##'saledate'\n",
    "           ]"
   ]
  },
  {
   "cell_type": "code",
   "execution_count": 44,
   "id": "IJ8Ye-NK-5FU",
   "metadata": {
    "executionInfo": {
     "elapsed": 6483,
     "status": "ok",
     "timestamp": 1694150551785,
     "user": {
      "displayName": "Андрей Медведев",
      "userId": "02560461935100345008"
     },
     "user_tz": -180
    },
    "id": "IJ8Ye-NK-5FU"
   },
   "outputs": [],
   "source": [
    "#перевод всех значений кат столбцов в нижний регистр,удаление первого и последнего пробела\n",
    "#convert all cat column values to lower case, removing the first and last space\n",
    "\n",
    "for j in cat_col:\n",
    "    train_fill[j] = train_fill[j].str.lower().str.strip()"
   ]
  },
  {
   "cell_type": "code",
   "execution_count": 45,
   "id": "Lkei3fITvP9e",
   "metadata": {
    "executionInfo": {
     "elapsed": 559,
     "status": "ok",
     "timestamp": 1694150552339,
     "user": {
      "displayName": "Андрей Медведев",
      "userId": "02560461935100345008"
     },
     "user_tz": -180
    },
    "id": "Lkei3fITvP9e"
   },
   "outputs": [],
   "source": [
    "#перевод всех значений кат столбцов в нижний регистр,удаление первого и последнего пробела\n",
    "#also for test\n",
    "\n",
    "for j in cat_col:\n",
    "    test_fill[j] = test_fill[j].str.lower().str.strip()"
   ]
  },
  {
   "cell_type": "code",
   "execution_count": 46,
   "id": "yiW_LDqb-5MY",
   "metadata": {
    "colab": {
     "base_uri": "https://localhost:8080/"
    },
    "executionInfo": {
     "elapsed": 35,
     "status": "ok",
     "timestamp": 1694150552339,
     "user": {
      "displayName": "Андрей Медведев",
      "userId": "02560461935100345008"
     },
     "user_tz": -180
    },
    "id": "yiW_LDqb-5MY",
    "outputId": "39e81408-c914-4e3d-fba4-0705a4795ac8"
   },
   "outputs": [
    {
     "data": {
      "text/plain": [
       "['acura',\n",
       " 'airstream',\n",
       " 'aston martin',\n",
       " 'audi',\n",
       " 'bentley',\n",
       " 'bmw',\n",
       " 'buick',\n",
       " 'cadillac',\n",
       " 'chevrolet',\n",
       " 'chrysler',\n",
       " 'daewoo',\n",
       " 'dodge',\n",
       " 'dodge tk',\n",
       " 'dot',\n",
       " 'ferrari',\n",
       " 'fiat',\n",
       " 'fisker',\n",
       " 'ford',\n",
       " 'ford truck',\n",
       " 'geo',\n",
       " 'gmc',\n",
       " 'gmc truck',\n",
       " 'honda',\n",
       " 'hummer',\n",
       " 'hyundai',\n",
       " 'infiniti',\n",
       " 'isuzu',\n",
       " 'jaguar',\n",
       " 'jeep',\n",
       " 'kia',\n",
       " 'lamborghini',\n",
       " 'land rover',\n",
       " 'landrover',\n",
       " 'lexus',\n",
       " 'lincoln',\n",
       " 'maserati',\n",
       " 'mazda',\n",
       " 'mazda tk',\n",
       " 'mercedes',\n",
       " 'mercedes-b',\n",
       " 'mercedes-benz',\n",
       " 'mercury',\n",
       " 'mini',\n",
       " 'mitsubishi',\n",
       " 'nissan',\n",
       " 'oldsmobile',\n",
       " 'plymouth',\n",
       " 'pontiac',\n",
       " 'porsche',\n",
       " 'ram',\n",
       " 'rolls-royce',\n",
       " 'saab',\n",
       " 'saturn',\n",
       " 'scion',\n",
       " 'smart',\n",
       " 'subaru',\n",
       " 'suzuki',\n",
       " 'tesla',\n",
       " 'toyota',\n",
       " 'volkswagen',\n",
       " 'volvo',\n",
       " 'vw']"
      ]
     },
     "execution_count": 46,
     "metadata": {},
     "output_type": "execute_result"
    }
   ],
   "source": [
    "#check unique values\n",
    "sorted(train_fill.make.unique())"
   ]
  },
  {
   "cell_type": "code",
   "execution_count": 47,
   "id": "bVHF6hXRvZpO",
   "metadata": {
    "colab": {
     "base_uri": "https://localhost:8080/"
    },
    "executionInfo": {
     "elapsed": 19,
     "status": "ok",
     "timestamp": 1694150552340,
     "user": {
      "displayName": "Андрей Медведев",
      "userId": "02560461935100345008"
     },
     "user_tz": -180
    },
    "id": "bVHF6hXRvZpO",
    "outputId": "a83d191c-58e7-40ea-a228-14b9ed660172"
   },
   "outputs": [
    {
     "data": {
      "text/plain": [
       "['acura',\n",
       " 'aston martin',\n",
       " 'audi',\n",
       " 'bentley',\n",
       " 'bmw',\n",
       " 'buick',\n",
       " 'cadillac',\n",
       " 'chev truck',\n",
       " 'chevrolet',\n",
       " 'chrysler',\n",
       " 'daewoo',\n",
       " 'dodge',\n",
       " 'ferrari',\n",
       " 'fiat',\n",
       " 'fisker',\n",
       " 'ford',\n",
       " 'ford tk',\n",
       " 'freightliner',\n",
       " 'geo',\n",
       " 'gmc',\n",
       " 'honda',\n",
       " 'hummer',\n",
       " 'hyundai',\n",
       " 'hyundai tk',\n",
       " 'infiniti',\n",
       " 'isuzu',\n",
       " 'jaguar',\n",
       " 'jeep',\n",
       " 'kia',\n",
       " 'land rover',\n",
       " 'landrover',\n",
       " 'lexus',\n",
       " 'lincoln',\n",
       " 'lotus',\n",
       " 'maserati',\n",
       " 'mazda',\n",
       " 'mercedes',\n",
       " 'mercedes-benz',\n",
       " 'mercury',\n",
       " 'mini',\n",
       " 'mitsubishi',\n",
       " 'nissan',\n",
       " 'oldsmobile',\n",
       " 'plymouth',\n",
       " 'pontiac',\n",
       " 'porsche',\n",
       " 'ram',\n",
       " 'rolls-royce',\n",
       " 'saab',\n",
       " 'saturn',\n",
       " 'scion',\n",
       " 'smart',\n",
       " 'subaru',\n",
       " 'suzuki',\n",
       " 'tesla',\n",
       " 'toyota',\n",
       " 'volkswagen',\n",
       " 'volvo',\n",
       " 'vw']"
      ]
     },
     "execution_count": 47,
     "metadata": {},
     "output_type": "execute_result"
    }
   ],
   "source": [
    "#also for test\n",
    "sorted(test_fill.make.unique())"
   ]
  },
  {
   "cell_type": "code",
   "execution_count": 48,
   "id": "UYQ4fexYxCyR",
   "metadata": {
    "executionInfo": {
     "elapsed": 4,
     "status": "ok",
     "timestamp": 1694150552340,
     "user": {
      "displayName": "Андрей Медведев",
      "userId": "02560461935100345008"
     },
     "user_tz": -180
    },
    "id": "UYQ4fexYxCyR"
   },
   "outputs": [],
   "source": [
    "#приведение названий производителей к одному виду\n",
    "#функция для замены\n",
    "\n",
    "#bringing the names of manufacturers to the same type\n",
    "\n",
    "def change_val(value):\n",
    "    if value=='dodge tk':\n",
    "        return 'dodge'\n",
    "    elif value=='ford truck':\n",
    "        return 'ford'\n",
    "    elif value=='gmc truck':\n",
    "        return 'gmc'\n",
    "\n",
    "    elif value=='chev truck':\n",
    "        return 'chevrolet'\n",
    "    elif value=='ford tk':\n",
    "        return 'ford'\n",
    "    elif value=='hyundai tk':\n",
    "        return 'hyundai'\n",
    "\n",
    "\n",
    "    elif value=='land rover':\n",
    "        return 'landrover'\n",
    "    elif value=='mazda tk':\n",
    "        return 'mazda'\n",
    "    elif value=='mercedes-benz' or value=='mercedes-b':\n",
    "        return 'mercedes'\n",
    "    elif value=='vw':\n",
    "        return 'volkswagen'\n",
    "    elif value=='land rover':\n",
    "        return 'landrover'\n",
    "    else:\n",
    "        return value"
   ]
  },
  {
   "cell_type": "code",
   "execution_count": 49,
   "id": "MNWxC0_ixC6a",
   "metadata": {
    "executionInfo": {
     "elapsed": 366,
     "status": "ok",
     "timestamp": 1694150552702,
     "user": {
      "displayName": "Андрей Медведев",
      "userId": "02560461935100345008"
     },
     "user_tz": -180
    },
    "id": "MNWxC0_ixC6a"
   },
   "outputs": [],
   "source": [
    "#замена названий производителей авто\n",
    "#replacing car manufacturer names\n",
    "\n",
    "train_fill.make = train_fill.make.apply(change_val)"
   ]
  },
  {
   "cell_type": "code",
   "execution_count": 50,
   "id": "h5Zkz5YdxDA6",
   "metadata": {
    "colab": {
     "base_uri": "https://localhost:8080/"
    },
    "executionInfo": {
     "elapsed": 14,
     "status": "ok",
     "timestamp": 1694150552702,
     "user": {
      "displayName": "Андрей Медведев",
      "userId": "02560461935100345008"
     },
     "user_tz": -180
    },
    "id": "h5Zkz5YdxDA6",
    "outputId": "504968cd-eec0-497d-ddd0-b7843e9de5ea"
   },
   "outputs": [
    {
     "data": {
      "text/plain": [
       "['acura',\n",
       " 'airstream',\n",
       " 'aston martin',\n",
       " 'audi',\n",
       " 'bentley',\n",
       " 'bmw',\n",
       " 'buick',\n",
       " 'cadillac',\n",
       " 'chevrolet',\n",
       " 'chrysler',\n",
       " 'daewoo',\n",
       " 'dodge',\n",
       " 'dot',\n",
       " 'ferrari',\n",
       " 'fiat',\n",
       " 'fisker',\n",
       " 'ford',\n",
       " 'geo',\n",
       " 'gmc',\n",
       " 'honda',\n",
       " 'hummer',\n",
       " 'hyundai',\n",
       " 'infiniti',\n",
       " 'isuzu',\n",
       " 'jaguar',\n",
       " 'jeep',\n",
       " 'kia',\n",
       " 'lamborghini',\n",
       " 'landrover',\n",
       " 'lexus',\n",
       " 'lincoln',\n",
       " 'maserati',\n",
       " 'mazda',\n",
       " 'mercedes',\n",
       " 'mercury',\n",
       " 'mini',\n",
       " 'mitsubishi',\n",
       " 'nissan',\n",
       " 'oldsmobile',\n",
       " 'plymouth',\n",
       " 'pontiac',\n",
       " 'porsche',\n",
       " 'ram',\n",
       " 'rolls-royce',\n",
       " 'saab',\n",
       " 'saturn',\n",
       " 'scion',\n",
       " 'smart',\n",
       " 'subaru',\n",
       " 'suzuki',\n",
       " 'tesla',\n",
       " 'toyota',\n",
       " 'volkswagen',\n",
       " 'volvo']"
      ]
     },
     "execution_count": 50,
     "metadata": {},
     "output_type": "execute_result"
    }
   ],
   "source": [
    "sorted(train_fill.make.unique())"
   ]
  },
  {
   "cell_type": "code",
   "execution_count": 51,
   "id": "FNMI8XjuIW6N",
   "metadata": {
    "executionInfo": {
     "elapsed": 9,
     "status": "ok",
     "timestamp": 1694150552702,
     "user": {
      "displayName": "Андрей Медведев",
      "userId": "02560461935100345008"
     },
     "user_tz": -180
    },
    "id": "FNMI8XjuIW6N"
   },
   "outputs": [],
   "source": [
    "#замена названий производителей авто\n",
    "#also for test\n",
    "\n",
    "test_fill.make = test_fill.make.apply(change_val)"
   ]
  },
  {
   "cell_type": "code",
   "execution_count": 52,
   "id": "GITMckg7IW-_",
   "metadata": {
    "colab": {
     "base_uri": "https://localhost:8080/"
    },
    "executionInfo": {
     "elapsed": 9,
     "status": "ok",
     "timestamp": 1694150552702,
     "user": {
      "displayName": "Андрей Медведев",
      "userId": "02560461935100345008"
     },
     "user_tz": -180
    },
    "id": "GITMckg7IW-_",
    "outputId": "acc6c2ea-d098-458d-9de9-38d3946d5b2d"
   },
   "outputs": [
    {
     "data": {
      "text/plain": [
       "['acura',\n",
       " 'aston martin',\n",
       " 'audi',\n",
       " 'bentley',\n",
       " 'bmw',\n",
       " 'buick',\n",
       " 'cadillac',\n",
       " 'chevrolet',\n",
       " 'chrysler',\n",
       " 'daewoo',\n",
       " 'dodge',\n",
       " 'ferrari',\n",
       " 'fiat',\n",
       " 'fisker',\n",
       " 'ford',\n",
       " 'freightliner',\n",
       " 'geo',\n",
       " 'gmc',\n",
       " 'honda',\n",
       " 'hummer',\n",
       " 'hyundai',\n",
       " 'infiniti',\n",
       " 'isuzu',\n",
       " 'jaguar',\n",
       " 'jeep',\n",
       " 'kia',\n",
       " 'landrover',\n",
       " 'lexus',\n",
       " 'lincoln',\n",
       " 'lotus',\n",
       " 'maserati',\n",
       " 'mazda',\n",
       " 'mercedes',\n",
       " 'mercury',\n",
       " 'mini',\n",
       " 'mitsubishi',\n",
       " 'nissan',\n",
       " 'oldsmobile',\n",
       " 'plymouth',\n",
       " 'pontiac',\n",
       " 'porsche',\n",
       " 'ram',\n",
       " 'rolls-royce',\n",
       " 'saab',\n",
       " 'saturn',\n",
       " 'scion',\n",
       " 'smart',\n",
       " 'subaru',\n",
       " 'suzuki',\n",
       " 'tesla',\n",
       " 'toyota',\n",
       " 'volkswagen',\n",
       " 'volvo']"
      ]
     },
     "execution_count": 52,
     "metadata": {},
     "output_type": "execute_result"
    }
   ],
   "source": [
    "sorted(test_fill.make.unique())"
   ]
  },
  {
   "cell_type": "code",
   "execution_count": 53,
   "id": "84RhkFnOAuKM",
   "metadata": {
    "colab": {
     "base_uri": "https://localhost:8080/"
    },
    "executionInfo": {
     "elapsed": 743,
     "status": "ok",
     "timestamp": 1694150553443,
     "user": {
      "displayName": "Андрей Медведев",
      "userId": "02560461935100345008"
     },
     "user_tz": -180
    },
    "id": "84RhkFnOAuKM",
    "outputId": "98691477-9b51-478a-fe37-8a898faf281f"
   },
   "outputs": [
    {
     "data": {
      "text/plain": [
       "year                0\n",
       "make                0\n",
       "model               0\n",
       "trim              294\n",
       "body             2350\n",
       "transmission    50071\n",
       "vin                 0\n",
       "state               0\n",
       "condition        9339\n",
       "odometer           67\n",
       "color             567\n",
       "interior          567\n",
       "seller              0\n",
       "sellingprice        0\n",
       "saledate            0\n",
       "dtype: int64"
      ]
     },
     "execution_count": 53,
     "metadata": {},
     "output_type": "execute_result"
    }
   ],
   "source": [
    "#ckech filling values\n",
    "train_fill.isna().sum()"
   ]
  },
  {
   "cell_type": "code",
   "execution_count": 54,
   "id": "Z2teAyuZIuT1",
   "metadata": {
    "colab": {
     "base_uri": "https://localhost:8080/"
    },
    "executionInfo": {
     "elapsed": 529,
     "status": "ok",
     "timestamp": 1694150553968,
     "user": {
      "displayName": "Андрей Медведев",
      "userId": "02560461935100345008"
     },
     "user_tz": -180
    },
    "id": "Z2teAyuZIuT1",
    "outputId": "d99012af-9496-47c6-8b8d-a21a83c506d0"
   },
   "outputs": [
    {
     "data": {
      "text/plain": [
       "year                0\n",
       "make                0\n",
       "model               0\n",
       "trim             2114\n",
       "body             2594\n",
       "transmission    13011\n",
       "vin                 0\n",
       "state               0\n",
       "condition        2379\n",
       "odometer           19\n",
       "color             158\n",
       "interior          158\n",
       "seller              0\n",
       "saledate            0\n",
       "dtype: int64"
      ]
     },
     "execution_count": 54,
     "metadata": {},
     "output_type": "execute_result"
    }
   ],
   "source": [
    "#for test\n",
    "test_fill.isna().sum()"
   ]
  },
  {
   "cell_type": "code",
   "execution_count": 55,
   "id": "ZuFQHzUcAuQx",
   "metadata": {
    "colab": {
     "base_uri": "https://localhost:8080/"
    },
    "executionInfo": {
     "elapsed": 6301,
     "status": "ok",
     "timestamp": 1694150560265,
     "user": {
      "displayName": "Андрей Медведев",
      "userId": "02560461935100345008"
     },
     "user_tz": -180
    },
    "id": "ZuFQHzUcAuQx",
    "outputId": "3b803753-ea67-4c36-f85e-f92c7ad38f8c"
   },
   "outputs": [
    {
     "name": "stderr",
     "output_type": "stream",
     "text": [
      "/usr/local/lib/python3.10/dist-packages/pandas/core/groupby/groupby.py:1668: FutureWarning: Unlike other reduction functions (e.g. `skew`, `kurtosis`), the default behavior of `mode` typically preserves the axis it acts along. In SciPy 1.11.0, this behavior will change: the default value of `keepdims` will become False, the `axis` over which the statistic is taken will be eliminated, and the value None will no longer be accepted. Set `keepdims` to True or False to avoid this warning.\n",
      "  f = lambda x: func(x, *args, **kwargs)\n",
      "/usr/local/lib/python3.10/dist-packages/pandas/core/groupby/groupby.py:1668: FutureWarning: Unlike other reduction functions (e.g. `skew`, `kurtosis`), the default behavior of `mode` typically preserves the axis it acts along. In SciPy 1.11.0, this behavior will change: the default value of `keepdims` will become False, the `axis` over which the statistic is taken will be eliminated, and the value None will no longer be accepted. Set `keepdims` to True or False to avoid this warning.\n",
      "  f = lambda x: func(x, *args, **kwargs)\n",
      "/usr/local/lib/python3.10/dist-packages/pandas/core/groupby/groupby.py:1668: FutureWarning: Unlike other reduction functions (e.g. `skew`, `kurtosis`), the default behavior of `mode` typically preserves the axis it acts along. In SciPy 1.11.0, this behavior will change: the default value of `keepdims` will become False, the `axis` over which the statistic is taken will be eliminated, and the value None will no longer be accepted. Set `keepdims` to True or False to avoid this warning.\n",
      "  f = lambda x: func(x, *args, **kwargs)\n",
      "/usr/local/lib/python3.10/dist-packages/pandas/core/groupby/groupby.py:1668: FutureWarning: Unlike other reduction functions (e.g. `skew`, `kurtosis`), the default behavior of `mode` typically preserves the axis it acts along. In SciPy 1.11.0, this behavior will change: the default value of `keepdims` will become False, the `axis` over which the statistic is taken will be eliminated, and the value None will no longer be accepted. Set `keepdims` to True or False to avoid this warning.\n",
      "  f = lambda x: func(x, *args, **kwargs)\n",
      "/usr/local/lib/python3.10/dist-packages/pandas/core/groupby/groupby.py:1668: FutureWarning: Unlike other reduction functions (e.g. `skew`, `kurtosis`), the default behavior of `mode` typically preserves the axis it acts along. In SciPy 1.11.0, this behavior will change: the default value of `keepdims` will become False, the `axis` over which the statistic is taken will be eliminated, and the value None will no longer be accepted. Set `keepdims` to True or False to avoid this warning.\n",
      "  f = lambda x: func(x, *args, **kwargs)\n"
     ]
    }
   ],
   "source": [
    "#группировка о производителю, модели и году для получения моды для некоторых признаков\n",
    "#смысл - получить самые распростанённые значения (отделки, кузова, трансмисии, цвет и интерьер) в зависимости от  фирмы, марки и года выпуска\n",
    "#grouping by manufacturer, model and year to obtain fashion for some features\n",
    "\n",
    "train_grb = (\n",
    "    train_fill.groupby(['make', 'model', 'year'])\n",
    "    .agg({'trim':[mode],\n",
    "          'body':[mode],\n",
    "          'transmission':[mode],\n",
    "          'color':[mode],\n",
    "          'interior':[mode]})\n",
    "    #.sort_values(by=[('ratings', 'median')], ascending=False)\n",
    ")"
   ]
  },
  {
   "cell_type": "code",
   "execution_count": 56,
   "id": "tIh4wSRoAuWZ",
   "metadata": {
    "colab": {
     "base_uri": "https://localhost:8080/",
     "height": 486
    },
    "executionInfo": {
     "elapsed": 40,
     "status": "ok",
     "timestamp": 1694150560266,
     "user": {
      "displayName": "Андрей Медведев",
      "userId": "02560461935100345008"
     },
     "user_tz": -180
    },
    "id": "tIh4wSRoAuWZ",
    "outputId": "7e795d81-79be-49ab-d930-db6a64fad048"
   },
   "outputs": [
    {
     "data": {
      "text/html": [
       "\n",
       "  <div id=\"df-61df11cb-6edf-4094-a72a-d3c740625c19\" class=\"colab-df-container\">\n",
       "    <div>\n",
       "<style scoped>\n",
       "    .dataframe tbody tr th:only-of-type {\n",
       "        vertical-align: middle;\n",
       "    }\n",
       "\n",
       "    .dataframe tbody tr th {\n",
       "        vertical-align: top;\n",
       "    }\n",
       "\n",
       "    .dataframe thead tr th {\n",
       "        text-align: left;\n",
       "    }\n",
       "\n",
       "    .dataframe thead tr:last-of-type th {\n",
       "        text-align: right;\n",
       "    }\n",
       "</style>\n",
       "<table border=\"1\" class=\"dataframe\">\n",
       "  <thead>\n",
       "    <tr>\n",
       "      <th></th>\n",
       "      <th></th>\n",
       "      <th></th>\n",
       "      <th>trim</th>\n",
       "      <th>body</th>\n",
       "      <th>transmission</th>\n",
       "      <th>color</th>\n",
       "      <th>interior</th>\n",
       "    </tr>\n",
       "    <tr>\n",
       "      <th></th>\n",
       "      <th></th>\n",
       "      <th></th>\n",
       "      <th>mode</th>\n",
       "      <th>mode</th>\n",
       "      <th>mode</th>\n",
       "      <th>mode</th>\n",
       "      <th>mode</th>\n",
       "    </tr>\n",
       "    <tr>\n",
       "      <th>make</th>\n",
       "      <th>model</th>\n",
       "      <th>year</th>\n",
       "      <th></th>\n",
       "      <th></th>\n",
       "      <th></th>\n",
       "      <th></th>\n",
       "      <th></th>\n",
       "    </tr>\n",
       "  </thead>\n",
       "  <tbody>\n",
       "    <tr>\n",
       "      <th rowspan=\"5\" valign=\"top\">acura</th>\n",
       "      <th rowspan=\"5\" valign=\"top\">cl</th>\n",
       "      <th>1997</th>\n",
       "      <td>([3.0 premium], [6])</td>\n",
       "      <td>([coupe], [14])</td>\n",
       "      <td>([automatic], [12])</td>\n",
       "      <td>([blue], [4])</td>\n",
       "      <td>([gray], [11])</td>\n",
       "    </tr>\n",
       "    <tr>\n",
       "      <th>1998</th>\n",
       "      <td>([3.0 premium], [4])</td>\n",
       "      <td>([coupe], [5])</td>\n",
       "      <td>([automatic], [5])</td>\n",
       "      <td>([white], [3])</td>\n",
       "      <td>([black], [2])</td>\n",
       "    </tr>\n",
       "    <tr>\n",
       "      <th>1999</th>\n",
       "      <td>([3.0], [7])</td>\n",
       "      <td>([coupe], [10])</td>\n",
       "      <td>([automatic], [9])</td>\n",
       "      <td>([black], [5])</td>\n",
       "      <td>([black], [5])</td>\n",
       "    </tr>\n",
       "    <tr>\n",
       "      <th>2001</th>\n",
       "      <td>([3.2 type-s], [16])</td>\n",
       "      <td>([coupe], [30])</td>\n",
       "      <td>([automatic], [26])</td>\n",
       "      <td>([black], [12])</td>\n",
       "      <td>([black], [12])</td>\n",
       "    </tr>\n",
       "    <tr>\n",
       "      <th>2002</th>\n",
       "      <td>([3.2 type-s], [2])</td>\n",
       "      <td>([coupe], [3])</td>\n",
       "      <td>([automatic], [3])</td>\n",
       "      <td>([white], [2])</td>\n",
       "      <td>([beige], [1])</td>\n",
       "    </tr>\n",
       "    <tr>\n",
       "      <th>...</th>\n",
       "      <th>...</th>\n",
       "      <th>...</th>\n",
       "      <td>...</td>\n",
       "      <td>...</td>\n",
       "      <td>...</td>\n",
       "      <td>...</td>\n",
       "      <td>...</td>\n",
       "    </tr>\n",
       "    <tr>\n",
       "      <th rowspan=\"5\" valign=\"top\">volvo</th>\n",
       "      <th rowspan=\"5\" valign=\"top\">xc90</th>\n",
       "      <th>2010</th>\n",
       "      <td>([3.2], [42])</td>\n",
       "      <td>([suv], [52])</td>\n",
       "      <td>([automatic], [39])</td>\n",
       "      <td>([black], [18])</td>\n",
       "      <td>([black], [25])</td>\n",
       "    </tr>\n",
       "    <tr>\n",
       "      <th>2011</th>\n",
       "      <td>([3.2], [19])</td>\n",
       "      <td>([suv], [22])</td>\n",
       "      <td>([automatic], [15])</td>\n",
       "      <td>([silver], [5])</td>\n",
       "      <td>([black], [9])</td>\n",
       "    </tr>\n",
       "    <tr>\n",
       "      <th>2012</th>\n",
       "      <td>([3.2], [28])</td>\n",
       "      <td>([suv], [28])</td>\n",
       "      <td>([nan], [14])</td>\n",
       "      <td>([black], [11])</td>\n",
       "      <td>([black], [11])</td>\n",
       "    </tr>\n",
       "    <tr>\n",
       "      <th>2013</th>\n",
       "      <td>([3.2], [11])</td>\n",
       "      <td>([suv], [11])</td>\n",
       "      <td>([automatic], [9])</td>\n",
       "      <td>([white], [5])</td>\n",
       "      <td>([beige], [6])</td>\n",
       "    </tr>\n",
       "    <tr>\n",
       "      <th>2014</th>\n",
       "      <td>([3.2], [22])</td>\n",
       "      <td>([suv], [22])</td>\n",
       "      <td>([automatic], [22])</td>\n",
       "      <td>([black], [9])</td>\n",
       "      <td>([black], [14])</td>\n",
       "    </tr>\n",
       "  </tbody>\n",
       "</table>\n",
       "<p>5271 rows × 5 columns</p>\n",
       "</div>\n",
       "    <div class=\"colab-df-buttons\">\n",
       "\n",
       "  <div class=\"colab-df-container\">\n",
       "    <button class=\"colab-df-convert\" onclick=\"convertToInteractive('df-61df11cb-6edf-4094-a72a-d3c740625c19')\"\n",
       "            title=\"Convert this dataframe to an interactive table.\"\n",
       "            style=\"display:none;\">\n",
       "\n",
       "  <svg xmlns=\"http://www.w3.org/2000/svg\" height=\"24px\" viewBox=\"0 -960 960 960\">\n",
       "    <path d=\"M120-120v-720h720v720H120Zm60-500h600v-160H180v160Zm220 220h160v-160H400v160Zm0 220h160v-160H400v160ZM180-400h160v-160H180v160Zm440 0h160v-160H620v160ZM180-180h160v-160H180v160Zm440 0h160v-160H620v160Z\"/>\n",
       "  </svg>\n",
       "    </button>\n",
       "\n",
       "  <style>\n",
       "    .colab-df-container {\n",
       "      display:flex;\n",
       "      gap: 12px;\n",
       "    }\n",
       "\n",
       "    .colab-df-convert {\n",
       "      background-color: #E8F0FE;\n",
       "      border: none;\n",
       "      border-radius: 50%;\n",
       "      cursor: pointer;\n",
       "      display: none;\n",
       "      fill: #1967D2;\n",
       "      height: 32px;\n",
       "      padding: 0 0 0 0;\n",
       "      width: 32px;\n",
       "    }\n",
       "\n",
       "    .colab-df-convert:hover {\n",
       "      background-color: #E2EBFA;\n",
       "      box-shadow: 0px 1px 2px rgba(60, 64, 67, 0.3), 0px 1px 3px 1px rgba(60, 64, 67, 0.15);\n",
       "      fill: #174EA6;\n",
       "    }\n",
       "\n",
       "    .colab-df-buttons div {\n",
       "      margin-bottom: 4px;\n",
       "    }\n",
       "\n",
       "    [theme=dark] .colab-df-convert {\n",
       "      background-color: #3B4455;\n",
       "      fill: #D2E3FC;\n",
       "    }\n",
       "\n",
       "    [theme=dark] .colab-df-convert:hover {\n",
       "      background-color: #434B5C;\n",
       "      box-shadow: 0px 1px 3px 1px rgba(0, 0, 0, 0.15);\n",
       "      filter: drop-shadow(0px 1px 2px rgba(0, 0, 0, 0.3));\n",
       "      fill: #FFFFFF;\n",
       "    }\n",
       "  </style>\n",
       "\n",
       "    <script>\n",
       "      const buttonEl =\n",
       "        document.querySelector('#df-61df11cb-6edf-4094-a72a-d3c740625c19 button.colab-df-convert');\n",
       "      buttonEl.style.display =\n",
       "        google.colab.kernel.accessAllowed ? 'block' : 'none';\n",
       "\n",
       "      async function convertToInteractive(key) {\n",
       "        const element = document.querySelector('#df-61df11cb-6edf-4094-a72a-d3c740625c19');\n",
       "        const dataTable =\n",
       "          await google.colab.kernel.invokeFunction('convertToInteractive',\n",
       "                                                    [key], {});\n",
       "        if (!dataTable) return;\n",
       "\n",
       "        const docLinkHtml = 'Like what you see? Visit the ' +\n",
       "          '<a target=\"_blank\" href=https://colab.research.google.com/notebooks/data_table.ipynb>data table notebook</a>'\n",
       "          + ' to learn more about interactive tables.';\n",
       "        element.innerHTML = '';\n",
       "        dataTable['output_type'] = 'display_data';\n",
       "        await google.colab.output.renderOutput(dataTable, element);\n",
       "        const docLink = document.createElement('div');\n",
       "        docLink.innerHTML = docLinkHtml;\n",
       "        element.appendChild(docLink);\n",
       "      }\n",
       "    </script>\n",
       "  </div>\n",
       "\n",
       "\n",
       "<div id=\"df-c2837b1d-0cd5-4f0e-8d35-d67cb2735999\">\n",
       "  <button class=\"colab-df-quickchart\" onclick=\"quickchart('df-c2837b1d-0cd5-4f0e-8d35-d67cb2735999')\"\n",
       "            title=\"Suggest charts.\"\n",
       "            style=\"display:none;\">\n",
       "\n",
       "<svg xmlns=\"http://www.w3.org/2000/svg\" height=\"24px\"viewBox=\"0 0 24 24\"\n",
       "     width=\"24px\">\n",
       "    <g>\n",
       "        <path d=\"M19 3H5c-1.1 0-2 .9-2 2v14c0 1.1.9 2 2 2h14c1.1 0 2-.9 2-2V5c0-1.1-.9-2-2-2zM9 17H7v-7h2v7zm4 0h-2V7h2v10zm4 0h-2v-4h2v4z\"/>\n",
       "    </g>\n",
       "</svg>\n",
       "  </button>\n",
       "\n",
       "<style>\n",
       "  .colab-df-quickchart {\n",
       "      --bg-color: #E8F0FE;\n",
       "      --fill-color: #1967D2;\n",
       "      --hover-bg-color: #E2EBFA;\n",
       "      --hover-fill-color: #174EA6;\n",
       "      --disabled-fill-color: #AAA;\n",
       "      --disabled-bg-color: #DDD;\n",
       "  }\n",
       "\n",
       "  [theme=dark] .colab-df-quickchart {\n",
       "      --bg-color: #3B4455;\n",
       "      --fill-color: #D2E3FC;\n",
       "      --hover-bg-color: #434B5C;\n",
       "      --hover-fill-color: #FFFFFF;\n",
       "      --disabled-bg-color: #3B4455;\n",
       "      --disabled-fill-color: #666;\n",
       "  }\n",
       "\n",
       "  .colab-df-quickchart {\n",
       "    background-color: var(--bg-color);\n",
       "    border: none;\n",
       "    border-radius: 50%;\n",
       "    cursor: pointer;\n",
       "    display: none;\n",
       "    fill: var(--fill-color);\n",
       "    height: 32px;\n",
       "    padding: 0;\n",
       "    width: 32px;\n",
       "  }\n",
       "\n",
       "  .colab-df-quickchart:hover {\n",
       "    background-color: var(--hover-bg-color);\n",
       "    box-shadow: 0 1px 2px rgba(60, 64, 67, 0.3), 0 1px 3px 1px rgba(60, 64, 67, 0.15);\n",
       "    fill: var(--button-hover-fill-color);\n",
       "  }\n",
       "\n",
       "  .colab-df-quickchart-complete:disabled,\n",
       "  .colab-df-quickchart-complete:disabled:hover {\n",
       "    background-color: var(--disabled-bg-color);\n",
       "    fill: var(--disabled-fill-color);\n",
       "    box-shadow: none;\n",
       "  }\n",
       "\n",
       "  .colab-df-spinner {\n",
       "    border: 2px solid var(--fill-color);\n",
       "    border-color: transparent;\n",
       "    border-bottom-color: var(--fill-color);\n",
       "    animation:\n",
       "      spin 1s steps(1) infinite;\n",
       "  }\n",
       "\n",
       "  @keyframes spin {\n",
       "    0% {\n",
       "      border-color: transparent;\n",
       "      border-bottom-color: var(--fill-color);\n",
       "      border-left-color: var(--fill-color);\n",
       "    }\n",
       "    20% {\n",
       "      border-color: transparent;\n",
       "      border-left-color: var(--fill-color);\n",
       "      border-top-color: var(--fill-color);\n",
       "    }\n",
       "    30% {\n",
       "      border-color: transparent;\n",
       "      border-left-color: var(--fill-color);\n",
       "      border-top-color: var(--fill-color);\n",
       "      border-right-color: var(--fill-color);\n",
       "    }\n",
       "    40% {\n",
       "      border-color: transparent;\n",
       "      border-right-color: var(--fill-color);\n",
       "      border-top-color: var(--fill-color);\n",
       "    }\n",
       "    60% {\n",
       "      border-color: transparent;\n",
       "      border-right-color: var(--fill-color);\n",
       "    }\n",
       "    80% {\n",
       "      border-color: transparent;\n",
       "      border-right-color: var(--fill-color);\n",
       "      border-bottom-color: var(--fill-color);\n",
       "    }\n",
       "    90% {\n",
       "      border-color: transparent;\n",
       "      border-bottom-color: var(--fill-color);\n",
       "    }\n",
       "  }\n",
       "</style>\n",
       "\n",
       "  <script>\n",
       "    async function quickchart(key) {\n",
       "      const quickchartButtonEl =\n",
       "        document.querySelector('#' + key + ' button');\n",
       "      quickchartButtonEl.disabled = true;  // To prevent multiple clicks.\n",
       "      quickchartButtonEl.classList.add('colab-df-spinner');\n",
       "      try {\n",
       "        const charts = await google.colab.kernel.invokeFunction(\n",
       "            'suggestCharts', [key], {});\n",
       "      } catch (error) {\n",
       "        console.error('Error during call to suggestCharts:', error);\n",
       "      }\n",
       "      quickchartButtonEl.classList.remove('colab-df-spinner');\n",
       "      quickchartButtonEl.classList.add('colab-df-quickchart-complete');\n",
       "    }\n",
       "    (() => {\n",
       "      let quickchartButtonEl =\n",
       "        document.querySelector('#df-c2837b1d-0cd5-4f0e-8d35-d67cb2735999 button');\n",
       "      quickchartButtonEl.style.display =\n",
       "        google.colab.kernel.accessAllowed ? 'block' : 'none';\n",
       "    })();\n",
       "  </script>\n",
       "</div>\n",
       "    </div>\n",
       "  </div>\n"
      ],
      "text/plain": [
       "                                  trim             body         transmission  \\\n",
       "                                  mode             mode                 mode   \n",
       "make  model year                                                               \n",
       "acura cl    1997  ([3.0 premium], [6])  ([coupe], [14])  ([automatic], [12])   \n",
       "            1998  ([3.0 premium], [4])   ([coupe], [5])   ([automatic], [5])   \n",
       "            1999          ([3.0], [7])  ([coupe], [10])   ([automatic], [9])   \n",
       "            2001  ([3.2 type-s], [16])  ([coupe], [30])  ([automatic], [26])   \n",
       "            2002   ([3.2 type-s], [2])   ([coupe], [3])   ([automatic], [3])   \n",
       "...                                ...              ...                  ...   \n",
       "volvo xc90  2010         ([3.2], [42])    ([suv], [52])  ([automatic], [39])   \n",
       "            2011         ([3.2], [19])    ([suv], [22])  ([automatic], [15])   \n",
       "            2012         ([3.2], [28])    ([suv], [28])        ([nan], [14])   \n",
       "            2013         ([3.2], [11])    ([suv], [11])   ([automatic], [9])   \n",
       "            2014         ([3.2], [22])    ([suv], [22])  ([automatic], [22])   \n",
       "\n",
       "                            color         interior  \n",
       "                             mode             mode  \n",
       "make  model year                                    \n",
       "acura cl    1997    ([blue], [4])   ([gray], [11])  \n",
       "            1998   ([white], [3])   ([black], [2])  \n",
       "            1999   ([black], [5])   ([black], [5])  \n",
       "            2001  ([black], [12])  ([black], [12])  \n",
       "            2002   ([white], [2])   ([beige], [1])  \n",
       "...                           ...              ...  \n",
       "volvo xc90  2010  ([black], [18])  ([black], [25])  \n",
       "            2011  ([silver], [5])   ([black], [9])  \n",
       "            2012  ([black], [11])  ([black], [11])  \n",
       "            2013   ([white], [5])   ([beige], [6])  \n",
       "            2014   ([black], [9])  ([black], [14])  \n",
       "\n",
       "[5271 rows x 5 columns]"
      ]
     },
     "execution_count": 56,
     "metadata": {},
     "output_type": "execute_result"
    }
   ],
   "source": [
    "train_grb"
   ]
  },
  {
   "cell_type": "code",
   "execution_count": 57,
   "id": "mNXnoyGnAucE",
   "metadata": {
    "colab": {
     "base_uri": "https://localhost:8080/"
    },
    "executionInfo": {
     "elapsed": 36,
     "status": "ok",
     "timestamp": 1694150560266,
     "user": {
      "displayName": "Андрей Медведев",
      "userId": "02560461935100345008"
     },
     "user_tz": -180
    },
    "id": "mNXnoyGnAucE",
    "outputId": "ed578f13-0ed2-4c20-d535-640ba5f69bb5"
   },
   "outputs": [
    {
     "data": {
      "text/plain": [
       "MultiIndex([(        'trim', 'mode'),\n",
       "            (        'body', 'mode'),\n",
       "            ('transmission', 'mode'),\n",
       "            (       'color', 'mode'),\n",
       "            (    'interior', 'mode')],\n",
       "           )"
      ]
     },
     "execution_count": 57,
     "metadata": {},
     "output_type": "execute_result"
    }
   ],
   "source": [
    "train_grb.columns"
   ]
  },
  {
   "cell_type": "code",
   "execution_count": 58,
   "id": "IeSWTxcvvwXQ",
   "metadata": {
    "executionInfo": {
     "elapsed": 6,
     "status": "ok",
     "timestamp": 1694150560266,
     "user": {
      "displayName": "Андрей Медведев",
      "userId": "02560461935100345008"
     },
     "user_tz": -180
    },
    "id": "IeSWTxcvvwXQ"
   },
   "outputs": [],
   "source": [
    "train_grb.columns = ['trim', 'body', 'transmission', 'color', 'interior']"
   ]
  },
  {
   "cell_type": "code",
   "execution_count": 59,
   "id": "n5ipqI3QwL2U",
   "metadata": {
    "executionInfo": {
     "elapsed": 528,
     "status": "ok",
     "timestamp": 1694150560789,
     "user": {
      "displayName": "Андрей Медведев",
      "userId": "02560461935100345008"
     },
     "user_tz": -180
    },
    "id": "n5ipqI3QwL2U"
   },
   "outputs": [],
   "source": [
    "train_grb = train_grb.reset_index()"
   ]
  },
  {
   "cell_type": "code",
   "execution_count": 60,
   "id": "irwticyZwMNu",
   "metadata": {
    "colab": {
     "base_uri": "https://localhost:8080/",
     "height": 424
    },
    "executionInfo": {
     "elapsed": 46,
     "status": "ok",
     "timestamp": 1694150560790,
     "user": {
      "displayName": "Андрей Медведев",
      "userId": "02560461935100345008"
     },
     "user_tz": -180
    },
    "id": "irwticyZwMNu",
    "outputId": "75aed94e-9b82-4fb5-a264-a14558deb31e"
   },
   "outputs": [
    {
     "data": {
      "text/html": [
       "\n",
       "  <div id=\"df-525bbb2b-37fc-45ec-9dad-351b4aa623a9\" class=\"colab-df-container\">\n",
       "    <div>\n",
       "<style scoped>\n",
       "    .dataframe tbody tr th:only-of-type {\n",
       "        vertical-align: middle;\n",
       "    }\n",
       "\n",
       "    .dataframe tbody tr th {\n",
       "        vertical-align: top;\n",
       "    }\n",
       "\n",
       "    .dataframe thead th {\n",
       "        text-align: right;\n",
       "    }\n",
       "</style>\n",
       "<table border=\"1\" class=\"dataframe\">\n",
       "  <thead>\n",
       "    <tr style=\"text-align: right;\">\n",
       "      <th></th>\n",
       "      <th>make</th>\n",
       "      <th>model</th>\n",
       "      <th>year</th>\n",
       "      <th>trim</th>\n",
       "      <th>body</th>\n",
       "      <th>transmission</th>\n",
       "      <th>color</th>\n",
       "      <th>interior</th>\n",
       "    </tr>\n",
       "  </thead>\n",
       "  <tbody>\n",
       "    <tr>\n",
       "      <th>0</th>\n",
       "      <td>acura</td>\n",
       "      <td>cl</td>\n",
       "      <td>1997</td>\n",
       "      <td>([3.0 premium], [6])</td>\n",
       "      <td>([coupe], [14])</td>\n",
       "      <td>([automatic], [12])</td>\n",
       "      <td>([blue], [4])</td>\n",
       "      <td>([gray], [11])</td>\n",
       "    </tr>\n",
       "    <tr>\n",
       "      <th>1</th>\n",
       "      <td>acura</td>\n",
       "      <td>cl</td>\n",
       "      <td>1998</td>\n",
       "      <td>([3.0 premium], [4])</td>\n",
       "      <td>([coupe], [5])</td>\n",
       "      <td>([automatic], [5])</td>\n",
       "      <td>([white], [3])</td>\n",
       "      <td>([black], [2])</td>\n",
       "    </tr>\n",
       "    <tr>\n",
       "      <th>2</th>\n",
       "      <td>acura</td>\n",
       "      <td>cl</td>\n",
       "      <td>1999</td>\n",
       "      <td>([3.0], [7])</td>\n",
       "      <td>([coupe], [10])</td>\n",
       "      <td>([automatic], [9])</td>\n",
       "      <td>([black], [5])</td>\n",
       "      <td>([black], [5])</td>\n",
       "    </tr>\n",
       "    <tr>\n",
       "      <th>3</th>\n",
       "      <td>acura</td>\n",
       "      <td>cl</td>\n",
       "      <td>2001</td>\n",
       "      <td>([3.2 type-s], [16])</td>\n",
       "      <td>([coupe], [30])</td>\n",
       "      <td>([automatic], [26])</td>\n",
       "      <td>([black], [12])</td>\n",
       "      <td>([black], [12])</td>\n",
       "    </tr>\n",
       "    <tr>\n",
       "      <th>4</th>\n",
       "      <td>acura</td>\n",
       "      <td>cl</td>\n",
       "      <td>2002</td>\n",
       "      <td>([3.2 type-s], [2])</td>\n",
       "      <td>([coupe], [3])</td>\n",
       "      <td>([automatic], [3])</td>\n",
       "      <td>([white], [2])</td>\n",
       "      <td>([beige], [1])</td>\n",
       "    </tr>\n",
       "    <tr>\n",
       "      <th>...</th>\n",
       "      <td>...</td>\n",
       "      <td>...</td>\n",
       "      <td>...</td>\n",
       "      <td>...</td>\n",
       "      <td>...</td>\n",
       "      <td>...</td>\n",
       "      <td>...</td>\n",
       "      <td>...</td>\n",
       "    </tr>\n",
       "    <tr>\n",
       "      <th>5266</th>\n",
       "      <td>volvo</td>\n",
       "      <td>xc90</td>\n",
       "      <td>2010</td>\n",
       "      <td>([3.2], [42])</td>\n",
       "      <td>([suv], [52])</td>\n",
       "      <td>([automatic], [39])</td>\n",
       "      <td>([black], [18])</td>\n",
       "      <td>([black], [25])</td>\n",
       "    </tr>\n",
       "    <tr>\n",
       "      <th>5267</th>\n",
       "      <td>volvo</td>\n",
       "      <td>xc90</td>\n",
       "      <td>2011</td>\n",
       "      <td>([3.2], [19])</td>\n",
       "      <td>([suv], [22])</td>\n",
       "      <td>([automatic], [15])</td>\n",
       "      <td>([silver], [5])</td>\n",
       "      <td>([black], [9])</td>\n",
       "    </tr>\n",
       "    <tr>\n",
       "      <th>5268</th>\n",
       "      <td>volvo</td>\n",
       "      <td>xc90</td>\n",
       "      <td>2012</td>\n",
       "      <td>([3.2], [28])</td>\n",
       "      <td>([suv], [28])</td>\n",
       "      <td>([nan], [14])</td>\n",
       "      <td>([black], [11])</td>\n",
       "      <td>([black], [11])</td>\n",
       "    </tr>\n",
       "    <tr>\n",
       "      <th>5269</th>\n",
       "      <td>volvo</td>\n",
       "      <td>xc90</td>\n",
       "      <td>2013</td>\n",
       "      <td>([3.2], [11])</td>\n",
       "      <td>([suv], [11])</td>\n",
       "      <td>([automatic], [9])</td>\n",
       "      <td>([white], [5])</td>\n",
       "      <td>([beige], [6])</td>\n",
       "    </tr>\n",
       "    <tr>\n",
       "      <th>5270</th>\n",
       "      <td>volvo</td>\n",
       "      <td>xc90</td>\n",
       "      <td>2014</td>\n",
       "      <td>([3.2], [22])</td>\n",
       "      <td>([suv], [22])</td>\n",
       "      <td>([automatic], [22])</td>\n",
       "      <td>([black], [9])</td>\n",
       "      <td>([black], [14])</td>\n",
       "    </tr>\n",
       "  </tbody>\n",
       "</table>\n",
       "<p>5271 rows × 8 columns</p>\n",
       "</div>\n",
       "    <div class=\"colab-df-buttons\">\n",
       "\n",
       "  <div class=\"colab-df-container\">\n",
       "    <button class=\"colab-df-convert\" onclick=\"convertToInteractive('df-525bbb2b-37fc-45ec-9dad-351b4aa623a9')\"\n",
       "            title=\"Convert this dataframe to an interactive table.\"\n",
       "            style=\"display:none;\">\n",
       "\n",
       "  <svg xmlns=\"http://www.w3.org/2000/svg\" height=\"24px\" viewBox=\"0 -960 960 960\">\n",
       "    <path d=\"M120-120v-720h720v720H120Zm60-500h600v-160H180v160Zm220 220h160v-160H400v160Zm0 220h160v-160H400v160ZM180-400h160v-160H180v160Zm440 0h160v-160H620v160ZM180-180h160v-160H180v160Zm440 0h160v-160H620v160Z\"/>\n",
       "  </svg>\n",
       "    </button>\n",
       "\n",
       "  <style>\n",
       "    .colab-df-container {\n",
       "      display:flex;\n",
       "      gap: 12px;\n",
       "    }\n",
       "\n",
       "    .colab-df-convert {\n",
       "      background-color: #E8F0FE;\n",
       "      border: none;\n",
       "      border-radius: 50%;\n",
       "      cursor: pointer;\n",
       "      display: none;\n",
       "      fill: #1967D2;\n",
       "      height: 32px;\n",
       "      padding: 0 0 0 0;\n",
       "      width: 32px;\n",
       "    }\n",
       "\n",
       "    .colab-df-convert:hover {\n",
       "      background-color: #E2EBFA;\n",
       "      box-shadow: 0px 1px 2px rgba(60, 64, 67, 0.3), 0px 1px 3px 1px rgba(60, 64, 67, 0.15);\n",
       "      fill: #174EA6;\n",
       "    }\n",
       "\n",
       "    .colab-df-buttons div {\n",
       "      margin-bottom: 4px;\n",
       "    }\n",
       "\n",
       "    [theme=dark] .colab-df-convert {\n",
       "      background-color: #3B4455;\n",
       "      fill: #D2E3FC;\n",
       "    }\n",
       "\n",
       "    [theme=dark] .colab-df-convert:hover {\n",
       "      background-color: #434B5C;\n",
       "      box-shadow: 0px 1px 3px 1px rgba(0, 0, 0, 0.15);\n",
       "      filter: drop-shadow(0px 1px 2px rgba(0, 0, 0, 0.3));\n",
       "      fill: #FFFFFF;\n",
       "    }\n",
       "  </style>\n",
       "\n",
       "    <script>\n",
       "      const buttonEl =\n",
       "        document.querySelector('#df-525bbb2b-37fc-45ec-9dad-351b4aa623a9 button.colab-df-convert');\n",
       "      buttonEl.style.display =\n",
       "        google.colab.kernel.accessAllowed ? 'block' : 'none';\n",
       "\n",
       "      async function convertToInteractive(key) {\n",
       "        const element = document.querySelector('#df-525bbb2b-37fc-45ec-9dad-351b4aa623a9');\n",
       "        const dataTable =\n",
       "          await google.colab.kernel.invokeFunction('convertToInteractive',\n",
       "                                                    [key], {});\n",
       "        if (!dataTable) return;\n",
       "\n",
       "        const docLinkHtml = 'Like what you see? Visit the ' +\n",
       "          '<a target=\"_blank\" href=https://colab.research.google.com/notebooks/data_table.ipynb>data table notebook</a>'\n",
       "          + ' to learn more about interactive tables.';\n",
       "        element.innerHTML = '';\n",
       "        dataTable['output_type'] = 'display_data';\n",
       "        await google.colab.output.renderOutput(dataTable, element);\n",
       "        const docLink = document.createElement('div');\n",
       "        docLink.innerHTML = docLinkHtml;\n",
       "        element.appendChild(docLink);\n",
       "      }\n",
       "    </script>\n",
       "  </div>\n",
       "\n",
       "\n",
       "<div id=\"df-2269b2e5-f383-4404-a518-1653505cde6d\">\n",
       "  <button class=\"colab-df-quickchart\" onclick=\"quickchart('df-2269b2e5-f383-4404-a518-1653505cde6d')\"\n",
       "            title=\"Suggest charts.\"\n",
       "            style=\"display:none;\">\n",
       "\n",
       "<svg xmlns=\"http://www.w3.org/2000/svg\" height=\"24px\"viewBox=\"0 0 24 24\"\n",
       "     width=\"24px\">\n",
       "    <g>\n",
       "        <path d=\"M19 3H5c-1.1 0-2 .9-2 2v14c0 1.1.9 2 2 2h14c1.1 0 2-.9 2-2V5c0-1.1-.9-2-2-2zM9 17H7v-7h2v7zm4 0h-2V7h2v10zm4 0h-2v-4h2v4z\"/>\n",
       "    </g>\n",
       "</svg>\n",
       "  </button>\n",
       "\n",
       "<style>\n",
       "  .colab-df-quickchart {\n",
       "      --bg-color: #E8F0FE;\n",
       "      --fill-color: #1967D2;\n",
       "      --hover-bg-color: #E2EBFA;\n",
       "      --hover-fill-color: #174EA6;\n",
       "      --disabled-fill-color: #AAA;\n",
       "      --disabled-bg-color: #DDD;\n",
       "  }\n",
       "\n",
       "  [theme=dark] .colab-df-quickchart {\n",
       "      --bg-color: #3B4455;\n",
       "      --fill-color: #D2E3FC;\n",
       "      --hover-bg-color: #434B5C;\n",
       "      --hover-fill-color: #FFFFFF;\n",
       "      --disabled-bg-color: #3B4455;\n",
       "      --disabled-fill-color: #666;\n",
       "  }\n",
       "\n",
       "  .colab-df-quickchart {\n",
       "    background-color: var(--bg-color);\n",
       "    border: none;\n",
       "    border-radius: 50%;\n",
       "    cursor: pointer;\n",
       "    display: none;\n",
       "    fill: var(--fill-color);\n",
       "    height: 32px;\n",
       "    padding: 0;\n",
       "    width: 32px;\n",
       "  }\n",
       "\n",
       "  .colab-df-quickchart:hover {\n",
       "    background-color: var(--hover-bg-color);\n",
       "    box-shadow: 0 1px 2px rgba(60, 64, 67, 0.3), 0 1px 3px 1px rgba(60, 64, 67, 0.15);\n",
       "    fill: var(--button-hover-fill-color);\n",
       "  }\n",
       "\n",
       "  .colab-df-quickchart-complete:disabled,\n",
       "  .colab-df-quickchart-complete:disabled:hover {\n",
       "    background-color: var(--disabled-bg-color);\n",
       "    fill: var(--disabled-fill-color);\n",
       "    box-shadow: none;\n",
       "  }\n",
       "\n",
       "  .colab-df-spinner {\n",
       "    border: 2px solid var(--fill-color);\n",
       "    border-color: transparent;\n",
       "    border-bottom-color: var(--fill-color);\n",
       "    animation:\n",
       "      spin 1s steps(1) infinite;\n",
       "  }\n",
       "\n",
       "  @keyframes spin {\n",
       "    0% {\n",
       "      border-color: transparent;\n",
       "      border-bottom-color: var(--fill-color);\n",
       "      border-left-color: var(--fill-color);\n",
       "    }\n",
       "    20% {\n",
       "      border-color: transparent;\n",
       "      border-left-color: var(--fill-color);\n",
       "      border-top-color: var(--fill-color);\n",
       "    }\n",
       "    30% {\n",
       "      border-color: transparent;\n",
       "      border-left-color: var(--fill-color);\n",
       "      border-top-color: var(--fill-color);\n",
       "      border-right-color: var(--fill-color);\n",
       "    }\n",
       "    40% {\n",
       "      border-color: transparent;\n",
       "      border-right-color: var(--fill-color);\n",
       "      border-top-color: var(--fill-color);\n",
       "    }\n",
       "    60% {\n",
       "      border-color: transparent;\n",
       "      border-right-color: var(--fill-color);\n",
       "    }\n",
       "    80% {\n",
       "      border-color: transparent;\n",
       "      border-right-color: var(--fill-color);\n",
       "      border-bottom-color: var(--fill-color);\n",
       "    }\n",
       "    90% {\n",
       "      border-color: transparent;\n",
       "      border-bottom-color: var(--fill-color);\n",
       "    }\n",
       "  }\n",
       "</style>\n",
       "\n",
       "  <script>\n",
       "    async function quickchart(key) {\n",
       "      const quickchartButtonEl =\n",
       "        document.querySelector('#' + key + ' button');\n",
       "      quickchartButtonEl.disabled = true;  // To prevent multiple clicks.\n",
       "      quickchartButtonEl.classList.add('colab-df-spinner');\n",
       "      try {\n",
       "        const charts = await google.colab.kernel.invokeFunction(\n",
       "            'suggestCharts', [key], {});\n",
       "      } catch (error) {\n",
       "        console.error('Error during call to suggestCharts:', error);\n",
       "      }\n",
       "      quickchartButtonEl.classList.remove('colab-df-spinner');\n",
       "      quickchartButtonEl.classList.add('colab-df-quickchart-complete');\n",
       "    }\n",
       "    (() => {\n",
       "      let quickchartButtonEl =\n",
       "        document.querySelector('#df-2269b2e5-f383-4404-a518-1653505cde6d button');\n",
       "      quickchartButtonEl.style.display =\n",
       "        google.colab.kernel.accessAllowed ? 'block' : 'none';\n",
       "    })();\n",
       "  </script>\n",
       "</div>\n",
       "    </div>\n",
       "  </div>\n"
      ],
      "text/plain": [
       "       make model  year                  trim             body  \\\n",
       "0     acura    cl  1997  ([3.0 premium], [6])  ([coupe], [14])   \n",
       "1     acura    cl  1998  ([3.0 premium], [4])   ([coupe], [5])   \n",
       "2     acura    cl  1999          ([3.0], [7])  ([coupe], [10])   \n",
       "3     acura    cl  2001  ([3.2 type-s], [16])  ([coupe], [30])   \n",
       "4     acura    cl  2002   ([3.2 type-s], [2])   ([coupe], [3])   \n",
       "...     ...   ...   ...                   ...              ...   \n",
       "5266  volvo  xc90  2010         ([3.2], [42])    ([suv], [52])   \n",
       "5267  volvo  xc90  2011         ([3.2], [19])    ([suv], [22])   \n",
       "5268  volvo  xc90  2012         ([3.2], [28])    ([suv], [28])   \n",
       "5269  volvo  xc90  2013         ([3.2], [11])    ([suv], [11])   \n",
       "5270  volvo  xc90  2014         ([3.2], [22])    ([suv], [22])   \n",
       "\n",
       "             transmission            color         interior  \n",
       "0     ([automatic], [12])    ([blue], [4])   ([gray], [11])  \n",
       "1      ([automatic], [5])   ([white], [3])   ([black], [2])  \n",
       "2      ([automatic], [9])   ([black], [5])   ([black], [5])  \n",
       "3     ([automatic], [26])  ([black], [12])  ([black], [12])  \n",
       "4      ([automatic], [3])   ([white], [2])   ([beige], [1])  \n",
       "...                   ...              ...              ...  \n",
       "5266  ([automatic], [39])  ([black], [18])  ([black], [25])  \n",
       "5267  ([automatic], [15])  ([silver], [5])   ([black], [9])  \n",
       "5268        ([nan], [14])  ([black], [11])  ([black], [11])  \n",
       "5269   ([automatic], [9])   ([white], [5])   ([beige], [6])  \n",
       "5270  ([automatic], [22])   ([black], [9])  ([black], [14])  \n",
       "\n",
       "[5271 rows x 8 columns]"
      ]
     },
     "execution_count": 60,
     "metadata": {},
     "output_type": "execute_result"
    }
   ],
   "source": [
    "train_grb"
   ]
  },
  {
   "cell_type": "code",
   "execution_count": 61,
   "id": "Luf8446_wMhg",
   "metadata": {
    "executionInfo": {
     "elapsed": 45,
     "status": "ok",
     "timestamp": 1694150560790,
     "user": {
      "displayName": "Андрей Медведев",
      "userId": "02560461935100345008"
     },
     "user_tz": -180
    },
    "id": "Luf8446_wMhg"
   },
   "outputs": [],
   "source": [
    "#выбор первого значения\n",
    "#function for select first values\n",
    "\n",
    "def select_first(val):\n",
    "    return val[0][0]"
   ]
  },
  {
   "cell_type": "code",
   "execution_count": 62,
   "id": "aFHz_PyzC23Y",
   "metadata": {
    "executionInfo": {
     "elapsed": 45,
     "status": "ok",
     "timestamp": 1694150560790,
     "user": {
      "displayName": "Андрей Медведев",
      "userId": "02560461935100345008"
     },
     "user_tz": -180
    },
    "id": "aFHz_PyzC23Y"
   },
   "outputs": [],
   "source": [
    "for j in train_grb.columns[-5:]:\n",
    "    train_grb[j] = train_grb[j].apply(select_first)"
   ]
  },
  {
   "cell_type": "code",
   "execution_count": 63,
   "id": "gD5rBitBAe_g",
   "metadata": {
    "colab": {
     "base_uri": "https://localhost:8080/",
     "height": 424
    },
    "executionInfo": {
     "elapsed": 45,
     "status": "ok",
     "timestamp": 1694150560790,
     "user": {
      "displayName": "Андрей Медведев",
      "userId": "02560461935100345008"
     },
     "user_tz": -180
    },
    "id": "gD5rBitBAe_g",
    "outputId": "3905aaaf-7fc0-4a8f-8ebf-76a4291708e2"
   },
   "outputs": [
    {
     "data": {
      "text/html": [
       "\n",
       "  <div id=\"df-7867d3ac-e7fb-4d62-ab05-5b28c619c122\" class=\"colab-df-container\">\n",
       "    <div>\n",
       "<style scoped>\n",
       "    .dataframe tbody tr th:only-of-type {\n",
       "        vertical-align: middle;\n",
       "    }\n",
       "\n",
       "    .dataframe tbody tr th {\n",
       "        vertical-align: top;\n",
       "    }\n",
       "\n",
       "    .dataframe thead th {\n",
       "        text-align: right;\n",
       "    }\n",
       "</style>\n",
       "<table border=\"1\" class=\"dataframe\">\n",
       "  <thead>\n",
       "    <tr style=\"text-align: right;\">\n",
       "      <th></th>\n",
       "      <th>make</th>\n",
       "      <th>model</th>\n",
       "      <th>year</th>\n",
       "      <th>trim</th>\n",
       "      <th>body</th>\n",
       "      <th>transmission</th>\n",
       "      <th>color</th>\n",
       "      <th>interior</th>\n",
       "    </tr>\n",
       "  </thead>\n",
       "  <tbody>\n",
       "    <tr>\n",
       "      <th>0</th>\n",
       "      <td>acura</td>\n",
       "      <td>cl</td>\n",
       "      <td>1997</td>\n",
       "      <td>3.0 premium</td>\n",
       "      <td>coupe</td>\n",
       "      <td>automatic</td>\n",
       "      <td>blue</td>\n",
       "      <td>gray</td>\n",
       "    </tr>\n",
       "    <tr>\n",
       "      <th>1</th>\n",
       "      <td>acura</td>\n",
       "      <td>cl</td>\n",
       "      <td>1998</td>\n",
       "      <td>3.0 premium</td>\n",
       "      <td>coupe</td>\n",
       "      <td>automatic</td>\n",
       "      <td>white</td>\n",
       "      <td>black</td>\n",
       "    </tr>\n",
       "    <tr>\n",
       "      <th>2</th>\n",
       "      <td>acura</td>\n",
       "      <td>cl</td>\n",
       "      <td>1999</td>\n",
       "      <td>3.0</td>\n",
       "      <td>coupe</td>\n",
       "      <td>automatic</td>\n",
       "      <td>black</td>\n",
       "      <td>black</td>\n",
       "    </tr>\n",
       "    <tr>\n",
       "      <th>3</th>\n",
       "      <td>acura</td>\n",
       "      <td>cl</td>\n",
       "      <td>2001</td>\n",
       "      <td>3.2 type-s</td>\n",
       "      <td>coupe</td>\n",
       "      <td>automatic</td>\n",
       "      <td>black</td>\n",
       "      <td>black</td>\n",
       "    </tr>\n",
       "    <tr>\n",
       "      <th>4</th>\n",
       "      <td>acura</td>\n",
       "      <td>cl</td>\n",
       "      <td>2002</td>\n",
       "      <td>3.2 type-s</td>\n",
       "      <td>coupe</td>\n",
       "      <td>automatic</td>\n",
       "      <td>white</td>\n",
       "      <td>beige</td>\n",
       "    </tr>\n",
       "    <tr>\n",
       "      <th>...</th>\n",
       "      <td>...</td>\n",
       "      <td>...</td>\n",
       "      <td>...</td>\n",
       "      <td>...</td>\n",
       "      <td>...</td>\n",
       "      <td>...</td>\n",
       "      <td>...</td>\n",
       "      <td>...</td>\n",
       "    </tr>\n",
       "    <tr>\n",
       "      <th>5266</th>\n",
       "      <td>volvo</td>\n",
       "      <td>xc90</td>\n",
       "      <td>2010</td>\n",
       "      <td>3.2</td>\n",
       "      <td>suv</td>\n",
       "      <td>automatic</td>\n",
       "      <td>black</td>\n",
       "      <td>black</td>\n",
       "    </tr>\n",
       "    <tr>\n",
       "      <th>5267</th>\n",
       "      <td>volvo</td>\n",
       "      <td>xc90</td>\n",
       "      <td>2011</td>\n",
       "      <td>3.2</td>\n",
       "      <td>suv</td>\n",
       "      <td>automatic</td>\n",
       "      <td>silver</td>\n",
       "      <td>black</td>\n",
       "    </tr>\n",
       "    <tr>\n",
       "      <th>5268</th>\n",
       "      <td>volvo</td>\n",
       "      <td>xc90</td>\n",
       "      <td>2012</td>\n",
       "      <td>3.2</td>\n",
       "      <td>suv</td>\n",
       "      <td>NaN</td>\n",
       "      <td>black</td>\n",
       "      <td>black</td>\n",
       "    </tr>\n",
       "    <tr>\n",
       "      <th>5269</th>\n",
       "      <td>volvo</td>\n",
       "      <td>xc90</td>\n",
       "      <td>2013</td>\n",
       "      <td>3.2</td>\n",
       "      <td>suv</td>\n",
       "      <td>automatic</td>\n",
       "      <td>white</td>\n",
       "      <td>beige</td>\n",
       "    </tr>\n",
       "    <tr>\n",
       "      <th>5270</th>\n",
       "      <td>volvo</td>\n",
       "      <td>xc90</td>\n",
       "      <td>2014</td>\n",
       "      <td>3.2</td>\n",
       "      <td>suv</td>\n",
       "      <td>automatic</td>\n",
       "      <td>black</td>\n",
       "      <td>black</td>\n",
       "    </tr>\n",
       "  </tbody>\n",
       "</table>\n",
       "<p>5271 rows × 8 columns</p>\n",
       "</div>\n",
       "    <div class=\"colab-df-buttons\">\n",
       "\n",
       "  <div class=\"colab-df-container\">\n",
       "    <button class=\"colab-df-convert\" onclick=\"convertToInteractive('df-7867d3ac-e7fb-4d62-ab05-5b28c619c122')\"\n",
       "            title=\"Convert this dataframe to an interactive table.\"\n",
       "            style=\"display:none;\">\n",
       "\n",
       "  <svg xmlns=\"http://www.w3.org/2000/svg\" height=\"24px\" viewBox=\"0 -960 960 960\">\n",
       "    <path d=\"M120-120v-720h720v720H120Zm60-500h600v-160H180v160Zm220 220h160v-160H400v160Zm0 220h160v-160H400v160ZM180-400h160v-160H180v160Zm440 0h160v-160H620v160ZM180-180h160v-160H180v160Zm440 0h160v-160H620v160Z\"/>\n",
       "  </svg>\n",
       "    </button>\n",
       "\n",
       "  <style>\n",
       "    .colab-df-container {\n",
       "      display:flex;\n",
       "      gap: 12px;\n",
       "    }\n",
       "\n",
       "    .colab-df-convert {\n",
       "      background-color: #E8F0FE;\n",
       "      border: none;\n",
       "      border-radius: 50%;\n",
       "      cursor: pointer;\n",
       "      display: none;\n",
       "      fill: #1967D2;\n",
       "      height: 32px;\n",
       "      padding: 0 0 0 0;\n",
       "      width: 32px;\n",
       "    }\n",
       "\n",
       "    .colab-df-convert:hover {\n",
       "      background-color: #E2EBFA;\n",
       "      box-shadow: 0px 1px 2px rgba(60, 64, 67, 0.3), 0px 1px 3px 1px rgba(60, 64, 67, 0.15);\n",
       "      fill: #174EA6;\n",
       "    }\n",
       "\n",
       "    .colab-df-buttons div {\n",
       "      margin-bottom: 4px;\n",
       "    }\n",
       "\n",
       "    [theme=dark] .colab-df-convert {\n",
       "      background-color: #3B4455;\n",
       "      fill: #D2E3FC;\n",
       "    }\n",
       "\n",
       "    [theme=dark] .colab-df-convert:hover {\n",
       "      background-color: #434B5C;\n",
       "      box-shadow: 0px 1px 3px 1px rgba(0, 0, 0, 0.15);\n",
       "      filter: drop-shadow(0px 1px 2px rgba(0, 0, 0, 0.3));\n",
       "      fill: #FFFFFF;\n",
       "    }\n",
       "  </style>\n",
       "\n",
       "    <script>\n",
       "      const buttonEl =\n",
       "        document.querySelector('#df-7867d3ac-e7fb-4d62-ab05-5b28c619c122 button.colab-df-convert');\n",
       "      buttonEl.style.display =\n",
       "        google.colab.kernel.accessAllowed ? 'block' : 'none';\n",
       "\n",
       "      async function convertToInteractive(key) {\n",
       "        const element = document.querySelector('#df-7867d3ac-e7fb-4d62-ab05-5b28c619c122');\n",
       "        const dataTable =\n",
       "          await google.colab.kernel.invokeFunction('convertToInteractive',\n",
       "                                                    [key], {});\n",
       "        if (!dataTable) return;\n",
       "\n",
       "        const docLinkHtml = 'Like what you see? Visit the ' +\n",
       "          '<a target=\"_blank\" href=https://colab.research.google.com/notebooks/data_table.ipynb>data table notebook</a>'\n",
       "          + ' to learn more about interactive tables.';\n",
       "        element.innerHTML = '';\n",
       "        dataTable['output_type'] = 'display_data';\n",
       "        await google.colab.output.renderOutput(dataTable, element);\n",
       "        const docLink = document.createElement('div');\n",
       "        docLink.innerHTML = docLinkHtml;\n",
       "        element.appendChild(docLink);\n",
       "      }\n",
       "    </script>\n",
       "  </div>\n",
       "\n",
       "\n",
       "<div id=\"df-6c8b7928-d340-4b82-8502-dbfc3990552d\">\n",
       "  <button class=\"colab-df-quickchart\" onclick=\"quickchart('df-6c8b7928-d340-4b82-8502-dbfc3990552d')\"\n",
       "            title=\"Suggest charts.\"\n",
       "            style=\"display:none;\">\n",
       "\n",
       "<svg xmlns=\"http://www.w3.org/2000/svg\" height=\"24px\"viewBox=\"0 0 24 24\"\n",
       "     width=\"24px\">\n",
       "    <g>\n",
       "        <path d=\"M19 3H5c-1.1 0-2 .9-2 2v14c0 1.1.9 2 2 2h14c1.1 0 2-.9 2-2V5c0-1.1-.9-2-2-2zM9 17H7v-7h2v7zm4 0h-2V7h2v10zm4 0h-2v-4h2v4z\"/>\n",
       "    </g>\n",
       "</svg>\n",
       "  </button>\n",
       "\n",
       "<style>\n",
       "  .colab-df-quickchart {\n",
       "      --bg-color: #E8F0FE;\n",
       "      --fill-color: #1967D2;\n",
       "      --hover-bg-color: #E2EBFA;\n",
       "      --hover-fill-color: #174EA6;\n",
       "      --disabled-fill-color: #AAA;\n",
       "      --disabled-bg-color: #DDD;\n",
       "  }\n",
       "\n",
       "  [theme=dark] .colab-df-quickchart {\n",
       "      --bg-color: #3B4455;\n",
       "      --fill-color: #D2E3FC;\n",
       "      --hover-bg-color: #434B5C;\n",
       "      --hover-fill-color: #FFFFFF;\n",
       "      --disabled-bg-color: #3B4455;\n",
       "      --disabled-fill-color: #666;\n",
       "  }\n",
       "\n",
       "  .colab-df-quickchart {\n",
       "    background-color: var(--bg-color);\n",
       "    border: none;\n",
       "    border-radius: 50%;\n",
       "    cursor: pointer;\n",
       "    display: none;\n",
       "    fill: var(--fill-color);\n",
       "    height: 32px;\n",
       "    padding: 0;\n",
       "    width: 32px;\n",
       "  }\n",
       "\n",
       "  .colab-df-quickchart:hover {\n",
       "    background-color: var(--hover-bg-color);\n",
       "    box-shadow: 0 1px 2px rgba(60, 64, 67, 0.3), 0 1px 3px 1px rgba(60, 64, 67, 0.15);\n",
       "    fill: var(--button-hover-fill-color);\n",
       "  }\n",
       "\n",
       "  .colab-df-quickchart-complete:disabled,\n",
       "  .colab-df-quickchart-complete:disabled:hover {\n",
       "    background-color: var(--disabled-bg-color);\n",
       "    fill: var(--disabled-fill-color);\n",
       "    box-shadow: none;\n",
       "  }\n",
       "\n",
       "  .colab-df-spinner {\n",
       "    border: 2px solid var(--fill-color);\n",
       "    border-color: transparent;\n",
       "    border-bottom-color: var(--fill-color);\n",
       "    animation:\n",
       "      spin 1s steps(1) infinite;\n",
       "  }\n",
       "\n",
       "  @keyframes spin {\n",
       "    0% {\n",
       "      border-color: transparent;\n",
       "      border-bottom-color: var(--fill-color);\n",
       "      border-left-color: var(--fill-color);\n",
       "    }\n",
       "    20% {\n",
       "      border-color: transparent;\n",
       "      border-left-color: var(--fill-color);\n",
       "      border-top-color: var(--fill-color);\n",
       "    }\n",
       "    30% {\n",
       "      border-color: transparent;\n",
       "      border-left-color: var(--fill-color);\n",
       "      border-top-color: var(--fill-color);\n",
       "      border-right-color: var(--fill-color);\n",
       "    }\n",
       "    40% {\n",
       "      border-color: transparent;\n",
       "      border-right-color: var(--fill-color);\n",
       "      border-top-color: var(--fill-color);\n",
       "    }\n",
       "    60% {\n",
       "      border-color: transparent;\n",
       "      border-right-color: var(--fill-color);\n",
       "    }\n",
       "    80% {\n",
       "      border-color: transparent;\n",
       "      border-right-color: var(--fill-color);\n",
       "      border-bottom-color: var(--fill-color);\n",
       "    }\n",
       "    90% {\n",
       "      border-color: transparent;\n",
       "      border-bottom-color: var(--fill-color);\n",
       "    }\n",
       "  }\n",
       "</style>\n",
       "\n",
       "  <script>\n",
       "    async function quickchart(key) {\n",
       "      const quickchartButtonEl =\n",
       "        document.querySelector('#' + key + ' button');\n",
       "      quickchartButtonEl.disabled = true;  // To prevent multiple clicks.\n",
       "      quickchartButtonEl.classList.add('colab-df-spinner');\n",
       "      try {\n",
       "        const charts = await google.colab.kernel.invokeFunction(\n",
       "            'suggestCharts', [key], {});\n",
       "      } catch (error) {\n",
       "        console.error('Error during call to suggestCharts:', error);\n",
       "      }\n",
       "      quickchartButtonEl.classList.remove('colab-df-spinner');\n",
       "      quickchartButtonEl.classList.add('colab-df-quickchart-complete');\n",
       "    }\n",
       "    (() => {\n",
       "      let quickchartButtonEl =\n",
       "        document.querySelector('#df-6c8b7928-d340-4b82-8502-dbfc3990552d button');\n",
       "      quickchartButtonEl.style.display =\n",
       "        google.colab.kernel.accessAllowed ? 'block' : 'none';\n",
       "    })();\n",
       "  </script>\n",
       "</div>\n",
       "    </div>\n",
       "  </div>\n"
      ],
      "text/plain": [
       "       make model  year         trim   body transmission   color interior\n",
       "0     acura    cl  1997  3.0 premium  coupe    automatic    blue     gray\n",
       "1     acura    cl  1998  3.0 premium  coupe    automatic   white    black\n",
       "2     acura    cl  1999          3.0  coupe    automatic   black    black\n",
       "3     acura    cl  2001   3.2 type-s  coupe    automatic   black    black\n",
       "4     acura    cl  2002   3.2 type-s  coupe    automatic   white    beige\n",
       "...     ...   ...   ...          ...    ...          ...     ...      ...\n",
       "5266  volvo  xc90  2010          3.2    suv    automatic   black    black\n",
       "5267  volvo  xc90  2011          3.2    suv    automatic  silver    black\n",
       "5268  volvo  xc90  2012          3.2    suv          NaN   black    black\n",
       "5269  volvo  xc90  2013          3.2    suv    automatic   white    beige\n",
       "5270  volvo  xc90  2014          3.2    suv    automatic   black    black\n",
       "\n",
       "[5271 rows x 8 columns]"
      ]
     },
     "execution_count": 63,
     "metadata": {},
     "output_type": "execute_result"
    }
   ],
   "source": [
    "train_grb"
   ]
  },
  {
   "cell_type": "code",
   "execution_count": 63,
   "id": "y5n2dFFtFFpH",
   "metadata": {
    "executionInfo": {
     "elapsed": 44,
     "status": "ok",
     "timestamp": 1694150560790,
     "user": {
      "displayName": "Андрей Медведев",
      "userId": "02560461935100345008"
     },
     "user_tz": -180
    },
    "id": "y5n2dFFtFFpH"
   },
   "outputs": [],
   "source": []
  },
  {
   "cell_type": "code",
   "execution_count": 64,
   "id": "lbvavcd_AfIb",
   "metadata": {
    "colab": {
     "base_uri": "https://localhost:8080/"
    },
    "executionInfo": {
     "elapsed": 45,
     "status": "ok",
     "timestamp": 1694150560791,
     "user": {
      "displayName": "Андрей Медведев",
      "userId": "02560461935100345008"
     },
     "user_tz": -180
    },
    "id": "lbvavcd_AfIb",
    "outputId": "c541b78e-2352-4a73-e026-8ec53cc597e2"
   },
   "outputs": [
    {
     "data": {
      "text/plain": [
       "make              0\n",
       "model             0\n",
       "year              0\n",
       "trim             48\n",
       "body            349\n",
       "transmission    156\n",
       "color             3\n",
       "interior          3\n",
       "dtype: int64"
      ]
     },
     "execution_count": 64,
     "metadata": {},
     "output_type": "execute_result"
    }
   ],
   "source": [
    "train_grb.isna().sum()"
   ]
  },
  {
   "cell_type": "code",
   "execution_count": 65,
   "id": "Ph_-l6fF_fEa",
   "metadata": {
    "colab": {
     "base_uri": "https://localhost:8080/"
    },
    "executionInfo": {
     "elapsed": 32,
     "status": "ok",
     "timestamp": 1694150560791,
     "user": {
      "displayName": "Андрей Медведев",
      "userId": "02560461935100345008"
     },
     "user_tz": -180
    },
    "id": "Ph_-l6fF_fEa",
    "outputId": "2749cc50-ee4e-406f-9279-2981ec59f049"
   },
   "outputs": [
    {
     "data": {
      "text/plain": [
       "array(['gray', 'black', 'beige', 'tan', '—', 'brown', 'red', nan, 'blue',\n",
       "       'purple', 'gold', 'green', 'silver', 'orange', 'white'],\n",
       "      dtype=object)"
      ]
     },
     "execution_count": 65,
     "metadata": {},
     "output_type": "execute_result"
    }
   ],
   "source": [
    "train_grb.interior.unique()"
   ]
  },
  {
   "cell_type": "code",
   "execution_count": 66,
   "id": "ZYBiAzwPEaTE",
   "metadata": {
    "colab": {
     "base_uri": "https://localhost:8080/"
    },
    "executionInfo": {
     "elapsed": 23,
     "status": "ok",
     "timestamp": 1694150560791,
     "user": {
      "displayName": "Андрей Медведев",
      "userId": "02560461935100345008"
     },
     "user_tz": -180
    },
    "id": "ZYBiAzwPEaTE",
    "outputId": "e85a36b6-4d7f-40ed-ce44-6279e9b854fa"
   },
   "outputs": [
    {
     "data": {
      "text/plain": [
       "array(['black', 'beige', 'gray', 'tan', 'brown', '—', 'off-white', nan,\n",
       "       'blue', 'white', 'silver', 'red', 'green', 'gold', 'purple',\n",
       "       'orange', 'burgundy', 'yellow'], dtype=object)"
      ]
     },
     "execution_count": 66,
     "metadata": {},
     "output_type": "execute_result"
    }
   ],
   "source": [
    "train_fill.interior.unique()"
   ]
  },
  {
   "cell_type": "code",
   "execution_count": 67,
   "id": "RMOli5HGwMoK",
   "metadata": {
    "colab": {
     "base_uri": "https://localhost:8080/",
     "height": 143
    },
    "executionInfo": {
     "elapsed": 20,
     "status": "ok",
     "timestamp": 1694150560791,
     "user": {
      "displayName": "Андрей Медведев",
      "userId": "02560461935100345008"
     },
     "user_tz": -180
    },
    "id": "RMOli5HGwMoK",
    "outputId": "7b069aac-7224-4afc-bdc4-f6cd77d3b54a"
   },
   "outputs": [
    {
     "data": {
      "text/html": [
       "\n",
       "  <div id=\"df-592f2f91-69bc-40a1-918d-3e0c2a90950b\" class=\"colab-df-container\">\n",
       "    <div>\n",
       "<style scoped>\n",
       "    .dataframe tbody tr th:only-of-type {\n",
       "        vertical-align: middle;\n",
       "    }\n",
       "\n",
       "    .dataframe tbody tr th {\n",
       "        vertical-align: top;\n",
       "    }\n",
       "\n",
       "    .dataframe thead th {\n",
       "        text-align: right;\n",
       "    }\n",
       "</style>\n",
       "<table border=\"1\" class=\"dataframe\">\n",
       "  <thead>\n",
       "    <tr style=\"text-align: right;\">\n",
       "      <th></th>\n",
       "      <th>make</th>\n",
       "      <th>model</th>\n",
       "      <th>year</th>\n",
       "      <th>trim</th>\n",
       "      <th>body</th>\n",
       "      <th>transmission</th>\n",
       "      <th>color</th>\n",
       "      <th>interior</th>\n",
       "    </tr>\n",
       "  </thead>\n",
       "  <tbody>\n",
       "    <tr>\n",
       "      <th>435</th>\n",
       "      <td>bmw</td>\n",
       "      <td>m6</td>\n",
       "      <td>2015</td>\n",
       "      <td>base</td>\n",
       "      <td>convertible</td>\n",
       "      <td>automatic</td>\n",
       "      <td>NaN</td>\n",
       "      <td>NaN</td>\n",
       "    </tr>\n",
       "    <tr>\n",
       "      <th>1564</th>\n",
       "      <td>ford</td>\n",
       "      <td>crown</td>\n",
       "      <td>2009</td>\n",
       "      <td>victoria police int</td>\n",
       "      <td>NaN</td>\n",
       "      <td>NaN</td>\n",
       "      <td>NaN</td>\n",
       "      <td>NaN</td>\n",
       "    </tr>\n",
       "    <tr>\n",
       "      <th>3127</th>\n",
       "      <td>lexus</td>\n",
       "      <td>lx 570</td>\n",
       "      <td>2015</td>\n",
       "      <td>base</td>\n",
       "      <td>suv</td>\n",
       "      <td>automatic</td>\n",
       "      <td>black</td>\n",
       "      <td>NaN</td>\n",
       "    </tr>\n",
       "  </tbody>\n",
       "</table>\n",
       "</div>\n",
       "    <div class=\"colab-df-buttons\">\n",
       "\n",
       "  <div class=\"colab-df-container\">\n",
       "    <button class=\"colab-df-convert\" onclick=\"convertToInteractive('df-592f2f91-69bc-40a1-918d-3e0c2a90950b')\"\n",
       "            title=\"Convert this dataframe to an interactive table.\"\n",
       "            style=\"display:none;\">\n",
       "\n",
       "  <svg xmlns=\"http://www.w3.org/2000/svg\" height=\"24px\" viewBox=\"0 -960 960 960\">\n",
       "    <path d=\"M120-120v-720h720v720H120Zm60-500h600v-160H180v160Zm220 220h160v-160H400v160Zm0 220h160v-160H400v160ZM180-400h160v-160H180v160Zm440 0h160v-160H620v160ZM180-180h160v-160H180v160Zm440 0h160v-160H620v160Z\"/>\n",
       "  </svg>\n",
       "    </button>\n",
       "\n",
       "  <style>\n",
       "    .colab-df-container {\n",
       "      display:flex;\n",
       "      gap: 12px;\n",
       "    }\n",
       "\n",
       "    .colab-df-convert {\n",
       "      background-color: #E8F0FE;\n",
       "      border: none;\n",
       "      border-radius: 50%;\n",
       "      cursor: pointer;\n",
       "      display: none;\n",
       "      fill: #1967D2;\n",
       "      height: 32px;\n",
       "      padding: 0 0 0 0;\n",
       "      width: 32px;\n",
       "    }\n",
       "\n",
       "    .colab-df-convert:hover {\n",
       "      background-color: #E2EBFA;\n",
       "      box-shadow: 0px 1px 2px rgba(60, 64, 67, 0.3), 0px 1px 3px 1px rgba(60, 64, 67, 0.15);\n",
       "      fill: #174EA6;\n",
       "    }\n",
       "\n",
       "    .colab-df-buttons div {\n",
       "      margin-bottom: 4px;\n",
       "    }\n",
       "\n",
       "    [theme=dark] .colab-df-convert {\n",
       "      background-color: #3B4455;\n",
       "      fill: #D2E3FC;\n",
       "    }\n",
       "\n",
       "    [theme=dark] .colab-df-convert:hover {\n",
       "      background-color: #434B5C;\n",
       "      box-shadow: 0px 1px 3px 1px rgba(0, 0, 0, 0.15);\n",
       "      filter: drop-shadow(0px 1px 2px rgba(0, 0, 0, 0.3));\n",
       "      fill: #FFFFFF;\n",
       "    }\n",
       "  </style>\n",
       "\n",
       "    <script>\n",
       "      const buttonEl =\n",
       "        document.querySelector('#df-592f2f91-69bc-40a1-918d-3e0c2a90950b button.colab-df-convert');\n",
       "      buttonEl.style.display =\n",
       "        google.colab.kernel.accessAllowed ? 'block' : 'none';\n",
       "\n",
       "      async function convertToInteractive(key) {\n",
       "        const element = document.querySelector('#df-592f2f91-69bc-40a1-918d-3e0c2a90950b');\n",
       "        const dataTable =\n",
       "          await google.colab.kernel.invokeFunction('convertToInteractive',\n",
       "                                                    [key], {});\n",
       "        if (!dataTable) return;\n",
       "\n",
       "        const docLinkHtml = 'Like what you see? Visit the ' +\n",
       "          '<a target=\"_blank\" href=https://colab.research.google.com/notebooks/data_table.ipynb>data table notebook</a>'\n",
       "          + ' to learn more about interactive tables.';\n",
       "        element.innerHTML = '';\n",
       "        dataTable['output_type'] = 'display_data';\n",
       "        await google.colab.output.renderOutput(dataTable, element);\n",
       "        const docLink = document.createElement('div');\n",
       "        docLink.innerHTML = docLinkHtml;\n",
       "        element.appendChild(docLink);\n",
       "      }\n",
       "    </script>\n",
       "  </div>\n",
       "\n",
       "\n",
       "<div id=\"df-cf2a17bc-45fd-4af3-824a-88b40087c55e\">\n",
       "  <button class=\"colab-df-quickchart\" onclick=\"quickchart('df-cf2a17bc-45fd-4af3-824a-88b40087c55e')\"\n",
       "            title=\"Suggest charts.\"\n",
       "            style=\"display:none;\">\n",
       "\n",
       "<svg xmlns=\"http://www.w3.org/2000/svg\" height=\"24px\"viewBox=\"0 0 24 24\"\n",
       "     width=\"24px\">\n",
       "    <g>\n",
       "        <path d=\"M19 3H5c-1.1 0-2 .9-2 2v14c0 1.1.9 2 2 2h14c1.1 0 2-.9 2-2V5c0-1.1-.9-2-2-2zM9 17H7v-7h2v7zm4 0h-2V7h2v10zm4 0h-2v-4h2v4z\"/>\n",
       "    </g>\n",
       "</svg>\n",
       "  </button>\n",
       "\n",
       "<style>\n",
       "  .colab-df-quickchart {\n",
       "      --bg-color: #E8F0FE;\n",
       "      --fill-color: #1967D2;\n",
       "      --hover-bg-color: #E2EBFA;\n",
       "      --hover-fill-color: #174EA6;\n",
       "      --disabled-fill-color: #AAA;\n",
       "      --disabled-bg-color: #DDD;\n",
       "  }\n",
       "\n",
       "  [theme=dark] .colab-df-quickchart {\n",
       "      --bg-color: #3B4455;\n",
       "      --fill-color: #D2E3FC;\n",
       "      --hover-bg-color: #434B5C;\n",
       "      --hover-fill-color: #FFFFFF;\n",
       "      --disabled-bg-color: #3B4455;\n",
       "      --disabled-fill-color: #666;\n",
       "  }\n",
       "\n",
       "  .colab-df-quickchart {\n",
       "    background-color: var(--bg-color);\n",
       "    border: none;\n",
       "    border-radius: 50%;\n",
       "    cursor: pointer;\n",
       "    display: none;\n",
       "    fill: var(--fill-color);\n",
       "    height: 32px;\n",
       "    padding: 0;\n",
       "    width: 32px;\n",
       "  }\n",
       "\n",
       "  .colab-df-quickchart:hover {\n",
       "    background-color: var(--hover-bg-color);\n",
       "    box-shadow: 0 1px 2px rgba(60, 64, 67, 0.3), 0 1px 3px 1px rgba(60, 64, 67, 0.15);\n",
       "    fill: var(--button-hover-fill-color);\n",
       "  }\n",
       "\n",
       "  .colab-df-quickchart-complete:disabled,\n",
       "  .colab-df-quickchart-complete:disabled:hover {\n",
       "    background-color: var(--disabled-bg-color);\n",
       "    fill: var(--disabled-fill-color);\n",
       "    box-shadow: none;\n",
       "  }\n",
       "\n",
       "  .colab-df-spinner {\n",
       "    border: 2px solid var(--fill-color);\n",
       "    border-color: transparent;\n",
       "    border-bottom-color: var(--fill-color);\n",
       "    animation:\n",
       "      spin 1s steps(1) infinite;\n",
       "  }\n",
       "\n",
       "  @keyframes spin {\n",
       "    0% {\n",
       "      border-color: transparent;\n",
       "      border-bottom-color: var(--fill-color);\n",
       "      border-left-color: var(--fill-color);\n",
       "    }\n",
       "    20% {\n",
       "      border-color: transparent;\n",
       "      border-left-color: var(--fill-color);\n",
       "      border-top-color: var(--fill-color);\n",
       "    }\n",
       "    30% {\n",
       "      border-color: transparent;\n",
       "      border-left-color: var(--fill-color);\n",
       "      border-top-color: var(--fill-color);\n",
       "      border-right-color: var(--fill-color);\n",
       "    }\n",
       "    40% {\n",
       "      border-color: transparent;\n",
       "      border-right-color: var(--fill-color);\n",
       "      border-top-color: var(--fill-color);\n",
       "    }\n",
       "    60% {\n",
       "      border-color: transparent;\n",
       "      border-right-color: var(--fill-color);\n",
       "    }\n",
       "    80% {\n",
       "      border-color: transparent;\n",
       "      border-right-color: var(--fill-color);\n",
       "      border-bottom-color: var(--fill-color);\n",
       "    }\n",
       "    90% {\n",
       "      border-color: transparent;\n",
       "      border-bottom-color: var(--fill-color);\n",
       "    }\n",
       "  }\n",
       "</style>\n",
       "\n",
       "  <script>\n",
       "    async function quickchart(key) {\n",
       "      const quickchartButtonEl =\n",
       "        document.querySelector('#' + key + ' button');\n",
       "      quickchartButtonEl.disabled = true;  // To prevent multiple clicks.\n",
       "      quickchartButtonEl.classList.add('colab-df-spinner');\n",
       "      try {\n",
       "        const charts = await google.colab.kernel.invokeFunction(\n",
       "            'suggestCharts', [key], {});\n",
       "      } catch (error) {\n",
       "        console.error('Error during call to suggestCharts:', error);\n",
       "      }\n",
       "      quickchartButtonEl.classList.remove('colab-df-spinner');\n",
       "      quickchartButtonEl.classList.add('colab-df-quickchart-complete');\n",
       "    }\n",
       "    (() => {\n",
       "      let quickchartButtonEl =\n",
       "        document.querySelector('#df-cf2a17bc-45fd-4af3-824a-88b40087c55e button');\n",
       "      quickchartButtonEl.style.display =\n",
       "        google.colab.kernel.accessAllowed ? 'block' : 'none';\n",
       "    })();\n",
       "  </script>\n",
       "</div>\n",
       "    </div>\n",
       "  </div>\n"
      ],
      "text/plain": [
       "       make   model  year                 trim         body transmission  \\\n",
       "435     bmw      m6  2015                 base  convertible    automatic   \n",
       "1564   ford   crown  2009  victoria police int          NaN          NaN   \n",
       "3127  lexus  lx 570  2015                 base          suv    automatic   \n",
       "\n",
       "      color interior  \n",
       "435     NaN      NaN  \n",
       "1564    NaN      NaN  \n",
       "3127  black      NaN  "
      ]
     },
     "execution_count": 67,
     "metadata": {},
     "output_type": "execute_result"
    }
   ],
   "source": [
    "train_grb[train_grb.interior.map(type)!=str]"
   ]
  },
  {
   "cell_type": "code",
   "execution_count": 68,
   "id": "RpwA6G_d5d-p",
   "metadata": {
    "colab": {
     "base_uri": "https://localhost:8080/",
     "height": 35
    },
    "executionInfo": {
     "elapsed": 19,
     "status": "ok",
     "timestamp": 1694150560791,
     "user": {
      "displayName": "Андрей Медведев",
      "userId": "02560461935100345008"
     },
     "user_tz": -180
    },
    "id": "RpwA6G_d5d-p",
    "outputId": "d2fe1831-637a-46a7-88c1-1b06c4cc93cb"
   },
   "outputs": [
    {
     "data": {
      "application/vnd.google.colaboratory.intrinsic+json": {
       "type": "string"
      },
      "text/plain": [
       "'base'"
      ]
     },
     "execution_count": 68,
     "metadata": {},
     "output_type": "execute_result"
    }
   ],
   "source": [
    "train_grb.trim.value_counts()[:1].index[0]"
   ]
  },
  {
   "cell_type": "code",
   "execution_count": 69,
   "id": "BfZZbtTF8JT0",
   "metadata": {
    "executionInfo": {
     "elapsed": 19,
     "status": "ok",
     "timestamp": 1694150560792,
     "user": {
      "displayName": "Андрей Медведев",
      "userId": "02560461935100345008"
     },
     "user_tz": -180
    },
    "id": "BfZZbtTF8JT0"
   },
   "outputs": [],
   "source": [
    "for j in train_grb.columns[-5:]:\n",
    "    train_grb[j] = train_grb[j].fillna(train_grb[j].value_counts()[:1].index[0])"
   ]
  },
  {
   "cell_type": "code",
   "execution_count": 70,
   "id": "ss4rJU8ZGnK0",
   "metadata": {
    "colab": {
     "base_uri": "https://localhost:8080/",
     "height": 424
    },
    "executionInfo": {
     "elapsed": 19,
     "status": "ok",
     "timestamp": 1694150560792,
     "user": {
      "displayName": "Андрей Медведев",
      "userId": "02560461935100345008"
     },
     "user_tz": -180
    },
    "id": "ss4rJU8ZGnK0",
    "outputId": "23262db6-5b93-40da-cbd9-1fe4bb2ee086"
   },
   "outputs": [
    {
     "data": {
      "text/html": [
       "\n",
       "  <div id=\"df-0008bb91-8f30-4181-a54d-82671d4970d6\" class=\"colab-df-container\">\n",
       "    <div>\n",
       "<style scoped>\n",
       "    .dataframe tbody tr th:only-of-type {\n",
       "        vertical-align: middle;\n",
       "    }\n",
       "\n",
       "    .dataframe tbody tr th {\n",
       "        vertical-align: top;\n",
       "    }\n",
       "\n",
       "    .dataframe thead th {\n",
       "        text-align: right;\n",
       "    }\n",
       "</style>\n",
       "<table border=\"1\" class=\"dataframe\">\n",
       "  <thead>\n",
       "    <tr style=\"text-align: right;\">\n",
       "      <th></th>\n",
       "      <th>make</th>\n",
       "      <th>model</th>\n",
       "      <th>year</th>\n",
       "      <th>trim</th>\n",
       "      <th>body</th>\n",
       "      <th>transmission</th>\n",
       "      <th>color</th>\n",
       "      <th>interior</th>\n",
       "    </tr>\n",
       "  </thead>\n",
       "  <tbody>\n",
       "    <tr>\n",
       "      <th>0</th>\n",
       "      <td>acura</td>\n",
       "      <td>cl</td>\n",
       "      <td>1997</td>\n",
       "      <td>3.0 premium</td>\n",
       "      <td>coupe</td>\n",
       "      <td>automatic</td>\n",
       "      <td>blue</td>\n",
       "      <td>gray</td>\n",
       "    </tr>\n",
       "    <tr>\n",
       "      <th>1</th>\n",
       "      <td>acura</td>\n",
       "      <td>cl</td>\n",
       "      <td>1998</td>\n",
       "      <td>3.0 premium</td>\n",
       "      <td>coupe</td>\n",
       "      <td>automatic</td>\n",
       "      <td>white</td>\n",
       "      <td>black</td>\n",
       "    </tr>\n",
       "    <tr>\n",
       "      <th>2</th>\n",
       "      <td>acura</td>\n",
       "      <td>cl</td>\n",
       "      <td>1999</td>\n",
       "      <td>3.0</td>\n",
       "      <td>coupe</td>\n",
       "      <td>automatic</td>\n",
       "      <td>black</td>\n",
       "      <td>black</td>\n",
       "    </tr>\n",
       "    <tr>\n",
       "      <th>3</th>\n",
       "      <td>acura</td>\n",
       "      <td>cl</td>\n",
       "      <td>2001</td>\n",
       "      <td>3.2 type-s</td>\n",
       "      <td>coupe</td>\n",
       "      <td>automatic</td>\n",
       "      <td>black</td>\n",
       "      <td>black</td>\n",
       "    </tr>\n",
       "    <tr>\n",
       "      <th>4</th>\n",
       "      <td>acura</td>\n",
       "      <td>cl</td>\n",
       "      <td>2002</td>\n",
       "      <td>3.2 type-s</td>\n",
       "      <td>coupe</td>\n",
       "      <td>automatic</td>\n",
       "      <td>white</td>\n",
       "      <td>beige</td>\n",
       "    </tr>\n",
       "    <tr>\n",
       "      <th>...</th>\n",
       "      <td>...</td>\n",
       "      <td>...</td>\n",
       "      <td>...</td>\n",
       "      <td>...</td>\n",
       "      <td>...</td>\n",
       "      <td>...</td>\n",
       "      <td>...</td>\n",
       "      <td>...</td>\n",
       "    </tr>\n",
       "    <tr>\n",
       "      <th>5266</th>\n",
       "      <td>volvo</td>\n",
       "      <td>xc90</td>\n",
       "      <td>2010</td>\n",
       "      <td>3.2</td>\n",
       "      <td>suv</td>\n",
       "      <td>automatic</td>\n",
       "      <td>black</td>\n",
       "      <td>black</td>\n",
       "    </tr>\n",
       "    <tr>\n",
       "      <th>5267</th>\n",
       "      <td>volvo</td>\n",
       "      <td>xc90</td>\n",
       "      <td>2011</td>\n",
       "      <td>3.2</td>\n",
       "      <td>suv</td>\n",
       "      <td>automatic</td>\n",
       "      <td>silver</td>\n",
       "      <td>black</td>\n",
       "    </tr>\n",
       "    <tr>\n",
       "      <th>5268</th>\n",
       "      <td>volvo</td>\n",
       "      <td>xc90</td>\n",
       "      <td>2012</td>\n",
       "      <td>3.2</td>\n",
       "      <td>suv</td>\n",
       "      <td>automatic</td>\n",
       "      <td>black</td>\n",
       "      <td>black</td>\n",
       "    </tr>\n",
       "    <tr>\n",
       "      <th>5269</th>\n",
       "      <td>volvo</td>\n",
       "      <td>xc90</td>\n",
       "      <td>2013</td>\n",
       "      <td>3.2</td>\n",
       "      <td>suv</td>\n",
       "      <td>automatic</td>\n",
       "      <td>white</td>\n",
       "      <td>beige</td>\n",
       "    </tr>\n",
       "    <tr>\n",
       "      <th>5270</th>\n",
       "      <td>volvo</td>\n",
       "      <td>xc90</td>\n",
       "      <td>2014</td>\n",
       "      <td>3.2</td>\n",
       "      <td>suv</td>\n",
       "      <td>automatic</td>\n",
       "      <td>black</td>\n",
       "      <td>black</td>\n",
       "    </tr>\n",
       "  </tbody>\n",
       "</table>\n",
       "<p>5271 rows × 8 columns</p>\n",
       "</div>\n",
       "    <div class=\"colab-df-buttons\">\n",
       "\n",
       "  <div class=\"colab-df-container\">\n",
       "    <button class=\"colab-df-convert\" onclick=\"convertToInteractive('df-0008bb91-8f30-4181-a54d-82671d4970d6')\"\n",
       "            title=\"Convert this dataframe to an interactive table.\"\n",
       "            style=\"display:none;\">\n",
       "\n",
       "  <svg xmlns=\"http://www.w3.org/2000/svg\" height=\"24px\" viewBox=\"0 -960 960 960\">\n",
       "    <path d=\"M120-120v-720h720v720H120Zm60-500h600v-160H180v160Zm220 220h160v-160H400v160Zm0 220h160v-160H400v160ZM180-400h160v-160H180v160Zm440 0h160v-160H620v160ZM180-180h160v-160H180v160Zm440 0h160v-160H620v160Z\"/>\n",
       "  </svg>\n",
       "    </button>\n",
       "\n",
       "  <style>\n",
       "    .colab-df-container {\n",
       "      display:flex;\n",
       "      gap: 12px;\n",
       "    }\n",
       "\n",
       "    .colab-df-convert {\n",
       "      background-color: #E8F0FE;\n",
       "      border: none;\n",
       "      border-radius: 50%;\n",
       "      cursor: pointer;\n",
       "      display: none;\n",
       "      fill: #1967D2;\n",
       "      height: 32px;\n",
       "      padding: 0 0 0 0;\n",
       "      width: 32px;\n",
       "    }\n",
       "\n",
       "    .colab-df-convert:hover {\n",
       "      background-color: #E2EBFA;\n",
       "      box-shadow: 0px 1px 2px rgba(60, 64, 67, 0.3), 0px 1px 3px 1px rgba(60, 64, 67, 0.15);\n",
       "      fill: #174EA6;\n",
       "    }\n",
       "\n",
       "    .colab-df-buttons div {\n",
       "      margin-bottom: 4px;\n",
       "    }\n",
       "\n",
       "    [theme=dark] .colab-df-convert {\n",
       "      background-color: #3B4455;\n",
       "      fill: #D2E3FC;\n",
       "    }\n",
       "\n",
       "    [theme=dark] .colab-df-convert:hover {\n",
       "      background-color: #434B5C;\n",
       "      box-shadow: 0px 1px 3px 1px rgba(0, 0, 0, 0.15);\n",
       "      filter: drop-shadow(0px 1px 2px rgba(0, 0, 0, 0.3));\n",
       "      fill: #FFFFFF;\n",
       "    }\n",
       "  </style>\n",
       "\n",
       "    <script>\n",
       "      const buttonEl =\n",
       "        document.querySelector('#df-0008bb91-8f30-4181-a54d-82671d4970d6 button.colab-df-convert');\n",
       "      buttonEl.style.display =\n",
       "        google.colab.kernel.accessAllowed ? 'block' : 'none';\n",
       "\n",
       "      async function convertToInteractive(key) {\n",
       "        const element = document.querySelector('#df-0008bb91-8f30-4181-a54d-82671d4970d6');\n",
       "        const dataTable =\n",
       "          await google.colab.kernel.invokeFunction('convertToInteractive',\n",
       "                                                    [key], {});\n",
       "        if (!dataTable) return;\n",
       "\n",
       "        const docLinkHtml = 'Like what you see? Visit the ' +\n",
       "          '<a target=\"_blank\" href=https://colab.research.google.com/notebooks/data_table.ipynb>data table notebook</a>'\n",
       "          + ' to learn more about interactive tables.';\n",
       "        element.innerHTML = '';\n",
       "        dataTable['output_type'] = 'display_data';\n",
       "        await google.colab.output.renderOutput(dataTable, element);\n",
       "        const docLink = document.createElement('div');\n",
       "        docLink.innerHTML = docLinkHtml;\n",
       "        element.appendChild(docLink);\n",
       "      }\n",
       "    </script>\n",
       "  </div>\n",
       "\n",
       "\n",
       "<div id=\"df-5060cd68-8b35-4804-a9bb-db7b07e97319\">\n",
       "  <button class=\"colab-df-quickchart\" onclick=\"quickchart('df-5060cd68-8b35-4804-a9bb-db7b07e97319')\"\n",
       "            title=\"Suggest charts.\"\n",
       "            style=\"display:none;\">\n",
       "\n",
       "<svg xmlns=\"http://www.w3.org/2000/svg\" height=\"24px\"viewBox=\"0 0 24 24\"\n",
       "     width=\"24px\">\n",
       "    <g>\n",
       "        <path d=\"M19 3H5c-1.1 0-2 .9-2 2v14c0 1.1.9 2 2 2h14c1.1 0 2-.9 2-2V5c0-1.1-.9-2-2-2zM9 17H7v-7h2v7zm4 0h-2V7h2v10zm4 0h-2v-4h2v4z\"/>\n",
       "    </g>\n",
       "</svg>\n",
       "  </button>\n",
       "\n",
       "<style>\n",
       "  .colab-df-quickchart {\n",
       "      --bg-color: #E8F0FE;\n",
       "      --fill-color: #1967D2;\n",
       "      --hover-bg-color: #E2EBFA;\n",
       "      --hover-fill-color: #174EA6;\n",
       "      --disabled-fill-color: #AAA;\n",
       "      --disabled-bg-color: #DDD;\n",
       "  }\n",
       "\n",
       "  [theme=dark] .colab-df-quickchart {\n",
       "      --bg-color: #3B4455;\n",
       "      --fill-color: #D2E3FC;\n",
       "      --hover-bg-color: #434B5C;\n",
       "      --hover-fill-color: #FFFFFF;\n",
       "      --disabled-bg-color: #3B4455;\n",
       "      --disabled-fill-color: #666;\n",
       "  }\n",
       "\n",
       "  .colab-df-quickchart {\n",
       "    background-color: var(--bg-color);\n",
       "    border: none;\n",
       "    border-radius: 50%;\n",
       "    cursor: pointer;\n",
       "    display: none;\n",
       "    fill: var(--fill-color);\n",
       "    height: 32px;\n",
       "    padding: 0;\n",
       "    width: 32px;\n",
       "  }\n",
       "\n",
       "  .colab-df-quickchart:hover {\n",
       "    background-color: var(--hover-bg-color);\n",
       "    box-shadow: 0 1px 2px rgba(60, 64, 67, 0.3), 0 1px 3px 1px rgba(60, 64, 67, 0.15);\n",
       "    fill: var(--button-hover-fill-color);\n",
       "  }\n",
       "\n",
       "  .colab-df-quickchart-complete:disabled,\n",
       "  .colab-df-quickchart-complete:disabled:hover {\n",
       "    background-color: var(--disabled-bg-color);\n",
       "    fill: var(--disabled-fill-color);\n",
       "    box-shadow: none;\n",
       "  }\n",
       "\n",
       "  .colab-df-spinner {\n",
       "    border: 2px solid var(--fill-color);\n",
       "    border-color: transparent;\n",
       "    border-bottom-color: var(--fill-color);\n",
       "    animation:\n",
       "      spin 1s steps(1) infinite;\n",
       "  }\n",
       "\n",
       "  @keyframes spin {\n",
       "    0% {\n",
       "      border-color: transparent;\n",
       "      border-bottom-color: var(--fill-color);\n",
       "      border-left-color: var(--fill-color);\n",
       "    }\n",
       "    20% {\n",
       "      border-color: transparent;\n",
       "      border-left-color: var(--fill-color);\n",
       "      border-top-color: var(--fill-color);\n",
       "    }\n",
       "    30% {\n",
       "      border-color: transparent;\n",
       "      border-left-color: var(--fill-color);\n",
       "      border-top-color: var(--fill-color);\n",
       "      border-right-color: var(--fill-color);\n",
       "    }\n",
       "    40% {\n",
       "      border-color: transparent;\n",
       "      border-right-color: var(--fill-color);\n",
       "      border-top-color: var(--fill-color);\n",
       "    }\n",
       "    60% {\n",
       "      border-color: transparent;\n",
       "      border-right-color: var(--fill-color);\n",
       "    }\n",
       "    80% {\n",
       "      border-color: transparent;\n",
       "      border-right-color: var(--fill-color);\n",
       "      border-bottom-color: var(--fill-color);\n",
       "    }\n",
       "    90% {\n",
       "      border-color: transparent;\n",
       "      border-bottom-color: var(--fill-color);\n",
       "    }\n",
       "  }\n",
       "</style>\n",
       "\n",
       "  <script>\n",
       "    async function quickchart(key) {\n",
       "      const quickchartButtonEl =\n",
       "        document.querySelector('#' + key + ' button');\n",
       "      quickchartButtonEl.disabled = true;  // To prevent multiple clicks.\n",
       "      quickchartButtonEl.classList.add('colab-df-spinner');\n",
       "      try {\n",
       "        const charts = await google.colab.kernel.invokeFunction(\n",
       "            'suggestCharts', [key], {});\n",
       "      } catch (error) {\n",
       "        console.error('Error during call to suggestCharts:', error);\n",
       "      }\n",
       "      quickchartButtonEl.classList.remove('colab-df-spinner');\n",
       "      quickchartButtonEl.classList.add('colab-df-quickchart-complete');\n",
       "    }\n",
       "    (() => {\n",
       "      let quickchartButtonEl =\n",
       "        document.querySelector('#df-5060cd68-8b35-4804-a9bb-db7b07e97319 button');\n",
       "      quickchartButtonEl.style.display =\n",
       "        google.colab.kernel.accessAllowed ? 'block' : 'none';\n",
       "    })();\n",
       "  </script>\n",
       "</div>\n",
       "    </div>\n",
       "  </div>\n"
      ],
      "text/plain": [
       "       make model  year         trim   body transmission   color interior\n",
       "0     acura    cl  1997  3.0 premium  coupe    automatic    blue     gray\n",
       "1     acura    cl  1998  3.0 premium  coupe    automatic   white    black\n",
       "2     acura    cl  1999          3.0  coupe    automatic   black    black\n",
       "3     acura    cl  2001   3.2 type-s  coupe    automatic   black    black\n",
       "4     acura    cl  2002   3.2 type-s  coupe    automatic   white    beige\n",
       "...     ...   ...   ...          ...    ...          ...     ...      ...\n",
       "5266  volvo  xc90  2010          3.2    suv    automatic   black    black\n",
       "5267  volvo  xc90  2011          3.2    suv    automatic  silver    black\n",
       "5268  volvo  xc90  2012          3.2    suv    automatic   black    black\n",
       "5269  volvo  xc90  2013          3.2    suv    automatic   white    beige\n",
       "5270  volvo  xc90  2014          3.2    suv    automatic   black    black\n",
       "\n",
       "[5271 rows x 8 columns]"
      ]
     },
     "execution_count": 70,
     "metadata": {},
     "output_type": "execute_result"
    }
   ],
   "source": [
    "train_grb"
   ]
  },
  {
   "cell_type": "code",
   "execution_count": 71,
   "id": "GjPriZKSGpHh",
   "metadata": {
    "colab": {
     "base_uri": "https://localhost:8080/"
    },
    "executionInfo": {
     "elapsed": 17,
     "status": "ok",
     "timestamp": 1694150560792,
     "user": {
      "displayName": "Андрей Медведев",
      "userId": "02560461935100345008"
     },
     "user_tz": -180
    },
    "id": "GjPriZKSGpHh",
    "outputId": "bfa9ec71-5216-4eb4-e170-49ad46e64775"
   },
   "outputs": [
    {
     "data": {
      "text/plain": [
       "make            0\n",
       "model           0\n",
       "year            0\n",
       "trim            0\n",
       "body            0\n",
       "transmission    0\n",
       "color           0\n",
       "interior        0\n",
       "dtype: int64"
      ]
     },
     "execution_count": 71,
     "metadata": {},
     "output_type": "execute_result"
    }
   ],
   "source": [
    "train_grb.isna().sum()"
   ]
  },
  {
   "cell_type": "code",
   "execution_count": 71,
   "id": "g4cPB7bKGt0j",
   "metadata": {
    "executionInfo": {
     "elapsed": 12,
     "status": "ok",
     "timestamp": 1694150560792,
     "user": {
      "displayName": "Андрей Медведев",
      "userId": "02560461935100345008"
     },
     "user_tz": -180
    },
    "id": "g4cPB7bKGt0j"
   },
   "outputs": [],
   "source": []
  },
  {
   "cell_type": "markdown",
   "id": "6heQhqbQG3ET",
   "metadata": {
    "id": "6heQhqbQG3ET"
   },
   "source": [
    "Пропусков в сгруппированной таблице нет.\n",
    "\n",
    "Можно приступить к заполнению пропусков в основной таблице на основе группированной таблицы\n",
    "\n",
    "-- -- \n",
    "There are no gaps in the grouped table.\n",
    "\n",
    "Can start filling in the gaps in the main table based on the grouped table"
   ]
  },
  {
   "cell_type": "code",
   "execution_count": 72,
   "id": "JyxcdusdHC9v",
   "metadata": {
    "executionInfo": {
     "elapsed": 476,
     "status": "ok",
     "timestamp": 1694150561256,
     "user": {
      "displayName": "Андрей Медведев",
      "userId": "02560461935100345008"
     },
     "user_tz": -180
    },
    "id": "JyxcdusdHC9v"
   },
   "outputs": [],
   "source": [
    "#join 'train_fill' witch grouped table\n",
    "train_fill = train_fill.merge(train_grb, how='left', on=['make','model','year'])"
   ]
  },
  {
   "cell_type": "code",
   "execution_count": 73,
   "id": "tIxmIZfUHk1n",
   "metadata": {
    "colab": {
     "base_uri": "https://localhost:8080/",
     "height": 271
    },
    "executionInfo": {
     "elapsed": 15,
     "status": "ok",
     "timestamp": 1694150561256,
     "user": {
      "displayName": "Андрей Медведев",
      "userId": "02560461935100345008"
     },
     "user_tz": -180
    },
    "id": "tIxmIZfUHk1n",
    "outputId": "4674cc7d-9fda-4163-928e-2c426fac3984"
   },
   "outputs": [
    {
     "data": {
      "text/html": [
       "\n",
       "  <div id=\"df-0fda8bfc-cd09-4817-8fe6-79c3316498fe\" class=\"colab-df-container\">\n",
       "    <div>\n",
       "<style scoped>\n",
       "    .dataframe tbody tr th:only-of-type {\n",
       "        vertical-align: middle;\n",
       "    }\n",
       "\n",
       "    .dataframe tbody tr th {\n",
       "        vertical-align: top;\n",
       "    }\n",
       "\n",
       "    .dataframe thead th {\n",
       "        text-align: right;\n",
       "    }\n",
       "</style>\n",
       "<table border=\"1\" class=\"dataframe\">\n",
       "  <thead>\n",
       "    <tr style=\"text-align: right;\">\n",
       "      <th></th>\n",
       "      <th>year</th>\n",
       "      <th>make</th>\n",
       "      <th>model</th>\n",
       "      <th>trim_x</th>\n",
       "      <th>body_x</th>\n",
       "      <th>transmission_x</th>\n",
       "      <th>vin</th>\n",
       "      <th>state</th>\n",
       "      <th>condition</th>\n",
       "      <th>odometer</th>\n",
       "      <th>color_x</th>\n",
       "      <th>interior_x</th>\n",
       "      <th>seller</th>\n",
       "      <th>sellingprice</th>\n",
       "      <th>saledate</th>\n",
       "      <th>trim_y</th>\n",
       "      <th>body_y</th>\n",
       "      <th>transmission_y</th>\n",
       "      <th>color_y</th>\n",
       "      <th>interior_y</th>\n",
       "    </tr>\n",
       "  </thead>\n",
       "  <tbody>\n",
       "    <tr>\n",
       "      <th>0</th>\n",
       "      <td>2011</td>\n",
       "      <td>ford</td>\n",
       "      <td>edge</td>\n",
       "      <td>sel</td>\n",
       "      <td>suv</td>\n",
       "      <td>automatic</td>\n",
       "      <td>2fmdk3jc4bba41556</td>\n",
       "      <td>md</td>\n",
       "      <td>4.2</td>\n",
       "      <td>111041.0</td>\n",
       "      <td>black</td>\n",
       "      <td>black</td>\n",
       "      <td>santander consumer</td>\n",
       "      <td>12500</td>\n",
       "      <td>Tue Jun 02 2015 02:30:00 GMT-0700 (PDT)</td>\n",
       "      <td>sel</td>\n",
       "      <td>suv</td>\n",
       "      <td>automatic</td>\n",
       "      <td>black</td>\n",
       "      <td>black</td>\n",
       "    </tr>\n",
       "    <tr>\n",
       "      <th>1</th>\n",
       "      <td>2014</td>\n",
       "      <td>ford</td>\n",
       "      <td>fusion</td>\n",
       "      <td>se</td>\n",
       "      <td>sedan</td>\n",
       "      <td>automatic</td>\n",
       "      <td>3fa6p0h75er208976</td>\n",
       "      <td>mo</td>\n",
       "      <td>3.5</td>\n",
       "      <td>31034.0</td>\n",
       "      <td>black</td>\n",
       "      <td>black</td>\n",
       "      <td>ars/avis budget group</td>\n",
       "      <td>14500</td>\n",
       "      <td>Wed Feb 25 2015 02:00:00 GMT-0800 (PST)</td>\n",
       "      <td>se</td>\n",
       "      <td>sedan</td>\n",
       "      <td>automatic</td>\n",
       "      <td>—</td>\n",
       "      <td>black</td>\n",
       "    </tr>\n",
       "  </tbody>\n",
       "</table>\n",
       "</div>\n",
       "    <div class=\"colab-df-buttons\">\n",
       "\n",
       "  <div class=\"colab-df-container\">\n",
       "    <button class=\"colab-df-convert\" onclick=\"convertToInteractive('df-0fda8bfc-cd09-4817-8fe6-79c3316498fe')\"\n",
       "            title=\"Convert this dataframe to an interactive table.\"\n",
       "            style=\"display:none;\">\n",
       "\n",
       "  <svg xmlns=\"http://www.w3.org/2000/svg\" height=\"24px\" viewBox=\"0 -960 960 960\">\n",
       "    <path d=\"M120-120v-720h720v720H120Zm60-500h600v-160H180v160Zm220 220h160v-160H400v160Zm0 220h160v-160H400v160ZM180-400h160v-160H180v160Zm440 0h160v-160H620v160ZM180-180h160v-160H180v160Zm440 0h160v-160H620v160Z\"/>\n",
       "  </svg>\n",
       "    </button>\n",
       "\n",
       "  <style>\n",
       "    .colab-df-container {\n",
       "      display:flex;\n",
       "      gap: 12px;\n",
       "    }\n",
       "\n",
       "    .colab-df-convert {\n",
       "      background-color: #E8F0FE;\n",
       "      border: none;\n",
       "      border-radius: 50%;\n",
       "      cursor: pointer;\n",
       "      display: none;\n",
       "      fill: #1967D2;\n",
       "      height: 32px;\n",
       "      padding: 0 0 0 0;\n",
       "      width: 32px;\n",
       "    }\n",
       "\n",
       "    .colab-df-convert:hover {\n",
       "      background-color: #E2EBFA;\n",
       "      box-shadow: 0px 1px 2px rgba(60, 64, 67, 0.3), 0px 1px 3px 1px rgba(60, 64, 67, 0.15);\n",
       "      fill: #174EA6;\n",
       "    }\n",
       "\n",
       "    .colab-df-buttons div {\n",
       "      margin-bottom: 4px;\n",
       "    }\n",
       "\n",
       "    [theme=dark] .colab-df-convert {\n",
       "      background-color: #3B4455;\n",
       "      fill: #D2E3FC;\n",
       "    }\n",
       "\n",
       "    [theme=dark] .colab-df-convert:hover {\n",
       "      background-color: #434B5C;\n",
       "      box-shadow: 0px 1px 3px 1px rgba(0, 0, 0, 0.15);\n",
       "      filter: drop-shadow(0px 1px 2px rgba(0, 0, 0, 0.3));\n",
       "      fill: #FFFFFF;\n",
       "    }\n",
       "  </style>\n",
       "\n",
       "    <script>\n",
       "      const buttonEl =\n",
       "        document.querySelector('#df-0fda8bfc-cd09-4817-8fe6-79c3316498fe button.colab-df-convert');\n",
       "      buttonEl.style.display =\n",
       "        google.colab.kernel.accessAllowed ? 'block' : 'none';\n",
       "\n",
       "      async function convertToInteractive(key) {\n",
       "        const element = document.querySelector('#df-0fda8bfc-cd09-4817-8fe6-79c3316498fe');\n",
       "        const dataTable =\n",
       "          await google.colab.kernel.invokeFunction('convertToInteractive',\n",
       "                                                    [key], {});\n",
       "        if (!dataTable) return;\n",
       "\n",
       "        const docLinkHtml = 'Like what you see? Visit the ' +\n",
       "          '<a target=\"_blank\" href=https://colab.research.google.com/notebooks/data_table.ipynb>data table notebook</a>'\n",
       "          + ' to learn more about interactive tables.';\n",
       "        element.innerHTML = '';\n",
       "        dataTable['output_type'] = 'display_data';\n",
       "        await google.colab.output.renderOutput(dataTable, element);\n",
       "        const docLink = document.createElement('div');\n",
       "        docLink.innerHTML = docLinkHtml;\n",
       "        element.appendChild(docLink);\n",
       "      }\n",
       "    </script>\n",
       "  </div>\n",
       "\n",
       "\n",
       "<div id=\"df-d5a54c64-4250-45bc-9de8-c1fe9156921e\">\n",
       "  <button class=\"colab-df-quickchart\" onclick=\"quickchart('df-d5a54c64-4250-45bc-9de8-c1fe9156921e')\"\n",
       "            title=\"Suggest charts.\"\n",
       "            style=\"display:none;\">\n",
       "\n",
       "<svg xmlns=\"http://www.w3.org/2000/svg\" height=\"24px\"viewBox=\"0 0 24 24\"\n",
       "     width=\"24px\">\n",
       "    <g>\n",
       "        <path d=\"M19 3H5c-1.1 0-2 .9-2 2v14c0 1.1.9 2 2 2h14c1.1 0 2-.9 2-2V5c0-1.1-.9-2-2-2zM9 17H7v-7h2v7zm4 0h-2V7h2v10zm4 0h-2v-4h2v4z\"/>\n",
       "    </g>\n",
       "</svg>\n",
       "  </button>\n",
       "\n",
       "<style>\n",
       "  .colab-df-quickchart {\n",
       "      --bg-color: #E8F0FE;\n",
       "      --fill-color: #1967D2;\n",
       "      --hover-bg-color: #E2EBFA;\n",
       "      --hover-fill-color: #174EA6;\n",
       "      --disabled-fill-color: #AAA;\n",
       "      --disabled-bg-color: #DDD;\n",
       "  }\n",
       "\n",
       "  [theme=dark] .colab-df-quickchart {\n",
       "      --bg-color: #3B4455;\n",
       "      --fill-color: #D2E3FC;\n",
       "      --hover-bg-color: #434B5C;\n",
       "      --hover-fill-color: #FFFFFF;\n",
       "      --disabled-bg-color: #3B4455;\n",
       "      --disabled-fill-color: #666;\n",
       "  }\n",
       "\n",
       "  .colab-df-quickchart {\n",
       "    background-color: var(--bg-color);\n",
       "    border: none;\n",
       "    border-radius: 50%;\n",
       "    cursor: pointer;\n",
       "    display: none;\n",
       "    fill: var(--fill-color);\n",
       "    height: 32px;\n",
       "    padding: 0;\n",
       "    width: 32px;\n",
       "  }\n",
       "\n",
       "  .colab-df-quickchart:hover {\n",
       "    background-color: var(--hover-bg-color);\n",
       "    box-shadow: 0 1px 2px rgba(60, 64, 67, 0.3), 0 1px 3px 1px rgba(60, 64, 67, 0.15);\n",
       "    fill: var(--button-hover-fill-color);\n",
       "  }\n",
       "\n",
       "  .colab-df-quickchart-complete:disabled,\n",
       "  .colab-df-quickchart-complete:disabled:hover {\n",
       "    background-color: var(--disabled-bg-color);\n",
       "    fill: var(--disabled-fill-color);\n",
       "    box-shadow: none;\n",
       "  }\n",
       "\n",
       "  .colab-df-spinner {\n",
       "    border: 2px solid var(--fill-color);\n",
       "    border-color: transparent;\n",
       "    border-bottom-color: var(--fill-color);\n",
       "    animation:\n",
       "      spin 1s steps(1) infinite;\n",
       "  }\n",
       "\n",
       "  @keyframes spin {\n",
       "    0% {\n",
       "      border-color: transparent;\n",
       "      border-bottom-color: var(--fill-color);\n",
       "      border-left-color: var(--fill-color);\n",
       "    }\n",
       "    20% {\n",
       "      border-color: transparent;\n",
       "      border-left-color: var(--fill-color);\n",
       "      border-top-color: var(--fill-color);\n",
       "    }\n",
       "    30% {\n",
       "      border-color: transparent;\n",
       "      border-left-color: var(--fill-color);\n",
       "      border-top-color: var(--fill-color);\n",
       "      border-right-color: var(--fill-color);\n",
       "    }\n",
       "    40% {\n",
       "      border-color: transparent;\n",
       "      border-right-color: var(--fill-color);\n",
       "      border-top-color: var(--fill-color);\n",
       "    }\n",
       "    60% {\n",
       "      border-color: transparent;\n",
       "      border-right-color: var(--fill-color);\n",
       "    }\n",
       "    80% {\n",
       "      border-color: transparent;\n",
       "      border-right-color: var(--fill-color);\n",
       "      border-bottom-color: var(--fill-color);\n",
       "    }\n",
       "    90% {\n",
       "      border-color: transparent;\n",
       "      border-bottom-color: var(--fill-color);\n",
       "    }\n",
       "  }\n",
       "</style>\n",
       "\n",
       "  <script>\n",
       "    async function quickchart(key) {\n",
       "      const quickchartButtonEl =\n",
       "        document.querySelector('#' + key + ' button');\n",
       "      quickchartButtonEl.disabled = true;  // To prevent multiple clicks.\n",
       "      quickchartButtonEl.classList.add('colab-df-spinner');\n",
       "      try {\n",
       "        const charts = await google.colab.kernel.invokeFunction(\n",
       "            'suggestCharts', [key], {});\n",
       "      } catch (error) {\n",
       "        console.error('Error during call to suggestCharts:', error);\n",
       "      }\n",
       "      quickchartButtonEl.classList.remove('colab-df-spinner');\n",
       "      quickchartButtonEl.classList.add('colab-df-quickchart-complete');\n",
       "    }\n",
       "    (() => {\n",
       "      let quickchartButtonEl =\n",
       "        document.querySelector('#df-d5a54c64-4250-45bc-9de8-c1fe9156921e button');\n",
       "      quickchartButtonEl.style.display =\n",
       "        google.colab.kernel.accessAllowed ? 'block' : 'none';\n",
       "    })();\n",
       "  </script>\n",
       "</div>\n",
       "    </div>\n",
       "  </div>\n"
      ],
      "text/plain": [
       "   year  make   model trim_x body_x transmission_x                vin state  \\\n",
       "0  2011  ford    edge    sel    suv      automatic  2fmdk3jc4bba41556    md   \n",
       "1  2014  ford  fusion     se  sedan      automatic  3fa6p0h75er208976    mo   \n",
       "\n",
       "   condition  odometer color_x interior_x                 seller  \\\n",
       "0        4.2  111041.0   black      black     santander consumer   \n",
       "1        3.5   31034.0   black      black  ars/avis budget group   \n",
       "\n",
       "   sellingprice                                 saledate trim_y body_y  \\\n",
       "0         12500  Tue Jun 02 2015 02:30:00 GMT-0700 (PDT)    sel    suv   \n",
       "1         14500  Wed Feb 25 2015 02:00:00 GMT-0800 (PST)     se  sedan   \n",
       "\n",
       "  transmission_y color_y interior_y  \n",
       "0      automatic   black      black  \n",
       "1      automatic       —      black  "
      ]
     },
     "execution_count": 73,
     "metadata": {},
     "output_type": "execute_result"
    }
   ],
   "source": [
    "train_fill.head(2)"
   ]
  },
  {
   "cell_type": "code",
   "execution_count": 74,
   "id": "nf0Qu2ENJkQw",
   "metadata": {
    "executionInfo": {
     "elapsed": 15,
     "status": "ok",
     "timestamp": 1694150561257,
     "user": {
      "displayName": "Андрей Медведев",
      "userId": "02560461935100345008"
     },
     "user_tz": -180
    },
    "id": "nf0Qu2ENJkQw"
   },
   "outputs": [],
   "source": [
    "#also for test_fill\n",
    "test_fill = test_fill.merge(train_grb, how='left', on=['make','model','year'])"
   ]
  },
  {
   "cell_type": "code",
   "execution_count": 75,
   "id": "-BozgtUHJkeW",
   "metadata": {
    "colab": {
     "base_uri": "https://localhost:8080/",
     "height": 271
    },
    "executionInfo": {
     "elapsed": 15,
     "status": "ok",
     "timestamp": 1694150561257,
     "user": {
      "displayName": "Андрей Медведев",
      "userId": "02560461935100345008"
     },
     "user_tz": -180
    },
    "id": "-BozgtUHJkeW",
    "outputId": "0b8186bd-e8ec-4add-c722-20ea74fe9ce0"
   },
   "outputs": [
    {
     "data": {
      "text/html": [
       "\n",
       "  <div id=\"df-fcf261af-f938-4bc0-8d00-8a7854ffaddc\" class=\"colab-df-container\">\n",
       "    <div>\n",
       "<style scoped>\n",
       "    .dataframe tbody tr th:only-of-type {\n",
       "        vertical-align: middle;\n",
       "    }\n",
       "\n",
       "    .dataframe tbody tr th {\n",
       "        vertical-align: top;\n",
       "    }\n",
       "\n",
       "    .dataframe thead th {\n",
       "        text-align: right;\n",
       "    }\n",
       "</style>\n",
       "<table border=\"1\" class=\"dataframe\">\n",
       "  <thead>\n",
       "    <tr style=\"text-align: right;\">\n",
       "      <th></th>\n",
       "      <th>year</th>\n",
       "      <th>make</th>\n",
       "      <th>model</th>\n",
       "      <th>trim_x</th>\n",
       "      <th>body_x</th>\n",
       "      <th>transmission_x</th>\n",
       "      <th>vin</th>\n",
       "      <th>state</th>\n",
       "      <th>condition</th>\n",
       "      <th>odometer</th>\n",
       "      <th>color_x</th>\n",
       "      <th>interior_x</th>\n",
       "      <th>seller</th>\n",
       "      <th>saledate</th>\n",
       "      <th>trim_y</th>\n",
       "      <th>body_y</th>\n",
       "      <th>transmission_y</th>\n",
       "      <th>color_y</th>\n",
       "      <th>interior_y</th>\n",
       "    </tr>\n",
       "  </thead>\n",
       "  <tbody>\n",
       "    <tr>\n",
       "      <th>0</th>\n",
       "      <td>2005</td>\n",
       "      <td>cadillac</td>\n",
       "      <td>cts</td>\n",
       "      <td>base</td>\n",
       "      <td>sedan</td>\n",
       "      <td>automatic</td>\n",
       "      <td>1g6dp567450124779</td>\n",
       "      <td>ca</td>\n",
       "      <td>2.7</td>\n",
       "      <td>116970.0</td>\n",
       "      <td>silver</td>\n",
       "      <td>black</td>\n",
       "      <td>lexus of stevens creek</td>\n",
       "      <td>Wed Jan 14 2015 04:30:00 GMT-0800 (PST)</td>\n",
       "      <td>base</td>\n",
       "      <td>sedan</td>\n",
       "      <td>automatic</td>\n",
       "      <td>black</td>\n",
       "      <td>gray</td>\n",
       "    </tr>\n",
       "    <tr>\n",
       "      <th>1</th>\n",
       "      <td>2014</td>\n",
       "      <td>gmc</td>\n",
       "      <td>savana cargo</td>\n",
       "      <td>2500</td>\n",
       "      <td>van</td>\n",
       "      <td>NaN</td>\n",
       "      <td>1gtw7fca7e1902207</td>\n",
       "      <td>pa</td>\n",
       "      <td>4.4</td>\n",
       "      <td>6286.0</td>\n",
       "      <td>white</td>\n",
       "      <td>gray</td>\n",
       "      <td>u-haul</td>\n",
       "      <td>Fri Feb 27 2015 01:00:00 GMT-0800 (PST)</td>\n",
       "      <td>2500</td>\n",
       "      <td>van</td>\n",
       "      <td>automatic</td>\n",
       "      <td>white</td>\n",
       "      <td>gray</td>\n",
       "    </tr>\n",
       "  </tbody>\n",
       "</table>\n",
       "</div>\n",
       "    <div class=\"colab-df-buttons\">\n",
       "\n",
       "  <div class=\"colab-df-container\">\n",
       "    <button class=\"colab-df-convert\" onclick=\"convertToInteractive('df-fcf261af-f938-4bc0-8d00-8a7854ffaddc')\"\n",
       "            title=\"Convert this dataframe to an interactive table.\"\n",
       "            style=\"display:none;\">\n",
       "\n",
       "  <svg xmlns=\"http://www.w3.org/2000/svg\" height=\"24px\" viewBox=\"0 -960 960 960\">\n",
       "    <path d=\"M120-120v-720h720v720H120Zm60-500h600v-160H180v160Zm220 220h160v-160H400v160Zm0 220h160v-160H400v160ZM180-400h160v-160H180v160Zm440 0h160v-160H620v160ZM180-180h160v-160H180v160Zm440 0h160v-160H620v160Z\"/>\n",
       "  </svg>\n",
       "    </button>\n",
       "\n",
       "  <style>\n",
       "    .colab-df-container {\n",
       "      display:flex;\n",
       "      gap: 12px;\n",
       "    }\n",
       "\n",
       "    .colab-df-convert {\n",
       "      background-color: #E8F0FE;\n",
       "      border: none;\n",
       "      border-radius: 50%;\n",
       "      cursor: pointer;\n",
       "      display: none;\n",
       "      fill: #1967D2;\n",
       "      height: 32px;\n",
       "      padding: 0 0 0 0;\n",
       "      width: 32px;\n",
       "    }\n",
       "\n",
       "    .colab-df-convert:hover {\n",
       "      background-color: #E2EBFA;\n",
       "      box-shadow: 0px 1px 2px rgba(60, 64, 67, 0.3), 0px 1px 3px 1px rgba(60, 64, 67, 0.15);\n",
       "      fill: #174EA6;\n",
       "    }\n",
       "\n",
       "    .colab-df-buttons div {\n",
       "      margin-bottom: 4px;\n",
       "    }\n",
       "\n",
       "    [theme=dark] .colab-df-convert {\n",
       "      background-color: #3B4455;\n",
       "      fill: #D2E3FC;\n",
       "    }\n",
       "\n",
       "    [theme=dark] .colab-df-convert:hover {\n",
       "      background-color: #434B5C;\n",
       "      box-shadow: 0px 1px 3px 1px rgba(0, 0, 0, 0.15);\n",
       "      filter: drop-shadow(0px 1px 2px rgba(0, 0, 0, 0.3));\n",
       "      fill: #FFFFFF;\n",
       "    }\n",
       "  </style>\n",
       "\n",
       "    <script>\n",
       "      const buttonEl =\n",
       "        document.querySelector('#df-fcf261af-f938-4bc0-8d00-8a7854ffaddc button.colab-df-convert');\n",
       "      buttonEl.style.display =\n",
       "        google.colab.kernel.accessAllowed ? 'block' : 'none';\n",
       "\n",
       "      async function convertToInteractive(key) {\n",
       "        const element = document.querySelector('#df-fcf261af-f938-4bc0-8d00-8a7854ffaddc');\n",
       "        const dataTable =\n",
       "          await google.colab.kernel.invokeFunction('convertToInteractive',\n",
       "                                                    [key], {});\n",
       "        if (!dataTable) return;\n",
       "\n",
       "        const docLinkHtml = 'Like what you see? Visit the ' +\n",
       "          '<a target=\"_blank\" href=https://colab.research.google.com/notebooks/data_table.ipynb>data table notebook</a>'\n",
       "          + ' to learn more about interactive tables.';\n",
       "        element.innerHTML = '';\n",
       "        dataTable['output_type'] = 'display_data';\n",
       "        await google.colab.output.renderOutput(dataTable, element);\n",
       "        const docLink = document.createElement('div');\n",
       "        docLink.innerHTML = docLinkHtml;\n",
       "        element.appendChild(docLink);\n",
       "      }\n",
       "    </script>\n",
       "  </div>\n",
       "\n",
       "\n",
       "<div id=\"df-dc02b3d8-9870-4f4a-8240-e3fedb2fba29\">\n",
       "  <button class=\"colab-df-quickchart\" onclick=\"quickchart('df-dc02b3d8-9870-4f4a-8240-e3fedb2fba29')\"\n",
       "            title=\"Suggest charts.\"\n",
       "            style=\"display:none;\">\n",
       "\n",
       "<svg xmlns=\"http://www.w3.org/2000/svg\" height=\"24px\"viewBox=\"0 0 24 24\"\n",
       "     width=\"24px\">\n",
       "    <g>\n",
       "        <path d=\"M19 3H5c-1.1 0-2 .9-2 2v14c0 1.1.9 2 2 2h14c1.1 0 2-.9 2-2V5c0-1.1-.9-2-2-2zM9 17H7v-7h2v7zm4 0h-2V7h2v10zm4 0h-2v-4h2v4z\"/>\n",
       "    </g>\n",
       "</svg>\n",
       "  </button>\n",
       "\n",
       "<style>\n",
       "  .colab-df-quickchart {\n",
       "      --bg-color: #E8F0FE;\n",
       "      --fill-color: #1967D2;\n",
       "      --hover-bg-color: #E2EBFA;\n",
       "      --hover-fill-color: #174EA6;\n",
       "      --disabled-fill-color: #AAA;\n",
       "      --disabled-bg-color: #DDD;\n",
       "  }\n",
       "\n",
       "  [theme=dark] .colab-df-quickchart {\n",
       "      --bg-color: #3B4455;\n",
       "      --fill-color: #D2E3FC;\n",
       "      --hover-bg-color: #434B5C;\n",
       "      --hover-fill-color: #FFFFFF;\n",
       "      --disabled-bg-color: #3B4455;\n",
       "      --disabled-fill-color: #666;\n",
       "  }\n",
       "\n",
       "  .colab-df-quickchart {\n",
       "    background-color: var(--bg-color);\n",
       "    border: none;\n",
       "    border-radius: 50%;\n",
       "    cursor: pointer;\n",
       "    display: none;\n",
       "    fill: var(--fill-color);\n",
       "    height: 32px;\n",
       "    padding: 0;\n",
       "    width: 32px;\n",
       "  }\n",
       "\n",
       "  .colab-df-quickchart:hover {\n",
       "    background-color: var(--hover-bg-color);\n",
       "    box-shadow: 0 1px 2px rgba(60, 64, 67, 0.3), 0 1px 3px 1px rgba(60, 64, 67, 0.15);\n",
       "    fill: var(--button-hover-fill-color);\n",
       "  }\n",
       "\n",
       "  .colab-df-quickchart-complete:disabled,\n",
       "  .colab-df-quickchart-complete:disabled:hover {\n",
       "    background-color: var(--disabled-bg-color);\n",
       "    fill: var(--disabled-fill-color);\n",
       "    box-shadow: none;\n",
       "  }\n",
       "\n",
       "  .colab-df-spinner {\n",
       "    border: 2px solid var(--fill-color);\n",
       "    border-color: transparent;\n",
       "    border-bottom-color: var(--fill-color);\n",
       "    animation:\n",
       "      spin 1s steps(1) infinite;\n",
       "  }\n",
       "\n",
       "  @keyframes spin {\n",
       "    0% {\n",
       "      border-color: transparent;\n",
       "      border-bottom-color: var(--fill-color);\n",
       "      border-left-color: var(--fill-color);\n",
       "    }\n",
       "    20% {\n",
       "      border-color: transparent;\n",
       "      border-left-color: var(--fill-color);\n",
       "      border-top-color: var(--fill-color);\n",
       "    }\n",
       "    30% {\n",
       "      border-color: transparent;\n",
       "      border-left-color: var(--fill-color);\n",
       "      border-top-color: var(--fill-color);\n",
       "      border-right-color: var(--fill-color);\n",
       "    }\n",
       "    40% {\n",
       "      border-color: transparent;\n",
       "      border-right-color: var(--fill-color);\n",
       "      border-top-color: var(--fill-color);\n",
       "    }\n",
       "    60% {\n",
       "      border-color: transparent;\n",
       "      border-right-color: var(--fill-color);\n",
       "    }\n",
       "    80% {\n",
       "      border-color: transparent;\n",
       "      border-right-color: var(--fill-color);\n",
       "      border-bottom-color: var(--fill-color);\n",
       "    }\n",
       "    90% {\n",
       "      border-color: transparent;\n",
       "      border-bottom-color: var(--fill-color);\n",
       "    }\n",
       "  }\n",
       "</style>\n",
       "\n",
       "  <script>\n",
       "    async function quickchart(key) {\n",
       "      const quickchartButtonEl =\n",
       "        document.querySelector('#' + key + ' button');\n",
       "      quickchartButtonEl.disabled = true;  // To prevent multiple clicks.\n",
       "      quickchartButtonEl.classList.add('colab-df-spinner');\n",
       "      try {\n",
       "        const charts = await google.colab.kernel.invokeFunction(\n",
       "            'suggestCharts', [key], {});\n",
       "      } catch (error) {\n",
       "        console.error('Error during call to suggestCharts:', error);\n",
       "      }\n",
       "      quickchartButtonEl.classList.remove('colab-df-spinner');\n",
       "      quickchartButtonEl.classList.add('colab-df-quickchart-complete');\n",
       "    }\n",
       "    (() => {\n",
       "      let quickchartButtonEl =\n",
       "        document.querySelector('#df-dc02b3d8-9870-4f4a-8240-e3fedb2fba29 button');\n",
       "      quickchartButtonEl.style.display =\n",
       "        google.colab.kernel.accessAllowed ? 'block' : 'none';\n",
       "    })();\n",
       "  </script>\n",
       "</div>\n",
       "    </div>\n",
       "  </div>\n"
      ],
      "text/plain": [
       "   year      make         model trim_x body_x transmission_x  \\\n",
       "0  2005  cadillac           cts   base  sedan      automatic   \n",
       "1  2014       gmc  savana cargo   2500    van            NaN   \n",
       "\n",
       "                 vin state  condition  odometer color_x interior_x  \\\n",
       "0  1g6dp567450124779    ca        2.7  116970.0  silver      black   \n",
       "1  1gtw7fca7e1902207    pa        4.4    6286.0   white       gray   \n",
       "\n",
       "                   seller                                 saledate trim_y  \\\n",
       "0  lexus of stevens creek  Wed Jan 14 2015 04:30:00 GMT-0800 (PST)   base   \n",
       "1                  u-haul  Fri Feb 27 2015 01:00:00 GMT-0800 (PST)   2500   \n",
       "\n",
       "  body_y transmission_y color_y interior_y  \n",
       "0  sedan      automatic   black       gray  \n",
       "1    van      automatic   white       gray  "
      ]
     },
     "execution_count": 75,
     "metadata": {},
     "output_type": "execute_result"
    }
   ],
   "source": [
    "test_fill.head(2)"
   ]
  },
  {
   "cell_type": "code",
   "execution_count": 76,
   "id": "MOafpkvdJClZ",
   "metadata": {
    "colab": {
     "base_uri": "https://localhost:8080/"
    },
    "executionInfo": {
     "elapsed": 14,
     "status": "ok",
     "timestamp": 1694150561257,
     "user": {
      "displayName": "Андрей Медведев",
      "userId": "02560461935100345008"
     },
     "user_tz": -180
    },
    "id": "MOafpkvdJClZ",
    "outputId": "14043d41-9542-4c67-b569-2d7ad87c21a3"
   },
   "outputs": [
    {
     "data": {
      "text/plain": [
       "Index(['trim', 'body', 'transmission', 'color', 'interior'], dtype='object')"
      ]
     },
     "execution_count": 76,
     "metadata": {},
     "output_type": "execute_result"
    }
   ],
   "source": [
    "col_for_fill = train_grb.columns[-5:]\n",
    "col_for_fill"
   ]
  },
  {
   "cell_type": "code",
   "execution_count": 77,
   "id": "6xqUZIV6JtDU",
   "metadata": {
    "colab": {
     "base_uri": "https://localhost:8080/"
    },
    "executionInfo": {
     "elapsed": 469,
     "status": "ok",
     "timestamp": 1694150561718,
     "user": {
      "displayName": "Андрей Медведев",
      "userId": "02560461935100345008"
     },
     "user_tz": -180
    },
    "id": "6xqUZIV6JtDU",
    "outputId": "ec608606-3302-47b8-eb39-a2570b68a123"
   },
   "outputs": [
    {
     "name": "stderr",
     "output_type": "stream",
     "text": [
      "<ipython-input-77-43c56f176d8a>:4: SettingWithCopyWarning: \n",
      "A value is trying to be set on a copy of a slice from a DataFrame\n",
      "\n",
      "See the caveats in the documentation: https://pandas.pydata.org/pandas-docs/stable/user_guide/indexing.html#returning-a-view-versus-a-copy\n",
      "  train_fill[j+'_x'][train_fill[j+'_x'].isna()] = train_fill[j+'_y']\n",
      "<ipython-input-77-43c56f176d8a>:4: SettingWithCopyWarning: \n",
      "A value is trying to be set on a copy of a slice from a DataFrame\n",
      "\n",
      "See the caveats in the documentation: https://pandas.pydata.org/pandas-docs/stable/user_guide/indexing.html#returning-a-view-versus-a-copy\n",
      "  train_fill[j+'_x'][train_fill[j+'_x'].isna()] = train_fill[j+'_y']\n",
      "<ipython-input-77-43c56f176d8a>:4: SettingWithCopyWarning: \n",
      "A value is trying to be set on a copy of a slice from a DataFrame\n",
      "\n",
      "See the caveats in the documentation: https://pandas.pydata.org/pandas-docs/stable/user_guide/indexing.html#returning-a-view-versus-a-copy\n",
      "  train_fill[j+'_x'][train_fill[j+'_x'].isna()] = train_fill[j+'_y']\n",
      "<ipython-input-77-43c56f176d8a>:4: SettingWithCopyWarning: \n",
      "A value is trying to be set on a copy of a slice from a DataFrame\n",
      "\n",
      "See the caveats in the documentation: https://pandas.pydata.org/pandas-docs/stable/user_guide/indexing.html#returning-a-view-versus-a-copy\n",
      "  train_fill[j+'_x'][train_fill[j+'_x'].isna()] = train_fill[j+'_y']\n",
      "<ipython-input-77-43c56f176d8a>:4: SettingWithCopyWarning: \n",
      "A value is trying to be set on a copy of a slice from a DataFrame\n",
      "\n",
      "See the caveats in the documentation: https://pandas.pydata.org/pandas-docs/stable/user_guide/indexing.html#returning-a-view-versus-a-copy\n",
      "  train_fill[j+'_x'][train_fill[j+'_x'].isna()] = train_fill[j+'_y']\n"
     ]
    }
   ],
   "source": [
    "#окончательная замена пропущенных значений в категориальных колонках\n",
    "#на модовые значений по столбцу (с учетом фирмы, марки и года выпуска)\n",
    "\n",
    "#final replacement of missing values in categorical columns\n",
    "#for modal values by column (taking into account the company, brand and year of manufacture)\n",
    "\n",
    "for j in col_for_fill:\n",
    "    train_fill[j+'_x'][train_fill[j+'_x'].isna()] = train_fill[j+'_y']"
   ]
  },
  {
   "cell_type": "code",
   "execution_count": 78,
   "id": "z78qUA8-JwCb",
   "metadata": {
    "colab": {
     "base_uri": "https://localhost:8080/"
    },
    "executionInfo": {
     "elapsed": 9,
     "status": "ok",
     "timestamp": 1694150561719,
     "user": {
      "displayName": "Андрей Медведев",
      "userId": "02560461935100345008"
     },
     "user_tz": -180
    },
    "id": "z78qUA8-JwCb",
    "outputId": "afe8860a-5c61-4d5e-8fba-5caa6b893043"
   },
   "outputs": [
    {
     "name": "stderr",
     "output_type": "stream",
     "text": [
      "<ipython-input-78-6e3173cf2039>:4: SettingWithCopyWarning: \n",
      "A value is trying to be set on a copy of a slice from a DataFrame\n",
      "\n",
      "See the caveats in the documentation: https://pandas.pydata.org/pandas-docs/stable/user_guide/indexing.html#returning-a-view-versus-a-copy\n",
      "  test_fill[j+'_x'][test_fill[j+'_x'].isna()] = test_fill[j+'_y']\n",
      "<ipython-input-78-6e3173cf2039>:4: SettingWithCopyWarning: \n",
      "A value is trying to be set on a copy of a slice from a DataFrame\n",
      "\n",
      "See the caveats in the documentation: https://pandas.pydata.org/pandas-docs/stable/user_guide/indexing.html#returning-a-view-versus-a-copy\n",
      "  test_fill[j+'_x'][test_fill[j+'_x'].isna()] = test_fill[j+'_y']\n",
      "<ipython-input-78-6e3173cf2039>:4: SettingWithCopyWarning: \n",
      "A value is trying to be set on a copy of a slice from a DataFrame\n",
      "\n",
      "See the caveats in the documentation: https://pandas.pydata.org/pandas-docs/stable/user_guide/indexing.html#returning-a-view-versus-a-copy\n",
      "  test_fill[j+'_x'][test_fill[j+'_x'].isna()] = test_fill[j+'_y']\n",
      "<ipython-input-78-6e3173cf2039>:4: SettingWithCopyWarning: \n",
      "A value is trying to be set on a copy of a slice from a DataFrame\n",
      "\n",
      "See the caveats in the documentation: https://pandas.pydata.org/pandas-docs/stable/user_guide/indexing.html#returning-a-view-versus-a-copy\n",
      "  test_fill[j+'_x'][test_fill[j+'_x'].isna()] = test_fill[j+'_y']\n",
      "<ipython-input-78-6e3173cf2039>:4: SettingWithCopyWarning: \n",
      "A value is trying to be set on a copy of a slice from a DataFrame\n",
      "\n",
      "See the caveats in the documentation: https://pandas.pydata.org/pandas-docs/stable/user_guide/indexing.html#returning-a-view-versus-a-copy\n",
      "  test_fill[j+'_x'][test_fill[j+'_x'].isna()] = test_fill[j+'_y']\n"
     ]
    }
   ],
   "source": [
    "#как и предудущий шаг, только для теста\n",
    "#for test\n",
    "\n",
    "for j in col_for_fill:\n",
    "    test_fill[j+'_x'][test_fill[j+'_x'].isna()] = test_fill[j+'_y']"
   ]
  },
  {
   "cell_type": "code",
   "execution_count": 79,
   "id": "wHAP6u2UJtL3",
   "metadata": {
    "colab": {
     "base_uri": "https://localhost:8080/"
    },
    "executionInfo": {
     "elapsed": 2102,
     "status": "ok",
     "timestamp": 1694150563818,
     "user": {
      "displayName": "Андрей Медведев",
      "userId": "02560461935100345008"
     },
     "user_tz": -180
    },
    "id": "wHAP6u2UJtL3",
    "outputId": "fda9186c-20bd-4023-b876-140911273147"
   },
   "outputs": [
    {
     "data": {
      "text/plain": [
       "year                 0\n",
       "make                 0\n",
       "model                0\n",
       "trim_x               0\n",
       "body_x               0\n",
       "transmission_x       0\n",
       "vin                  0\n",
       "state                0\n",
       "condition         9339\n",
       "odometer            67\n",
       "color_x              0\n",
       "interior_x           0\n",
       "seller               0\n",
       "sellingprice         0\n",
       "saledate             0\n",
       "trim_y               0\n",
       "body_y               0\n",
       "transmission_y       0\n",
       "color_y              0\n",
       "interior_y           0\n",
       "dtype: int64"
      ]
     },
     "execution_count": 79,
     "metadata": {},
     "output_type": "execute_result"
    }
   ],
   "source": [
    "train_fill.isna().sum()"
   ]
  },
  {
   "cell_type": "code",
   "execution_count": 80,
   "id": "v4vK55FOJ_PO",
   "metadata": {
    "colab": {
     "base_uri": "https://localhost:8080/"
    },
    "executionInfo": {
     "elapsed": 569,
     "status": "ok",
     "timestamp": 1694150564381,
     "user": {
      "displayName": "Андрей Медведев",
      "userId": "02560461935100345008"
     },
     "user_tz": -180
    },
    "id": "v4vK55FOJ_PO",
    "outputId": "31320fec-803d-4cd5-baee-27cec1c54cd2"
   },
   "outputs": [
    {
     "data": {
      "text/plain": [
       "year                 0\n",
       "make                 0\n",
       "model                0\n",
       "trim_x             487\n",
       "body_x             508\n",
       "transmission_x      84\n",
       "vin                  0\n",
       "state                0\n",
       "condition         2379\n",
       "odometer            19\n",
       "color_x              2\n",
       "interior_x           2\n",
       "seller               0\n",
       "saledate             0\n",
       "trim_y             596\n",
       "body_y             596\n",
       "transmission_y     596\n",
       "color_y            596\n",
       "interior_y         596\n",
       "dtype: int64"
      ]
     },
     "execution_count": 80,
     "metadata": {},
     "output_type": "execute_result"
    }
   ],
   "source": [
    "test_fill.isna().sum()"
   ]
  },
  {
   "cell_type": "code",
   "execution_count": 81,
   "id": "HZOrzfUsLHCq",
   "metadata": {
    "colab": {
     "base_uri": "https://localhost:8080/"
    },
    "executionInfo": {
     "elapsed": 33,
     "status": "ok",
     "timestamp": 1694150564381,
     "user": {
      "displayName": "Андрей Медведев",
      "userId": "02560461935100345008"
     },
     "user_tz": -180
    },
    "id": "HZOrzfUsLHCq",
    "outputId": "14474656-f273-40f0-e0a1-6cf57a87f552"
   },
   "outputs": [
    {
     "data": {
      "text/plain": [
       "sedan        0.446426\n",
       "suv          0.261324\n",
       "hatchback    0.047157\n",
       "minivan      0.047001\n",
       "coupe        0.032122\n",
       "Name: body_x, dtype: float64"
      ]
     },
     "execution_count": 81,
     "metadata": {},
     "output_type": "execute_result"
    }
   ],
   "source": [
    "#поиск самомого распростанённого типа кузова\n",
    "#search for the most common body type\n",
    "test_fill.body_x.value_counts(normalize=True)[:5]"
   ]
  },
  {
   "cell_type": "code",
   "execution_count": 82,
   "id": "kFidsRuiLHGB",
   "metadata": {
    "executionInfo": {
     "elapsed": 24,
     "status": "ok",
     "timestamp": 1694150564381,
     "user": {
      "displayName": "Андрей Медведев",
      "userId": "02560461935100345008"
     },
     "user_tz": -180
    },
    "id": "kFidsRuiLHGB"
   },
   "outputs": [],
   "source": [
    "#замена на самый распростанённый тип кузова \"седан\"\n",
    "#replacement with the most common body type \"sedan\"\n",
    "test_fill['body_x'] = test_fill['body_x'].fillna('sedan')"
   ]
  },
  {
   "cell_type": "code",
   "execution_count": 83,
   "id": "9-UxIYD9LHJj",
   "metadata": {
    "colab": {
     "base_uri": "https://localhost:8080/"
    },
    "executionInfo": {
     "elapsed": 24,
     "status": "ok",
     "timestamp": 1694150564381,
     "user": {
      "displayName": "Андрей Медведев",
      "userId": "02560461935100345008"
     },
     "user_tz": -180
    },
    "id": "9-UxIYD9LHJj",
    "outputId": "a8bc1773-4fa9-4970-de1a-d19762a9798e"
   },
   "outputs": [
    {
     "data": {
      "text/plain": [
       "base       0.101614\n",
       "se         0.080003\n",
       "lx         0.037775\n",
       "limited    0.032363\n",
       "xlt        0.030857\n",
       "Name: trim_x, dtype: float64"
      ]
     },
     "execution_count": 83,
     "metadata": {},
     "output_type": "execute_result"
    }
   ],
   "source": [
    "#поиск самомого распростанёной отделки салона\n",
    "test_fill.trim_x.value_counts(normalize=True)[:5]"
   ]
  },
  {
   "cell_type": "code",
   "execution_count": 84,
   "id": "QOQJLEm5Mhfc",
   "metadata": {
    "executionInfo": {
     "elapsed": 20,
     "status": "ok",
     "timestamp": 1694150564382,
     "user": {
      "displayName": "Андрей Медведев",
      "userId": "02560461935100345008"
     },
     "user_tz": -180
    },
    "id": "QOQJLEm5Mhfc"
   },
   "outputs": [],
   "source": [
    "#замена на самый распростанённый тип отделки \"base\"\n",
    "test_fill['trim_x'] = test_fill['trim_x'].fillna('base')"
   ]
  },
  {
   "cell_type": "code",
   "execution_count": 85,
   "id": "u2SZs1lBMhiU",
   "metadata": {
    "colab": {
     "base_uri": "https://localhost:8080/"
    },
    "executionInfo": {
     "elapsed": 20,
     "status": "ok",
     "timestamp": 1694150564382,
     "user": {
      "displayName": "Андрей Медведев",
      "userId": "02560461935100345008"
     },
     "user_tz": -180
    },
    "id": "u2SZs1lBMhiU",
    "outputId": "f168cda0-9a30-4827-b828-e210d5960105"
   },
   "outputs": [
    {
     "data": {
      "text/plain": [
       "automatic    0.968138\n",
       "manual       0.031862\n",
       "Name: transmission_x, dtype: float64"
      ]
     },
     "execution_count": 85,
     "metadata": {},
     "output_type": "execute_result"
    }
   ],
   "source": [
    "#поиск самомого распростанёной кпп\n",
    "test_fill.transmission_x.value_counts(normalize=True)[:5]"
   ]
  },
  {
   "cell_type": "code",
   "execution_count": 86,
   "id": "MTmVx9AyMhmZ",
   "metadata": {
    "colab": {
     "base_uri": "https://localhost:8080/"
    },
    "executionInfo": {
     "elapsed": 442,
     "status": "ok",
     "timestamp": 1694150564812,
     "user": {
      "displayName": "Андрей Медведев",
      "userId": "02560461935100345008"
     },
     "user_tz": -180
    },
    "id": "MTmVx9AyMhmZ",
    "outputId": "d275afc0-f4cf-45c7-c73e-ad8fbc989ba0"
   },
   "outputs": [
    {
     "data": {
      "text/plain": [
       "automatic    0.968899\n",
       "manual       0.031101\n",
       "Name: transmission_x, dtype: float64"
      ]
     },
     "execution_count": 86,
     "metadata": {},
     "output_type": "execute_result"
    }
   ],
   "source": [
    "#сравнение с тренировочной выборкой по кпп\n",
    "train_fill.transmission_x.value_counts(normalize=True)[:5]"
   ]
  },
  {
   "cell_type": "code",
   "execution_count": 87,
   "id": "U0S01xTJMhpD",
   "metadata": {
    "executionInfo": {
     "elapsed": 50,
     "status": "ok",
     "timestamp": 1694150564813,
     "user": {
      "displayName": "Андрей Медведев",
      "userId": "02560461935100345008"
     },
     "user_tz": -180
    },
    "id": "U0S01xTJMhpD"
   },
   "outputs": [],
   "source": [
    "#замена на самый распростанённую КПП\n",
    "test_fill['transmission_x'] = test_fill['transmission_x'].fillna('automatic')"
   ]
  },
  {
   "cell_type": "code",
   "execution_count": 88,
   "id": "a5xn30yLNY-R",
   "metadata": {
    "colab": {
     "base_uri": "https://localhost:8080/",
     "height": 1000
    },
    "executionInfo": {
     "elapsed": 460,
     "status": "ok",
     "timestamp": 1694150565224,
     "user": {
      "displayName": "Андрей Медведев",
      "userId": "02560461935100345008"
     },
     "user_tz": -180
    },
    "id": "a5xn30yLNY-R",
    "outputId": "579a4536-eab6-4f5d-dcba-25e7bc312194"
   },
   "outputs": [
    {
     "name": "stderr",
     "output_type": "stream",
     "text": [
      "DEBUG:matplotlib.font_manager:findfont: Matching sans\\-serif:style=normal:variant=normal:weight=normal:stretch=normal:size=10.0.\n",
      "DEBUG:matplotlib.font_manager:findfont: score(FontEntry(fname='/usr/local/lib/python3.10/dist-packages/matplotlib/mpl-data/fonts/ttf/STIXSizOneSymReg.ttf', name='STIXSizeOneSym', style='normal', variant='normal', weight=400, stretch='normal', size='scalable')) = 10.05\n",
      "DEBUG:matplotlib.font_manager:findfont: score(FontEntry(fname='/usr/local/lib/python3.10/dist-packages/matplotlib/mpl-data/fonts/ttf/cmr10.ttf', name='cmr10', style='normal', variant='normal', weight=400, stretch='normal', size='scalable')) = 10.05\n",
      "DEBUG:matplotlib.font_manager:findfont: score(FontEntry(fname='/usr/local/lib/python3.10/dist-packages/matplotlib/mpl-data/fonts/ttf/cmmi10.ttf', name='cmmi10', style='normal', variant='normal', weight=400, stretch='normal', size='scalable')) = 10.05\n",
      "DEBUG:matplotlib.font_manager:findfont: score(FontEntry(fname='/usr/local/lib/python3.10/dist-packages/matplotlib/mpl-data/fonts/ttf/cmsy10.ttf', name='cmsy10', style='normal', variant='normal', weight=400, stretch='normal', size='scalable')) = 10.05\n",
      "DEBUG:matplotlib.font_manager:findfont: score(FontEntry(fname='/usr/local/lib/python3.10/dist-packages/matplotlib/mpl-data/fonts/ttf/DejaVuSansMono.ttf', name='DejaVu Sans Mono', style='normal', variant='normal', weight=400, stretch='normal', size='scalable')) = 10.05\n",
      "DEBUG:matplotlib.font_manager:findfont: score(FontEntry(fname='/usr/local/lib/python3.10/dist-packages/matplotlib/mpl-data/fonts/ttf/STIXGeneralBol.ttf', name='STIXGeneral', style='normal', variant='normal', weight=700, stretch='normal', size='scalable')) = 10.335\n",
      "DEBUG:matplotlib.font_manager:findfont: score(FontEntry(fname='/usr/local/lib/python3.10/dist-packages/matplotlib/mpl-data/fonts/ttf/cmb10.ttf', name='cmb10', style='normal', variant='normal', weight=400, stretch='normal', size='scalable')) = 10.05\n",
      "DEBUG:matplotlib.font_manager:findfont: score(FontEntry(fname='/usr/local/lib/python3.10/dist-packages/matplotlib/mpl-data/fonts/ttf/STIXSizThreeSymBol.ttf', name='STIXSizeThreeSym', style='normal', variant='normal', weight=700, stretch='normal', size='scalable')) = 10.335\n",
      "DEBUG:matplotlib.font_manager:findfont: score(FontEntry(fname='/usr/local/lib/python3.10/dist-packages/matplotlib/mpl-data/fonts/ttf/DejaVuSans-Bold.ttf', name='DejaVu Sans', style='normal', variant='normal', weight=700, stretch='normal', size='scalable')) = 0.33499999999999996\n",
      "DEBUG:matplotlib.font_manager:findfont: score(FontEntry(fname='/usr/local/lib/python3.10/dist-packages/matplotlib/mpl-data/fonts/ttf/STIXSizThreeSymReg.ttf', name='STIXSizeThreeSym', style='normal', variant='normal', weight=400, stretch='normal', size='scalable')) = 10.05\n",
      "DEBUG:matplotlib.font_manager:findfont: score(FontEntry(fname='/usr/local/lib/python3.10/dist-packages/matplotlib/mpl-data/fonts/ttf/DejaVuSerif-Bold.ttf', name='DejaVu Serif', style='normal', variant='normal', weight=700, stretch='normal', size='scalable')) = 10.335\n",
      "DEBUG:matplotlib.font_manager:findfont: score(FontEntry(fname='/usr/local/lib/python3.10/dist-packages/matplotlib/mpl-data/fonts/ttf/DejaVuSerif-Italic.ttf', name='DejaVu Serif', style='italic', variant='normal', weight=400, stretch='normal', size='scalable')) = 11.05\n",
      "DEBUG:matplotlib.font_manager:findfont: score(FontEntry(fname='/usr/local/lib/python3.10/dist-packages/matplotlib/mpl-data/fonts/ttf/STIXSizFiveSymReg.ttf', name='STIXSizeFiveSym', style='normal', variant='normal', weight=400, stretch='normal', size='scalable')) = 10.05\n",
      "DEBUG:matplotlib.font_manager:findfont: score(FontEntry(fname='/usr/local/lib/python3.10/dist-packages/matplotlib/mpl-data/fonts/ttf/STIXSizTwoSymBol.ttf', name='STIXSizeTwoSym', style='normal', variant='normal', weight=700, stretch='normal', size='scalable')) = 10.335\n",
      "DEBUG:matplotlib.font_manager:findfont: score(FontEntry(fname='/usr/local/lib/python3.10/dist-packages/matplotlib/mpl-data/fonts/ttf/DejaVuSansMono-BoldOblique.ttf', name='DejaVu Sans Mono', style='oblique', variant='normal', weight=700, stretch='normal', size='scalable')) = 11.335\n",
      "DEBUG:matplotlib.font_manager:findfont: score(FontEntry(fname='/usr/local/lib/python3.10/dist-packages/matplotlib/mpl-data/fonts/ttf/cmex10.ttf', name='cmex10', style='normal', variant='normal', weight=400, stretch='normal', size='scalable')) = 10.05\n",
      "DEBUG:matplotlib.font_manager:findfont: score(FontEntry(fname='/usr/local/lib/python3.10/dist-packages/matplotlib/mpl-data/fonts/ttf/DejaVuSerif-BoldItalic.ttf', name='DejaVu Serif', style='italic', variant='normal', weight=700, stretch='normal', size='scalable')) = 11.335\n",
      "DEBUG:matplotlib.font_manager:findfont: score(FontEntry(fname='/usr/local/lib/python3.10/dist-packages/matplotlib/mpl-data/fonts/ttf/DejaVuSans-Oblique.ttf', name='DejaVu Sans', style='oblique', variant='normal', weight=400, stretch='normal', size='scalable')) = 1.05\n",
      "DEBUG:matplotlib.font_manager:findfont: score(FontEntry(fname='/usr/local/lib/python3.10/dist-packages/matplotlib/mpl-data/fonts/ttf/STIXGeneralItalic.ttf', name='STIXGeneral', style='italic', variant='normal', weight=400, stretch='normal', size='scalable')) = 11.05\n",
      "DEBUG:matplotlib.font_manager:findfont: score(FontEntry(fname='/usr/local/lib/python3.10/dist-packages/matplotlib/mpl-data/fonts/ttf/DejaVuSansMono-Oblique.ttf', name='DejaVu Sans Mono', style='oblique', variant='normal', weight=400, stretch='normal', size='scalable')) = 11.05\n",
      "DEBUG:matplotlib.font_manager:findfont: score(FontEntry(fname='/usr/local/lib/python3.10/dist-packages/matplotlib/mpl-data/fonts/ttf/STIXSizOneSymBol.ttf', name='STIXSizeOneSym', style='normal', variant='normal', weight=700, stretch='normal', size='scalable')) = 10.335\n",
      "DEBUG:matplotlib.font_manager:findfont: score(FontEntry(fname='/usr/local/lib/python3.10/dist-packages/matplotlib/mpl-data/fonts/ttf/DejaVuSans.ttf', name='DejaVu Sans', style='normal', variant='normal', weight=400, stretch='normal', size='scalable')) = 0.05\n",
      "DEBUG:matplotlib.font_manager:findfont: score(FontEntry(fname='/usr/local/lib/python3.10/dist-packages/matplotlib/mpl-data/fonts/ttf/DejaVuSans-BoldOblique.ttf', name='DejaVu Sans', style='oblique', variant='normal', weight=700, stretch='normal', size='scalable')) = 1.335\n",
      "DEBUG:matplotlib.font_manager:findfont: score(FontEntry(fname='/usr/local/lib/python3.10/dist-packages/matplotlib/mpl-data/fonts/ttf/STIXGeneralBolIta.ttf', name='STIXGeneral', style='italic', variant='normal', weight=700, stretch='normal', size='scalable')) = 11.335\n",
      "DEBUG:matplotlib.font_manager:findfont: score(FontEntry(fname='/usr/local/lib/python3.10/dist-packages/matplotlib/mpl-data/fonts/ttf/cmtt10.ttf', name='cmtt10', style='normal', variant='normal', weight=400, stretch='normal', size='scalable')) = 10.05\n",
      "DEBUG:matplotlib.font_manager:findfont: score(FontEntry(fname='/usr/local/lib/python3.10/dist-packages/matplotlib/mpl-data/fonts/ttf/STIXSizTwoSymReg.ttf', name='STIXSizeTwoSym', style='normal', variant='normal', weight=400, stretch='normal', size='scalable')) = 10.05\n",
      "DEBUG:matplotlib.font_manager:findfont: score(FontEntry(fname='/usr/local/lib/python3.10/dist-packages/matplotlib/mpl-data/fonts/ttf/STIXNonUni.ttf', name='STIXNonUnicode', style='normal', variant='normal', weight=400, stretch='normal', size='scalable')) = 10.05\n",
      "DEBUG:matplotlib.font_manager:findfont: score(FontEntry(fname='/usr/local/lib/python3.10/dist-packages/matplotlib/mpl-data/fonts/ttf/STIXGeneral.ttf', name='STIXGeneral', style='normal', variant='normal', weight=400, stretch='normal', size='scalable')) = 10.05\n",
      "DEBUG:matplotlib.font_manager:findfont: score(FontEntry(fname='/usr/local/lib/python3.10/dist-packages/matplotlib/mpl-data/fonts/ttf/STIXSizFourSymReg.ttf', name='STIXSizeFourSym', style='normal', variant='normal', weight=400, stretch='normal', size='scalable')) = 10.05\n",
      "DEBUG:matplotlib.font_manager:findfont: score(FontEntry(fname='/usr/local/lib/python3.10/dist-packages/matplotlib/mpl-data/fonts/ttf/DejaVuSansDisplay.ttf', name='DejaVu Sans Display', style='normal', variant='normal', weight=400, stretch='normal', size='scalable')) = 10.05\n",
      "DEBUG:matplotlib.font_manager:findfont: score(FontEntry(fname='/usr/local/lib/python3.10/dist-packages/matplotlib/mpl-data/fonts/ttf/STIXNonUniBolIta.ttf', name='STIXNonUnicode', style='italic', variant='normal', weight=700, stretch='normal', size='scalable')) = 11.335\n",
      "DEBUG:matplotlib.font_manager:findfont: score(FontEntry(fname='/usr/local/lib/python3.10/dist-packages/matplotlib/mpl-data/fonts/ttf/STIXNonUniBol.ttf', name='STIXNonUnicode', style='normal', variant='normal', weight=700, stretch='normal', size='scalable')) = 10.335\n",
      "DEBUG:matplotlib.font_manager:findfont: score(FontEntry(fname='/usr/local/lib/python3.10/dist-packages/matplotlib/mpl-data/fonts/ttf/DejaVuSansMono-Bold.ttf', name='DejaVu Sans Mono', style='normal', variant='normal', weight=700, stretch='normal', size='scalable')) = 10.335\n",
      "DEBUG:matplotlib.font_manager:findfont: score(FontEntry(fname='/usr/local/lib/python3.10/dist-packages/matplotlib/mpl-data/fonts/ttf/STIXSizFourSymBol.ttf', name='STIXSizeFourSym', style='normal', variant='normal', weight=700, stretch='normal', size='scalable')) = 10.335\n",
      "DEBUG:matplotlib.font_manager:findfont: score(FontEntry(fname='/usr/local/lib/python3.10/dist-packages/matplotlib/mpl-data/fonts/ttf/DejaVuSerif.ttf', name='DejaVu Serif', style='normal', variant='normal', weight=400, stretch='normal', size='scalable')) = 10.05\n",
      "DEBUG:matplotlib.font_manager:findfont: score(FontEntry(fname='/usr/local/lib/python3.10/dist-packages/matplotlib/mpl-data/fonts/ttf/cmss10.ttf', name='cmss10', style='normal', variant='normal', weight=400, stretch='normal', size='scalable')) = 10.05\n",
      "DEBUG:matplotlib.font_manager:findfont: score(FontEntry(fname='/usr/local/lib/python3.10/dist-packages/matplotlib/mpl-data/fonts/ttf/STIXNonUniIta.ttf', name='STIXNonUnicode', style='italic', variant='normal', weight=400, stretch='normal', size='scalable')) = 11.05\n",
      "DEBUG:matplotlib.font_manager:findfont: score(FontEntry(fname='/usr/local/lib/python3.10/dist-packages/matplotlib/mpl-data/fonts/ttf/DejaVuSerifDisplay.ttf', name='DejaVu Serif Display', style='normal', variant='normal', weight=400, stretch='normal', size='scalable')) = 10.05\n",
      "DEBUG:matplotlib.font_manager:findfont: score(FontEntry(fname='/usr/share/fonts/truetype/liberation/LiberationSans-Italic.ttf', name='Liberation Sans', style='italic', variant='normal', weight=400, stretch='normal', size='scalable')) = 11.05\n",
      "DEBUG:matplotlib.font_manager:findfont: score(FontEntry(fname='/usr/share/fonts/truetype/liberation/LiberationSansNarrow-BoldItalic.ttf', name='Liberation Sans Narrow', style='italic', variant='normal', weight=700, stretch='condensed', size='scalable')) = 11.535\n",
      "DEBUG:matplotlib.font_manager:findfont: score(FontEntry(fname='/usr/share/fonts/truetype/liberation/LiberationSansNarrow-Italic.ttf', name='Liberation Sans Narrow', style='italic', variant='normal', weight=400, stretch='condensed', size='scalable')) = 11.25\n",
      "DEBUG:matplotlib.font_manager:findfont: score(FontEntry(fname='/usr/share/fonts/truetype/liberation/LiberationSans-Regular.ttf', name='Liberation Sans', style='normal', variant='normal', weight=400, stretch='normal', size='scalable')) = 10.05\n",
      "DEBUG:matplotlib.font_manager:findfont: score(FontEntry(fname='/usr/share/fonts/truetype/liberation/LiberationSerif-Italic.ttf', name='Liberation Serif', style='italic', variant='normal', weight=400, stretch='normal', size='scalable')) = 11.05\n",
      "DEBUG:matplotlib.font_manager:findfont: score(FontEntry(fname='/usr/share/fonts/truetype/liberation/LiberationSans-BoldItalic.ttf', name='Liberation Sans', style='italic', variant='normal', weight=700, stretch='normal', size='scalable')) = 11.335\n",
      "DEBUG:matplotlib.font_manager:findfont: score(FontEntry(fname='/usr/share/fonts/truetype/liberation/LiberationMono-Regular.ttf', name='Liberation Mono', style='normal', variant='normal', weight=400, stretch='normal', size='scalable')) = 10.05\n",
      "DEBUG:matplotlib.font_manager:findfont: score(FontEntry(fname='/usr/share/fonts/truetype/liberation/LiberationSans-Bold.ttf', name='Liberation Sans', style='normal', variant='normal', weight=700, stretch='normal', size='scalable')) = 10.335\n",
      "DEBUG:matplotlib.font_manager:findfont: score(FontEntry(fname='/usr/share/fonts/truetype/liberation/LiberationSerif-Regular.ttf', name='Liberation Serif', style='normal', variant='normal', weight=400, stretch='normal', size='scalable')) = 10.05\n",
      "DEBUG:matplotlib.font_manager:findfont: score(FontEntry(fname='/usr/share/fonts/truetype/liberation/LiberationMono-BoldItalic.ttf', name='Liberation Mono', style='italic', variant='normal', weight=700, stretch='normal', size='scalable')) = 11.335\n",
      "DEBUG:matplotlib.font_manager:findfont: score(FontEntry(fname='/usr/share/fonts/truetype/liberation/LiberationSerif-BoldItalic.ttf', name='Liberation Serif', style='italic', variant='normal', weight=700, stretch='normal', size='scalable')) = 11.335\n",
      "DEBUG:matplotlib.font_manager:findfont: score(FontEntry(fname='/usr/share/fonts/truetype/humor-sans/Humor-Sans.ttf', name='Humor Sans', style='normal', variant='normal', weight=400, stretch='normal', size='scalable')) = 10.05\n",
      "DEBUG:matplotlib.font_manager:findfont: score(FontEntry(fname='/usr/share/fonts/truetype/liberation/LiberationMono-Italic.ttf', name='Liberation Mono', style='italic', variant='normal', weight=400, stretch='normal', size='scalable')) = 11.05\n",
      "DEBUG:matplotlib.font_manager:findfont: score(FontEntry(fname='/usr/share/fonts/truetype/liberation/LiberationSansNarrow-Bold.ttf', name='Liberation Sans Narrow', style='normal', variant='normal', weight=700, stretch='condensed', size='scalable')) = 10.535\n",
      "DEBUG:matplotlib.font_manager:findfont: score(FontEntry(fname='/usr/share/fonts/truetype/liberation/LiberationSerif-Bold.ttf', name='Liberation Serif', style='normal', variant='normal', weight=700, stretch='normal', size='scalable')) = 10.335\n",
      "DEBUG:matplotlib.font_manager:findfont: score(FontEntry(fname='/usr/share/fonts/truetype/liberation/LiberationMono-Bold.ttf', name='Liberation Mono', style='normal', variant='normal', weight=700, stretch='normal', size='scalable')) = 10.335\n",
      "DEBUG:matplotlib.font_manager:findfont: score(FontEntry(fname='/usr/share/fonts/truetype/liberation/LiberationSansNarrow-Regular.ttf', name='Liberation Sans Narrow', style='normal', variant='normal', weight=400, stretch='condensed', size='scalable')) = 10.25\n",
      "DEBUG:matplotlib.font_manager:findfont: Matching sans\\-serif:style=normal:variant=normal:weight=normal:stretch=normal:size=10.0 to DejaVu Sans ('/usr/local/lib/python3.10/dist-packages/matplotlib/mpl-data/fonts/ttf/DejaVuSans.ttf') with score of 0.050000.\n"
     ]
    },
    {
     "data": {
      "image/png": "[encoded data removed]",
      "text/plain": [
       "<Figure size 640x480 with 1 Axes>"
      ]
     },
     "metadata": {},
     "output_type": "display_data"
    }
   ],
   "source": [
    "test_fill.query('odometer < 0.4e6')['odometer'].hist(bins=40);"
   ]
  },
  {
   "cell_type": "code",
   "execution_count": 89,
   "id": "xSYLMnhPNZBc",
   "metadata": {
    "executionInfo": {
     "elapsed": 4,
     "status": "ok",
     "timestamp": 1694150565224,
     "user": {
      "displayName": "Андрей Медведев",
      "userId": "02560461935100345008"
     },
     "user_tz": -180
    },
    "id": "xSYLMnhPNZBc"
   },
   "outputs": [],
   "source": [
    "#пропусков по одометру весьма мало, около 0,02%\n",
    "#замена пропусков по одометру на медиану (хоть это идеологически не верно)\n",
    "test_fill['odometer'] = test_fill['odometer'].fillna(test_fill['odometer'].median())"
   ]
  },
  {
   "cell_type": "code",
   "execution_count": 90,
   "id": "icFGPI_PPmpW",
   "metadata": {
    "colab": {
     "base_uri": "https://localhost:8080/"
    },
    "executionInfo": {
     "elapsed": 470,
     "status": "ok",
     "timestamp": 1694150565691,
     "user": {
      "displayName": "Андрей Медведев",
      "userId": "02560461935100345008"
     },
     "user_tz": -180
    },
    "id": "icFGPI_PPmpW",
    "outputId": "eb593c30-e1e0-46b2-a830-6aefdca0c329"
   },
   "outputs": [
    {
     "data": {
      "text/plain": [
       "black     0.198851\n",
       "white     0.190649\n",
       "gray      0.149350\n",
       "silver    0.149334\n",
       "blue      0.091208\n",
       "Name: color_x, dtype: float64"
      ]
     },
     "execution_count": 90,
     "metadata": {},
     "output_type": "execute_result"
    }
   ],
   "source": [
    "#самый ходовой цвет\n",
    "train_fill.color_x.value_counts(normalize=True)[:5]"
   ]
  },
  {
   "cell_type": "code",
   "execution_count": 91,
   "id": "VDQFPmUZPmuL",
   "metadata": {
    "executionInfo": {
     "elapsed": 10,
     "status": "ok",
     "timestamp": 1694150565691,
     "user": {
      "displayName": "Андрей Медведев",
      "userId": "02560461935100345008"
     },
     "user_tz": -180
    },
    "id": "VDQFPmUZPmuL"
   },
   "outputs": [],
   "source": [
    "#замена\n",
    "test_fill['color_x'] = test_fill['color_x'].fillna('black')"
   ]
  },
  {
   "cell_type": "code",
   "execution_count": 92,
   "id": "15HLQ50uPm2g",
   "metadata": {
    "colab": {
     "base_uri": "https://localhost:8080/"
    },
    "executionInfo": {
     "elapsed": 10,
     "status": "ok",
     "timestamp": 1694150565691,
     "user": {
      "displayName": "Андрей Медведев",
      "userId": "02560461935100345008"
     },
     "user_tz": -180
    },
    "id": "15HLQ50uPm2g",
    "outputId": "35fc2a1f-32cf-421d-d4d4-26cc50a9cc3a"
   },
   "outputs": [
    {
     "data": {
      "text/plain": [
       "black    0.440153\n",
       "gray     0.318900\n",
       "beige    0.106396\n",
       "tan      0.078567\n",
       "—        0.030670\n",
       "Name: interior_x, dtype: float64"
      ]
     },
     "execution_count": 92,
     "metadata": {},
     "output_type": "execute_result"
    }
   ],
   "source": [
    "#самый ходовой interior\n",
    "train_fill.interior_x.value_counts(normalize=True)[:5]"
   ]
  },
  {
   "cell_type": "code",
   "execution_count": 93,
   "id": "3qxc27arP8ln",
   "metadata": {
    "executionInfo": {
     "elapsed": 2,
     "status": "ok",
     "timestamp": 1694150565691,
     "user": {
      "displayName": "Андрей Медведев",
      "userId": "02560461935100345008"
     },
     "user_tz": -180
    },
    "id": "3qxc27arP8ln"
   },
   "outputs": [],
   "source": [
    "#замена\n",
    "test_fill['interior_x'] = test_fill['interior_x'].fillna('black')"
   ]
  },
  {
   "cell_type": "code",
   "execution_count": 94,
   "id": "sobTbQHGMhsa",
   "metadata": {
    "colab": {
     "base_uri": "https://localhost:8080/"
    },
    "executionInfo": {
     "elapsed": 803,
     "status": "ok",
     "timestamp": 1694150566492,
     "user": {
      "displayName": "Андрей Медведев",
      "userId": "02560461935100345008"
     },
     "user_tz": -180
    },
    "id": "sobTbQHGMhsa",
    "outputId": "484a2ee0-3341-421f-c020-8bdc61935f21"
   },
   "outputs": [
    {
     "data": {
      "text/plain": [
       "year                 0\n",
       "make                 0\n",
       "model                0\n",
       "trim_x               0\n",
       "body_x               0\n",
       "transmission_x       0\n",
       "vin                  0\n",
       "state                0\n",
       "condition         2379\n",
       "odometer             0\n",
       "color_x              0\n",
       "interior_x           0\n",
       "seller               0\n",
       "saledate             0\n",
       "trim_y             596\n",
       "body_y             596\n",
       "transmission_y     596\n",
       "color_y            596\n",
       "interior_y         596\n",
       "dtype: int64"
      ]
     },
     "execution_count": 94,
     "metadata": {},
     "output_type": "execute_result"
    }
   ],
   "source": [
    "#проверка результатов\n",
    "test_fill.isna().sum()"
   ]
  },
  {
   "cell_type": "code",
   "execution_count": 94,
   "id": "lD3JLsRdMhya",
   "metadata": {
    "executionInfo": {
     "elapsed": 7,
     "status": "ok",
     "timestamp": 1694150566494,
     "user": {
      "displayName": "Андрей Медведев",
      "userId": "02560461935100345008"
     },
     "user_tz": -180
    },
    "id": "lD3JLsRdMhya"
   },
   "outputs": [],
   "source": []
  },
  {
   "cell_type": "code",
   "execution_count": 95,
   "id": "UzCuKkn-0XK5",
   "metadata": {
    "executionInfo": {
     "elapsed": 346,
     "status": "ok",
     "timestamp": 1694150566834,
     "user": {
      "displayName": "Андрей Медведев",
      "userId": "02560461935100345008"
     },
     "user_tz": -180
    },
    "id": "UzCuKkn-0XK5"
   },
   "outputs": [],
   "source": [
    "#удаление 67 строк с авто у которых нет показаний одометра (только для трейна)\n",
    "#removing 67 rows from cars that do not have odometer readings (only for train)\n",
    "\n",
    "train_fill = train_fill.loc[~train_fill['odometer'].isna()]"
   ]
  },
  {
   "cell_type": "code",
   "execution_count": 96,
   "id": "bYRSLs8AJtTq",
   "metadata": {
    "colab": {
     "base_uri": "https://localhost:8080/"
    },
    "executionInfo": {
     "elapsed": 5,
     "status": "ok",
     "timestamp": 1694150566834,
     "user": {
      "displayName": "Андрей Медведев",
      "userId": "02560461935100345008"
     },
     "user_tz": -180
    },
    "id": "bYRSLs8AJtTq",
    "outputId": "433b1f26-949b-4ecd-8765-fa90c213f218"
   },
   "outputs": [
    {
     "data": {
      "text/plain": [
       "array(['automatic', 'manual'], dtype=object)"
      ]
     },
     "execution_count": 96,
     "metadata": {},
     "output_type": "execute_result"
    }
   ],
   "source": [
    "train_fill.transmission_x.unique()"
   ]
  },
  {
   "cell_type": "code",
   "execution_count": 98,
   "id": "EuE-_svlMw1l",
   "metadata": {
    "colab": {
     "base_uri": "https://localhost:8080/"
    },
    "executionInfo": {
     "elapsed": 1279,
     "status": "ok",
     "timestamp": 1694150568112,
     "user": {
      "displayName": "Андрей Медведев",
      "userId": "02560461935100345008"
     },
     "user_tz": -180
    },
    "id": "EuE-_svlMw1l",
    "outputId": "3aa3469e-0344-4608-936e-78577c3aba69"
   },
   "outputs": [
    {
     "name": "stdout",
     "output_type": "stream",
     "text": [
      "<class 'pandas.core.frame.DataFrame'>\n",
      "Int64Index: 432046 entries, 0 to 432112\n",
      "Data columns (total 20 columns):\n",
      " #   Column          Non-Null Count   Dtype  \n",
      "---  ------          --------------   -----  \n",
      " 0   year            432046 non-null  int64  \n",
      " 1   make            432046 non-null  object \n",
      " 2   model           432046 non-null  object \n",
      " 3   trim_x          432046 non-null  object \n",
      " 4   body_x          432046 non-null  object \n",
      " 5   transmission_x  432046 non-null  object \n",
      " 6   vin             432046 non-null  object \n",
      " 7   state           432046 non-null  object \n",
      " 8   condition       422755 non-null  float64\n",
      " 9   odometer        432046 non-null  float64\n",
      " 10  color_x         432046 non-null  object \n",
      " 11  interior_x      432046 non-null  object \n",
      " 12  seller          432046 non-null  object \n",
      " 13  sellingprice    432046 non-null  int64  \n",
      " 14  saledate        432046 non-null  object \n",
      " 15  trim_y          432046 non-null  object \n",
      " 16  body_y          432046 non-null  object \n",
      " 17  transmission_y  432046 non-null  object \n",
      " 18  color_y         432046 non-null  object \n",
      " 19  interior_y      432046 non-null  object \n",
      "dtypes: float64(2), int64(2), object(16)\n",
      "memory usage: 69.2+ MB\n"
     ]
    }
   ],
   "source": [
    "train_fill.info()"
   ]
  },
  {
   "cell_type": "code",
   "execution_count": 98,
   "id": "sxcPb-UB0UAA",
   "metadata": {
    "executionInfo": {
     "elapsed": 24,
     "status": "ok",
     "timestamp": 1694150568113,
     "user": {
      "displayName": "Андрей Медведев",
      "userId": "02560461935100345008"
     },
     "user_tz": -180
    },
    "id": "sxcPb-UB0UAA"
   },
   "outputs": [],
   "source": []
  },
  {
   "cell_type": "code",
   "execution_count": 99,
   "id": "CSAKQymmHH09",
   "metadata": {
    "colab": {
     "base_uri": "https://localhost:8080/",
     "height": 35
    },
    "executionInfo": {
     "elapsed": 22,
     "status": "ok",
     "timestamp": 1694150568114,
     "user": {
      "displayName": "Андрей Медведев",
      "userId": "02560461935100345008"
     },
     "user_tz": -180
    },
    "id": "CSAKQymmHH09",
    "outputId": "d03735cd-c071-4fc6-a71d-161f8eab79a3"
   },
   "outputs": [
    {
     "data": {
      "application/vnd.google.colaboratory.intrinsic+json": {
       "type": "string"
      },
      "text/plain": [
       "'Tue Jun 02 2015 02:30:00 GMT-0700 (PDT)'"
      ]
     },
     "execution_count": 99,
     "metadata": {},
     "output_type": "execute_result"
    }
   ],
   "source": [
    "train_fill.saledate[0]"
   ]
  },
  {
   "cell_type": "code",
   "execution_count": 100,
   "id": "q8zfSk7iHIEl",
   "metadata": {
    "colab": {
     "base_uri": "https://localhost:8080/",
     "height": 35
    },
    "executionInfo": {
     "elapsed": 19,
     "status": "ok",
     "timestamp": 1694150568114,
     "user": {
      "displayName": "Андрей Медведев",
      "userId": "02560461935100345008"
     },
     "user_tz": -180
    },
    "id": "q8zfSk7iHIEl",
    "outputId": "46442493-cff4-4bcd-e656-e1a62f42af97"
   },
   "outputs": [
    {
     "data": {
      "application/vnd.google.colaboratory.intrinsic+json": {
       "type": "string"
      },
      "text/plain": [
       "'2015'"
      ]
     },
     "execution_count": 100,
     "metadata": {},
     "output_type": "execute_result"
    }
   ],
   "source": [
    "train_fill.saledate[0][11:15]"
   ]
  },
  {
   "cell_type": "code",
   "execution_count": 101,
   "id": "K06doOtHHIJo",
   "metadata": {
    "executionInfo": {
     "elapsed": 17,
     "status": "ok",
     "timestamp": 1694150568115,
     "user": {
      "displayName": "Андрей Медведев",
      "userId": "02560461935100345008"
     },
     "user_tz": -180
    },
    "id": "K06doOtHHIJo"
   },
   "outputs": [],
   "source": [
    "#for replace 'saledate'\n",
    "def change_date(val):\n",
    "    return val[11:15]"
   ]
  },
  {
   "cell_type": "code",
   "execution_count": 102,
   "id": "-GQnOetUENKO",
   "metadata": {
    "executionInfo": {
     "elapsed": 17,
     "status": "ok",
     "timestamp": 1694150568115,
     "user": {
      "displayName": "Андрей Медведев",
      "userId": "02560461935100345008"
     },
     "user_tz": -180
    },
    "id": "-GQnOetUENKO"
   },
   "outputs": [],
   "source": [
    "#замена даты продажи на год продажи\n",
    "#replacing the date of sale with the year of sale\n",
    "\n",
    "train_fill.saledate = train_fill.saledate.apply(change_date)"
   ]
  },
  {
   "cell_type": "code",
   "execution_count": 103,
   "id": "PQi0yhnoOnQl",
   "metadata": {
    "executionInfo": {
     "elapsed": 524,
     "status": "ok",
     "timestamp": 1694150568624,
     "user": {
      "displayName": "Андрей Медведев",
      "userId": "02560461935100345008"
     },
     "user_tz": -180
    },
    "id": "PQi0yhnoOnQl"
   },
   "outputs": [],
   "source": [
    "#for test\n",
    "test_fill.saledate = test_fill.saledate.apply(change_date)"
   ]
  },
  {
   "cell_type": "code",
   "execution_count": 104,
   "id": "FinkbVAnENRC",
   "metadata": {
    "executionInfo": {
     "elapsed": 19,
     "status": "ok",
     "timestamp": 1694150568625,
     "user": {
      "displayName": "Андрей Медведев",
      "userId": "02560461935100345008"
     },
     "user_tz": -180
    },
    "id": "FinkbVAnENRC"
   },
   "outputs": [],
   "source": [
    "#замена на int32\n",
    "#replace with int32\n",
    "\n",
    "train_fill.saledate = train_fill.saledate.astype('Int32')"
   ]
  },
  {
   "cell_type": "code",
   "execution_count": 105,
   "id": "I469CKRWNasG",
   "metadata": {
    "executionInfo": {
     "elapsed": 19,
     "status": "ok",
     "timestamp": 1694150568625,
     "user": {
      "displayName": "Андрей Медведев",
      "userId": "02560461935100345008"
     },
     "user_tz": -180
    },
    "id": "I469CKRWNasG"
   },
   "outputs": [],
   "source": [
    "#also for test\n",
    "\n",
    "test_fill.saledate = test_fill.saledate.astype('Int32')"
   ]
  },
  {
   "cell_type": "code",
   "execution_count": 105,
   "id": "gz12dSbVOwmR",
   "metadata": {
    "executionInfo": {
     "elapsed": 19,
     "status": "ok",
     "timestamp": 1694150568625,
     "user": {
      "displayName": "Андрей Медведев",
      "userId": "02560461935100345008"
     },
     "user_tz": -180
    },
    "id": "gz12dSbVOwmR"
   },
   "outputs": [],
   "source": []
  },
  {
   "cell_type": "code",
   "execution_count": 106,
   "id": "JdHyIS-NENZj",
   "metadata": {
    "executionInfo": {
     "elapsed": 18,
     "status": "ok",
     "timestamp": 1694150568625,
     "user": {
      "displayName": "Андрей Медведев",
      "userId": "02560461935100345008"
     },
     "user_tz": -180
    },
    "id": "JdHyIS-NENZj"
   },
   "outputs": [],
   "source": [
    "#удаление всех столбцов с припиской в названии '_y'\n",
    "#delete all columns c '_y'\n",
    "\n",
    "train_fill = train_fill.drop(col_for_fill+'_y', axis=1)"
   ]
  },
  {
   "cell_type": "code",
   "execution_count": 107,
   "id": "VvPHHJS9OyHE",
   "metadata": {
    "executionInfo": {
     "elapsed": 19,
     "status": "ok",
     "timestamp": 1694150568626,
     "user": {
      "displayName": "Андрей Медведев",
      "userId": "02560461935100345008"
     },
     "user_tz": -180
    },
    "id": "VvPHHJS9OyHE"
   },
   "outputs": [],
   "source": [
    "test_fill = test_fill.drop(col_for_fill+'_y', axis=1)"
   ]
  },
  {
   "cell_type": "code",
   "execution_count": 108,
   "id": "wDCh56u3ENhZ",
   "metadata": {
    "colab": {
     "base_uri": "https://localhost:8080/",
     "height": 129
    },
    "executionInfo": {
     "elapsed": 19,
     "status": "ok",
     "timestamp": 1694150568626,
     "user": {
      "displayName": "Андрей Медведев",
      "userId": "02560461935100345008"
     },
     "user_tz": -180
    },
    "id": "wDCh56u3ENhZ",
    "outputId": "67178924-4216-407f-a863-717ce702e94a"
   },
   "outputs": [
    {
     "data": {
      "text/html": [
       "\n",
       "  <div id=\"df-b943b346-d56d-4a57-842e-58bc6635bbee\" class=\"colab-df-container\">\n",
       "    <div>\n",
       "<style scoped>\n",
       "    .dataframe tbody tr th:only-of-type {\n",
       "        vertical-align: middle;\n",
       "    }\n",
       "\n",
       "    .dataframe tbody tr th {\n",
       "        vertical-align: top;\n",
       "    }\n",
       "\n",
       "    .dataframe thead th {\n",
       "        text-align: right;\n",
       "    }\n",
       "</style>\n",
       "<table border=\"1\" class=\"dataframe\">\n",
       "  <thead>\n",
       "    <tr style=\"text-align: right;\">\n",
       "      <th></th>\n",
       "      <th>year</th>\n",
       "      <th>make</th>\n",
       "      <th>model</th>\n",
       "      <th>trim_x</th>\n",
       "      <th>body_x</th>\n",
       "      <th>transmission_x</th>\n",
       "      <th>vin</th>\n",
       "      <th>state</th>\n",
       "      <th>condition</th>\n",
       "      <th>odometer</th>\n",
       "      <th>color_x</th>\n",
       "      <th>interior_x</th>\n",
       "      <th>seller</th>\n",
       "      <th>sellingprice</th>\n",
       "      <th>saledate</th>\n",
       "      <th>life_car</th>\n",
       "    </tr>\n",
       "  </thead>\n",
       "  <tbody>\n",
       "    <tr>\n",
       "      <th>371533</th>\n",
       "      <td>2013</td>\n",
       "      <td>ford</td>\n",
       "      <td>fusion</td>\n",
       "      <td>se</td>\n",
       "      <td>sedan</td>\n",
       "      <td>automatic</td>\n",
       "      <td>3fa6p0hr7dr226251</td>\n",
       "      <td>mi</td>\n",
       "      <td>3.8</td>\n",
       "      <td>26791.0</td>\n",
       "      <td>gray</td>\n",
       "      <td>black</td>\n",
       "      <td>ford motor credit company,llc</td>\n",
       "      <td>14700</td>\n",
       "      <td>2014</td>\n",
       "      <td>1</td>\n",
       "    </tr>\n",
       "    <tr>\n",
       "      <th>309747</th>\n",
       "      <td>2010</td>\n",
       "      <td>mazda</td>\n",
       "      <td>mazda3</td>\n",
       "      <td>i touring</td>\n",
       "      <td>sedan</td>\n",
       "      <td>manual</td>\n",
       "      <td>jm1bl1sg6a1179284</td>\n",
       "      <td>va</td>\n",
       "      <td>2.7</td>\n",
       "      <td>77259.0</td>\n",
       "      <td>white</td>\n",
       "      <td>black</td>\n",
       "      <td>mazda and volkswagon of fredericksburg</td>\n",
       "      <td>6400</td>\n",
       "      <td>2015</td>\n",
       "      <td>5</td>\n",
       "    </tr>\n",
       "  </tbody>\n",
       "</table>\n",
       "</div>\n",
       "    <div class=\"colab-df-buttons\">\n",
       "\n",
       "  <div class=\"colab-df-container\">\n",
       "    <button class=\"colab-df-convert\" onclick=\"convertToInteractive('df-b943b346-d56d-4a57-842e-58bc6635bbee')\"\n",
       "            title=\"Convert this dataframe to an interactive table.\"\n",
       "            style=\"display:none;\">\n",
       "\n",
       "  <svg xmlns=\"http://www.w3.org/2000/svg\" height=\"24px\" viewBox=\"0 -960 960 960\">\n",
       "    <path d=\"M120-120v-720h720v720H120Zm60-500h600v-160H180v160Zm220 220h160v-160H400v160Zm0 220h160v-160H400v160ZM180-400h160v-160H180v160Zm440 0h160v-160H620v160ZM180-180h160v-160H180v160Zm440 0h160v-160H620v160Z\"/>\n",
       "  </svg>\n",
       "    </button>\n",
       "\n",
       "  <style>\n",
       "    .colab-df-container {\n",
       "      display:flex;\n",
       "      gap: 12px;\n",
       "    }\n",
       "\n",
       "    .colab-df-convert {\n",
       "      background-color: #E8F0FE;\n",
       "      border: none;\n",
       "      border-radius: 50%;\n",
       "      cursor: pointer;\n",
       "      display: none;\n",
       "      fill: #1967D2;\n",
       "      height: 32px;\n",
       "      padding: 0 0 0 0;\n",
       "      width: 32px;\n",
       "    }\n",
       "\n",
       "    .colab-df-convert:hover {\n",
       "      background-color: #E2EBFA;\n",
       "      box-shadow: 0px 1px 2px rgba(60, 64, 67, 0.3), 0px 1px 3px 1px rgba(60, 64, 67, 0.15);\n",
       "      fill: #174EA6;\n",
       "    }\n",
       "\n",
       "    .colab-df-buttons div {\n",
       "      margin-bottom: 4px;\n",
       "    }\n",
       "\n",
       "    [theme=dark] .colab-df-convert {\n",
       "      background-color: #3B4455;\n",
       "      fill: #D2E3FC;\n",
       "    }\n",
       "\n",
       "    [theme=dark] .colab-df-convert:hover {\n",
       "      background-color: #434B5C;\n",
       "      box-shadow: 0px 1px 3px 1px rgba(0, 0, 0, 0.15);\n",
       "      filter: drop-shadow(0px 1px 2px rgba(0, 0, 0, 0.3));\n",
       "      fill: #FFFFFF;\n",
       "    }\n",
       "  </style>\n",
       "\n",
       "    <script>\n",
       "      const buttonEl =\n",
       "        document.querySelector('#df-b943b346-d56d-4a57-842e-58bc6635bbee button.colab-df-convert');\n",
       "      buttonEl.style.display =\n",
       "        google.colab.kernel.accessAllowed ? 'block' : 'none';\n",
       "\n",
       "      async function convertToInteractive(key) {\n",
       "        const element = document.querySelector('#df-b943b346-d56d-4a57-842e-58bc6635bbee');\n",
       "        const dataTable =\n",
       "          await google.colab.kernel.invokeFunction('convertToInteractive',\n",
       "                                                    [key], {});\n",
       "        if (!dataTable) return;\n",
       "\n",
       "        const docLinkHtml = 'Like what you see? Visit the ' +\n",
       "          '<a target=\"_blank\" href=https://colab.research.google.com/notebooks/data_table.ipynb>data table notebook</a>'\n",
       "          + ' to learn more about interactive tables.';\n",
       "        element.innerHTML = '';\n",
       "        dataTable['output_type'] = 'display_data';\n",
       "        await google.colab.output.renderOutput(dataTable, element);\n",
       "        const docLink = document.createElement('div');\n",
       "        docLink.innerHTML = docLinkHtml;\n",
       "        element.appendChild(docLink);\n",
       "      }\n",
       "    </script>\n",
       "  </div>\n",
       "\n",
       "\n",
       "<div id=\"df-46ebc5ca-b880-440c-a2a4-dc150219c15b\">\n",
       "  <button class=\"colab-df-quickchart\" onclick=\"quickchart('df-46ebc5ca-b880-440c-a2a4-dc150219c15b')\"\n",
       "            title=\"Suggest charts.\"\n",
       "            style=\"display:none;\">\n",
       "\n",
       "<svg xmlns=\"http://www.w3.org/2000/svg\" height=\"24px\"viewBox=\"0 0 24 24\"\n",
       "     width=\"24px\">\n",
       "    <g>\n",
       "        <path d=\"M19 3H5c-1.1 0-2 .9-2 2v14c0 1.1.9 2 2 2h14c1.1 0 2-.9 2-2V5c0-1.1-.9-2-2-2zM9 17H7v-7h2v7zm4 0h-2V7h2v10zm4 0h-2v-4h2v4z\"/>\n",
       "    </g>\n",
       "</svg>\n",
       "  </button>\n",
       "\n",
       "<style>\n",
       "  .colab-df-quickchart {\n",
       "      --bg-color: #E8F0FE;\n",
       "      --fill-color: #1967D2;\n",
       "      --hover-bg-color: #E2EBFA;\n",
       "      --hover-fill-color: #174EA6;\n",
       "      --disabled-fill-color: #AAA;\n",
       "      --disabled-bg-color: #DDD;\n",
       "  }\n",
       "\n",
       "  [theme=dark] .colab-df-quickchart {\n",
       "      --bg-color: #3B4455;\n",
       "      --fill-color: #D2E3FC;\n",
       "      --hover-bg-color: #434B5C;\n",
       "      --hover-fill-color: #FFFFFF;\n",
       "      --disabled-bg-color: #3B4455;\n",
       "      --disabled-fill-color: #666;\n",
       "  }\n",
       "\n",
       "  .colab-df-quickchart {\n",
       "    background-color: var(--bg-color);\n",
       "    border: none;\n",
       "    border-radius: 50%;\n",
       "    cursor: pointer;\n",
       "    display: none;\n",
       "    fill: var(--fill-color);\n",
       "    height: 32px;\n",
       "    padding: 0;\n",
       "    width: 32px;\n",
       "  }\n",
       "\n",
       "  .colab-df-quickchart:hover {\n",
       "    background-color: var(--hover-bg-color);\n",
       "    box-shadow: 0 1px 2px rgba(60, 64, 67, 0.3), 0 1px 3px 1px rgba(60, 64, 67, 0.15);\n",
       "    fill: var(--button-hover-fill-color);\n",
       "  }\n",
       "\n",
       "  .colab-df-quickchart-complete:disabled,\n",
       "  .colab-df-quickchart-complete:disabled:hover {\n",
       "    background-color: var(--disabled-bg-color);\n",
       "    fill: var(--disabled-fill-color);\n",
       "    box-shadow: none;\n",
       "  }\n",
       "\n",
       "  .colab-df-spinner {\n",
       "    border: 2px solid var(--fill-color);\n",
       "    border-color: transparent;\n",
       "    border-bottom-color: var(--fill-color);\n",
       "    animation:\n",
       "      spin 1s steps(1) infinite;\n",
       "  }\n",
       "\n",
       "  @keyframes spin {\n",
       "    0% {\n",
       "      border-color: transparent;\n",
       "      border-bottom-color: var(--fill-color);\n",
       "      border-left-color: var(--fill-color);\n",
       "    }\n",
       "    20% {\n",
       "      border-color: transparent;\n",
       "      border-left-color: var(--fill-color);\n",
       "      border-top-color: var(--fill-color);\n",
       "    }\n",
       "    30% {\n",
       "      border-color: transparent;\n",
       "      border-left-color: var(--fill-color);\n",
       "      border-top-color: var(--fill-color);\n",
       "      border-right-color: var(--fill-color);\n",
       "    }\n",
       "    40% {\n",
       "      border-color: transparent;\n",
       "      border-right-color: var(--fill-color);\n",
       "      border-top-color: var(--fill-color);\n",
       "    }\n",
       "    60% {\n",
       "      border-color: transparent;\n",
       "      border-right-color: var(--fill-color);\n",
       "    }\n",
       "    80% {\n",
       "      border-color: transparent;\n",
       "      border-right-color: var(--fill-color);\n",
       "      border-bottom-color: var(--fill-color);\n",
       "    }\n",
       "    90% {\n",
       "      border-color: transparent;\n",
       "      border-bottom-color: var(--fill-color);\n",
       "    }\n",
       "  }\n",
       "</style>\n",
       "\n",
       "  <script>\n",
       "    async function quickchart(key) {\n",
       "      const quickchartButtonEl =\n",
       "        document.querySelector('#' + key + ' button');\n",
       "      quickchartButtonEl.disabled = true;  // To prevent multiple clicks.\n",
       "      quickchartButtonEl.classList.add('colab-df-spinner');\n",
       "      try {\n",
       "        const charts = await google.colab.kernel.invokeFunction(\n",
       "            'suggestCharts', [key], {});\n",
       "      } catch (error) {\n",
       "        console.error('Error during call to suggestCharts:', error);\n",
       "      }\n",
       "      quickchartButtonEl.classList.remove('colab-df-spinner');\n",
       "      quickchartButtonEl.classList.add('colab-df-quickchart-complete');\n",
       "    }\n",
       "    (() => {\n",
       "      let quickchartButtonEl =\n",
       "        document.querySelector('#df-46ebc5ca-b880-440c-a2a4-dc150219c15b button');\n",
       "      quickchartButtonEl.style.display =\n",
       "        google.colab.kernel.accessAllowed ? 'block' : 'none';\n",
       "    })();\n",
       "  </script>\n",
       "</div>\n",
       "    </div>\n",
       "  </div>\n"
      ],
      "text/plain": [
       "        year   make   model     trim_x body_x transmission_x  \\\n",
       "371533  2013   ford  fusion         se  sedan      automatic   \n",
       "309747  2010  mazda  mazda3  i touring  sedan         manual   \n",
       "\n",
       "                      vin state  condition  odometer color_x interior_x  \\\n",
       "371533  3fa6p0hr7dr226251    mi        3.8   26791.0    gray      black   \n",
       "309747  jm1bl1sg6a1179284    va        2.7   77259.0   white      black   \n",
       "\n",
       "                                        seller  sellingprice  saledate  \\\n",
       "371533           ford motor credit company,llc         14700      2014   \n",
       "309747  mazda and volkswagon of fredericksburg          6400      2015   \n",
       "\n",
       "        life_car  \n",
       "371533         1  \n",
       "309747         5  "
      ]
     },
     "execution_count": 108,
     "metadata": {},
     "output_type": "execute_result"
    }
   ],
   "source": [
    "#добавление времени между выпуском авто и продажей\n",
    "#сразу с модулем так как есть часть дат с \"минус 1\" годом\n",
    "\n",
    "#adding time between car release and sale\n",
    "#immediately with the module since there are some dates with “minus 1” year\n",
    "\n",
    "train_fill['life_car'] = (train_fill['saledate']  - train_fill['year']).abs()\n",
    "train_fill.sample(2)"
   ]
  },
  {
   "cell_type": "code",
   "execution_count": 109,
   "id": "traLO5EEO7HB",
   "metadata": {
    "colab": {
     "base_uri": "https://localhost:8080/",
     "height": 112
    },
    "executionInfo": {
     "elapsed": 18,
     "status": "ok",
     "timestamp": 1694150568626,
     "user": {
      "displayName": "Андрей Медведев",
      "userId": "02560461935100345008"
     },
     "user_tz": -180
    },
    "id": "traLO5EEO7HB",
    "outputId": "a667f8ae-0036-4e7f-f821-6f871f7ba727"
   },
   "outputs": [
    {
     "data": {
      "text/html": [
       "\n",
       "  <div id=\"df-a39404a8-0a11-4697-b263-8c51e01de482\" class=\"colab-df-container\">\n",
       "    <div>\n",
       "<style scoped>\n",
       "    .dataframe tbody tr th:only-of-type {\n",
       "        vertical-align: middle;\n",
       "    }\n",
       "\n",
       "    .dataframe tbody tr th {\n",
       "        vertical-align: top;\n",
       "    }\n",
       "\n",
       "    .dataframe thead th {\n",
       "        text-align: right;\n",
       "    }\n",
       "</style>\n",
       "<table border=\"1\" class=\"dataframe\">\n",
       "  <thead>\n",
       "    <tr style=\"text-align: right;\">\n",
       "      <th></th>\n",
       "      <th>year</th>\n",
       "      <th>make</th>\n",
       "      <th>model</th>\n",
       "      <th>trim_x</th>\n",
       "      <th>body_x</th>\n",
       "      <th>transmission_x</th>\n",
       "      <th>vin</th>\n",
       "      <th>state</th>\n",
       "      <th>condition</th>\n",
       "      <th>odometer</th>\n",
       "      <th>color_x</th>\n",
       "      <th>interior_x</th>\n",
       "      <th>seller</th>\n",
       "      <th>saledate</th>\n",
       "      <th>life_car</th>\n",
       "    </tr>\n",
       "  </thead>\n",
       "  <tbody>\n",
       "    <tr>\n",
       "      <th>15468</th>\n",
       "      <td>2009</td>\n",
       "      <td>chevrolet</td>\n",
       "      <td>suburban</td>\n",
       "      <td>1500 ls</td>\n",
       "      <td>suv</td>\n",
       "      <td>automatic</td>\n",
       "      <td>1gnfk163x9r113403</td>\n",
       "      <td>ut</td>\n",
       "      <td>1.0</td>\n",
       "      <td>426418.0</td>\n",
       "      <td>white</td>\n",
       "      <td>black</td>\n",
       "      <td>united leasing inc</td>\n",
       "      <td>2015</td>\n",
       "      <td>6</td>\n",
       "    </tr>\n",
       "    <tr>\n",
       "      <th>18286</th>\n",
       "      <td>2012</td>\n",
       "      <td>nissan</td>\n",
       "      <td>altima</td>\n",
       "      <td>2.5 s</td>\n",
       "      <td>sedan</td>\n",
       "      <td>automatic</td>\n",
       "      <td>1n4al2ap9cn428133</td>\n",
       "      <td>tx</td>\n",
       "      <td>4.1</td>\n",
       "      <td>63143.0</td>\n",
       "      <td>black</td>\n",
       "      <td>gray</td>\n",
       "      <td>nissan-infiniti lt</td>\n",
       "      <td>2015</td>\n",
       "      <td>3</td>\n",
       "    </tr>\n",
       "  </tbody>\n",
       "</table>\n",
       "</div>\n",
       "    <div class=\"colab-df-buttons\">\n",
       "\n",
       "  <div class=\"colab-df-container\">\n",
       "    <button class=\"colab-df-convert\" onclick=\"convertToInteractive('df-a39404a8-0a11-4697-b263-8c51e01de482')\"\n",
       "            title=\"Convert this dataframe to an interactive table.\"\n",
       "            style=\"display:none;\">\n",
       "\n",
       "  <svg xmlns=\"http://www.w3.org/2000/svg\" height=\"24px\" viewBox=\"0 -960 960 960\">\n",
       "    <path d=\"M120-120v-720h720v720H120Zm60-500h600v-160H180v160Zm220 220h160v-160H400v160Zm0 220h160v-160H400v160ZM180-400h160v-160H180v160Zm440 0h160v-160H620v160ZM180-180h160v-160H180v160Zm440 0h160v-160H620v160Z\"/>\n",
       "  </svg>\n",
       "    </button>\n",
       "\n",
       "  <style>\n",
       "    .colab-df-container {\n",
       "      display:flex;\n",
       "      gap: 12px;\n",
       "    }\n",
       "\n",
       "    .colab-df-convert {\n",
       "      background-color: #E8F0FE;\n",
       "      border: none;\n",
       "      border-radius: 50%;\n",
       "      cursor: pointer;\n",
       "      display: none;\n",
       "      fill: #1967D2;\n",
       "      height: 32px;\n",
       "      padding: 0 0 0 0;\n",
       "      width: 32px;\n",
       "    }\n",
       "\n",
       "    .colab-df-convert:hover {\n",
       "      background-color: #E2EBFA;\n",
       "      box-shadow: 0px 1px 2px rgba(60, 64, 67, 0.3), 0px 1px 3px 1px rgba(60, 64, 67, 0.15);\n",
       "      fill: #174EA6;\n",
       "    }\n",
       "\n",
       "    .colab-df-buttons div {\n",
       "      margin-bottom: 4px;\n",
       "    }\n",
       "\n",
       "    [theme=dark] .colab-df-convert {\n",
       "      background-color: #3B4455;\n",
       "      fill: #D2E3FC;\n",
       "    }\n",
       "\n",
       "    [theme=dark] .colab-df-convert:hover {\n",
       "      background-color: #434B5C;\n",
       "      box-shadow: 0px 1px 3px 1px rgba(0, 0, 0, 0.15);\n",
       "      filter: drop-shadow(0px 1px 2px rgba(0, 0, 0, 0.3));\n",
       "      fill: #FFFFFF;\n",
       "    }\n",
       "  </style>\n",
       "\n",
       "    <script>\n",
       "      const buttonEl =\n",
       "        document.querySelector('#df-a39404a8-0a11-4697-b263-8c51e01de482 button.colab-df-convert');\n",
       "      buttonEl.style.display =\n",
       "        google.colab.kernel.accessAllowed ? 'block' : 'none';\n",
       "\n",
       "      async function convertToInteractive(key) {\n",
       "        const element = document.querySelector('#df-a39404a8-0a11-4697-b263-8c51e01de482');\n",
       "        const dataTable =\n",
       "          await google.colab.kernel.invokeFunction('convertToInteractive',\n",
       "                                                    [key], {});\n",
       "        if (!dataTable) return;\n",
       "\n",
       "        const docLinkHtml = 'Like what you see? Visit the ' +\n",
       "          '<a target=\"_blank\" href=https://colab.research.google.com/notebooks/data_table.ipynb>data table notebook</a>'\n",
       "          + ' to learn more about interactive tables.';\n",
       "        element.innerHTML = '';\n",
       "        dataTable['output_type'] = 'display_data';\n",
       "        await google.colab.output.renderOutput(dataTable, element);\n",
       "        const docLink = document.createElement('div');\n",
       "        docLink.innerHTML = docLinkHtml;\n",
       "        element.appendChild(docLink);\n",
       "      }\n",
       "    </script>\n",
       "  </div>\n",
       "\n",
       "\n",
       "<div id=\"df-bc701d44-e551-4ad1-8722-cb9fcd01cd09\">\n",
       "  <button class=\"colab-df-quickchart\" onclick=\"quickchart('df-bc701d44-e551-4ad1-8722-cb9fcd01cd09')\"\n",
       "            title=\"Suggest charts.\"\n",
       "            style=\"display:none;\">\n",
       "\n",
       "<svg xmlns=\"http://www.w3.org/2000/svg\" height=\"24px\"viewBox=\"0 0 24 24\"\n",
       "     width=\"24px\">\n",
       "    <g>\n",
       "        <path d=\"M19 3H5c-1.1 0-2 .9-2 2v14c0 1.1.9 2 2 2h14c1.1 0 2-.9 2-2V5c0-1.1-.9-2-2-2zM9 17H7v-7h2v7zm4 0h-2V7h2v10zm4 0h-2v-4h2v4z\"/>\n",
       "    </g>\n",
       "</svg>\n",
       "  </button>\n",
       "\n",
       "<style>\n",
       "  .colab-df-quickchart {\n",
       "      --bg-color: #E8F0FE;\n",
       "      --fill-color: #1967D2;\n",
       "      --hover-bg-color: #E2EBFA;\n",
       "      --hover-fill-color: #174EA6;\n",
       "      --disabled-fill-color: #AAA;\n",
       "      --disabled-bg-color: #DDD;\n",
       "  }\n",
       "\n",
       "  [theme=dark] .colab-df-quickchart {\n",
       "      --bg-color: #3B4455;\n",
       "      --fill-color: #D2E3FC;\n",
       "      --hover-bg-color: #434B5C;\n",
       "      --hover-fill-color: #FFFFFF;\n",
       "      --disabled-bg-color: #3B4455;\n",
       "      --disabled-fill-color: #666;\n",
       "  }\n",
       "\n",
       "  .colab-df-quickchart {\n",
       "    background-color: var(--bg-color);\n",
       "    border: none;\n",
       "    border-radius: 50%;\n",
       "    cursor: pointer;\n",
       "    display: none;\n",
       "    fill: var(--fill-color);\n",
       "    height: 32px;\n",
       "    padding: 0;\n",
       "    width: 32px;\n",
       "  }\n",
       "\n",
       "  .colab-df-quickchart:hover {\n",
       "    background-color: var(--hover-bg-color);\n",
       "    box-shadow: 0 1px 2px rgba(60, 64, 67, 0.3), 0 1px 3px 1px rgba(60, 64, 67, 0.15);\n",
       "    fill: var(--button-hover-fill-color);\n",
       "  }\n",
       "\n",
       "  .colab-df-quickchart-complete:disabled,\n",
       "  .colab-df-quickchart-complete:disabled:hover {\n",
       "    background-color: var(--disabled-bg-color);\n",
       "    fill: var(--disabled-fill-color);\n",
       "    box-shadow: none;\n",
       "  }\n",
       "\n",
       "  .colab-df-spinner {\n",
       "    border: 2px solid var(--fill-color);\n",
       "    border-color: transparent;\n",
       "    border-bottom-color: var(--fill-color);\n",
       "    animation:\n",
       "      spin 1s steps(1) infinite;\n",
       "  }\n",
       "\n",
       "  @keyframes spin {\n",
       "    0% {\n",
       "      border-color: transparent;\n",
       "      border-bottom-color: var(--fill-color);\n",
       "      border-left-color: var(--fill-color);\n",
       "    }\n",
       "    20% {\n",
       "      border-color: transparent;\n",
       "      border-left-color: var(--fill-color);\n",
       "      border-top-color: var(--fill-color);\n",
       "    }\n",
       "    30% {\n",
       "      border-color: transparent;\n",
       "      border-left-color: var(--fill-color);\n",
       "      border-top-color: var(--fill-color);\n",
       "      border-right-color: var(--fill-color);\n",
       "    }\n",
       "    40% {\n",
       "      border-color: transparent;\n",
       "      border-right-color: var(--fill-color);\n",
       "      border-top-color: var(--fill-color);\n",
       "    }\n",
       "    60% {\n",
       "      border-color: transparent;\n",
       "      border-right-color: var(--fill-color);\n",
       "    }\n",
       "    80% {\n",
       "      border-color: transparent;\n",
       "      border-right-color: var(--fill-color);\n",
       "      border-bottom-color: var(--fill-color);\n",
       "    }\n",
       "    90% {\n",
       "      border-color: transparent;\n",
       "      border-bottom-color: var(--fill-color);\n",
       "    }\n",
       "  }\n",
       "</style>\n",
       "\n",
       "  <script>\n",
       "    async function quickchart(key) {\n",
       "      const quickchartButtonEl =\n",
       "        document.querySelector('#' + key + ' button');\n",
       "      quickchartButtonEl.disabled = true;  // To prevent multiple clicks.\n",
       "      quickchartButtonEl.classList.add('colab-df-spinner');\n",
       "      try {\n",
       "        const charts = await google.colab.kernel.invokeFunction(\n",
       "            'suggestCharts', [key], {});\n",
       "      } catch (error) {\n",
       "        console.error('Error during call to suggestCharts:', error);\n",
       "      }\n",
       "      quickchartButtonEl.classList.remove('colab-df-spinner');\n",
       "      quickchartButtonEl.classList.add('colab-df-quickchart-complete');\n",
       "    }\n",
       "    (() => {\n",
       "      let quickchartButtonEl =\n",
       "        document.querySelector('#df-bc701d44-e551-4ad1-8722-cb9fcd01cd09 button');\n",
       "      quickchartButtonEl.style.display =\n",
       "        google.colab.kernel.accessAllowed ? 'block' : 'none';\n",
       "    })();\n",
       "  </script>\n",
       "</div>\n",
       "    </div>\n",
       "  </div>\n"
      ],
      "text/plain": [
       "       year       make     model   trim_x body_x transmission_x  \\\n",
       "15468  2009  chevrolet  suburban  1500 ls    suv      automatic   \n",
       "18286  2012     nissan    altima    2.5 s  sedan      automatic   \n",
       "\n",
       "                     vin state  condition  odometer color_x interior_x  \\\n",
       "15468  1gnfk163x9r113403    ut        1.0  426418.0   white      black   \n",
       "18286  1n4al2ap9cn428133    tx        4.1   63143.0   black       gray   \n",
       "\n",
       "                   seller  saledate  life_car  \n",
       "15468  united leasing inc      2015         6  \n",
       "18286  nissan-infiniti lt      2015         3  "
      ]
     },
     "execution_count": 109,
     "metadata": {},
     "output_type": "execute_result"
    }
   ],
   "source": [
    "test_fill['life_car'] = (test_fill['saledate']  - test_fill['year']).abs()\n",
    "test_fill.sample(2)"
   ]
  },
  {
   "cell_type": "code",
   "execution_count": 110,
   "id": "nYFEPNnLENoe",
   "metadata": {
    "executionInfo": {
     "elapsed": 17,
     "status": "ok",
     "timestamp": 1694150568626,
     "user": {
      "displayName": "Андрей Медведев",
      "userId": "02560461935100345008"
     },
     "user_tz": -180
    },
    "id": "nYFEPNnLENoe"
   },
   "outputs": [],
   "source": [
    "#замена срока жизни машины с 0 на 1 год\n",
    "#replace life_car from 0 to 1 year\n",
    "train_fill.loc[train_fill['life_car'] == 0, 'life_car'] = 1\n",
    "test_fill.loc[test_fill['life_car'] == 0, 'life_car'] = 1"
   ]
  },
  {
   "cell_type": "code",
   "execution_count": 111,
   "id": "HrZFksHMUCWd",
   "metadata": {
    "colab": {
     "base_uri": "https://localhost:8080/",
     "height": 53
    },
    "executionInfo": {
     "elapsed": 17,
     "status": "ok",
     "timestamp": 1694150568626,
     "user": {
      "displayName": "Андрей Медведев",
      "userId": "02560461935100345008"
     },
     "user_tz": -180
    },
    "id": "HrZFksHMUCWd",
    "outputId": "ae3af3e6-40a5-4ae9-8506-2e796e43897a"
   },
   "outputs": [
    {
     "data": {
      "text/html": [
       "\n",
       "  <div id=\"df-fcce948f-c946-4ac0-86c8-73d2da1d50c2\" class=\"colab-df-container\">\n",
       "    <div>\n",
       "<style scoped>\n",
       "    .dataframe tbody tr th:only-of-type {\n",
       "        vertical-align: middle;\n",
       "    }\n",
       "\n",
       "    .dataframe tbody tr th {\n",
       "        vertical-align: top;\n",
       "    }\n",
       "\n",
       "    .dataframe thead th {\n",
       "        text-align: right;\n",
       "    }\n",
       "</style>\n",
       "<table border=\"1\" class=\"dataframe\">\n",
       "  <thead>\n",
       "    <tr style=\"text-align: right;\">\n",
       "      <th></th>\n",
       "      <th>year</th>\n",
       "      <th>make</th>\n",
       "      <th>model</th>\n",
       "      <th>trim_x</th>\n",
       "      <th>body_x</th>\n",
       "      <th>transmission_x</th>\n",
       "      <th>vin</th>\n",
       "      <th>state</th>\n",
       "      <th>condition</th>\n",
       "      <th>odometer</th>\n",
       "      <th>color_x</th>\n",
       "      <th>interior_x</th>\n",
       "      <th>seller</th>\n",
       "      <th>sellingprice</th>\n",
       "      <th>saledate</th>\n",
       "      <th>life_car</th>\n",
       "    </tr>\n",
       "  </thead>\n",
       "  <tbody>\n",
       "  </tbody>\n",
       "</table>\n",
       "</div>\n",
       "    <div class=\"colab-df-buttons\">\n",
       "\n",
       "  <div class=\"colab-df-container\">\n",
       "    <button class=\"colab-df-convert\" onclick=\"convertToInteractive('df-fcce948f-c946-4ac0-86c8-73d2da1d50c2')\"\n",
       "            title=\"Convert this dataframe to an interactive table.\"\n",
       "            style=\"display:none;\">\n",
       "\n",
       "  <svg xmlns=\"http://www.w3.org/2000/svg\" height=\"24px\" viewBox=\"0 -960 960 960\">\n",
       "    <path d=\"M120-120v-720h720v720H120Zm60-500h600v-160H180v160Zm220 220h160v-160H400v160Zm0 220h160v-160H400v160ZM180-400h160v-160H180v160Zm440 0h160v-160H620v160ZM180-180h160v-160H180v160Zm440 0h160v-160H620v160Z\"/>\n",
       "  </svg>\n",
       "    </button>\n",
       "\n",
       "  <style>\n",
       "    .colab-df-container {\n",
       "      display:flex;\n",
       "      gap: 12px;\n",
       "    }\n",
       "\n",
       "    .colab-df-convert {\n",
       "      background-color: #E8F0FE;\n",
       "      border: none;\n",
       "      border-radius: 50%;\n",
       "      cursor: pointer;\n",
       "      display: none;\n",
       "      fill: #1967D2;\n",
       "      height: 32px;\n",
       "      padding: 0 0 0 0;\n",
       "      width: 32px;\n",
       "    }\n",
       "\n",
       "    .colab-df-convert:hover {\n",
       "      background-color: #E2EBFA;\n",
       "      box-shadow: 0px 1px 2px rgba(60, 64, 67, 0.3), 0px 1px 3px 1px rgba(60, 64, 67, 0.15);\n",
       "      fill: #174EA6;\n",
       "    }\n",
       "\n",
       "    .colab-df-buttons div {\n",
       "      margin-bottom: 4px;\n",
       "    }\n",
       "\n",
       "    [theme=dark] .colab-df-convert {\n",
       "      background-color: #3B4455;\n",
       "      fill: #D2E3FC;\n",
       "    }\n",
       "\n",
       "    [theme=dark] .colab-df-convert:hover {\n",
       "      background-color: #434B5C;\n",
       "      box-shadow: 0px 1px 3px 1px rgba(0, 0, 0, 0.15);\n",
       "      filter: drop-shadow(0px 1px 2px rgba(0, 0, 0, 0.3));\n",
       "      fill: #FFFFFF;\n",
       "    }\n",
       "  </style>\n",
       "\n",
       "    <script>\n",
       "      const buttonEl =\n",
       "        document.querySelector('#df-fcce948f-c946-4ac0-86c8-73d2da1d50c2 button.colab-df-convert');\n",
       "      buttonEl.style.display =\n",
       "        google.colab.kernel.accessAllowed ? 'block' : 'none';\n",
       "\n",
       "      async function convertToInteractive(key) {\n",
       "        const element = document.querySelector('#df-fcce948f-c946-4ac0-86c8-73d2da1d50c2');\n",
       "        const dataTable =\n",
       "          await google.colab.kernel.invokeFunction('convertToInteractive',\n",
       "                                                    [key], {});\n",
       "        if (!dataTable) return;\n",
       "\n",
       "        const docLinkHtml = 'Like what you see? Visit the ' +\n",
       "          '<a target=\"_blank\" href=https://colab.research.google.com/notebooks/data_table.ipynb>data table notebook</a>'\n",
       "          + ' to learn more about interactive tables.';\n",
       "        element.innerHTML = '';\n",
       "        dataTable['output_type'] = 'display_data';\n",
       "        await google.colab.output.renderOutput(dataTable, element);\n",
       "        const docLink = document.createElement('div');\n",
       "        docLink.innerHTML = docLinkHtml;\n",
       "        element.appendChild(docLink);\n",
       "      }\n",
       "    </script>\n",
       "  </div>\n",
       "\n",
       "    </div>\n",
       "  </div>\n"
      ],
      "text/plain": [
       "Empty DataFrame\n",
       "Columns: [year, make, model, trim_x, body_x, transmission_x, vin, state, condition, odometer, color_x, interior_x, seller, sellingprice, saledate, life_car]\n",
       "Index: []"
      ]
     },
     "execution_count": 111,
     "metadata": {},
     "output_type": "execute_result"
    }
   ],
   "source": [
    "#проверка что не осталось нулей\n",
    "train_fill.loc[train_fill['life_car'] == 0]"
   ]
  },
  {
   "cell_type": "code",
   "execution_count": 112,
   "id": "xbt_B2CxPHmT",
   "metadata": {
    "colab": {
     "base_uri": "https://localhost:8080/",
     "height": 53
    },
    "executionInfo": {
     "elapsed": 452,
     "status": "ok",
     "timestamp": 1694150569062,
     "user": {
      "displayName": "Андрей Медведев",
      "userId": "02560461935100345008"
     },
     "user_tz": -180
    },
    "id": "xbt_B2CxPHmT",
    "outputId": "eb74ef23-6047-4698-f687-f3d0224f2c97"
   },
   "outputs": [
    {
     "data": {
      "text/html": [
       "\n",
       "  <div id=\"df-4254e13d-7677-45ca-8de8-f3a164d5ac55\" class=\"colab-df-container\">\n",
       "    <div>\n",
       "<style scoped>\n",
       "    .dataframe tbody tr th:only-of-type {\n",
       "        vertical-align: middle;\n",
       "    }\n",
       "\n",
       "    .dataframe tbody tr th {\n",
       "        vertical-align: top;\n",
       "    }\n",
       "\n",
       "    .dataframe thead th {\n",
       "        text-align: right;\n",
       "    }\n",
       "</style>\n",
       "<table border=\"1\" class=\"dataframe\">\n",
       "  <thead>\n",
       "    <tr style=\"text-align: right;\">\n",
       "      <th></th>\n",
       "      <th>year</th>\n",
       "      <th>make</th>\n",
       "      <th>model</th>\n",
       "      <th>trim_x</th>\n",
       "      <th>body_x</th>\n",
       "      <th>transmission_x</th>\n",
       "      <th>vin</th>\n",
       "      <th>state</th>\n",
       "      <th>condition</th>\n",
       "      <th>odometer</th>\n",
       "      <th>color_x</th>\n",
       "      <th>interior_x</th>\n",
       "      <th>seller</th>\n",
       "      <th>saledate</th>\n",
       "      <th>life_car</th>\n",
       "    </tr>\n",
       "  </thead>\n",
       "  <tbody>\n",
       "  </tbody>\n",
       "</table>\n",
       "</div>\n",
       "    <div class=\"colab-df-buttons\">\n",
       "\n",
       "  <div class=\"colab-df-container\">\n",
       "    <button class=\"colab-df-convert\" onclick=\"convertToInteractive('df-4254e13d-7677-45ca-8de8-f3a164d5ac55')\"\n",
       "            title=\"Convert this dataframe to an interactive table.\"\n",
       "            style=\"display:none;\">\n",
       "\n",
       "  <svg xmlns=\"http://www.w3.org/2000/svg\" height=\"24px\" viewBox=\"0 -960 960 960\">\n",
       "    <path d=\"M120-120v-720h720v720H120Zm60-500h600v-160H180v160Zm220 220h160v-160H400v160Zm0 220h160v-160H400v160ZM180-400h160v-160H180v160Zm440 0h160v-160H620v160ZM180-180h160v-160H180v160Zm440 0h160v-160H620v160Z\"/>\n",
       "  </svg>\n",
       "    </button>\n",
       "\n",
       "  <style>\n",
       "    .colab-df-container {\n",
       "      display:flex;\n",
       "      gap: 12px;\n",
       "    }\n",
       "\n",
       "    .colab-df-convert {\n",
       "      background-color: #E8F0FE;\n",
       "      border: none;\n",
       "      border-radius: 50%;\n",
       "      cursor: pointer;\n",
       "      display: none;\n",
       "      fill: #1967D2;\n",
       "      height: 32px;\n",
       "      padding: 0 0 0 0;\n",
       "      width: 32px;\n",
       "    }\n",
       "\n",
       "    .colab-df-convert:hover {\n",
       "      background-color: #E2EBFA;\n",
       "      box-shadow: 0px 1px 2px rgba(60, 64, 67, 0.3), 0px 1px 3px 1px rgba(60, 64, 67, 0.15);\n",
       "      fill: #174EA6;\n",
       "    }\n",
       "\n",
       "    .colab-df-buttons div {\n",
       "      margin-bottom: 4px;\n",
       "    }\n",
       "\n",
       "    [theme=dark] .colab-df-convert {\n",
       "      background-color: #3B4455;\n",
       "      fill: #D2E3FC;\n",
       "    }\n",
       "\n",
       "    [theme=dark] .colab-df-convert:hover {\n",
       "      background-color: #434B5C;\n",
       "      box-shadow: 0px 1px 3px 1px rgba(0, 0, 0, 0.15);\n",
       "      filter: drop-shadow(0px 1px 2px rgba(0, 0, 0, 0.3));\n",
       "      fill: #FFFFFF;\n",
       "    }\n",
       "  </style>\n",
       "\n",
       "    <script>\n",
       "      const buttonEl =\n",
       "        document.querySelector('#df-4254e13d-7677-45ca-8de8-f3a164d5ac55 button.colab-df-convert');\n",
       "      buttonEl.style.display =\n",
       "        google.colab.kernel.accessAllowed ? 'block' : 'none';\n",
       "\n",
       "      async function convertToInteractive(key) {\n",
       "        const element = document.querySelector('#df-4254e13d-7677-45ca-8de8-f3a164d5ac55');\n",
       "        const dataTable =\n",
       "          await google.colab.kernel.invokeFunction('convertToInteractive',\n",
       "                                                    [key], {});\n",
       "        if (!dataTable) return;\n",
       "\n",
       "        const docLinkHtml = 'Like what you see? Visit the ' +\n",
       "          '<a target=\"_blank\" href=https://colab.research.google.com/notebooks/data_table.ipynb>data table notebook</a>'\n",
       "          + ' to learn more about interactive tables.';\n",
       "        element.innerHTML = '';\n",
       "        dataTable['output_type'] = 'display_data';\n",
       "        await google.colab.output.renderOutput(dataTable, element);\n",
       "        const docLink = document.createElement('div');\n",
       "        docLink.innerHTML = docLinkHtml;\n",
       "        element.appendChild(docLink);\n",
       "      }\n",
       "    </script>\n",
       "  </div>\n",
       "\n",
       "    </div>\n",
       "  </div>\n"
      ],
      "text/plain": [
       "Empty DataFrame\n",
       "Columns: [year, make, model, trim_x, body_x, transmission_x, vin, state, condition, odometer, color_x, interior_x, seller, saledate, life_car]\n",
       "Index: []"
      ]
     },
     "execution_count": 112,
     "metadata": {},
     "output_type": "execute_result"
    }
   ],
   "source": [
    "test_fill.loc[test_fill['life_car'] == 0]"
   ]
  },
  {
   "cell_type": "code",
   "execution_count": 112,
   "id": "S-DrGOO-PJ8h",
   "metadata": {
    "executionInfo": {
     "elapsed": 30,
     "status": "ok",
     "timestamp": 1694150569062,
     "user": {
      "displayName": "Андрей Медведев",
      "userId": "02560461935100345008"
     },
     "user_tz": -180
    },
    "id": "S-DrGOO-PJ8h"
   },
   "outputs": [],
   "source": []
  },
  {
   "cell_type": "code",
   "execution_count": 113,
   "id": "jIK66zpZUCek",
   "metadata": {
    "colab": {
     "base_uri": "https://localhost:8080/",
     "height": 164
    },
    "executionInfo": {
     "elapsed": 30,
     "status": "ok",
     "timestamp": 1694150569063,
     "user": {
      "displayName": "Андрей Медведев",
      "userId": "02560461935100345008"
     },
     "user_tz": -180
    },
    "id": "jIK66zpZUCek",
    "outputId": "0ef1d5f8-6c15-44fb-f477-46d262914402"
   },
   "outputs": [
    {
     "data": {
      "text/html": [
       "\n",
       "  <div id=\"df-ab54ecb2-33ed-4937-82a4-5d63a6a3b3c8\" class=\"colab-df-container\">\n",
       "    <div>\n",
       "<style scoped>\n",
       "    .dataframe tbody tr th:only-of-type {\n",
       "        vertical-align: middle;\n",
       "    }\n",
       "\n",
       "    .dataframe tbody tr th {\n",
       "        vertical-align: top;\n",
       "    }\n",
       "\n",
       "    .dataframe thead th {\n",
       "        text-align: right;\n",
       "    }\n",
       "</style>\n",
       "<table border=\"1\" class=\"dataframe\">\n",
       "  <thead>\n",
       "    <tr style=\"text-align: right;\">\n",
       "      <th></th>\n",
       "      <th>year</th>\n",
       "      <th>make</th>\n",
       "      <th>model</th>\n",
       "      <th>trim_x</th>\n",
       "      <th>body_x</th>\n",
       "      <th>transmission_x</th>\n",
       "      <th>vin</th>\n",
       "      <th>state</th>\n",
       "      <th>condition</th>\n",
       "      <th>odometer</th>\n",
       "      <th>color_x</th>\n",
       "      <th>interior_x</th>\n",
       "      <th>seller</th>\n",
       "      <th>sellingprice</th>\n",
       "      <th>saledate</th>\n",
       "      <th>life_car</th>\n",
       "      <th>mean_go</th>\n",
       "    </tr>\n",
       "  </thead>\n",
       "  <tbody>\n",
       "    <tr>\n",
       "      <th>147398</th>\n",
       "      <td>2010</td>\n",
       "      <td>toyota</td>\n",
       "      <td>camry</td>\n",
       "      <td>le</td>\n",
       "      <td>sedan</td>\n",
       "      <td>automatic</td>\n",
       "      <td>4t1bf3ek6au024960</td>\n",
       "      <td>fl</td>\n",
       "      <td>3.3</td>\n",
       "      <td>99092.0</td>\n",
       "      <td>silver</td>\n",
       "      <td>gray</td>\n",
       "      <td>jpmorgan chase bank,n.a.</td>\n",
       "      <td>8000</td>\n",
       "      <td>2015</td>\n",
       "      <td>5</td>\n",
       "      <td>19818.400000</td>\n",
       "    </tr>\n",
       "    <tr>\n",
       "      <th>104308</th>\n",
       "      <td>2012</td>\n",
       "      <td>toyota</td>\n",
       "      <td>tacoma</td>\n",
       "      <td>prerunner v6</td>\n",
       "      <td>double cab</td>\n",
       "      <td>automatic</td>\n",
       "      <td>3tmju4gn8cm132717</td>\n",
       "      <td>ca</td>\n",
       "      <td>5.0</td>\n",
       "      <td>82333.0</td>\n",
       "      <td>white</td>\n",
       "      <td>gray</td>\n",
       "      <td>mountain motors inc</td>\n",
       "      <td>20750</td>\n",
       "      <td>2015</td>\n",
       "      <td>3</td>\n",
       "      <td>27444.333333</td>\n",
       "    </tr>\n",
       "  </tbody>\n",
       "</table>\n",
       "</div>\n",
       "    <div class=\"colab-df-buttons\">\n",
       "\n",
       "  <div class=\"colab-df-container\">\n",
       "    <button class=\"colab-df-convert\" onclick=\"convertToInteractive('df-ab54ecb2-33ed-4937-82a4-5d63a6a3b3c8')\"\n",
       "            title=\"Convert this dataframe to an interactive table.\"\n",
       "            style=\"display:none;\">\n",
       "\n",
       "  <svg xmlns=\"http://www.w3.org/2000/svg\" height=\"24px\" viewBox=\"0 -960 960 960\">\n",
       "    <path d=\"M120-120v-720h720v720H120Zm60-500h600v-160H180v160Zm220 220h160v-160H400v160Zm0 220h160v-160H400v160ZM180-400h160v-160H180v160Zm440 0h160v-160H620v160ZM180-180h160v-160H180v160Zm440 0h160v-160H620v160Z\"/>\n",
       "  </svg>\n",
       "    </button>\n",
       "\n",
       "  <style>\n",
       "    .colab-df-container {\n",
       "      display:flex;\n",
       "      gap: 12px;\n",
       "    }\n",
       "\n",
       "    .colab-df-convert {\n",
       "      background-color: #E8F0FE;\n",
       "      border: none;\n",
       "      border-radius: 50%;\n",
       "      cursor: pointer;\n",
       "      display: none;\n",
       "      fill: #1967D2;\n",
       "      height: 32px;\n",
       "      padding: 0 0 0 0;\n",
       "      width: 32px;\n",
       "    }\n",
       "\n",
       "    .colab-df-convert:hover {\n",
       "      background-color: #E2EBFA;\n",
       "      box-shadow: 0px 1px 2px rgba(60, 64, 67, 0.3), 0px 1px 3px 1px rgba(60, 64, 67, 0.15);\n",
       "      fill: #174EA6;\n",
       "    }\n",
       "\n",
       "    .colab-df-buttons div {\n",
       "      margin-bottom: 4px;\n",
       "    }\n",
       "\n",
       "    [theme=dark] .colab-df-convert {\n",
       "      background-color: #3B4455;\n",
       "      fill: #D2E3FC;\n",
       "    }\n",
       "\n",
       "    [theme=dark] .colab-df-convert:hover {\n",
       "      background-color: #434B5C;\n",
       "      box-shadow: 0px 1px 3px 1px rgba(0, 0, 0, 0.15);\n",
       "      filter: drop-shadow(0px 1px 2px rgba(0, 0, 0, 0.3));\n",
       "      fill: #FFFFFF;\n",
       "    }\n",
       "  </style>\n",
       "\n",
       "    <script>\n",
       "      const buttonEl =\n",
       "        document.querySelector('#df-ab54ecb2-33ed-4937-82a4-5d63a6a3b3c8 button.colab-df-convert');\n",
       "      buttonEl.style.display =\n",
       "        google.colab.kernel.accessAllowed ? 'block' : 'none';\n",
       "\n",
       "      async function convertToInteractive(key) {\n",
       "        const element = document.querySelector('#df-ab54ecb2-33ed-4937-82a4-5d63a6a3b3c8');\n",
       "        const dataTable =\n",
       "          await google.colab.kernel.invokeFunction('convertToInteractive',\n",
       "                                                    [key], {});\n",
       "        if (!dataTable) return;\n",
       "\n",
       "        const docLinkHtml = 'Like what you see? Visit the ' +\n",
       "          '<a target=\"_blank\" href=https://colab.research.google.com/notebooks/data_table.ipynb>data table notebook</a>'\n",
       "          + ' to learn more about interactive tables.';\n",
       "        element.innerHTML = '';\n",
       "        dataTable['output_type'] = 'display_data';\n",
       "        await google.colab.output.renderOutput(dataTable, element);\n",
       "        const docLink = document.createElement('div');\n",
       "        docLink.innerHTML = docLinkHtml;\n",
       "        element.appendChild(docLink);\n",
       "      }\n",
       "    </script>\n",
       "  </div>\n",
       "\n",
       "\n",
       "<div id=\"df-a1362970-e428-4ba2-b7b6-dfd62d79e9b2\">\n",
       "  <button class=\"colab-df-quickchart\" onclick=\"quickchart('df-a1362970-e428-4ba2-b7b6-dfd62d79e9b2')\"\n",
       "            title=\"Suggest charts.\"\n",
       "            style=\"display:none;\">\n",
       "\n",
       "<svg xmlns=\"http://www.w3.org/2000/svg\" height=\"24px\"viewBox=\"0 0 24 24\"\n",
       "     width=\"24px\">\n",
       "    <g>\n",
       "        <path d=\"M19 3H5c-1.1 0-2 .9-2 2v14c0 1.1.9 2 2 2h14c1.1 0 2-.9 2-2V5c0-1.1-.9-2-2-2zM9 17H7v-7h2v7zm4 0h-2V7h2v10zm4 0h-2v-4h2v4z\"/>\n",
       "    </g>\n",
       "</svg>\n",
       "  </button>\n",
       "\n",
       "<style>\n",
       "  .colab-df-quickchart {\n",
       "      --bg-color: #E8F0FE;\n",
       "      --fill-color: #1967D2;\n",
       "      --hover-bg-color: #E2EBFA;\n",
       "      --hover-fill-color: #174EA6;\n",
       "      --disabled-fill-color: #AAA;\n",
       "      --disabled-bg-color: #DDD;\n",
       "  }\n",
       "\n",
       "  [theme=dark] .colab-df-quickchart {\n",
       "      --bg-color: #3B4455;\n",
       "      --fill-color: #D2E3FC;\n",
       "      --hover-bg-color: #434B5C;\n",
       "      --hover-fill-color: #FFFFFF;\n",
       "      --disabled-bg-color: #3B4455;\n",
       "      --disabled-fill-color: #666;\n",
       "  }\n",
       "\n",
       "  .colab-df-quickchart {\n",
       "    background-color: var(--bg-color);\n",
       "    border: none;\n",
       "    border-radius: 50%;\n",
       "    cursor: pointer;\n",
       "    display: none;\n",
       "    fill: var(--fill-color);\n",
       "    height: 32px;\n",
       "    padding: 0;\n",
       "    width: 32px;\n",
       "  }\n",
       "\n",
       "  .colab-df-quickchart:hover {\n",
       "    background-color: var(--hover-bg-color);\n",
       "    box-shadow: 0 1px 2px rgba(60, 64, 67, 0.3), 0 1px 3px 1px rgba(60, 64, 67, 0.15);\n",
       "    fill: var(--button-hover-fill-color);\n",
       "  }\n",
       "\n",
       "  .colab-df-quickchart-complete:disabled,\n",
       "  .colab-df-quickchart-complete:disabled:hover {\n",
       "    background-color: var(--disabled-bg-color);\n",
       "    fill: var(--disabled-fill-color);\n",
       "    box-shadow: none;\n",
       "  }\n",
       "\n",
       "  .colab-df-spinner {\n",
       "    border: 2px solid var(--fill-color);\n",
       "    border-color: transparent;\n",
       "    border-bottom-color: var(--fill-color);\n",
       "    animation:\n",
       "      spin 1s steps(1) infinite;\n",
       "  }\n",
       "\n",
       "  @keyframes spin {\n",
       "    0% {\n",
       "      border-color: transparent;\n",
       "      border-bottom-color: var(--fill-color);\n",
       "      border-left-color: var(--fill-color);\n",
       "    }\n",
       "    20% {\n",
       "      border-color: transparent;\n",
       "      border-left-color: var(--fill-color);\n",
       "      border-top-color: var(--fill-color);\n",
       "    }\n",
       "    30% {\n",
       "      border-color: transparent;\n",
       "      border-left-color: var(--fill-color);\n",
       "      border-top-color: var(--fill-color);\n",
       "      border-right-color: var(--fill-color);\n",
       "    }\n",
       "    40% {\n",
       "      border-color: transparent;\n",
       "      border-right-color: var(--fill-color);\n",
       "      border-top-color: var(--fill-color);\n",
       "    }\n",
       "    60% {\n",
       "      border-color: transparent;\n",
       "      border-right-color: var(--fill-color);\n",
       "    }\n",
       "    80% {\n",
       "      border-color: transparent;\n",
       "      border-right-color: var(--fill-color);\n",
       "      border-bottom-color: var(--fill-color);\n",
       "    }\n",
       "    90% {\n",
       "      border-color: transparent;\n",
       "      border-bottom-color: var(--fill-color);\n",
       "    }\n",
       "  }\n",
       "</style>\n",
       "\n",
       "  <script>\n",
       "    async function quickchart(key) {\n",
       "      const quickchartButtonEl =\n",
       "        document.querySelector('#' + key + ' button');\n",
       "      quickchartButtonEl.disabled = true;  // To prevent multiple clicks.\n",
       "      quickchartButtonEl.classList.add('colab-df-spinner');\n",
       "      try {\n",
       "        const charts = await google.colab.kernel.invokeFunction(\n",
       "            'suggestCharts', [key], {});\n",
       "      } catch (error) {\n",
       "        console.error('Error during call to suggestCharts:', error);\n",
       "      }\n",
       "      quickchartButtonEl.classList.remove('colab-df-spinner');\n",
       "      quickchartButtonEl.classList.add('colab-df-quickchart-complete');\n",
       "    }\n",
       "    (() => {\n",
       "      let quickchartButtonEl =\n",
       "        document.querySelector('#df-a1362970-e428-4ba2-b7b6-dfd62d79e9b2 button');\n",
       "      quickchartButtonEl.style.display =\n",
       "        google.colab.kernel.accessAllowed ? 'block' : 'none';\n",
       "    })();\n",
       "  </script>\n",
       "</div>\n",
       "    </div>\n",
       "  </div>\n"
      ],
      "text/plain": [
       "        year    make   model        trim_x      body_x transmission_x  \\\n",
       "147398  2010  toyota   camry            le       sedan      automatic   \n",
       "104308  2012  toyota  tacoma  prerunner v6  double cab      automatic   \n",
       "\n",
       "                      vin state  condition  odometer color_x interior_x  \\\n",
       "147398  4t1bf3ek6au024960    fl        3.3   99092.0  silver       gray   \n",
       "104308  3tmju4gn8cm132717    ca        5.0   82333.0   white       gray   \n",
       "\n",
       "                          seller  sellingprice  saledate  life_car  \\\n",
       "147398  jpmorgan chase bank,n.a.          8000      2015         5   \n",
       "104308       mountain motors inc         20750      2015         3   \n",
       "\n",
       "             mean_go  \n",
       "147398  19818.400000  \n",
       "104308  27444.333333  "
      ]
     },
     "execution_count": 113,
     "metadata": {},
     "output_type": "execute_result"
    }
   ],
   "source": [
    "#расчёт среднегодового пробега\n",
    "#calculation of average annual mileage\n",
    "\n",
    "train_fill['mean_go'] = train_fill['odometer'] / train_fill['life_car']\n",
    "train_fill['mean_go'] = train_fill['mean_go'].astype('float')\n",
    "train_fill.sample(2)"
   ]
  },
  {
   "cell_type": "code",
   "execution_count": 114,
   "id": "ViTwlgPuPWY4",
   "metadata": {
    "colab": {
     "base_uri": "https://localhost:8080/",
     "height": 112
    },
    "executionInfo": {
     "elapsed": 27,
     "status": "ok",
     "timestamp": 1694150569063,
     "user": {
      "displayName": "Андрей Медведев",
      "userId": "02560461935100345008"
     },
     "user_tz": -180
    },
    "id": "ViTwlgPuPWY4",
    "outputId": "e5e81634-dc89-4630-f9d7-99c08003c7a4"
   },
   "outputs": [
    {
     "data": {
      "text/html": [
       "\n",
       "  <div id=\"df-98296cf2-f560-45b4-be98-f55aff9cb9a5\" class=\"colab-df-container\">\n",
       "    <div>\n",
       "<style scoped>\n",
       "    .dataframe tbody tr th:only-of-type {\n",
       "        vertical-align: middle;\n",
       "    }\n",
       "\n",
       "    .dataframe tbody tr th {\n",
       "        vertical-align: top;\n",
       "    }\n",
       "\n",
       "    .dataframe thead th {\n",
       "        text-align: right;\n",
       "    }\n",
       "</style>\n",
       "<table border=\"1\" class=\"dataframe\">\n",
       "  <thead>\n",
       "    <tr style=\"text-align: right;\">\n",
       "      <th></th>\n",
       "      <th>year</th>\n",
       "      <th>make</th>\n",
       "      <th>model</th>\n",
       "      <th>trim_x</th>\n",
       "      <th>body_x</th>\n",
       "      <th>transmission_x</th>\n",
       "      <th>vin</th>\n",
       "      <th>state</th>\n",
       "      <th>condition</th>\n",
       "      <th>odometer</th>\n",
       "      <th>color_x</th>\n",
       "      <th>interior_x</th>\n",
       "      <th>seller</th>\n",
       "      <th>saledate</th>\n",
       "      <th>life_car</th>\n",
       "      <th>mean_go</th>\n",
       "    </tr>\n",
       "  </thead>\n",
       "  <tbody>\n",
       "    <tr>\n",
       "      <th>57838</th>\n",
       "      <td>2013</td>\n",
       "      <td>bmw</td>\n",
       "      <td>x3</td>\n",
       "      <td>xdrive28i</td>\n",
       "      <td>suv</td>\n",
       "      <td>automatic</td>\n",
       "      <td>5uxwx9c57d0a23851</td>\n",
       "      <td>pa</td>\n",
       "      <td>2.6</td>\n",
       "      <td>46742.0</td>\n",
       "      <td>white</td>\n",
       "      <td>beige</td>\n",
       "      <td>j magnone auto group llc</td>\n",
       "      <td>2015</td>\n",
       "      <td>2</td>\n",
       "      <td>23371.000000</td>\n",
       "    </tr>\n",
       "    <tr>\n",
       "      <th>38480</th>\n",
       "      <td>2009</td>\n",
       "      <td>pontiac</td>\n",
       "      <td>g3</td>\n",
       "      <td>base</td>\n",
       "      <td>hatchback</td>\n",
       "      <td>automatic</td>\n",
       "      <td>kl2td66e19b667641</td>\n",
       "      <td>pa</td>\n",
       "      <td>1.9</td>\n",
       "      <td>65545.0</td>\n",
       "      <td>red</td>\n",
       "      <td>black</td>\n",
       "      <td>wheels of fortune auto, inc</td>\n",
       "      <td>2015</td>\n",
       "      <td>6</td>\n",
       "      <td>10924.166667</td>\n",
       "    </tr>\n",
       "  </tbody>\n",
       "</table>\n",
       "</div>\n",
       "    <div class=\"colab-df-buttons\">\n",
       "\n",
       "  <div class=\"colab-df-container\">\n",
       "    <button class=\"colab-df-convert\" onclick=\"convertToInteractive('df-98296cf2-f560-45b4-be98-f55aff9cb9a5')\"\n",
       "            title=\"Convert this dataframe to an interactive table.\"\n",
       "            style=\"display:none;\">\n",
       "\n",
       "  <svg xmlns=\"http://www.w3.org/2000/svg\" height=\"24px\" viewBox=\"0 -960 960 960\">\n",
       "    <path d=\"M120-120v-720h720v720H120Zm60-500h600v-160H180v160Zm220 220h160v-160H400v160Zm0 220h160v-160H400v160ZM180-400h160v-160H180v160Zm440 0h160v-160H620v160ZM180-180h160v-160H180v160Zm440 0h160v-160H620v160Z\"/>\n",
       "  </svg>\n",
       "    </button>\n",
       "\n",
       "  <style>\n",
       "    .colab-df-container {\n",
       "      display:flex;\n",
       "      gap: 12px;\n",
       "    }\n",
       "\n",
       "    .colab-df-convert {\n",
       "      background-color: #E8F0FE;\n",
       "      border: none;\n",
       "      border-radius: 50%;\n",
       "      cursor: pointer;\n",
       "      display: none;\n",
       "      fill: #1967D2;\n",
       "      height: 32px;\n",
       "      padding: 0 0 0 0;\n",
       "      width: 32px;\n",
       "    }\n",
       "\n",
       "    .colab-df-convert:hover {\n",
       "      background-color: #E2EBFA;\n",
       "      box-shadow: 0px 1px 2px rgba(60, 64, 67, 0.3), 0px 1px 3px 1px rgba(60, 64, 67, 0.15);\n",
       "      fill: #174EA6;\n",
       "    }\n",
       "\n",
       "    .colab-df-buttons div {\n",
       "      margin-bottom: 4px;\n",
       "    }\n",
       "\n",
       "    [theme=dark] .colab-df-convert {\n",
       "      background-color: #3B4455;\n",
       "      fill: #D2E3FC;\n",
       "    }\n",
       "\n",
       "    [theme=dark] .colab-df-convert:hover {\n",
       "      background-color: #434B5C;\n",
       "      box-shadow: 0px 1px 3px 1px rgba(0, 0, 0, 0.15);\n",
       "      filter: drop-shadow(0px 1px 2px rgba(0, 0, 0, 0.3));\n",
       "      fill: #FFFFFF;\n",
       "    }\n",
       "  </style>\n",
       "\n",
       "    <script>\n",
       "      const buttonEl =\n",
       "        document.querySelector('#df-98296cf2-f560-45b4-be98-f55aff9cb9a5 button.colab-df-convert');\n",
       "      buttonEl.style.display =\n",
       "        google.colab.kernel.accessAllowed ? 'block' : 'none';\n",
       "\n",
       "      async function convertToInteractive(key) {\n",
       "        const element = document.querySelector('#df-98296cf2-f560-45b4-be98-f55aff9cb9a5');\n",
       "        const dataTable =\n",
       "          await google.colab.kernel.invokeFunction('convertToInteractive',\n",
       "                                                    [key], {});\n",
       "        if (!dataTable) return;\n",
       "\n",
       "        const docLinkHtml = 'Like what you see? Visit the ' +\n",
       "          '<a target=\"_blank\" href=https://colab.research.google.com/notebooks/data_table.ipynb>data table notebook</a>'\n",
       "          + ' to learn more about interactive tables.';\n",
       "        element.innerHTML = '';\n",
       "        dataTable['output_type'] = 'display_data';\n",
       "        await google.colab.output.renderOutput(dataTable, element);\n",
       "        const docLink = document.createElement('div');\n",
       "        docLink.innerHTML = docLinkHtml;\n",
       "        element.appendChild(docLink);\n",
       "      }\n",
       "    </script>\n",
       "  </div>\n",
       "\n",
       "\n",
       "<div id=\"df-42b97bf0-ceb3-48e9-8347-cc76c00bf0f6\">\n",
       "  <button class=\"colab-df-quickchart\" onclick=\"quickchart('df-42b97bf0-ceb3-48e9-8347-cc76c00bf0f6')\"\n",
       "            title=\"Suggest charts.\"\n",
       "            style=\"display:none;\">\n",
       "\n",
       "<svg xmlns=\"http://www.w3.org/2000/svg\" height=\"24px\"viewBox=\"0 0 24 24\"\n",
       "     width=\"24px\">\n",
       "    <g>\n",
       "        <path d=\"M19 3H5c-1.1 0-2 .9-2 2v14c0 1.1.9 2 2 2h14c1.1 0 2-.9 2-2V5c0-1.1-.9-2-2-2zM9 17H7v-7h2v7zm4 0h-2V7h2v10zm4 0h-2v-4h2v4z\"/>\n",
       "    </g>\n",
       "</svg>\n",
       "  </button>\n",
       "\n",
       "<style>\n",
       "  .colab-df-quickchart {\n",
       "      --bg-color: #E8F0FE;\n",
       "      --fill-color: #1967D2;\n",
       "      --hover-bg-color: #E2EBFA;\n",
       "      --hover-fill-color: #174EA6;\n",
       "      --disabled-fill-color: #AAA;\n",
       "      --disabled-bg-color: #DDD;\n",
       "  }\n",
       "\n",
       "  [theme=dark] .colab-df-quickchart {\n",
       "      --bg-color: #3B4455;\n",
       "      --fill-color: #D2E3FC;\n",
       "      --hover-bg-color: #434B5C;\n",
       "      --hover-fill-color: #FFFFFF;\n",
       "      --disabled-bg-color: #3B4455;\n",
       "      --disabled-fill-color: #666;\n",
       "  }\n",
       "\n",
       "  .colab-df-quickchart {\n",
       "    background-color: var(--bg-color);\n",
       "    border: none;\n",
       "    border-radius: 50%;\n",
       "    cursor: pointer;\n",
       "    display: none;\n",
       "    fill: var(--fill-color);\n",
       "    height: 32px;\n",
       "    padding: 0;\n",
       "    width: 32px;\n",
       "  }\n",
       "\n",
       "  .colab-df-quickchart:hover {\n",
       "    background-color: var(--hover-bg-color);\n",
       "    box-shadow: 0 1px 2px rgba(60, 64, 67, 0.3), 0 1px 3px 1px rgba(60, 64, 67, 0.15);\n",
       "    fill: var(--button-hover-fill-color);\n",
       "  }\n",
       "\n",
       "  .colab-df-quickchart-complete:disabled,\n",
       "  .colab-df-quickchart-complete:disabled:hover {\n",
       "    background-color: var(--disabled-bg-color);\n",
       "    fill: var(--disabled-fill-color);\n",
       "    box-shadow: none;\n",
       "  }\n",
       "\n",
       "  .colab-df-spinner {\n",
       "    border: 2px solid var(--fill-color);\n",
       "    border-color: transparent;\n",
       "    border-bottom-color: var(--fill-color);\n",
       "    animation:\n",
       "      spin 1s steps(1) infinite;\n",
       "  }\n",
       "\n",
       "  @keyframes spin {\n",
       "    0% {\n",
       "      border-color: transparent;\n",
       "      border-bottom-color: var(--fill-color);\n",
       "      border-left-color: var(--fill-color);\n",
       "    }\n",
       "    20% {\n",
       "      border-color: transparent;\n",
       "      border-left-color: var(--fill-color);\n",
       "      border-top-color: var(--fill-color);\n",
       "    }\n",
       "    30% {\n",
       "      border-color: transparent;\n",
       "      border-left-color: var(--fill-color);\n",
       "      border-top-color: var(--fill-color);\n",
       "      border-right-color: var(--fill-color);\n",
       "    }\n",
       "    40% {\n",
       "      border-color: transparent;\n",
       "      border-right-color: var(--fill-color);\n",
       "      border-top-color: var(--fill-color);\n",
       "    }\n",
       "    60% {\n",
       "      border-color: transparent;\n",
       "      border-right-color: var(--fill-color);\n",
       "    }\n",
       "    80% {\n",
       "      border-color: transparent;\n",
       "      border-right-color: var(--fill-color);\n",
       "      border-bottom-color: var(--fill-color);\n",
       "    }\n",
       "    90% {\n",
       "      border-color: transparent;\n",
       "      border-bottom-color: var(--fill-color);\n",
       "    }\n",
       "  }\n",
       "</style>\n",
       "\n",
       "  <script>\n",
       "    async function quickchart(key) {\n",
       "      const quickchartButtonEl =\n",
       "        document.querySelector('#' + key + ' button');\n",
       "      quickchartButtonEl.disabled = true;  // To prevent multiple clicks.\n",
       "      quickchartButtonEl.classList.add('colab-df-spinner');\n",
       "      try {\n",
       "        const charts = await google.colab.kernel.invokeFunction(\n",
       "            'suggestCharts', [key], {});\n",
       "      } catch (error) {\n",
       "        console.error('Error during call to suggestCharts:', error);\n",
       "      }\n",
       "      quickchartButtonEl.classList.remove('colab-df-spinner');\n",
       "      quickchartButtonEl.classList.add('colab-df-quickchart-complete');\n",
       "    }\n",
       "    (() => {\n",
       "      let quickchartButtonEl =\n",
       "        document.querySelector('#df-42b97bf0-ceb3-48e9-8347-cc76c00bf0f6 button');\n",
       "      quickchartButtonEl.style.display =\n",
       "        google.colab.kernel.accessAllowed ? 'block' : 'none';\n",
       "    })();\n",
       "  </script>\n",
       "</div>\n",
       "    </div>\n",
       "  </div>\n"
      ],
      "text/plain": [
       "       year     make model     trim_x     body_x transmission_x  \\\n",
       "57838  2013      bmw    x3  xdrive28i        suv      automatic   \n",
       "38480  2009  pontiac    g3       base  hatchback      automatic   \n",
       "\n",
       "                     vin state  condition  odometer color_x interior_x  \\\n",
       "57838  5uxwx9c57d0a23851    pa        2.6   46742.0   white      beige   \n",
       "38480  kl2td66e19b667641    pa        1.9   65545.0     red      black   \n",
       "\n",
       "                            seller  saledate  life_car       mean_go  \n",
       "57838     j magnone auto group llc      2015         2  23371.000000  \n",
       "38480  wheels of fortune auto, inc      2015         6  10924.166667  "
      ]
     },
     "execution_count": 114,
     "metadata": {},
     "output_type": "execute_result"
    }
   ],
   "source": [
    "test_fill['mean_go'] = test_fill['odometer'] / test_fill['life_car']\n",
    "test_fill['mean_go'] = test_fill['mean_go'].astype('float')\n",
    "test_fill.sample(2)"
   ]
  },
  {
   "cell_type": "code",
   "execution_count": 115,
   "id": "cioEoL36UCmN",
   "metadata": {
    "colab": {
     "base_uri": "https://localhost:8080/"
    },
    "executionInfo": {
     "elapsed": 406,
     "status": "ok",
     "timestamp": 1694150569444,
     "user": {
      "displayName": "Андрей Медведев",
      "userId": "02560461935100345008"
     },
     "user_tz": -180
    },
    "id": "cioEoL36UCmN",
    "outputId": "4f443227-efd9-4143-f349-9e163a107a5a"
   },
   "outputs": [
    {
     "data": {
      "text/plain": [
       "year                 0\n",
       "make                 0\n",
       "model                0\n",
       "trim_x               0\n",
       "body_x               0\n",
       "transmission_x       0\n",
       "vin                  0\n",
       "state                0\n",
       "condition         9291\n",
       "odometer             0\n",
       "color_x              0\n",
       "interior_x           0\n",
       "seller               0\n",
       "sellingprice         0\n",
       "saledate             0\n",
       "life_car             0\n",
       "mean_go              0\n",
       "dtype: int64"
      ]
     },
     "execution_count": 115,
     "metadata": {},
     "output_type": "execute_result"
    }
   ],
   "source": [
    "train_fill.isna().sum()"
   ]
  },
  {
   "cell_type": "code",
   "execution_count": 116,
   "id": "xtrB6uSwPdUh",
   "metadata": {
    "colab": {
     "base_uri": "https://localhost:8080/"
    },
    "executionInfo": {
     "elapsed": 366,
     "status": "ok",
     "timestamp": 1694150569808,
     "user": {
      "displayName": "Андрей Медведев",
      "userId": "02560461935100345008"
     },
     "user_tz": -180
    },
    "id": "xtrB6uSwPdUh",
    "outputId": "ee939215-9fda-4b2e-eb1c-eb8ccf036074"
   },
   "outputs": [
    {
     "data": {
      "text/plain": [
       "year                 0\n",
       "make                 0\n",
       "model                0\n",
       "trim_x               0\n",
       "body_x               0\n",
       "transmission_x       0\n",
       "vin                  0\n",
       "state                0\n",
       "condition         2379\n",
       "odometer             0\n",
       "color_x              0\n",
       "interior_x           0\n",
       "seller               0\n",
       "saledate             0\n",
       "life_car             0\n",
       "mean_go              0\n",
       "dtype: int64"
      ]
     },
     "execution_count": 116,
     "metadata": {},
     "output_type": "execute_result"
    }
   ],
   "source": [
    "test_fill.isna().sum()"
   ]
  },
  {
   "cell_type": "code",
   "execution_count": 117,
   "id": "0ZQTbuVE2k5e",
   "metadata": {
    "colab": {
     "base_uri": "https://localhost:8080/"
    },
    "executionInfo": {
     "elapsed": 756,
     "status": "ok",
     "timestamp": 1694150570563,
     "user": {
      "displayName": "Андрей Медведев",
      "userId": "02560461935100345008"
     },
     "user_tz": -180
    },
    "id": "0ZQTbuVE2k5e",
    "outputId": "eda1686b-e4f2-4c3a-8982-92fb70a8b2b7"
   },
   "outputs": [
    {
     "name": "stdout",
     "output_type": "stream",
     "text": [
      "<class 'pandas.core.frame.DataFrame'>\n",
      "Int64Index: 432046 entries, 0 to 432112\n",
      "Data columns (total 17 columns):\n",
      " #   Column          Non-Null Count   Dtype  \n",
      "---  ------          --------------   -----  \n",
      " 0   year            432046 non-null  int64  \n",
      " 1   make            432046 non-null  object \n",
      " 2   model           432046 non-null  object \n",
      " 3   trim_x          432046 non-null  object \n",
      " 4   body_x          432046 non-null  object \n",
      " 5   transmission_x  432046 non-null  object \n",
      " 6   vin             432046 non-null  object \n",
      " 7   state           432046 non-null  object \n",
      " 8   condition       422755 non-null  float64\n",
      " 9   odometer        432046 non-null  float64\n",
      " 10  color_x         432046 non-null  object \n",
      " 11  interior_x      432046 non-null  object \n",
      " 12  seller          432046 non-null  object \n",
      " 13  sellingprice    432046 non-null  int64  \n",
      " 14  saledate        432046 non-null  Int32  \n",
      " 15  life_car        432046 non-null  Int64  \n",
      " 16  mean_go         432046 non-null  float64\n",
      "dtypes: Int32(1), Int64(1), float64(3), int64(2), object(10)\n",
      "memory usage: 74.6+ MB\n"
     ]
    }
   ],
   "source": [
    "train_fill.info()"
   ]
  },
  {
   "cell_type": "code",
   "execution_count": 118,
   "id": "EMc946PmQQ0M",
   "metadata": {
    "colab": {
     "base_uri": "https://localhost:8080/"
    },
    "executionInfo": {
     "elapsed": 28,
     "status": "ok",
     "timestamp": 1694150570564,
     "user": {
      "displayName": "Андрей Медведев",
      "userId": "02560461935100345008"
     },
     "user_tz": -180
    },
    "id": "EMc946PmQQ0M",
    "outputId": "5c881e6a-5c3c-4de0-c2b0-a088aec00c01"
   },
   "outputs": [
    {
     "name": "stdout",
     "output_type": "stream",
     "text": [
      "<class 'pandas.core.frame.DataFrame'>\n",
      "Int64Index: 110058 entries, 0 to 110057\n",
      "Data columns (total 16 columns):\n",
      " #   Column          Non-Null Count   Dtype  \n",
      "---  ------          --------------   -----  \n",
      " 0   year            110058 non-null  int64  \n",
      " 1   make            110058 non-null  object \n",
      " 2   model           110058 non-null  object \n",
      " 3   trim_x          110058 non-null  object \n",
      " 4   body_x          110058 non-null  object \n",
      " 5   transmission_x  110058 non-null  object \n",
      " 6   vin             110058 non-null  object \n",
      " 7   state           110058 non-null  object \n",
      " 8   condition       107679 non-null  float64\n",
      " 9   odometer        110058 non-null  float64\n",
      " 10  color_x         110058 non-null  object \n",
      " 11  interior_x      110058 non-null  object \n",
      " 12  seller          110058 non-null  object \n",
      " 13  saledate        110058 non-null  Int32  \n",
      " 14  life_car        110058 non-null  Int64  \n",
      " 15  mean_go         110058 non-null  float64\n",
      "dtypes: Int32(1), Int64(1), float64(3), int64(1), object(10)\n",
      "memory usage: 14.1+ MB\n"
     ]
    }
   ],
   "source": [
    "test_fill.info()"
   ]
  },
  {
   "cell_type": "code",
   "execution_count": 119,
   "id": "Fyy3k46OoHyL",
   "metadata": {
    "colab": {
     "base_uri": "https://localhost:8080/",
     "height": 53
    },
    "executionInfo": {
     "elapsed": 15,
     "status": "ok",
     "timestamp": 1694150570565,
     "user": {
      "displayName": "Андрей Медведев",
      "userId": "02560461935100345008"
     },
     "user_tz": -180
    },
    "id": "Fyy3k46OoHyL",
    "outputId": "fa6d0fb2-44ef-42cb-f028-57a70030be5f"
   },
   "outputs": [
    {
     "data": {
      "text/html": [
       "\n",
       "  <div id=\"df-fac99c30-f773-4e0b-bca2-60f0fe4d5c78\" class=\"colab-df-container\">\n",
       "    <div>\n",
       "<style scoped>\n",
       "    .dataframe tbody tr th:only-of-type {\n",
       "        vertical-align: middle;\n",
       "    }\n",
       "\n",
       "    .dataframe tbody tr th {\n",
       "        vertical-align: top;\n",
       "    }\n",
       "\n",
       "    .dataframe thead th {\n",
       "        text-align: right;\n",
       "    }\n",
       "</style>\n",
       "<table border=\"1\" class=\"dataframe\">\n",
       "  <thead>\n",
       "    <tr style=\"text-align: right;\">\n",
       "      <th></th>\n",
       "      <th>year</th>\n",
       "      <th>make</th>\n",
       "      <th>model</th>\n",
       "      <th>trim_x</th>\n",
       "      <th>body_x</th>\n",
       "      <th>transmission_x</th>\n",
       "      <th>vin</th>\n",
       "      <th>state</th>\n",
       "      <th>condition</th>\n",
       "      <th>odometer</th>\n",
       "      <th>color_x</th>\n",
       "      <th>interior_x</th>\n",
       "      <th>seller</th>\n",
       "      <th>sellingprice</th>\n",
       "      <th>saledate</th>\n",
       "      <th>life_car</th>\n",
       "      <th>mean_go</th>\n",
       "    </tr>\n",
       "  </thead>\n",
       "  <tbody>\n",
       "  </tbody>\n",
       "</table>\n",
       "</div>\n",
       "    <div class=\"colab-df-buttons\">\n",
       "\n",
       "  <div class=\"colab-df-container\">\n",
       "    <button class=\"colab-df-convert\" onclick=\"convertToInteractive('df-fac99c30-f773-4e0b-bca2-60f0fe4d5c78')\"\n",
       "            title=\"Convert this dataframe to an interactive table.\"\n",
       "            style=\"display:none;\">\n",
       "\n",
       "  <svg xmlns=\"http://www.w3.org/2000/svg\" height=\"24px\" viewBox=\"0 -960 960 960\">\n",
       "    <path d=\"M120-120v-720h720v720H120Zm60-500h600v-160H180v160Zm220 220h160v-160H400v160Zm0 220h160v-160H400v160ZM180-400h160v-160H180v160Zm440 0h160v-160H620v160ZM180-180h160v-160H180v160Zm440 0h160v-160H620v160Z\"/>\n",
       "  </svg>\n",
       "    </button>\n",
       "\n",
       "  <style>\n",
       "    .colab-df-container {\n",
       "      display:flex;\n",
       "      gap: 12px;\n",
       "    }\n",
       "\n",
       "    .colab-df-convert {\n",
       "      background-color: #E8F0FE;\n",
       "      border: none;\n",
       "      border-radius: 50%;\n",
       "      cursor: pointer;\n",
       "      display: none;\n",
       "      fill: #1967D2;\n",
       "      height: 32px;\n",
       "      padding: 0 0 0 0;\n",
       "      width: 32px;\n",
       "    }\n",
       "\n",
       "    .colab-df-convert:hover {\n",
       "      background-color: #E2EBFA;\n",
       "      box-shadow: 0px 1px 2px rgba(60, 64, 67, 0.3), 0px 1px 3px 1px rgba(60, 64, 67, 0.15);\n",
       "      fill: #174EA6;\n",
       "    }\n",
       "\n",
       "    .colab-df-buttons div {\n",
       "      margin-bottom: 4px;\n",
       "    }\n",
       "\n",
       "    [theme=dark] .colab-df-convert {\n",
       "      background-color: #3B4455;\n",
       "      fill: #D2E3FC;\n",
       "    }\n",
       "\n",
       "    [theme=dark] .colab-df-convert:hover {\n",
       "      background-color: #434B5C;\n",
       "      box-shadow: 0px 1px 3px 1px rgba(0, 0, 0, 0.15);\n",
       "      filter: drop-shadow(0px 1px 2px rgba(0, 0, 0, 0.3));\n",
       "      fill: #FFFFFF;\n",
       "    }\n",
       "  </style>\n",
       "\n",
       "    <script>\n",
       "      const buttonEl =\n",
       "        document.querySelector('#df-fac99c30-f773-4e0b-bca2-60f0fe4d5c78 button.colab-df-convert');\n",
       "      buttonEl.style.display =\n",
       "        google.colab.kernel.accessAllowed ? 'block' : 'none';\n",
       "\n",
       "      async function convertToInteractive(key) {\n",
       "        const element = document.querySelector('#df-fac99c30-f773-4e0b-bca2-60f0fe4d5c78');\n",
       "        const dataTable =\n",
       "          await google.colab.kernel.invokeFunction('convertToInteractive',\n",
       "                                                    [key], {});\n",
       "        if (!dataTable) return;\n",
       "\n",
       "        const docLinkHtml = 'Like what you see? Visit the ' +\n",
       "          '<a target=\"_blank\" href=https://colab.research.google.com/notebooks/data_table.ipynb>data table notebook</a>'\n",
       "          + ' to learn more about interactive tables.';\n",
       "        element.innerHTML = '';\n",
       "        dataTable['output_type'] = 'display_data';\n",
       "        await google.colab.output.renderOutput(dataTable, element);\n",
       "        const docLink = document.createElement('div');\n",
       "        docLink.innerHTML = docLinkHtml;\n",
       "        element.appendChild(docLink);\n",
       "      }\n",
       "    </script>\n",
       "  </div>\n",
       "\n",
       "    </div>\n",
       "  </div>\n"
      ],
      "text/plain": [
       "Empty DataFrame\n",
       "Columns: [year, make, model, trim_x, body_x, transmission_x, vin, state, condition, odometer, color_x, interior_x, seller, sellingprice, saledate, life_car, mean_go]\n",
       "Index: []"
      ]
     },
     "execution_count": 119,
     "metadata": {},
     "output_type": "execute_result"
    }
   ],
   "source": [
    "train_fill.loc[train_fill['odometer'].isna()]"
   ]
  },
  {
   "cell_type": "code",
   "execution_count": 120,
   "id": "6TxW5folZMpY",
   "metadata": {
    "executionInfo": {
     "elapsed": 12,
     "status": "ok",
     "timestamp": 1694150570565,
     "user": {
      "displayName": "Андрей Медведев",
      "userId": "02560461935100345008"
     },
     "user_tz": -180
    },
    "id": "6TxW5folZMpY"
   },
   "outputs": [],
   "source": [
    "#заполнение пробега. Медианное значение пробега умножить на срок жизни машины\n",
    "# fill mileage. Median mileage multiplied by the life of the car\n",
    "\n",
    "train_fill.loc[train_fill['odometer'].isna(), 'odometer'] = train_fill['life_car'] * train_fill['mean_go'].median()"
   ]
  },
  {
   "cell_type": "code",
   "execution_count": 121,
   "id": "V3Xw4tLc000S",
   "metadata": {
    "colab": {
     "base_uri": "https://localhost:8080/"
    },
    "executionInfo": {
     "elapsed": 959,
     "status": "ok",
     "timestamp": 1694150571513,
     "user": {
      "displayName": "Андрей Медведев",
      "userId": "02560461935100345008"
     },
     "user_tz": -180
    },
    "id": "V3Xw4tLc000S",
    "outputId": "1809ab88-8876-4ab9-93e4-98bc62b71767"
   },
   "outputs": [
    {
     "data": {
      "text/plain": [
       "year                 0\n",
       "make                 0\n",
       "model                0\n",
       "trim_x               0\n",
       "body_x               0\n",
       "transmission_x       0\n",
       "vin                  0\n",
       "state                0\n",
       "condition         9291\n",
       "odometer             0\n",
       "color_x              0\n",
       "interior_x           0\n",
       "seller               0\n",
       "sellingprice         0\n",
       "saledate             0\n",
       "life_car             0\n",
       "mean_go              0\n",
       "dtype: int64"
      ]
     },
     "execution_count": 121,
     "metadata": {},
     "output_type": "execute_result"
    }
   ],
   "source": [
    "train_fill.isna().sum()"
   ]
  },
  {
   "cell_type": "code",
   "execution_count": 122,
   "id": "ntF6ZDDCm2Rl",
   "metadata": {
    "colab": {
     "base_uri": "https://localhost:8080/",
     "height": 143
    },
    "executionInfo": {
     "elapsed": 28,
     "status": "ok",
     "timestamp": 1694150571514,
     "user": {
      "displayName": "Андрей Медведев",
      "userId": "02560461935100345008"
     },
     "user_tz": -180
    },
    "id": "ntF6ZDDCm2Rl",
    "outputId": "8840b8c4-47fd-4281-fdb1-00698328d7d5"
   },
   "outputs": [
    {
     "data": {
      "text/html": [
       "\n",
       "  <div id=\"df-7bd10ec6-69f9-47ce-96d6-ef1a06fed06b\" class=\"colab-df-container\">\n",
       "    <div>\n",
       "<style scoped>\n",
       "    .dataframe tbody tr th:only-of-type {\n",
       "        vertical-align: middle;\n",
       "    }\n",
       "\n",
       "    .dataframe tbody tr th {\n",
       "        vertical-align: top;\n",
       "    }\n",
       "\n",
       "    .dataframe thead th {\n",
       "        text-align: right;\n",
       "    }\n",
       "</style>\n",
       "<table border=\"1\" class=\"dataframe\">\n",
       "  <thead>\n",
       "    <tr style=\"text-align: right;\">\n",
       "      <th></th>\n",
       "      <th>condition</th>\n",
       "      <th>life_car</th>\n",
       "      <th>odometer</th>\n",
       "    </tr>\n",
       "  </thead>\n",
       "  <tbody>\n",
       "    <tr>\n",
       "      <th>condition</th>\n",
       "      <td>1.000000</td>\n",
       "      <td>-0.547665</td>\n",
       "      <td>-0.538087</td>\n",
       "    </tr>\n",
       "    <tr>\n",
       "      <th>life_car</th>\n",
       "      <td>-0.547665</td>\n",
       "      <td>1.000000</td>\n",
       "      <td>0.773951</td>\n",
       "    </tr>\n",
       "    <tr>\n",
       "      <th>odometer</th>\n",
       "      <td>-0.538087</td>\n",
       "      <td>0.773951</td>\n",
       "      <td>1.000000</td>\n",
       "    </tr>\n",
       "  </tbody>\n",
       "</table>\n",
       "</div>\n",
       "    <div class=\"colab-df-buttons\">\n",
       "\n",
       "  <div class=\"colab-df-container\">\n",
       "    <button class=\"colab-df-convert\" onclick=\"convertToInteractive('df-7bd10ec6-69f9-47ce-96d6-ef1a06fed06b')\"\n",
       "            title=\"Convert this dataframe to an interactive table.\"\n",
       "            style=\"display:none;\">\n",
       "\n",
       "  <svg xmlns=\"http://www.w3.org/2000/svg\" height=\"24px\" viewBox=\"0 -960 960 960\">\n",
       "    <path d=\"M120-120v-720h720v720H120Zm60-500h600v-160H180v160Zm220 220h160v-160H400v160Zm0 220h160v-160H400v160ZM180-400h160v-160H180v160Zm440 0h160v-160H620v160ZM180-180h160v-160H180v160Zm440 0h160v-160H620v160Z\"/>\n",
       "  </svg>\n",
       "    </button>\n",
       "\n",
       "  <style>\n",
       "    .colab-df-container {\n",
       "      display:flex;\n",
       "      gap: 12px;\n",
       "    }\n",
       "\n",
       "    .colab-df-convert {\n",
       "      background-color: #E8F0FE;\n",
       "      border: none;\n",
       "      border-radius: 50%;\n",
       "      cursor: pointer;\n",
       "      display: none;\n",
       "      fill: #1967D2;\n",
       "      height: 32px;\n",
       "      padding: 0 0 0 0;\n",
       "      width: 32px;\n",
       "    }\n",
       "\n",
       "    .colab-df-convert:hover {\n",
       "      background-color: #E2EBFA;\n",
       "      box-shadow: 0px 1px 2px rgba(60, 64, 67, 0.3), 0px 1px 3px 1px rgba(60, 64, 67, 0.15);\n",
       "      fill: #174EA6;\n",
       "    }\n",
       "\n",
       "    .colab-df-buttons div {\n",
       "      margin-bottom: 4px;\n",
       "    }\n",
       "\n",
       "    [theme=dark] .colab-df-convert {\n",
       "      background-color: #3B4455;\n",
       "      fill: #D2E3FC;\n",
       "    }\n",
       "\n",
       "    [theme=dark] .colab-df-convert:hover {\n",
       "      background-color: #434B5C;\n",
       "      box-shadow: 0px 1px 3px 1px rgba(0, 0, 0, 0.15);\n",
       "      filter: drop-shadow(0px 1px 2px rgba(0, 0, 0, 0.3));\n",
       "      fill: #FFFFFF;\n",
       "    }\n",
       "  </style>\n",
       "\n",
       "    <script>\n",
       "      const buttonEl =\n",
       "        document.querySelector('#df-7bd10ec6-69f9-47ce-96d6-ef1a06fed06b button.colab-df-convert');\n",
       "      buttonEl.style.display =\n",
       "        google.colab.kernel.accessAllowed ? 'block' : 'none';\n",
       "\n",
       "      async function convertToInteractive(key) {\n",
       "        const element = document.querySelector('#df-7bd10ec6-69f9-47ce-96d6-ef1a06fed06b');\n",
       "        const dataTable =\n",
       "          await google.colab.kernel.invokeFunction('convertToInteractive',\n",
       "                                                    [key], {});\n",
       "        if (!dataTable) return;\n",
       "\n",
       "        const docLinkHtml = 'Like what you see? Visit the ' +\n",
       "          '<a target=\"_blank\" href=https://colab.research.google.com/notebooks/data_table.ipynb>data table notebook</a>'\n",
       "          + ' to learn more about interactive tables.';\n",
       "        element.innerHTML = '';\n",
       "        dataTable['output_type'] = 'display_data';\n",
       "        await google.colab.output.renderOutput(dataTable, element);\n",
       "        const docLink = document.createElement('div');\n",
       "        docLink.innerHTML = docLinkHtml;\n",
       "        element.appendChild(docLink);\n",
       "      }\n",
       "    </script>\n",
       "  </div>\n",
       "\n",
       "\n",
       "<div id=\"df-c72b61a3-6767-40aa-bcf6-0a094f2017d7\">\n",
       "  <button class=\"colab-df-quickchart\" onclick=\"quickchart('df-c72b61a3-6767-40aa-bcf6-0a094f2017d7')\"\n",
       "            title=\"Suggest charts.\"\n",
       "            style=\"display:none;\">\n",
       "\n",
       "<svg xmlns=\"http://www.w3.org/2000/svg\" height=\"24px\"viewBox=\"0 0 24 24\"\n",
       "     width=\"24px\">\n",
       "    <g>\n",
       "        <path d=\"M19 3H5c-1.1 0-2 .9-2 2v14c0 1.1.9 2 2 2h14c1.1 0 2-.9 2-2V5c0-1.1-.9-2-2-2zM9 17H7v-7h2v7zm4 0h-2V7h2v10zm4 0h-2v-4h2v4z\"/>\n",
       "    </g>\n",
       "</svg>\n",
       "  </button>\n",
       "\n",
       "<style>\n",
       "  .colab-df-quickchart {\n",
       "      --bg-color: #E8F0FE;\n",
       "      --fill-color: #1967D2;\n",
       "      --hover-bg-color: #E2EBFA;\n",
       "      --hover-fill-color: #174EA6;\n",
       "      --disabled-fill-color: #AAA;\n",
       "      --disabled-bg-color: #DDD;\n",
       "  }\n",
       "\n",
       "  [theme=dark] .colab-df-quickchart {\n",
       "      --bg-color: #3B4455;\n",
       "      --fill-color: #D2E3FC;\n",
       "      --hover-bg-color: #434B5C;\n",
       "      --hover-fill-color: #FFFFFF;\n",
       "      --disabled-bg-color: #3B4455;\n",
       "      --disabled-fill-color: #666;\n",
       "  }\n",
       "\n",
       "  .colab-df-quickchart {\n",
       "    background-color: var(--bg-color);\n",
       "    border: none;\n",
       "    border-radius: 50%;\n",
       "    cursor: pointer;\n",
       "    display: none;\n",
       "    fill: var(--fill-color);\n",
       "    height: 32px;\n",
       "    padding: 0;\n",
       "    width: 32px;\n",
       "  }\n",
       "\n",
       "  .colab-df-quickchart:hover {\n",
       "    background-color: var(--hover-bg-color);\n",
       "    box-shadow: 0 1px 2px rgba(60, 64, 67, 0.3), 0 1px 3px 1px rgba(60, 64, 67, 0.15);\n",
       "    fill: var(--button-hover-fill-color);\n",
       "  }\n",
       "\n",
       "  .colab-df-quickchart-complete:disabled,\n",
       "  .colab-df-quickchart-complete:disabled:hover {\n",
       "    background-color: var(--disabled-bg-color);\n",
       "    fill: var(--disabled-fill-color);\n",
       "    box-shadow: none;\n",
       "  }\n",
       "\n",
       "  .colab-df-spinner {\n",
       "    border: 2px solid var(--fill-color);\n",
       "    border-color: transparent;\n",
       "    border-bottom-color: var(--fill-color);\n",
       "    animation:\n",
       "      spin 1s steps(1) infinite;\n",
       "  }\n",
       "\n",
       "  @keyframes spin {\n",
       "    0% {\n",
       "      border-color: transparent;\n",
       "      border-bottom-color: var(--fill-color);\n",
       "      border-left-color: var(--fill-color);\n",
       "    }\n",
       "    20% {\n",
       "      border-color: transparent;\n",
       "      border-left-color: var(--fill-color);\n",
       "      border-top-color: var(--fill-color);\n",
       "    }\n",
       "    30% {\n",
       "      border-color: transparent;\n",
       "      border-left-color: var(--fill-color);\n",
       "      border-top-color: var(--fill-color);\n",
       "      border-right-color: var(--fill-color);\n",
       "    }\n",
       "    40% {\n",
       "      border-color: transparent;\n",
       "      border-right-color: var(--fill-color);\n",
       "      border-top-color: var(--fill-color);\n",
       "    }\n",
       "    60% {\n",
       "      border-color: transparent;\n",
       "      border-right-color: var(--fill-color);\n",
       "    }\n",
       "    80% {\n",
       "      border-color: transparent;\n",
       "      border-right-color: var(--fill-color);\n",
       "      border-bottom-color: var(--fill-color);\n",
       "    }\n",
       "    90% {\n",
       "      border-color: transparent;\n",
       "      border-bottom-color: var(--fill-color);\n",
       "    }\n",
       "  }\n",
       "</style>\n",
       "\n",
       "  <script>\n",
       "    async function quickchart(key) {\n",
       "      const quickchartButtonEl =\n",
       "        document.querySelector('#' + key + ' button');\n",
       "      quickchartButtonEl.disabled = true;  // To prevent multiple clicks.\n",
       "      quickchartButtonEl.classList.add('colab-df-spinner');\n",
       "      try {\n",
       "        const charts = await google.colab.kernel.invokeFunction(\n",
       "            'suggestCharts', [key], {});\n",
       "      } catch (error) {\n",
       "        console.error('Error during call to suggestCharts:', error);\n",
       "      }\n",
       "      quickchartButtonEl.classList.remove('colab-df-spinner');\n",
       "      quickchartButtonEl.classList.add('colab-df-quickchart-complete');\n",
       "    }\n",
       "    (() => {\n",
       "      let quickchartButtonEl =\n",
       "        document.querySelector('#df-c72b61a3-6767-40aa-bcf6-0a094f2017d7 button');\n",
       "      quickchartButtonEl.style.display =\n",
       "        google.colab.kernel.accessAllowed ? 'block' : 'none';\n",
       "    })();\n",
       "  </script>\n",
       "</div>\n",
       "    </div>\n",
       "  </div>\n"
      ],
      "text/plain": [
       "           condition  life_car  odometer\n",
       "condition   1.000000 -0.547665 -0.538087\n",
       "life_car   -0.547665  1.000000  0.773951\n",
       "odometer   -0.538087  0.773951  1.000000"
      ]
     },
     "execution_count": 122,
     "metadata": {},
     "output_type": "execute_result"
    }
   ],
   "source": [
    "#check correlation \n",
    "train_fill[['condition', 'life_car', 'odometer']].corr()"
   ]
  },
  {
   "cell_type": "markdown",
   "id": "-oeFfQLipJtm",
   "metadata": {
    "id": "-oeFfQLipJtm"
   },
   "source": [
    "Видна отрицательная связь между состоянием машины и возрастом  (корреляция -0,55) и так же обратная связь между состоянием машины и пробегом (корр -0,54).\n",
    "\n",
    "На этом основании, можно обучить лин регрессию и таким образом заполнить пропущенные данные по состоянию машины `condition`.\n",
    "-- --\n",
    "There is a negative relationship between the condition of the car and age (correlation -0.55) and also an inverse relationship between the condition of the car and mileage (correlation -0.54).\n",
    "\n",
    "On this basis, it is possible to train linear regression and thus fill in the missing data on the state of the machine `condition`."
   ]
  },
  {
   "cell_type": "code",
   "execution_count": null,
   "id": "3e572125",
   "metadata": {},
   "outputs": [],
   "source": []
  },
  {
   "cell_type": "markdown",
   "id": "vWovEmczrxB0",
   "metadata": {
    "id": "vWovEmczrxB0"
   },
   "source": [
    "#### LinearRegression\n",
    "\n",
    "для заполнения пропусков по состоянию машины\n",
    "\n",
    "to fill in gaps based on vehicle condition"
   ]
  },
  {
   "cell_type": "code",
   "execution_count": 123,
   "id": "IET3w0QBsnud",
   "metadata": {
    "colab": {
     "base_uri": "https://localhost:8080/",
     "height": 112
    },
    "executionInfo": {
     "elapsed": 24,
     "status": "ok",
     "timestamp": 1694150571515,
     "user": {
      "displayName": "Андрей Медведев",
      "userId": "02560461935100345008"
     },
     "user_tz": -180
    },
    "id": "IET3w0QBsnud",
    "outputId": "87ce0052-445b-4637-cef6-024c96651892"
   },
   "outputs": [
    {
     "data": {
      "text/html": [
       "\n",
       "  <div id=\"df-2861b779-40cd-4f2a-b461-4a3c40822bc2\" class=\"colab-df-container\">\n",
       "    <div>\n",
       "<style scoped>\n",
       "    .dataframe tbody tr th:only-of-type {\n",
       "        vertical-align: middle;\n",
       "    }\n",
       "\n",
       "    .dataframe tbody tr th {\n",
       "        vertical-align: top;\n",
       "    }\n",
       "\n",
       "    .dataframe thead th {\n",
       "        text-align: right;\n",
       "    }\n",
       "</style>\n",
       "<table border=\"1\" class=\"dataframe\">\n",
       "  <thead>\n",
       "    <tr style=\"text-align: right;\">\n",
       "      <th></th>\n",
       "      <th>condition</th>\n",
       "      <th>life_car</th>\n",
       "      <th>odometer</th>\n",
       "    </tr>\n",
       "  </thead>\n",
       "  <tbody>\n",
       "    <tr>\n",
       "      <th>283897</th>\n",
       "      <td>3.5</td>\n",
       "      <td>2</td>\n",
       "      <td>61533.0</td>\n",
       "    </tr>\n",
       "    <tr>\n",
       "      <th>24766</th>\n",
       "      <td>2.4</td>\n",
       "      <td>9</td>\n",
       "      <td>90487.0</td>\n",
       "    </tr>\n",
       "  </tbody>\n",
       "</table>\n",
       "</div>\n",
       "    <div class=\"colab-df-buttons\">\n",
       "\n",
       "  <div class=\"colab-df-container\">\n",
       "    <button class=\"colab-df-convert\" onclick=\"convertToInteractive('df-2861b779-40cd-4f2a-b461-4a3c40822bc2')\"\n",
       "            title=\"Convert this dataframe to an interactive table.\"\n",
       "            style=\"display:none;\">\n",
       "\n",
       "  <svg xmlns=\"http://www.w3.org/2000/svg\" height=\"24px\" viewBox=\"0 -960 960 960\">\n",
       "    <path d=\"M120-120v-720h720v720H120Zm60-500h600v-160H180v160Zm220 220h160v-160H400v160Zm0 220h160v-160H400v160ZM180-400h160v-160H180v160Zm440 0h160v-160H620v160ZM180-180h160v-160H180v160Zm440 0h160v-160H620v160Z\"/>\n",
       "  </svg>\n",
       "    </button>\n",
       "\n",
       "  <style>\n",
       "    .colab-df-container {\n",
       "      display:flex;\n",
       "      gap: 12px;\n",
       "    }\n",
       "\n",
       "    .colab-df-convert {\n",
       "      background-color: #E8F0FE;\n",
       "      border: none;\n",
       "      border-radius: 50%;\n",
       "      cursor: pointer;\n",
       "      display: none;\n",
       "      fill: #1967D2;\n",
       "      height: 32px;\n",
       "      padding: 0 0 0 0;\n",
       "      width: 32px;\n",
       "    }\n",
       "\n",
       "    .colab-df-convert:hover {\n",
       "      background-color: #E2EBFA;\n",
       "      box-shadow: 0px 1px 2px rgba(60, 64, 67, 0.3), 0px 1px 3px 1px rgba(60, 64, 67, 0.15);\n",
       "      fill: #174EA6;\n",
       "    }\n",
       "\n",
       "    .colab-df-buttons div {\n",
       "      margin-bottom: 4px;\n",
       "    }\n",
       "\n",
       "    [theme=dark] .colab-df-convert {\n",
       "      background-color: #3B4455;\n",
       "      fill: #D2E3FC;\n",
       "    }\n",
       "\n",
       "    [theme=dark] .colab-df-convert:hover {\n",
       "      background-color: #434B5C;\n",
       "      box-shadow: 0px 1px 3px 1px rgba(0, 0, 0, 0.15);\n",
       "      filter: drop-shadow(0px 1px 2px rgba(0, 0, 0, 0.3));\n",
       "      fill: #FFFFFF;\n",
       "    }\n",
       "  </style>\n",
       "\n",
       "    <script>\n",
       "      const buttonEl =\n",
       "        document.querySelector('#df-2861b779-40cd-4f2a-b461-4a3c40822bc2 button.colab-df-convert');\n",
       "      buttonEl.style.display =\n",
       "        google.colab.kernel.accessAllowed ? 'block' : 'none';\n",
       "\n",
       "      async function convertToInteractive(key) {\n",
       "        const element = document.querySelector('#df-2861b779-40cd-4f2a-b461-4a3c40822bc2');\n",
       "        const dataTable =\n",
       "          await google.colab.kernel.invokeFunction('convertToInteractive',\n",
       "                                                    [key], {});\n",
       "        if (!dataTable) return;\n",
       "\n",
       "        const docLinkHtml = 'Like what you see? Visit the ' +\n",
       "          '<a target=\"_blank\" href=https://colab.research.google.com/notebooks/data_table.ipynb>data table notebook</a>'\n",
       "          + ' to learn more about interactive tables.';\n",
       "        element.innerHTML = '';\n",
       "        dataTable['output_type'] = 'display_data';\n",
       "        await google.colab.output.renderOutput(dataTable, element);\n",
       "        const docLink = document.createElement('div');\n",
       "        docLink.innerHTML = docLinkHtml;\n",
       "        element.appendChild(docLink);\n",
       "      }\n",
       "    </script>\n",
       "  </div>\n",
       "\n",
       "\n",
       "<div id=\"df-413ac84f-c20d-431d-93f3-9a39e2e3bb15\">\n",
       "  <button class=\"colab-df-quickchart\" onclick=\"quickchart('df-413ac84f-c20d-431d-93f3-9a39e2e3bb15')\"\n",
       "            title=\"Suggest charts.\"\n",
       "            style=\"display:none;\">\n",
       "\n",
       "<svg xmlns=\"http://www.w3.org/2000/svg\" height=\"24px\"viewBox=\"0 0 24 24\"\n",
       "     width=\"24px\">\n",
       "    <g>\n",
       "        <path d=\"M19 3H5c-1.1 0-2 .9-2 2v14c0 1.1.9 2 2 2h14c1.1 0 2-.9 2-2V5c0-1.1-.9-2-2-2zM9 17H7v-7h2v7zm4 0h-2V7h2v10zm4 0h-2v-4h2v4z\"/>\n",
       "    </g>\n",
       "</svg>\n",
       "  </button>\n",
       "\n",
       "<style>\n",
       "  .colab-df-quickchart {\n",
       "      --bg-color: #E8F0FE;\n",
       "      --fill-color: #1967D2;\n",
       "      --hover-bg-color: #E2EBFA;\n",
       "      --hover-fill-color: #174EA6;\n",
       "      --disabled-fill-color: #AAA;\n",
       "      --disabled-bg-color: #DDD;\n",
       "  }\n",
       "\n",
       "  [theme=dark] .colab-df-quickchart {\n",
       "      --bg-color: #3B4455;\n",
       "      --fill-color: #D2E3FC;\n",
       "      --hover-bg-color: #434B5C;\n",
       "      --hover-fill-color: #FFFFFF;\n",
       "      --disabled-bg-color: #3B4455;\n",
       "      --disabled-fill-color: #666;\n",
       "  }\n",
       "\n",
       "  .colab-df-quickchart {\n",
       "    background-color: var(--bg-color);\n",
       "    border: none;\n",
       "    border-radius: 50%;\n",
       "    cursor: pointer;\n",
       "    display: none;\n",
       "    fill: var(--fill-color);\n",
       "    height: 32px;\n",
       "    padding: 0;\n",
       "    width: 32px;\n",
       "  }\n",
       "\n",
       "  .colab-df-quickchart:hover {\n",
       "    background-color: var(--hover-bg-color);\n",
       "    box-shadow: 0 1px 2px rgba(60, 64, 67, 0.3), 0 1px 3px 1px rgba(60, 64, 67, 0.15);\n",
       "    fill: var(--button-hover-fill-color);\n",
       "  }\n",
       "\n",
       "  .colab-df-quickchart-complete:disabled,\n",
       "  .colab-df-quickchart-complete:disabled:hover {\n",
       "    background-color: var(--disabled-bg-color);\n",
       "    fill: var(--disabled-fill-color);\n",
       "    box-shadow: none;\n",
       "  }\n",
       "\n",
       "  .colab-df-spinner {\n",
       "    border: 2px solid var(--fill-color);\n",
       "    border-color: transparent;\n",
       "    border-bottom-color: var(--fill-color);\n",
       "    animation:\n",
       "      spin 1s steps(1) infinite;\n",
       "  }\n",
       "\n",
       "  @keyframes spin {\n",
       "    0% {\n",
       "      border-color: transparent;\n",
       "      border-bottom-color: var(--fill-color);\n",
       "      border-left-color: var(--fill-color);\n",
       "    }\n",
       "    20% {\n",
       "      border-color: transparent;\n",
       "      border-left-color: var(--fill-color);\n",
       "      border-top-color: var(--fill-color);\n",
       "    }\n",
       "    30% {\n",
       "      border-color: transparent;\n",
       "      border-left-color: var(--fill-color);\n",
       "      border-top-color: var(--fill-color);\n",
       "      border-right-color: var(--fill-color);\n",
       "    }\n",
       "    40% {\n",
       "      border-color: transparent;\n",
       "      border-right-color: var(--fill-color);\n",
       "      border-top-color: var(--fill-color);\n",
       "    }\n",
       "    60% {\n",
       "      border-color: transparent;\n",
       "      border-right-color: var(--fill-color);\n",
       "    }\n",
       "    80% {\n",
       "      border-color: transparent;\n",
       "      border-right-color: var(--fill-color);\n",
       "      border-bottom-color: var(--fill-color);\n",
       "    }\n",
       "    90% {\n",
       "      border-color: transparent;\n",
       "      border-bottom-color: var(--fill-color);\n",
       "    }\n",
       "  }\n",
       "</style>\n",
       "\n",
       "  <script>\n",
       "    async function quickchart(key) {\n",
       "      const quickchartButtonEl =\n",
       "        document.querySelector('#' + key + ' button');\n",
       "      quickchartButtonEl.disabled = true;  // To prevent multiple clicks.\n",
       "      quickchartButtonEl.classList.add('colab-df-spinner');\n",
       "      try {\n",
       "        const charts = await google.colab.kernel.invokeFunction(\n",
       "            'suggestCharts', [key], {});\n",
       "      } catch (error) {\n",
       "        console.error('Error during call to suggestCharts:', error);\n",
       "      }\n",
       "      quickchartButtonEl.classList.remove('colab-df-spinner');\n",
       "      quickchartButtonEl.classList.add('colab-df-quickchart-complete');\n",
       "    }\n",
       "    (() => {\n",
       "      let quickchartButtonEl =\n",
       "        document.querySelector('#df-413ac84f-c20d-431d-93f3-9a39e2e3bb15 button');\n",
       "      quickchartButtonEl.style.display =\n",
       "        google.colab.kernel.accessAllowed ? 'block' : 'none';\n",
       "    })();\n",
       "  </script>\n",
       "</div>\n",
       "    </div>\n",
       "  </div>\n"
      ],
      "text/plain": [
       "        condition  life_car  odometer\n",
       "283897        3.5         2   61533.0\n",
       "24766         2.4         9   90487.0"
      ]
     },
     "execution_count": 123,
     "metadata": {},
     "output_type": "execute_result"
    }
   ],
   "source": [
    "train_for_condition = train_fill.loc[~train_fill['condition'].isna()][['condition', 'life_car', 'odometer']]\n",
    "train_for_condition.sample(2)"
   ]
  },
  {
   "cell_type": "code",
   "execution_count": 124,
   "id": "h4jIdjflu00r",
   "metadata": {
    "executionInfo": {
     "elapsed": 19,
     "status": "ok",
     "timestamp": 1694150571516,
     "user": {
      "displayName": "Андрей Медведев",
      "userId": "02560461935100345008"
     },
     "user_tz": -180
    },
    "id": "h4jIdjflu00r"
   },
   "outputs": [],
   "source": [
    "params = {'fit_intercept':[True]}"
   ]
  },
  {
   "cell_type": "code",
   "execution_count": 125,
   "id": "ioSHeZKgo5OY",
   "metadata": {
    "executionInfo": {
     "elapsed": 20,
     "status": "ok",
     "timestamp": 1694150571517,
     "user": {
      "displayName": "Андрей Медведев",
      "userId": "02560461935100345008"
     },
     "user_tz": -180
    },
    "id": "ioSHeZKgo5OY"
   },
   "outputs": [],
   "source": [
    "lr = LinearRegression()"
   ]
  },
  {
   "cell_type": "code",
   "execution_count": 126,
   "id": "_2da3YNZqGvU",
   "metadata": {
    "executionInfo": {
     "elapsed": 19,
     "status": "ok",
     "timestamp": 1694150571517,
     "user": {
      "displayName": "Андрей Медведев",
      "userId": "02560461935100345008"
     },
     "user_tz": -180
    },
    "id": "_2da3YNZqGvU"
   },
   "outputs": [],
   "source": [
    "clf = GridSearchCV(lr, params, scoring='neg_mean_squared_error', cv=5, n_jobs=-1)"
   ]
  },
  {
   "cell_type": "code",
   "execution_count": 127,
   "id": "qGzVrmNrqG2k",
   "metadata": {
    "colab": {
     "base_uri": "https://localhost:8080/",
     "height": 152
    },
    "executionInfo": {
     "elapsed": 2553,
     "status": "ok",
     "timestamp": 1694150574052,
     "user": {
      "displayName": "Андрей Медведев",
      "userId": "02560461935100345008"
     },
     "user_tz": -180
    },
    "id": "qGzVrmNrqG2k",
    "outputId": "c84aafd7-8a4a-46c6-bc6e-a07d3edde3b4"
   },
   "outputs": [
    {
     "name": "stdout",
     "output_type": "stream",
     "text": [
      "CPU times: user 165 ms, sys: 139 ms, total: 304 ms\n",
      "Wall time: 2.51 s\n"
     ]
    },
    {
     "data": {
      "text/html": [
       "<style>#sk-container-id-1 {color: black;background-color: white;}#sk-container-id-1 pre{padding: 0;}#sk-container-id-1 div.sk-toggleable {background-color: white;}#sk-container-id-1 label.sk-toggleable__label {cursor: pointer;display: block;width: 100%;margin-bottom: 0;padding: 0.3em;box-sizing: border-box;text-align: center;}#sk-container-id-1 label.sk-toggleable__label-arrow:before {content: \"▸\";float: left;margin-right: 0.25em;color: #696969;}#sk-container-id-1 label.sk-toggleable__label-arrow:hover:before {color: black;}#sk-container-id-1 div.sk-estimator:hover label.sk-toggleable__label-arrow:before {color: black;}#sk-container-id-1 div.sk-toggleable__content {max-height: 0;max-width: 0;overflow: hidden;text-align: left;background-color: #f0f8ff;}#sk-container-id-1 div.sk-toggleable__content pre {margin: 0.2em;color: black;border-radius: 0.25em;background-color: #f0f8ff;}#sk-container-id-1 input.sk-toggleable__control:checked~div.sk-toggleable__content {max-height: 200px;max-width: 100%;overflow: auto;}#sk-container-id-1 input.sk-toggleable__control:checked~label.sk-toggleable__label-arrow:before {content: \"▾\";}#sk-container-id-1 div.sk-estimator input.sk-toggleable__control:checked~label.sk-toggleable__label {background-color: #d4ebff;}#sk-container-id-1 div.sk-label input.sk-toggleable__control:checked~label.sk-toggleable__label {background-color: #d4ebff;}#sk-container-id-1 input.sk-hidden--visually {border: 0;clip: rect(1px 1px 1px 1px);clip: rect(1px, 1px, 1px, 1px);height: 1px;margin: -1px;overflow: hidden;padding: 0;position: absolute;width: 1px;}#sk-container-id-1 div.sk-estimator {font-family: monospace;background-color: #f0f8ff;border: 1px dotted black;border-radius: 0.25em;box-sizing: border-box;margin-bottom: 0.5em;}#sk-container-id-1 div.sk-estimator:hover {background-color: #d4ebff;}#sk-container-id-1 div.sk-parallel-item::after {content: \"\";width: 100%;border-bottom: 1px solid gray;flex-grow: 1;}#sk-container-id-1 div.sk-label:hover label.sk-toggleable__label {background-color: #d4ebff;}#sk-container-id-1 div.sk-serial::before {content: \"\";position: absolute;border-left: 1px solid gray;box-sizing: border-box;top: 0;bottom: 0;left: 50%;z-index: 0;}#sk-container-id-1 div.sk-serial {display: flex;flex-direction: column;align-items: center;background-color: white;padding-right: 0.2em;padding-left: 0.2em;position: relative;}#sk-container-id-1 div.sk-item {position: relative;z-index: 1;}#sk-container-id-1 div.sk-parallel {display: flex;align-items: stretch;justify-content: center;background-color: white;position: relative;}#sk-container-id-1 div.sk-item::before, #sk-container-id-1 div.sk-parallel-item::before {content: \"\";position: absolute;border-left: 1px solid gray;box-sizing: border-box;top: 0;bottom: 0;left: 50%;z-index: -1;}#sk-container-id-1 div.sk-parallel-item {display: flex;flex-direction: column;z-index: 1;position: relative;background-color: white;}#sk-container-id-1 div.sk-parallel-item:first-child::after {align-self: flex-end;width: 50%;}#sk-container-id-1 div.sk-parallel-item:last-child::after {align-self: flex-start;width: 50%;}#sk-container-id-1 div.sk-parallel-item:only-child::after {width: 0;}#sk-container-id-1 div.sk-dashed-wrapped {border: 1px dashed gray;margin: 0 0.4em 0.5em 0.4em;box-sizing: border-box;padding-bottom: 0.4em;background-color: white;}#sk-container-id-1 div.sk-label label {font-family: monospace;font-weight: bold;display: inline-block;line-height: 1.2em;}#sk-container-id-1 div.sk-label-container {text-align: center;}#sk-container-id-1 div.sk-container {/* jupyter's `normalize.less` sets `[hidden] { display: none; }` but bootstrap.min.css set `[hidden] { display: none !important; }` so we also need the `!important` here to be able to override the default hidden behavior on the sphinx rendered scikit-learn.org. See: https://github.com/scikit-learn/scikit-learn/issues/21755 */display: inline-block !important;position: relative;}#sk-container-id-1 div.sk-text-repr-fallback {display: none;}</style><div id=\"sk-container-id-1\" class=\"sk-top-container\"><div class=\"sk-text-repr-fallback\"><pre>GridSearchCV(cv=5, estimator=LinearRegression(), n_jobs=-1,\n",
       "             param_grid={&#x27;fit_intercept&#x27;: [True]},\n",
       "             scoring=&#x27;neg_mean_squared_error&#x27;)</pre><b>In a Jupyter environment, please rerun this cell to show the HTML representation or trust the notebook. <br />On GitHub, the HTML representation is unable to render, please try loading this page with nbviewer.org.</b></div><div class=\"sk-container\" hidden><div class=\"sk-item sk-dashed-wrapped\"><div class=\"sk-label-container\"><div class=\"sk-label sk-toggleable\"><input class=\"sk-toggleable__control sk-hidden--visually\" id=\"sk-estimator-id-1\" type=\"checkbox\" ><label for=\"sk-estimator-id-1\" class=\"sk-toggleable__label sk-toggleable__label-arrow\">GridSearchCV</label><div class=\"sk-toggleable__content\"><pre>GridSearchCV(cv=5, estimator=LinearRegression(), n_jobs=-1,\n",
       "             param_grid={&#x27;fit_intercept&#x27;: [True]},\n",
       "             scoring=&#x27;neg_mean_squared_error&#x27;)</pre></div></div></div><div class=\"sk-parallel\"><div class=\"sk-parallel-item\"><div class=\"sk-item\"><div class=\"sk-label-container\"><div class=\"sk-label sk-toggleable\"><input class=\"sk-toggleable__control sk-hidden--visually\" id=\"sk-estimator-id-2\" type=\"checkbox\" ><label for=\"sk-estimator-id-2\" class=\"sk-toggleable__label sk-toggleable__label-arrow\">estimator: LinearRegression</label><div class=\"sk-toggleable__content\"><pre>LinearRegression()</pre></div></div></div><div class=\"sk-serial\"><div class=\"sk-item\"><div class=\"sk-estimator sk-toggleable\"><input class=\"sk-toggleable__control sk-hidden--visually\" id=\"sk-estimator-id-3\" type=\"checkbox\" ><label for=\"sk-estimator-id-3\" class=\"sk-toggleable__label sk-toggleable__label-arrow\">LinearRegression</label><div class=\"sk-toggleable__content\"><pre>LinearRegression()</pre></div></div></div></div></div></div></div></div></div></div>"
      ],
      "text/plain": [
       "GridSearchCV(cv=5, estimator=LinearRegression(), n_jobs=-1,\n",
       "             param_grid={'fit_intercept': [True]},\n",
       "             scoring='neg_mean_squared_error')"
      ]
     },
     "execution_count": 127,
     "metadata": {},
     "output_type": "execute_result"
    }
   ],
   "source": [
    "%%time\n",
    "clf.fit(train_for_condition[['life_car', 'odometer']], train_for_condition['condition'])"
   ]
  },
  {
   "cell_type": "code",
   "execution_count": 128,
   "id": "jNC32ykrKYJq",
   "metadata": {
    "colab": {
     "base_uri": "https://localhost:8080/"
    },
    "executionInfo": {
     "elapsed": 33,
     "status": "ok",
     "timestamp": 1694150574052,
     "user": {
      "displayName": "Андрей Медведев",
      "userId": "02560461935100345008"
     },
     "user_tz": -180
    },
    "id": "jNC32ykrKYJq",
    "outputId": "ebabb913-8034-4a1a-9d13-8d55f670df91"
   },
   "outputs": [
    {
     "data": {
      "text/plain": [
       "-0.5987655963990213"
      ]
     },
     "execution_count": 128,
     "metadata": {},
     "output_type": "execute_result"
    }
   ],
   "source": [
    "clf.best_score_"
   ]
  },
  {
   "cell_type": "code",
   "execution_count": 129,
   "id": "bzUkOtkiK925",
   "metadata": {
    "colab": {
     "base_uri": "https://localhost:8080/"
    },
    "executionInfo": {
     "elapsed": 20,
     "status": "ok",
     "timestamp": 1694150574052,
     "user": {
      "displayName": "Андрей Медведев",
      "userId": "02560461935100345008"
     },
     "user_tz": -180
    },
    "id": "bzUkOtkiK925",
    "outputId": "f657de0b-ca42-4d9f-ed32-50d309b7ae60"
   },
   "outputs": [
    {
     "data": {
      "text/plain": [
       "0.773799454897082"
      ]
     },
     "execution_count": 129,
     "metadata": {},
     "output_type": "execute_result"
    }
   ],
   "source": [
    "#то есть RMSE\n",
    "#that is RMSE\n",
    "\n",
    "np.abs(clf.best_score_)**.5"
   ]
  },
  {
   "cell_type": "code",
   "execution_count": 130,
   "id": "8fbrrGlPOhSc",
   "metadata": {
    "colab": {
     "base_uri": "https://localhost:8080/",
     "height": 109
    },
    "executionInfo": {
     "elapsed": 473,
     "status": "ok",
     "timestamp": 1694150574513,
     "user": {
      "displayName": "Андрей Медведев",
      "userId": "02560461935100345008"
     },
     "user_tz": -180
    },
    "id": "8fbrrGlPOhSc",
    "outputId": "7effe6c8-c8b6-4a28-ec9e-dcd5354e5b7b"
   },
   "outputs": [
    {
     "name": "stdout",
     "output_type": "stream",
     "text": [
      "CPU times: user 67.7 ms, sys: 34.3 ms, total: 102 ms\n",
      "Wall time: 68.5 ms\n"
     ]
    },
    {
     "data": {
      "text/html": [
       "<style>#sk-container-id-2 {color: black;background-color: white;}#sk-container-id-2 pre{padding: 0;}#sk-container-id-2 div.sk-toggleable {background-color: white;}#sk-container-id-2 label.sk-toggleable__label {cursor: pointer;display: block;width: 100%;margin-bottom: 0;padding: 0.3em;box-sizing: border-box;text-align: center;}#sk-container-id-2 label.sk-toggleable__label-arrow:before {content: \"▸\";float: left;margin-right: 0.25em;color: #696969;}#sk-container-id-2 label.sk-toggleable__label-arrow:hover:before {color: black;}#sk-container-id-2 div.sk-estimator:hover label.sk-toggleable__label-arrow:before {color: black;}#sk-container-id-2 div.sk-toggleable__content {max-height: 0;max-width: 0;overflow: hidden;text-align: left;background-color: #f0f8ff;}#sk-container-id-2 div.sk-toggleable__content pre {margin: 0.2em;color: black;border-radius: 0.25em;background-color: #f0f8ff;}#sk-container-id-2 input.sk-toggleable__control:checked~div.sk-toggleable__content {max-height: 200px;max-width: 100%;overflow: auto;}#sk-container-id-2 input.sk-toggleable__control:checked~label.sk-toggleable__label-arrow:before {content: \"▾\";}#sk-container-id-2 div.sk-estimator input.sk-toggleable__control:checked~label.sk-toggleable__label {background-color: #d4ebff;}#sk-container-id-2 div.sk-label input.sk-toggleable__control:checked~label.sk-toggleable__label {background-color: #d4ebff;}#sk-container-id-2 input.sk-hidden--visually {border: 0;clip: rect(1px 1px 1px 1px);clip: rect(1px, 1px, 1px, 1px);height: 1px;margin: -1px;overflow: hidden;padding: 0;position: absolute;width: 1px;}#sk-container-id-2 div.sk-estimator {font-family: monospace;background-color: #f0f8ff;border: 1px dotted black;border-radius: 0.25em;box-sizing: border-box;margin-bottom: 0.5em;}#sk-container-id-2 div.sk-estimator:hover {background-color: #d4ebff;}#sk-container-id-2 div.sk-parallel-item::after {content: \"\";width: 100%;border-bottom: 1px solid gray;flex-grow: 1;}#sk-container-id-2 div.sk-label:hover label.sk-toggleable__label {background-color: #d4ebff;}#sk-container-id-2 div.sk-serial::before {content: \"\";position: absolute;border-left: 1px solid gray;box-sizing: border-box;top: 0;bottom: 0;left: 50%;z-index: 0;}#sk-container-id-2 div.sk-serial {display: flex;flex-direction: column;align-items: center;background-color: white;padding-right: 0.2em;padding-left: 0.2em;position: relative;}#sk-container-id-2 div.sk-item {position: relative;z-index: 1;}#sk-container-id-2 div.sk-parallel {display: flex;align-items: stretch;justify-content: center;background-color: white;position: relative;}#sk-container-id-2 div.sk-item::before, #sk-container-id-2 div.sk-parallel-item::before {content: \"\";position: absolute;border-left: 1px solid gray;box-sizing: border-box;top: 0;bottom: 0;left: 50%;z-index: -1;}#sk-container-id-2 div.sk-parallel-item {display: flex;flex-direction: column;z-index: 1;position: relative;background-color: white;}#sk-container-id-2 div.sk-parallel-item:first-child::after {align-self: flex-end;width: 50%;}#sk-container-id-2 div.sk-parallel-item:last-child::after {align-self: flex-start;width: 50%;}#sk-container-id-2 div.sk-parallel-item:only-child::after {width: 0;}#sk-container-id-2 div.sk-dashed-wrapped {border: 1px dashed gray;margin: 0 0.4em 0.5em 0.4em;box-sizing: border-box;padding-bottom: 0.4em;background-color: white;}#sk-container-id-2 div.sk-label label {font-family: monospace;font-weight: bold;display: inline-block;line-height: 1.2em;}#sk-container-id-2 div.sk-label-container {text-align: center;}#sk-container-id-2 div.sk-container {/* jupyter's `normalize.less` sets `[hidden] { display: none; }` but bootstrap.min.css set `[hidden] { display: none !important; }` so we also need the `!important` here to be able to override the default hidden behavior on the sphinx rendered scikit-learn.org. See: https://github.com/scikit-learn/scikit-learn/issues/21755 */display: inline-block !important;position: relative;}#sk-container-id-2 div.sk-text-repr-fallback {display: none;}</style><div id=\"sk-container-id-2\" class=\"sk-top-container\"><div class=\"sk-text-repr-fallback\"><pre>LinearRegression()</pre><b>In a Jupyter environment, please rerun this cell to show the HTML representation or trust the notebook. <br />On GitHub, the HTML representation is unable to render, please try loading this page with nbviewer.org.</b></div><div class=\"sk-container\" hidden><div class=\"sk-item\"><div class=\"sk-estimator sk-toggleable\"><input class=\"sk-toggleable__control sk-hidden--visually\" id=\"sk-estimator-id-4\" type=\"checkbox\" checked><label for=\"sk-estimator-id-4\" class=\"sk-toggleable__label sk-toggleable__label-arrow\">LinearRegression</label><div class=\"sk-toggleable__content\"><pre>LinearRegression()</pre></div></div></div></div></div>"
      ],
      "text/plain": [
       "LinearRegression()"
      ]
     },
     "execution_count": 130,
     "metadata": {},
     "output_type": "execute_result"
    }
   ],
   "source": [
    "%%time\n",
    "lr.fit(train_for_condition[['life_car', 'odometer']], train_for_condition['condition'])"
   ]
  },
  {
   "cell_type": "markdown",
   "id": "u31Zj2-oMU8x",
   "metadata": {
    "id": "u31Zj2-oMU8x"
   },
   "source": [
    "Использую обученную модель для заполнения пропусков в столбце `condition`\n",
    "-- --\n",
    "Using a trained model to fill in the gaps in the `condition` column"
   ]
  },
  {
   "cell_type": "code",
   "execution_count": 131,
   "id": "HxYM_6FeK-Aa",
   "metadata": {
    "colab": {
     "base_uri": "https://localhost:8080/",
     "height": 112
    },
    "executionInfo": {
     "elapsed": 71,
     "status": "ok",
     "timestamp": 1694150574513,
     "user": {
      "displayName": "Андрей Медведев",
      "userId": "02560461935100345008"
     },
     "user_tz": -180
    },
    "id": "HxYM_6FeK-Aa",
    "outputId": "2a004aa0-1222-4a0b-cfcf-bbbc2262a9d0"
   },
   "outputs": [
    {
     "data": {
      "text/html": [
       "\n",
       "  <div id=\"df-7e70c05f-f512-405f-b9b5-6b38988cebdb\" class=\"colab-df-container\">\n",
       "    <div>\n",
       "<style scoped>\n",
       "    .dataframe tbody tr th:only-of-type {\n",
       "        vertical-align: middle;\n",
       "    }\n",
       "\n",
       "    .dataframe tbody tr th {\n",
       "        vertical-align: top;\n",
       "    }\n",
       "\n",
       "    .dataframe thead th {\n",
       "        text-align: right;\n",
       "    }\n",
       "</style>\n",
       "<table border=\"1\" class=\"dataframe\">\n",
       "  <thead>\n",
       "    <tr style=\"text-align: right;\">\n",
       "      <th></th>\n",
       "      <th>life_car</th>\n",
       "      <th>odometer</th>\n",
       "    </tr>\n",
       "  </thead>\n",
       "  <tbody>\n",
       "    <tr>\n",
       "      <th>85</th>\n",
       "      <td>15</td>\n",
       "      <td>219516.0</td>\n",
       "    </tr>\n",
       "    <tr>\n",
       "      <th>117</th>\n",
       "      <td>7</td>\n",
       "      <td>127936.0</td>\n",
       "    </tr>\n",
       "  </tbody>\n",
       "</table>\n",
       "</div>\n",
       "    <div class=\"colab-df-buttons\">\n",
       "\n",
       "  <div class=\"colab-df-container\">\n",
       "    <button class=\"colab-df-convert\" onclick=\"convertToInteractive('df-7e70c05f-f512-405f-b9b5-6b38988cebdb')\"\n",
       "            title=\"Convert this dataframe to an interactive table.\"\n",
       "            style=\"display:none;\">\n",
       "\n",
       "  <svg xmlns=\"http://www.w3.org/2000/svg\" height=\"24px\" viewBox=\"0 -960 960 960\">\n",
       "    <path d=\"M120-120v-720h720v720H120Zm60-500h600v-160H180v160Zm220 220h160v-160H400v160Zm0 220h160v-160H400v160ZM180-400h160v-160H180v160Zm440 0h160v-160H620v160ZM180-180h160v-160H180v160Zm440 0h160v-160H620v160Z\"/>\n",
       "  </svg>\n",
       "    </button>\n",
       "\n",
       "  <style>\n",
       "    .colab-df-container {\n",
       "      display:flex;\n",
       "      gap: 12px;\n",
       "    }\n",
       "\n",
       "    .colab-df-convert {\n",
       "      background-color: #E8F0FE;\n",
       "      border: none;\n",
       "      border-radius: 50%;\n",
       "      cursor: pointer;\n",
       "      display: none;\n",
       "      fill: #1967D2;\n",
       "      height: 32px;\n",
       "      padding: 0 0 0 0;\n",
       "      width: 32px;\n",
       "    }\n",
       "\n",
       "    .colab-df-convert:hover {\n",
       "      background-color: #E2EBFA;\n",
       "      box-shadow: 0px 1px 2px rgba(60, 64, 67, 0.3), 0px 1px 3px 1px rgba(60, 64, 67, 0.15);\n",
       "      fill: #174EA6;\n",
       "    }\n",
       "\n",
       "    .colab-df-buttons div {\n",
       "      margin-bottom: 4px;\n",
       "    }\n",
       "\n",
       "    [theme=dark] .colab-df-convert {\n",
       "      background-color: #3B4455;\n",
       "      fill: #D2E3FC;\n",
       "    }\n",
       "\n",
       "    [theme=dark] .colab-df-convert:hover {\n",
       "      background-color: #434B5C;\n",
       "      box-shadow: 0px 1px 3px 1px rgba(0, 0, 0, 0.15);\n",
       "      filter: drop-shadow(0px 1px 2px rgba(0, 0, 0, 0.3));\n",
       "      fill: #FFFFFF;\n",
       "    }\n",
       "  </style>\n",
       "\n",
       "    <script>\n",
       "      const buttonEl =\n",
       "        document.querySelector('#df-7e70c05f-f512-405f-b9b5-6b38988cebdb button.colab-df-convert');\n",
       "      buttonEl.style.display =\n",
       "        google.colab.kernel.accessAllowed ? 'block' : 'none';\n",
       "\n",
       "      async function convertToInteractive(key) {\n",
       "        const element = document.querySelector('#df-7e70c05f-f512-405f-b9b5-6b38988cebdb');\n",
       "        const dataTable =\n",
       "          await google.colab.kernel.invokeFunction('convertToInteractive',\n",
       "                                                    [key], {});\n",
       "        if (!dataTable) return;\n",
       "\n",
       "        const docLinkHtml = 'Like what you see? Visit the ' +\n",
       "          '<a target=\"_blank\" href=https://colab.research.google.com/notebooks/data_table.ipynb>data table notebook</a>'\n",
       "          + ' to learn more about interactive tables.';\n",
       "        element.innerHTML = '';\n",
       "        dataTable['output_type'] = 'display_data';\n",
       "        await google.colab.output.renderOutput(dataTable, element);\n",
       "        const docLink = document.createElement('div');\n",
       "        docLink.innerHTML = docLinkHtml;\n",
       "        element.appendChild(docLink);\n",
       "      }\n",
       "    </script>\n",
       "  </div>\n",
       "\n",
       "\n",
       "<div id=\"df-174e59e1-439e-4e22-abe9-18bbbfa424c8\">\n",
       "  <button class=\"colab-df-quickchart\" onclick=\"quickchart('df-174e59e1-439e-4e22-abe9-18bbbfa424c8')\"\n",
       "            title=\"Suggest charts.\"\n",
       "            style=\"display:none;\">\n",
       "\n",
       "<svg xmlns=\"http://www.w3.org/2000/svg\" height=\"24px\"viewBox=\"0 0 24 24\"\n",
       "     width=\"24px\">\n",
       "    <g>\n",
       "        <path d=\"M19 3H5c-1.1 0-2 .9-2 2v14c0 1.1.9 2 2 2h14c1.1 0 2-.9 2-2V5c0-1.1-.9-2-2-2zM9 17H7v-7h2v7zm4 0h-2V7h2v10zm4 0h-2v-4h2v4z\"/>\n",
       "    </g>\n",
       "</svg>\n",
       "  </button>\n",
       "\n",
       "<style>\n",
       "  .colab-df-quickchart {\n",
       "      --bg-color: #E8F0FE;\n",
       "      --fill-color: #1967D2;\n",
       "      --hover-bg-color: #E2EBFA;\n",
       "      --hover-fill-color: #174EA6;\n",
       "      --disabled-fill-color: #AAA;\n",
       "      --disabled-bg-color: #DDD;\n",
       "  }\n",
       "\n",
       "  [theme=dark] .colab-df-quickchart {\n",
       "      --bg-color: #3B4455;\n",
       "      --fill-color: #D2E3FC;\n",
       "      --hover-bg-color: #434B5C;\n",
       "      --hover-fill-color: #FFFFFF;\n",
       "      --disabled-bg-color: #3B4455;\n",
       "      --disabled-fill-color: #666;\n",
       "  }\n",
       "\n",
       "  .colab-df-quickchart {\n",
       "    background-color: var(--bg-color);\n",
       "    border: none;\n",
       "    border-radius: 50%;\n",
       "    cursor: pointer;\n",
       "    display: none;\n",
       "    fill: var(--fill-color);\n",
       "    height: 32px;\n",
       "    padding: 0;\n",
       "    width: 32px;\n",
       "  }\n",
       "\n",
       "  .colab-df-quickchart:hover {\n",
       "    background-color: var(--hover-bg-color);\n",
       "    box-shadow: 0 1px 2px rgba(60, 64, 67, 0.3), 0 1px 3px 1px rgba(60, 64, 67, 0.15);\n",
       "    fill: var(--button-hover-fill-color);\n",
       "  }\n",
       "\n",
       "  .colab-df-quickchart-complete:disabled,\n",
       "  .colab-df-quickchart-complete:disabled:hover {\n",
       "    background-color: var(--disabled-bg-color);\n",
       "    fill: var(--disabled-fill-color);\n",
       "    box-shadow: none;\n",
       "  }\n",
       "\n",
       "  .colab-df-spinner {\n",
       "    border: 2px solid var(--fill-color);\n",
       "    border-color: transparent;\n",
       "    border-bottom-color: var(--fill-color);\n",
       "    animation:\n",
       "      spin 1s steps(1) infinite;\n",
       "  }\n",
       "\n",
       "  @keyframes spin {\n",
       "    0% {\n",
       "      border-color: transparent;\n",
       "      border-bottom-color: var(--fill-color);\n",
       "      border-left-color: var(--fill-color);\n",
       "    }\n",
       "    20% {\n",
       "      border-color: transparent;\n",
       "      border-left-color: var(--fill-color);\n",
       "      border-top-color: var(--fill-color);\n",
       "    }\n",
       "    30% {\n",
       "      border-color: transparent;\n",
       "      border-left-color: var(--fill-color);\n",
       "      border-top-color: var(--fill-color);\n",
       "      border-right-color: var(--fill-color);\n",
       "    }\n",
       "    40% {\n",
       "      border-color: transparent;\n",
       "      border-right-color: var(--fill-color);\n",
       "      border-top-color: var(--fill-color);\n",
       "    }\n",
       "    60% {\n",
       "      border-color: transparent;\n",
       "      border-right-color: var(--fill-color);\n",
       "    }\n",
       "    80% {\n",
       "      border-color: transparent;\n",
       "      border-right-color: var(--fill-color);\n",
       "      border-bottom-color: var(--fill-color);\n",
       "    }\n",
       "    90% {\n",
       "      border-color: transparent;\n",
       "      border-bottom-color: var(--fill-color);\n",
       "    }\n",
       "  }\n",
       "</style>\n",
       "\n",
       "  <script>\n",
       "    async function quickchart(key) {\n",
       "      const quickchartButtonEl =\n",
       "        document.querySelector('#' + key + ' button');\n",
       "      quickchartButtonEl.disabled = true;  // To prevent multiple clicks.\n",
       "      quickchartButtonEl.classList.add('colab-df-spinner');\n",
       "      try {\n",
       "        const charts = await google.colab.kernel.invokeFunction(\n",
       "            'suggestCharts', [key], {});\n",
       "      } catch (error) {\n",
       "        console.error('Error during call to suggestCharts:', error);\n",
       "      }\n",
       "      quickchartButtonEl.classList.remove('colab-df-spinner');\n",
       "      quickchartButtonEl.classList.add('colab-df-quickchart-complete');\n",
       "    }\n",
       "    (() => {\n",
       "      let quickchartButtonEl =\n",
       "        document.querySelector('#df-174e59e1-439e-4e22-abe9-18bbbfa424c8 button');\n",
       "      quickchartButtonEl.style.display =\n",
       "        google.colab.kernel.accessAllowed ? 'block' : 'none';\n",
       "    })();\n",
       "  </script>\n",
       "</div>\n",
       "    </div>\n",
       "  </div>\n"
      ],
      "text/plain": [
       "     life_car  odometer\n",
       "85         15  219516.0\n",
       "117         7  127936.0"
      ]
     },
     "execution_count": 131,
     "metadata": {},
     "output_type": "execute_result"
    }
   ],
   "source": [
    "train_cond = train_fill.loc[train_fill['condition'].isna()][['life_car', 'odometer']]\n",
    "train_cond.head(2)"
   ]
  },
  {
   "cell_type": "code",
   "execution_count": 132,
   "id": "CTQPGU6bQ3FO",
   "metadata": {
    "colab": {
     "base_uri": "https://localhost:8080/",
     "height": 112
    },
    "executionInfo": {
     "elapsed": 68,
     "status": "ok",
     "timestamp": 1694150574513,
     "user": {
      "displayName": "Андрей Медведев",
      "userId": "02560461935100345008"
     },
     "user_tz": -180
    },
    "id": "CTQPGU6bQ3FO",
    "outputId": "f690935b-8274-43b6-a0a0-16990ab17177"
   },
   "outputs": [
    {
     "data": {
      "text/html": [
       "\n",
       "  <div id=\"df-883e0076-0b28-48a5-8223-645f8257ffc8\" class=\"colab-df-container\">\n",
       "    <div>\n",
       "<style scoped>\n",
       "    .dataframe tbody tr th:only-of-type {\n",
       "        vertical-align: middle;\n",
       "    }\n",
       "\n",
       "    .dataframe tbody tr th {\n",
       "        vertical-align: top;\n",
       "    }\n",
       "\n",
       "    .dataframe thead th {\n",
       "        text-align: right;\n",
       "    }\n",
       "</style>\n",
       "<table border=\"1\" class=\"dataframe\">\n",
       "  <thead>\n",
       "    <tr style=\"text-align: right;\">\n",
       "      <th></th>\n",
       "      <th>life_car</th>\n",
       "      <th>odometer</th>\n",
       "    </tr>\n",
       "  </thead>\n",
       "  <tbody>\n",
       "    <tr>\n",
       "      <th>47</th>\n",
       "      <td>10</td>\n",
       "      <td>89590.0</td>\n",
       "    </tr>\n",
       "    <tr>\n",
       "      <th>72</th>\n",
       "      <td>14</td>\n",
       "      <td>76674.0</td>\n",
       "    </tr>\n",
       "  </tbody>\n",
       "</table>\n",
       "</div>\n",
       "    <div class=\"colab-df-buttons\">\n",
       "\n",
       "  <div class=\"colab-df-container\">\n",
       "    <button class=\"colab-df-convert\" onclick=\"convertToInteractive('df-883e0076-0b28-48a5-8223-645f8257ffc8')\"\n",
       "            title=\"Convert this dataframe to an interactive table.\"\n",
       "            style=\"display:none;\">\n",
       "\n",
       "  <svg xmlns=\"http://www.w3.org/2000/svg\" height=\"24px\" viewBox=\"0 -960 960 960\">\n",
       "    <path d=\"M120-120v-720h720v720H120Zm60-500h600v-160H180v160Zm220 220h160v-160H400v160Zm0 220h160v-160H400v160ZM180-400h160v-160H180v160Zm440 0h160v-160H620v160ZM180-180h160v-160H180v160Zm440 0h160v-160H620v160Z\"/>\n",
       "  </svg>\n",
       "    </button>\n",
       "\n",
       "  <style>\n",
       "    .colab-df-container {\n",
       "      display:flex;\n",
       "      gap: 12px;\n",
       "    }\n",
       "\n",
       "    .colab-df-convert {\n",
       "      background-color: #E8F0FE;\n",
       "      border: none;\n",
       "      border-radius: 50%;\n",
       "      cursor: pointer;\n",
       "      display: none;\n",
       "      fill: #1967D2;\n",
       "      height: 32px;\n",
       "      padding: 0 0 0 0;\n",
       "      width: 32px;\n",
       "    }\n",
       "\n",
       "    .colab-df-convert:hover {\n",
       "      background-color: #E2EBFA;\n",
       "      box-shadow: 0px 1px 2px rgba(60, 64, 67, 0.3), 0px 1px 3px 1px rgba(60, 64, 67, 0.15);\n",
       "      fill: #174EA6;\n",
       "    }\n",
       "\n",
       "    .colab-df-buttons div {\n",
       "      margin-bottom: 4px;\n",
       "    }\n",
       "\n",
       "    [theme=dark] .colab-df-convert {\n",
       "      background-color: #3B4455;\n",
       "      fill: #D2E3FC;\n",
       "    }\n",
       "\n",
       "    [theme=dark] .colab-df-convert:hover {\n",
       "      background-color: #434B5C;\n",
       "      box-shadow: 0px 1px 3px 1px rgba(0, 0, 0, 0.15);\n",
       "      filter: drop-shadow(0px 1px 2px rgba(0, 0, 0, 0.3));\n",
       "      fill: #FFFFFF;\n",
       "    }\n",
       "  </style>\n",
       "\n",
       "    <script>\n",
       "      const buttonEl =\n",
       "        document.querySelector('#df-883e0076-0b28-48a5-8223-645f8257ffc8 button.colab-df-convert');\n",
       "      buttonEl.style.display =\n",
       "        google.colab.kernel.accessAllowed ? 'block' : 'none';\n",
       "\n",
       "      async function convertToInteractive(key) {\n",
       "        const element = document.querySelector('#df-883e0076-0b28-48a5-8223-645f8257ffc8');\n",
       "        const dataTable =\n",
       "          await google.colab.kernel.invokeFunction('convertToInteractive',\n",
       "                                                    [key], {});\n",
       "        if (!dataTable) return;\n",
       "\n",
       "        const docLinkHtml = 'Like what you see? Visit the ' +\n",
       "          '<a target=\"_blank\" href=https://colab.research.google.com/notebooks/data_table.ipynb>data table notebook</a>'\n",
       "          + ' to learn more about interactive tables.';\n",
       "        element.innerHTML = '';\n",
       "        dataTable['output_type'] = 'display_data';\n",
       "        await google.colab.output.renderOutput(dataTable, element);\n",
       "        const docLink = document.createElement('div');\n",
       "        docLink.innerHTML = docLinkHtml;\n",
       "        element.appendChild(docLink);\n",
       "      }\n",
       "    </script>\n",
       "  </div>\n",
       "\n",
       "\n",
       "<div id=\"df-f7aa563d-0895-4554-a6ae-e84bd263fc3c\">\n",
       "  <button class=\"colab-df-quickchart\" onclick=\"quickchart('df-f7aa563d-0895-4554-a6ae-e84bd263fc3c')\"\n",
       "            title=\"Suggest charts.\"\n",
       "            style=\"display:none;\">\n",
       "\n",
       "<svg xmlns=\"http://www.w3.org/2000/svg\" height=\"24px\"viewBox=\"0 0 24 24\"\n",
       "     width=\"24px\">\n",
       "    <g>\n",
       "        <path d=\"M19 3H5c-1.1 0-2 .9-2 2v14c0 1.1.9 2 2 2h14c1.1 0 2-.9 2-2V5c0-1.1-.9-2-2-2zM9 17H7v-7h2v7zm4 0h-2V7h2v10zm4 0h-2v-4h2v4z\"/>\n",
       "    </g>\n",
       "</svg>\n",
       "  </button>\n",
       "\n",
       "<style>\n",
       "  .colab-df-quickchart {\n",
       "      --bg-color: #E8F0FE;\n",
       "      --fill-color: #1967D2;\n",
       "      --hover-bg-color: #E2EBFA;\n",
       "      --hover-fill-color: #174EA6;\n",
       "      --disabled-fill-color: #AAA;\n",
       "      --disabled-bg-color: #DDD;\n",
       "  }\n",
       "\n",
       "  [theme=dark] .colab-df-quickchart {\n",
       "      --bg-color: #3B4455;\n",
       "      --fill-color: #D2E3FC;\n",
       "      --hover-bg-color: #434B5C;\n",
       "      --hover-fill-color: #FFFFFF;\n",
       "      --disabled-bg-color: #3B4455;\n",
       "      --disabled-fill-color: #666;\n",
       "  }\n",
       "\n",
       "  .colab-df-quickchart {\n",
       "    background-color: var(--bg-color);\n",
       "    border: none;\n",
       "    border-radius: 50%;\n",
       "    cursor: pointer;\n",
       "    display: none;\n",
       "    fill: var(--fill-color);\n",
       "    height: 32px;\n",
       "    padding: 0;\n",
       "    width: 32px;\n",
       "  }\n",
       "\n",
       "  .colab-df-quickchart:hover {\n",
       "    background-color: var(--hover-bg-color);\n",
       "    box-shadow: 0 1px 2px rgba(60, 64, 67, 0.3), 0 1px 3px 1px rgba(60, 64, 67, 0.15);\n",
       "    fill: var(--button-hover-fill-color);\n",
       "  }\n",
       "\n",
       "  .colab-df-quickchart-complete:disabled,\n",
       "  .colab-df-quickchart-complete:disabled:hover {\n",
       "    background-color: var(--disabled-bg-color);\n",
       "    fill: var(--disabled-fill-color);\n",
       "    box-shadow: none;\n",
       "  }\n",
       "\n",
       "  .colab-df-spinner {\n",
       "    border: 2px solid var(--fill-color);\n",
       "    border-color: transparent;\n",
       "    border-bottom-color: var(--fill-color);\n",
       "    animation:\n",
       "      spin 1s steps(1) infinite;\n",
       "  }\n",
       "\n",
       "  @keyframes spin {\n",
       "    0% {\n",
       "      border-color: transparent;\n",
       "      border-bottom-color: var(--fill-color);\n",
       "      border-left-color: var(--fill-color);\n",
       "    }\n",
       "    20% {\n",
       "      border-color: transparent;\n",
       "      border-left-color: var(--fill-color);\n",
       "      border-top-color: var(--fill-color);\n",
       "    }\n",
       "    30% {\n",
       "      border-color: transparent;\n",
       "      border-left-color: var(--fill-color);\n",
       "      border-top-color: var(--fill-color);\n",
       "      border-right-color: var(--fill-color);\n",
       "    }\n",
       "    40% {\n",
       "      border-color: transparent;\n",
       "      border-right-color: var(--fill-color);\n",
       "      border-top-color: var(--fill-color);\n",
       "    }\n",
       "    60% {\n",
       "      border-color: transparent;\n",
       "      border-right-color: var(--fill-color);\n",
       "    }\n",
       "    80% {\n",
       "      border-color: transparent;\n",
       "      border-right-color: var(--fill-color);\n",
       "      border-bottom-color: var(--fill-color);\n",
       "    }\n",
       "    90% {\n",
       "      border-color: transparent;\n",
       "      border-bottom-color: var(--fill-color);\n",
       "    }\n",
       "  }\n",
       "</style>\n",
       "\n",
       "  <script>\n",
       "    async function quickchart(key) {\n",
       "      const quickchartButtonEl =\n",
       "        document.querySelector('#' + key + ' button');\n",
       "      quickchartButtonEl.disabled = true;  // To prevent multiple clicks.\n",
       "      quickchartButtonEl.classList.add('colab-df-spinner');\n",
       "      try {\n",
       "        const charts = await google.colab.kernel.invokeFunction(\n",
       "            'suggestCharts', [key], {});\n",
       "      } catch (error) {\n",
       "        console.error('Error during call to suggestCharts:', error);\n",
       "      }\n",
       "      quickchartButtonEl.classList.remove('colab-df-spinner');\n",
       "      quickchartButtonEl.classList.add('colab-df-quickchart-complete');\n",
       "    }\n",
       "    (() => {\n",
       "      let quickchartButtonEl =\n",
       "        document.querySelector('#df-f7aa563d-0895-4554-a6ae-e84bd263fc3c button');\n",
       "      quickchartButtonEl.style.display =\n",
       "        google.colab.kernel.accessAllowed ? 'block' : 'none';\n",
       "    })();\n",
       "  </script>\n",
       "</div>\n",
       "    </div>\n",
       "  </div>\n"
      ],
      "text/plain": [
       "    life_car  odometer\n",
       "47        10   89590.0\n",
       "72        14   76674.0"
      ]
     },
     "execution_count": 132,
     "metadata": {},
     "output_type": "execute_result"
    }
   ],
   "source": [
    "test_cond = test_fill.loc[test_fill['condition'].isna()][['life_car', 'odometer']]\n",
    "test_cond.head(2)"
   ]
  },
  {
   "cell_type": "code",
   "execution_count": 133,
   "id": "5GqZgOtHOFEN",
   "metadata": {
    "colab": {
     "base_uri": "https://localhost:8080/"
    },
    "executionInfo": {
     "elapsed": 67,
     "status": "ok",
     "timestamp": 1694150574513,
     "user": {
      "displayName": "Андрей Медведев",
      "userId": "02560461935100345008"
     },
     "user_tz": -180
    },
    "id": "5GqZgOtHOFEN",
    "outputId": "ab8bc9e7-4766-4f10-8b6e-f3492a305164"
   },
   "outputs": [
    {
     "data": {
      "text/plain": [
       "array([1.81399601, 2.9340768 , 2.32174844, ..., 3.29701967, 2.64321881,\n",
       "       2.48405219])"
      ]
     },
     "execution_count": 133,
     "metadata": {},
     "output_type": "execute_result"
    }
   ],
   "source": [
    "#предсказания на трейне\n",
    "pred = lr.predict(train_cond)\n",
    "pred"
   ]
  },
  {
   "cell_type": "code",
   "execution_count": 134,
   "id": "_Nh-AVY2RBja",
   "metadata": {
    "colab": {
     "base_uri": "https://localhost:8080/"
    },
    "executionInfo": {
     "elapsed": 56,
     "status": "ok",
     "timestamp": 1694150574514,
     "user": {
      "displayName": "Андрей Медведев",
      "userId": "02560461935100345008"
     },
     "user_tz": -180
    },
    "id": "_Nh-AVY2RBja",
    "outputId": "2e065209-701f-4965-a744-aa9724eeddbf"
   },
   "outputs": [
    {
     "data": {
      "text/plain": [
       "array([2.8879348 , 2.62986083, 2.33524772, ..., 2.58120947, 3.62432301,\n",
       "       2.7060215 ])"
      ]
     },
     "execution_count": 134,
     "metadata": {},
     "output_type": "execute_result"
    }
   ],
   "source": [
    "#предсказания на тесте\n",
    "pred_test = lr.predict(test_cond)\n",
    "pred_test"
   ]
  },
  {
   "cell_type": "code",
   "execution_count": 135,
   "id": "qQpzFzZTOFSw",
   "metadata": {
    "colab": {
     "base_uri": "https://localhost:8080/"
    },
    "executionInfo": {
     "elapsed": 49,
     "status": "ok",
     "timestamp": 1694150574514,
     "user": {
      "displayName": "Андрей Медведев",
      "userId": "02560461935100345008"
     },
     "user_tz": -180
    },
    "id": "qQpzFzZTOFSw",
    "outputId": "77fc74a7-d13e-47e0-d5f0-75a56501be7d"
   },
   "outputs": [
    {
     "data": {
      "text/plain": [
       "(-1.3893041476781178, 4.07890198818024)"
      ]
     },
     "execution_count": 135,
     "metadata": {},
     "output_type": "execute_result"
    }
   ],
   "source": [
    "pred.min(), pred.max()"
   ]
  },
  {
   "cell_type": "code",
   "execution_count": 136,
   "id": "ODJJv8DZRliz",
   "metadata": {
    "colab": {
     "base_uri": "https://localhost:8080/"
    },
    "executionInfo": {
     "elapsed": 42,
     "status": "ok",
     "timestamp": 1694150574514,
     "user": {
      "displayName": "Андрей Медведев",
      "userId": "02560461935100345008"
     },
     "user_tz": -180
    },
    "id": "ODJJv8DZRliz",
    "outputId": "f0e6c570-383f-4a69-80ec-e9bb038c7704"
   },
   "outputs": [
    {
     "data": {
      "text/plain": [
       "(0.8932296869785237, 4.069139233539561)"
      ]
     },
     "execution_count": 136,
     "metadata": {},
     "output_type": "execute_result"
    }
   ],
   "source": [
    "pred_test.min(), pred_test.max()"
   ]
  },
  {
   "cell_type": "code",
   "execution_count": 137,
   "id": "DJnKIWCTOFhP",
   "metadata": {
    "colab": {
     "base_uri": "https://localhost:8080/"
    },
    "executionInfo": {
     "elapsed": 39,
     "status": "ok",
     "timestamp": 1694150574515,
     "user": {
      "displayName": "Андрей Медведев",
      "userId": "02560461935100345008"
     },
     "user_tz": -180
    },
    "id": "DJnKIWCTOFhP",
    "outputId": "41a50f35-6b13-47c8-90ff-a03599d159c2"
   },
   "outputs": [
    {
     "data": {
      "text/plain": [
       "(1.0, 5.0)"
      ]
     },
     "execution_count": 137,
     "metadata": {},
     "output_type": "execute_result"
    }
   ],
   "source": [
    "train_fill['condition'].min(), train_fill['condition'].max()"
   ]
  },
  {
   "cell_type": "code",
   "execution_count": 138,
   "id": "_oNR9eKHO90f",
   "metadata": {
    "executionInfo": {
     "elapsed": 32,
     "status": "ok",
     "timestamp": 1694150574515,
     "user": {
      "displayName": "Андрей Медведев",
      "userId": "02560461935100345008"
     },
     "user_tz": -180
    },
    "id": "_oNR9eKHO90f"
   },
   "outputs": [],
   "source": [
    "#замена всех значений меньше 1 на 1\n",
    "pred = np.where(pred > 1, pred, 1)"
   ]
  },
  {
   "cell_type": "code",
   "execution_count": 139,
   "id": "r1eUPQLKRtxD",
   "metadata": {
    "executionInfo": {
     "elapsed": 32,
     "status": "ok",
     "timestamp": 1694150574515,
     "user": {
      "displayName": "Андрей Медведев",
      "userId": "02560461935100345008"
     },
     "user_tz": -180
    },
    "id": "r1eUPQLKRtxD"
   },
   "outputs": [],
   "source": [
    "pred_test = np.where(pred_test > 1, pred_test, 1)"
   ]
  },
  {
   "cell_type": "code",
   "execution_count": 140,
   "id": "MzqS4d9SO98N",
   "metadata": {
    "colab": {
     "base_uri": "https://localhost:8080/"
    },
    "executionInfo": {
     "elapsed": 31,
     "status": "ok",
     "timestamp": 1694150574515,
     "user": {
      "displayName": "Андрей Медведев",
      "userId": "02560461935100345008"
     },
     "user_tz": -180
    },
    "id": "MzqS4d9SO98N",
    "outputId": "cc2ec665-3c50-46d7-c43b-404918ae151f"
   },
   "outputs": [
    {
     "data": {
      "text/plain": [
       "(1.0, 4.07890198818024)"
      ]
     },
     "execution_count": 140,
     "metadata": {},
     "output_type": "execute_result"
    }
   ],
   "source": [
    "pred.min(), pred.max()"
   ]
  },
  {
   "cell_type": "code",
   "execution_count": 141,
   "id": "qGKsb-unO-Dh",
   "metadata": {
    "colab": {
     "base_uri": "https://localhost:8080/"
    },
    "executionInfo": {
     "elapsed": 25,
     "status": "ok",
     "timestamp": 1694150574515,
     "user": {
      "displayName": "Андрей Медведев",
      "userId": "02560461935100345008"
     },
     "user_tz": -180
    },
    "id": "qGKsb-unO-Dh",
    "outputId": "8c08e802-5f05-4a41-ad26-54db9bb738ca"
   },
   "outputs": [
    {
     "data": {
      "text/plain": [
       "(1.0, 4.069139233539561)"
      ]
     },
     "execution_count": 141,
     "metadata": {},
     "output_type": "execute_result"
    }
   ],
   "source": [
    "pred_test.min(), pred_test.max()"
   ]
  },
  {
   "cell_type": "code",
   "execution_count": 142,
   "id": "-FNs0rVXMQqF",
   "metadata": {
    "executionInfo": {
     "elapsed": 20,
     "status": "ok",
     "timestamp": 1694150574515,
     "user": {
      "displayName": "Андрей Медведев",
      "userId": "02560461935100345008"
     },
     "user_tz": -180
    },
    "id": "-FNs0rVXMQqF"
   },
   "outputs": [],
   "source": [
    "#замена пропусков по condition на предсказанные значения\n",
    "train_fill.loc[train_fill['condition'].isna(), 'condition'] = pred"
   ]
  },
  {
   "cell_type": "code",
   "execution_count": 143,
   "id": "X_cmrQlwOChT",
   "metadata": {
    "executionInfo": {
     "elapsed": 23,
     "status": "ok",
     "timestamp": 1694150574519,
     "user": {
      "displayName": "Андрей Медведев",
      "userId": "02560461935100345008"
     },
     "user_tz": -180
    },
    "id": "X_cmrQlwOChT"
   },
   "outputs": [],
   "source": [
    "test_fill.loc[test_fill['condition'].isna(), 'condition'] = pred_test"
   ]
  },
  {
   "cell_type": "code",
   "execution_count": 144,
   "id": "BV5fUP0kOCuf",
   "metadata": {
    "colab": {
     "base_uri": "https://localhost:8080/"
    },
    "executionInfo": {
     "elapsed": 25,
     "status": "ok",
     "timestamp": 1694150574521,
     "user": {
      "displayName": "Андрей Медведев",
      "userId": "02560461935100345008"
     },
     "user_tz": -180
    },
    "id": "BV5fUP0kOCuf",
    "outputId": "b87caff6-8357-4b76-a295-f81557f65a5d"
   },
   "outputs": [
    {
     "data": {
      "text/plain": [
       "year                              2000\n",
       "make                              audi\n",
       "model                               a4\n",
       "trim_x                    1.8t quattro\n",
       "body_x                           sedan\n",
       "transmission_x               automatic\n",
       "vin                  waudc28dxya073343\n",
       "state                               mo\n",
       "condition                     2.484052\n",
       "odometer                      105021.0\n",
       "color_x                            red\n",
       "interior_x                           —\n",
       "seller            o'fallon motorsports\n",
       "sellingprice                      2500\n",
       "saledate                          2014\n",
       "life_car                            14\n",
       "mean_go                         7501.5\n",
       "Name: 432100, dtype: object"
      ]
     },
     "execution_count": 144,
     "metadata": {},
     "output_type": "execute_result"
    }
   ],
   "source": [
    "#проверка одного значения\n",
    "#check one values\n",
    "\n",
    "train_fill.loc[432100]"
   ]
  },
  {
   "cell_type": "code",
   "execution_count": 145,
   "id": "hwRuPnMXMQyv",
   "metadata": {
    "colab": {
     "base_uri": "https://localhost:8080/"
    },
    "executionInfo": {
     "elapsed": 987,
     "status": "ok",
     "timestamp": 1694150575488,
     "user": {
      "displayName": "Андрей Медведев",
      "userId": "02560461935100345008"
     },
     "user_tz": -180
    },
    "id": "hwRuPnMXMQyv",
    "outputId": "8f2b5479-b7ae-4fe1-cbd1-41a2653d9b29"
   },
   "outputs": [
    {
     "data": {
      "text/plain": [
       "year              0\n",
       "make              0\n",
       "model             0\n",
       "trim_x            0\n",
       "body_x            0\n",
       "transmission_x    0\n",
       "vin               0\n",
       "state             0\n",
       "condition         0\n",
       "odometer          0\n",
       "color_x           0\n",
       "interior_x        0\n",
       "seller            0\n",
       "sellingprice      0\n",
       "saledate          0\n",
       "life_car          0\n",
       "mean_go           0\n",
       "dtype: int64"
      ]
     },
     "execution_count": 145,
     "metadata": {},
     "output_type": "execute_result"
    }
   ],
   "source": [
    "train_fill.isna().sum()"
   ]
  },
  {
   "cell_type": "code",
   "execution_count": 146,
   "id": "O3bJyD7mSEjC",
   "metadata": {
    "colab": {
     "base_uri": "https://localhost:8080/"
    },
    "executionInfo": {
     "elapsed": 36,
     "status": "ok",
     "timestamp": 1694150575489,
     "user": {
      "displayName": "Андрей Медведев",
      "userId": "02560461935100345008"
     },
     "user_tz": -180
    },
    "id": "O3bJyD7mSEjC",
    "outputId": "7e8e1aed-5b6e-4caa-b615-5a1808fba7ea"
   },
   "outputs": [
    {
     "data": {
      "text/plain": [
       "year              0\n",
       "make              0\n",
       "model             0\n",
       "trim_x            0\n",
       "body_x            0\n",
       "transmission_x    0\n",
       "vin               0\n",
       "state             0\n",
       "condition         0\n",
       "odometer          0\n",
       "color_x           0\n",
       "interior_x        0\n",
       "seller            0\n",
       "saledate          0\n",
       "life_car          0\n",
       "mean_go           0\n",
       "dtype: int64"
      ]
     },
     "execution_count": 146,
     "metadata": {},
     "output_type": "execute_result"
    }
   ],
   "source": [
    "test_fill.isna().sum()"
   ]
  },
  {
   "cell_type": "markdown",
   "id": "ukTPmrGf2OM8",
   "metadata": {
    "id": "ukTPmrGf2OM8"
   },
   "source": [
    "###### Все, пропусков нет\n",
    "-- --\n",
    "##### That's it, no passes"
   ]
  },
  {
   "cell_type": "code",
   "execution_count": 147,
   "id": "H4IdLsITMQ8S",
   "metadata": {
    "colab": {
     "base_uri": "https://localhost:8080/"
    },
    "executionInfo": {
     "elapsed": 28,
     "status": "ok",
     "timestamp": 1694150575491,
     "user": {
      "displayName": "Андрей Медведев",
      "userId": "02560461935100345008"
     },
     "user_tz": -180
    },
    "id": "H4IdLsITMQ8S",
    "outputId": "a57a2137-9222-46b1-a0de-ec0255efbf4b"
   },
   "outputs": [
    {
     "data": {
      "text/plain": [
       "999999.0"
      ]
     },
     "execution_count": 147,
     "metadata": {},
     "output_type": "execute_result"
    }
   ],
   "source": [
    "train_fill['mean_go'].max()"
   ]
  },
  {
   "cell_type": "markdown",
   "id": "UAv3pMFfR9UI",
   "metadata": {
    "id": "UAv3pMFfR9UI"
   },
   "source": [
    "## 3. подготовка датасета train_fill для обучения\n",
    "## 3. preparing the train_fill dataset for training"
   ]
  },
  {
   "cell_type": "code",
   "execution_count": 148,
   "id": "8Ua3xBEFR8mM",
   "metadata": {
    "colab": {
     "base_uri": "https://localhost:8080/",
     "height": 147
    },
    "executionInfo": {
     "elapsed": 17,
     "status": "ok",
     "timestamp": 1694150575491,
     "user": {
      "displayName": "Андрей Медведев",
      "userId": "02560461935100345008"
     },
     "user_tz": -180
    },
    "id": "8Ua3xBEFR8mM",
    "outputId": "a38a2c20-cad3-42b9-ad86-d3e97b4e4cdf"
   },
   "outputs": [
    {
     "data": {
      "text/html": [
       "\n",
       "  <div id=\"df-df46a08c-5b01-4956-a612-15bf0527394b\" class=\"colab-df-container\">\n",
       "    <div>\n",
       "<style scoped>\n",
       "    .dataframe tbody tr th:only-of-type {\n",
       "        vertical-align: middle;\n",
       "    }\n",
       "\n",
       "    .dataframe tbody tr th {\n",
       "        vertical-align: top;\n",
       "    }\n",
       "\n",
       "    .dataframe thead th {\n",
       "        text-align: right;\n",
       "    }\n",
       "</style>\n",
       "<table border=\"1\" class=\"dataframe\">\n",
       "  <thead>\n",
       "    <tr style=\"text-align: right;\">\n",
       "      <th></th>\n",
       "      <th>year</th>\n",
       "      <th>make</th>\n",
       "      <th>model</th>\n",
       "      <th>trim_x</th>\n",
       "      <th>body_x</th>\n",
       "      <th>transmission_x</th>\n",
       "      <th>vin</th>\n",
       "      <th>state</th>\n",
       "      <th>condition</th>\n",
       "      <th>odometer</th>\n",
       "      <th>color_x</th>\n",
       "      <th>interior_x</th>\n",
       "      <th>seller</th>\n",
       "      <th>sellingprice</th>\n",
       "      <th>saledate</th>\n",
       "      <th>life_car</th>\n",
       "      <th>mean_go</th>\n",
       "    </tr>\n",
       "  </thead>\n",
       "  <tbody>\n",
       "    <tr>\n",
       "      <th>250172</th>\n",
       "      <td>2012</td>\n",
       "      <td>honda</td>\n",
       "      <td>accord</td>\n",
       "      <td>se</td>\n",
       "      <td>sedan</td>\n",
       "      <td>automatic</td>\n",
       "      <td>1hgcp2f6xca229687</td>\n",
       "      <td>il</td>\n",
       "      <td>3.7</td>\n",
       "      <td>64352.0</td>\n",
       "      <td>black</td>\n",
       "      <td>black</td>\n",
       "      <td>ahfc/honda lease trust/hvt, inc. eot</td>\n",
       "      <td>11700</td>\n",
       "      <td>2015</td>\n",
       "      <td>3</td>\n",
       "      <td>21450.666667</td>\n",
       "    </tr>\n",
       "    <tr>\n",
       "      <th>251726</th>\n",
       "      <td>2014</td>\n",
       "      <td>ford</td>\n",
       "      <td>edge</td>\n",
       "      <td>limited</td>\n",
       "      <td>suv</td>\n",
       "      <td>automatic</td>\n",
       "      <td>2fmdk3kc6eba39164</td>\n",
       "      <td>tx</td>\n",
       "      <td>3.7</td>\n",
       "      <td>34090.0</td>\n",
       "      <td>red</td>\n",
       "      <td>—</td>\n",
       "      <td>avis corporation</td>\n",
       "      <td>21500</td>\n",
       "      <td>2015</td>\n",
       "      <td>1</td>\n",
       "      <td>34090.000000</td>\n",
       "    </tr>\n",
       "  </tbody>\n",
       "</table>\n",
       "</div>\n",
       "    <div class=\"colab-df-buttons\">\n",
       "\n",
       "  <div class=\"colab-df-container\">\n",
       "    <button class=\"colab-df-convert\" onclick=\"convertToInteractive('df-df46a08c-5b01-4956-a612-15bf0527394b')\"\n",
       "            title=\"Convert this dataframe to an interactive table.\"\n",
       "            style=\"display:none;\">\n",
       "\n",
       "  <svg xmlns=\"http://www.w3.org/2000/svg\" height=\"24px\" viewBox=\"0 -960 960 960\">\n",
       "    <path d=\"M120-120v-720h720v720H120Zm60-500h600v-160H180v160Zm220 220h160v-160H400v160Zm0 220h160v-160H400v160ZM180-400h160v-160H180v160Zm440 0h160v-160H620v160ZM180-180h160v-160H180v160Zm440 0h160v-160H620v160Z\"/>\n",
       "  </svg>\n",
       "    </button>\n",
       "\n",
       "  <style>\n",
       "    .colab-df-container {\n",
       "      display:flex;\n",
       "      gap: 12px;\n",
       "    }\n",
       "\n",
       "    .colab-df-convert {\n",
       "      background-color: #E8F0FE;\n",
       "      border: none;\n",
       "      border-radius: 50%;\n",
       "      cursor: pointer;\n",
       "      display: none;\n",
       "      fill: #1967D2;\n",
       "      height: 32px;\n",
       "      padding: 0 0 0 0;\n",
       "      width: 32px;\n",
       "    }\n",
       "\n",
       "    .colab-df-convert:hover {\n",
       "      background-color: #E2EBFA;\n",
       "      box-shadow: 0px 1px 2px rgba(60, 64, 67, 0.3), 0px 1px 3px 1px rgba(60, 64, 67, 0.15);\n",
       "      fill: #174EA6;\n",
       "    }\n",
       "\n",
       "    .colab-df-buttons div {\n",
       "      margin-bottom: 4px;\n",
       "    }\n",
       "\n",
       "    [theme=dark] .colab-df-convert {\n",
       "      background-color: #3B4455;\n",
       "      fill: #D2E3FC;\n",
       "    }\n",
       "\n",
       "    [theme=dark] .colab-df-convert:hover {\n",
       "      background-color: #434B5C;\n",
       "      box-shadow: 0px 1px 3px 1px rgba(0, 0, 0, 0.15);\n",
       "      filter: drop-shadow(0px 1px 2px rgba(0, 0, 0, 0.3));\n",
       "      fill: #FFFFFF;\n",
       "    }\n",
       "  </style>\n",
       "\n",
       "    <script>\n",
       "      const buttonEl =\n",
       "        document.querySelector('#df-df46a08c-5b01-4956-a612-15bf0527394b button.colab-df-convert');\n",
       "      buttonEl.style.display =\n",
       "        google.colab.kernel.accessAllowed ? 'block' : 'none';\n",
       "\n",
       "      async function convertToInteractive(key) {\n",
       "        const element = document.querySelector('#df-df46a08c-5b01-4956-a612-15bf0527394b');\n",
       "        const dataTable =\n",
       "          await google.colab.kernel.invokeFunction('convertToInteractive',\n",
       "                                                    [key], {});\n",
       "        if (!dataTable) return;\n",
       "\n",
       "        const docLinkHtml = 'Like what you see? Visit the ' +\n",
       "          '<a target=\"_blank\" href=https://colab.research.google.com/notebooks/data_table.ipynb>data table notebook</a>'\n",
       "          + ' to learn more about interactive tables.';\n",
       "        element.innerHTML = '';\n",
       "        dataTable['output_type'] = 'display_data';\n",
       "        await google.colab.output.renderOutput(dataTable, element);\n",
       "        const docLink = document.createElement('div');\n",
       "        docLink.innerHTML = docLinkHtml;\n",
       "        element.appendChild(docLink);\n",
       "      }\n",
       "    </script>\n",
       "  </div>\n",
       "\n",
       "\n",
       "<div id=\"df-4acd4292-bf06-455f-8671-a352d5a29962\">\n",
       "  <button class=\"colab-df-quickchart\" onclick=\"quickchart('df-4acd4292-bf06-455f-8671-a352d5a29962')\"\n",
       "            title=\"Suggest charts.\"\n",
       "            style=\"display:none;\">\n",
       "\n",
       "<svg xmlns=\"http://www.w3.org/2000/svg\" height=\"24px\"viewBox=\"0 0 24 24\"\n",
       "     width=\"24px\">\n",
       "    <g>\n",
       "        <path d=\"M19 3H5c-1.1 0-2 .9-2 2v14c0 1.1.9 2 2 2h14c1.1 0 2-.9 2-2V5c0-1.1-.9-2-2-2zM9 17H7v-7h2v7zm4 0h-2V7h2v10zm4 0h-2v-4h2v4z\"/>\n",
       "    </g>\n",
       "</svg>\n",
       "  </button>\n",
       "\n",
       "<style>\n",
       "  .colab-df-quickchart {\n",
       "      --bg-color: #E8F0FE;\n",
       "      --fill-color: #1967D2;\n",
       "      --hover-bg-color: #E2EBFA;\n",
       "      --hover-fill-color: #174EA6;\n",
       "      --disabled-fill-color: #AAA;\n",
       "      --disabled-bg-color: #DDD;\n",
       "  }\n",
       "\n",
       "  [theme=dark] .colab-df-quickchart {\n",
       "      --bg-color: #3B4455;\n",
       "      --fill-color: #D2E3FC;\n",
       "      --hover-bg-color: #434B5C;\n",
       "      --hover-fill-color: #FFFFFF;\n",
       "      --disabled-bg-color: #3B4455;\n",
       "      --disabled-fill-color: #666;\n",
       "  }\n",
       "\n",
       "  .colab-df-quickchart {\n",
       "    background-color: var(--bg-color);\n",
       "    border: none;\n",
       "    border-radius: 50%;\n",
       "    cursor: pointer;\n",
       "    display: none;\n",
       "    fill: var(--fill-color);\n",
       "    height: 32px;\n",
       "    padding: 0;\n",
       "    width: 32px;\n",
       "  }\n",
       "\n",
       "  .colab-df-quickchart:hover {\n",
       "    background-color: var(--hover-bg-color);\n",
       "    box-shadow: 0 1px 2px rgba(60, 64, 67, 0.3), 0 1px 3px 1px rgba(60, 64, 67, 0.15);\n",
       "    fill: var(--button-hover-fill-color);\n",
       "  }\n",
       "\n",
       "  .colab-df-quickchart-complete:disabled,\n",
       "  .colab-df-quickchart-complete:disabled:hover {\n",
       "    background-color: var(--disabled-bg-color);\n",
       "    fill: var(--disabled-fill-color);\n",
       "    box-shadow: none;\n",
       "  }\n",
       "\n",
       "  .colab-df-spinner {\n",
       "    border: 2px solid var(--fill-color);\n",
       "    border-color: transparent;\n",
       "    border-bottom-color: var(--fill-color);\n",
       "    animation:\n",
       "      spin 1s steps(1) infinite;\n",
       "  }\n",
       "\n",
       "  @keyframes spin {\n",
       "    0% {\n",
       "      border-color: transparent;\n",
       "      border-bottom-color: var(--fill-color);\n",
       "      border-left-color: var(--fill-color);\n",
       "    }\n",
       "    20% {\n",
       "      border-color: transparent;\n",
       "      border-left-color: var(--fill-color);\n",
       "      border-top-color: var(--fill-color);\n",
       "    }\n",
       "    30% {\n",
       "      border-color: transparent;\n",
       "      border-left-color: var(--fill-color);\n",
       "      border-top-color: var(--fill-color);\n",
       "      border-right-color: var(--fill-color);\n",
       "    }\n",
       "    40% {\n",
       "      border-color: transparent;\n",
       "      border-right-color: var(--fill-color);\n",
       "      border-top-color: var(--fill-color);\n",
       "    }\n",
       "    60% {\n",
       "      border-color: transparent;\n",
       "      border-right-color: var(--fill-color);\n",
       "    }\n",
       "    80% {\n",
       "      border-color: transparent;\n",
       "      border-right-color: var(--fill-color);\n",
       "      border-bottom-color: var(--fill-color);\n",
       "    }\n",
       "    90% {\n",
       "      border-color: transparent;\n",
       "      border-bottom-color: var(--fill-color);\n",
       "    }\n",
       "  }\n",
       "</style>\n",
       "\n",
       "  <script>\n",
       "    async function quickchart(key) {\n",
       "      const quickchartButtonEl =\n",
       "        document.querySelector('#' + key + ' button');\n",
       "      quickchartButtonEl.disabled = true;  // To prevent multiple clicks.\n",
       "      quickchartButtonEl.classList.add('colab-df-spinner');\n",
       "      try {\n",
       "        const charts = await google.colab.kernel.invokeFunction(\n",
       "            'suggestCharts', [key], {});\n",
       "      } catch (error) {\n",
       "        console.error('Error during call to suggestCharts:', error);\n",
       "      }\n",
       "      quickchartButtonEl.classList.remove('colab-df-spinner');\n",
       "      quickchartButtonEl.classList.add('colab-df-quickchart-complete');\n",
       "    }\n",
       "    (() => {\n",
       "      let quickchartButtonEl =\n",
       "        document.querySelector('#df-4acd4292-bf06-455f-8671-a352d5a29962 button');\n",
       "      quickchartButtonEl.style.display =\n",
       "        google.colab.kernel.accessAllowed ? 'block' : 'none';\n",
       "    })();\n",
       "  </script>\n",
       "</div>\n",
       "    </div>\n",
       "  </div>\n"
      ],
      "text/plain": [
       "        year   make   model   trim_x body_x transmission_x                vin  \\\n",
       "250172  2012  honda  accord       se  sedan      automatic  1hgcp2f6xca229687   \n",
       "251726  2014   ford    edge  limited    suv      automatic  2fmdk3kc6eba39164   \n",
       "\n",
       "       state  condition  odometer color_x interior_x  \\\n",
       "250172    il        3.7   64352.0   black      black   \n",
       "251726    tx        3.7   34090.0     red          —   \n",
       "\n",
       "                                      seller  sellingprice  saledate  \\\n",
       "250172  ahfc/honda lease trust/hvt, inc. eot         11700      2015   \n",
       "251726                      avis corporation         21500      2015   \n",
       "\n",
       "        life_car       mean_go  \n",
       "250172         3  21450.666667  \n",
       "251726         1  34090.000000  "
      ]
     },
     "execution_count": 148,
     "metadata": {},
     "output_type": "execute_result"
    }
   ],
   "source": [
    "train_fill.sample(2)"
   ]
  },
  {
   "cell_type": "code",
   "execution_count": 149,
   "id": "dreb8hlwMRED",
   "metadata": {
    "colab": {
     "base_uri": "https://localhost:8080/",
     "height": 112
    },
    "executionInfo": {
     "elapsed": 16,
     "status": "ok",
     "timestamp": 1694150575491,
     "user": {
      "displayName": "Андрей Медведев",
      "userId": "02560461935100345008"
     },
     "user_tz": -180
    },
    "id": "dreb8hlwMRED",
    "outputId": "db65ccd3-c3f5-4e88-f6ba-d3a2fb5e08e9"
   },
   "outputs": [
    {
     "data": {
      "text/html": [
       "\n",
       "  <div id=\"df-9c57de32-2f01-495b-8ad8-2e4073a69b1f\" class=\"colab-df-container\">\n",
       "    <div>\n",
       "<style scoped>\n",
       "    .dataframe tbody tr th:only-of-type {\n",
       "        vertical-align: middle;\n",
       "    }\n",
       "\n",
       "    .dataframe tbody tr th {\n",
       "        vertical-align: top;\n",
       "    }\n",
       "\n",
       "    .dataframe thead th {\n",
       "        text-align: right;\n",
       "    }\n",
       "</style>\n",
       "<table border=\"1\" class=\"dataframe\">\n",
       "  <thead>\n",
       "    <tr style=\"text-align: right;\">\n",
       "      <th></th>\n",
       "      <th>make</th>\n",
       "      <th>model</th>\n",
       "      <th>trim_x</th>\n",
       "      <th>body_x</th>\n",
       "      <th>transmission_x</th>\n",
       "      <th>state</th>\n",
       "      <th>condition</th>\n",
       "      <th>odometer</th>\n",
       "      <th>color_x</th>\n",
       "      <th>interior_x</th>\n",
       "      <th>sellingprice</th>\n",
       "      <th>life_car</th>\n",
       "      <th>mean_go</th>\n",
       "    </tr>\n",
       "  </thead>\n",
       "  <tbody>\n",
       "    <tr>\n",
       "      <th>33719</th>\n",
       "      <td>ford</td>\n",
       "      <td>escape</td>\n",
       "      <td>se</td>\n",
       "      <td>suv</td>\n",
       "      <td>automatic</td>\n",
       "      <td>mn</td>\n",
       "      <td>4.2</td>\n",
       "      <td>46191.0</td>\n",
       "      <td>white</td>\n",
       "      <td>black</td>\n",
       "      <td>17900</td>\n",
       "      <td>1</td>\n",
       "      <td>46191.0</td>\n",
       "    </tr>\n",
       "    <tr>\n",
       "      <th>243676</th>\n",
       "      <td>saturn</td>\n",
       "      <td>outlook</td>\n",
       "      <td>xe</td>\n",
       "      <td>suv</td>\n",
       "      <td>automatic</td>\n",
       "      <td>tx</td>\n",
       "      <td>2.6</td>\n",
       "      <td>182840.0</td>\n",
       "      <td>silver</td>\n",
       "      <td>gray</td>\n",
       "      <td>4600</td>\n",
       "      <td>8</td>\n",
       "      <td>22855.0</td>\n",
       "    </tr>\n",
       "  </tbody>\n",
       "</table>\n",
       "</div>\n",
       "    <div class=\"colab-df-buttons\">\n",
       "\n",
       "  <div class=\"colab-df-container\">\n",
       "    <button class=\"colab-df-convert\" onclick=\"convertToInteractive('df-9c57de32-2f01-495b-8ad8-2e4073a69b1f')\"\n",
       "            title=\"Convert this dataframe to an interactive table.\"\n",
       "            style=\"display:none;\">\n",
       "\n",
       "  <svg xmlns=\"http://www.w3.org/2000/svg\" height=\"24px\" viewBox=\"0 -960 960 960\">\n",
       "    <path d=\"M120-120v-720h720v720H120Zm60-500h600v-160H180v160Zm220 220h160v-160H400v160Zm0 220h160v-160H400v160ZM180-400h160v-160H180v160Zm440 0h160v-160H620v160ZM180-180h160v-160H180v160Zm440 0h160v-160H620v160Z\"/>\n",
       "  </svg>\n",
       "    </button>\n",
       "\n",
       "  <style>\n",
       "    .colab-df-container {\n",
       "      display:flex;\n",
       "      gap: 12px;\n",
       "    }\n",
       "\n",
       "    .colab-df-convert {\n",
       "      background-color: #E8F0FE;\n",
       "      border: none;\n",
       "      border-radius: 50%;\n",
       "      cursor: pointer;\n",
       "      display: none;\n",
       "      fill: #1967D2;\n",
       "      height: 32px;\n",
       "      padding: 0 0 0 0;\n",
       "      width: 32px;\n",
       "    }\n",
       "\n",
       "    .colab-df-convert:hover {\n",
       "      background-color: #E2EBFA;\n",
       "      box-shadow: 0px 1px 2px rgba(60, 64, 67, 0.3), 0px 1px 3px 1px rgba(60, 64, 67, 0.15);\n",
       "      fill: #174EA6;\n",
       "    }\n",
       "\n",
       "    .colab-df-buttons div {\n",
       "      margin-bottom: 4px;\n",
       "    }\n",
       "\n",
       "    [theme=dark] .colab-df-convert {\n",
       "      background-color: #3B4455;\n",
       "      fill: #D2E3FC;\n",
       "    }\n",
       "\n",
       "    [theme=dark] .colab-df-convert:hover {\n",
       "      background-color: #434B5C;\n",
       "      box-shadow: 0px 1px 3px 1px rgba(0, 0, 0, 0.15);\n",
       "      filter: drop-shadow(0px 1px 2px rgba(0, 0, 0, 0.3));\n",
       "      fill: #FFFFFF;\n",
       "    }\n",
       "  </style>\n",
       "\n",
       "    <script>\n",
       "      const buttonEl =\n",
       "        document.querySelector('#df-9c57de32-2f01-495b-8ad8-2e4073a69b1f button.colab-df-convert');\n",
       "      buttonEl.style.display =\n",
       "        google.colab.kernel.accessAllowed ? 'block' : 'none';\n",
       "\n",
       "      async function convertToInteractive(key) {\n",
       "        const element = document.querySelector('#df-9c57de32-2f01-495b-8ad8-2e4073a69b1f');\n",
       "        const dataTable =\n",
       "          await google.colab.kernel.invokeFunction('convertToInteractive',\n",
       "                                                    [key], {});\n",
       "        if (!dataTable) return;\n",
       "\n",
       "        const docLinkHtml = 'Like what you see? Visit the ' +\n",
       "          '<a target=\"_blank\" href=https://colab.research.google.com/notebooks/data_table.ipynb>data table notebook</a>'\n",
       "          + ' to learn more about interactive tables.';\n",
       "        element.innerHTML = '';\n",
       "        dataTable['output_type'] = 'display_data';\n",
       "        await google.colab.output.renderOutput(dataTable, element);\n",
       "        const docLink = document.createElement('div');\n",
       "        docLink.innerHTML = docLinkHtml;\n",
       "        element.appendChild(docLink);\n",
       "      }\n",
       "    </script>\n",
       "  </div>\n",
       "\n",
       "\n",
       "<div id=\"df-2cd7b5a0-60c6-4183-9998-b6211f9aa902\">\n",
       "  <button class=\"colab-df-quickchart\" onclick=\"quickchart('df-2cd7b5a0-60c6-4183-9998-b6211f9aa902')\"\n",
       "            title=\"Suggest charts.\"\n",
       "            style=\"display:none;\">\n",
       "\n",
       "<svg xmlns=\"http://www.w3.org/2000/svg\" height=\"24px\"viewBox=\"0 0 24 24\"\n",
       "     width=\"24px\">\n",
       "    <g>\n",
       "        <path d=\"M19 3H5c-1.1 0-2 .9-2 2v14c0 1.1.9 2 2 2h14c1.1 0 2-.9 2-2V5c0-1.1-.9-2-2-2zM9 17H7v-7h2v7zm4 0h-2V7h2v10zm4 0h-2v-4h2v4z\"/>\n",
       "    </g>\n",
       "</svg>\n",
       "  </button>\n",
       "\n",
       "<style>\n",
       "  .colab-df-quickchart {\n",
       "      --bg-color: #E8F0FE;\n",
       "      --fill-color: #1967D2;\n",
       "      --hover-bg-color: #E2EBFA;\n",
       "      --hover-fill-color: #174EA6;\n",
       "      --disabled-fill-color: #AAA;\n",
       "      --disabled-bg-color: #DDD;\n",
       "  }\n",
       "\n",
       "  [theme=dark] .colab-df-quickchart {\n",
       "      --bg-color: #3B4455;\n",
       "      --fill-color: #D2E3FC;\n",
       "      --hover-bg-color: #434B5C;\n",
       "      --hover-fill-color: #FFFFFF;\n",
       "      --disabled-bg-color: #3B4455;\n",
       "      --disabled-fill-color: #666;\n",
       "  }\n",
       "\n",
       "  .colab-df-quickchart {\n",
       "    background-color: var(--bg-color);\n",
       "    border: none;\n",
       "    border-radius: 50%;\n",
       "    cursor: pointer;\n",
       "    display: none;\n",
       "    fill: var(--fill-color);\n",
       "    height: 32px;\n",
       "    padding: 0;\n",
       "    width: 32px;\n",
       "  }\n",
       "\n",
       "  .colab-df-quickchart:hover {\n",
       "    background-color: var(--hover-bg-color);\n",
       "    box-shadow: 0 1px 2px rgba(60, 64, 67, 0.3), 0 1px 3px 1px rgba(60, 64, 67, 0.15);\n",
       "    fill: var(--button-hover-fill-color);\n",
       "  }\n",
       "\n",
       "  .colab-df-quickchart-complete:disabled,\n",
       "  .colab-df-quickchart-complete:disabled:hover {\n",
       "    background-color: var(--disabled-bg-color);\n",
       "    fill: var(--disabled-fill-color);\n",
       "    box-shadow: none;\n",
       "  }\n",
       "\n",
       "  .colab-df-spinner {\n",
       "    border: 2px solid var(--fill-color);\n",
       "    border-color: transparent;\n",
       "    border-bottom-color: var(--fill-color);\n",
       "    animation:\n",
       "      spin 1s steps(1) infinite;\n",
       "  }\n",
       "\n",
       "  @keyframes spin {\n",
       "    0% {\n",
       "      border-color: transparent;\n",
       "      border-bottom-color: var(--fill-color);\n",
       "      border-left-color: var(--fill-color);\n",
       "    }\n",
       "    20% {\n",
       "      border-color: transparent;\n",
       "      border-left-color: var(--fill-color);\n",
       "      border-top-color: var(--fill-color);\n",
       "    }\n",
       "    30% {\n",
       "      border-color: transparent;\n",
       "      border-left-color: var(--fill-color);\n",
       "      border-top-color: var(--fill-color);\n",
       "      border-right-color: var(--fill-color);\n",
       "    }\n",
       "    40% {\n",
       "      border-color: transparent;\n",
       "      border-right-color: var(--fill-color);\n",
       "      border-top-color: var(--fill-color);\n",
       "    }\n",
       "    60% {\n",
       "      border-color: transparent;\n",
       "      border-right-color: var(--fill-color);\n",
       "    }\n",
       "    80% {\n",
       "      border-color: transparent;\n",
       "      border-right-color: var(--fill-color);\n",
       "      border-bottom-color: var(--fill-color);\n",
       "    }\n",
       "    90% {\n",
       "      border-color: transparent;\n",
       "      border-bottom-color: var(--fill-color);\n",
       "    }\n",
       "  }\n",
       "</style>\n",
       "\n",
       "  <script>\n",
       "    async function quickchart(key) {\n",
       "      const quickchartButtonEl =\n",
       "        document.querySelector('#' + key + ' button');\n",
       "      quickchartButtonEl.disabled = true;  // To prevent multiple clicks.\n",
       "      quickchartButtonEl.classList.add('colab-df-spinner');\n",
       "      try {\n",
       "        const charts = await google.colab.kernel.invokeFunction(\n",
       "            'suggestCharts', [key], {});\n",
       "      } catch (error) {\n",
       "        console.error('Error during call to suggestCharts:', error);\n",
       "      }\n",
       "      quickchartButtonEl.classList.remove('colab-df-spinner');\n",
       "      quickchartButtonEl.classList.add('colab-df-quickchart-complete');\n",
       "    }\n",
       "    (() => {\n",
       "      let quickchartButtonEl =\n",
       "        document.querySelector('#df-2cd7b5a0-60c6-4183-9998-b6211f9aa902 button');\n",
       "      quickchartButtonEl.style.display =\n",
       "        google.colab.kernel.accessAllowed ? 'block' : 'none';\n",
       "    })();\n",
       "  </script>\n",
       "</div>\n",
       "    </div>\n",
       "  </div>\n"
      ],
      "text/plain": [
       "          make    model trim_x body_x transmission_x state  condition  \\\n",
       "33719     ford   escape     se    suv      automatic    mn        4.2   \n",
       "243676  saturn  outlook     xe    suv      automatic    tx        2.6   \n",
       "\n",
       "        odometer color_x interior_x  sellingprice  life_car  mean_go  \n",
       "33719    46191.0   white      black         17900         1  46191.0  \n",
       "243676  182840.0  silver       gray          4600         8  22855.0  "
      ]
     },
     "execution_count": 149,
     "metadata": {},
     "output_type": "execute_result"
    }
   ],
   "source": [
    "#удаление лишних столбцов\n",
    "#remove unnecessary columns\n",
    "\n",
    "col_del = ['year','vin', 'seller', 'saledate']\n",
    "train_fit = train_fill.drop(col_del, axis=1)\n",
    "train_fit.sample(2)"
   ]
  },
  {
   "cell_type": "code",
   "execution_count": 150,
   "id": "Lve5yVEWUzSd",
   "metadata": {
    "executionInfo": {
     "elapsed": 15,
     "status": "ok",
     "timestamp": 1694150575491,
     "user": {
      "displayName": "Андрей Медведев",
      "userId": "02560461935100345008"
     },
     "user_tz": -180
    },
    "id": "Lve5yVEWUzSd"
   },
   "outputs": [],
   "source": [
    "ohe = OneHotEncoder(handle_unknown='ignore')"
   ]
  },
  {
   "cell_type": "code",
   "execution_count": 151,
   "id": "85_1MrVpUzcD",
   "metadata": {
    "colab": {
     "base_uri": "https://localhost:8080/"
    },
    "executionInfo": {
     "elapsed": 496,
     "status": "ok",
     "timestamp": 1694150575973,
     "user": {
      "displayName": "Андрей Медведев",
      "userId": "02560461935100345008"
     },
     "user_tz": -180
    },
    "id": "85_1MrVpUzcD",
    "outputId": "dbbdcd46-d272-4fd6-e876-38d67e7a5cdb"
   },
   "outputs": [
    {
     "data": {
      "text/plain": [
       "Index(['make', 'model', 'trim_x', 'body_x', 'transmission_x', 'state',\n",
       "       'condition', 'odometer', 'color_x', 'interior_x', 'sellingprice',\n",
       "       'life_car', 'mean_go'],\n",
       "      dtype='object')"
      ]
     },
     "execution_count": 151,
     "metadata": {},
     "output_type": "execute_result"
    }
   ],
   "source": [
    "train_fit.columns"
   ]
  },
  {
   "cell_type": "code",
   "execution_count": 152,
   "id": "pCVSpVlCUzi0",
   "metadata": {
    "executionInfo": {
     "elapsed": 10,
     "status": "ok",
     "timestamp": 1694150575974,
     "user": {
      "displayName": "Андрей Медведев",
      "userId": "02560461935100345008"
     },
     "user_tz": -180
    },
    "id": "pCVSpVlCUzi0"
   },
   "outputs": [],
   "source": [
    "#список категориальных столбцов\n",
    "train_fit_cat_col = ['make', 'model', 'trim_x', 'body_x', 'transmission_x', 'state',\n",
    "       #'condition', 'odometer',\n",
    "                 'color_x', 'interior_x',\n",
    "                 #'sellingprice', 'life_car', 'mean_go'\n",
    "                 ]"
   ]
  },
  {
   "cell_type": "code",
   "execution_count": 153,
   "id": "4donAZSqcphe",
   "metadata": {
    "executionInfo": {
     "elapsed": 10,
     "status": "ok",
     "timestamp": 1694150575975,
     "user": {
      "displayName": "Андрей Медведев",
      "userId": "02560461935100345008"
     },
     "user_tz": -180
    },
    "id": "4donAZSqcphe"
   },
   "outputs": [],
   "source": [
    "#список числовых столбцов\n",
    "train_fit_num_col = [#'make', 'model', 'trim_x', 'body_x', 'transmission_x', 'state',\n",
    "       'condition', 'odometer',\n",
    "                 #'color_x', 'interior_x',\n",
    "                 #'sellingprice',\n",
    "                     'life_car', 'mean_go'\n",
    "                 ]"
   ]
  },
  {
   "cell_type": "code",
   "execution_count": 154,
   "id": "Eb4pZ7LeZ-uS",
   "metadata": {
    "colab": {
     "base_uri": "https://localhost:8080/"
    },
    "executionInfo": {
     "elapsed": 768,
     "status": "ok",
     "timestamp": 1694150576735,
     "user": {
      "displayName": "Андрей Медведев",
      "userId": "02560461935100345008"
     },
     "user_tz": -180
    },
    "id": "Eb4pZ7LeZ-uS",
    "outputId": "7ffbcaf6-ecc0-43a1-a94c-f2553df55744"
   },
   "outputs": [
    {
     "data": {
      "text/plain": [
       "<432046x2854 sparse matrix of type '<class 'numpy.float64'>'\n",
       "\twith 3456368 stored elements in Compressed Sparse Row format>"
      ]
     },
     "execution_count": 154,
     "metadata": {},
     "output_type": "execute_result"
    }
   ],
   "source": [
    "#преобразование категор столбцов техникой OHE\n",
    "#converting column categories using OHE technique\n",
    "\n",
    "train_fit_ohe = ohe.fit_transform(train_fit[train_fit_cat_col])\n",
    "train_fit_ohe"
   ]
  },
  {
   "cell_type": "code",
   "execution_count": 155,
   "id": "0H3uyoHWx5PC",
   "metadata": {
    "executionInfo": {
     "elapsed": 20,
     "status": "ok",
     "timestamp": 1694150576736,
     "user": {
      "displayName": "Андрей Медведев",
      "userId": "02560461935100345008"
     },
     "user_tz": -180
    },
    "id": "0H3uyoHWx5PC"
   },
   "outputs": [],
   "source": [
    "#приведение числовых столбцов одному типу\n",
    "#casting numeric columns to the same type\n",
    "\n",
    "train_fit[train_fit_num_col] = train_fit[train_fit_num_col].astype('float64')"
   ]
  },
  {
   "cell_type": "code",
   "execution_count": 156,
   "id": "3_DHUIiDxwMb",
   "metadata": {
    "executionInfo": {
     "elapsed": 19,
     "status": "ok",
     "timestamp": 1694150576737,
     "user": {
      "displayName": "Андрей Медведев",
      "userId": "02560461935100345008"
     },
     "user_tz": -180
    },
    "id": "3_DHUIiDxwMb"
   },
   "outputs": [],
   "source": [
    "#преобразование нум столбцов в sparse matrix\n",
    "#convert num columns to sparse matrix\n",
    "\n",
    "train_fit_num = csr_matrix(train_fit[train_fit_num_col])"
   ]
  },
  {
   "cell_type": "code",
   "execution_count": 157,
   "id": "I3gKJpFRxPDh",
   "metadata": {
    "colab": {
     "base_uri": "https://localhost:8080/",
     "height": 175
    },
    "executionInfo": {
     "elapsed": 19,
     "status": "ok",
     "timestamp": 1694150576738,
     "user": {
      "displayName": "Андрей Медведев",
      "userId": "02560461935100345008"
     },
     "user_tz": -180
    },
    "id": "I3gKJpFRxPDh",
    "outputId": "c09f34f8-4dd4-4f08-9516-e7d51f65151c"
   },
   "outputs": [
    {
     "data": {
      "text/html": [
       "\n",
       "  <div id=\"df-d7f6d6c2-b559-4f18-9c4c-47a4ef8bdef3\" class=\"colab-df-container\">\n",
       "    <div>\n",
       "<style scoped>\n",
       "    .dataframe tbody tr th:only-of-type {\n",
       "        vertical-align: middle;\n",
       "    }\n",
       "\n",
       "    .dataframe tbody tr th {\n",
       "        vertical-align: top;\n",
       "    }\n",
       "\n",
       "    .dataframe thead th {\n",
       "        text-align: right;\n",
       "    }\n",
       "</style>\n",
       "<table border=\"1\" class=\"dataframe\">\n",
       "  <thead>\n",
       "    <tr style=\"text-align: right;\">\n",
       "      <th></th>\n",
       "      <th>condition</th>\n",
       "      <th>odometer</th>\n",
       "      <th>life_car</th>\n",
       "      <th>mean_go</th>\n",
       "    </tr>\n",
       "  </thead>\n",
       "  <tbody>\n",
       "    <tr>\n",
       "      <th>condition</th>\n",
       "      <td>1.000000</td>\n",
       "      <td>-0.546067</td>\n",
       "      <td>-0.555865</td>\n",
       "      <td>-0.003063</td>\n",
       "    </tr>\n",
       "    <tr>\n",
       "      <th>odometer</th>\n",
       "      <td>-0.546067</td>\n",
       "      <td>1.000000</td>\n",
       "      <td>0.773951</td>\n",
       "      <td>0.202893</td>\n",
       "    </tr>\n",
       "    <tr>\n",
       "      <th>life_car</th>\n",
       "      <td>-0.555865</td>\n",
       "      <td>0.773951</td>\n",
       "      <td>1.000000</td>\n",
       "      <td>-0.276042</td>\n",
       "    </tr>\n",
       "    <tr>\n",
       "      <th>mean_go</th>\n",
       "      <td>-0.003063</td>\n",
       "      <td>0.202893</td>\n",
       "      <td>-0.276042</td>\n",
       "      <td>1.000000</td>\n",
       "    </tr>\n",
       "  </tbody>\n",
       "</table>\n",
       "</div>\n",
       "    <div class=\"colab-df-buttons\">\n",
       "\n",
       "  <div class=\"colab-df-container\">\n",
       "    <button class=\"colab-df-convert\" onclick=\"convertToInteractive('df-d7f6d6c2-b559-4f18-9c4c-47a4ef8bdef3')\"\n",
       "            title=\"Convert this dataframe to an interactive table.\"\n",
       "            style=\"display:none;\">\n",
       "\n",
       "  <svg xmlns=\"http://www.w3.org/2000/svg\" height=\"24px\" viewBox=\"0 -960 960 960\">\n",
       "    <path d=\"M120-120v-720h720v720H120Zm60-500h600v-160H180v160Zm220 220h160v-160H400v160Zm0 220h160v-160H400v160ZM180-400h160v-160H180v160Zm440 0h160v-160H620v160ZM180-180h160v-160H180v160Zm440 0h160v-160H620v160Z\"/>\n",
       "  </svg>\n",
       "    </button>\n",
       "\n",
       "  <style>\n",
       "    .colab-df-container {\n",
       "      display:flex;\n",
       "      gap: 12px;\n",
       "    }\n",
       "\n",
       "    .colab-df-convert {\n",
       "      background-color: #E8F0FE;\n",
       "      border: none;\n",
       "      border-radius: 50%;\n",
       "      cursor: pointer;\n",
       "      display: none;\n",
       "      fill: #1967D2;\n",
       "      height: 32px;\n",
       "      padding: 0 0 0 0;\n",
       "      width: 32px;\n",
       "    }\n",
       "\n",
       "    .colab-df-convert:hover {\n",
       "      background-color: #E2EBFA;\n",
       "      box-shadow: 0px 1px 2px rgba(60, 64, 67, 0.3), 0px 1px 3px 1px rgba(60, 64, 67, 0.15);\n",
       "      fill: #174EA6;\n",
       "    }\n",
       "\n",
       "    .colab-df-buttons div {\n",
       "      margin-bottom: 4px;\n",
       "    }\n",
       "\n",
       "    [theme=dark] .colab-df-convert {\n",
       "      background-color: #3B4455;\n",
       "      fill: #D2E3FC;\n",
       "    }\n",
       "\n",
       "    [theme=dark] .colab-df-convert:hover {\n",
       "      background-color: #434B5C;\n",
       "      box-shadow: 0px 1px 3px 1px rgba(0, 0, 0, 0.15);\n",
       "      filter: drop-shadow(0px 1px 2px rgba(0, 0, 0, 0.3));\n",
       "      fill: #FFFFFF;\n",
       "    }\n",
       "  </style>\n",
       "\n",
       "    <script>\n",
       "      const buttonEl =\n",
       "        document.querySelector('#df-d7f6d6c2-b559-4f18-9c4c-47a4ef8bdef3 button.colab-df-convert');\n",
       "      buttonEl.style.display =\n",
       "        google.colab.kernel.accessAllowed ? 'block' : 'none';\n",
       "\n",
       "      async function convertToInteractive(key) {\n",
       "        const element = document.querySelector('#df-d7f6d6c2-b559-4f18-9c4c-47a4ef8bdef3');\n",
       "        const dataTable =\n",
       "          await google.colab.kernel.invokeFunction('convertToInteractive',\n",
       "                                                    [key], {});\n",
       "        if (!dataTable) return;\n",
       "\n",
       "        const docLinkHtml = 'Like what you see? Visit the ' +\n",
       "          '<a target=\"_blank\" href=https://colab.research.google.com/notebooks/data_table.ipynb>data table notebook</a>'\n",
       "          + ' to learn more about interactive tables.';\n",
       "        element.innerHTML = '';\n",
       "        dataTable['output_type'] = 'display_data';\n",
       "        await google.colab.output.renderOutput(dataTable, element);\n",
       "        const docLink = document.createElement('div');\n",
       "        docLink.innerHTML = docLinkHtml;\n",
       "        element.appendChild(docLink);\n",
       "      }\n",
       "    </script>\n",
       "  </div>\n",
       "\n",
       "\n",
       "<div id=\"df-0617022d-ae19-4798-9dfc-e9d32dda963c\">\n",
       "  <button class=\"colab-df-quickchart\" onclick=\"quickchart('df-0617022d-ae19-4798-9dfc-e9d32dda963c')\"\n",
       "            title=\"Suggest charts.\"\n",
       "            style=\"display:none;\">\n",
       "\n",
       "<svg xmlns=\"http://www.w3.org/2000/svg\" height=\"24px\"viewBox=\"0 0 24 24\"\n",
       "     width=\"24px\">\n",
       "    <g>\n",
       "        <path d=\"M19 3H5c-1.1 0-2 .9-2 2v14c0 1.1.9 2 2 2h14c1.1 0 2-.9 2-2V5c0-1.1-.9-2-2-2zM9 17H7v-7h2v7zm4 0h-2V7h2v10zm4 0h-2v-4h2v4z\"/>\n",
       "    </g>\n",
       "</svg>\n",
       "  </button>\n",
       "\n",
       "<style>\n",
       "  .colab-df-quickchart {\n",
       "      --bg-color: #E8F0FE;\n",
       "      --fill-color: #1967D2;\n",
       "      --hover-bg-color: #E2EBFA;\n",
       "      --hover-fill-color: #174EA6;\n",
       "      --disabled-fill-color: #AAA;\n",
       "      --disabled-bg-color: #DDD;\n",
       "  }\n",
       "\n",
       "  [theme=dark] .colab-df-quickchart {\n",
       "      --bg-color: #3B4455;\n",
       "      --fill-color: #D2E3FC;\n",
       "      --hover-bg-color: #434B5C;\n",
       "      --hover-fill-color: #FFFFFF;\n",
       "      --disabled-bg-color: #3B4455;\n",
       "      --disabled-fill-color: #666;\n",
       "  }\n",
       "\n",
       "  .colab-df-quickchart {\n",
       "    background-color: var(--bg-color);\n",
       "    border: none;\n",
       "    border-radius: 50%;\n",
       "    cursor: pointer;\n",
       "    display: none;\n",
       "    fill: var(--fill-color);\n",
       "    height: 32px;\n",
       "    padding: 0;\n",
       "    width: 32px;\n",
       "  }\n",
       "\n",
       "  .colab-df-quickchart:hover {\n",
       "    background-color: var(--hover-bg-color);\n",
       "    box-shadow: 0 1px 2px rgba(60, 64, 67, 0.3), 0 1px 3px 1px rgba(60, 64, 67, 0.15);\n",
       "    fill: var(--button-hover-fill-color);\n",
       "  }\n",
       "\n",
       "  .colab-df-quickchart-complete:disabled,\n",
       "  .colab-df-quickchart-complete:disabled:hover {\n",
       "    background-color: var(--disabled-bg-color);\n",
       "    fill: var(--disabled-fill-color);\n",
       "    box-shadow: none;\n",
       "  }\n",
       "\n",
       "  .colab-df-spinner {\n",
       "    border: 2px solid var(--fill-color);\n",
       "    border-color: transparent;\n",
       "    border-bottom-color: var(--fill-color);\n",
       "    animation:\n",
       "      spin 1s steps(1) infinite;\n",
       "  }\n",
       "\n",
       "  @keyframes spin {\n",
       "    0% {\n",
       "      border-color: transparent;\n",
       "      border-bottom-color: var(--fill-color);\n",
       "      border-left-color: var(--fill-color);\n",
       "    }\n",
       "    20% {\n",
       "      border-color: transparent;\n",
       "      border-left-color: var(--fill-color);\n",
       "      border-top-color: var(--fill-color);\n",
       "    }\n",
       "    30% {\n",
       "      border-color: transparent;\n",
       "      border-left-color: var(--fill-color);\n",
       "      border-top-color: var(--fill-color);\n",
       "      border-right-color: var(--fill-color);\n",
       "    }\n",
       "    40% {\n",
       "      border-color: transparent;\n",
       "      border-right-color: var(--fill-color);\n",
       "      border-top-color: var(--fill-color);\n",
       "    }\n",
       "    60% {\n",
       "      border-color: transparent;\n",
       "      border-right-color: var(--fill-color);\n",
       "    }\n",
       "    80% {\n",
       "      border-color: transparent;\n",
       "      border-right-color: var(--fill-color);\n",
       "      border-bottom-color: var(--fill-color);\n",
       "    }\n",
       "    90% {\n",
       "      border-color: transparent;\n",
       "      border-bottom-color: var(--fill-color);\n",
       "    }\n",
       "  }\n",
       "</style>\n",
       "\n",
       "  <script>\n",
       "    async function quickchart(key) {\n",
       "      const quickchartButtonEl =\n",
       "        document.querySelector('#' + key + ' button');\n",
       "      quickchartButtonEl.disabled = true;  // To prevent multiple clicks.\n",
       "      quickchartButtonEl.classList.add('colab-df-spinner');\n",
       "      try {\n",
       "        const charts = await google.colab.kernel.invokeFunction(\n",
       "            'suggestCharts', [key], {});\n",
       "      } catch (error) {\n",
       "        console.error('Error during call to suggestCharts:', error);\n",
       "      }\n",
       "      quickchartButtonEl.classList.remove('colab-df-spinner');\n",
       "      quickchartButtonEl.classList.add('colab-df-quickchart-complete');\n",
       "    }\n",
       "    (() => {\n",
       "      let quickchartButtonEl =\n",
       "        document.querySelector('#df-0617022d-ae19-4798-9dfc-e9d32dda963c button');\n",
       "      quickchartButtonEl.style.display =\n",
       "        google.colab.kernel.accessAllowed ? 'block' : 'none';\n",
       "    })();\n",
       "  </script>\n",
       "</div>\n",
       "    </div>\n",
       "  </div>\n"
      ],
      "text/plain": [
       "           condition  odometer  life_car   mean_go\n",
       "condition   1.000000 -0.546067 -0.555865 -0.003063\n",
       "odometer   -0.546067  1.000000  0.773951  0.202893\n",
       "life_car   -0.555865  0.773951  1.000000 -0.276042\n",
       "mean_go    -0.003063  0.202893 -0.276042  1.000000"
      ]
     },
     "execution_count": 157,
     "metadata": {},
     "output_type": "execute_result"
    }
   ],
   "source": [
    "#проверка линейной корреляции Пирсона между числовыми столцами\n",
    "#check linear correlation of Pirson\n",
    "\n",
    "train_fit[train_fit_num_col].corr()"
   ]
  },
  {
   "cell_type": "markdown",
   "id": "nnAXRBxwne9t",
   "metadata": {
    "id": "nnAXRBxwne9t"
   },
   "source": [
    "Есть приличная корреляция между сроком жизни машины и показаниями одометра, что совпадает со здравым смыслом.\n",
    "\n",
    "Пока этот коррелирующий столбец удалять не буду.\n",
    "-- --\n",
    "There is a decent correlation between the life of a car and the odometer reading, which is common sense.\n",
    "\n",
    "I will not delete this correlating column for now."
   ]
  },
  {
   "cell_type": "code",
   "execution_count": 158,
   "id": "mzjm8lbRZ_ta",
   "metadata": {
    "colab": {
     "base_uri": "https://localhost:8080/"
    },
    "executionInfo": {
     "elapsed": 580,
     "status": "ok",
     "timestamp": 1694150577303,
     "user": {
      "displayName": "Андрей Медведев",
      "userId": "02560461935100345008"
     },
     "user_tz": -180
    },
    "id": "mzjm8lbRZ_ta",
    "outputId": "13b9e028-aa4e-41e1-cb63-e6129b5e7601"
   },
   "outputs": [
    {
     "data": {
      "text/plain": [
       "<432046x2858 sparse matrix of type '<class 'numpy.float64'>'\n",
       "\twith 5184552 stored elements in Compressed Sparse Row format>"
      ]
     },
     "execution_count": 158,
     "metadata": {},
     "output_type": "execute_result"
    }
   ],
   "source": [
    "#соединение двух sparse matrix в одну\n",
    "#join two sparse matrix in one\n",
    "\n",
    "train_fit_sparse = hstack((train_fit_ohe, train_fit_num))\n",
    "train_fit_sparse"
   ]
  },
  {
   "cell_type": "code",
   "execution_count": 158,
   "id": "QGKCBD44Z_0M",
   "metadata": {
    "executionInfo": {
     "elapsed": 35,
     "status": "ok",
     "timestamp": 1694150577303,
     "user": {
      "displayName": "Андрей Медведев",
      "userId": "02560461935100345008"
     },
     "user_tz": -180
    },
    "id": "QGKCBD44Z_0M"
   },
   "outputs": [],
   "source": []
  },
  {
   "cell_type": "markdown",
   "id": "yatMsEGfwPf3",
   "metadata": {
    "id": "yatMsEGfwPf3"
   },
   "source": [
    "## 4. кластеризация (проба)\n",
    "## 4. clustering (trial)"
   ]
  },
  {
   "cell_type": "code",
   "execution_count": 159,
   "id": "1z8fzDGFwTou",
   "metadata": {
    "executionInfo": {
     "elapsed": 34,
     "status": "ok",
     "timestamp": 1694150577303,
     "user": {
      "displayName": "Андрей Медведев",
      "userId": "02560461935100345008"
     },
     "user_tz": -180
    },
    "id": "1z8fzDGFwTou"
   },
   "outputs": [],
   "source": [
    "from sklearn.cluster import DBSCAN\n",
    "from sklearn.preprocessing import StandardScaler"
   ]
  },
  {
   "cell_type": "code",
   "execution_count": 159,
   "id": "ZnkpSSURw0-P",
   "metadata": {
    "executionInfo": {
     "elapsed": 34,
     "status": "ok",
     "timestamp": 1694150577304,
     "user": {
      "displayName": "Андрей Медведев",
      "userId": "02560461935100345008"
     },
     "user_tz": -180
    },
    "id": "ZnkpSSURw0-P"
   },
   "outputs": [],
   "source": []
  },
  {
   "cell_type": "code",
   "execution_count": 160,
   "id": "z5lIMVY9wTr9",
   "metadata": {
    "colab": {
     "base_uri": "https://localhost:8080/",
     "height": 112
    },
    "executionInfo": {
     "elapsed": 33,
     "status": "ok",
     "timestamp": 1694150577304,
     "user": {
      "displayName": "Андрей Медведев",
      "userId": "02560461935100345008"
     },
     "user_tz": -180
    },
    "id": "z5lIMVY9wTr9",
    "outputId": "8c52f3fe-1b04-4299-c1cd-ce4909e1d624"
   },
   "outputs": [
    {
     "data": {
      "text/html": [
       "\n",
       "  <div id=\"df-62984f15-67ff-4ded-89ae-958b2fa4c276\" class=\"colab-df-container\">\n",
       "    <div>\n",
       "<style scoped>\n",
       "    .dataframe tbody tr th:only-of-type {\n",
       "        vertical-align: middle;\n",
       "    }\n",
       "\n",
       "    .dataframe tbody tr th {\n",
       "        vertical-align: top;\n",
       "    }\n",
       "\n",
       "    .dataframe thead th {\n",
       "        text-align: right;\n",
       "    }\n",
       "</style>\n",
       "<table border=\"1\" class=\"dataframe\">\n",
       "  <thead>\n",
       "    <tr style=\"text-align: right;\">\n",
       "      <th></th>\n",
       "      <th>make</th>\n",
       "      <th>model</th>\n",
       "      <th>trim_x</th>\n",
       "      <th>body_x</th>\n",
       "      <th>transmission_x</th>\n",
       "      <th>state</th>\n",
       "      <th>condition</th>\n",
       "      <th>odometer</th>\n",
       "      <th>color_x</th>\n",
       "      <th>interior_x</th>\n",
       "      <th>sellingprice</th>\n",
       "      <th>life_car</th>\n",
       "      <th>mean_go</th>\n",
       "    </tr>\n",
       "  </thead>\n",
       "  <tbody>\n",
       "    <tr>\n",
       "      <th>0</th>\n",
       "      <td>nissan</td>\n",
       "      <td>altima</td>\n",
       "      <td>2.5 s</td>\n",
       "      <td>sedan</td>\n",
       "      <td>automatic</td>\n",
       "      <td>ca</td>\n",
       "      <td>2.4</td>\n",
       "      <td>45157.0</td>\n",
       "      <td>black</td>\n",
       "      <td>black</td>\n",
       "      <td>10100</td>\n",
       "      <td>3.0</td>\n",
       "      <td>15052.333333</td>\n",
       "    </tr>\n",
       "    <tr>\n",
       "      <th>1</th>\n",
       "      <td>audi</td>\n",
       "      <td>a3</td>\n",
       "      <td>1.8 tfsi premium</td>\n",
       "      <td>sedan</td>\n",
       "      <td>automatic</td>\n",
       "      <td>ca</td>\n",
       "      <td>5.0</td>\n",
       "      <td>10507.0</td>\n",
       "      <td>white</td>\n",
       "      <td>black</td>\n",
       "      <td>25250</td>\n",
       "      <td>1.0</td>\n",
       "      <td>10507.000000</td>\n",
       "    </tr>\n",
       "  </tbody>\n",
       "</table>\n",
       "</div>\n",
       "    <div class=\"colab-df-buttons\">\n",
       "\n",
       "  <div class=\"colab-df-container\">\n",
       "    <button class=\"colab-df-convert\" onclick=\"convertToInteractive('df-62984f15-67ff-4ded-89ae-958b2fa4c276')\"\n",
       "            title=\"Convert this dataframe to an interactive table.\"\n",
       "            style=\"display:none;\">\n",
       "\n",
       "  <svg xmlns=\"http://www.w3.org/2000/svg\" height=\"24px\" viewBox=\"0 -960 960 960\">\n",
       "    <path d=\"M120-120v-720h720v720H120Zm60-500h600v-160H180v160Zm220 220h160v-160H400v160Zm0 220h160v-160H400v160ZM180-400h160v-160H180v160Zm440 0h160v-160H620v160ZM180-180h160v-160H180v160Zm440 0h160v-160H620v160Z\"/>\n",
       "  </svg>\n",
       "    </button>\n",
       "\n",
       "  <style>\n",
       "    .colab-df-container {\n",
       "      display:flex;\n",
       "      gap: 12px;\n",
       "    }\n",
       "\n",
       "    .colab-df-convert {\n",
       "      background-color: #E8F0FE;\n",
       "      border: none;\n",
       "      border-radius: 50%;\n",
       "      cursor: pointer;\n",
       "      display: none;\n",
       "      fill: #1967D2;\n",
       "      height: 32px;\n",
       "      padding: 0 0 0 0;\n",
       "      width: 32px;\n",
       "    }\n",
       "\n",
       "    .colab-df-convert:hover {\n",
       "      background-color: #E2EBFA;\n",
       "      box-shadow: 0px 1px 2px rgba(60, 64, 67, 0.3), 0px 1px 3px 1px rgba(60, 64, 67, 0.15);\n",
       "      fill: #174EA6;\n",
       "    }\n",
       "\n",
       "    .colab-df-buttons div {\n",
       "      margin-bottom: 4px;\n",
       "    }\n",
       "\n",
       "    [theme=dark] .colab-df-convert {\n",
       "      background-color: #3B4455;\n",
       "      fill: #D2E3FC;\n",
       "    }\n",
       "\n",
       "    [theme=dark] .colab-df-convert:hover {\n",
       "      background-color: #434B5C;\n",
       "      box-shadow: 0px 1px 3px 1px rgba(0, 0, 0, 0.15);\n",
       "      filter: drop-shadow(0px 1px 2px rgba(0, 0, 0, 0.3));\n",
       "      fill: #FFFFFF;\n",
       "    }\n",
       "  </style>\n",
       "\n",
       "    <script>\n",
       "      const buttonEl =\n",
       "        document.querySelector('#df-62984f15-67ff-4ded-89ae-958b2fa4c276 button.colab-df-convert');\n",
       "      buttonEl.style.display =\n",
       "        google.colab.kernel.accessAllowed ? 'block' : 'none';\n",
       "\n",
       "      async function convertToInteractive(key) {\n",
       "        const element = document.querySelector('#df-62984f15-67ff-4ded-89ae-958b2fa4c276');\n",
       "        const dataTable =\n",
       "          await google.colab.kernel.invokeFunction('convertToInteractive',\n",
       "                                                    [key], {});\n",
       "        if (!dataTable) return;\n",
       "\n",
       "        const docLinkHtml = 'Like what you see? Visit the ' +\n",
       "          '<a target=\"_blank\" href=https://colab.research.google.com/notebooks/data_table.ipynb>data table notebook</a>'\n",
       "          + ' to learn more about interactive tables.';\n",
       "        element.innerHTML = '';\n",
       "        dataTable['output_type'] = 'display_data';\n",
       "        await google.colab.output.renderOutput(dataTable, element);\n",
       "        const docLink = document.createElement('div');\n",
       "        docLink.innerHTML = docLinkHtml;\n",
       "        element.appendChild(docLink);\n",
       "      }\n",
       "    </script>\n",
       "  </div>\n",
       "\n",
       "\n",
       "<div id=\"df-7e7b7ca8-b842-4952-b5b2-aacfe5378568\">\n",
       "  <button class=\"colab-df-quickchart\" onclick=\"quickchart('df-7e7b7ca8-b842-4952-b5b2-aacfe5378568')\"\n",
       "            title=\"Suggest charts.\"\n",
       "            style=\"display:none;\">\n",
       "\n",
       "<svg xmlns=\"http://www.w3.org/2000/svg\" height=\"24px\"viewBox=\"0 0 24 24\"\n",
       "     width=\"24px\">\n",
       "    <g>\n",
       "        <path d=\"M19 3H5c-1.1 0-2 .9-2 2v14c0 1.1.9 2 2 2h14c1.1 0 2-.9 2-2V5c0-1.1-.9-2-2-2zM9 17H7v-7h2v7zm4 0h-2V7h2v10zm4 0h-2v-4h2v4z\"/>\n",
       "    </g>\n",
       "</svg>\n",
       "  </button>\n",
       "\n",
       "<style>\n",
       "  .colab-df-quickchart {\n",
       "      --bg-color: #E8F0FE;\n",
       "      --fill-color: #1967D2;\n",
       "      --hover-bg-color: #E2EBFA;\n",
       "      --hover-fill-color: #174EA6;\n",
       "      --disabled-fill-color: #AAA;\n",
       "      --disabled-bg-color: #DDD;\n",
       "  }\n",
       "\n",
       "  [theme=dark] .colab-df-quickchart {\n",
       "      --bg-color: #3B4455;\n",
       "      --fill-color: #D2E3FC;\n",
       "      --hover-bg-color: #434B5C;\n",
       "      --hover-fill-color: #FFFFFF;\n",
       "      --disabled-bg-color: #3B4455;\n",
       "      --disabled-fill-color: #666;\n",
       "  }\n",
       "\n",
       "  .colab-df-quickchart {\n",
       "    background-color: var(--bg-color);\n",
       "    border: none;\n",
       "    border-radius: 50%;\n",
       "    cursor: pointer;\n",
       "    display: none;\n",
       "    fill: var(--fill-color);\n",
       "    height: 32px;\n",
       "    padding: 0;\n",
       "    width: 32px;\n",
       "  }\n",
       "\n",
       "  .colab-df-quickchart:hover {\n",
       "    background-color: var(--hover-bg-color);\n",
       "    box-shadow: 0 1px 2px rgba(60, 64, 67, 0.3), 0 1px 3px 1px rgba(60, 64, 67, 0.15);\n",
       "    fill: var(--button-hover-fill-color);\n",
       "  }\n",
       "\n",
       "  .colab-df-quickchart-complete:disabled,\n",
       "  .colab-df-quickchart-complete:disabled:hover {\n",
       "    background-color: var(--disabled-bg-color);\n",
       "    fill: var(--disabled-fill-color);\n",
       "    box-shadow: none;\n",
       "  }\n",
       "\n",
       "  .colab-df-spinner {\n",
       "    border: 2px solid var(--fill-color);\n",
       "    border-color: transparent;\n",
       "    border-bottom-color: var(--fill-color);\n",
       "    animation:\n",
       "      spin 1s steps(1) infinite;\n",
       "  }\n",
       "\n",
       "  @keyframes spin {\n",
       "    0% {\n",
       "      border-color: transparent;\n",
       "      border-bottom-color: var(--fill-color);\n",
       "      border-left-color: var(--fill-color);\n",
       "    }\n",
       "    20% {\n",
       "      border-color: transparent;\n",
       "      border-left-color: var(--fill-color);\n",
       "      border-top-color: var(--fill-color);\n",
       "    }\n",
       "    30% {\n",
       "      border-color: transparent;\n",
       "      border-left-color: var(--fill-color);\n",
       "      border-top-color: var(--fill-color);\n",
       "      border-right-color: var(--fill-color);\n",
       "    }\n",
       "    40% {\n",
       "      border-color: transparent;\n",
       "      border-right-color: var(--fill-color);\n",
       "      border-top-color: var(--fill-color);\n",
       "    }\n",
       "    60% {\n",
       "      border-color: transparent;\n",
       "      border-right-color: var(--fill-color);\n",
       "    }\n",
       "    80% {\n",
       "      border-color: transparent;\n",
       "      border-right-color: var(--fill-color);\n",
       "      border-bottom-color: var(--fill-color);\n",
       "    }\n",
       "    90% {\n",
       "      border-color: transparent;\n",
       "      border-bottom-color: var(--fill-color);\n",
       "    }\n",
       "  }\n",
       "</style>\n",
       "\n",
       "  <script>\n",
       "    async function quickchart(key) {\n",
       "      const quickchartButtonEl =\n",
       "        document.querySelector('#' + key + ' button');\n",
       "      quickchartButtonEl.disabled = true;  // To prevent multiple clicks.\n",
       "      quickchartButtonEl.classList.add('colab-df-spinner');\n",
       "      try {\n",
       "        const charts = await google.colab.kernel.invokeFunction(\n",
       "            'suggestCharts', [key], {});\n",
       "      } catch (error) {\n",
       "        console.error('Error during call to suggestCharts:', error);\n",
       "      }\n",
       "      quickchartButtonEl.classList.remove('colab-df-spinner');\n",
       "      quickchartButtonEl.classList.add('colab-df-quickchart-complete');\n",
       "    }\n",
       "    (() => {\n",
       "      let quickchartButtonEl =\n",
       "        document.querySelector('#df-7e7b7ca8-b842-4952-b5b2-aacfe5378568 button');\n",
       "      quickchartButtonEl.style.display =\n",
       "        google.colab.kernel.accessAllowed ? 'block' : 'none';\n",
       "    })();\n",
       "  </script>\n",
       "</div>\n",
       "    </div>\n",
       "  </div>\n"
      ],
      "text/plain": [
       "     make   model            trim_x body_x transmission_x state  condition  \\\n",
       "0  nissan  altima             2.5 s  sedan      automatic    ca        2.4   \n",
       "1    audi      a3  1.8 tfsi premium  sedan      automatic    ca        5.0   \n",
       "\n",
       "   odometer color_x interior_x  sellingprice  life_car       mean_go  \n",
       "0   45157.0   black      black         10100       3.0  15052.333333  \n",
       "1   10507.0   white      black         25250       1.0  10507.000000  "
      ]
     },
     "execution_count": 160,
     "metadata": {},
     "output_type": "execute_result"
    }
   ],
   "source": [
    "#выборка 1/10 части датасета (для ускорения расчётов)\n",
    "#sampling 1/10 of the dataset (to speed up calculations)\n",
    "\n",
    "train_sample = train_fit.sample(frac=0.1, replace=True, random_state=STATE).reset_index(drop=True)\n",
    "train_sample.head(2)"
   ]
  },
  {
   "cell_type": "code",
   "execution_count": 161,
   "id": "MXcJ4acCwTxC",
   "metadata": {
    "colab": {
     "base_uri": "https://localhost:8080/"
    },
    "executionInfo": {
     "elapsed": 31,
     "status": "ok",
     "timestamp": 1694150577304,
     "user": {
      "displayName": "Андрей Медведев",
      "userId": "02560461935100345008"
     },
     "user_tz": -180
    },
    "id": "MXcJ4acCwTxC",
    "outputId": "b62c3bcc-b376-4f01-97c8-acb4a7546a76"
   },
   "outputs": [
    {
     "data": {
      "text/plain": [
       "(43205, 13)"
      ]
     },
     "execution_count": 161,
     "metadata": {},
     "output_type": "execute_result"
    }
   ],
   "source": [
    "train_sample.shape"
   ]
  },
  {
   "cell_type": "code",
   "execution_count": 162,
   "id": "ZfqZ5y26xJAn",
   "metadata": {
    "colab": {
     "base_uri": "https://localhost:8080/",
     "height": 112
    },
    "executionInfo": {
     "elapsed": 17,
     "status": "ok",
     "timestamp": 1694150577304,
     "user": {
      "displayName": "Андрей Медведев",
      "userId": "02560461935100345008"
     },
     "user_tz": -180
    },
    "id": "ZfqZ5y26xJAn",
    "outputId": "212972d1-1dc1-4562-bb9d-4954aeb747a6"
   },
   "outputs": [
    {
     "data": {
      "text/html": [
       "\n",
       "  <div id=\"df-37353dff-3444-4297-80f8-5ba5495c666c\" class=\"colab-df-container\">\n",
       "    <div>\n",
       "<style scoped>\n",
       "    .dataframe tbody tr th:only-of-type {\n",
       "        vertical-align: middle;\n",
       "    }\n",
       "\n",
       "    .dataframe tbody tr th {\n",
       "        vertical-align: top;\n",
       "    }\n",
       "\n",
       "    .dataframe thead th {\n",
       "        text-align: right;\n",
       "    }\n",
       "</style>\n",
       "<table border=\"1\" class=\"dataframe\">\n",
       "  <thead>\n",
       "    <tr style=\"text-align: right;\">\n",
       "      <th></th>\n",
       "      <th>make</th>\n",
       "      <th>model</th>\n",
       "      <th>trim_x</th>\n",
       "      <th>body_x</th>\n",
       "      <th>transmission_x</th>\n",
       "      <th>state</th>\n",
       "      <th>condition</th>\n",
       "      <th>odometer</th>\n",
       "      <th>color_x</th>\n",
       "      <th>interior_x</th>\n",
       "      <th>sellingprice</th>\n",
       "      <th>life_car</th>\n",
       "      <th>mean_go</th>\n",
       "    </tr>\n",
       "  </thead>\n",
       "  <tbody>\n",
       "    <tr>\n",
       "      <th>0</th>\n",
       "      <td>nissan</td>\n",
       "      <td>altima</td>\n",
       "      <td>2.5 s</td>\n",
       "      <td>sedan</td>\n",
       "      <td>automatic</td>\n",
       "      <td>ca</td>\n",
       "      <td>-1.087017</td>\n",
       "      <td>-0.424075</td>\n",
       "      <td>black</td>\n",
       "      <td>black</td>\n",
       "      <td>10100</td>\n",
       "      <td>-0.470488</td>\n",
       "      <td>-0.111429</td>\n",
       "    </tr>\n",
       "    <tr>\n",
       "      <th>1</th>\n",
       "      <td>audi</td>\n",
       "      <td>a3</td>\n",
       "      <td>1.8 tfsi premium</td>\n",
       "      <td>sedan</td>\n",
       "      <td>automatic</td>\n",
       "      <td>ca</td>\n",
       "      <td>1.667179</td>\n",
       "      <td>-1.086018</td>\n",
       "      <td>white</td>\n",
       "      <td>black</td>\n",
       "      <td>25250</td>\n",
       "      <td>-0.989277</td>\n",
       "      <td>-0.611191</td>\n",
       "    </tr>\n",
       "  </tbody>\n",
       "</table>\n",
       "</div>\n",
       "    <div class=\"colab-df-buttons\">\n",
       "\n",
       "  <div class=\"colab-df-container\">\n",
       "    <button class=\"colab-df-convert\" onclick=\"convertToInteractive('df-37353dff-3444-4297-80f8-5ba5495c666c')\"\n",
       "            title=\"Convert this dataframe to an interactive table.\"\n",
       "            style=\"display:none;\">\n",
       "\n",
       "  <svg xmlns=\"http://www.w3.org/2000/svg\" height=\"24px\" viewBox=\"0 -960 960 960\">\n",
       "    <path d=\"M120-120v-720h720v720H120Zm60-500h600v-160H180v160Zm220 220h160v-160H400v160Zm0 220h160v-160H400v160ZM180-400h160v-160H180v160Zm440 0h160v-160H620v160ZM180-180h160v-160H180v160Zm440 0h160v-160H620v160Z\"/>\n",
       "  </svg>\n",
       "    </button>\n",
       "\n",
       "  <style>\n",
       "    .colab-df-container {\n",
       "      display:flex;\n",
       "      gap: 12px;\n",
       "    }\n",
       "\n",
       "    .colab-df-convert {\n",
       "      background-color: #E8F0FE;\n",
       "      border: none;\n",
       "      border-radius: 50%;\n",
       "      cursor: pointer;\n",
       "      display: none;\n",
       "      fill: #1967D2;\n",
       "      height: 32px;\n",
       "      padding: 0 0 0 0;\n",
       "      width: 32px;\n",
       "    }\n",
       "\n",
       "    .colab-df-convert:hover {\n",
       "      background-color: #E2EBFA;\n",
       "      box-shadow: 0px 1px 2px rgba(60, 64, 67, 0.3), 0px 1px 3px 1px rgba(60, 64, 67, 0.15);\n",
       "      fill: #174EA6;\n",
       "    }\n",
       "\n",
       "    .colab-df-buttons div {\n",
       "      margin-bottom: 4px;\n",
       "    }\n",
       "\n",
       "    [theme=dark] .colab-df-convert {\n",
       "      background-color: #3B4455;\n",
       "      fill: #D2E3FC;\n",
       "    }\n",
       "\n",
       "    [theme=dark] .colab-df-convert:hover {\n",
       "      background-color: #434B5C;\n",
       "      box-shadow: 0px 1px 3px 1px rgba(0, 0, 0, 0.15);\n",
       "      filter: drop-shadow(0px 1px 2px rgba(0, 0, 0, 0.3));\n",
       "      fill: #FFFFFF;\n",
       "    }\n",
       "  </style>\n",
       "\n",
       "    <script>\n",
       "      const buttonEl =\n",
       "        document.querySelector('#df-37353dff-3444-4297-80f8-5ba5495c666c button.colab-df-convert');\n",
       "      buttonEl.style.display =\n",
       "        google.colab.kernel.accessAllowed ? 'block' : 'none';\n",
       "\n",
       "      async function convertToInteractive(key) {\n",
       "        const element = document.querySelector('#df-37353dff-3444-4297-80f8-5ba5495c666c');\n",
       "        const dataTable =\n",
       "          await google.colab.kernel.invokeFunction('convertToInteractive',\n",
       "                                                    [key], {});\n",
       "        if (!dataTable) return;\n",
       "\n",
       "        const docLinkHtml = 'Like what you see? Visit the ' +\n",
       "          '<a target=\"_blank\" href=https://colab.research.google.com/notebooks/data_table.ipynb>data table notebook</a>'\n",
       "          + ' to learn more about interactive tables.';\n",
       "        element.innerHTML = '';\n",
       "        dataTable['output_type'] = 'display_data';\n",
       "        await google.colab.output.renderOutput(dataTable, element);\n",
       "        const docLink = document.createElement('div');\n",
       "        docLink.innerHTML = docLinkHtml;\n",
       "        element.appendChild(docLink);\n",
       "      }\n",
       "    </script>\n",
       "  </div>\n",
       "\n",
       "\n",
       "<div id=\"df-f0be8c04-1a9b-4a2e-966f-92f99a865dbb\">\n",
       "  <button class=\"colab-df-quickchart\" onclick=\"quickchart('df-f0be8c04-1a9b-4a2e-966f-92f99a865dbb')\"\n",
       "            title=\"Suggest charts.\"\n",
       "            style=\"display:none;\">\n",
       "\n",
       "<svg xmlns=\"http://www.w3.org/2000/svg\" height=\"24px\"viewBox=\"0 0 24 24\"\n",
       "     width=\"24px\">\n",
       "    <g>\n",
       "        <path d=\"M19 3H5c-1.1 0-2 .9-2 2v14c0 1.1.9 2 2 2h14c1.1 0 2-.9 2-2V5c0-1.1-.9-2-2-2zM9 17H7v-7h2v7zm4 0h-2V7h2v10zm4 0h-2v-4h2v4z\"/>\n",
       "    </g>\n",
       "</svg>\n",
       "  </button>\n",
       "\n",
       "<style>\n",
       "  .colab-df-quickchart {\n",
       "      --bg-color: #E8F0FE;\n",
       "      --fill-color: #1967D2;\n",
       "      --hover-bg-color: #E2EBFA;\n",
       "      --hover-fill-color: #174EA6;\n",
       "      --disabled-fill-color: #AAA;\n",
       "      --disabled-bg-color: #DDD;\n",
       "  }\n",
       "\n",
       "  [theme=dark] .colab-df-quickchart {\n",
       "      --bg-color: #3B4455;\n",
       "      --fill-color: #D2E3FC;\n",
       "      --hover-bg-color: #434B5C;\n",
       "      --hover-fill-color: #FFFFFF;\n",
       "      --disabled-bg-color: #3B4455;\n",
       "      --disabled-fill-color: #666;\n",
       "  }\n",
       "\n",
       "  .colab-df-quickchart {\n",
       "    background-color: var(--bg-color);\n",
       "    border: none;\n",
       "    border-radius: 50%;\n",
       "    cursor: pointer;\n",
       "    display: none;\n",
       "    fill: var(--fill-color);\n",
       "    height: 32px;\n",
       "    padding: 0;\n",
       "    width: 32px;\n",
       "  }\n",
       "\n",
       "  .colab-df-quickchart:hover {\n",
       "    background-color: var(--hover-bg-color);\n",
       "    box-shadow: 0 1px 2px rgba(60, 64, 67, 0.3), 0 1px 3px 1px rgba(60, 64, 67, 0.15);\n",
       "    fill: var(--button-hover-fill-color);\n",
       "  }\n",
       "\n",
       "  .colab-df-quickchart-complete:disabled,\n",
       "  .colab-df-quickchart-complete:disabled:hover {\n",
       "    background-color: var(--disabled-bg-color);\n",
       "    fill: var(--disabled-fill-color);\n",
       "    box-shadow: none;\n",
       "  }\n",
       "\n",
       "  .colab-df-spinner {\n",
       "    border: 2px solid var(--fill-color);\n",
       "    border-color: transparent;\n",
       "    border-bottom-color: var(--fill-color);\n",
       "    animation:\n",
       "      spin 1s steps(1) infinite;\n",
       "  }\n",
       "\n",
       "  @keyframes spin {\n",
       "    0% {\n",
       "      border-color: transparent;\n",
       "      border-bottom-color: var(--fill-color);\n",
       "      border-left-color: var(--fill-color);\n",
       "    }\n",
       "    20% {\n",
       "      border-color: transparent;\n",
       "      border-left-color: var(--fill-color);\n",
       "      border-top-color: var(--fill-color);\n",
       "    }\n",
       "    30% {\n",
       "      border-color: transparent;\n",
       "      border-left-color: var(--fill-color);\n",
       "      border-top-color: var(--fill-color);\n",
       "      border-right-color: var(--fill-color);\n",
       "    }\n",
       "    40% {\n",
       "      border-color: transparent;\n",
       "      border-right-color: var(--fill-color);\n",
       "      border-top-color: var(--fill-color);\n",
       "    }\n",
       "    60% {\n",
       "      border-color: transparent;\n",
       "      border-right-color: var(--fill-color);\n",
       "    }\n",
       "    80% {\n",
       "      border-color: transparent;\n",
       "      border-right-color: var(--fill-color);\n",
       "      border-bottom-color: var(--fill-color);\n",
       "    }\n",
       "    90% {\n",
       "      border-color: transparent;\n",
       "      border-bottom-color: var(--fill-color);\n",
       "    }\n",
       "  }\n",
       "</style>\n",
       "\n",
       "  <script>\n",
       "    async function quickchart(key) {\n",
       "      const quickchartButtonEl =\n",
       "        document.querySelector('#' + key + ' button');\n",
       "      quickchartButtonEl.disabled = true;  // To prevent multiple clicks.\n",
       "      quickchartButtonEl.classList.add('colab-df-spinner');\n",
       "      try {\n",
       "        const charts = await google.colab.kernel.invokeFunction(\n",
       "            'suggestCharts', [key], {});\n",
       "      } catch (error) {\n",
       "        console.error('Error during call to suggestCharts:', error);\n",
       "      }\n",
       "      quickchartButtonEl.classList.remove('colab-df-spinner');\n",
       "      quickchartButtonEl.classList.add('colab-df-quickchart-complete');\n",
       "    }\n",
       "    (() => {\n",
       "      let quickchartButtonEl =\n",
       "        document.querySelector('#df-f0be8c04-1a9b-4a2e-966f-92f99a865dbb button');\n",
       "      quickchartButtonEl.style.display =\n",
       "        google.colab.kernel.accessAllowed ? 'block' : 'none';\n",
       "    })();\n",
       "  </script>\n",
       "</div>\n",
       "    </div>\n",
       "  </div>\n"
      ],
      "text/plain": [
       "     make   model            trim_x body_x transmission_x state  condition  \\\n",
       "0  nissan  altima             2.5 s  sedan      automatic    ca  -1.087017   \n",
       "1    audi      a3  1.8 tfsi premium  sedan      automatic    ca   1.667179   \n",
       "\n",
       "   odometer color_x interior_x  sellingprice  life_car   mean_go  \n",
       "0 -0.424075   black      black         10100 -0.470488 -0.111429  \n",
       "1 -1.086018   white      black         25250 -0.989277 -0.611191  "
      ]
     },
     "execution_count": 162,
     "metadata": {},
     "output_type": "execute_result"
    }
   ],
   "source": [
    "#масштабирование числ признаков\n",
    "train_sample[train_fit_num_col] = StandardScaler().fit_transform(train_sample[train_fit_num_col])\n",
    "train_sample.head(2)"
   ]
  },
  {
   "cell_type": "code",
   "execution_count": 163,
   "id": "tDqQrTZOrRs4",
   "metadata": {
    "executionInfo": {
     "elapsed": 15,
     "status": "ok",
     "timestamp": 1694150577304,
     "user": {
      "displayName": "Андрей Медведев",
      "userId": "02560461935100345008"
     },
     "user_tz": -180
    },
    "id": "tDqQrTZOrRs4"
   },
   "outputs": [],
   "source": [
    "encoder = OrdinalEncoder()"
   ]
  },
  {
   "cell_type": "code",
   "execution_count": 164,
   "id": "Qvf_So7wrRwn",
   "metadata": {
    "colab": {
     "base_uri": "https://localhost:8080/",
     "height": 143
    },
    "executionInfo": {
     "elapsed": 430,
     "status": "ok",
     "timestamp": 1694150577720,
     "user": {
      "displayName": "Андрей Медведев",
      "userId": "02560461935100345008"
     },
     "user_tz": -180
    },
    "id": "Qvf_So7wrRwn",
    "outputId": "3ea6dc94-fdb2-452e-aeba-f935205e52c1"
   },
   "outputs": [
    {
     "data": {
      "text/html": [
       "\n",
       "  <div id=\"df-242dfb94-e714-4ab9-8867-6228dbdfe694\" class=\"colab-df-container\">\n",
       "    <div>\n",
       "<style scoped>\n",
       "    .dataframe tbody tr th:only-of-type {\n",
       "        vertical-align: middle;\n",
       "    }\n",
       "\n",
       "    .dataframe tbody tr th {\n",
       "        vertical-align: top;\n",
       "    }\n",
       "\n",
       "    .dataframe thead th {\n",
       "        text-align: right;\n",
       "    }\n",
       "</style>\n",
       "<table border=\"1\" class=\"dataframe\">\n",
       "  <thead>\n",
       "    <tr style=\"text-align: right;\">\n",
       "      <th></th>\n",
       "      <th>make</th>\n",
       "      <th>model</th>\n",
       "      <th>trim_x</th>\n",
       "      <th>body_x</th>\n",
       "      <th>transmission_x</th>\n",
       "      <th>state</th>\n",
       "      <th>color_x</th>\n",
       "      <th>interior_x</th>\n",
       "    </tr>\n",
       "  </thead>\n",
       "  <tbody>\n",
       "    <tr>\n",
       "      <th>0</th>\n",
       "      <td>34.0</td>\n",
       "      <td>52.0</td>\n",
       "      <td>77.0</td>\n",
       "      <td>31.0</td>\n",
       "      <td>0.0</td>\n",
       "      <td>3.0</td>\n",
       "      <td>1.0</td>\n",
       "      <td>1.0</td>\n",
       "    </tr>\n",
       "    <tr>\n",
       "      <th>1</th>\n",
       "      <td>2.0</td>\n",
       "      <td>36.0</td>\n",
       "      <td>16.0</td>\n",
       "      <td>31.0</td>\n",
       "      <td>0.0</td>\n",
       "      <td>3.0</td>\n",
       "      <td>17.0</td>\n",
       "      <td>1.0</td>\n",
       "    </tr>\n",
       "    <tr>\n",
       "      <th>2</th>\n",
       "      <td>13.0</td>\n",
       "      <td>242.0</td>\n",
       "      <td>841.0</td>\n",
       "      <td>31.0</td>\n",
       "      <td>0.0</td>\n",
       "      <td>3.0</td>\n",
       "      <td>17.0</td>\n",
       "      <td>1.0</td>\n",
       "    </tr>\n",
       "  </tbody>\n",
       "</table>\n",
       "</div>\n",
       "    <div class=\"colab-df-buttons\">\n",
       "\n",
       "  <div class=\"colab-df-container\">\n",
       "    <button class=\"colab-df-convert\" onclick=\"convertToInteractive('df-242dfb94-e714-4ab9-8867-6228dbdfe694')\"\n",
       "            title=\"Convert this dataframe to an interactive table.\"\n",
       "            style=\"display:none;\">\n",
       "\n",
       "  <svg xmlns=\"http://www.w3.org/2000/svg\" height=\"24px\" viewBox=\"0 -960 960 960\">\n",
       "    <path d=\"M120-120v-720h720v720H120Zm60-500h600v-160H180v160Zm220 220h160v-160H400v160Zm0 220h160v-160H400v160ZM180-400h160v-160H180v160Zm440 0h160v-160H620v160ZM180-180h160v-160H180v160Zm440 0h160v-160H620v160Z\"/>\n",
       "  </svg>\n",
       "    </button>\n",
       "\n",
       "  <style>\n",
       "    .colab-df-container {\n",
       "      display:flex;\n",
       "      gap: 12px;\n",
       "    }\n",
       "\n",
       "    .colab-df-convert {\n",
       "      background-color: #E8F0FE;\n",
       "      border: none;\n",
       "      border-radius: 50%;\n",
       "      cursor: pointer;\n",
       "      display: none;\n",
       "      fill: #1967D2;\n",
       "      height: 32px;\n",
       "      padding: 0 0 0 0;\n",
       "      width: 32px;\n",
       "    }\n",
       "\n",
       "    .colab-df-convert:hover {\n",
       "      background-color: #E2EBFA;\n",
       "      box-shadow: 0px 1px 2px rgba(60, 64, 67, 0.3), 0px 1px 3px 1px rgba(60, 64, 67, 0.15);\n",
       "      fill: #174EA6;\n",
       "    }\n",
       "\n",
       "    .colab-df-buttons div {\n",
       "      margin-bottom: 4px;\n",
       "    }\n",
       "\n",
       "    [theme=dark] .colab-df-convert {\n",
       "      background-color: #3B4455;\n",
       "      fill: #D2E3FC;\n",
       "    }\n",
       "\n",
       "    [theme=dark] .colab-df-convert:hover {\n",
       "      background-color: #434B5C;\n",
       "      box-shadow: 0px 1px 3px 1px rgba(0, 0, 0, 0.15);\n",
       "      filter: drop-shadow(0px 1px 2px rgba(0, 0, 0, 0.3));\n",
       "      fill: #FFFFFF;\n",
       "    }\n",
       "  </style>\n",
       "\n",
       "    <script>\n",
       "      const buttonEl =\n",
       "        document.querySelector('#df-242dfb94-e714-4ab9-8867-6228dbdfe694 button.colab-df-convert');\n",
       "      buttonEl.style.display =\n",
       "        google.colab.kernel.accessAllowed ? 'block' : 'none';\n",
       "\n",
       "      async function convertToInteractive(key) {\n",
       "        const element = document.querySelector('#df-242dfb94-e714-4ab9-8867-6228dbdfe694');\n",
       "        const dataTable =\n",
       "          await google.colab.kernel.invokeFunction('convertToInteractive',\n",
       "                                                    [key], {});\n",
       "        if (!dataTable) return;\n",
       "\n",
       "        const docLinkHtml = 'Like what you see? Visit the ' +\n",
       "          '<a target=\"_blank\" href=https://colab.research.google.com/notebooks/data_table.ipynb>data table notebook</a>'\n",
       "          + ' to learn more about interactive tables.';\n",
       "        element.innerHTML = '';\n",
       "        dataTable['output_type'] = 'display_data';\n",
       "        await google.colab.output.renderOutput(dataTable, element);\n",
       "        const docLink = document.createElement('div');\n",
       "        docLink.innerHTML = docLinkHtml;\n",
       "        element.appendChild(docLink);\n",
       "      }\n",
       "    </script>\n",
       "  </div>\n",
       "\n",
       "\n",
       "<div id=\"df-0700cd00-da39-478e-8ca6-a3405a7d777f\">\n",
       "  <button class=\"colab-df-quickchart\" onclick=\"quickchart('df-0700cd00-da39-478e-8ca6-a3405a7d777f')\"\n",
       "            title=\"Suggest charts.\"\n",
       "            style=\"display:none;\">\n",
       "\n",
       "<svg xmlns=\"http://www.w3.org/2000/svg\" height=\"24px\"viewBox=\"0 0 24 24\"\n",
       "     width=\"24px\">\n",
       "    <g>\n",
       "        <path d=\"M19 3H5c-1.1 0-2 .9-2 2v14c0 1.1.9 2 2 2h14c1.1 0 2-.9 2-2V5c0-1.1-.9-2-2-2zM9 17H7v-7h2v7zm4 0h-2V7h2v10zm4 0h-2v-4h2v4z\"/>\n",
       "    </g>\n",
       "</svg>\n",
       "  </button>\n",
       "\n",
       "<style>\n",
       "  .colab-df-quickchart {\n",
       "      --bg-color: #E8F0FE;\n",
       "      --fill-color: #1967D2;\n",
       "      --hover-bg-color: #E2EBFA;\n",
       "      --hover-fill-color: #174EA6;\n",
       "      --disabled-fill-color: #AAA;\n",
       "      --disabled-bg-color: #DDD;\n",
       "  }\n",
       "\n",
       "  [theme=dark] .colab-df-quickchart {\n",
       "      --bg-color: #3B4455;\n",
       "      --fill-color: #D2E3FC;\n",
       "      --hover-bg-color: #434B5C;\n",
       "      --hover-fill-color: #FFFFFF;\n",
       "      --disabled-bg-color: #3B4455;\n",
       "      --disabled-fill-color: #666;\n",
       "  }\n",
       "\n",
       "  .colab-df-quickchart {\n",
       "    background-color: var(--bg-color);\n",
       "    border: none;\n",
       "    border-radius: 50%;\n",
       "    cursor: pointer;\n",
       "    display: none;\n",
       "    fill: var(--fill-color);\n",
       "    height: 32px;\n",
       "    padding: 0;\n",
       "    width: 32px;\n",
       "  }\n",
       "\n",
       "  .colab-df-quickchart:hover {\n",
       "    background-color: var(--hover-bg-color);\n",
       "    box-shadow: 0 1px 2px rgba(60, 64, 67, 0.3), 0 1px 3px 1px rgba(60, 64, 67, 0.15);\n",
       "    fill: var(--button-hover-fill-color);\n",
       "  }\n",
       "\n",
       "  .colab-df-quickchart-complete:disabled,\n",
       "  .colab-df-quickchart-complete:disabled:hover {\n",
       "    background-color: var(--disabled-bg-color);\n",
       "    fill: var(--disabled-fill-color);\n",
       "    box-shadow: none;\n",
       "  }\n",
       "\n",
       "  .colab-df-spinner {\n",
       "    border: 2px solid var(--fill-color);\n",
       "    border-color: transparent;\n",
       "    border-bottom-color: var(--fill-color);\n",
       "    animation:\n",
       "      spin 1s steps(1) infinite;\n",
       "  }\n",
       "\n",
       "  @keyframes spin {\n",
       "    0% {\n",
       "      border-color: transparent;\n",
       "      border-bottom-color: var(--fill-color);\n",
       "      border-left-color: var(--fill-color);\n",
       "    }\n",
       "    20% {\n",
       "      border-color: transparent;\n",
       "      border-left-color: var(--fill-color);\n",
       "      border-top-color: var(--fill-color);\n",
       "    }\n",
       "    30% {\n",
       "      border-color: transparent;\n",
       "      border-left-color: var(--fill-color);\n",
       "      border-top-color: var(--fill-color);\n",
       "      border-right-color: var(--fill-color);\n",
       "    }\n",
       "    40% {\n",
       "      border-color: transparent;\n",
       "      border-right-color: var(--fill-color);\n",
       "      border-top-color: var(--fill-color);\n",
       "    }\n",
       "    60% {\n",
       "      border-color: transparent;\n",
       "      border-right-color: var(--fill-color);\n",
       "    }\n",
       "    80% {\n",
       "      border-color: transparent;\n",
       "      border-right-color: var(--fill-color);\n",
       "      border-bottom-color: var(--fill-color);\n",
       "    }\n",
       "    90% {\n",
       "      border-color: transparent;\n",
       "      border-bottom-color: var(--fill-color);\n",
       "    }\n",
       "  }\n",
       "</style>\n",
       "\n",
       "  <script>\n",
       "    async function quickchart(key) {\n",
       "      const quickchartButtonEl =\n",
       "        document.querySelector('#' + key + ' button');\n",
       "      quickchartButtonEl.disabled = true;  // To prevent multiple clicks.\n",
       "      quickchartButtonEl.classList.add('colab-df-spinner');\n",
       "      try {\n",
       "        const charts = await google.colab.kernel.invokeFunction(\n",
       "            'suggestCharts', [key], {});\n",
       "      } catch (error) {\n",
       "        console.error('Error during call to suggestCharts:', error);\n",
       "      }\n",
       "      quickchartButtonEl.classList.remove('colab-df-spinner');\n",
       "      quickchartButtonEl.classList.add('colab-df-quickchart-complete');\n",
       "    }\n",
       "    (() => {\n",
       "      let quickchartButtonEl =\n",
       "        document.querySelector('#df-0700cd00-da39-478e-8ca6-a3405a7d777f button');\n",
       "      quickchartButtonEl.style.display =\n",
       "        google.colab.kernel.accessAllowed ? 'block' : 'none';\n",
       "    })();\n",
       "  </script>\n",
       "</div>\n",
       "    </div>\n",
       "  </div>\n"
      ],
      "text/plain": [
       "   make  model  trim_x  body_x  transmission_x  state  color_x  interior_x\n",
       "0  34.0   52.0    77.0    31.0             0.0    3.0      1.0         1.0\n",
       "1   2.0   36.0    16.0    31.0             0.0    3.0     17.0         1.0\n",
       "2  13.0  242.0   841.0    31.0             0.0    3.0     17.0         1.0"
      ]
     },
     "execution_count": 164,
     "metadata": {},
     "output_type": "execute_result"
    }
   ],
   "source": [
    "train_sample_oe =  pd.DataFrame(encoder.fit_transform(train_sample[train_fit_cat_col]), columns=train_fit_cat_col)\n",
    "train_sample_oe.head(3)"
   ]
  },
  {
   "cell_type": "code",
   "execution_count": 165,
   "id": "PiJtAivdroe-",
   "metadata": {
    "colab": {
     "base_uri": "https://localhost:8080/",
     "height": 143
    },
    "executionInfo": {
     "elapsed": 14,
     "status": "ok",
     "timestamp": 1694150577720,
     "user": {
      "displayName": "Андрей Медведев",
      "userId": "02560461935100345008"
     },
     "user_tz": -180
    },
    "id": "PiJtAivdroe-",
    "outputId": "93969b93-fb6f-427b-9107-1ac6ba17c102"
   },
   "outputs": [
    {
     "data": {
      "text/html": [
       "\n",
       "  <div id=\"df-29e3fe7e-531b-4116-bc30-b0ad73268e21\" class=\"colab-df-container\">\n",
       "    <div>\n",
       "<style scoped>\n",
       "    .dataframe tbody tr th:only-of-type {\n",
       "        vertical-align: middle;\n",
       "    }\n",
       "\n",
       "    .dataframe tbody tr th {\n",
       "        vertical-align: top;\n",
       "    }\n",
       "\n",
       "    .dataframe thead th {\n",
       "        text-align: right;\n",
       "    }\n",
       "</style>\n",
       "<table border=\"1\" class=\"dataframe\">\n",
       "  <thead>\n",
       "    <tr style=\"text-align: right;\">\n",
       "      <th></th>\n",
       "      <th>make</th>\n",
       "      <th>model</th>\n",
       "      <th>trim_x</th>\n",
       "      <th>body_x</th>\n",
       "      <th>transmission_x</th>\n",
       "      <th>state</th>\n",
       "      <th>color_x</th>\n",
       "      <th>interior_x</th>\n",
       "      <th>condition</th>\n",
       "      <th>odometer</th>\n",
       "      <th>life_car</th>\n",
       "      <th>mean_go</th>\n",
       "      <th>sellingprice</th>\n",
       "    </tr>\n",
       "  </thead>\n",
       "  <tbody>\n",
       "    <tr>\n",
       "      <th>0</th>\n",
       "      <td>34.0</td>\n",
       "      <td>52.0</td>\n",
       "      <td>77.0</td>\n",
       "      <td>31.0</td>\n",
       "      <td>0.0</td>\n",
       "      <td>3.0</td>\n",
       "      <td>1.0</td>\n",
       "      <td>1.0</td>\n",
       "      <td>-1.087017</td>\n",
       "      <td>-0.424075</td>\n",
       "      <td>-0.470488</td>\n",
       "      <td>-0.111429</td>\n",
       "      <td>10100</td>\n",
       "    </tr>\n",
       "    <tr>\n",
       "      <th>1</th>\n",
       "      <td>2.0</td>\n",
       "      <td>36.0</td>\n",
       "      <td>16.0</td>\n",
       "      <td>31.0</td>\n",
       "      <td>0.0</td>\n",
       "      <td>3.0</td>\n",
       "      <td>17.0</td>\n",
       "      <td>1.0</td>\n",
       "      <td>1.667179</td>\n",
       "      <td>-1.086018</td>\n",
       "      <td>-0.989277</td>\n",
       "      <td>-0.611191</td>\n",
       "      <td>25250</td>\n",
       "    </tr>\n",
       "    <tr>\n",
       "      <th>2</th>\n",
       "      <td>13.0</td>\n",
       "      <td>242.0</td>\n",
       "      <td>841.0</td>\n",
       "      <td>31.0</td>\n",
       "      <td>0.0</td>\n",
       "      <td>3.0</td>\n",
       "      <td>17.0</td>\n",
       "      <td>1.0</td>\n",
       "      <td>0.925664</td>\n",
       "      <td>-0.529642</td>\n",
       "      <td>-0.729883</td>\n",
       "      <td>0.412283</td>\n",
       "      <td>11600</td>\n",
       "    </tr>\n",
       "  </tbody>\n",
       "</table>\n",
       "</div>\n",
       "    <div class=\"colab-df-buttons\">\n",
       "\n",
       "  <div class=\"colab-df-container\">\n",
       "    <button class=\"colab-df-convert\" onclick=\"convertToInteractive('df-29e3fe7e-531b-4116-bc30-b0ad73268e21')\"\n",
       "            title=\"Convert this dataframe to an interactive table.\"\n",
       "            style=\"display:none;\">\n",
       "\n",
       "  <svg xmlns=\"http://www.w3.org/2000/svg\" height=\"24px\" viewBox=\"0 -960 960 960\">\n",
       "    <path d=\"M120-120v-720h720v720H120Zm60-500h600v-160H180v160Zm220 220h160v-160H400v160Zm0 220h160v-160H400v160ZM180-400h160v-160H180v160Zm440 0h160v-160H620v160ZM180-180h160v-160H180v160Zm440 0h160v-160H620v160Z\"/>\n",
       "  </svg>\n",
       "    </button>\n",
       "\n",
       "  <style>\n",
       "    .colab-df-container {\n",
       "      display:flex;\n",
       "      gap: 12px;\n",
       "    }\n",
       "\n",
       "    .colab-df-convert {\n",
       "      background-color: #E8F0FE;\n",
       "      border: none;\n",
       "      border-radius: 50%;\n",
       "      cursor: pointer;\n",
       "      display: none;\n",
       "      fill: #1967D2;\n",
       "      height: 32px;\n",
       "      padding: 0 0 0 0;\n",
       "      width: 32px;\n",
       "    }\n",
       "\n",
       "    .colab-df-convert:hover {\n",
       "      background-color: #E2EBFA;\n",
       "      box-shadow: 0px 1px 2px rgba(60, 64, 67, 0.3), 0px 1px 3px 1px rgba(60, 64, 67, 0.15);\n",
       "      fill: #174EA6;\n",
       "    }\n",
       "\n",
       "    .colab-df-buttons div {\n",
       "      margin-bottom: 4px;\n",
       "    }\n",
       "\n",
       "    [theme=dark] .colab-df-convert {\n",
       "      background-color: #3B4455;\n",
       "      fill: #D2E3FC;\n",
       "    }\n",
       "\n",
       "    [theme=dark] .colab-df-convert:hover {\n",
       "      background-color: #434B5C;\n",
       "      box-shadow: 0px 1px 3px 1px rgba(0, 0, 0, 0.15);\n",
       "      filter: drop-shadow(0px 1px 2px rgba(0, 0, 0, 0.3));\n",
       "      fill: #FFFFFF;\n",
       "    }\n",
       "  </style>\n",
       "\n",
       "    <script>\n",
       "      const buttonEl =\n",
       "        document.querySelector('#df-29e3fe7e-531b-4116-bc30-b0ad73268e21 button.colab-df-convert');\n",
       "      buttonEl.style.display =\n",
       "        google.colab.kernel.accessAllowed ? 'block' : 'none';\n",
       "\n",
       "      async function convertToInteractive(key) {\n",
       "        const element = document.querySelector('#df-29e3fe7e-531b-4116-bc30-b0ad73268e21');\n",
       "        const dataTable =\n",
       "          await google.colab.kernel.invokeFunction('convertToInteractive',\n",
       "                                                    [key], {});\n",
       "        if (!dataTable) return;\n",
       "\n",
       "        const docLinkHtml = 'Like what you see? Visit the ' +\n",
       "          '<a target=\"_blank\" href=https://colab.research.google.com/notebooks/data_table.ipynb>data table notebook</a>'\n",
       "          + ' to learn more about interactive tables.';\n",
       "        element.innerHTML = '';\n",
       "        dataTable['output_type'] = 'display_data';\n",
       "        await google.colab.output.renderOutput(dataTable, element);\n",
       "        const docLink = document.createElement('div');\n",
       "        docLink.innerHTML = docLinkHtml;\n",
       "        element.appendChild(docLink);\n",
       "      }\n",
       "    </script>\n",
       "  </div>\n",
       "\n",
       "\n",
       "<div id=\"df-297acd4d-757a-47bc-8ff7-7540dfb8296b\">\n",
       "  <button class=\"colab-df-quickchart\" onclick=\"quickchart('df-297acd4d-757a-47bc-8ff7-7540dfb8296b')\"\n",
       "            title=\"Suggest charts.\"\n",
       "            style=\"display:none;\">\n",
       "\n",
       "<svg xmlns=\"http://www.w3.org/2000/svg\" height=\"24px\"viewBox=\"0 0 24 24\"\n",
       "     width=\"24px\">\n",
       "    <g>\n",
       "        <path d=\"M19 3H5c-1.1 0-2 .9-2 2v14c0 1.1.9 2 2 2h14c1.1 0 2-.9 2-2V5c0-1.1-.9-2-2-2zM9 17H7v-7h2v7zm4 0h-2V7h2v10zm4 0h-2v-4h2v4z\"/>\n",
       "    </g>\n",
       "</svg>\n",
       "  </button>\n",
       "\n",
       "<style>\n",
       "  .colab-df-quickchart {\n",
       "      --bg-color: #E8F0FE;\n",
       "      --fill-color: #1967D2;\n",
       "      --hover-bg-color: #E2EBFA;\n",
       "      --hover-fill-color: #174EA6;\n",
       "      --disabled-fill-color: #AAA;\n",
       "      --disabled-bg-color: #DDD;\n",
       "  }\n",
       "\n",
       "  [theme=dark] .colab-df-quickchart {\n",
       "      --bg-color: #3B4455;\n",
       "      --fill-color: #D2E3FC;\n",
       "      --hover-bg-color: #434B5C;\n",
       "      --hover-fill-color: #FFFFFF;\n",
       "      --disabled-bg-color: #3B4455;\n",
       "      --disabled-fill-color: #666;\n",
       "  }\n",
       "\n",
       "  .colab-df-quickchart {\n",
       "    background-color: var(--bg-color);\n",
       "    border: none;\n",
       "    border-radius: 50%;\n",
       "    cursor: pointer;\n",
       "    display: none;\n",
       "    fill: var(--fill-color);\n",
       "    height: 32px;\n",
       "    padding: 0;\n",
       "    width: 32px;\n",
       "  }\n",
       "\n",
       "  .colab-df-quickchart:hover {\n",
       "    background-color: var(--hover-bg-color);\n",
       "    box-shadow: 0 1px 2px rgba(60, 64, 67, 0.3), 0 1px 3px 1px rgba(60, 64, 67, 0.15);\n",
       "    fill: var(--button-hover-fill-color);\n",
       "  }\n",
       "\n",
       "  .colab-df-quickchart-complete:disabled,\n",
       "  .colab-df-quickchart-complete:disabled:hover {\n",
       "    background-color: var(--disabled-bg-color);\n",
       "    fill: var(--disabled-fill-color);\n",
       "    box-shadow: none;\n",
       "  }\n",
       "\n",
       "  .colab-df-spinner {\n",
       "    border: 2px solid var(--fill-color);\n",
       "    border-color: transparent;\n",
       "    border-bottom-color: var(--fill-color);\n",
       "    animation:\n",
       "      spin 1s steps(1) infinite;\n",
       "  }\n",
       "\n",
       "  @keyframes spin {\n",
       "    0% {\n",
       "      border-color: transparent;\n",
       "      border-bottom-color: var(--fill-color);\n",
       "      border-left-color: var(--fill-color);\n",
       "    }\n",
       "    20% {\n",
       "      border-color: transparent;\n",
       "      border-left-color: var(--fill-color);\n",
       "      border-top-color: var(--fill-color);\n",
       "    }\n",
       "    30% {\n",
       "      border-color: transparent;\n",
       "      border-left-color: var(--fill-color);\n",
       "      border-top-color: var(--fill-color);\n",
       "      border-right-color: var(--fill-color);\n",
       "    }\n",
       "    40% {\n",
       "      border-color: transparent;\n",
       "      border-right-color: var(--fill-color);\n",
       "      border-top-color: var(--fill-color);\n",
       "    }\n",
       "    60% {\n",
       "      border-color: transparent;\n",
       "      border-right-color: var(--fill-color);\n",
       "    }\n",
       "    80% {\n",
       "      border-color: transparent;\n",
       "      border-right-color: var(--fill-color);\n",
       "      border-bottom-color: var(--fill-color);\n",
       "    }\n",
       "    90% {\n",
       "      border-color: transparent;\n",
       "      border-bottom-color: var(--fill-color);\n",
       "    }\n",
       "  }\n",
       "</style>\n",
       "\n",
       "  <script>\n",
       "    async function quickchart(key) {\n",
       "      const quickchartButtonEl =\n",
       "        document.querySelector('#' + key + ' button');\n",
       "      quickchartButtonEl.disabled = true;  // To prevent multiple clicks.\n",
       "      quickchartButtonEl.classList.add('colab-df-spinner');\n",
       "      try {\n",
       "        const charts = await google.colab.kernel.invokeFunction(\n",
       "            'suggestCharts', [key], {});\n",
       "      } catch (error) {\n",
       "        console.error('Error during call to suggestCharts:', error);\n",
       "      }\n",
       "      quickchartButtonEl.classList.remove('colab-df-spinner');\n",
       "      quickchartButtonEl.classList.add('colab-df-quickchart-complete');\n",
       "    }\n",
       "    (() => {\n",
       "      let quickchartButtonEl =\n",
       "        document.querySelector('#df-297acd4d-757a-47bc-8ff7-7540dfb8296b button');\n",
       "      quickchartButtonEl.style.display =\n",
       "        google.colab.kernel.accessAllowed ? 'block' : 'none';\n",
       "    })();\n",
       "  </script>\n",
       "</div>\n",
       "    </div>\n",
       "  </div>\n"
      ],
      "text/plain": [
       "   make  model  trim_x  body_x  transmission_x  state  color_x  interior_x  \\\n",
       "0  34.0   52.0    77.0    31.0             0.0    3.0      1.0         1.0   \n",
       "1   2.0   36.0    16.0    31.0             0.0    3.0     17.0         1.0   \n",
       "2  13.0  242.0   841.0    31.0             0.0    3.0     17.0         1.0   \n",
       "\n",
       "   condition  odometer  life_car   mean_go  sellingprice  \n",
       "0  -1.087017 -0.424075 -0.470488 -0.111429         10100  \n",
       "1   1.667179 -1.086018 -0.989277 -0.611191         25250  \n",
       "2   0.925664 -0.529642 -0.729883  0.412283         11600  "
      ]
     },
     "execution_count": 165,
     "metadata": {},
     "output_type": "execute_result"
    }
   ],
   "source": [
    "train_sample_oe = train_sample_oe.join(train_sample[train_fit_num_col]).join(train_sample['sellingprice'])\n",
    "train_sample_oe.head(3)"
   ]
  },
  {
   "cell_type": "code",
   "execution_count": 165,
   "id": "cgNMzFx_rR2N",
   "metadata": {
    "executionInfo": {
     "elapsed": 10,
     "status": "ok",
     "timestamp": 1694150577720,
     "user": {
      "displayName": "Андрей Медведев",
      "userId": "02560461935100345008"
     },
     "user_tz": -180
    },
    "id": "cgNMzFx_rR2N"
   },
   "outputs": [],
   "source": []
  },
  {
   "cell_type": "code",
   "execution_count": 166,
   "id": "Isw28JeAxJEn",
   "metadata": {
    "executionInfo": {
     "elapsed": 2717,
     "status": "ok",
     "timestamp": 1694150580428,
     "user": {
      "displayName": "Андрей Медведев",
      "userId": "02560461935100345008"
     },
     "user_tz": -180
    },
    "id": "Isw28JeAxJEn"
   },
   "outputs": [],
   "source": [
    "#вычисление DBSCAN\n",
    "#DBSCAN calculation\n",
    "\n",
    "db = DBSCAN(eps=0.3, min_samples=12).fit(train_sample[train_fit_num_col])"
   ]
  },
  {
   "cell_type": "code",
   "execution_count": 167,
   "id": "uAABIHTsxJIJ",
   "metadata": {
    "colab": {
     "base_uri": "https://localhost:8080/"
    },
    "executionInfo": {
     "elapsed": 19,
     "status": "ok",
     "timestamp": 1694150580430,
     "user": {
      "displayName": "Андрей Медведев",
      "userId": "02560461935100345008"
     },
     "user_tz": -180
    },
    "id": "uAABIHTsxJIJ",
    "outputId": "c4c8d2a5-eda0-4945-c5a1-0211baf78b76"
   },
   "outputs": [
    {
     "data": {
      "text/plain": [
       " 0     41260\n",
       "-1      1616\n",
       " 1        84\n",
       " 2        39\n",
       " 5        39\n",
       " 7        37\n",
       " 6        23\n",
       " 4        21\n",
       " 8        14\n",
       " 13       14\n",
       " 12       14\n",
       " 3        12\n",
       " 9        12\n",
       " 11       11\n",
       " 10        9\n",
       "dtype: int64"
      ]
     },
     "execution_count": 167,
     "metadata": {},
     "output_type": "execute_result"
    }
   ],
   "source": [
    "labels = db.labels_\n",
    "labels = pd.Series(labels)\n",
    "labels.value_counts()"
   ]
  },
  {
   "cell_type": "code",
   "execution_count": 168,
   "id": "Ijhp4R19xJMy",
   "metadata": {
    "colab": {
     "base_uri": "https://localhost:8080/",
     "height": 430
    },
    "executionInfo": {
     "elapsed": 566,
     "status": "ok",
     "timestamp": 1694150580988,
     "user": {
      "displayName": "Андрей Медведев",
      "userId": "02560461935100345008"
     },
     "user_tz": -180
    },
    "id": "Ijhp4R19xJMy",
    "outputId": "76815585-700f-4704-bd19-0c9209965bfe"
   },
   "outputs": [
    {
     "data": {
      "image/png": "[encoded data removed]",
      "text/plain": [
       "<Figure size 640x480 with 1 Axes>"
      ]
     },
     "metadata": {},
     "output_type": "display_data"
    }
   ],
   "source": [
    "labels.hist(bins=27);"
   ]
  },
  {
   "cell_type": "code",
   "execution_count": 169,
   "id": "JQeVsr7bxJPn",
   "metadata": {
    "colab": {
     "base_uri": "https://localhost:8080/",
     "height": 206
    },
    "executionInfo": {
     "elapsed": 51,
     "status": "ok",
     "timestamp": 1694150580988,
     "user": {
      "displayName": "Андрей Медведев",
      "userId": "02560461935100345008"
     },
     "user_tz": -180
    },
    "id": "JQeVsr7bxJPn",
    "outputId": "2f0cafe0-b23c-48d3-cd1b-8ea4aeae7f02"
   },
   "outputs": [
    {
     "data": {
      "text/html": [
       "\n",
       "  <div id=\"df-4f98f4c9-dd30-4191-b1f4-df8cca87c913\" class=\"colab-df-container\">\n",
       "    <div>\n",
       "<style scoped>\n",
       "    .dataframe tbody tr th:only-of-type {\n",
       "        vertical-align: middle;\n",
       "    }\n",
       "\n",
       "    .dataframe tbody tr th {\n",
       "        vertical-align: top;\n",
       "    }\n",
       "\n",
       "    .dataframe thead th {\n",
       "        text-align: right;\n",
       "    }\n",
       "</style>\n",
       "<table border=\"1\" class=\"dataframe\">\n",
       "  <thead>\n",
       "    <tr style=\"text-align: right;\">\n",
       "      <th></th>\n",
       "      <th>make</th>\n",
       "      <th>model</th>\n",
       "      <th>trim_x</th>\n",
       "      <th>body_x</th>\n",
       "      <th>transmission_x</th>\n",
       "      <th>state</th>\n",
       "      <th>condition</th>\n",
       "      <th>odometer</th>\n",
       "      <th>color_x</th>\n",
       "      <th>interior_x</th>\n",
       "      <th>sellingprice</th>\n",
       "      <th>life_car</th>\n",
       "      <th>mean_go</th>\n",
       "      <th>dbscan</th>\n",
       "    </tr>\n",
       "  </thead>\n",
       "  <tbody>\n",
       "    <tr>\n",
       "      <th>0</th>\n",
       "      <td>nissan</td>\n",
       "      <td>altima</td>\n",
       "      <td>2.5 s</td>\n",
       "      <td>sedan</td>\n",
       "      <td>automatic</td>\n",
       "      <td>ca</td>\n",
       "      <td>-1.087017</td>\n",
       "      <td>-0.424075</td>\n",
       "      <td>black</td>\n",
       "      <td>black</td>\n",
       "      <td>10100</td>\n",
       "      <td>-0.470488</td>\n",
       "      <td>-0.111429</td>\n",
       "      <td>0</td>\n",
       "    </tr>\n",
       "    <tr>\n",
       "      <th>1</th>\n",
       "      <td>audi</td>\n",
       "      <td>a3</td>\n",
       "      <td>1.8 tfsi premium</td>\n",
       "      <td>sedan</td>\n",
       "      <td>automatic</td>\n",
       "      <td>ca</td>\n",
       "      <td>1.667179</td>\n",
       "      <td>-1.086018</td>\n",
       "      <td>white</td>\n",
       "      <td>black</td>\n",
       "      <td>25250</td>\n",
       "      <td>-0.989277</td>\n",
       "      <td>-0.611191</td>\n",
       "      <td>0</td>\n",
       "    </tr>\n",
       "    <tr>\n",
       "      <th>2</th>\n",
       "      <td>ford</td>\n",
       "      <td>focus</td>\n",
       "      <td>se</td>\n",
       "      <td>sedan</td>\n",
       "      <td>automatic</td>\n",
       "      <td>ca</td>\n",
       "      <td>0.925664</td>\n",
       "      <td>-0.529642</td>\n",
       "      <td>white</td>\n",
       "      <td>black</td>\n",
       "      <td>11600</td>\n",
       "      <td>-0.729883</td>\n",
       "      <td>0.412283</td>\n",
       "      <td>0</td>\n",
       "    </tr>\n",
       "    <tr>\n",
       "      <th>3</th>\n",
       "      <td>infiniti</td>\n",
       "      <td>g sedan</td>\n",
       "      <td>g37x</td>\n",
       "      <td>g sedan</td>\n",
       "      <td>automatic</td>\n",
       "      <td>il</td>\n",
       "      <td>0.607872</td>\n",
       "      <td>-0.919415</td>\n",
       "      <td>gray</td>\n",
       "      <td>gray</td>\n",
       "      <td>22200</td>\n",
       "      <td>-0.729883</td>\n",
       "      <td>-0.709376</td>\n",
       "      <td>0</td>\n",
       "    </tr>\n",
       "    <tr>\n",
       "      <th>4</th>\n",
       "      <td>chevrolet</td>\n",
       "      <td>impala</td>\n",
       "      <td>lt fleet</td>\n",
       "      <td>sedan</td>\n",
       "      <td>automatic</td>\n",
       "      <td>mo</td>\n",
       "      <td>-0.663295</td>\n",
       "      <td>0.107525</td>\n",
       "      <td>silver</td>\n",
       "      <td>gray</td>\n",
       "      <td>7300</td>\n",
       "      <td>-0.470488</td>\n",
       "      <td>0.908434</td>\n",
       "      <td>0</td>\n",
       "    </tr>\n",
       "  </tbody>\n",
       "</table>\n",
       "</div>\n",
       "    <div class=\"colab-df-buttons\">\n",
       "\n",
       "  <div class=\"colab-df-container\">\n",
       "    <button class=\"colab-df-convert\" onclick=\"convertToInteractive('df-4f98f4c9-dd30-4191-b1f4-df8cca87c913')\"\n",
       "            title=\"Convert this dataframe to an interactive table.\"\n",
       "            style=\"display:none;\">\n",
       "\n",
       "  <svg xmlns=\"http://www.w3.org/2000/svg\" height=\"24px\" viewBox=\"0 -960 960 960\">\n",
       "    <path d=\"M120-120v-720h720v720H120Zm60-500h600v-160H180v160Zm220 220h160v-160H400v160Zm0 220h160v-160H400v160ZM180-400h160v-160H180v160Zm440 0h160v-160H620v160ZM180-180h160v-160H180v160Zm440 0h160v-160H620v160Z\"/>\n",
       "  </svg>\n",
       "    </button>\n",
       "\n",
       "  <style>\n",
       "    .colab-df-container {\n",
       "      display:flex;\n",
       "      gap: 12px;\n",
       "    }\n",
       "\n",
       "    .colab-df-convert {\n",
       "      background-color: #E8F0FE;\n",
       "      border: none;\n",
       "      border-radius: 50%;\n",
       "      cursor: pointer;\n",
       "      display: none;\n",
       "      fill: #1967D2;\n",
       "      height: 32px;\n",
       "      padding: 0 0 0 0;\n",
       "      width: 32px;\n",
       "    }\n",
       "\n",
       "    .colab-df-convert:hover {\n",
       "      background-color: #E2EBFA;\n",
       "      box-shadow: 0px 1px 2px rgba(60, 64, 67, 0.3), 0px 1px 3px 1px rgba(60, 64, 67, 0.15);\n",
       "      fill: #174EA6;\n",
       "    }\n",
       "\n",
       "    .colab-df-buttons div {\n",
       "      margin-bottom: 4px;\n",
       "    }\n",
       "\n",
       "    [theme=dark] .colab-df-convert {\n",
       "      background-color: #3B4455;\n",
       "      fill: #D2E3FC;\n",
       "    }\n",
       "\n",
       "    [theme=dark] .colab-df-convert:hover {\n",
       "      background-color: #434B5C;\n",
       "      box-shadow: 0px 1px 3px 1px rgba(0, 0, 0, 0.15);\n",
       "      filter: drop-shadow(0px 1px 2px rgba(0, 0, 0, 0.3));\n",
       "      fill: #FFFFFF;\n",
       "    }\n",
       "  </style>\n",
       "\n",
       "    <script>\n",
       "      const buttonEl =\n",
       "        document.querySelector('#df-4f98f4c9-dd30-4191-b1f4-df8cca87c913 button.colab-df-convert');\n",
       "      buttonEl.style.display =\n",
       "        google.colab.kernel.accessAllowed ? 'block' : 'none';\n",
       "\n",
       "      async function convertToInteractive(key) {\n",
       "        const element = document.querySelector('#df-4f98f4c9-dd30-4191-b1f4-df8cca87c913');\n",
       "        const dataTable =\n",
       "          await google.colab.kernel.invokeFunction('convertToInteractive',\n",
       "                                                    [key], {});\n",
       "        if (!dataTable) return;\n",
       "\n",
       "        const docLinkHtml = 'Like what you see? Visit the ' +\n",
       "          '<a target=\"_blank\" href=https://colab.research.google.com/notebooks/data_table.ipynb>data table notebook</a>'\n",
       "          + ' to learn more about interactive tables.';\n",
       "        element.innerHTML = '';\n",
       "        dataTable['output_type'] = 'display_data';\n",
       "        await google.colab.output.renderOutput(dataTable, element);\n",
       "        const docLink = document.createElement('div');\n",
       "        docLink.innerHTML = docLinkHtml;\n",
       "        element.appendChild(docLink);\n",
       "      }\n",
       "    </script>\n",
       "  </div>\n",
       "\n",
       "\n",
       "<div id=\"df-9fa42aa3-0ad6-46e4-adf7-746a058f04a5\">\n",
       "  <button class=\"colab-df-quickchart\" onclick=\"quickchart('df-9fa42aa3-0ad6-46e4-adf7-746a058f04a5')\"\n",
       "            title=\"Suggest charts.\"\n",
       "            style=\"display:none;\">\n",
       "\n",
       "<svg xmlns=\"http://www.w3.org/2000/svg\" height=\"24px\"viewBox=\"0 0 24 24\"\n",
       "     width=\"24px\">\n",
       "    <g>\n",
       "        <path d=\"M19 3H5c-1.1 0-2 .9-2 2v14c0 1.1.9 2 2 2h14c1.1 0 2-.9 2-2V5c0-1.1-.9-2-2-2zM9 17H7v-7h2v7zm4 0h-2V7h2v10zm4 0h-2v-4h2v4z\"/>\n",
       "    </g>\n",
       "</svg>\n",
       "  </button>\n",
       "\n",
       "<style>\n",
       "  .colab-df-quickchart {\n",
       "      --bg-color: #E8F0FE;\n",
       "      --fill-color: #1967D2;\n",
       "      --hover-bg-color: #E2EBFA;\n",
       "      --hover-fill-color: #174EA6;\n",
       "      --disabled-fill-color: #AAA;\n",
       "      --disabled-bg-color: #DDD;\n",
       "  }\n",
       "\n",
       "  [theme=dark] .colab-df-quickchart {\n",
       "      --bg-color: #3B4455;\n",
       "      --fill-color: #D2E3FC;\n",
       "      --hover-bg-color: #434B5C;\n",
       "      --hover-fill-color: #FFFFFF;\n",
       "      --disabled-bg-color: #3B4455;\n",
       "      --disabled-fill-color: #666;\n",
       "  }\n",
       "\n",
       "  .colab-df-quickchart {\n",
       "    background-color: var(--bg-color);\n",
       "    border: none;\n",
       "    border-radius: 50%;\n",
       "    cursor: pointer;\n",
       "    display: none;\n",
       "    fill: var(--fill-color);\n",
       "    height: 32px;\n",
       "    padding: 0;\n",
       "    width: 32px;\n",
       "  }\n",
       "\n",
       "  .colab-df-quickchart:hover {\n",
       "    background-color: var(--hover-bg-color);\n",
       "    box-shadow: 0 1px 2px rgba(60, 64, 67, 0.3), 0 1px 3px 1px rgba(60, 64, 67, 0.15);\n",
       "    fill: var(--button-hover-fill-color);\n",
       "  }\n",
       "\n",
       "  .colab-df-quickchart-complete:disabled,\n",
       "  .colab-df-quickchart-complete:disabled:hover {\n",
       "    background-color: var(--disabled-bg-color);\n",
       "    fill: var(--disabled-fill-color);\n",
       "    box-shadow: none;\n",
       "  }\n",
       "\n",
       "  .colab-df-spinner {\n",
       "    border: 2px solid var(--fill-color);\n",
       "    border-color: transparent;\n",
       "    border-bottom-color: var(--fill-color);\n",
       "    animation:\n",
       "      spin 1s steps(1) infinite;\n",
       "  }\n",
       "\n",
       "  @keyframes spin {\n",
       "    0% {\n",
       "      border-color: transparent;\n",
       "      border-bottom-color: var(--fill-color);\n",
       "      border-left-color: var(--fill-color);\n",
       "    }\n",
       "    20% {\n",
       "      border-color: transparent;\n",
       "      border-left-color: var(--fill-color);\n",
       "      border-top-color: var(--fill-color);\n",
       "    }\n",
       "    30% {\n",
       "      border-color: transparent;\n",
       "      border-left-color: var(--fill-color);\n",
       "      border-top-color: var(--fill-color);\n",
       "      border-right-color: var(--fill-color);\n",
       "    }\n",
       "    40% {\n",
       "      border-color: transparent;\n",
       "      border-right-color: var(--fill-color);\n",
       "      border-top-color: var(--fill-color);\n",
       "    }\n",
       "    60% {\n",
       "      border-color: transparent;\n",
       "      border-right-color: var(--fill-color);\n",
       "    }\n",
       "    80% {\n",
       "      border-color: transparent;\n",
       "      border-right-color: var(--fill-color);\n",
       "      border-bottom-color: var(--fill-color);\n",
       "    }\n",
       "    90% {\n",
       "      border-color: transparent;\n",
       "      border-bottom-color: var(--fill-color);\n",
       "    }\n",
       "  }\n",
       "</style>\n",
       "\n",
       "  <script>\n",
       "    async function quickchart(key) {\n",
       "      const quickchartButtonEl =\n",
       "        document.querySelector('#' + key + ' button');\n",
       "      quickchartButtonEl.disabled = true;  // To prevent multiple clicks.\n",
       "      quickchartButtonEl.classList.add('colab-df-spinner');\n",
       "      try {\n",
       "        const charts = await google.colab.kernel.invokeFunction(\n",
       "            'suggestCharts', [key], {});\n",
       "      } catch (error) {\n",
       "        console.error('Error during call to suggestCharts:', error);\n",
       "      }\n",
       "      quickchartButtonEl.classList.remove('colab-df-spinner');\n",
       "      quickchartButtonEl.classList.add('colab-df-quickchart-complete');\n",
       "    }\n",
       "    (() => {\n",
       "      let quickchartButtonEl =\n",
       "        document.querySelector('#df-9fa42aa3-0ad6-46e4-adf7-746a058f04a5 button');\n",
       "      quickchartButtonEl.style.display =\n",
       "        google.colab.kernel.accessAllowed ? 'block' : 'none';\n",
       "    })();\n",
       "  </script>\n",
       "</div>\n",
       "    </div>\n",
       "  </div>\n"
      ],
      "text/plain": [
       "        make    model            trim_x   body_x transmission_x state  \\\n",
       "0     nissan   altima             2.5 s    sedan      automatic    ca   \n",
       "1       audi       a3  1.8 tfsi premium    sedan      automatic    ca   \n",
       "2       ford    focus                se    sedan      automatic    ca   \n",
       "3   infiniti  g sedan              g37x  g sedan      automatic    il   \n",
       "4  chevrolet   impala          lt fleet    sedan      automatic    mo   \n",
       "\n",
       "   condition  odometer color_x interior_x  sellingprice  life_car   mean_go  \\\n",
       "0  -1.087017 -0.424075   black      black         10100 -0.470488 -0.111429   \n",
       "1   1.667179 -1.086018   white      black         25250 -0.989277 -0.611191   \n",
       "2   0.925664 -0.529642   white      black         11600 -0.729883  0.412283   \n",
       "3   0.607872 -0.919415    gray       gray         22200 -0.729883 -0.709376   \n",
       "4  -0.663295  0.107525  silver       gray          7300 -0.470488  0.908434   \n",
       "\n",
       "   dbscan  \n",
       "0       0  \n",
       "1       0  \n",
       "2       0  \n",
       "3       0  \n",
       "4       0  "
      ]
     },
     "execution_count": 169,
     "metadata": {},
     "output_type": "execute_result"
    }
   ],
   "source": [
    "train_sample['dbscan'] = labels\n",
    "train_sample.head(5)"
   ]
  },
  {
   "cell_type": "code",
   "execution_count": 170,
   "id": "pFupor4VxJSu",
   "metadata": {
    "colab": {
     "base_uri": "https://localhost:8080/"
    },
    "executionInfo": {
     "elapsed": 48,
     "status": "ok",
     "timestamp": 1694150580988,
     "user": {
      "displayName": "Андрей Медведев",
      "userId": "02560461935100345008"
     },
     "user_tz": -180
    },
    "id": "pFupor4VxJSu",
    "outputId": "1d2d81ff-f973-464a-f384-1e1833e820bf"
   },
   "outputs": [
    {
     "data": {
      "text/plain": [
       "['condition', 'odometer', 'life_car', 'mean_go']"
      ]
     },
     "execution_count": 170,
     "metadata": {},
     "output_type": "execute_result"
    }
   ],
   "source": [
    "train_fit_num_col"
   ]
  },
  {
   "cell_type": "code",
   "execution_count": 171,
   "id": "-hBmDnVH2OR_",
   "metadata": {
    "colab": {
     "base_uri": "https://localhost:8080/",
     "height": 206
    },
    "executionInfo": {
     "elapsed": 29,
     "status": "ok",
     "timestamp": 1694150580988,
     "user": {
      "displayName": "Андрей Медведев",
      "userId": "02560461935100345008"
     },
     "user_tz": -180
    },
    "id": "-hBmDnVH2OR_",
    "outputId": "ec08cd72-5d40-4644-8c45-33699bdf8753"
   },
   "outputs": [
    {
     "data": {
      "text/html": [
       "\n",
       "  <div id=\"df-eb64c87f-2b5b-4299-a440-d5a34de0ea72\" class=\"colab-df-container\">\n",
       "    <div>\n",
       "<style scoped>\n",
       "    .dataframe tbody tr th:only-of-type {\n",
       "        vertical-align: middle;\n",
       "    }\n",
       "\n",
       "    .dataframe tbody tr th {\n",
       "        vertical-align: top;\n",
       "    }\n",
       "\n",
       "    .dataframe thead th {\n",
       "        text-align: right;\n",
       "    }\n",
       "</style>\n",
       "<table border=\"1\" class=\"dataframe\">\n",
       "  <thead>\n",
       "    <tr style=\"text-align: right;\">\n",
       "      <th></th>\n",
       "      <th>condition</th>\n",
       "      <th>odometer</th>\n",
       "      <th>life_car</th>\n",
       "      <th>mean_go</th>\n",
       "      <th>dbscan</th>\n",
       "    </tr>\n",
       "  </thead>\n",
       "  <tbody>\n",
       "    <tr>\n",
       "      <th>condition</th>\n",
       "      <td>1.000000</td>\n",
       "      <td>-0.557302</td>\n",
       "      <td>-0.557570</td>\n",
       "      <td>-0.004791</td>\n",
       "      <td>-0.076238</td>\n",
       "    </tr>\n",
       "    <tr>\n",
       "      <th>odometer</th>\n",
       "      <td>-0.557302</td>\n",
       "      <td>1.000000</td>\n",
       "      <td>0.783112</td>\n",
       "      <td>0.184336</td>\n",
       "      <td>-0.051066</td>\n",
       "    </tr>\n",
       "    <tr>\n",
       "      <th>life_car</th>\n",
       "      <td>-0.557570</td>\n",
       "      <td>0.783112</td>\n",
       "      <td>1.000000</td>\n",
       "      <td>-0.284687</td>\n",
       "      <td>-0.016534</td>\n",
       "    </tr>\n",
       "    <tr>\n",
       "      <th>mean_go</th>\n",
       "      <td>-0.004791</td>\n",
       "      <td>0.184336</td>\n",
       "      <td>-0.284687</td>\n",
       "      <td>1.000000</td>\n",
       "      <td>-0.059676</td>\n",
       "    </tr>\n",
       "    <tr>\n",
       "      <th>dbscan</th>\n",
       "      <td>-0.076238</td>\n",
       "      <td>-0.051066</td>\n",
       "      <td>-0.016534</td>\n",
       "      <td>-0.059676</td>\n",
       "      <td>1.000000</td>\n",
       "    </tr>\n",
       "  </tbody>\n",
       "</table>\n",
       "</div>\n",
       "    <div class=\"colab-df-buttons\">\n",
       "\n",
       "  <div class=\"colab-df-container\">\n",
       "    <button class=\"colab-df-convert\" onclick=\"convertToInteractive('df-eb64c87f-2b5b-4299-a440-d5a34de0ea72')\"\n",
       "            title=\"Convert this dataframe to an interactive table.\"\n",
       "            style=\"display:none;\">\n",
       "\n",
       "  <svg xmlns=\"http://www.w3.org/2000/svg\" height=\"24px\" viewBox=\"0 -960 960 960\">\n",
       "    <path d=\"M120-120v-720h720v720H120Zm60-500h600v-160H180v160Zm220 220h160v-160H400v160Zm0 220h160v-160H400v160ZM180-400h160v-160H180v160Zm440 0h160v-160H620v160ZM180-180h160v-160H180v160Zm440 0h160v-160H620v160Z\"/>\n",
       "  </svg>\n",
       "    </button>\n",
       "\n",
       "  <style>\n",
       "    .colab-df-container {\n",
       "      display:flex;\n",
       "      gap: 12px;\n",
       "    }\n",
       "\n",
       "    .colab-df-convert {\n",
       "      background-color: #E8F0FE;\n",
       "      border: none;\n",
       "      border-radius: 50%;\n",
       "      cursor: pointer;\n",
       "      display: none;\n",
       "      fill: #1967D2;\n",
       "      height: 32px;\n",
       "      padding: 0 0 0 0;\n",
       "      width: 32px;\n",
       "    }\n",
       "\n",
       "    .colab-df-convert:hover {\n",
       "      background-color: #E2EBFA;\n",
       "      box-shadow: 0px 1px 2px rgba(60, 64, 67, 0.3), 0px 1px 3px 1px rgba(60, 64, 67, 0.15);\n",
       "      fill: #174EA6;\n",
       "    }\n",
       "\n",
       "    .colab-df-buttons div {\n",
       "      margin-bottom: 4px;\n",
       "    }\n",
       "\n",
       "    [theme=dark] .colab-df-convert {\n",
       "      background-color: #3B4455;\n",
       "      fill: #D2E3FC;\n",
       "    }\n",
       "\n",
       "    [theme=dark] .colab-df-convert:hover {\n",
       "      background-color: #434B5C;\n",
       "      box-shadow: 0px 1px 3px 1px rgba(0, 0, 0, 0.15);\n",
       "      filter: drop-shadow(0px 1px 2px rgba(0, 0, 0, 0.3));\n",
       "      fill: #FFFFFF;\n",
       "    }\n",
       "  </style>\n",
       "\n",
       "    <script>\n",
       "      const buttonEl =\n",
       "        document.querySelector('#df-eb64c87f-2b5b-4299-a440-d5a34de0ea72 button.colab-df-convert');\n",
       "      buttonEl.style.display =\n",
       "        google.colab.kernel.accessAllowed ? 'block' : 'none';\n",
       "\n",
       "      async function convertToInteractive(key) {\n",
       "        const element = document.querySelector('#df-eb64c87f-2b5b-4299-a440-d5a34de0ea72');\n",
       "        const dataTable =\n",
       "          await google.colab.kernel.invokeFunction('convertToInteractive',\n",
       "                                                    [key], {});\n",
       "        if (!dataTable) return;\n",
       "\n",
       "        const docLinkHtml = 'Like what you see? Visit the ' +\n",
       "          '<a target=\"_blank\" href=https://colab.research.google.com/notebooks/data_table.ipynb>data table notebook</a>'\n",
       "          + ' to learn more about interactive tables.';\n",
       "        element.innerHTML = '';\n",
       "        dataTable['output_type'] = 'display_data';\n",
       "        await google.colab.output.renderOutput(dataTable, element);\n",
       "        const docLink = document.createElement('div');\n",
       "        docLink.innerHTML = docLinkHtml;\n",
       "        element.appendChild(docLink);\n",
       "      }\n",
       "    </script>\n",
       "  </div>\n",
       "\n",
       "\n",
       "<div id=\"df-a61c0fc9-507d-49b4-bb96-5b20af5450fb\">\n",
       "  <button class=\"colab-df-quickchart\" onclick=\"quickchart('df-a61c0fc9-507d-49b4-bb96-5b20af5450fb')\"\n",
       "            title=\"Suggest charts.\"\n",
       "            style=\"display:none;\">\n",
       "\n",
       "<svg xmlns=\"http://www.w3.org/2000/svg\" height=\"24px\"viewBox=\"0 0 24 24\"\n",
       "     width=\"24px\">\n",
       "    <g>\n",
       "        <path d=\"M19 3H5c-1.1 0-2 .9-2 2v14c0 1.1.9 2 2 2h14c1.1 0 2-.9 2-2V5c0-1.1-.9-2-2-2zM9 17H7v-7h2v7zm4 0h-2V7h2v10zm4 0h-2v-4h2v4z\"/>\n",
       "    </g>\n",
       "</svg>\n",
       "  </button>\n",
       "\n",
       "<style>\n",
       "  .colab-df-quickchart {\n",
       "      --bg-color: #E8F0FE;\n",
       "      --fill-color: #1967D2;\n",
       "      --hover-bg-color: #E2EBFA;\n",
       "      --hover-fill-color: #174EA6;\n",
       "      --disabled-fill-color: #AAA;\n",
       "      --disabled-bg-color: #DDD;\n",
       "  }\n",
       "\n",
       "  [theme=dark] .colab-df-quickchart {\n",
       "      --bg-color: #3B4455;\n",
       "      --fill-color: #D2E3FC;\n",
       "      --hover-bg-color: #434B5C;\n",
       "      --hover-fill-color: #FFFFFF;\n",
       "      --disabled-bg-color: #3B4455;\n",
       "      --disabled-fill-color: #666;\n",
       "  }\n",
       "\n",
       "  .colab-df-quickchart {\n",
       "    background-color: var(--bg-color);\n",
       "    border: none;\n",
       "    border-radius: 50%;\n",
       "    cursor: pointer;\n",
       "    display: none;\n",
       "    fill: var(--fill-color);\n",
       "    height: 32px;\n",
       "    padding: 0;\n",
       "    width: 32px;\n",
       "  }\n",
       "\n",
       "  .colab-df-quickchart:hover {\n",
       "    background-color: var(--hover-bg-color);\n",
       "    box-shadow: 0 1px 2px rgba(60, 64, 67, 0.3), 0 1px 3px 1px rgba(60, 64, 67, 0.15);\n",
       "    fill: var(--button-hover-fill-color);\n",
       "  }\n",
       "\n",
       "  .colab-df-quickchart-complete:disabled,\n",
       "  .colab-df-quickchart-complete:disabled:hover {\n",
       "    background-color: var(--disabled-bg-color);\n",
       "    fill: var(--disabled-fill-color);\n",
       "    box-shadow: none;\n",
       "  }\n",
       "\n",
       "  .colab-df-spinner {\n",
       "    border: 2px solid var(--fill-color);\n",
       "    border-color: transparent;\n",
       "    border-bottom-color: var(--fill-color);\n",
       "    animation:\n",
       "      spin 1s steps(1) infinite;\n",
       "  }\n",
       "\n",
       "  @keyframes spin {\n",
       "    0% {\n",
       "      border-color: transparent;\n",
       "      border-bottom-color: var(--fill-color);\n",
       "      border-left-color: var(--fill-color);\n",
       "    }\n",
       "    20% {\n",
       "      border-color: transparent;\n",
       "      border-left-color: var(--fill-color);\n",
       "      border-top-color: var(--fill-color);\n",
       "    }\n",
       "    30% {\n",
       "      border-color: transparent;\n",
       "      border-left-color: var(--fill-color);\n",
       "      border-top-color: var(--fill-color);\n",
       "      border-right-color: var(--fill-color);\n",
       "    }\n",
       "    40% {\n",
       "      border-color: transparent;\n",
       "      border-right-color: var(--fill-color);\n",
       "      border-top-color: var(--fill-color);\n",
       "    }\n",
       "    60% {\n",
       "      border-color: transparent;\n",
       "      border-right-color: var(--fill-color);\n",
       "    }\n",
       "    80% {\n",
       "      border-color: transparent;\n",
       "      border-right-color: var(--fill-color);\n",
       "      border-bottom-color: var(--fill-color);\n",
       "    }\n",
       "    90% {\n",
       "      border-color: transparent;\n",
       "      border-bottom-color: var(--fill-color);\n",
       "    }\n",
       "  }\n",
       "</style>\n",
       "\n",
       "  <script>\n",
       "    async function quickchart(key) {\n",
       "      const quickchartButtonEl =\n",
       "        document.querySelector('#' + key + ' button');\n",
       "      quickchartButtonEl.disabled = true;  // To prevent multiple clicks.\n",
       "      quickchartButtonEl.classList.add('colab-df-spinner');\n",
       "      try {\n",
       "        const charts = await google.colab.kernel.invokeFunction(\n",
       "            'suggestCharts', [key], {});\n",
       "      } catch (error) {\n",
       "        console.error('Error during call to suggestCharts:', error);\n",
       "      }\n",
       "      quickchartButtonEl.classList.remove('colab-df-spinner');\n",
       "      quickchartButtonEl.classList.add('colab-df-quickchart-complete');\n",
       "    }\n",
       "    (() => {\n",
       "      let quickchartButtonEl =\n",
       "        document.querySelector('#df-a61c0fc9-507d-49b4-bb96-5b20af5450fb button');\n",
       "      quickchartButtonEl.style.display =\n",
       "        google.colab.kernel.accessAllowed ? 'block' : 'none';\n",
       "    })();\n",
       "  </script>\n",
       "</div>\n",
       "    </div>\n",
       "  </div>\n"
      ],
      "text/plain": [
       "           condition  odometer  life_car   mean_go    dbscan\n",
       "condition   1.000000 -0.557302 -0.557570 -0.004791 -0.076238\n",
       "odometer   -0.557302  1.000000  0.783112  0.184336 -0.051066\n",
       "life_car   -0.557570  0.783112  1.000000 -0.284687 -0.016534\n",
       "mean_go    -0.004791  0.184336 -0.284687  1.000000 -0.059676\n",
       "dbscan     -0.076238 -0.051066 -0.016534 -0.059676  1.000000"
      ]
     },
     "execution_count": 171,
     "metadata": {},
     "output_type": "execute_result"
    }
   ],
   "source": [
    "#вычисление линейной корреляции\n",
    "train_sample[['condition', 'odometer', 'life_car', 'mean_go', 'dbscan']].corr()"
   ]
  },
  {
   "cell_type": "markdown",
   "id": "KEevotp_wgtM",
   "metadata": {
    "id": "KEevotp_wgtM"
   },
   "source": [
    "не видно линейной корреляции между числовыми признаками и dbscan\n",
    "\n",
    "no linear correlation is visible between numerical features and dbscan"
   ]
  },
  {
   "cell_type": "code",
   "execution_count": 171,
   "id": "mR3zdN1NwoIU",
   "metadata": {
    "executionInfo": {
     "elapsed": 27,
     "status": "ok",
     "timestamp": 1694150580989,
     "user": {
      "displayName": "Андрей Медведев",
      "userId": "02560461935100345008"
     },
     "user_tz": -180
    },
    "id": "mR3zdN1NwoIU"
   },
   "outputs": [],
   "source": []
  },
  {
   "cell_type": "markdown",
   "id": "Pr1rz6MM8bpT",
   "metadata": {
    "id": "Pr1rz6MM8bpT"
   },
   "source": [
    "#### проверка эффекта от кластеризации для одной модели (случайный лес)\n",
    "\n",
    "#### checking the effect of clustering for one model (random forest)"
   ]
  },
  {
   "cell_type": "code",
   "execution_count": 172,
   "id": "yGn0XiKx9bKS",
   "metadata": {
    "executionInfo": {
     "elapsed": 26,
     "status": "ok",
     "timestamp": 1694150580989,
     "user": {
      "displayName": "Андрей Медведев",
      "userId": "02560461935100345008"
     },
     "user_tz": -180
    },
    "id": "yGn0XiKx9bKS"
   },
   "outputs": [],
   "source": [
    "features_dbscan = train_sample[['condition', 'odometer', 'life_car', 'mean_go', 'dbscan']]\n",
    "features = train_sample[train_fit_num_col]\n",
    "target = train_sample['sellingprice']"
   ]
  },
  {
   "cell_type": "code",
   "execution_count": 173,
   "id": "D-N_xDH-9q_y",
   "metadata": {
    "colab": {
     "base_uri": "https://localhost:8080/"
    },
    "executionInfo": {
     "elapsed": 25,
     "status": "ok",
     "timestamp": 1694150580989,
     "user": {
      "displayName": "Андрей Медведев",
      "userId": "02560461935100345008"
     },
     "user_tz": -180
    },
    "id": "D-N_xDH-9q_y",
    "outputId": "8a8d06dd-e387-46b0-a54f-23f44d3d10aa"
   },
   "outputs": [
    {
     "data": {
      "text/plain": [
       "((43205, 5), (43205, 4), (43205,))"
      ]
     },
     "execution_count": 173,
     "metadata": {},
     "output_type": "execute_result"
    }
   ],
   "source": [
    "features_dbscan.shape, features.shape, target.shape"
   ]
  },
  {
   "cell_type": "code",
   "execution_count": 174,
   "id": "x91T2KAO2OWP",
   "metadata": {
    "executionInfo": {
     "elapsed": 14,
     "status": "ok",
     "timestamp": 1694150580989,
     "user": {
      "displayName": "Андрей Медведев",
      "userId": "02560461935100345008"
     },
     "user_tz": -180
    },
    "id": "x91T2KAO2OWP"
   },
   "outputs": [],
   "source": [
    "#логарифмическая сетка параметров\n",
    "params = {\n",
    "    'max_depth':[128],\n",
    "    'n_estimators':[40],\n",
    "    'min_samples_leaf':[4],\n",
    "    'min_samples_split':[2]\n",
    "\n",
    "}"
   ]
  },
  {
   "cell_type": "code",
   "execution_count": 175,
   "id": "3soYpgea2OcE",
   "metadata": {
    "executionInfo": {
     "elapsed": 14,
     "status": "ok",
     "timestamp": 1694150580989,
     "user": {
      "displayName": "Андрей Медведев",
      "userId": "02560461935100345008"
     },
     "user_tz": -180
    },
    "id": "3soYpgea2OcE"
   },
   "outputs": [],
   "source": [
    "rf_regr = RandomForestRegressor(random_state=STATE)"
   ]
  },
  {
   "cell_type": "code",
   "execution_count": 176,
   "id": "ts4Mlbgk2Ogh",
   "metadata": {
    "executionInfo": {
     "elapsed": 13,
     "status": "ok",
     "timestamp": 1694150580989,
     "user": {
      "displayName": "Андрей Медведев",
      "userId": "02560461935100345008"
     },
     "user_tz": -180
    },
    "id": "ts4Mlbgk2Ogh"
   },
   "outputs": [],
   "source": [
    "clf = GridSearchCV(rf_regr, params, scoring='neg_mean_absolute_percentage_error', cv=3, n_jobs=-1)"
   ]
  },
  {
   "cell_type": "code",
   "execution_count": 177,
   "id": "7aPy03cZ87nm",
   "metadata": {
    "colab": {
     "base_uri": "https://localhost:8080/",
     "height": 152
    },
    "executionInfo": {
     "elapsed": 16067,
     "status": "ok",
     "timestamp": 1694150597043,
     "user": {
      "displayName": "Андрей Медведев",
      "userId": "02560461935100345008"
     },
     "user_tz": -180
    },
    "id": "7aPy03cZ87nm",
    "outputId": "561a9c2c-bb83-4147-c183-82779e10fada"
   },
   "outputs": [
    {
     "name": "stdout",
     "output_type": "stream",
     "text": [
      "CPU times: user 6.71 s, sys: 27.1 ms, total: 6.74 s\n",
      "Wall time: 15.9 s\n"
     ]
    },
    {
     "data": {
      "text/html": [
       "<style>#sk-container-id-3 {color: black;background-color: white;}#sk-container-id-3 pre{padding: 0;}#sk-container-id-3 div.sk-toggleable {background-color: white;}#sk-container-id-3 label.sk-toggleable__label {cursor: pointer;display: block;width: 100%;margin-bottom: 0;padding: 0.3em;box-sizing: border-box;text-align: center;}#sk-container-id-3 label.sk-toggleable__label-arrow:before {content: \"▸\";float: left;margin-right: 0.25em;color: #696969;}#sk-container-id-3 label.sk-toggleable__label-arrow:hover:before {color: black;}#sk-container-id-3 div.sk-estimator:hover label.sk-toggleable__label-arrow:before {color: black;}#sk-container-id-3 div.sk-toggleable__content {max-height: 0;max-width: 0;overflow: hidden;text-align: left;background-color: #f0f8ff;}#sk-container-id-3 div.sk-toggleable__content pre {margin: 0.2em;color: black;border-radius: 0.25em;background-color: #f0f8ff;}#sk-container-id-3 input.sk-toggleable__control:checked~div.sk-toggleable__content {max-height: 200px;max-width: 100%;overflow: auto;}#sk-container-id-3 input.sk-toggleable__control:checked~label.sk-toggleable__label-arrow:before {content: \"▾\";}#sk-container-id-3 div.sk-estimator input.sk-toggleable__control:checked~label.sk-toggleable__label {background-color: #d4ebff;}#sk-container-id-3 div.sk-label input.sk-toggleable__control:checked~label.sk-toggleable__label {background-color: #d4ebff;}#sk-container-id-3 input.sk-hidden--visually {border: 0;clip: rect(1px 1px 1px 1px);clip: rect(1px, 1px, 1px, 1px);height: 1px;margin: -1px;overflow: hidden;padding: 0;position: absolute;width: 1px;}#sk-container-id-3 div.sk-estimator {font-family: monospace;background-color: #f0f8ff;border: 1px dotted black;border-radius: 0.25em;box-sizing: border-box;margin-bottom: 0.5em;}#sk-container-id-3 div.sk-estimator:hover {background-color: #d4ebff;}#sk-container-id-3 div.sk-parallel-item::after {content: \"\";width: 100%;border-bottom: 1px solid gray;flex-grow: 1;}#sk-container-id-3 div.sk-label:hover label.sk-toggleable__label {background-color: #d4ebff;}#sk-container-id-3 div.sk-serial::before {content: \"\";position: absolute;border-left: 1px solid gray;box-sizing: border-box;top: 0;bottom: 0;left: 50%;z-index: 0;}#sk-container-id-3 div.sk-serial {display: flex;flex-direction: column;align-items: center;background-color: white;padding-right: 0.2em;padding-left: 0.2em;position: relative;}#sk-container-id-3 div.sk-item {position: relative;z-index: 1;}#sk-container-id-3 div.sk-parallel {display: flex;align-items: stretch;justify-content: center;background-color: white;position: relative;}#sk-container-id-3 div.sk-item::before, #sk-container-id-3 div.sk-parallel-item::before {content: \"\";position: absolute;border-left: 1px solid gray;box-sizing: border-box;top: 0;bottom: 0;left: 50%;z-index: -1;}#sk-container-id-3 div.sk-parallel-item {display: flex;flex-direction: column;z-index: 1;position: relative;background-color: white;}#sk-container-id-3 div.sk-parallel-item:first-child::after {align-self: flex-end;width: 50%;}#sk-container-id-3 div.sk-parallel-item:last-child::after {align-self: flex-start;width: 50%;}#sk-container-id-3 div.sk-parallel-item:only-child::after {width: 0;}#sk-container-id-3 div.sk-dashed-wrapped {border: 1px dashed gray;margin: 0 0.4em 0.5em 0.4em;box-sizing: border-box;padding-bottom: 0.4em;background-color: white;}#sk-container-id-3 div.sk-label label {font-family: monospace;font-weight: bold;display: inline-block;line-height: 1.2em;}#sk-container-id-3 div.sk-label-container {text-align: center;}#sk-container-id-3 div.sk-container {/* jupyter's `normalize.less` sets `[hidden] { display: none; }` but bootstrap.min.css set `[hidden] { display: none !important; }` so we also need the `!important` here to be able to override the default hidden behavior on the sphinx rendered scikit-learn.org. See: https://github.com/scikit-learn/scikit-learn/issues/21755 */display: inline-block !important;position: relative;}#sk-container-id-3 div.sk-text-repr-fallback {display: none;}</style><div id=\"sk-container-id-3\" class=\"sk-top-container\"><div class=\"sk-text-repr-fallback\"><pre>GridSearchCV(cv=3, estimator=RandomForestRegressor(random_state=33443),\n",
       "             n_jobs=-1,\n",
       "             param_grid={&#x27;max_depth&#x27;: [128], &#x27;min_samples_leaf&#x27;: [4],\n",
       "                         &#x27;min_samples_split&#x27;: [2], &#x27;n_estimators&#x27;: [40]},\n",
       "             scoring=&#x27;neg_mean_absolute_percentage_error&#x27;)</pre><b>In a Jupyter environment, please rerun this cell to show the HTML representation or trust the notebook. <br />On GitHub, the HTML representation is unable to render, please try loading this page with nbviewer.org.</b></div><div class=\"sk-container\" hidden><div class=\"sk-item sk-dashed-wrapped\"><div class=\"sk-label-container\"><div class=\"sk-label sk-toggleable\"><input class=\"sk-toggleable__control sk-hidden--visually\" id=\"sk-estimator-id-5\" type=\"checkbox\" ><label for=\"sk-estimator-id-5\" class=\"sk-toggleable__label sk-toggleable__label-arrow\">GridSearchCV</label><div class=\"sk-toggleable__content\"><pre>GridSearchCV(cv=3, estimator=RandomForestRegressor(random_state=33443),\n",
       "             n_jobs=-1,\n",
       "             param_grid={&#x27;max_depth&#x27;: [128], &#x27;min_samples_leaf&#x27;: [4],\n",
       "                         &#x27;min_samples_split&#x27;: [2], &#x27;n_estimators&#x27;: [40]},\n",
       "             scoring=&#x27;neg_mean_absolute_percentage_error&#x27;)</pre></div></div></div><div class=\"sk-parallel\"><div class=\"sk-parallel-item\"><div class=\"sk-item\"><div class=\"sk-label-container\"><div class=\"sk-label sk-toggleable\"><input class=\"sk-toggleable__control sk-hidden--visually\" id=\"sk-estimator-id-6\" type=\"checkbox\" ><label for=\"sk-estimator-id-6\" class=\"sk-toggleable__label sk-toggleable__label-arrow\">estimator: RandomForestRegressor</label><div class=\"sk-toggleable__content\"><pre>RandomForestRegressor(random_state=33443)</pre></div></div></div><div class=\"sk-serial\"><div class=\"sk-item\"><div class=\"sk-estimator sk-toggleable\"><input class=\"sk-toggleable__control sk-hidden--visually\" id=\"sk-estimator-id-7\" type=\"checkbox\" ><label for=\"sk-estimator-id-7\" class=\"sk-toggleable__label sk-toggleable__label-arrow\">RandomForestRegressor</label><div class=\"sk-toggleable__content\"><pre>RandomForestRegressor(random_state=33443)</pre></div></div></div></div></div></div></div></div></div></div>"
      ],
      "text/plain": [
       "GridSearchCV(cv=3, estimator=RandomForestRegressor(random_state=33443),\n",
       "             n_jobs=-1,\n",
       "             param_grid={'max_depth': [128], 'min_samples_leaf': [4],\n",
       "                         'min_samples_split': [2], 'n_estimators': [40]},\n",
       "             scoring='neg_mean_absolute_percentage_error')"
      ]
     },
     "execution_count": 177,
     "metadata": {},
     "output_type": "execute_result"
    }
   ],
   "source": [
    "%%time\n",
    "clf.fit(features_dbscan, target)"
   ]
  },
  {
   "cell_type": "code",
   "execution_count": 178,
   "id": "m4AjazCQ87sf",
   "metadata": {
    "colab": {
     "base_uri": "https://localhost:8080/"
    },
    "executionInfo": {
     "elapsed": 25,
     "status": "ok",
     "timestamp": 1694150597044,
     "user": {
      "displayName": "Андрей Медведев",
      "userId": "02560461935100345008"
     },
     "user_tz": -180
    },
    "id": "m4AjazCQ87sf",
    "outputId": "0918b35e-8ad3-4d54-f643-d07fca30ee93"
   },
   "outputs": [
    {
     "data": {
      "text/plain": [
       "0.4896"
      ]
     },
     "execution_count": 178,
     "metadata": {},
     "output_type": "execute_result"
    }
   ],
   "source": [
    "round(-clf.best_score_, 4)"
   ]
  },
  {
   "cell_type": "code",
   "execution_count": 178,
   "id": "_dgC3XdW87vc",
   "metadata": {
    "executionInfo": {
     "elapsed": 13,
     "status": "ok",
     "timestamp": 1694150597046,
     "user": {
      "displayName": "Андрей Медведев",
      "userId": "02560461935100345008"
     },
     "user_tz": -180
    },
    "id": "_dgC3XdW87vc"
   },
   "outputs": [],
   "source": []
  },
  {
   "cell_type": "markdown",
   "id": "6F5H5-Af-Qgr",
   "metadata": {
    "id": "6F5H5-Af-Qgr"
   },
   "source": [
    "##### та же модель но без dbscan\n",
    "\n",
    "##### same model but without dbscan"
   ]
  },
  {
   "cell_type": "code",
   "execution_count": 179,
   "id": "BjpfVRFo87yG",
   "metadata": {
    "colab": {
     "base_uri": "https://localhost:8080/",
     "height": 152
    },
    "executionInfo": {
     "elapsed": 15060,
     "status": "ok",
     "timestamp": 1694150612094,
     "user": {
      "displayName": "Андрей Медведев",
      "userId": "02560461935100345008"
     },
     "user_tz": -180
    },
    "id": "BjpfVRFo87yG",
    "outputId": "d0574642-b21b-43a1-9e78-742495349e83"
   },
   "outputs": [
    {
     "name": "stdout",
     "output_type": "stream",
     "text": [
      "CPU times: user 6.64 s, sys: 26 ms, total: 6.66 s\n",
      "Wall time: 15.2 s\n"
     ]
    },
    {
     "data": {
      "text/html": [
       "<style>#sk-container-id-4 {color: black;background-color: white;}#sk-container-id-4 pre{padding: 0;}#sk-container-id-4 div.sk-toggleable {background-color: white;}#sk-container-id-4 label.sk-toggleable__label {cursor: pointer;display: block;width: 100%;margin-bottom: 0;padding: 0.3em;box-sizing: border-box;text-align: center;}#sk-container-id-4 label.sk-toggleable__label-arrow:before {content: \"▸\";float: left;margin-right: 0.25em;color: #696969;}#sk-container-id-4 label.sk-toggleable__label-arrow:hover:before {color: black;}#sk-container-id-4 div.sk-estimator:hover label.sk-toggleable__label-arrow:before {color: black;}#sk-container-id-4 div.sk-toggleable__content {max-height: 0;max-width: 0;overflow: hidden;text-align: left;background-color: #f0f8ff;}#sk-container-id-4 div.sk-toggleable__content pre {margin: 0.2em;color: black;border-radius: 0.25em;background-color: #f0f8ff;}#sk-container-id-4 input.sk-toggleable__control:checked~div.sk-toggleable__content {max-height: 200px;max-width: 100%;overflow: auto;}#sk-container-id-4 input.sk-toggleable__control:checked~label.sk-toggleable__label-arrow:before {content: \"▾\";}#sk-container-id-4 div.sk-estimator input.sk-toggleable__control:checked~label.sk-toggleable__label {background-color: #d4ebff;}#sk-container-id-4 div.sk-label input.sk-toggleable__control:checked~label.sk-toggleable__label {background-color: #d4ebff;}#sk-container-id-4 input.sk-hidden--visually {border: 0;clip: rect(1px 1px 1px 1px);clip: rect(1px, 1px, 1px, 1px);height: 1px;margin: -1px;overflow: hidden;padding: 0;position: absolute;width: 1px;}#sk-container-id-4 div.sk-estimator {font-family: monospace;background-color: #f0f8ff;border: 1px dotted black;border-radius: 0.25em;box-sizing: border-box;margin-bottom: 0.5em;}#sk-container-id-4 div.sk-estimator:hover {background-color: #d4ebff;}#sk-container-id-4 div.sk-parallel-item::after {content: \"\";width: 100%;border-bottom: 1px solid gray;flex-grow: 1;}#sk-container-id-4 div.sk-label:hover label.sk-toggleable__label {background-color: #d4ebff;}#sk-container-id-4 div.sk-serial::before {content: \"\";position: absolute;border-left: 1px solid gray;box-sizing: border-box;top: 0;bottom: 0;left: 50%;z-index: 0;}#sk-container-id-4 div.sk-serial {display: flex;flex-direction: column;align-items: center;background-color: white;padding-right: 0.2em;padding-left: 0.2em;position: relative;}#sk-container-id-4 div.sk-item {position: relative;z-index: 1;}#sk-container-id-4 div.sk-parallel {display: flex;align-items: stretch;justify-content: center;background-color: white;position: relative;}#sk-container-id-4 div.sk-item::before, #sk-container-id-4 div.sk-parallel-item::before {content: \"\";position: absolute;border-left: 1px solid gray;box-sizing: border-box;top: 0;bottom: 0;left: 50%;z-index: -1;}#sk-container-id-4 div.sk-parallel-item {display: flex;flex-direction: column;z-index: 1;position: relative;background-color: white;}#sk-container-id-4 div.sk-parallel-item:first-child::after {align-self: flex-end;width: 50%;}#sk-container-id-4 div.sk-parallel-item:last-child::after {align-self: flex-start;width: 50%;}#sk-container-id-4 div.sk-parallel-item:only-child::after {width: 0;}#sk-container-id-4 div.sk-dashed-wrapped {border: 1px dashed gray;margin: 0 0.4em 0.5em 0.4em;box-sizing: border-box;padding-bottom: 0.4em;background-color: white;}#sk-container-id-4 div.sk-label label {font-family: monospace;font-weight: bold;display: inline-block;line-height: 1.2em;}#sk-container-id-4 div.sk-label-container {text-align: center;}#sk-container-id-4 div.sk-container {/* jupyter's `normalize.less` sets `[hidden] { display: none; }` but bootstrap.min.css set `[hidden] { display: none !important; }` so we also need the `!important` here to be able to override the default hidden behavior on the sphinx rendered scikit-learn.org. See: https://github.com/scikit-learn/scikit-learn/issues/21755 */display: inline-block !important;position: relative;}#sk-container-id-4 div.sk-text-repr-fallback {display: none;}</style><div id=\"sk-container-id-4\" class=\"sk-top-container\"><div class=\"sk-text-repr-fallback\"><pre>GridSearchCV(cv=3, estimator=RandomForestRegressor(random_state=33443),\n",
       "             n_jobs=-1,\n",
       "             param_grid={&#x27;max_depth&#x27;: [128], &#x27;min_samples_leaf&#x27;: [4],\n",
       "                         &#x27;min_samples_split&#x27;: [2], &#x27;n_estimators&#x27;: [40]},\n",
       "             scoring=&#x27;neg_mean_absolute_percentage_error&#x27;)</pre><b>In a Jupyter environment, please rerun this cell to show the HTML representation or trust the notebook. <br />On GitHub, the HTML representation is unable to render, please try loading this page with nbviewer.org.</b></div><div class=\"sk-container\" hidden><div class=\"sk-item sk-dashed-wrapped\"><div class=\"sk-label-container\"><div class=\"sk-label sk-toggleable\"><input class=\"sk-toggleable__control sk-hidden--visually\" id=\"sk-estimator-id-8\" type=\"checkbox\" ><label for=\"sk-estimator-id-8\" class=\"sk-toggleable__label sk-toggleable__label-arrow\">GridSearchCV</label><div class=\"sk-toggleable__content\"><pre>GridSearchCV(cv=3, estimator=RandomForestRegressor(random_state=33443),\n",
       "             n_jobs=-1,\n",
       "             param_grid={&#x27;max_depth&#x27;: [128], &#x27;min_samples_leaf&#x27;: [4],\n",
       "                         &#x27;min_samples_split&#x27;: [2], &#x27;n_estimators&#x27;: [40]},\n",
       "             scoring=&#x27;neg_mean_absolute_percentage_error&#x27;)</pre></div></div></div><div class=\"sk-parallel\"><div class=\"sk-parallel-item\"><div class=\"sk-item\"><div class=\"sk-label-container\"><div class=\"sk-label sk-toggleable\"><input class=\"sk-toggleable__control sk-hidden--visually\" id=\"sk-estimator-id-9\" type=\"checkbox\" ><label for=\"sk-estimator-id-9\" class=\"sk-toggleable__label sk-toggleable__label-arrow\">estimator: RandomForestRegressor</label><div class=\"sk-toggleable__content\"><pre>RandomForestRegressor(random_state=33443)</pre></div></div></div><div class=\"sk-serial\"><div class=\"sk-item\"><div class=\"sk-estimator sk-toggleable\"><input class=\"sk-toggleable__control sk-hidden--visually\" id=\"sk-estimator-id-10\" type=\"checkbox\" ><label for=\"sk-estimator-id-10\" class=\"sk-toggleable__label sk-toggleable__label-arrow\">RandomForestRegressor</label><div class=\"sk-toggleable__content\"><pre>RandomForestRegressor(random_state=33443)</pre></div></div></div></div></div></div></div></div></div></div>"
      ],
      "text/plain": [
       "GridSearchCV(cv=3, estimator=RandomForestRegressor(random_state=33443),\n",
       "             n_jobs=-1,\n",
       "             param_grid={'max_depth': [128], 'min_samples_leaf': [4],\n",
       "                         'min_samples_split': [2], 'n_estimators': [40]},\n",
       "             scoring='neg_mean_absolute_percentage_error')"
      ]
     },
     "execution_count": 179,
     "metadata": {},
     "output_type": "execute_result"
    }
   ],
   "source": [
    "%%time\n",
    "clf.fit(features, target)"
   ]
  },
  {
   "cell_type": "code",
   "execution_count": 180,
   "id": "3whraQ_E-azN",
   "metadata": {
    "colab": {
     "base_uri": "https://localhost:8080/"
    },
    "executionInfo": {
     "elapsed": 530,
     "status": "ok",
     "timestamp": 1694150612606,
     "user": {
      "displayName": "Андрей Медведев",
      "userId": "02560461935100345008"
     },
     "user_tz": -180
    },
    "id": "3whraQ_E-azN",
    "outputId": "4b05447a-4f77-44b3-ed8e-9d86b4515a27"
   },
   "outputs": [
    {
     "data": {
      "text/plain": [
       "0.4897"
      ]
     },
     "execution_count": 180,
     "metadata": {},
     "output_type": "execute_result"
    }
   ],
   "source": [
    "round(-clf.best_score_, 4)"
   ]
  },
  {
   "cell_type": "markdown",
   "id": "3dZHJLTm-6_V",
   "metadata": {
    "id": "3dZHJLTm-6_V"
   },
   "source": [
    "на даный момент эффект от кластеризации есть, но крайне маленький, разница только в 4-м знаке\n",
    "-- --\n",
    "at the moment there is an effect from clustering, but it is extremely small, the difference is only in the 4th digit"
   ]
  },
  {
   "cell_type": "markdown",
   "id": "FTJ_qCcosgOg",
   "metadata": {
    "id": "FTJ_qCcosgOg"
   },
   "source": [
    "#### Проверка эффекта от dbscan на всех столбцах кодированных Ordinal Encoder\n",
    "-- --\n",
    "#### Checking the effect of dbscan on all columns encoded by Ordinal Encoder"
   ]
  },
  {
   "cell_type": "code",
   "execution_count": 181,
   "id": "Bzy2YJ27s2aS",
   "metadata": {
    "colab": {
     "base_uri": "https://localhost:8080/",
     "height": 81
    },
    "executionInfo": {
     "elapsed": 15,
     "status": "ok",
     "timestamp": 1694150612608,
     "user": {
      "displayName": "Андрей Медведев",
      "userId": "02560461935100345008"
     },
     "user_tz": -180
    },
    "id": "Bzy2YJ27s2aS",
    "outputId": "203eeeb9-e39b-4b41-d101-1b5105a9e8d3"
   },
   "outputs": [
    {
     "data": {
      "text/html": [
       "\n",
       "  <div id=\"df-8588a55b-efc9-48d6-bd2f-b32544b22be8\" class=\"colab-df-container\">\n",
       "    <div>\n",
       "<style scoped>\n",
       "    .dataframe tbody tr th:only-of-type {\n",
       "        vertical-align: middle;\n",
       "    }\n",
       "\n",
       "    .dataframe tbody tr th {\n",
       "        vertical-align: top;\n",
       "    }\n",
       "\n",
       "    .dataframe thead th {\n",
       "        text-align: right;\n",
       "    }\n",
       "</style>\n",
       "<table border=\"1\" class=\"dataframe\">\n",
       "  <thead>\n",
       "    <tr style=\"text-align: right;\">\n",
       "      <th></th>\n",
       "      <th>make</th>\n",
       "      <th>model</th>\n",
       "      <th>trim_x</th>\n",
       "      <th>body_x</th>\n",
       "      <th>transmission_x</th>\n",
       "      <th>state</th>\n",
       "      <th>color_x</th>\n",
       "      <th>interior_x</th>\n",
       "      <th>condition</th>\n",
       "      <th>odometer</th>\n",
       "      <th>life_car</th>\n",
       "      <th>mean_go</th>\n",
       "      <th>sellingprice</th>\n",
       "    </tr>\n",
       "  </thead>\n",
       "  <tbody>\n",
       "    <tr>\n",
       "      <th>0</th>\n",
       "      <td>34.0</td>\n",
       "      <td>52.0</td>\n",
       "      <td>77.0</td>\n",
       "      <td>31.0</td>\n",
       "      <td>0.0</td>\n",
       "      <td>3.0</td>\n",
       "      <td>1.0</td>\n",
       "      <td>1.0</td>\n",
       "      <td>-1.087017</td>\n",
       "      <td>-0.424075</td>\n",
       "      <td>-0.470488</td>\n",
       "      <td>-0.111429</td>\n",
       "      <td>10100</td>\n",
       "    </tr>\n",
       "  </tbody>\n",
       "</table>\n",
       "</div>\n",
       "    <div class=\"colab-df-buttons\">\n",
       "\n",
       "  <div class=\"colab-df-container\">\n",
       "    <button class=\"colab-df-convert\" onclick=\"convertToInteractive('df-8588a55b-efc9-48d6-bd2f-b32544b22be8')\"\n",
       "            title=\"Convert this dataframe to an interactive table.\"\n",
       "            style=\"display:none;\">\n",
       "\n",
       "  <svg xmlns=\"http://www.w3.org/2000/svg\" height=\"24px\" viewBox=\"0 -960 960 960\">\n",
       "    <path d=\"M120-120v-720h720v720H120Zm60-500h600v-160H180v160Zm220 220h160v-160H400v160Zm0 220h160v-160H400v160ZM180-400h160v-160H180v160Zm440 0h160v-160H620v160ZM180-180h160v-160H180v160Zm440 0h160v-160H620v160Z\"/>\n",
       "  </svg>\n",
       "    </button>\n",
       "\n",
       "  <style>\n",
       "    .colab-df-container {\n",
       "      display:flex;\n",
       "      gap: 12px;\n",
       "    }\n",
       "\n",
       "    .colab-df-convert {\n",
       "      background-color: #E8F0FE;\n",
       "      border: none;\n",
       "      border-radius: 50%;\n",
       "      cursor: pointer;\n",
       "      display: none;\n",
       "      fill: #1967D2;\n",
       "      height: 32px;\n",
       "      padding: 0 0 0 0;\n",
       "      width: 32px;\n",
       "    }\n",
       "\n",
       "    .colab-df-convert:hover {\n",
       "      background-color: #E2EBFA;\n",
       "      box-shadow: 0px 1px 2px rgba(60, 64, 67, 0.3), 0px 1px 3px 1px rgba(60, 64, 67, 0.15);\n",
       "      fill: #174EA6;\n",
       "    }\n",
       "\n",
       "    .colab-df-buttons div {\n",
       "      margin-bottom: 4px;\n",
       "    }\n",
       "\n",
       "    [theme=dark] .colab-df-convert {\n",
       "      background-color: #3B4455;\n",
       "      fill: #D2E3FC;\n",
       "    }\n",
       "\n",
       "    [theme=dark] .colab-df-convert:hover {\n",
       "      background-color: #434B5C;\n",
       "      box-shadow: 0px 1px 3px 1px rgba(0, 0, 0, 0.15);\n",
       "      filter: drop-shadow(0px 1px 2px rgba(0, 0, 0, 0.3));\n",
       "      fill: #FFFFFF;\n",
       "    }\n",
       "  </style>\n",
       "\n",
       "    <script>\n",
       "      const buttonEl =\n",
       "        document.querySelector('#df-8588a55b-efc9-48d6-bd2f-b32544b22be8 button.colab-df-convert');\n",
       "      buttonEl.style.display =\n",
       "        google.colab.kernel.accessAllowed ? 'block' : 'none';\n",
       "\n",
       "      async function convertToInteractive(key) {\n",
       "        const element = document.querySelector('#df-8588a55b-efc9-48d6-bd2f-b32544b22be8');\n",
       "        const dataTable =\n",
       "          await google.colab.kernel.invokeFunction('convertToInteractive',\n",
       "                                                    [key], {});\n",
       "        if (!dataTable) return;\n",
       "\n",
       "        const docLinkHtml = 'Like what you see? Visit the ' +\n",
       "          '<a target=\"_blank\" href=https://colab.research.google.com/notebooks/data_table.ipynb>data table notebook</a>'\n",
       "          + ' to learn more about interactive tables.';\n",
       "        element.innerHTML = '';\n",
       "        dataTable['output_type'] = 'display_data';\n",
       "        await google.colab.output.renderOutput(dataTable, element);\n",
       "        const docLink = document.createElement('div');\n",
       "        docLink.innerHTML = docLinkHtml;\n",
       "        element.appendChild(docLink);\n",
       "      }\n",
       "    </script>\n",
       "  </div>\n",
       "\n",
       "    </div>\n",
       "  </div>\n"
      ],
      "text/plain": [
       "   make  model  trim_x  body_x  transmission_x  state  color_x  interior_x  \\\n",
       "0  34.0   52.0    77.0    31.0             0.0    3.0      1.0         1.0   \n",
       "\n",
       "   condition  odometer  life_car   mean_go  sellingprice  \n",
       "0  -1.087017 -0.424075 -0.470488 -0.111429         10100  "
      ]
     },
     "execution_count": 181,
     "metadata": {},
     "output_type": "execute_result"
    }
   ],
   "source": [
    "train_sample_oe.head(1)"
   ]
  },
  {
   "cell_type": "code",
   "execution_count": 182,
   "id": "mPzYAncfsfAB",
   "metadata": {
    "executionInfo": {
     "elapsed": 1283,
     "status": "ok",
     "timestamp": 1694150613879,
     "user": {
      "displayName": "Андрей Медведев",
      "userId": "02560461935100345008"
     },
     "user_tz": -180
    },
    "id": "mPzYAncfsfAB"
   },
   "outputs": [],
   "source": [
    "#вычисление DBSCAN\n",
    "#calculation DBSCAN\n",
    "db = DBSCAN(eps=0.9, min_samples=12).fit(train_sample_oe.drop('sellingprice', axis=1))"
   ]
  },
  {
   "cell_type": "code",
   "execution_count": 183,
   "id": "7qsdZZvmsfDu",
   "metadata": {
    "colab": {
     "base_uri": "https://localhost:8080/"
    },
    "executionInfo": {
     "elapsed": 37,
     "status": "ok",
     "timestamp": 1694150613880,
     "user": {
      "displayName": "Андрей Медведев",
      "userId": "02560461935100345008"
     },
     "user_tz": -180
    },
    "id": "7qsdZZvmsfDu",
    "outputId": "646ccc78-780e-4d14-fcdf-a66bd306ef8d"
   },
   "outputs": [
    {
     "data": {
      "text/plain": [
       "-1    43086\n",
       " 0       19\n",
       " 2       19\n",
       " 3       16\n",
       " 4       15\n",
       " 1       14\n",
       " 5       12\n",
       " 7       12\n",
       " 6       12\n",
       "dtype: int64"
      ]
     },
     "execution_count": 183,
     "metadata": {},
     "output_type": "execute_result"
    }
   ],
   "source": [
    "labels = db.labels_\n",
    "labels = pd.Series(labels)\n",
    "labels.value_counts()"
   ]
  },
  {
   "cell_type": "code",
   "execution_count": 184,
   "id": "n6OfTxFZsfJR",
   "metadata": {
    "colab": {
     "base_uri": "https://localhost:8080/",
     "height": 112
    },
    "executionInfo": {
     "elapsed": 24,
     "status": "ok",
     "timestamp": 1694150613880,
     "user": {
      "displayName": "Андрей Медведев",
      "userId": "02560461935100345008"
     },
     "user_tz": -180
    },
    "id": "n6OfTxFZsfJR",
    "outputId": "5c86fbc0-70a0-4ba2-b7f7-7a38c6cebb02"
   },
   "outputs": [
    {
     "data": {
      "text/html": [
       "\n",
       "  <div id=\"df-56352d7f-c973-4d6e-88ff-dd003a3cffc2\" class=\"colab-df-container\">\n",
       "    <div>\n",
       "<style scoped>\n",
       "    .dataframe tbody tr th:only-of-type {\n",
       "        vertical-align: middle;\n",
       "    }\n",
       "\n",
       "    .dataframe tbody tr th {\n",
       "        vertical-align: top;\n",
       "    }\n",
       "\n",
       "    .dataframe thead th {\n",
       "        text-align: right;\n",
       "    }\n",
       "</style>\n",
       "<table border=\"1\" class=\"dataframe\">\n",
       "  <thead>\n",
       "    <tr style=\"text-align: right;\">\n",
       "      <th></th>\n",
       "      <th>make</th>\n",
       "      <th>model</th>\n",
       "      <th>trim_x</th>\n",
       "      <th>body_x</th>\n",
       "      <th>transmission_x</th>\n",
       "      <th>state</th>\n",
       "      <th>color_x</th>\n",
       "      <th>interior_x</th>\n",
       "      <th>condition</th>\n",
       "      <th>odometer</th>\n",
       "      <th>life_car</th>\n",
       "      <th>mean_go</th>\n",
       "      <th>sellingprice</th>\n",
       "      <th>dbscan</th>\n",
       "    </tr>\n",
       "  </thead>\n",
       "  <tbody>\n",
       "    <tr>\n",
       "      <th>0</th>\n",
       "      <td>34.0</td>\n",
       "      <td>52.0</td>\n",
       "      <td>77.0</td>\n",
       "      <td>31.0</td>\n",
       "      <td>0.0</td>\n",
       "      <td>3.0</td>\n",
       "      <td>1.0</td>\n",
       "      <td>1.0</td>\n",
       "      <td>-1.087017</td>\n",
       "      <td>-0.424075</td>\n",
       "      <td>-0.470488</td>\n",
       "      <td>-0.111429</td>\n",
       "      <td>10100</td>\n",
       "      <td>-1</td>\n",
       "    </tr>\n",
       "    <tr>\n",
       "      <th>1</th>\n",
       "      <td>2.0</td>\n",
       "      <td>36.0</td>\n",
       "      <td>16.0</td>\n",
       "      <td>31.0</td>\n",
       "      <td>0.0</td>\n",
       "      <td>3.0</td>\n",
       "      <td>17.0</td>\n",
       "      <td>1.0</td>\n",
       "      <td>1.667179</td>\n",
       "      <td>-1.086018</td>\n",
       "      <td>-0.989277</td>\n",
       "      <td>-0.611191</td>\n",
       "      <td>25250</td>\n",
       "      <td>-1</td>\n",
       "    </tr>\n",
       "  </tbody>\n",
       "</table>\n",
       "</div>\n",
       "    <div class=\"colab-df-buttons\">\n",
       "\n",
       "  <div class=\"colab-df-container\">\n",
       "    <button class=\"colab-df-convert\" onclick=\"convertToInteractive('df-56352d7f-c973-4d6e-88ff-dd003a3cffc2')\"\n",
       "            title=\"Convert this dataframe to an interactive table.\"\n",
       "            style=\"display:none;\">\n",
       "\n",
       "  <svg xmlns=\"http://www.w3.org/2000/svg\" height=\"24px\" viewBox=\"0 -960 960 960\">\n",
       "    <path d=\"M120-120v-720h720v720H120Zm60-500h600v-160H180v160Zm220 220h160v-160H400v160Zm0 220h160v-160H400v160ZM180-400h160v-160H180v160Zm440 0h160v-160H620v160ZM180-180h160v-160H180v160Zm440 0h160v-160H620v160Z\"/>\n",
       "  </svg>\n",
       "    </button>\n",
       "\n",
       "  <style>\n",
       "    .colab-df-container {\n",
       "      display:flex;\n",
       "      gap: 12px;\n",
       "    }\n",
       "\n",
       "    .colab-df-convert {\n",
       "      background-color: #E8F0FE;\n",
       "      border: none;\n",
       "      border-radius: 50%;\n",
       "      cursor: pointer;\n",
       "      display: none;\n",
       "      fill: #1967D2;\n",
       "      height: 32px;\n",
       "      padding: 0 0 0 0;\n",
       "      width: 32px;\n",
       "    }\n",
       "\n",
       "    .colab-df-convert:hover {\n",
       "      background-color: #E2EBFA;\n",
       "      box-shadow: 0px 1px 2px rgba(60, 64, 67, 0.3), 0px 1px 3px 1px rgba(60, 64, 67, 0.15);\n",
       "      fill: #174EA6;\n",
       "    }\n",
       "\n",
       "    .colab-df-buttons div {\n",
       "      margin-bottom: 4px;\n",
       "    }\n",
       "\n",
       "    [theme=dark] .colab-df-convert {\n",
       "      background-color: #3B4455;\n",
       "      fill: #D2E3FC;\n",
       "    }\n",
       "\n",
       "    [theme=dark] .colab-df-convert:hover {\n",
       "      background-color: #434B5C;\n",
       "      box-shadow: 0px 1px 3px 1px rgba(0, 0, 0, 0.15);\n",
       "      filter: drop-shadow(0px 1px 2px rgba(0, 0, 0, 0.3));\n",
       "      fill: #FFFFFF;\n",
       "    }\n",
       "  </style>\n",
       "\n",
       "    <script>\n",
       "      const buttonEl =\n",
       "        document.querySelector('#df-56352d7f-c973-4d6e-88ff-dd003a3cffc2 button.colab-df-convert');\n",
       "      buttonEl.style.display =\n",
       "        google.colab.kernel.accessAllowed ? 'block' : 'none';\n",
       "\n",
       "      async function convertToInteractive(key) {\n",
       "        const element = document.querySelector('#df-56352d7f-c973-4d6e-88ff-dd003a3cffc2');\n",
       "        const dataTable =\n",
       "          await google.colab.kernel.invokeFunction('convertToInteractive',\n",
       "                                                    [key], {});\n",
       "        if (!dataTable) return;\n",
       "\n",
       "        const docLinkHtml = 'Like what you see? Visit the ' +\n",
       "          '<a target=\"_blank\" href=https://colab.research.google.com/notebooks/data_table.ipynb>data table notebook</a>'\n",
       "          + ' to learn more about interactive tables.';\n",
       "        element.innerHTML = '';\n",
       "        dataTable['output_type'] = 'display_data';\n",
       "        await google.colab.output.renderOutput(dataTable, element);\n",
       "        const docLink = document.createElement('div');\n",
       "        docLink.innerHTML = docLinkHtml;\n",
       "        element.appendChild(docLink);\n",
       "      }\n",
       "    </script>\n",
       "  </div>\n",
       "\n",
       "\n",
       "<div id=\"df-ecaa881c-3368-4011-863a-fb2f0c26ed9f\">\n",
       "  <button class=\"colab-df-quickchart\" onclick=\"quickchart('df-ecaa881c-3368-4011-863a-fb2f0c26ed9f')\"\n",
       "            title=\"Suggest charts.\"\n",
       "            style=\"display:none;\">\n",
       "\n",
       "<svg xmlns=\"http://www.w3.org/2000/svg\" height=\"24px\"viewBox=\"0 0 24 24\"\n",
       "     width=\"24px\">\n",
       "    <g>\n",
       "        <path d=\"M19 3H5c-1.1 0-2 .9-2 2v14c0 1.1.9 2 2 2h14c1.1 0 2-.9 2-2V5c0-1.1-.9-2-2-2zM9 17H7v-7h2v7zm4 0h-2V7h2v10zm4 0h-2v-4h2v4z\"/>\n",
       "    </g>\n",
       "</svg>\n",
       "  </button>\n",
       "\n",
       "<style>\n",
       "  .colab-df-quickchart {\n",
       "      --bg-color: #E8F0FE;\n",
       "      --fill-color: #1967D2;\n",
       "      --hover-bg-color: #E2EBFA;\n",
       "      --hover-fill-color: #174EA6;\n",
       "      --disabled-fill-color: #AAA;\n",
       "      --disabled-bg-color: #DDD;\n",
       "  }\n",
       "\n",
       "  [theme=dark] .colab-df-quickchart {\n",
       "      --bg-color: #3B4455;\n",
       "      --fill-color: #D2E3FC;\n",
       "      --hover-bg-color: #434B5C;\n",
       "      --hover-fill-color: #FFFFFF;\n",
       "      --disabled-bg-color: #3B4455;\n",
       "      --disabled-fill-color: #666;\n",
       "  }\n",
       "\n",
       "  .colab-df-quickchart {\n",
       "    background-color: var(--bg-color);\n",
       "    border: none;\n",
       "    border-radius: 50%;\n",
       "    cursor: pointer;\n",
       "    display: none;\n",
       "    fill: var(--fill-color);\n",
       "    height: 32px;\n",
       "    padding: 0;\n",
       "    width: 32px;\n",
       "  }\n",
       "\n",
       "  .colab-df-quickchart:hover {\n",
       "    background-color: var(--hover-bg-color);\n",
       "    box-shadow: 0 1px 2px rgba(60, 64, 67, 0.3), 0 1px 3px 1px rgba(60, 64, 67, 0.15);\n",
       "    fill: var(--button-hover-fill-color);\n",
       "  }\n",
       "\n",
       "  .colab-df-quickchart-complete:disabled,\n",
       "  .colab-df-quickchart-complete:disabled:hover {\n",
       "    background-color: var(--disabled-bg-color);\n",
       "    fill: var(--disabled-fill-color);\n",
       "    box-shadow: none;\n",
       "  }\n",
       "\n",
       "  .colab-df-spinner {\n",
       "    border: 2px solid var(--fill-color);\n",
       "    border-color: transparent;\n",
       "    border-bottom-color: var(--fill-color);\n",
       "    animation:\n",
       "      spin 1s steps(1) infinite;\n",
       "  }\n",
       "\n",
       "  @keyframes spin {\n",
       "    0% {\n",
       "      border-color: transparent;\n",
       "      border-bottom-color: var(--fill-color);\n",
       "      border-left-color: var(--fill-color);\n",
       "    }\n",
       "    20% {\n",
       "      border-color: transparent;\n",
       "      border-left-color: var(--fill-color);\n",
       "      border-top-color: var(--fill-color);\n",
       "    }\n",
       "    30% {\n",
       "      border-color: transparent;\n",
       "      border-left-color: var(--fill-color);\n",
       "      border-top-color: var(--fill-color);\n",
       "      border-right-color: var(--fill-color);\n",
       "    }\n",
       "    40% {\n",
       "      border-color: transparent;\n",
       "      border-right-color: var(--fill-color);\n",
       "      border-top-color: var(--fill-color);\n",
       "    }\n",
       "    60% {\n",
       "      border-color: transparent;\n",
       "      border-right-color: var(--fill-color);\n",
       "    }\n",
       "    80% {\n",
       "      border-color: transparent;\n",
       "      border-right-color: var(--fill-color);\n",
       "      border-bottom-color: var(--fill-color);\n",
       "    }\n",
       "    90% {\n",
       "      border-color: transparent;\n",
       "      border-bottom-color: var(--fill-color);\n",
       "    }\n",
       "  }\n",
       "</style>\n",
       "\n",
       "  <script>\n",
       "    async function quickchart(key) {\n",
       "      const quickchartButtonEl =\n",
       "        document.querySelector('#' + key + ' button');\n",
       "      quickchartButtonEl.disabled = true;  // To prevent multiple clicks.\n",
       "      quickchartButtonEl.classList.add('colab-df-spinner');\n",
       "      try {\n",
       "        const charts = await google.colab.kernel.invokeFunction(\n",
       "            'suggestCharts', [key], {});\n",
       "      } catch (error) {\n",
       "        console.error('Error during call to suggestCharts:', error);\n",
       "      }\n",
       "      quickchartButtonEl.classList.remove('colab-df-spinner');\n",
       "      quickchartButtonEl.classList.add('colab-df-quickchart-complete');\n",
       "    }\n",
       "    (() => {\n",
       "      let quickchartButtonEl =\n",
       "        document.querySelector('#df-ecaa881c-3368-4011-863a-fb2f0c26ed9f button');\n",
       "      quickchartButtonEl.style.display =\n",
       "        google.colab.kernel.accessAllowed ? 'block' : 'none';\n",
       "    })();\n",
       "  </script>\n",
       "</div>\n",
       "    </div>\n",
       "  </div>\n"
      ],
      "text/plain": [
       "   make  model  trim_x  body_x  transmission_x  state  color_x  interior_x  \\\n",
       "0  34.0   52.0    77.0    31.0             0.0    3.0      1.0         1.0   \n",
       "1   2.0   36.0    16.0    31.0             0.0    3.0     17.0         1.0   \n",
       "\n",
       "   condition  odometer  life_car   mean_go  sellingprice  dbscan  \n",
       "0  -1.087017 -0.424075 -0.470488 -0.111429         10100      -1  \n",
       "1   1.667179 -1.086018 -0.989277 -0.611191         25250      -1  "
      ]
     },
     "execution_count": 184,
     "metadata": {},
     "output_type": "execute_result"
    }
   ],
   "source": [
    "train_sample_oe['dbscan'] = labels\n",
    "train_sample_oe.head(2)"
   ]
  },
  {
   "cell_type": "code",
   "execution_count": 185,
   "id": "C4P4Sio_sfNP",
   "metadata": {
    "executionInfo": {
     "elapsed": 20,
     "status": "ok",
     "timestamp": 1694150613880,
     "user": {
      "displayName": "Андрей Медведев",
      "userId": "02560461935100345008"
     },
     "user_tz": -180
    },
    "id": "C4P4Sio_sfNP"
   },
   "outputs": [],
   "source": [
    "features_oe_dbscan = train_sample_oe.drop('sellingprice', axis=1)\n",
    "features_oe = train_sample_oe.drop(['sellingprice', 'dbscan'], axis=1)\n",
    "target_oe = train_sample_oe['sellingprice']"
   ]
  },
  {
   "cell_type": "code",
   "execution_count": 186,
   "id": "GrgJYL8Hte6e",
   "metadata": {
    "colab": {
     "base_uri": "https://localhost:8080/"
    },
    "executionInfo": {
     "elapsed": 20,
     "status": "ok",
     "timestamp": 1694150613881,
     "user": {
      "displayName": "Андрей Медведев",
      "userId": "02560461935100345008"
     },
     "user_tz": -180
    },
    "id": "GrgJYL8Hte6e",
    "outputId": "7fa5e440-9485-4c05-8511-48f071598bf3"
   },
   "outputs": [
    {
     "data": {
      "text/plain": [
       "((43205, 13), (43205, 12), (43205,))"
      ]
     },
     "execution_count": 186,
     "metadata": {},
     "output_type": "execute_result"
    }
   ],
   "source": [
    "features_oe_dbscan.shape, features_oe.shape, target_oe.shape"
   ]
  },
  {
   "cell_type": "code",
   "execution_count": 186,
   "id": "raqY9qCSuplc",
   "metadata": {
    "executionInfo": {
     "elapsed": 8,
     "status": "ok",
     "timestamp": 1694150613881,
     "user": {
      "displayName": "Андрей Медведев",
      "userId": "02560461935100345008"
     },
     "user_tz": -180
    },
    "id": "raqY9qCSuplc"
   },
   "outputs": [],
   "source": []
  },
  {
   "cell_type": "code",
   "execution_count": 187,
   "id": "2qsdJOXDte_o",
   "metadata": {
    "executionInfo": {
     "elapsed": 9,
     "status": "ok",
     "timestamp": 1694150613882,
     "user": {
      "displayName": "Андрей Медведев",
      "userId": "02560461935100345008"
     },
     "user_tz": -180
    },
    "id": "2qsdJOXDte_o"
   },
   "outputs": [],
   "source": [
    "rf_regr = RandomForestRegressor(random_state=STATE)\n",
    "clf = GridSearchCV(rf_regr, params, scoring='neg_mean_absolute_percentage_error', cv=3, n_jobs=-1)"
   ]
  },
  {
   "cell_type": "code",
   "execution_count": 188,
   "id": "85k2xrIjtfD2",
   "metadata": {
    "colab": {
     "base_uri": "https://localhost:8080/",
     "height": 152
    },
    "executionInfo": {
     "elapsed": 28715,
     "status": "ok",
     "timestamp": 1694150642589,
     "user": {
      "displayName": "Андрей Медведев",
      "userId": "02560461935100345008"
     },
     "user_tz": -180
    },
    "id": "85k2xrIjtfD2",
    "outputId": "4cabb627-db4b-49b4-cffc-75f2b1f161b0"
   },
   "outputs": [
    {
     "name": "stdout",
     "output_type": "stream",
     "text": [
      "CPU times: user 11.3 s, sys: 58 ms, total: 11.4 s\n",
      "Wall time: 28.7 s\n"
     ]
    },
    {
     "data": {
      "text/html": [
       "<style>#sk-container-id-5 {color: black;background-color: white;}#sk-container-id-5 pre{padding: 0;}#sk-container-id-5 div.sk-toggleable {background-color: white;}#sk-container-id-5 label.sk-toggleable__label {cursor: pointer;display: block;width: 100%;margin-bottom: 0;padding: 0.3em;box-sizing: border-box;text-align: center;}#sk-container-id-5 label.sk-toggleable__label-arrow:before {content: \"▸\";float: left;margin-right: 0.25em;color: #696969;}#sk-container-id-5 label.sk-toggleable__label-arrow:hover:before {color: black;}#sk-container-id-5 div.sk-estimator:hover label.sk-toggleable__label-arrow:before {color: black;}#sk-container-id-5 div.sk-toggleable__content {max-height: 0;max-width: 0;overflow: hidden;text-align: left;background-color: #f0f8ff;}#sk-container-id-5 div.sk-toggleable__content pre {margin: 0.2em;color: black;border-radius: 0.25em;background-color: #f0f8ff;}#sk-container-id-5 input.sk-toggleable__control:checked~div.sk-toggleable__content {max-height: 200px;max-width: 100%;overflow: auto;}#sk-container-id-5 input.sk-toggleable__control:checked~label.sk-toggleable__label-arrow:before {content: \"▾\";}#sk-container-id-5 div.sk-estimator input.sk-toggleable__control:checked~label.sk-toggleable__label {background-color: #d4ebff;}#sk-container-id-5 div.sk-label input.sk-toggleable__control:checked~label.sk-toggleable__label {background-color: #d4ebff;}#sk-container-id-5 input.sk-hidden--visually {border: 0;clip: rect(1px 1px 1px 1px);clip: rect(1px, 1px, 1px, 1px);height: 1px;margin: -1px;overflow: hidden;padding: 0;position: absolute;width: 1px;}#sk-container-id-5 div.sk-estimator {font-family: monospace;background-color: #f0f8ff;border: 1px dotted black;border-radius: 0.25em;box-sizing: border-box;margin-bottom: 0.5em;}#sk-container-id-5 div.sk-estimator:hover {background-color: #d4ebff;}#sk-container-id-5 div.sk-parallel-item::after {content: \"\";width: 100%;border-bottom: 1px solid gray;flex-grow: 1;}#sk-container-id-5 div.sk-label:hover label.sk-toggleable__label {background-color: #d4ebff;}#sk-container-id-5 div.sk-serial::before {content: \"\";position: absolute;border-left: 1px solid gray;box-sizing: border-box;top: 0;bottom: 0;left: 50%;z-index: 0;}#sk-container-id-5 div.sk-serial {display: flex;flex-direction: column;align-items: center;background-color: white;padding-right: 0.2em;padding-left: 0.2em;position: relative;}#sk-container-id-5 div.sk-item {position: relative;z-index: 1;}#sk-container-id-5 div.sk-parallel {display: flex;align-items: stretch;justify-content: center;background-color: white;position: relative;}#sk-container-id-5 div.sk-item::before, #sk-container-id-5 div.sk-parallel-item::before {content: \"\";position: absolute;border-left: 1px solid gray;box-sizing: border-box;top: 0;bottom: 0;left: 50%;z-index: -1;}#sk-container-id-5 div.sk-parallel-item {display: flex;flex-direction: column;z-index: 1;position: relative;background-color: white;}#sk-container-id-5 div.sk-parallel-item:first-child::after {align-self: flex-end;width: 50%;}#sk-container-id-5 div.sk-parallel-item:last-child::after {align-self: flex-start;width: 50%;}#sk-container-id-5 div.sk-parallel-item:only-child::after {width: 0;}#sk-container-id-5 div.sk-dashed-wrapped {border: 1px dashed gray;margin: 0 0.4em 0.5em 0.4em;box-sizing: border-box;padding-bottom: 0.4em;background-color: white;}#sk-container-id-5 div.sk-label label {font-family: monospace;font-weight: bold;display: inline-block;line-height: 1.2em;}#sk-container-id-5 div.sk-label-container {text-align: center;}#sk-container-id-5 div.sk-container {/* jupyter's `normalize.less` sets `[hidden] { display: none; }` but bootstrap.min.css set `[hidden] { display: none !important; }` so we also need the `!important` here to be able to override the default hidden behavior on the sphinx rendered scikit-learn.org. See: https://github.com/scikit-learn/scikit-learn/issues/21755 */display: inline-block !important;position: relative;}#sk-container-id-5 div.sk-text-repr-fallback {display: none;}</style><div id=\"sk-container-id-5\" class=\"sk-top-container\"><div class=\"sk-text-repr-fallback\"><pre>GridSearchCV(cv=3, estimator=RandomForestRegressor(random_state=33443),\n",
       "             n_jobs=-1,\n",
       "             param_grid={&#x27;max_depth&#x27;: [128], &#x27;min_samples_leaf&#x27;: [4],\n",
       "                         &#x27;min_samples_split&#x27;: [2], &#x27;n_estimators&#x27;: [40]},\n",
       "             scoring=&#x27;neg_mean_absolute_percentage_error&#x27;)</pre><b>In a Jupyter environment, please rerun this cell to show the HTML representation or trust the notebook. <br />On GitHub, the HTML representation is unable to render, please try loading this page with nbviewer.org.</b></div><div class=\"sk-container\" hidden><div class=\"sk-item sk-dashed-wrapped\"><div class=\"sk-label-container\"><div class=\"sk-label sk-toggleable\"><input class=\"sk-toggleable__control sk-hidden--visually\" id=\"sk-estimator-id-11\" type=\"checkbox\" ><label for=\"sk-estimator-id-11\" class=\"sk-toggleable__label sk-toggleable__label-arrow\">GridSearchCV</label><div class=\"sk-toggleable__content\"><pre>GridSearchCV(cv=3, estimator=RandomForestRegressor(random_state=33443),\n",
       "             n_jobs=-1,\n",
       "             param_grid={&#x27;max_depth&#x27;: [128], &#x27;min_samples_leaf&#x27;: [4],\n",
       "                         &#x27;min_samples_split&#x27;: [2], &#x27;n_estimators&#x27;: [40]},\n",
       "             scoring=&#x27;neg_mean_absolute_percentage_error&#x27;)</pre></div></div></div><div class=\"sk-parallel\"><div class=\"sk-parallel-item\"><div class=\"sk-item\"><div class=\"sk-label-container\"><div class=\"sk-label sk-toggleable\"><input class=\"sk-toggleable__control sk-hidden--visually\" id=\"sk-estimator-id-12\" type=\"checkbox\" ><label for=\"sk-estimator-id-12\" class=\"sk-toggleable__label sk-toggleable__label-arrow\">estimator: RandomForestRegressor</label><div class=\"sk-toggleable__content\"><pre>RandomForestRegressor(random_state=33443)</pre></div></div></div><div class=\"sk-serial\"><div class=\"sk-item\"><div class=\"sk-estimator sk-toggleable\"><input class=\"sk-toggleable__control sk-hidden--visually\" id=\"sk-estimator-id-13\" type=\"checkbox\" ><label for=\"sk-estimator-id-13\" class=\"sk-toggleable__label sk-toggleable__label-arrow\">RandomForestRegressor</label><div class=\"sk-toggleable__content\"><pre>RandomForestRegressor(random_state=33443)</pre></div></div></div></div></div></div></div></div></div></div>"
      ],
      "text/plain": [
       "GridSearchCV(cv=3, estimator=RandomForestRegressor(random_state=33443),\n",
       "             n_jobs=-1,\n",
       "             param_grid={'max_depth': [128], 'min_samples_leaf': [4],\n",
       "                         'min_samples_split': [2], 'n_estimators': [40]},\n",
       "             scoring='neg_mean_absolute_percentage_error')"
      ]
     },
     "execution_count": 188,
     "metadata": {},
     "output_type": "execute_result"
    }
   ],
   "source": [
    "%%time\n",
    "clf.fit(features_oe_dbscan, target_oe)"
   ]
  },
  {
   "cell_type": "code",
   "execution_count": 189,
   "id": "IgWRKnvitfIU",
   "metadata": {
    "colab": {
     "base_uri": "https://localhost:8080/"
    },
    "executionInfo": {
     "elapsed": 25,
     "status": "ok",
     "timestamp": 1694150642590,
     "user": {
      "displayName": "Андрей Медведев",
      "userId": "02560461935100345008"
     },
     "user_tz": -180
    },
    "id": "IgWRKnvitfIU",
    "outputId": "43e3da74-e266-480c-ce30-ed729f0e5809"
   },
   "outputs": [
    {
     "data": {
      "text/plain": [
       "0.2731"
      ]
     },
     "execution_count": 189,
     "metadata": {},
     "output_type": "execute_result"
    }
   ],
   "source": [
    "round(-clf.best_score_, 4)"
   ]
  },
  {
   "cell_type": "code",
   "execution_count": 190,
   "id": "taBNzhEZsfP4",
   "metadata": {
    "executionInfo": {
     "elapsed": 13,
     "status": "ok",
     "timestamp": 1694150642591,
     "user": {
      "displayName": "Андрей Медведев",
      "userId": "02560461935100345008"
     },
     "user_tz": -180
    },
    "id": "taBNzhEZsfP4"
   },
   "outputs": [],
   "source": [
    "rf_regr = RandomForestRegressor(random_state=STATE)\n",
    "clf = GridSearchCV(rf_regr, params, scoring='neg_mean_absolute_percentage_error', cv=3, n_jobs=-1)"
   ]
  },
  {
   "cell_type": "code",
   "execution_count": 191,
   "id": "ZAjVGbdL2OjH",
   "metadata": {
    "colab": {
     "base_uri": "https://localhost:8080/",
     "height": 152
    },
    "executionInfo": {
     "elapsed": 27157,
     "status": "ok",
     "timestamp": 1694150669737,
     "user": {
      "displayName": "Андрей Медведев",
      "userId": "02560461935100345008"
     },
     "user_tz": -180
    },
    "id": "ZAjVGbdL2OjH",
    "outputId": "1f0ac631-38e1-4339-9595-5b2a14169c85"
   },
   "outputs": [
    {
     "name": "stdout",
     "output_type": "stream",
     "text": [
      "CPU times: user 10.3 s, sys: 68.7 ms, total: 10.3 s\n",
      "Wall time: 27.1 s\n"
     ]
    },
    {
     "data": {
      "text/html": [
       "<style>#sk-container-id-6 {color: black;background-color: white;}#sk-container-id-6 pre{padding: 0;}#sk-container-id-6 div.sk-toggleable {background-color: white;}#sk-container-id-6 label.sk-toggleable__label {cursor: pointer;display: block;width: 100%;margin-bottom: 0;padding: 0.3em;box-sizing: border-box;text-align: center;}#sk-container-id-6 label.sk-toggleable__label-arrow:before {content: \"▸\";float: left;margin-right: 0.25em;color: #696969;}#sk-container-id-6 label.sk-toggleable__label-arrow:hover:before {color: black;}#sk-container-id-6 div.sk-estimator:hover label.sk-toggleable__label-arrow:before {color: black;}#sk-container-id-6 div.sk-toggleable__content {max-height: 0;max-width: 0;overflow: hidden;text-align: left;background-color: #f0f8ff;}#sk-container-id-6 div.sk-toggleable__content pre {margin: 0.2em;color: black;border-radius: 0.25em;background-color: #f0f8ff;}#sk-container-id-6 input.sk-toggleable__control:checked~div.sk-toggleable__content {max-height: 200px;max-width: 100%;overflow: auto;}#sk-container-id-6 input.sk-toggleable__control:checked~label.sk-toggleable__label-arrow:before {content: \"▾\";}#sk-container-id-6 div.sk-estimator input.sk-toggleable__control:checked~label.sk-toggleable__label {background-color: #d4ebff;}#sk-container-id-6 div.sk-label input.sk-toggleable__control:checked~label.sk-toggleable__label {background-color: #d4ebff;}#sk-container-id-6 input.sk-hidden--visually {border: 0;clip: rect(1px 1px 1px 1px);clip: rect(1px, 1px, 1px, 1px);height: 1px;margin: -1px;overflow: hidden;padding: 0;position: absolute;width: 1px;}#sk-container-id-6 div.sk-estimator {font-family: monospace;background-color: #f0f8ff;border: 1px dotted black;border-radius: 0.25em;box-sizing: border-box;margin-bottom: 0.5em;}#sk-container-id-6 div.sk-estimator:hover {background-color: #d4ebff;}#sk-container-id-6 div.sk-parallel-item::after {content: \"\";width: 100%;border-bottom: 1px solid gray;flex-grow: 1;}#sk-container-id-6 div.sk-label:hover label.sk-toggleable__label {background-color: #d4ebff;}#sk-container-id-6 div.sk-serial::before {content: \"\";position: absolute;border-left: 1px solid gray;box-sizing: border-box;top: 0;bottom: 0;left: 50%;z-index: 0;}#sk-container-id-6 div.sk-serial {display: flex;flex-direction: column;align-items: center;background-color: white;padding-right: 0.2em;padding-left: 0.2em;position: relative;}#sk-container-id-6 div.sk-item {position: relative;z-index: 1;}#sk-container-id-6 div.sk-parallel {display: flex;align-items: stretch;justify-content: center;background-color: white;position: relative;}#sk-container-id-6 div.sk-item::before, #sk-container-id-6 div.sk-parallel-item::before {content: \"\";position: absolute;border-left: 1px solid gray;box-sizing: border-box;top: 0;bottom: 0;left: 50%;z-index: -1;}#sk-container-id-6 div.sk-parallel-item {display: flex;flex-direction: column;z-index: 1;position: relative;background-color: white;}#sk-container-id-6 div.sk-parallel-item:first-child::after {align-self: flex-end;width: 50%;}#sk-container-id-6 div.sk-parallel-item:last-child::after {align-self: flex-start;width: 50%;}#sk-container-id-6 div.sk-parallel-item:only-child::after {width: 0;}#sk-container-id-6 div.sk-dashed-wrapped {border: 1px dashed gray;margin: 0 0.4em 0.5em 0.4em;box-sizing: border-box;padding-bottom: 0.4em;background-color: white;}#sk-container-id-6 div.sk-label label {font-family: monospace;font-weight: bold;display: inline-block;line-height: 1.2em;}#sk-container-id-6 div.sk-label-container {text-align: center;}#sk-container-id-6 div.sk-container {/* jupyter's `normalize.less` sets `[hidden] { display: none; }` but bootstrap.min.css set `[hidden] { display: none !important; }` so we also need the `!important` here to be able to override the default hidden behavior on the sphinx rendered scikit-learn.org. See: https://github.com/scikit-learn/scikit-learn/issues/21755 */display: inline-block !important;position: relative;}#sk-container-id-6 div.sk-text-repr-fallback {display: none;}</style><div id=\"sk-container-id-6\" class=\"sk-top-container\"><div class=\"sk-text-repr-fallback\"><pre>GridSearchCV(cv=3, estimator=RandomForestRegressor(random_state=33443),\n",
       "             n_jobs=-1,\n",
       "             param_grid={&#x27;max_depth&#x27;: [128], &#x27;min_samples_leaf&#x27;: [4],\n",
       "                         &#x27;min_samples_split&#x27;: [2], &#x27;n_estimators&#x27;: [40]},\n",
       "             scoring=&#x27;neg_mean_absolute_percentage_error&#x27;)</pre><b>In a Jupyter environment, please rerun this cell to show the HTML representation or trust the notebook. <br />On GitHub, the HTML representation is unable to render, please try loading this page with nbviewer.org.</b></div><div class=\"sk-container\" hidden><div class=\"sk-item sk-dashed-wrapped\"><div class=\"sk-label-container\"><div class=\"sk-label sk-toggleable\"><input class=\"sk-toggleable__control sk-hidden--visually\" id=\"sk-estimator-id-14\" type=\"checkbox\" ><label for=\"sk-estimator-id-14\" class=\"sk-toggleable__label sk-toggleable__label-arrow\">GridSearchCV</label><div class=\"sk-toggleable__content\"><pre>GridSearchCV(cv=3, estimator=RandomForestRegressor(random_state=33443),\n",
       "             n_jobs=-1,\n",
       "             param_grid={&#x27;max_depth&#x27;: [128], &#x27;min_samples_leaf&#x27;: [4],\n",
       "                         &#x27;min_samples_split&#x27;: [2], &#x27;n_estimators&#x27;: [40]},\n",
       "             scoring=&#x27;neg_mean_absolute_percentage_error&#x27;)</pre></div></div></div><div class=\"sk-parallel\"><div class=\"sk-parallel-item\"><div class=\"sk-item\"><div class=\"sk-label-container\"><div class=\"sk-label sk-toggleable\"><input class=\"sk-toggleable__control sk-hidden--visually\" id=\"sk-estimator-id-15\" type=\"checkbox\" ><label for=\"sk-estimator-id-15\" class=\"sk-toggleable__label sk-toggleable__label-arrow\">estimator: RandomForestRegressor</label><div class=\"sk-toggleable__content\"><pre>RandomForestRegressor(random_state=33443)</pre></div></div></div><div class=\"sk-serial\"><div class=\"sk-item\"><div class=\"sk-estimator sk-toggleable\"><input class=\"sk-toggleable__control sk-hidden--visually\" id=\"sk-estimator-id-16\" type=\"checkbox\" ><label for=\"sk-estimator-id-16\" class=\"sk-toggleable__label sk-toggleable__label-arrow\">RandomForestRegressor</label><div class=\"sk-toggleable__content\"><pre>RandomForestRegressor(random_state=33443)</pre></div></div></div></div></div></div></div></div></div></div>"
      ],
      "text/plain": [
       "GridSearchCV(cv=3, estimator=RandomForestRegressor(random_state=33443),\n",
       "             n_jobs=-1,\n",
       "             param_grid={'max_depth': [128], 'min_samples_leaf': [4],\n",
       "                         'min_samples_split': [2], 'n_estimators': [40]},\n",
       "             scoring='neg_mean_absolute_percentage_error')"
      ]
     },
     "execution_count": 191,
     "metadata": {},
     "output_type": "execute_result"
    }
   ],
   "source": [
    "%%time\n",
    "clf.fit(features_oe, target_oe)"
   ]
  },
  {
   "cell_type": "code",
   "execution_count": 192,
   "id": "r4-7rBhRu_FQ",
   "metadata": {
    "colab": {
     "base_uri": "https://localhost:8080/"
    },
    "executionInfo": {
     "elapsed": 30,
     "status": "ok",
     "timestamp": 1694150669738,
     "user": {
      "displayName": "Андрей Медведев",
      "userId": "02560461935100345008"
     },
     "user_tz": -180
    },
    "id": "r4-7rBhRu_FQ",
    "outputId": "13b2d082-f221-4dfa-9062-d6f9650b76d9"
   },
   "outputs": [
    {
     "data": {
      "text/plain": [
       "0.2731"
      ]
     },
     "execution_count": 192,
     "metadata": {},
     "output_type": "execute_result"
    }
   ],
   "source": [
    "round(-clf.best_score_, 4)"
   ]
  },
  {
   "cell_type": "markdown",
   "id": "2p-XZMwZxt7V",
   "metadata": {
    "id": "2p-XZMwZxt7V"
   },
   "source": [
    "В обоих случаях кластеризация не дала выигрыша по метрике!\n",
    "\n",
    "Поэтому принимаю решение не делать её для основного датасета.\n",
    "-- --\n",
    "In both cases, clustering did not yield any gains in terms of the metric!\n",
    "\n",
    "Therefore, I decide not to do it for the main dataset."
   ]
  },
  {
   "cell_type": "code",
   "execution_count": 192,
   "id": "9XSisVyxu_Ng",
   "metadata": {
    "executionInfo": {
     "elapsed": 15,
     "status": "ok",
     "timestamp": 1694150669738,
     "user": {
      "displayName": "Андрей Медведев",
      "userId": "02560461935100345008"
     },
     "user_tz": -180
    },
    "id": "9XSisVyxu_Ng"
   },
   "outputs": [],
   "source": []
  },
  {
   "cell_type": "markdown",
   "id": "zTI0UQPcSYjd",
   "metadata": {
    "id": "zTI0UQPcSYjd"
   },
   "source": [
    "## 5. подготовка датасета test_fill для предсказания\n",
    "## 5. preparing the test_fill dataset for prediction"
   ]
  },
  {
   "cell_type": "code",
   "execution_count": 193,
   "id": "IAhyI3qHSXCk",
   "metadata": {
    "colab": {
     "base_uri": "https://localhost:8080/",
     "height": 112
    },
    "executionInfo": {
     "elapsed": 14,
     "status": "ok",
     "timestamp": 1694150669738,
     "user": {
      "displayName": "Андрей Медведев",
      "userId": "02560461935100345008"
     },
     "user_tz": -180
    },
    "id": "IAhyI3qHSXCk",
    "outputId": "ecb52ce0-226b-45af-94dd-89d7d2d7c967"
   },
   "outputs": [
    {
     "data": {
      "text/html": [
       "\n",
       "  <div id=\"df-892af5a4-1253-4a8f-bffa-ed84a059c9d4\" class=\"colab-df-container\">\n",
       "    <div>\n",
       "<style scoped>\n",
       "    .dataframe tbody tr th:only-of-type {\n",
       "        vertical-align: middle;\n",
       "    }\n",
       "\n",
       "    .dataframe tbody tr th {\n",
       "        vertical-align: top;\n",
       "    }\n",
       "\n",
       "    .dataframe thead th {\n",
       "        text-align: right;\n",
       "    }\n",
       "</style>\n",
       "<table border=\"1\" class=\"dataframe\">\n",
       "  <thead>\n",
       "    <tr style=\"text-align: right;\">\n",
       "      <th></th>\n",
       "      <th>year</th>\n",
       "      <th>make</th>\n",
       "      <th>model</th>\n",
       "      <th>trim_x</th>\n",
       "      <th>body_x</th>\n",
       "      <th>transmission_x</th>\n",
       "      <th>vin</th>\n",
       "      <th>state</th>\n",
       "      <th>condition</th>\n",
       "      <th>odometer</th>\n",
       "      <th>color_x</th>\n",
       "      <th>interior_x</th>\n",
       "      <th>seller</th>\n",
       "      <th>saledate</th>\n",
       "      <th>life_car</th>\n",
       "      <th>mean_go</th>\n",
       "    </tr>\n",
       "  </thead>\n",
       "  <tbody>\n",
       "    <tr>\n",
       "      <th>0</th>\n",
       "      <td>2005</td>\n",
       "      <td>cadillac</td>\n",
       "      <td>cts</td>\n",
       "      <td>base</td>\n",
       "      <td>sedan</td>\n",
       "      <td>automatic</td>\n",
       "      <td>1g6dp567450124779</td>\n",
       "      <td>ca</td>\n",
       "      <td>2.7</td>\n",
       "      <td>116970.0</td>\n",
       "      <td>silver</td>\n",
       "      <td>black</td>\n",
       "      <td>lexus of stevens creek</td>\n",
       "      <td>2015</td>\n",
       "      <td>10</td>\n",
       "      <td>11697.0</td>\n",
       "    </tr>\n",
       "    <tr>\n",
       "      <th>1</th>\n",
       "      <td>2014</td>\n",
       "      <td>gmc</td>\n",
       "      <td>savana cargo</td>\n",
       "      <td>2500</td>\n",
       "      <td>van</td>\n",
       "      <td>automatic</td>\n",
       "      <td>1gtw7fca7e1902207</td>\n",
       "      <td>pa</td>\n",
       "      <td>4.4</td>\n",
       "      <td>6286.0</td>\n",
       "      <td>white</td>\n",
       "      <td>gray</td>\n",
       "      <td>u-haul</td>\n",
       "      <td>2015</td>\n",
       "      <td>1</td>\n",
       "      <td>6286.0</td>\n",
       "    </tr>\n",
       "  </tbody>\n",
       "</table>\n",
       "</div>\n",
       "    <div class=\"colab-df-buttons\">\n",
       "\n",
       "  <div class=\"colab-df-container\">\n",
       "    <button class=\"colab-df-convert\" onclick=\"convertToInteractive('df-892af5a4-1253-4a8f-bffa-ed84a059c9d4')\"\n",
       "            title=\"Convert this dataframe to an interactive table.\"\n",
       "            style=\"display:none;\">\n",
       "\n",
       "  <svg xmlns=\"http://www.w3.org/2000/svg\" height=\"24px\" viewBox=\"0 -960 960 960\">\n",
       "    <path d=\"M120-120v-720h720v720H120Zm60-500h600v-160H180v160Zm220 220h160v-160H400v160Zm0 220h160v-160H400v160ZM180-400h160v-160H180v160Zm440 0h160v-160H620v160ZM180-180h160v-160H180v160Zm440 0h160v-160H620v160Z\"/>\n",
       "  </svg>\n",
       "    </button>\n",
       "\n",
       "  <style>\n",
       "    .colab-df-container {\n",
       "      display:flex;\n",
       "      gap: 12px;\n",
       "    }\n",
       "\n",
       "    .colab-df-convert {\n",
       "      background-color: #E8F0FE;\n",
       "      border: none;\n",
       "      border-radius: 50%;\n",
       "      cursor: pointer;\n",
       "      display: none;\n",
       "      fill: #1967D2;\n",
       "      height: 32px;\n",
       "      padding: 0 0 0 0;\n",
       "      width: 32px;\n",
       "    }\n",
       "\n",
       "    .colab-df-convert:hover {\n",
       "      background-color: #E2EBFA;\n",
       "      box-shadow: 0px 1px 2px rgba(60, 64, 67, 0.3), 0px 1px 3px 1px rgba(60, 64, 67, 0.15);\n",
       "      fill: #174EA6;\n",
       "    }\n",
       "\n",
       "    .colab-df-buttons div {\n",
       "      margin-bottom: 4px;\n",
       "    }\n",
       "\n",
       "    [theme=dark] .colab-df-convert {\n",
       "      background-color: #3B4455;\n",
       "      fill: #D2E3FC;\n",
       "    }\n",
       "\n",
       "    [theme=dark] .colab-df-convert:hover {\n",
       "      background-color: #434B5C;\n",
       "      box-shadow: 0px 1px 3px 1px rgba(0, 0, 0, 0.15);\n",
       "      filter: drop-shadow(0px 1px 2px rgba(0, 0, 0, 0.3));\n",
       "      fill: #FFFFFF;\n",
       "    }\n",
       "  </style>\n",
       "\n",
       "    <script>\n",
       "      const buttonEl =\n",
       "        document.querySelector('#df-892af5a4-1253-4a8f-bffa-ed84a059c9d4 button.colab-df-convert');\n",
       "      buttonEl.style.display =\n",
       "        google.colab.kernel.accessAllowed ? 'block' : 'none';\n",
       "\n",
       "      async function convertToInteractive(key) {\n",
       "        const element = document.querySelector('#df-892af5a4-1253-4a8f-bffa-ed84a059c9d4');\n",
       "        const dataTable =\n",
       "          await google.colab.kernel.invokeFunction('convertToInteractive',\n",
       "                                                    [key], {});\n",
       "        if (!dataTable) return;\n",
       "\n",
       "        const docLinkHtml = 'Like what you see? Visit the ' +\n",
       "          '<a target=\"_blank\" href=https://colab.research.google.com/notebooks/data_table.ipynb>data table notebook</a>'\n",
       "          + ' to learn more about interactive tables.';\n",
       "        element.innerHTML = '';\n",
       "        dataTable['output_type'] = 'display_data';\n",
       "        await google.colab.output.renderOutput(dataTable, element);\n",
       "        const docLink = document.createElement('div');\n",
       "        docLink.innerHTML = docLinkHtml;\n",
       "        element.appendChild(docLink);\n",
       "      }\n",
       "    </script>\n",
       "  </div>\n",
       "\n",
       "\n",
       "<div id=\"df-0a0561be-f9b8-42b9-9413-c80ee1aefca7\">\n",
       "  <button class=\"colab-df-quickchart\" onclick=\"quickchart('df-0a0561be-f9b8-42b9-9413-c80ee1aefca7')\"\n",
       "            title=\"Suggest charts.\"\n",
       "            style=\"display:none;\">\n",
       "\n",
       "<svg xmlns=\"http://www.w3.org/2000/svg\" height=\"24px\"viewBox=\"0 0 24 24\"\n",
       "     width=\"24px\">\n",
       "    <g>\n",
       "        <path d=\"M19 3H5c-1.1 0-2 .9-2 2v14c0 1.1.9 2 2 2h14c1.1 0 2-.9 2-2V5c0-1.1-.9-2-2-2zM9 17H7v-7h2v7zm4 0h-2V7h2v10zm4 0h-2v-4h2v4z\"/>\n",
       "    </g>\n",
       "</svg>\n",
       "  </button>\n",
       "\n",
       "<style>\n",
       "  .colab-df-quickchart {\n",
       "      --bg-color: #E8F0FE;\n",
       "      --fill-color: #1967D2;\n",
       "      --hover-bg-color: #E2EBFA;\n",
       "      --hover-fill-color: #174EA6;\n",
       "      --disabled-fill-color: #AAA;\n",
       "      --disabled-bg-color: #DDD;\n",
       "  }\n",
       "\n",
       "  [theme=dark] .colab-df-quickchart {\n",
       "      --bg-color: #3B4455;\n",
       "      --fill-color: #D2E3FC;\n",
       "      --hover-bg-color: #434B5C;\n",
       "      --hover-fill-color: #FFFFFF;\n",
       "      --disabled-bg-color: #3B4455;\n",
       "      --disabled-fill-color: #666;\n",
       "  }\n",
       "\n",
       "  .colab-df-quickchart {\n",
       "    background-color: var(--bg-color);\n",
       "    border: none;\n",
       "    border-radius: 50%;\n",
       "    cursor: pointer;\n",
       "    display: none;\n",
       "    fill: var(--fill-color);\n",
       "    height: 32px;\n",
       "    padding: 0;\n",
       "    width: 32px;\n",
       "  }\n",
       "\n",
       "  .colab-df-quickchart:hover {\n",
       "    background-color: var(--hover-bg-color);\n",
       "    box-shadow: 0 1px 2px rgba(60, 64, 67, 0.3), 0 1px 3px 1px rgba(60, 64, 67, 0.15);\n",
       "    fill: var(--button-hover-fill-color);\n",
       "  }\n",
       "\n",
       "  .colab-df-quickchart-complete:disabled,\n",
       "  .colab-df-quickchart-complete:disabled:hover {\n",
       "    background-color: var(--disabled-bg-color);\n",
       "    fill: var(--disabled-fill-color);\n",
       "    box-shadow: none;\n",
       "  }\n",
       "\n",
       "  .colab-df-spinner {\n",
       "    border: 2px solid var(--fill-color);\n",
       "    border-color: transparent;\n",
       "    border-bottom-color: var(--fill-color);\n",
       "    animation:\n",
       "      spin 1s steps(1) infinite;\n",
       "  }\n",
       "\n",
       "  @keyframes spin {\n",
       "    0% {\n",
       "      border-color: transparent;\n",
       "      border-bottom-color: var(--fill-color);\n",
       "      border-left-color: var(--fill-color);\n",
       "    }\n",
       "    20% {\n",
       "      border-color: transparent;\n",
       "      border-left-color: var(--fill-color);\n",
       "      border-top-color: var(--fill-color);\n",
       "    }\n",
       "    30% {\n",
       "      border-color: transparent;\n",
       "      border-left-color: var(--fill-color);\n",
       "      border-top-color: var(--fill-color);\n",
       "      border-right-color: var(--fill-color);\n",
       "    }\n",
       "    40% {\n",
       "      border-color: transparent;\n",
       "      border-right-color: var(--fill-color);\n",
       "      border-top-color: var(--fill-color);\n",
       "    }\n",
       "    60% {\n",
       "      border-color: transparent;\n",
       "      border-right-color: var(--fill-color);\n",
       "    }\n",
       "    80% {\n",
       "      border-color: transparent;\n",
       "      border-right-color: var(--fill-color);\n",
       "      border-bottom-color: var(--fill-color);\n",
       "    }\n",
       "    90% {\n",
       "      border-color: transparent;\n",
       "      border-bottom-color: var(--fill-color);\n",
       "    }\n",
       "  }\n",
       "</style>\n",
       "\n",
       "  <script>\n",
       "    async function quickchart(key) {\n",
       "      const quickchartButtonEl =\n",
       "        document.querySelector('#' + key + ' button');\n",
       "      quickchartButtonEl.disabled = true;  // To prevent multiple clicks.\n",
       "      quickchartButtonEl.classList.add('colab-df-spinner');\n",
       "      try {\n",
       "        const charts = await google.colab.kernel.invokeFunction(\n",
       "            'suggestCharts', [key], {});\n",
       "      } catch (error) {\n",
       "        console.error('Error during call to suggestCharts:', error);\n",
       "      }\n",
       "      quickchartButtonEl.classList.remove('colab-df-spinner');\n",
       "      quickchartButtonEl.classList.add('colab-df-quickchart-complete');\n",
       "    }\n",
       "    (() => {\n",
       "      let quickchartButtonEl =\n",
       "        document.querySelector('#df-0a0561be-f9b8-42b9-9413-c80ee1aefca7 button');\n",
       "      quickchartButtonEl.style.display =\n",
       "        google.colab.kernel.accessAllowed ? 'block' : 'none';\n",
       "    })();\n",
       "  </script>\n",
       "</div>\n",
       "    </div>\n",
       "  </div>\n"
      ],
      "text/plain": [
       "   year      make         model trim_x body_x transmission_x  \\\n",
       "0  2005  cadillac           cts   base  sedan      automatic   \n",
       "1  2014       gmc  savana cargo   2500    van      automatic   \n",
       "\n",
       "                 vin state  condition  odometer color_x interior_x  \\\n",
       "0  1g6dp567450124779    ca        2.7  116970.0  silver      black   \n",
       "1  1gtw7fca7e1902207    pa        4.4    6286.0   white       gray   \n",
       "\n",
       "                   seller  saledate  life_car  mean_go  \n",
       "0  lexus of stevens creek      2015        10  11697.0  \n",
       "1                  u-haul      2015         1   6286.0  "
      ]
     },
     "execution_count": 193,
     "metadata": {},
     "output_type": "execute_result"
    }
   ],
   "source": [
    "test_fill.head(2)"
   ]
  },
  {
   "cell_type": "code",
   "execution_count": 194,
   "id": "ZZBWEXmMSXHO",
   "metadata": {
    "colab": {
     "base_uri": "https://localhost:8080/",
     "height": 112
    },
    "executionInfo": {
     "elapsed": 12,
     "status": "ok",
     "timestamp": 1694150669738,
     "user": {
      "displayName": "Андрей Медведев",
      "userId": "02560461935100345008"
     },
     "user_tz": -180
    },
    "id": "ZZBWEXmMSXHO",
    "outputId": "2f86b9a1-4315-4815-bbfd-9e2f4ff6eb28"
   },
   "outputs": [
    {
     "data": {
      "text/html": [
       "\n",
       "  <div id=\"df-66f6640b-7398-4f50-a780-fd3393f0c77e\" class=\"colab-df-container\">\n",
       "    <div>\n",
       "<style scoped>\n",
       "    .dataframe tbody tr th:only-of-type {\n",
       "        vertical-align: middle;\n",
       "    }\n",
       "\n",
       "    .dataframe tbody tr th {\n",
       "        vertical-align: top;\n",
       "    }\n",
       "\n",
       "    .dataframe thead th {\n",
       "        text-align: right;\n",
       "    }\n",
       "</style>\n",
       "<table border=\"1\" class=\"dataframe\">\n",
       "  <thead>\n",
       "    <tr style=\"text-align: right;\">\n",
       "      <th></th>\n",
       "      <th>make</th>\n",
       "      <th>model</th>\n",
       "      <th>trim_x</th>\n",
       "      <th>body_x</th>\n",
       "      <th>transmission_x</th>\n",
       "      <th>state</th>\n",
       "      <th>condition</th>\n",
       "      <th>odometer</th>\n",
       "      <th>color_x</th>\n",
       "      <th>interior_x</th>\n",
       "      <th>life_car</th>\n",
       "      <th>mean_go</th>\n",
       "    </tr>\n",
       "  </thead>\n",
       "  <tbody>\n",
       "    <tr>\n",
       "      <th>103031</th>\n",
       "      <td>honda</td>\n",
       "      <td>pilot</td>\n",
       "      <td>ex-l w/rear entertainment</td>\n",
       "      <td>suv</td>\n",
       "      <td>automatic</td>\n",
       "      <td>pa</td>\n",
       "      <td>4.0</td>\n",
       "      <td>24582.0</td>\n",
       "      <td>black</td>\n",
       "      <td>gray</td>\n",
       "      <td>2</td>\n",
       "      <td>12291.0</td>\n",
       "    </tr>\n",
       "    <tr>\n",
       "      <th>5139</th>\n",
       "      <td>bmw</td>\n",
       "      <td>3 series</td>\n",
       "      <td>335i xdrive</td>\n",
       "      <td>sedan</td>\n",
       "      <td>manual</td>\n",
       "      <td>ca</td>\n",
       "      <td>3.9</td>\n",
       "      <td>23810.0</td>\n",
       "      <td>white</td>\n",
       "      <td>black</td>\n",
       "      <td>4</td>\n",
       "      <td>5952.5</td>\n",
       "    </tr>\n",
       "  </tbody>\n",
       "</table>\n",
       "</div>\n",
       "    <div class=\"colab-df-buttons\">\n",
       "\n",
       "  <div class=\"colab-df-container\">\n",
       "    <button class=\"colab-df-convert\" onclick=\"convertToInteractive('df-66f6640b-7398-4f50-a780-fd3393f0c77e')\"\n",
       "            title=\"Convert this dataframe to an interactive table.\"\n",
       "            style=\"display:none;\">\n",
       "\n",
       "  <svg xmlns=\"http://www.w3.org/2000/svg\" height=\"24px\" viewBox=\"0 -960 960 960\">\n",
       "    <path d=\"M120-120v-720h720v720H120Zm60-500h600v-160H180v160Zm220 220h160v-160H400v160Zm0 220h160v-160H400v160ZM180-400h160v-160H180v160Zm440 0h160v-160H620v160ZM180-180h160v-160H180v160Zm440 0h160v-160H620v160Z\"/>\n",
       "  </svg>\n",
       "    </button>\n",
       "\n",
       "  <style>\n",
       "    .colab-df-container {\n",
       "      display:flex;\n",
       "      gap: 12px;\n",
       "    }\n",
       "\n",
       "    .colab-df-convert {\n",
       "      background-color: #E8F0FE;\n",
       "      border: none;\n",
       "      border-radius: 50%;\n",
       "      cursor: pointer;\n",
       "      display: none;\n",
       "      fill: #1967D2;\n",
       "      height: 32px;\n",
       "      padding: 0 0 0 0;\n",
       "      width: 32px;\n",
       "    }\n",
       "\n",
       "    .colab-df-convert:hover {\n",
       "      background-color: #E2EBFA;\n",
       "      box-shadow: 0px 1px 2px rgba(60, 64, 67, 0.3), 0px 1px 3px 1px rgba(60, 64, 67, 0.15);\n",
       "      fill: #174EA6;\n",
       "    }\n",
       "\n",
       "    .colab-df-buttons div {\n",
       "      margin-bottom: 4px;\n",
       "    }\n",
       "\n",
       "    [theme=dark] .colab-df-convert {\n",
       "      background-color: #3B4455;\n",
       "      fill: #D2E3FC;\n",
       "    }\n",
       "\n",
       "    [theme=dark] .colab-df-convert:hover {\n",
       "      background-color: #434B5C;\n",
       "      box-shadow: 0px 1px 3px 1px rgba(0, 0, 0, 0.15);\n",
       "      filter: drop-shadow(0px 1px 2px rgba(0, 0, 0, 0.3));\n",
       "      fill: #FFFFFF;\n",
       "    }\n",
       "  </style>\n",
       "\n",
       "    <script>\n",
       "      const buttonEl =\n",
       "        document.querySelector('#df-66f6640b-7398-4f50-a780-fd3393f0c77e button.colab-df-convert');\n",
       "      buttonEl.style.display =\n",
       "        google.colab.kernel.accessAllowed ? 'block' : 'none';\n",
       "\n",
       "      async function convertToInteractive(key) {\n",
       "        const element = document.querySelector('#df-66f6640b-7398-4f50-a780-fd3393f0c77e');\n",
       "        const dataTable =\n",
       "          await google.colab.kernel.invokeFunction('convertToInteractive',\n",
       "                                                    [key], {});\n",
       "        if (!dataTable) return;\n",
       "\n",
       "        const docLinkHtml = 'Like what you see? Visit the ' +\n",
       "          '<a target=\"_blank\" href=https://colab.research.google.com/notebooks/data_table.ipynb>data table notebook</a>'\n",
       "          + ' to learn more about interactive tables.';\n",
       "        element.innerHTML = '';\n",
       "        dataTable['output_type'] = 'display_data';\n",
       "        await google.colab.output.renderOutput(dataTable, element);\n",
       "        const docLink = document.createElement('div');\n",
       "        docLink.innerHTML = docLinkHtml;\n",
       "        element.appendChild(docLink);\n",
       "      }\n",
       "    </script>\n",
       "  </div>\n",
       "\n",
       "\n",
       "<div id=\"df-2f5dbee0-97a9-441e-89db-90d6dca32e99\">\n",
       "  <button class=\"colab-df-quickchart\" onclick=\"quickchart('df-2f5dbee0-97a9-441e-89db-90d6dca32e99')\"\n",
       "            title=\"Suggest charts.\"\n",
       "            style=\"display:none;\">\n",
       "\n",
       "<svg xmlns=\"http://www.w3.org/2000/svg\" height=\"24px\"viewBox=\"0 0 24 24\"\n",
       "     width=\"24px\">\n",
       "    <g>\n",
       "        <path d=\"M19 3H5c-1.1 0-2 .9-2 2v14c0 1.1.9 2 2 2h14c1.1 0 2-.9 2-2V5c0-1.1-.9-2-2-2zM9 17H7v-7h2v7zm4 0h-2V7h2v10zm4 0h-2v-4h2v4z\"/>\n",
       "    </g>\n",
       "</svg>\n",
       "  </button>\n",
       "\n",
       "<style>\n",
       "  .colab-df-quickchart {\n",
       "      --bg-color: #E8F0FE;\n",
       "      --fill-color: #1967D2;\n",
       "      --hover-bg-color: #E2EBFA;\n",
       "      --hover-fill-color: #174EA6;\n",
       "      --disabled-fill-color: #AAA;\n",
       "      --disabled-bg-color: #DDD;\n",
       "  }\n",
       "\n",
       "  [theme=dark] .colab-df-quickchart {\n",
       "      --bg-color: #3B4455;\n",
       "      --fill-color: #D2E3FC;\n",
       "      --hover-bg-color: #434B5C;\n",
       "      --hover-fill-color: #FFFFFF;\n",
       "      --disabled-bg-color: #3B4455;\n",
       "      --disabled-fill-color: #666;\n",
       "  }\n",
       "\n",
       "  .colab-df-quickchart {\n",
       "    background-color: var(--bg-color);\n",
       "    border: none;\n",
       "    border-radius: 50%;\n",
       "    cursor: pointer;\n",
       "    display: none;\n",
       "    fill: var(--fill-color);\n",
       "    height: 32px;\n",
       "    padding: 0;\n",
       "    width: 32px;\n",
       "  }\n",
       "\n",
       "  .colab-df-quickchart:hover {\n",
       "    background-color: var(--hover-bg-color);\n",
       "    box-shadow: 0 1px 2px rgba(60, 64, 67, 0.3), 0 1px 3px 1px rgba(60, 64, 67, 0.15);\n",
       "    fill: var(--button-hover-fill-color);\n",
       "  }\n",
       "\n",
       "  .colab-df-quickchart-complete:disabled,\n",
       "  .colab-df-quickchart-complete:disabled:hover {\n",
       "    background-color: var(--disabled-bg-color);\n",
       "    fill: var(--disabled-fill-color);\n",
       "    box-shadow: none;\n",
       "  }\n",
       "\n",
       "  .colab-df-spinner {\n",
       "    border: 2px solid var(--fill-color);\n",
       "    border-color: transparent;\n",
       "    border-bottom-color: var(--fill-color);\n",
       "    animation:\n",
       "      spin 1s steps(1) infinite;\n",
       "  }\n",
       "\n",
       "  @keyframes spin {\n",
       "    0% {\n",
       "      border-color: transparent;\n",
       "      border-bottom-color: var(--fill-color);\n",
       "      border-left-color: var(--fill-color);\n",
       "    }\n",
       "    20% {\n",
       "      border-color: transparent;\n",
       "      border-left-color: var(--fill-color);\n",
       "      border-top-color: var(--fill-color);\n",
       "    }\n",
       "    30% {\n",
       "      border-color: transparent;\n",
       "      border-left-color: var(--fill-color);\n",
       "      border-top-color: var(--fill-color);\n",
       "      border-right-color: var(--fill-color);\n",
       "    }\n",
       "    40% {\n",
       "      border-color: transparent;\n",
       "      border-right-color: var(--fill-color);\n",
       "      border-top-color: var(--fill-color);\n",
       "    }\n",
       "    60% {\n",
       "      border-color: transparent;\n",
       "      border-right-color: var(--fill-color);\n",
       "    }\n",
       "    80% {\n",
       "      border-color: transparent;\n",
       "      border-right-color: var(--fill-color);\n",
       "      border-bottom-color: var(--fill-color);\n",
       "    }\n",
       "    90% {\n",
       "      border-color: transparent;\n",
       "      border-bottom-color: var(--fill-color);\n",
       "    }\n",
       "  }\n",
       "</style>\n",
       "\n",
       "  <script>\n",
       "    async function quickchart(key) {\n",
       "      const quickchartButtonEl =\n",
       "        document.querySelector('#' + key + ' button');\n",
       "      quickchartButtonEl.disabled = true;  // To prevent multiple clicks.\n",
       "      quickchartButtonEl.classList.add('colab-df-spinner');\n",
       "      try {\n",
       "        const charts = await google.colab.kernel.invokeFunction(\n",
       "            'suggestCharts', [key], {});\n",
       "      } catch (error) {\n",
       "        console.error('Error during call to suggestCharts:', error);\n",
       "      }\n",
       "      quickchartButtonEl.classList.remove('colab-df-spinner');\n",
       "      quickchartButtonEl.classList.add('colab-df-quickchart-complete');\n",
       "    }\n",
       "    (() => {\n",
       "      let quickchartButtonEl =\n",
       "        document.querySelector('#df-2f5dbee0-97a9-441e-89db-90d6dca32e99 button');\n",
       "      quickchartButtonEl.style.display =\n",
       "        google.colab.kernel.accessAllowed ? 'block' : 'none';\n",
       "    })();\n",
       "  </script>\n",
       "</div>\n",
       "    </div>\n",
       "  </div>\n"
      ],
      "text/plain": [
       "         make     model                     trim_x body_x transmission_x  \\\n",
       "103031  honda     pilot  ex-l w/rear entertainment    suv      automatic   \n",
       "5139      bmw  3 series                335i xdrive  sedan         manual   \n",
       "\n",
       "       state  condition  odometer color_x interior_x  life_car  mean_go  \n",
       "103031    pa        4.0   24582.0   black       gray         2  12291.0  \n",
       "5139      ca        3.9   23810.0   white      black         4   5952.5  "
      ]
     },
     "execution_count": 194,
     "metadata": {},
     "output_type": "execute_result"
    }
   ],
   "source": [
    "#удаление лишних столбцов\n",
    "#col_del = ['year','vin', 'seller', 'saledate']\n",
    "test_pr = test_fill.drop(col_del, axis=1)\n",
    "test_pr.sample(2)"
   ]
  },
  {
   "cell_type": "code",
   "execution_count": 195,
   "id": "eo4-be5wSXKp",
   "metadata": {
    "colab": {
     "base_uri": "https://localhost:8080/"
    },
    "executionInfo": {
     "elapsed": 979,
     "status": "ok",
     "timestamp": 1694150670707,
     "user": {
      "displayName": "Андрей Медведев",
      "userId": "02560461935100345008"
     },
     "user_tz": -180
    },
    "id": "eo4-be5wSXKp",
    "outputId": "5fec3663-95ff-487c-9e8d-4c13686183f3"
   },
   "outputs": [
    {
     "data": {
      "text/plain": [
       "<110058x2854 sparse matrix of type '<class 'numpy.float64'>'\n",
       "\twith 880164 stored elements in Compressed Sparse Row format>"
      ]
     },
     "execution_count": 195,
     "metadata": {},
     "output_type": "execute_result"
    }
   ],
   "source": [
    "#преобразование категор столбцов техникой OHE\n",
    "test_pr_ohe = ohe.transform(test_pr[train_fit_cat_col])\n",
    "test_pr_ohe"
   ]
  },
  {
   "cell_type": "code",
   "execution_count": 196,
   "id": "-OCKBV0ASXNK",
   "metadata": {
    "executionInfo": {
     "elapsed": 59,
     "status": "ok",
     "timestamp": 1694150670708,
     "user": {
      "displayName": "Андрей Медведев",
      "userId": "02560461935100345008"
     },
     "user_tz": -180
    },
    "id": "-OCKBV0ASXNK"
   },
   "outputs": [],
   "source": [
    "#приведение числовых столбцов одному типу\n",
    "test_pr[train_fit_num_col] = test_pr[train_fit_num_col].astype('float64')"
   ]
  },
  {
   "cell_type": "code",
   "execution_count": 197,
   "id": "eOcjoEKVTeJ_",
   "metadata": {
    "executionInfo": {
     "elapsed": 57,
     "status": "ok",
     "timestamp": 1694150670708,
     "user": {
      "displayName": "Андрей Медведев",
      "userId": "02560461935100345008"
     },
     "user_tz": -180
    },
    "id": "eOcjoEKVTeJ_"
   },
   "outputs": [],
   "source": [
    "#преобразование нум столбцов в sparse matrix\n",
    "test_pr_num = csr_matrix(test_pr[train_fit_num_col])"
   ]
  },
  {
   "cell_type": "code",
   "execution_count": 198,
   "id": "-lyvI6XQTeNw",
   "metadata": {
    "colab": {
     "base_uri": "https://localhost:8080/"
    },
    "executionInfo": {
     "elapsed": 56,
     "status": "ok",
     "timestamp": 1694150670708,
     "user": {
      "displayName": "Андрей Медведев",
      "userId": "02560461935100345008"
     },
     "user_tz": -180
    },
    "id": "-lyvI6XQTeNw",
    "outputId": "225bc8ad-24b4-4577-897a-27ae422e9b76"
   },
   "outputs": [
    {
     "data": {
      "text/plain": [
       "<110058x2858 sparse matrix of type '<class 'numpy.float64'>'\n",
       "\twith 1320396 stored elements in Compressed Sparse Row format>"
      ]
     },
     "execution_count": 198,
     "metadata": {},
     "output_type": "execute_result"
    }
   ],
   "source": [
    "#соединение двух sparse matrix в одну\n",
    "test_pr_sparse = hstack((test_pr_ohe, test_pr_num))\n",
    "test_pr_sparse"
   ]
  },
  {
   "cell_type": "code",
   "execution_count": 199,
   "id": "IngxkkwQTeSH",
   "metadata": {
    "colab": {
     "base_uri": "https://localhost:8080/"
    },
    "executionInfo": {
     "elapsed": 43,
     "status": "ok",
     "timestamp": 1694150670708,
     "user": {
      "displayName": "Андрей Медведев",
      "userId": "02560461935100345008"
     },
     "user_tz": -180
    },
    "id": "IngxkkwQTeSH",
    "outputId": "f1862d61-3c0d-49f7-98a0-14b470d3f770"
   },
   "outputs": [
    {
     "data": {
      "text/plain": [
       "False"
      ]
     },
     "execution_count": 199,
     "metadata": {},
     "output_type": "execute_result"
    }
   ],
   "source": [
    "#проверка на отсутствие nan\n",
    "np.isnan(test_pr_sparse.data).any()"
   ]
  },
  {
   "cell_type": "markdown",
   "id": "yNiMFcNZivi-",
   "metadata": {
    "id": "yNiMFcNZivi-"
   },
   "source": [
    "## 6. Модели\n",
    "## 6. Models"
   ]
  },
  {
   "cell_type": "markdown",
   "id": "nYlMl1gtizq3",
   "metadata": {
    "id": "nYlMl1gtizq3"
   },
   "source": [
    "### 6.1. Линейная регрессия\n",
    "### 6.1. Linear Regression"
   ]
  },
  {
   "cell_type": "code",
   "execution_count": 200,
   "id": "cUTDA5xbkZt-",
   "metadata": {
    "colab": {
     "base_uri": "https://localhost:8080/"
    },
    "executionInfo": {
     "elapsed": 33,
     "status": "ok",
     "timestamp": 1694150670709,
     "user": {
      "displayName": "Андрей Медведев",
      "userId": "02560461935100345008"
     },
     "user_tz": -180
    },
    "id": "cUTDA5xbkZt-",
    "outputId": "234c5ec5-7d2c-407b-e68b-d231ed950172"
   },
   "outputs": [
    {
     "data": {
      "text/plain": [
       "False"
      ]
     },
     "execution_count": 200,
     "metadata": {},
     "output_type": "execute_result"
    }
   ],
   "source": [
    "np.isnan(train_fit_ohe.data).any()"
   ]
  },
  {
   "cell_type": "code",
   "execution_count": 201,
   "id": "MXcsJEXGkxDR",
   "metadata": {
    "colab": {
     "base_uri": "https://localhost:8080/"
    },
    "executionInfo": {
     "elapsed": 26,
     "status": "ok",
     "timestamp": 1694150670710,
     "user": {
      "displayName": "Андрей Медведев",
      "userId": "02560461935100345008"
     },
     "user_tz": -180
    },
    "id": "MXcsJEXGkxDR",
    "outputId": "187d6a2f-deaa-44d2-8581-10d41fdb7e56"
   },
   "outputs": [
    {
     "data": {
      "text/plain": [
       "False"
      ]
     },
     "execution_count": 201,
     "metadata": {},
     "output_type": "execute_result"
    }
   ],
   "source": [
    "np.isnan(train_fit_num.data).any()"
   ]
  },
  {
   "cell_type": "code",
   "execution_count": 202,
   "id": "jSk3KkITk1OM",
   "metadata": {
    "colab": {
     "base_uri": "https://localhost:8080/"
    },
    "executionInfo": {
     "elapsed": 22,
     "status": "ok",
     "timestamp": 1694150670710,
     "user": {
      "displayName": "Андрей Медведев",
      "userId": "02560461935100345008"
     },
     "user_tz": -180
    },
    "id": "jSk3KkITk1OM",
    "outputId": "e7604303-bd8f-442d-ee6a-4dafb475950f"
   },
   "outputs": [
    {
     "data": {
      "text/plain": [
       "False"
      ]
     },
     "execution_count": 202,
     "metadata": {},
     "output_type": "execute_result"
    }
   ],
   "source": [
    "np.isnan(train_fit_sparse.data).any()"
   ]
  },
  {
   "cell_type": "code",
   "execution_count": 203,
   "id": "4GnoXWkNkxNe",
   "metadata": {
    "colab": {
     "base_uri": "https://localhost:8080/"
    },
    "executionInfo": {
     "elapsed": 15,
     "status": "ok",
     "timestamp": 1694150670710,
     "user": {
      "displayName": "Андрей Медведев",
      "userId": "02560461935100345008"
     },
     "user_tz": -180
    },
    "id": "4GnoXWkNkxNe",
    "outputId": "b99b5118-bd1c-4d6d-9b0d-03e561cf1846"
   },
   "outputs": [
    {
     "name": "stdout",
     "output_type": "stream",
     "text": [
      "<class 'pandas.core.frame.DataFrame'>\n",
      "Int64Index: 432046 entries, 0 to 432112\n",
      "Data columns (total 4 columns):\n",
      " #   Column     Non-Null Count   Dtype  \n",
      "---  ------     --------------   -----  \n",
      " 0   condition  432046 non-null  float64\n",
      " 1   odometer   432046 non-null  float64\n",
      " 2   life_car   432046 non-null  float64\n",
      " 3   mean_go    432046 non-null  float64\n",
      "dtypes: float64(4)\n",
      "memory usage: 32.6 MB\n"
     ]
    }
   ],
   "source": [
    "train_fit[train_fit_num_col].info()"
   ]
  },
  {
   "cell_type": "code",
   "execution_count": 204,
   "id": "h4kuKJToi30j",
   "metadata": {
    "executionInfo": {
     "elapsed": 9,
     "status": "ok",
     "timestamp": 1694150670710,
     "user": {
      "displayName": "Андрей Медведев",
      "userId": "02560461935100345008"
     },
     "user_tz": -180
    },
    "id": "h4kuKJToi30j"
   },
   "outputs": [],
   "source": [
    "#обучение модели\n",
    "params = {#'alpha':[0.2],\n",
    "          'fit_intercept':[True]\n",
    "          }\n",
    "\n",
    "#lr = linear_model.Lasso()\n",
    "lr = LinearRegression()\n",
    "clf = GridSearchCV(lr, params, scoring='neg_mean_absolute_percentage_error', cv=5, n_jobs=-1)"
   ]
  },
  {
   "cell_type": "code",
   "execution_count": 205,
   "id": "ZmDrKoYHsnhB",
   "metadata": {
    "colab": {
     "base_uri": "https://localhost:8080/"
    },
    "executionInfo": {
     "elapsed": 10,
     "status": "ok",
     "timestamp": 1694150670711,
     "user": {
      "displayName": "Андрей Медведев",
      "userId": "02560461935100345008"
     },
     "user_tz": -180
    },
    "id": "ZmDrKoYHsnhB",
    "outputId": "c4770dd2-2801-4107-9f6d-414a7ee30a9e"
   },
   "outputs": [
    {
     "data": {
      "text/plain": [
       "432046"
      ]
     },
     "execution_count": 205,
     "metadata": {},
     "output_type": "execute_result"
    }
   ],
   "source": [
    "#n = 20000\n",
    "n = train_fit_ohe.shape[0]\n",
    "n"
   ]
  },
  {
   "cell_type": "code",
   "execution_count": 206,
   "id": "-p5VBqApi4we",
   "metadata": {
    "colab": {
     "base_uri": "https://localhost:8080/",
     "height": 152
    },
    "executionInfo": {
     "elapsed": 2852,
     "status": "ok",
     "timestamp": 1694150674031,
     "user": {
      "displayName": "Андрей Медведев",
      "userId": "02560461935100345008"
     },
     "user_tz": -180
    },
    "id": "-p5VBqApi4we",
    "outputId": "8feab50e-82cf-4b2b-ab08-2601eb956fd6"
   },
   "outputs": [
    {
     "name": "stdout",
     "output_type": "stream",
     "text": [
      "CPU times: user 565 ms, sys: 367 ms, total: 931 ms\n",
      "Wall time: 3.2 s\n"
     ]
    },
    {
     "data": {
      "text/html": [
       "<style>#sk-container-id-7 {color: black;background-color: white;}#sk-container-id-7 pre{padding: 0;}#sk-container-id-7 div.sk-toggleable {background-color: white;}#sk-container-id-7 label.sk-toggleable__label {cursor: pointer;display: block;width: 100%;margin-bottom: 0;padding: 0.3em;box-sizing: border-box;text-align: center;}#sk-container-id-7 label.sk-toggleable__label-arrow:before {content: \"▸\";float: left;margin-right: 0.25em;color: #696969;}#sk-container-id-7 label.sk-toggleable__label-arrow:hover:before {color: black;}#sk-container-id-7 div.sk-estimator:hover label.sk-toggleable__label-arrow:before {color: black;}#sk-container-id-7 div.sk-toggleable__content {max-height: 0;max-width: 0;overflow: hidden;text-align: left;background-color: #f0f8ff;}#sk-container-id-7 div.sk-toggleable__content pre {margin: 0.2em;color: black;border-radius: 0.25em;background-color: #f0f8ff;}#sk-container-id-7 input.sk-toggleable__control:checked~div.sk-toggleable__content {max-height: 200px;max-width: 100%;overflow: auto;}#sk-container-id-7 input.sk-toggleable__control:checked~label.sk-toggleable__label-arrow:before {content: \"▾\";}#sk-container-id-7 div.sk-estimator input.sk-toggleable__control:checked~label.sk-toggleable__label {background-color: #d4ebff;}#sk-container-id-7 div.sk-label input.sk-toggleable__control:checked~label.sk-toggleable__label {background-color: #d4ebff;}#sk-container-id-7 input.sk-hidden--visually {border: 0;clip: rect(1px 1px 1px 1px);clip: rect(1px, 1px, 1px, 1px);height: 1px;margin: -1px;overflow: hidden;padding: 0;position: absolute;width: 1px;}#sk-container-id-7 div.sk-estimator {font-family: monospace;background-color: #f0f8ff;border: 1px dotted black;border-radius: 0.25em;box-sizing: border-box;margin-bottom: 0.5em;}#sk-container-id-7 div.sk-estimator:hover {background-color: #d4ebff;}#sk-container-id-7 div.sk-parallel-item::after {content: \"\";width: 100%;border-bottom: 1px solid gray;flex-grow: 1;}#sk-container-id-7 div.sk-label:hover label.sk-toggleable__label {background-color: #d4ebff;}#sk-container-id-7 div.sk-serial::before {content: \"\";position: absolute;border-left: 1px solid gray;box-sizing: border-box;top: 0;bottom: 0;left: 50%;z-index: 0;}#sk-container-id-7 div.sk-serial {display: flex;flex-direction: column;align-items: center;background-color: white;padding-right: 0.2em;padding-left: 0.2em;position: relative;}#sk-container-id-7 div.sk-item {position: relative;z-index: 1;}#sk-container-id-7 div.sk-parallel {display: flex;align-items: stretch;justify-content: center;background-color: white;position: relative;}#sk-container-id-7 div.sk-item::before, #sk-container-id-7 div.sk-parallel-item::before {content: \"\";position: absolute;border-left: 1px solid gray;box-sizing: border-box;top: 0;bottom: 0;left: 50%;z-index: -1;}#sk-container-id-7 div.sk-parallel-item {display: flex;flex-direction: column;z-index: 1;position: relative;background-color: white;}#sk-container-id-7 div.sk-parallel-item:first-child::after {align-self: flex-end;width: 50%;}#sk-container-id-7 div.sk-parallel-item:last-child::after {align-self: flex-start;width: 50%;}#sk-container-id-7 div.sk-parallel-item:only-child::after {width: 0;}#sk-container-id-7 div.sk-dashed-wrapped {border: 1px dashed gray;margin: 0 0.4em 0.5em 0.4em;box-sizing: border-box;padding-bottom: 0.4em;background-color: white;}#sk-container-id-7 div.sk-label label {font-family: monospace;font-weight: bold;display: inline-block;line-height: 1.2em;}#sk-container-id-7 div.sk-label-container {text-align: center;}#sk-container-id-7 div.sk-container {/* jupyter's `normalize.less` sets `[hidden] { display: none; }` but bootstrap.min.css set `[hidden] { display: none !important; }` so we also need the `!important` here to be able to override the default hidden behavior on the sphinx rendered scikit-learn.org. See: https://github.com/scikit-learn/scikit-learn/issues/21755 */display: inline-block !important;position: relative;}#sk-container-id-7 div.sk-text-repr-fallback {display: none;}</style><div id=\"sk-container-id-7\" class=\"sk-top-container\"><div class=\"sk-text-repr-fallback\"><pre>GridSearchCV(cv=5, estimator=LinearRegression(), n_jobs=-1,\n",
       "             param_grid={&#x27;fit_intercept&#x27;: [True]},\n",
       "             scoring=&#x27;neg_mean_absolute_percentage_error&#x27;)</pre><b>In a Jupyter environment, please rerun this cell to show the HTML representation or trust the notebook. <br />On GitHub, the HTML representation is unable to render, please try loading this page with nbviewer.org.</b></div><div class=\"sk-container\" hidden><div class=\"sk-item sk-dashed-wrapped\"><div class=\"sk-label-container\"><div class=\"sk-label sk-toggleable\"><input class=\"sk-toggleable__control sk-hidden--visually\" id=\"sk-estimator-id-17\" type=\"checkbox\" ><label for=\"sk-estimator-id-17\" class=\"sk-toggleable__label sk-toggleable__label-arrow\">GridSearchCV</label><div class=\"sk-toggleable__content\"><pre>GridSearchCV(cv=5, estimator=LinearRegression(), n_jobs=-1,\n",
       "             param_grid={&#x27;fit_intercept&#x27;: [True]},\n",
       "             scoring=&#x27;neg_mean_absolute_percentage_error&#x27;)</pre></div></div></div><div class=\"sk-parallel\"><div class=\"sk-parallel-item\"><div class=\"sk-item\"><div class=\"sk-label-container\"><div class=\"sk-label sk-toggleable\"><input class=\"sk-toggleable__control sk-hidden--visually\" id=\"sk-estimator-id-18\" type=\"checkbox\" ><label for=\"sk-estimator-id-18\" class=\"sk-toggleable__label sk-toggleable__label-arrow\">estimator: LinearRegression</label><div class=\"sk-toggleable__content\"><pre>LinearRegression()</pre></div></div></div><div class=\"sk-serial\"><div class=\"sk-item\"><div class=\"sk-estimator sk-toggleable\"><input class=\"sk-toggleable__control sk-hidden--visually\" id=\"sk-estimator-id-19\" type=\"checkbox\" ><label for=\"sk-estimator-id-19\" class=\"sk-toggleable__label sk-toggleable__label-arrow\">LinearRegression</label><div class=\"sk-toggleable__content\"><pre>LinearRegression()</pre></div></div></div></div></div></div></div></div></div></div>"
      ],
      "text/plain": [
       "GridSearchCV(cv=5, estimator=LinearRegression(), n_jobs=-1,\n",
       "             param_grid={'fit_intercept': [True]},\n",
       "             scoring='neg_mean_absolute_percentage_error')"
      ]
     },
     "execution_count": 206,
     "metadata": {},
     "output_type": "execute_result"
    }
   ],
   "source": [
    "%%time\n",
    "clf.fit(train_fit_sparse[:n], train_fit['sellingprice'][:n])"
   ]
  },
  {
   "cell_type": "code",
   "execution_count": 207,
   "id": "blP3TbO6i47_",
   "metadata": {
    "colab": {
     "base_uri": "https://localhost:8080/"
    },
    "executionInfo": {
     "elapsed": 36,
     "status": "ok",
     "timestamp": 1694150674031,
     "user": {
      "displayName": "Андрей Медведев",
      "userId": "02560461935100345008"
     },
     "user_tz": -180
    },
    "id": "blP3TbO6i47_",
    "outputId": "846084aa-b023-45a1-8526-00e6f6dae62f"
   },
   "outputs": [
    {
     "data": {
      "text/plain": [
       "0.7428988884845719"
      ]
     },
     "execution_count": 207,
     "metadata": {},
     "output_type": "execute_result"
    }
   ],
   "source": [
    "-clf.best_score_"
   ]
  },
  {
   "cell_type": "code",
   "execution_count": 208,
   "id": "zy9mFhA_H0fq",
   "metadata": {
    "colab": {
     "base_uri": "https://localhost:8080/"
    },
    "executionInfo": {
     "elapsed": 25,
     "status": "ok",
     "timestamp": 1694150674033,
     "user": {
      "displayName": "Андрей Медведев",
      "userId": "02560461935100345008"
     },
     "user_tz": -180
    },
    "id": "zy9mFhA_H0fq",
    "outputId": "a337a364-d4a5-4938-be98-999deb0ba54e"
   },
   "outputs": [
    {
     "data": {
      "text/plain": [
       "{'fit_intercept': True}"
      ]
     },
     "execution_count": 208,
     "metadata": {},
     "output_type": "execute_result"
    }
   ],
   "source": [
    "clf.best_params_"
   ]
  },
  {
   "cell_type": "code",
   "execution_count": 209,
   "id": "VlQ6UutYwKke",
   "metadata": {
    "colab": {
     "base_uri": "https://localhost:8080/"
    },
    "executionInfo": {
     "elapsed": 14,
     "status": "ok",
     "timestamp": 1694150674033,
     "user": {
      "displayName": "Андрей Медведев",
      "userId": "02560461935100345008"
     },
     "user_tz": -180
    },
    "id": "VlQ6UutYwKke",
    "outputId": "79771abc-04e9-4b9f-8517-9f769e95202e"
   },
   "outputs": [
    {
     "data": {
      "text/plain": [
       "0.7430577776062411"
      ]
     },
     "execution_count": 209,
     "metadata": {},
     "output_type": "execute_result"
    }
   ],
   "source": [
    "0.7430577776062411"
   ]
  },
  {
   "cell_type": "code",
   "execution_count": 210,
   "id": "WmRhINpN-b7q",
   "metadata": {
    "colab": {
     "base_uri": "https://localhost:8080/",
     "height": 109
    },
    "executionInfo": {
     "elapsed": 527,
     "status": "ok",
     "timestamp": 1694150674553,
     "user": {
      "displayName": "Андрей Медведев",
      "userId": "02560461935100345008"
     },
     "user_tz": -180
    },
    "id": "WmRhINpN-b7q",
    "outputId": "bc5f6b07-79ac-44c7-e6ba-4bb6e6c23d3b"
   },
   "outputs": [
    {
     "name": "stdout",
     "output_type": "stream",
     "text": [
      "CPU times: user 467 ms, sys: 317 ms, total: 783 ms\n",
      "Wall time: 514 ms\n"
     ]
    },
    {
     "data": {
      "text/html": [
       "<style>#sk-container-id-8 {color: black;background-color: white;}#sk-container-id-8 pre{padding: 0;}#sk-container-id-8 div.sk-toggleable {background-color: white;}#sk-container-id-8 label.sk-toggleable__label {cursor: pointer;display: block;width: 100%;margin-bottom: 0;padding: 0.3em;box-sizing: border-box;text-align: center;}#sk-container-id-8 label.sk-toggleable__label-arrow:before {content: \"▸\";float: left;margin-right: 0.25em;color: #696969;}#sk-container-id-8 label.sk-toggleable__label-arrow:hover:before {color: black;}#sk-container-id-8 div.sk-estimator:hover label.sk-toggleable__label-arrow:before {color: black;}#sk-container-id-8 div.sk-toggleable__content {max-height: 0;max-width: 0;overflow: hidden;text-align: left;background-color: #f0f8ff;}#sk-container-id-8 div.sk-toggleable__content pre {margin: 0.2em;color: black;border-radius: 0.25em;background-color: #f0f8ff;}#sk-container-id-8 input.sk-toggleable__control:checked~div.sk-toggleable__content {max-height: 200px;max-width: 100%;overflow: auto;}#sk-container-id-8 input.sk-toggleable__control:checked~label.sk-toggleable__label-arrow:before {content: \"▾\";}#sk-container-id-8 div.sk-estimator input.sk-toggleable__control:checked~label.sk-toggleable__label {background-color: #d4ebff;}#sk-container-id-8 div.sk-label input.sk-toggleable__control:checked~label.sk-toggleable__label {background-color: #d4ebff;}#sk-container-id-8 input.sk-hidden--visually {border: 0;clip: rect(1px 1px 1px 1px);clip: rect(1px, 1px, 1px, 1px);height: 1px;margin: -1px;overflow: hidden;padding: 0;position: absolute;width: 1px;}#sk-container-id-8 div.sk-estimator {font-family: monospace;background-color: #f0f8ff;border: 1px dotted black;border-radius: 0.25em;box-sizing: border-box;margin-bottom: 0.5em;}#sk-container-id-8 div.sk-estimator:hover {background-color: #d4ebff;}#sk-container-id-8 div.sk-parallel-item::after {content: \"\";width: 100%;border-bottom: 1px solid gray;flex-grow: 1;}#sk-container-id-8 div.sk-label:hover label.sk-toggleable__label {background-color: #d4ebff;}#sk-container-id-8 div.sk-serial::before {content: \"\";position: absolute;border-left: 1px solid gray;box-sizing: border-box;top: 0;bottom: 0;left: 50%;z-index: 0;}#sk-container-id-8 div.sk-serial {display: flex;flex-direction: column;align-items: center;background-color: white;padding-right: 0.2em;padding-left: 0.2em;position: relative;}#sk-container-id-8 div.sk-item {position: relative;z-index: 1;}#sk-container-id-8 div.sk-parallel {display: flex;align-items: stretch;justify-content: center;background-color: white;position: relative;}#sk-container-id-8 div.sk-item::before, #sk-container-id-8 div.sk-parallel-item::before {content: \"\";position: absolute;border-left: 1px solid gray;box-sizing: border-box;top: 0;bottom: 0;left: 50%;z-index: -1;}#sk-container-id-8 div.sk-parallel-item {display: flex;flex-direction: column;z-index: 1;position: relative;background-color: white;}#sk-container-id-8 div.sk-parallel-item:first-child::after {align-self: flex-end;width: 50%;}#sk-container-id-8 div.sk-parallel-item:last-child::after {align-self: flex-start;width: 50%;}#sk-container-id-8 div.sk-parallel-item:only-child::after {width: 0;}#sk-container-id-8 div.sk-dashed-wrapped {border: 1px dashed gray;margin: 0 0.4em 0.5em 0.4em;box-sizing: border-box;padding-bottom: 0.4em;background-color: white;}#sk-container-id-8 div.sk-label label {font-family: monospace;font-weight: bold;display: inline-block;line-height: 1.2em;}#sk-container-id-8 div.sk-label-container {text-align: center;}#sk-container-id-8 div.sk-container {/* jupyter's `normalize.less` sets `[hidden] { display: none; }` but bootstrap.min.css set `[hidden] { display: none !important; }` so we also need the `!important` here to be able to override the default hidden behavior on the sphinx rendered scikit-learn.org. See: https://github.com/scikit-learn/scikit-learn/issues/21755 */display: inline-block !important;position: relative;}#sk-container-id-8 div.sk-text-repr-fallback {display: none;}</style><div id=\"sk-container-id-8\" class=\"sk-top-container\"><div class=\"sk-text-repr-fallback\"><pre>LinearRegression()</pre><b>In a Jupyter environment, please rerun this cell to show the HTML representation or trust the notebook. <br />On GitHub, the HTML representation is unable to render, please try loading this page with nbviewer.org.</b></div><div class=\"sk-container\" hidden><div class=\"sk-item\"><div class=\"sk-estimator sk-toggleable\"><input class=\"sk-toggleable__control sk-hidden--visually\" id=\"sk-estimator-id-20\" type=\"checkbox\" checked><label for=\"sk-estimator-id-20\" class=\"sk-toggleable__label sk-toggleable__label-arrow\">LinearRegression</label><div class=\"sk-toggleable__content\"><pre>LinearRegression()</pre></div></div></div></div></div>"
      ],
      "text/plain": [
       "LinearRegression()"
      ]
     },
     "execution_count": 210,
     "metadata": {},
     "output_type": "execute_result"
    }
   ],
   "source": [
    "#обучение заново\n",
    "%%time\n",
    "lr.fit(train_fit_sparse[:n], train_fit['sellingprice'][:n])"
   ]
  },
  {
   "cell_type": "markdown",
   "id": "DOW5UoJ77Szf",
   "metadata": {
    "id": "DOW5UoJ77Szf"
   },
   "source": [
    "модель Lasso даёт лучше результат, МАРЕ примерно 0,54, но крайне долго обучается.\n",
    "\n",
    "The Lasso model gives better results, MAPE is approximately 0.54, but takes an extremely long time to train."
   ]
  },
  {
   "cell_type": "code",
   "execution_count": null,
   "id": "h_ZPxW0P7IAZ",
   "metadata": {
    "id": "h_ZPxW0P7IAZ"
   },
   "outputs": [],
   "source": []
  },
  {
   "cell_type": "markdown",
   "id": "ft_6VcmgE1B9",
   "metadata": {
    "id": "ft_6VcmgE1B9"
   },
   "source": [
    "#### Проверка точности на обучающей выборке\n",
    "#### Checking accuracy on the training set"
   ]
  },
  {
   "cell_type": "code",
   "execution_count": 211,
   "id": "gjhIx0HhEJM0",
   "metadata": {
    "executionInfo": {
     "elapsed": 35,
     "status": "ok",
     "timestamp": 1694150674554,
     "user": {
      "displayName": "Андрей Медведев",
      "userId": "02560461935100345008"
     },
     "user_tz": -180
    },
    "id": "gjhIx0HhEJM0"
   },
   "outputs": [],
   "source": [
    "pred_train = lr.predict(train_fit_sparse[:n])"
   ]
  },
  {
   "cell_type": "code",
   "execution_count": 212,
   "id": "JcyHZ_RvWWNj",
   "metadata": {
    "colab": {
     "base_uri": "https://localhost:8080/"
    },
    "executionInfo": {
     "elapsed": 34,
     "status": "ok",
     "timestamp": 1694150674554,
     "user": {
      "displayName": "Андрей Медведев",
      "userId": "02560461935100345008"
     },
     "user_tz": -180
    },
    "id": "JcyHZ_RvWWNj",
    "outputId": "5b4fa4a0-eab0-486b-8f44-a4bd0cf80e1c"
   },
   "outputs": [
    {
     "data": {
      "text/plain": [
       "(-68932.90656265916, 39619.74574731784)"
      ]
     },
     "execution_count": 212,
     "metadata": {},
     "output_type": "execute_result"
    }
   ],
   "source": [
    "pred_train.min(), pred_train.max()"
   ]
  },
  {
   "cell_type": "code",
   "execution_count": 213,
   "id": "0toBp_ooWdh2",
   "metadata": {
    "colab": {
     "base_uri": "https://localhost:8080/"
    },
    "executionInfo": {
     "elapsed": 22,
     "status": "ok",
     "timestamp": 1694150674554,
     "user": {
      "displayName": "Андрей Медведев",
      "userId": "02560461935100345008"
     },
     "user_tz": -180
    },
    "id": "0toBp_ooWdh2",
    "outputId": "24e60fe8-9312-48e4-bfec-a6a004e35e12"
   },
   "outputs": [
    {
     "data": {
      "text/plain": [
       "(1, 230000)"
      ]
     },
     "execution_count": 213,
     "metadata": {},
     "output_type": "execute_result"
    }
   ],
   "source": [
    "train_fit['sellingprice'][:n].min(), train_fit['sellingprice'][:n].max()"
   ]
  },
  {
   "cell_type": "code",
   "execution_count": 214,
   "id": "MHVqSQZgEJQb",
   "metadata": {
    "colab": {
     "base_uri": "https://localhost:8080/"
    },
    "executionInfo": {
     "elapsed": 12,
     "status": "ok",
     "timestamp": 1694150674555,
     "user": {
      "displayName": "Андрей Медведев",
      "userId": "02560461935100345008"
     },
     "user_tz": -180
    },
    "id": "MHVqSQZgEJQb",
    "outputId": "e3dced73-cda0-4b5c-cdc5-beafee281c06"
   },
   "outputs": [
    {
     "data": {
      "text/plain": [
       "0.7424855343841174"
      ]
     },
     "execution_count": 214,
     "metadata": {},
     "output_type": "execute_result"
    }
   ],
   "source": [
    "mean_absolute_percentage_error(train_fit['sellingprice'][:n], pred_train)"
   ]
  },
  {
   "cell_type": "markdown",
   "id": "qIcRfP1Jv2oh",
   "metadata": {
    "id": "qIcRfP1Jv2oh"
   },
   "source": [
    "На кросс валидации, при 3х фолдах, MAPE примерно 0,74%\n",
    "\n",
    "MAPE is approximately 0.74"
   ]
  },
  {
   "cell_type": "code",
   "execution_count": 214,
   "id": "Yk_W7m5bcvf9",
   "metadata": {
    "executionInfo": {
     "elapsed": 374,
     "status": "ok",
     "timestamp": 1694150674923,
     "user": {
      "displayName": "Андрей Медведев",
      "userId": "02560461935100345008"
     },
     "user_tz": -180
    },
    "id": "Yk_W7m5bcvf9"
   },
   "outputs": [],
   "source": []
  },
  {
   "cell_type": "markdown",
   "id": "DZTHhsO3cwto",
   "metadata": {
    "id": "DZTHhsO3cwto"
   },
   "source": [
    "### 6.2. DecisionTreeRegressor\n"
   ]
  },
  {
   "cell_type": "code",
   "execution_count": 215,
   "id": "Qv--j52Ycvwk",
   "metadata": {
    "executionInfo": {
     "elapsed": 7,
     "status": "ok",
     "timestamp": 1694150674923,
     "user": {
      "displayName": "Андрей Медведев",
      "userId": "02560461935100345008"
     },
     "user_tz": -180
    },
    "id": "Qv--j52Ycvwk"
   },
   "outputs": [],
   "source": [
    "#логарифмическая сетка параметров для модели Дерево\n",
    "params = {\n",
    "    'max_depth':[128],\n",
    "    'min_samples_leaf':[2,4],\n",
    "    'min_samples_split':[2,4]\n",
    "\n",
    "}"
   ]
  },
  {
   "cell_type": "code",
   "execution_count": 216,
   "id": "gaG7Xy22c7vk",
   "metadata": {
    "executionInfo": {
     "elapsed": 8,
     "status": "ok",
     "timestamp": 1694150674924,
     "user": {
      "displayName": "Андрей Медведев",
      "userId": "02560461935100345008"
     },
     "user_tz": -180
    },
    "id": "gaG7Xy22c7vk"
   },
   "outputs": [],
   "source": [
    "TreeReg = DecisionTreeRegressor(random_state=STATE)"
   ]
  },
  {
   "cell_type": "code",
   "execution_count": 217,
   "id": "gWhoWlb6c74A",
   "metadata": {
    "executionInfo": {
     "elapsed": 7,
     "status": "ok",
     "timestamp": 1694150674924,
     "user": {
      "displayName": "Андрей Медведев",
      "userId": "02560461935100345008"
     },
     "user_tz": -180
    },
    "id": "gWhoWlb6c74A"
   },
   "outputs": [],
   "source": [
    "clf = GridSearchCV(TreeReg, params, scoring='neg_mean_absolute_percentage_error', cv=3, n_jobs=-1)"
   ]
  },
  {
   "cell_type": "code",
   "execution_count": 218,
   "id": "Z8dnuZMBc762",
   "metadata": {
    "colab": {
     "base_uri": "https://localhost:8080/"
    },
    "executionInfo": {
     "elapsed": 6,
     "status": "ok",
     "timestamp": 1694150674924,
     "user": {
      "displayName": "Андрей Медведев",
      "userId": "02560461935100345008"
     },
     "user_tz": -180
    },
    "id": "Z8dnuZMBc762",
    "outputId": "644cc139-dd13-475b-b753-c81b516e4028"
   },
   "outputs": [
    {
     "name": "stdout",
     "output_type": "stream",
     "text": [
      "CPU times: user 4 µs, sys: 0 ns, total: 4 µs\n",
      "Wall time: 7.63 µs\n"
     ]
    }
   ],
   "source": [
    "%%time\n",
    "#clf.fit(train_fit_sparse[:n], train_fit['sellingprice'][:n])"
   ]
  },
  {
   "cell_type": "code",
   "execution_count": 219,
   "id": "WhJ3-PWvc7-v",
   "metadata": {
    "executionInfo": {
     "elapsed": 5,
     "status": "ok",
     "timestamp": 1694150674925,
     "user": {
      "displayName": "Андрей Медведев",
      "userId": "02560461935100345008"
     },
     "user_tz": -180
    },
    "id": "WhJ3-PWvc7-v"
   },
   "outputs": [],
   "source": [
    "#-clf.best_score_"
   ]
  },
  {
   "cell_type": "markdown",
   "id": "5Zpb7BPygm92",
   "metadata": {
    "id": "5Zpb7BPygm92"
   },
   "source": [
    "#### Результаты для разных гиперпараметров\n",
    "\n",
    "#### Results for different hyperparameters\n",
    "\n",
    "0.3327144211074122 'max_depth':[16,\n",
    "\n",
    "0.24617415713104904 {'max_depth': 32, 'min_samples_leaf': 4, 'min_samples_split': 2}\n",
    "\n",
    "0.2272899503074534 {'max_depth': 64, 'min_samples_leaf': 4, 'min_samples_split': 2}\n",
    "\n",
    "0.225817829323637 {'max_depth': 128, 'min_samples_leaf': 4, 'min_samples_split': 2}\n",
    "\n",
    "0.225817829323637 {'max_depth': 128, 'min_samples_leaf': 4, 'min_samples_split': 2} (256 ничего не даёт)"
   ]
  },
  {
   "cell_type": "code",
   "execution_count": 220,
   "id": "PNiU3jL1eYlL",
   "metadata": {
    "executionInfo": {
     "elapsed": 5,
     "status": "ok",
     "timestamp": 1694150674925,
     "user": {
      "displayName": "Андрей Медведев",
      "userId": "02560461935100345008"
     },
     "user_tz": -180
    },
    "id": "PNiU3jL1eYlL"
   },
   "outputs": [],
   "source": []
  },
  {
   "cell_type": "code",
   "execution_count": 221,
   "id": "0AWDbJLUeYpH",
   "metadata": {
    "colab": {
     "base_uri": "https://localhost:8080/",
     "height": 109
    },
    "executionInfo": {
     "elapsed": 184540,
     "status": "ok",
     "timestamp": 1694150859460,
     "user": {
      "displayName": "Андрей Медведев",
      "userId": "02560461935100345008"
     },
     "user_tz": -180
    },
    "id": "0AWDbJLUeYpH",
    "outputId": "a21db4c3-8a67-479a-ac1e-73f932f2d4ca"
   },
   "outputs": [
    {
     "name": "stdout",
     "output_type": "stream",
     "text": [
      "CPU times: user 3min, sys: 306 ms, total: 3min 1s\n",
      "Wall time: 3min 4s\n"
     ]
    },
    {
     "data": {
      "text/html": [
       "<style>#sk-container-id-9 {color: black;background-color: white;}#sk-container-id-9 pre{padding: 0;}#sk-container-id-9 div.sk-toggleable {background-color: white;}#sk-container-id-9 label.sk-toggleable__label {cursor: pointer;display: block;width: 100%;margin-bottom: 0;padding: 0.3em;box-sizing: border-box;text-align: center;}#sk-container-id-9 label.sk-toggleable__label-arrow:before {content: \"▸\";float: left;margin-right: 0.25em;color: #696969;}#sk-container-id-9 label.sk-toggleable__label-arrow:hover:before {color: black;}#sk-container-id-9 div.sk-estimator:hover label.sk-toggleable__label-arrow:before {color: black;}#sk-container-id-9 div.sk-toggleable__content {max-height: 0;max-width: 0;overflow: hidden;text-align: left;background-color: #f0f8ff;}#sk-container-id-9 div.sk-toggleable__content pre {margin: 0.2em;color: black;border-radius: 0.25em;background-color: #f0f8ff;}#sk-container-id-9 input.sk-toggleable__control:checked~div.sk-toggleable__content {max-height: 200px;max-width: 100%;overflow: auto;}#sk-container-id-9 input.sk-toggleable__control:checked~label.sk-toggleable__label-arrow:before {content: \"▾\";}#sk-container-id-9 div.sk-estimator input.sk-toggleable__control:checked~label.sk-toggleable__label {background-color: #d4ebff;}#sk-container-id-9 div.sk-label input.sk-toggleable__control:checked~label.sk-toggleable__label {background-color: #d4ebff;}#sk-container-id-9 input.sk-hidden--visually {border: 0;clip: rect(1px 1px 1px 1px);clip: rect(1px, 1px, 1px, 1px);height: 1px;margin: -1px;overflow: hidden;padding: 0;position: absolute;width: 1px;}#sk-container-id-9 div.sk-estimator {font-family: monospace;background-color: #f0f8ff;border: 1px dotted black;border-radius: 0.25em;box-sizing: border-box;margin-bottom: 0.5em;}#sk-container-id-9 div.sk-estimator:hover {background-color: #d4ebff;}#sk-container-id-9 div.sk-parallel-item::after {content: \"\";width: 100%;border-bottom: 1px solid gray;flex-grow: 1;}#sk-container-id-9 div.sk-label:hover label.sk-toggleable__label {background-color: #d4ebff;}#sk-container-id-9 div.sk-serial::before {content: \"\";position: absolute;border-left: 1px solid gray;box-sizing: border-box;top: 0;bottom: 0;left: 50%;z-index: 0;}#sk-container-id-9 div.sk-serial {display: flex;flex-direction: column;align-items: center;background-color: white;padding-right: 0.2em;padding-left: 0.2em;position: relative;}#sk-container-id-9 div.sk-item {position: relative;z-index: 1;}#sk-container-id-9 div.sk-parallel {display: flex;align-items: stretch;justify-content: center;background-color: white;position: relative;}#sk-container-id-9 div.sk-item::before, #sk-container-id-9 div.sk-parallel-item::before {content: \"\";position: absolute;border-left: 1px solid gray;box-sizing: border-box;top: 0;bottom: 0;left: 50%;z-index: -1;}#sk-container-id-9 div.sk-parallel-item {display: flex;flex-direction: column;z-index: 1;position: relative;background-color: white;}#sk-container-id-9 div.sk-parallel-item:first-child::after {align-self: flex-end;width: 50%;}#sk-container-id-9 div.sk-parallel-item:last-child::after {align-self: flex-start;width: 50%;}#sk-container-id-9 div.sk-parallel-item:only-child::after {width: 0;}#sk-container-id-9 div.sk-dashed-wrapped {border: 1px dashed gray;margin: 0 0.4em 0.5em 0.4em;box-sizing: border-box;padding-bottom: 0.4em;background-color: white;}#sk-container-id-9 div.sk-label label {font-family: monospace;font-weight: bold;display: inline-block;line-height: 1.2em;}#sk-container-id-9 div.sk-label-container {text-align: center;}#sk-container-id-9 div.sk-container {/* jupyter's `normalize.less` sets `[hidden] { display: none; }` but bootstrap.min.css set `[hidden] { display: none !important; }` so we also need the `!important` here to be able to override the default hidden behavior on the sphinx rendered scikit-learn.org. See: https://github.com/scikit-learn/scikit-learn/issues/21755 */display: inline-block !important;position: relative;}#sk-container-id-9 div.sk-text-repr-fallback {display: none;}</style><div id=\"sk-container-id-9\" class=\"sk-top-container\"><div class=\"sk-text-repr-fallback\"><pre>DecisionTreeRegressor(max_depth=128, min_samples_leaf=4, random_state=33443)</pre><b>In a Jupyter environment, please rerun this cell to show the HTML representation or trust the notebook. <br />On GitHub, the HTML representation is unable to render, please try loading this page with nbviewer.org.</b></div><div class=\"sk-container\" hidden><div class=\"sk-item\"><div class=\"sk-estimator sk-toggleable\"><input class=\"sk-toggleable__control sk-hidden--visually\" id=\"sk-estimator-id-21\" type=\"checkbox\" checked><label for=\"sk-estimator-id-21\" class=\"sk-toggleable__label sk-toggleable__label-arrow\">DecisionTreeRegressor</label><div class=\"sk-toggleable__content\"><pre>DecisionTreeRegressor(max_depth=128, min_samples_leaf=4, random_state=33443)</pre></div></div></div></div></div>"
      ],
      "text/plain": [
       "DecisionTreeRegressor(max_depth=128, min_samples_leaf=4, random_state=33443)"
      ]
     },
     "execution_count": 221,
     "metadata": {},
     "output_type": "execute_result"
    }
   ],
   "source": [
    "#учим заново\n",
    "%%time\n",
    "TreeReg = DecisionTreeRegressor(random_state=STATE,\n",
    "                                max_depth=128,\n",
    "                                min_samples_leaf=4,\n",
    "                                min_samples_split=2\n",
    "                                )\n",
    "TreeReg.fit(train_fit_sparse[:n], train_fit['sellingprice'][:n])"
   ]
  },
  {
   "cell_type": "code",
   "execution_count": 221,
   "id": "QcOdy6lScCch",
   "metadata": {
    "executionInfo": {
     "elapsed": 37,
     "status": "ok",
     "timestamp": 1694150859461,
     "user": {
      "displayName": "Андрей Медведев",
      "userId": "02560461935100345008"
     },
     "user_tz": -180
    },
    "id": "QcOdy6lScCch"
   },
   "outputs": [],
   "source": []
  },
  {
   "cell_type": "markdown",
   "id": "fnQ0816ycGoF",
   "metadata": {
    "id": "fnQ0816ycGoF"
   },
   "source": [
    "### 6.3. Random forest"
   ]
  },
  {
   "cell_type": "code",
   "execution_count": 222,
   "id": "zjmCt1d8UJIi",
   "metadata": {
    "executionInfo": {
     "elapsed": 35,
     "status": "ok",
     "timestamp": 1694150859461,
     "user": {
      "displayName": "Андрей Медведев",
      "userId": "02560461935100345008"
     },
     "user_tz": -180
    },
    "id": "zjmCt1d8UJIi"
   },
   "outputs": [],
   "source": [
    "#логарифмическая сетка параметров\n",
    "params = {\n",
    "    'max_depth':[64],\n",
    "    'n_estimators':[20],\n",
    "    'min_samples_leaf':[4],\n",
    "    'min_samples_split':[2]\n",
    "\n",
    "}"
   ]
  },
  {
   "cell_type": "code",
   "execution_count": 223,
   "id": "lWcLVRcGcCho",
   "metadata": {
    "executionInfo": {
     "elapsed": 32,
     "status": "ok",
     "timestamp": 1694150859461,
     "user": {
      "displayName": "Андрей Медведев",
      "userId": "02560461935100345008"
     },
     "user_tz": -180
    },
    "id": "lWcLVRcGcCho"
   },
   "outputs": [],
   "source": [
    "rf_regr = RandomForestRegressor(random_state=STATE)"
   ]
  },
  {
   "cell_type": "code",
   "execution_count": 224,
   "id": "VPGuj0RzcCku",
   "metadata": {
    "executionInfo": {
     "elapsed": 32,
     "status": "ok",
     "timestamp": 1694150859462,
     "user": {
      "displayName": "Андрей Медведев",
      "userId": "02560461935100345008"
     },
     "user_tz": -180
    },
    "id": "VPGuj0RzcCku"
   },
   "outputs": [],
   "source": [
    "clf = GridSearchCV(rf_regr, params, scoring='neg_mean_absolute_percentage_error', cv=3, n_jobs=-1)"
   ]
  },
  {
   "cell_type": "code",
   "execution_count": 225,
   "id": "J_8o4zmvcCoO",
   "metadata": {
    "colab": {
     "base_uri": "https://localhost:8080/"
    },
    "executionInfo": {
     "elapsed": 31,
     "status": "ok",
     "timestamp": 1694150859462,
     "user": {
      "displayName": "Андрей Медведев",
      "userId": "02560461935100345008"
     },
     "user_tz": -180
    },
    "id": "J_8o4zmvcCoO",
    "outputId": "abf49abc-50b1-4396-93a1-65552fd9e64b"
   },
   "outputs": [
    {
     "name": "stdout",
     "output_type": "stream",
     "text": [
      "CPU times: user 5 µs, sys: 0 ns, total: 5 µs\n",
      "Wall time: 9.3 µs\n"
     ]
    }
   ],
   "source": [
    "%%time\n",
    "#clf.fit(train_fit_sparse[:n], train_fit['sellingprice'][:n])"
   ]
  },
  {
   "cell_type": "code",
   "execution_count": 226,
   "id": "7XrR94_xwCb0",
   "metadata": {
    "executionInfo": {
     "elapsed": 13,
     "status": "ok",
     "timestamp": 1694150859462,
     "user": {
      "displayName": "Андрей Медведев",
      "userId": "02560461935100345008"
     },
     "user_tz": -180
    },
    "id": "7XrR94_xwCb0"
   },
   "outputs": [],
   "source": [
    "#round(-clf.best_score_, 4)"
   ]
  },
  {
   "cell_type": "code",
   "execution_count": 227,
   "id": "XAdzNU2iUmLw",
   "metadata": {
    "executionInfo": {
     "elapsed": 13,
     "status": "ok",
     "timestamp": 1694150859462,
     "user": {
      "displayName": "Андрей Медведев",
      "userId": "02560461935100345008"
     },
     "user_tz": -180
    },
    "id": "XAdzNU2iUmLw"
   },
   "outputs": [],
   "source": [
    "#clf.best_params_"
   ]
  },
  {
   "cell_type": "markdown",
   "id": "Z4MJhLs_XKTp",
   "metadata": {
    "id": "Z4MJhLs_XKTp"
   },
   "source": [
    "#### Результаты для разных гипер_параметров\n",
    "\n",
    "#### Results for different hyperparameters\n",
    "\n",
    "0.4796 {'max_depth': 8,\n",
    " 'min_samples_leaf': 1,\n",
    " 'min_samples_split': 2,\n",
    " 'n_estimators': 20}\n",
    "\n",
    "0.2008 {'max_depth': 64,\n",
    " 'min_samples_leaf': 4,\n",
    " 'min_samples_split': 2,\n",
    " 'n_estimators': 20} Wall time: 1h 43min 6s\n"
   ]
  },
  {
   "cell_type": "code",
   "execution_count": 228,
   "id": "2PFBtUhqOTrI",
   "metadata": {
    "executionInfo": {
     "elapsed": 13,
     "status": "ok",
     "timestamp": 1694150859463,
     "user": {
      "displayName": "Андрей Медведев",
      "userId": "02560461935100345008"
     },
     "user_tz": -180
    },
    "id": "2PFBtUhqOTrI"
   },
   "outputs": [],
   "source": [
    "#заново учим\n",
    "rf_regr = RandomForestRegressor(random_state=STATE,\n",
    "                                max_depth=64,\n",
    "                                n_estimators=40,\n",
    "                                min_samples_leaf=4,\n",
    "                                min_samples_split=2\n",
    "                                )"
   ]
  },
  {
   "cell_type": "code",
   "execution_count": 229,
   "id": "MWbR_gPUOTvc",
   "metadata": {
    "colab": {
     "base_uri": "https://localhost:8080/",
     "height": 127
    },
    "executionInfo": {
     "elapsed": 4846815,
     "status": "ok",
     "timestamp": 1694155706266,
     "user": {
      "displayName": "Андрей Медведев",
      "userId": "02560461935100345008"
     },
     "user_tz": -180
    },
    "id": "MWbR_gPUOTvc",
    "outputId": "94e7cc4c-52d3-4304-ce8b-b98cb2bc48c9"
   },
   "outputs": [
    {
     "name": "stdout",
     "output_type": "stream",
     "text": [
      "CPU times: user 1h 20min 14s, sys: 6.31 s, total: 1h 20min 20s\n",
      "Wall time: 1h 20min 46s\n"
     ]
    },
    {
     "data": {
      "text/html": [
       "<style>#sk-container-id-10 {color: black;background-color: white;}#sk-container-id-10 pre{padding: 0;}#sk-container-id-10 div.sk-toggleable {background-color: white;}#sk-container-id-10 label.sk-toggleable__label {cursor: pointer;display: block;width: 100%;margin-bottom: 0;padding: 0.3em;box-sizing: border-box;text-align: center;}#sk-container-id-10 label.sk-toggleable__label-arrow:before {content: \"▸\";float: left;margin-right: 0.25em;color: #696969;}#sk-container-id-10 label.sk-toggleable__label-arrow:hover:before {color: black;}#sk-container-id-10 div.sk-estimator:hover label.sk-toggleable__label-arrow:before {color: black;}#sk-container-id-10 div.sk-toggleable__content {max-height: 0;max-width: 0;overflow: hidden;text-align: left;background-color: #f0f8ff;}#sk-container-id-10 div.sk-toggleable__content pre {margin: 0.2em;color: black;border-radius: 0.25em;background-color: #f0f8ff;}#sk-container-id-10 input.sk-toggleable__control:checked~div.sk-toggleable__content {max-height: 200px;max-width: 100%;overflow: auto;}#sk-container-id-10 input.sk-toggleable__control:checked~label.sk-toggleable__label-arrow:before {content: \"▾\";}#sk-container-id-10 div.sk-estimator input.sk-toggleable__control:checked~label.sk-toggleable__label {background-color: #d4ebff;}#sk-container-id-10 div.sk-label input.sk-toggleable__control:checked~label.sk-toggleable__label {background-color: #d4ebff;}#sk-container-id-10 input.sk-hidden--visually {border: 0;clip: rect(1px 1px 1px 1px);clip: rect(1px, 1px, 1px, 1px);height: 1px;margin: -1px;overflow: hidden;padding: 0;position: absolute;width: 1px;}#sk-container-id-10 div.sk-estimator {font-family: monospace;background-color: #f0f8ff;border: 1px dotted black;border-radius: 0.25em;box-sizing: border-box;margin-bottom: 0.5em;}#sk-container-id-10 div.sk-estimator:hover {background-color: #d4ebff;}#sk-container-id-10 div.sk-parallel-item::after {content: \"\";width: 100%;border-bottom: 1px solid gray;flex-grow: 1;}#sk-container-id-10 div.sk-label:hover label.sk-toggleable__label {background-color: #d4ebff;}#sk-container-id-10 div.sk-serial::before {content: \"\";position: absolute;border-left: 1px solid gray;box-sizing: border-box;top: 0;bottom: 0;left: 50%;z-index: 0;}#sk-container-id-10 div.sk-serial {display: flex;flex-direction: column;align-items: center;background-color: white;padding-right: 0.2em;padding-left: 0.2em;position: relative;}#sk-container-id-10 div.sk-item {position: relative;z-index: 1;}#sk-container-id-10 div.sk-parallel {display: flex;align-items: stretch;justify-content: center;background-color: white;position: relative;}#sk-container-id-10 div.sk-item::before, #sk-container-id-10 div.sk-parallel-item::before {content: \"\";position: absolute;border-left: 1px solid gray;box-sizing: border-box;top: 0;bottom: 0;left: 50%;z-index: -1;}#sk-container-id-10 div.sk-parallel-item {display: flex;flex-direction: column;z-index: 1;position: relative;background-color: white;}#sk-container-id-10 div.sk-parallel-item:first-child::after {align-self: flex-end;width: 50%;}#sk-container-id-10 div.sk-parallel-item:last-child::after {align-self: flex-start;width: 50%;}#sk-container-id-10 div.sk-parallel-item:only-child::after {width: 0;}#sk-container-id-10 div.sk-dashed-wrapped {border: 1px dashed gray;margin: 0 0.4em 0.5em 0.4em;box-sizing: border-box;padding-bottom: 0.4em;background-color: white;}#sk-container-id-10 div.sk-label label {font-family: monospace;font-weight: bold;display: inline-block;line-height: 1.2em;}#sk-container-id-10 div.sk-label-container {text-align: center;}#sk-container-id-10 div.sk-container {/* jupyter's `normalize.less` sets `[hidden] { display: none; }` but bootstrap.min.css set `[hidden] { display: none !important; }` so we also need the `!important` here to be able to override the default hidden behavior on the sphinx rendered scikit-learn.org. See: https://github.com/scikit-learn/scikit-learn/issues/21755 */display: inline-block !important;position: relative;}#sk-container-id-10 div.sk-text-repr-fallback {display: none;}</style><div id=\"sk-container-id-10\" class=\"sk-top-container\"><div class=\"sk-text-repr-fallback\"><pre>RandomForestRegressor(max_depth=64, min_samples_leaf=4, n_estimators=40,\n",
       "                      random_state=33443)</pre><b>In a Jupyter environment, please rerun this cell to show the HTML representation or trust the notebook. <br />On GitHub, the HTML representation is unable to render, please try loading this page with nbviewer.org.</b></div><div class=\"sk-container\" hidden><div class=\"sk-item\"><div class=\"sk-estimator sk-toggleable\"><input class=\"sk-toggleable__control sk-hidden--visually\" id=\"sk-estimator-id-22\" type=\"checkbox\" checked><label for=\"sk-estimator-id-22\" class=\"sk-toggleable__label sk-toggleable__label-arrow\">RandomForestRegressor</label><div class=\"sk-toggleable__content\"><pre>RandomForestRegressor(max_depth=64, min_samples_leaf=4, n_estimators=40,\n",
       "                      random_state=33443)</pre></div></div></div></div></div>"
      ],
      "text/plain": [
       "RandomForestRegressor(max_depth=64, min_samples_leaf=4, n_estimators=40,\n",
       "                      random_state=33443)"
      ]
     },
     "execution_count": 229,
     "metadata": {},
     "output_type": "execute_result"
    }
   ],
   "source": [
    "%%time\n",
    "rf_regr.fit(train_fit_sparse[:n], train_fit['sellingprice'][:n])"
   ]
  },
  {
   "cell_type": "code",
   "execution_count": 229,
   "id": "2ebvibyGUmUh",
   "metadata": {
    "executionInfo": {
     "elapsed": 122,
     "status": "ok",
     "timestamp": 1694155706270,
     "user": {
      "displayName": "Андрей Медведев",
      "userId": "02560461935100345008"
     },
     "user_tz": -180
    },
    "id": "2ebvibyGUmUh"
   },
   "outputs": [],
   "source": []
  },
  {
   "cell_type": "markdown",
   "id": "qrr1rc1SUWty",
   "metadata": {
    "id": "qrr1rc1SUWty"
   },
   "source": [
    "## 7. Получение предсказаний на тестовой выборке\n",
    "## 7. Getting predictions on a test sample"
   ]
  },
  {
   "cell_type": "code",
   "execution_count": 238,
   "id": "pgGO1VgNswgh",
   "metadata": {
    "executionInfo": {
     "elapsed": 2719,
     "status": "ok",
     "timestamp": 1694158268155,
     "user": {
      "displayName": "Андрей Медведев",
      "userId": "02560461935100345008"
     },
     "user_tz": -180
    },
    "id": "pgGO1VgNswgh"
   },
   "outputs": [],
   "source": [
    "#предсказания на случайном лесе\n",
    "#predictions on a random forest\n",
    "\n",
    "pred_test = rf_regr.predict(test_pr_sparse[:n])"
   ]
  },
  {
   "cell_type": "code",
   "execution_count": 239,
   "id": "jCBfPM-Qi5Qb",
   "metadata": {
    "colab": {
     "base_uri": "https://localhost:8080/"
    },
    "executionInfo": {
     "elapsed": 403,
     "status": "ok",
     "timestamp": 1694158270892,
     "user": {
      "displayName": "Андрей Медведев",
      "userId": "02560461935100345008"
     },
     "user_tz": -180
    },
    "id": "jCBfPM-Qi5Qb",
    "outputId": "bc40e0d8-0dd4-46a0-d5e5-8cb1b45159b4"
   },
   "outputs": [
    {
     "data": {
      "text/plain": [
       "(336.924930971806, 155611.35776029524)"
      ]
     },
     "execution_count": 239,
     "metadata": {},
     "output_type": "execute_result"
    }
   ],
   "source": [
    "#min and max values of predictions\n",
    "pred_test.min(), pred_test.max()"
   ]
  },
  {
   "cell_type": "code",
   "execution_count": 240,
   "id": "aNQUOUILX4ZO",
   "metadata": {
    "executionInfo": {
     "elapsed": 2,
     "status": "ok",
     "timestamp": 1694158281545,
     "user": {
      "displayName": "Андрей Медведев",
      "userId": "02560461935100345008"
     },
     "user_tz": -180
    },
    "id": "aNQUOUILX4ZO"
   },
   "outputs": [],
   "source": []
  },
  {
   "cell_type": "markdown",
   "id": "4-UEtZs8X5SE",
   "metadata": {
    "id": "4-UEtZs8X5SE"
   },
   "source": [
    "## 8. сборка выходного файла для платформы каггл\n",
    "## 8. building the output file for the Kaggle platform"
   ]
  },
  {
   "cell_type": "code",
   "execution_count": 241,
   "id": "pXdPfHUkYupd",
   "metadata": {
    "executionInfo": {
     "elapsed": 5,
     "status": "ok",
     "timestamp": 1694158282817,
     "user": {
      "displayName": "Андрей Медведев",
      "userId": "02560461935100345008"
     },
     "user_tz": -180
    },
    "id": "pXdPfHUkYupd"
   },
   "outputs": [],
   "source": [
    "pred_test = pd.Series(pred_test)"
   ]
  },
  {
   "cell_type": "code",
   "execution_count": 242,
   "id": "lNnc5a7KX4i_",
   "metadata": {
    "colab": {
     "base_uri": "https://localhost:8080/",
     "height": 424
    },
    "executionInfo": {
     "elapsed": 9,
     "status": "ok",
     "timestamp": 1694158285744,
     "user": {
      "displayName": "Андрей Медведев",
      "userId": "02560461935100345008"
     },
     "user_tz": -180
    },
    "id": "lNnc5a7KX4i_",
    "outputId": "27689278-550f-49c8-d566-e6064ac080ba"
   },
   "outputs": [
    {
     "data": {
      "text/html": [
       "\n",
       "  <div id=\"df-c5948dc0-20ce-4ca8-bfbf-30c44752db5a\" class=\"colab-df-container\">\n",
       "    <div>\n",
       "<style scoped>\n",
       "    .dataframe tbody tr th:only-of-type {\n",
       "        vertical-align: middle;\n",
       "    }\n",
       "\n",
       "    .dataframe tbody tr th {\n",
       "        vertical-align: top;\n",
       "    }\n",
       "\n",
       "    .dataframe thead th {\n",
       "        text-align: right;\n",
       "    }\n",
       "</style>\n",
       "<table border=\"1\" class=\"dataframe\">\n",
       "  <thead>\n",
       "    <tr style=\"text-align: right;\">\n",
       "      <th></th>\n",
       "      <th>vin</th>\n",
       "      <th>0</th>\n",
       "    </tr>\n",
       "  </thead>\n",
       "  <tbody>\n",
       "    <tr>\n",
       "      <th>0</th>\n",
       "      <td>1g6dp567450124779</td>\n",
       "      <td>3681.893759</td>\n",
       "    </tr>\n",
       "    <tr>\n",
       "      <th>1</th>\n",
       "      <td>1gtw7fca7e1902207</td>\n",
       "      <td>22698.299531</td>\n",
       "    </tr>\n",
       "    <tr>\n",
       "      <th>2</th>\n",
       "      <td>jn8az1mw6dw303497</td>\n",
       "      <td>19065.675213</td>\n",
       "    </tr>\n",
       "    <tr>\n",
       "      <th>3</th>\n",
       "      <td>2g1wf5e34d1160703</td>\n",
       "      <td>8848.026651</td>\n",
       "    </tr>\n",
       "    <tr>\n",
       "      <th>4</th>\n",
       "      <td>1n6aa0ec3dn301209</td>\n",
       "      <td>21664.080943</td>\n",
       "    </tr>\n",
       "    <tr>\n",
       "      <th>...</th>\n",
       "      <td>...</td>\n",
       "      <td>...</td>\n",
       "    </tr>\n",
       "    <tr>\n",
       "      <th>110053</th>\n",
       "      <td>1j4aa2d17bl584330</td>\n",
       "      <td>17032.486004</td>\n",
       "    </tr>\n",
       "    <tr>\n",
       "      <th>110054</th>\n",
       "      <td>jthbf1d23e5007526</td>\n",
       "      <td>29996.007499</td>\n",
       "    </tr>\n",
       "    <tr>\n",
       "      <th>110055</th>\n",
       "      <td>1n4ba41e54c831950</td>\n",
       "      <td>3559.134029</td>\n",
       "    </tr>\n",
       "    <tr>\n",
       "      <th>110056</th>\n",
       "      <td>jn1az4eh3dm382431</td>\n",
       "      <td>16152.670590</td>\n",
       "    </tr>\n",
       "    <tr>\n",
       "      <th>110057</th>\n",
       "      <td>2g1fa1e32c9193058</td>\n",
       "      <td>15847.386107</td>\n",
       "    </tr>\n",
       "  </tbody>\n",
       "</table>\n",
       "<p>110058 rows × 2 columns</p>\n",
       "</div>\n",
       "    <div class=\"colab-df-buttons\">\n",
       "\n",
       "  <div class=\"colab-df-container\">\n",
       "    <button class=\"colab-df-convert\" onclick=\"convertToInteractive('df-c5948dc0-20ce-4ca8-bfbf-30c44752db5a')\"\n",
       "            title=\"Convert this dataframe to an interactive table.\"\n",
       "            style=\"display:none;\">\n",
       "\n",
       "  <svg xmlns=\"http://www.w3.org/2000/svg\" height=\"24px\" viewBox=\"0 -960 960 960\">\n",
       "    <path d=\"M120-120v-720h720v720H120Zm60-500h600v-160H180v160Zm220 220h160v-160H400v160Zm0 220h160v-160H400v160ZM180-400h160v-160H180v160Zm440 0h160v-160H620v160ZM180-180h160v-160H180v160Zm440 0h160v-160H620v160Z\"/>\n",
       "  </svg>\n",
       "    </button>\n",
       "\n",
       "  <style>\n",
       "    .colab-df-container {\n",
       "      display:flex;\n",
       "      gap: 12px;\n",
       "    }\n",
       "\n",
       "    .colab-df-convert {\n",
       "      background-color: #E8F0FE;\n",
       "      border: none;\n",
       "      border-radius: 50%;\n",
       "      cursor: pointer;\n",
       "      display: none;\n",
       "      fill: #1967D2;\n",
       "      height: 32px;\n",
       "      padding: 0 0 0 0;\n",
       "      width: 32px;\n",
       "    }\n",
       "\n",
       "    .colab-df-convert:hover {\n",
       "      background-color: #E2EBFA;\n",
       "      box-shadow: 0px 1px 2px rgba(60, 64, 67, 0.3), 0px 1px 3px 1px rgba(60, 64, 67, 0.15);\n",
       "      fill: #174EA6;\n",
       "    }\n",
       "\n",
       "    .colab-df-buttons div {\n",
       "      margin-bottom: 4px;\n",
       "    }\n",
       "\n",
       "    [theme=dark] .colab-df-convert {\n",
       "      background-color: #3B4455;\n",
       "      fill: #D2E3FC;\n",
       "    }\n",
       "\n",
       "    [theme=dark] .colab-df-convert:hover {\n",
       "      background-color: #434B5C;\n",
       "      box-shadow: 0px 1px 3px 1px rgba(0, 0, 0, 0.15);\n",
       "      filter: drop-shadow(0px 1px 2px rgba(0, 0, 0, 0.3));\n",
       "      fill: #FFFFFF;\n",
       "    }\n",
       "  </style>\n",
       "\n",
       "    <script>\n",
       "      const buttonEl =\n",
       "        document.querySelector('#df-c5948dc0-20ce-4ca8-bfbf-30c44752db5a button.colab-df-convert');\n",
       "      buttonEl.style.display =\n",
       "        google.colab.kernel.accessAllowed ? 'block' : 'none';\n",
       "\n",
       "      async function convertToInteractive(key) {\n",
       "        const element = document.querySelector('#df-c5948dc0-20ce-4ca8-bfbf-30c44752db5a');\n",
       "        const dataTable =\n",
       "          await google.colab.kernel.invokeFunction('convertToInteractive',\n",
       "                                                    [key], {});\n",
       "        if (!dataTable) return;\n",
       "\n",
       "        const docLinkHtml = 'Like what you see? Visit the ' +\n",
       "          '<a target=\"_blank\" href=https://colab.research.google.com/notebooks/data_table.ipynb>data table notebook</a>'\n",
       "          + ' to learn more about interactive tables.';\n",
       "        element.innerHTML = '';\n",
       "        dataTable['output_type'] = 'display_data';\n",
       "        await google.colab.output.renderOutput(dataTable, element);\n",
       "        const docLink = document.createElement('div');\n",
       "        docLink.innerHTML = docLinkHtml;\n",
       "        element.appendChild(docLink);\n",
       "      }\n",
       "    </script>\n",
       "  </div>\n",
       "\n",
       "\n",
       "<div id=\"df-79f457e9-d409-4d23-8699-9630bf4f1750\">\n",
       "  <button class=\"colab-df-quickchart\" onclick=\"quickchart('df-79f457e9-d409-4d23-8699-9630bf4f1750')\"\n",
       "            title=\"Suggest charts.\"\n",
       "            style=\"display:none;\">\n",
       "\n",
       "<svg xmlns=\"http://www.w3.org/2000/svg\" height=\"24px\"viewBox=\"0 0 24 24\"\n",
       "     width=\"24px\">\n",
       "    <g>\n",
       "        <path d=\"M19 3H5c-1.1 0-2 .9-2 2v14c0 1.1.9 2 2 2h14c1.1 0 2-.9 2-2V5c0-1.1-.9-2-2-2zM9 17H7v-7h2v7zm4 0h-2V7h2v10zm4 0h-2v-4h2v4z\"/>\n",
       "    </g>\n",
       "</svg>\n",
       "  </button>\n",
       "\n",
       "<style>\n",
       "  .colab-df-quickchart {\n",
       "      --bg-color: #E8F0FE;\n",
       "      --fill-color: #1967D2;\n",
       "      --hover-bg-color: #E2EBFA;\n",
       "      --hover-fill-color: #174EA6;\n",
       "      --disabled-fill-color: #AAA;\n",
       "      --disabled-bg-color: #DDD;\n",
       "  }\n",
       "\n",
       "  [theme=dark] .colab-df-quickchart {\n",
       "      --bg-color: #3B4455;\n",
       "      --fill-color: #D2E3FC;\n",
       "      --hover-bg-color: #434B5C;\n",
       "      --hover-fill-color: #FFFFFF;\n",
       "      --disabled-bg-color: #3B4455;\n",
       "      --disabled-fill-color: #666;\n",
       "  }\n",
       "\n",
       "  .colab-df-quickchart {\n",
       "    background-color: var(--bg-color);\n",
       "    border: none;\n",
       "    border-radius: 50%;\n",
       "    cursor: pointer;\n",
       "    display: none;\n",
       "    fill: var(--fill-color);\n",
       "    height: 32px;\n",
       "    padding: 0;\n",
       "    width: 32px;\n",
       "  }\n",
       "\n",
       "  .colab-df-quickchart:hover {\n",
       "    background-color: var(--hover-bg-color);\n",
       "    box-shadow: 0 1px 2px rgba(60, 64, 67, 0.3), 0 1px 3px 1px rgba(60, 64, 67, 0.15);\n",
       "    fill: var(--button-hover-fill-color);\n",
       "  }\n",
       "\n",
       "  .colab-df-quickchart-complete:disabled,\n",
       "  .colab-df-quickchart-complete:disabled:hover {\n",
       "    background-color: var(--disabled-bg-color);\n",
       "    fill: var(--disabled-fill-color);\n",
       "    box-shadow: none;\n",
       "  }\n",
       "\n",
       "  .colab-df-spinner {\n",
       "    border: 2px solid var(--fill-color);\n",
       "    border-color: transparent;\n",
       "    border-bottom-color: var(--fill-color);\n",
       "    animation:\n",
       "      spin 1s steps(1) infinite;\n",
       "  }\n",
       "\n",
       "  @keyframes spin {\n",
       "    0% {\n",
       "      border-color: transparent;\n",
       "      border-bottom-color: var(--fill-color);\n",
       "      border-left-color: var(--fill-color);\n",
       "    }\n",
       "    20% {\n",
       "      border-color: transparent;\n",
       "      border-left-color: var(--fill-color);\n",
       "      border-top-color: var(--fill-color);\n",
       "    }\n",
       "    30% {\n",
       "      border-color: transparent;\n",
       "      border-left-color: var(--fill-color);\n",
       "      border-top-color: var(--fill-color);\n",
       "      border-right-color: var(--fill-color);\n",
       "    }\n",
       "    40% {\n",
       "      border-color: transparent;\n",
       "      border-right-color: var(--fill-color);\n",
       "      border-top-color: var(--fill-color);\n",
       "    }\n",
       "    60% {\n",
       "      border-color: transparent;\n",
       "      border-right-color: var(--fill-color);\n",
       "    }\n",
       "    80% {\n",
       "      border-color: transparent;\n",
       "      border-right-color: var(--fill-color);\n",
       "      border-bottom-color: var(--fill-color);\n",
       "    }\n",
       "    90% {\n",
       "      border-color: transparent;\n",
       "      border-bottom-color: var(--fill-color);\n",
       "    }\n",
       "  }\n",
       "</style>\n",
       "\n",
       "  <script>\n",
       "    async function quickchart(key) {\n",
       "      const quickchartButtonEl =\n",
       "        document.querySelector('#' + key + ' button');\n",
       "      quickchartButtonEl.disabled = true;  // To prevent multiple clicks.\n",
       "      quickchartButtonEl.classList.add('colab-df-spinner');\n",
       "      try {\n",
       "        const charts = await google.colab.kernel.invokeFunction(\n",
       "            'suggestCharts', [key], {});\n",
       "      } catch (error) {\n",
       "        console.error('Error during call to suggestCharts:', error);\n",
       "      }\n",
       "      quickchartButtonEl.classList.remove('colab-df-spinner');\n",
       "      quickchartButtonEl.classList.add('colab-df-quickchart-complete');\n",
       "    }\n",
       "    (() => {\n",
       "      let quickchartButtonEl =\n",
       "        document.querySelector('#df-79f457e9-d409-4d23-8699-9630bf4f1750 button');\n",
       "      quickchartButtonEl.style.display =\n",
       "        google.colab.kernel.accessAllowed ? 'block' : 'none';\n",
       "    })();\n",
       "  </script>\n",
       "</div>\n",
       "    </div>\n",
       "  </div>\n"
      ],
      "text/plain": [
       "                      vin             0\n",
       "0       1g6dp567450124779   3681.893759\n",
       "1       1gtw7fca7e1902207  22698.299531\n",
       "2       jn8az1mw6dw303497  19065.675213\n",
       "3       2g1wf5e34d1160703   8848.026651\n",
       "4       1n6aa0ec3dn301209  21664.080943\n",
       "...                   ...           ...\n",
       "110053  1j4aa2d17bl584330  17032.486004\n",
       "110054  jthbf1d23e5007526  29996.007499\n",
       "110055  1n4ba41e54c831950   3559.134029\n",
       "110056  jn1az4eh3dm382431  16152.670590\n",
       "110057  2g1fa1e32c9193058  15847.386107\n",
       "\n",
       "[110058 rows x 2 columns]"
      ]
     },
     "execution_count": 242,
     "metadata": {},
     "output_type": "execute_result"
    }
   ],
   "source": [
    "pred_out = pd.concat([test['vin'], pred_test], axis=1)\n",
    "pred_out"
   ]
  },
  {
   "cell_type": "code",
   "execution_count": 243,
   "id": "kT9rKioHYBBZ",
   "metadata": {
    "executionInfo": {
     "elapsed": 7,
     "status": "ok",
     "timestamp": 1694158289473,
     "user": {
      "displayName": "Андрей Медведев",
      "userId": "02560461935100345008"
     },
     "user_tz": -180
    },
    "id": "kT9rKioHYBBZ"
   },
   "outputs": [],
   "source": [
    "pred_out.columns = ['vin', 'sellingprice']"
   ]
  },
  {
   "cell_type": "code",
   "execution_count": 244,
   "id": "fJuLRBluYBGW",
   "metadata": {
    "colab": {
     "base_uri": "https://localhost:8080/"
    },
    "executionInfo": {
     "elapsed": 8,
     "status": "ok",
     "timestamp": 1694158290642,
     "user": {
      "displayName": "Андрей Медведев",
      "userId": "02560461935100345008"
     },
     "user_tz": -180
    },
    "id": "fJuLRBluYBGW",
    "outputId": "d4ab9d7d-184d-4deb-bdf0-745706d6053c"
   },
   "outputs": [
    {
     "name": "stdout",
     "output_type": "stream",
     "text": [
      "<class 'pandas.core.frame.DataFrame'>\n",
      "RangeIndex: 110058 entries, 0 to 110057\n",
      "Data columns (total 2 columns):\n",
      " #   Column        Non-Null Count   Dtype  \n",
      "---  ------        --------------   -----  \n",
      " 0   vin           110058 non-null  object \n",
      " 1   sellingprice  110058 non-null  float64\n",
      "dtypes: float64(1), object(1)\n",
      "memory usage: 1.7+ MB\n"
     ]
    }
   ],
   "source": [
    "pred_out.info()"
   ]
  },
  {
   "cell_type": "code",
   "execution_count": 245,
   "id": "LcpM3uk_YBJh",
   "metadata": {
    "executionInfo": {
     "elapsed": 867,
     "status": "ok",
     "timestamp": 1694158304542,
     "user": {
      "displayName": "Андрей Медведев",
      "userId": "02560461935100345008"
     },
     "user_tz": -180
    },
    "id": "LcpM3uk_YBJh"
   },
   "outputs": [],
   "source": [
    "#сохранение результатов на диск\n",
    "#saving results to disk\n",
    "\n",
    "patch = os.path.join(DATA_PATH, 'pred_out.csv')\n",
    "pd.DataFrame(pred_out).to_csv(patch, index=False)"
   ]
  },
  {
   "cell_type": "markdown",
   "id": "2a4bfdf0",
   "metadata": {},
   "source": [
    "## The result \n",
    "according to the Kaggle platform is:\n",
    "\n",
    "Public Score - 18.01\n",
    "\n",
    "Private Score - 18.14"
   ]
  },
  {
   "cell_type": "code",
   "execution_count": null,
   "id": "063c8855",
   "metadata": {},
   "outputs": [],
   "source": []
  }
 ],
 "metadata": {
  "colab": {
   "provenance": [
    {
     "file_id": "1bofIE9Alhx2w7D_Kx_gS7Jula0dHKml1",
     "timestamp": 1693162344394
    }
   ]
  },
  "kernelspec": {
   "display_name": "Python 3 (ipykernel)",
   "language": "python",
   "name": "python3"
  },
  "language_info": {
   "codemirror_mode": {
    "name": "ipython",
    "version": 3
   },
   "file_extension": ".py",
   "mimetype": "text/x-python",
   "name": "python",
   "nbconvert_exporter": "python",
   "pygments_lexer": "ipython3",
   "version": "3.9.2"
  }
 },
 "nbformat": 4,
 "nbformat_minor": 5
}
