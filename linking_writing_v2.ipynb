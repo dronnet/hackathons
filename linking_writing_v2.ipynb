{
 "cells": [
  {
   "cell_type": "code",
   "execution_count": null,
   "id": "47ad559a",
   "metadata": {
    "id": "mCGixmGXVgbW",
    "papermill": {
     "duration": 0.040692,
     "end_time": "2023-11-08T08:31:51.180669",
     "exception": false,
     "start_time": "2023-11-08T08:31:51.139977",
     "status": "completed"
    },
    "tags": []
   },
   "outputs": [],
   "source": []
  },
  {
   "cell_type": "markdown",
   "id": "5e6dea0b",
   "metadata": {
    "id": "l2ApPbJZVoMn",
    "papermill": {
     "duration": 0.03888,
     "end_time": "2023-11-08T08:31:51.260443",
     "exception": false,
     "start_time": "2023-11-08T08:31:51.221563",
     "status": "completed"
    },
    "tags": []
   },
   "source": [
    "competition here https://www.kaggle.com/competitions/linking-writing-processes-to-writing-quality/overview\n"
   ]
  },
  {
   "cell_type": "code",
   "execution_count": 1,
   "id": "6ac33bfb",
   "metadata": {
    "execution": {
     "iopub.execute_input": "2023-11-08T08:31:51.343025Z",
     "iopub.status.busy": "2023-11-08T08:31:51.342605Z",
     "iopub.status.idle": "2023-11-08T08:31:51.347898Z",
     "shell.execute_reply": "2023-11-08T08:31:51.346818Z"
    },
    "id": "vN9jHHau3NcM",
    "outputId": "946f2c53-0ca1-4e82-af2d-26de992148c0",
    "papermill": {
     "duration": 0.050267,
     "end_time": "2023-11-08T08:31:51.350235",
     "exception": false,
     "start_time": "2023-11-08T08:31:51.299968",
     "status": "completed"
    },
    "tags": []
   },
   "outputs": [],
   "source": [
    "#!pip install optuna -q"
   ]
  },
  {
   "cell_type": "code",
   "execution_count": 2,
   "id": "0fed5289",
   "metadata": {
    "execution": {
     "iopub.execute_input": "2023-11-08T08:31:51.494817Z",
     "iopub.status.busy": "2023-11-08T08:31:51.494383Z",
     "iopub.status.idle": "2023-11-08T08:31:55.460769Z",
     "shell.execute_reply": "2023-11-08T08:31:55.459660Z"
    },
    "id": "6nSJBdAEXbLM",
    "papermill": {
     "duration": 4.01002,
     "end_time": "2023-11-08T08:31:55.463803",
     "exception": false,
     "start_time": "2023-11-08T08:31:51.453783",
     "status": "completed"
    },
    "tags": []
   },
   "outputs": [],
   "source": [
    "import pandas as pd\n",
    "import numpy as np\n",
    "import os\n",
    "#import json\n",
    "from matplotlib import pyplot as plt\n",
    "import seaborn as sns\n",
    "from sklearn.pipeline import Pipeline\n",
    "from sklearn.preprocessing import FunctionTransformer\n",
    "#import phik\n",
    "#from scipy.stats import kstest\n",
    "\n",
    "from sklearn.model_selection import train_test_split, GroupShuffleSplit\n",
    "import optuna\n",
    "\n",
    "from sklearn.ensemble import RandomForestClassifier\n",
    "from sklearn.linear_model import LinearRegression\n",
    "from sklearn.ensemble import RandomForestRegressor\n",
    "\n",
    "from sklearn.metrics import mean_squared_error"
   ]
  },
  {
   "cell_type": "code",
   "execution_count": null,
   "id": "69efaf93",
   "metadata": {
    "papermill": {
     "duration": 0.039457,
     "end_time": "2023-11-08T08:31:55.543058",
     "exception": false,
     "start_time": "2023-11-08T08:31:55.503601",
     "status": "completed"
    },
    "tags": []
   },
   "outputs": [],
   "source": []
  },
  {
   "cell_type": "code",
   "execution_count": 3,
   "id": "1b81b680",
   "metadata": {
    "execution": {
     "iopub.execute_input": "2023-11-08T08:31:55.624710Z",
     "iopub.status.busy": "2023-11-08T08:31:55.623798Z",
     "iopub.status.idle": "2023-11-08T08:31:55.628980Z",
     "shell.execute_reply": "2023-11-08T08:31:55.628147Z"
    },
    "id": "UQKaYXhFXoEg",
    "papermill": {
     "duration": 0.048644,
     "end_time": "2023-11-08T08:31:55.631257",
     "exception": false,
     "start_time": "2023-11-08T08:31:55.582613",
     "status": "completed"
    },
    "tags": []
   },
   "outputs": [],
   "source": [
    "#константы\n",
    "STATE = 33443\n",
    "\n",
    "#Путь к каталогу с данными\n",
    "DATA_PATH = 'linking_writing/'\n",
    "DATA_PATH_GOOGLE = '/content/drive/MyDrive/Peton/Kaggle_linking_writing/'\n",
    "\n",
    "DATA_PATH = '/kaggle/input/linking-writing-processes-to-writing-quality/'\n",
    "DATA_PATH_GOOGLE = '/kaggle/input/linking-writing-processes-to-writing-quality/'"
   ]
  },
  {
   "cell_type": "markdown",
   "id": "182bf490",
   "metadata": {
    "id": "ics3eZ0rXpFW",
    "papermill": {
     "duration": 0.040129,
     "end_time": "2023-11-08T08:31:55.712237",
     "exception": false,
     "start_time": "2023-11-08T08:31:55.672108",
     "status": "completed"
    },
    "tags": []
   },
   "source": [
    "## read all data"
   ]
  },
  {
   "cell_type": "code",
   "execution_count": 4,
   "id": "2d892c98",
   "metadata": {
    "execution": {
     "iopub.execute_input": "2023-11-08T08:31:55.794800Z",
     "iopub.status.busy": "2023-11-08T08:31:55.794084Z",
     "iopub.status.idle": "2023-11-08T08:31:55.832831Z",
     "shell.execute_reply": "2023-11-08T08:31:55.832018Z"
    },
    "id": "N4ILeeVYXriX",
    "outputId": "67cf5945-6d10-43b4-99c1-5da3fe7edc15",
    "papermill": {
     "duration": 0.083385,
     "end_time": "2023-11-08T08:31:55.835419",
     "exception": false,
     "start_time": "2023-11-08T08:31:55.752034",
     "status": "completed"
    },
    "tags": []
   },
   "outputs": [
    {
     "data": {
      "text/html": [
       "<div>\n",
       "<style scoped>\n",
       "    .dataframe tbody tr th:only-of-type {\n",
       "        vertical-align: middle;\n",
       "    }\n",
       "\n",
       "    .dataframe tbody tr th {\n",
       "        vertical-align: top;\n",
       "    }\n",
       "\n",
       "    .dataframe thead th {\n",
       "        text-align: right;\n",
       "    }\n",
       "</style>\n",
       "<table border=\"1\" class=\"dataframe\">\n",
       "  <thead>\n",
       "    <tr style=\"text-align: right;\">\n",
       "      <th></th>\n",
       "      <th>id</th>\n",
       "      <th>score</th>\n",
       "    </tr>\n",
       "  </thead>\n",
       "  <tbody>\n",
       "    <tr>\n",
       "      <th>0</th>\n",
       "      <td>0000aaaa</td>\n",
       "      <td>1.0</td>\n",
       "    </tr>\n",
       "    <tr>\n",
       "      <th>1</th>\n",
       "      <td>2222bbbb</td>\n",
       "      <td>2.0</td>\n",
       "    </tr>\n",
       "    <tr>\n",
       "      <th>2</th>\n",
       "      <td>4444cccc</td>\n",
       "      <td>3.0</td>\n",
       "    </tr>\n",
       "  </tbody>\n",
       "</table>\n",
       "</div>"
      ],
      "text/plain": [
       "         id  score\n",
       "0  0000aaaa    1.0\n",
       "1  2222bbbb    2.0\n",
       "2  4444cccc    3.0"
      ]
     },
     "execution_count": 4,
     "metadata": {},
     "output_type": "execute_result"
    }
   ],
   "source": [
    "#прочитаем данные sample_submission\n",
    "patch = os.path.join(DATA_PATH, 'sample_submission.csv')\n",
    "\n",
    "sample_submission = pd.read_csv(patch)\n",
    "sample_submission.head()"
   ]
  },
  {
   "cell_type": "code",
   "execution_count": 5,
   "id": "a64b6a03",
   "metadata": {
    "execution": {
     "iopub.execute_input": "2023-11-08T08:31:55.927590Z",
     "iopub.status.busy": "2023-11-08T08:31:55.926661Z",
     "iopub.status.idle": "2023-11-08T08:31:55.952254Z",
     "shell.execute_reply": "2023-11-08T08:31:55.951010Z"
    },
    "id": "ewTMWGL8YPuD",
    "outputId": "48122c51-4646-4161-8ced-a4638ab6c794",
    "papermill": {
     "duration": 0.079479,
     "end_time": "2023-11-08T08:31:55.954772",
     "exception": false,
     "start_time": "2023-11-08T08:31:55.875293",
     "status": "completed"
    },
    "tags": []
   },
   "outputs": [
    {
     "data": {
      "text/html": [
       "<div>\n",
       "<style scoped>\n",
       "    .dataframe tbody tr th:only-of-type {\n",
       "        vertical-align: middle;\n",
       "    }\n",
       "\n",
       "    .dataframe tbody tr th {\n",
       "        vertical-align: top;\n",
       "    }\n",
       "\n",
       "    .dataframe thead th {\n",
       "        text-align: right;\n",
       "    }\n",
       "</style>\n",
       "<table border=\"1\" class=\"dataframe\">\n",
       "  <thead>\n",
       "    <tr style=\"text-align: right;\">\n",
       "      <th></th>\n",
       "      <th>id</th>\n",
       "      <th>event_id</th>\n",
       "      <th>down_time</th>\n",
       "      <th>up_time</th>\n",
       "      <th>action_time</th>\n",
       "      <th>activity</th>\n",
       "      <th>down_event</th>\n",
       "      <th>up_event</th>\n",
       "      <th>text_change</th>\n",
       "      <th>cursor_position</th>\n",
       "      <th>word_count</th>\n",
       "    </tr>\n",
       "  </thead>\n",
       "  <tbody>\n",
       "    <tr>\n",
       "      <th>0</th>\n",
       "      <td>0000aaaa</td>\n",
       "      <td>1</td>\n",
       "      <td>338433</td>\n",
       "      <td>338518</td>\n",
       "      <td>85</td>\n",
       "      <td>Input</td>\n",
       "      <td>Space</td>\n",
       "      <td>Space</td>\n",
       "      <td></td>\n",
       "      <td>0</td>\n",
       "      <td>0</td>\n",
       "    </tr>\n",
       "    <tr>\n",
       "      <th>1</th>\n",
       "      <td>0000aaaa</td>\n",
       "      <td>2</td>\n",
       "      <td>760073</td>\n",
       "      <td>760160</td>\n",
       "      <td>87</td>\n",
       "      <td>Input</td>\n",
       "      <td>Space</td>\n",
       "      <td>Space</td>\n",
       "      <td></td>\n",
       "      <td>1</td>\n",
       "      <td>0</td>\n",
       "    </tr>\n",
       "    <tr>\n",
       "      <th>2</th>\n",
       "      <td>2222bbbb</td>\n",
       "      <td>1</td>\n",
       "      <td>711956</td>\n",
       "      <td>712023</td>\n",
       "      <td>67</td>\n",
       "      <td>Input</td>\n",
       "      <td>q</td>\n",
       "      <td>q</td>\n",
       "      <td>q</td>\n",
       "      <td>0</td>\n",
       "      <td>1</td>\n",
       "    </tr>\n",
       "    <tr>\n",
       "      <th>3</th>\n",
       "      <td>2222bbbb</td>\n",
       "      <td>2</td>\n",
       "      <td>290502</td>\n",
       "      <td>290548</td>\n",
       "      <td>46</td>\n",
       "      <td>Input</td>\n",
       "      <td>q</td>\n",
       "      <td>q</td>\n",
       "      <td>q</td>\n",
       "      <td>1</td>\n",
       "      <td>1</td>\n",
       "    </tr>\n",
       "    <tr>\n",
       "      <th>4</th>\n",
       "      <td>4444cccc</td>\n",
       "      <td>1</td>\n",
       "      <td>635547</td>\n",
       "      <td>635641</td>\n",
       "      <td>94</td>\n",
       "      <td>Input</td>\n",
       "      <td>Space</td>\n",
       "      <td>Space</td>\n",
       "      <td></td>\n",
       "      <td>0</td>\n",
       "      <td>0</td>\n",
       "    </tr>\n",
       "  </tbody>\n",
       "</table>\n",
       "</div>"
      ],
      "text/plain": [
       "         id  event_id  down_time  up_time  action_time activity down_event  \\\n",
       "0  0000aaaa         1     338433   338518           85    Input      Space   \n",
       "1  0000aaaa         2     760073   760160           87    Input      Space   \n",
       "2  2222bbbb         1     711956   712023           67    Input          q   \n",
       "3  2222bbbb         2     290502   290548           46    Input          q   \n",
       "4  4444cccc         1     635547   635641           94    Input      Space   \n",
       "\n",
       "  up_event text_change  cursor_position  word_count  \n",
       "0    Space                            0           0  \n",
       "1    Space                            1           0  \n",
       "2        q           q                0           1  \n",
       "3        q           q                1           1  \n",
       "4    Space                            0           0  "
      ]
     },
     "execution_count": 5,
     "metadata": {},
     "output_type": "execute_result"
    }
   ],
   "source": [
    "#прочитаем данные test_logs\n",
    "patch = os.path.join(DATA_PATH, 'test_logs.csv')\n",
    "\n",
    "test_logs = pd.read_csv(patch)\n",
    "test_logs.head()"
   ]
  },
  {
   "cell_type": "code",
   "execution_count": 6,
   "id": "606c0c8b",
   "metadata": {
    "execution": {
     "iopub.execute_input": "2023-11-08T08:31:56.041091Z",
     "iopub.status.busy": "2023-11-08T08:31:56.040616Z",
     "iopub.status.idle": "2023-11-08T08:32:12.989122Z",
     "shell.execute_reply": "2023-11-08T08:32:12.987957Z"
    },
    "id": "_KV5VGNLYPzC",
    "outputId": "b2a89063-17b5-4c9e-9299-89ebd4b7ea83",
    "papermill": {
     "duration": 16.99729,
     "end_time": "2023-11-08T08:32:12.992965",
     "exception": false,
     "start_time": "2023-11-08T08:31:55.995675",
     "status": "completed"
    },
    "tags": []
   },
   "outputs": [
    {
     "data": {
      "text/html": [
       "<div>\n",
       "<style scoped>\n",
       "    .dataframe tbody tr th:only-of-type {\n",
       "        vertical-align: middle;\n",
       "    }\n",
       "\n",
       "    .dataframe tbody tr th {\n",
       "        vertical-align: top;\n",
       "    }\n",
       "\n",
       "    .dataframe thead th {\n",
       "        text-align: right;\n",
       "    }\n",
       "</style>\n",
       "<table border=\"1\" class=\"dataframe\">\n",
       "  <thead>\n",
       "    <tr style=\"text-align: right;\">\n",
       "      <th></th>\n",
       "      <th>id</th>\n",
       "      <th>event_id</th>\n",
       "      <th>down_time</th>\n",
       "      <th>up_time</th>\n",
       "      <th>action_time</th>\n",
       "      <th>activity</th>\n",
       "      <th>down_event</th>\n",
       "      <th>up_event</th>\n",
       "      <th>text_change</th>\n",
       "      <th>cursor_position</th>\n",
       "      <th>word_count</th>\n",
       "    </tr>\n",
       "  </thead>\n",
       "  <tbody>\n",
       "    <tr>\n",
       "      <th>0</th>\n",
       "      <td>001519c8</td>\n",
       "      <td>1</td>\n",
       "      <td>4526</td>\n",
       "      <td>4557</td>\n",
       "      <td>31</td>\n",
       "      <td>Nonproduction</td>\n",
       "      <td>Leftclick</td>\n",
       "      <td>Leftclick</td>\n",
       "      <td>NoChange</td>\n",
       "      <td>0</td>\n",
       "      <td>0</td>\n",
       "    </tr>\n",
       "    <tr>\n",
       "      <th>1</th>\n",
       "      <td>001519c8</td>\n",
       "      <td>2</td>\n",
       "      <td>4558</td>\n",
       "      <td>4962</td>\n",
       "      <td>404</td>\n",
       "      <td>Nonproduction</td>\n",
       "      <td>Leftclick</td>\n",
       "      <td>Leftclick</td>\n",
       "      <td>NoChange</td>\n",
       "      <td>0</td>\n",
       "      <td>0</td>\n",
       "    </tr>\n",
       "    <tr>\n",
       "      <th>2</th>\n",
       "      <td>001519c8</td>\n",
       "      <td>3</td>\n",
       "      <td>106571</td>\n",
       "      <td>106571</td>\n",
       "      <td>0</td>\n",
       "      <td>Nonproduction</td>\n",
       "      <td>Shift</td>\n",
       "      <td>Shift</td>\n",
       "      <td>NoChange</td>\n",
       "      <td>0</td>\n",
       "      <td>0</td>\n",
       "    </tr>\n",
       "    <tr>\n",
       "      <th>3</th>\n",
       "      <td>001519c8</td>\n",
       "      <td>4</td>\n",
       "      <td>106686</td>\n",
       "      <td>106777</td>\n",
       "      <td>91</td>\n",
       "      <td>Input</td>\n",
       "      <td>q</td>\n",
       "      <td>q</td>\n",
       "      <td>q</td>\n",
       "      <td>1</td>\n",
       "      <td>1</td>\n",
       "    </tr>\n",
       "    <tr>\n",
       "      <th>4</th>\n",
       "      <td>001519c8</td>\n",
       "      <td>5</td>\n",
       "      <td>107196</td>\n",
       "      <td>107323</td>\n",
       "      <td>127</td>\n",
       "      <td>Input</td>\n",
       "      <td>q</td>\n",
       "      <td>q</td>\n",
       "      <td>q</td>\n",
       "      <td>2</td>\n",
       "      <td>1</td>\n",
       "    </tr>\n",
       "  </tbody>\n",
       "</table>\n",
       "</div>"
      ],
      "text/plain": [
       "         id  event_id  down_time  up_time  action_time       activity  \\\n",
       "0  001519c8         1       4526     4557           31  Nonproduction   \n",
       "1  001519c8         2       4558     4962          404  Nonproduction   \n",
       "2  001519c8         3     106571   106571            0  Nonproduction   \n",
       "3  001519c8         4     106686   106777           91          Input   \n",
       "4  001519c8         5     107196   107323          127          Input   \n",
       "\n",
       "  down_event   up_event text_change  cursor_position  word_count  \n",
       "0  Leftclick  Leftclick    NoChange                0           0  \n",
       "1  Leftclick  Leftclick    NoChange                0           0  \n",
       "2      Shift      Shift    NoChange                0           0  \n",
       "3          q          q           q                1           1  \n",
       "4          q          q           q                2           1  "
      ]
     },
     "execution_count": 6,
     "metadata": {},
     "output_type": "execute_result"
    }
   ],
   "source": [
    "#прочитаем данные train_logs\n",
    "patch = os.path.join(DATA_PATH, 'train_logs.csv')\n",
    "\n",
    "train_logs = pd.read_csv(patch)\n",
    "train_logs.head()"
   ]
  },
  {
   "cell_type": "code",
   "execution_count": 7,
   "id": "53518ccc",
   "metadata": {
    "execution": {
     "iopub.execute_input": "2023-11-08T08:32:13.078442Z",
     "iopub.status.busy": "2023-11-08T08:32:13.078037Z",
     "iopub.status.idle": "2023-11-08T08:32:13.097391Z",
     "shell.execute_reply": "2023-11-08T08:32:13.096495Z"
    },
    "id": "V-GYvwjLYP1P",
    "outputId": "6fc1222a-ecf4-4722-aebe-1a6fc15b924a",
    "papermill": {
     "duration": 0.064242,
     "end_time": "2023-11-08T08:32:13.099956",
     "exception": false,
     "start_time": "2023-11-08T08:32:13.035714",
     "status": "completed"
    },
    "tags": []
   },
   "outputs": [
    {
     "data": {
      "text/html": [
       "<div>\n",
       "<style scoped>\n",
       "    .dataframe tbody tr th:only-of-type {\n",
       "        vertical-align: middle;\n",
       "    }\n",
       "\n",
       "    .dataframe tbody tr th {\n",
       "        vertical-align: top;\n",
       "    }\n",
       "\n",
       "    .dataframe thead th {\n",
       "        text-align: right;\n",
       "    }\n",
       "</style>\n",
       "<table border=\"1\" class=\"dataframe\">\n",
       "  <thead>\n",
       "    <tr style=\"text-align: right;\">\n",
       "      <th></th>\n",
       "      <th>id</th>\n",
       "      <th>score</th>\n",
       "    </tr>\n",
       "  </thead>\n",
       "  <tbody>\n",
       "    <tr>\n",
       "      <th>0</th>\n",
       "      <td>001519c8</td>\n",
       "      <td>3.5</td>\n",
       "    </tr>\n",
       "    <tr>\n",
       "      <th>1</th>\n",
       "      <td>0022f953</td>\n",
       "      <td>3.5</td>\n",
       "    </tr>\n",
       "    <tr>\n",
       "      <th>2</th>\n",
       "      <td>0042269b</td>\n",
       "      <td>6.0</td>\n",
       "    </tr>\n",
       "    <tr>\n",
       "      <th>3</th>\n",
       "      <td>0059420b</td>\n",
       "      <td>2.0</td>\n",
       "    </tr>\n",
       "    <tr>\n",
       "      <th>4</th>\n",
       "      <td>0075873a</td>\n",
       "      <td>4.0</td>\n",
       "    </tr>\n",
       "  </tbody>\n",
       "</table>\n",
       "</div>"
      ],
      "text/plain": [
       "         id  score\n",
       "0  001519c8    3.5\n",
       "1  0022f953    3.5\n",
       "2  0042269b    6.0\n",
       "3  0059420b    2.0\n",
       "4  0075873a    4.0"
      ]
     },
     "execution_count": 7,
     "metadata": {},
     "output_type": "execute_result"
    }
   ],
   "source": [
    "#прочитаем данные train_scores\n",
    "patch = os.path.join(DATA_PATH, 'train_scores.csv')\n",
    "\n",
    "train_scores = pd.read_csv(patch)\n",
    "train_scores.head()"
   ]
  },
  {
   "cell_type": "code",
   "execution_count": null,
   "id": "3a86311e",
   "metadata": {
    "id": "SwIHspedYP3i",
    "papermill": {
     "duration": 0.040364,
     "end_time": "2023-11-08T08:32:13.182121",
     "exception": false,
     "start_time": "2023-11-08T08:32:13.141757",
     "status": "completed"
    },
    "tags": []
   },
   "outputs": [],
   "source": []
  },
  {
   "cell_type": "markdown",
   "id": "f2ea2fe8",
   "metadata": {
    "id": "ziuAGD1SZ8Jb",
    "papermill": {
     "duration": 0.040457,
     "end_time": "2023-11-08T08:32:13.263460",
     "exception": false,
     "start_time": "2023-11-08T08:32:13.223003",
     "status": "completed"
    },
    "tags": []
   },
   "source": [
    "## Issue of data"
   ]
  },
  {
   "cell_type": "code",
   "execution_count": 8,
   "id": "89ecf975",
   "metadata": {
    "execution": {
     "iopub.execute_input": "2023-11-08T08:32:13.347836Z",
     "iopub.status.busy": "2023-11-08T08:32:13.347010Z",
     "iopub.status.idle": "2023-11-08T08:32:23.188661Z",
     "shell.execute_reply": "2023-11-08T08:32:23.187133Z"
    },
    "id": "ea_0L6teZ_bm",
    "outputId": "3e7bf33f-ed87-4aad-cf0b-70b6fbe3b9be",
    "papermill": {
     "duration": 9.886924,
     "end_time": "2023-11-08T08:32:23.191467",
     "exception": false,
     "start_time": "2023-11-08T08:32:13.304543",
     "status": "completed"
    },
    "tags": []
   },
   "outputs": [
    {
     "name": "stdout",
     "output_type": "stream",
     "text": [
      "<class 'pandas.core.frame.DataFrame'>\n",
      "RangeIndex: 8405898 entries, 0 to 8405897\n",
      "Data columns (total 11 columns):\n",
      " #   Column           Dtype \n",
      "---  ------           ----- \n",
      " 0   id               object\n",
      " 1   event_id         int64 \n",
      " 2   down_time        int64 \n",
      " 3   up_time          int64 \n",
      " 4   action_time      int64 \n",
      " 5   activity         object\n",
      " 6   down_event       object\n",
      " 7   up_event         object\n",
      " 8   text_change      object\n",
      " 9   cursor_position  int64 \n",
      " 10  word_count       int64 \n",
      "dtypes: int64(6), object(5)\n",
      "memory usage: 2.8 GB\n"
     ]
    }
   ],
   "source": [
    "train_logs.info(memory_usage='deep')"
   ]
  },
  {
   "cell_type": "code",
   "execution_count": 9,
   "id": "fb91cc3d",
   "metadata": {
    "execution": {
     "iopub.execute_input": "2023-11-08T08:32:23.276410Z",
     "iopub.status.busy": "2023-11-08T08:32:23.276013Z",
     "iopub.status.idle": "2023-11-08T08:32:27.605470Z",
     "shell.execute_reply": "2023-11-08T08:32:27.604413Z"
    },
    "id": "6s5mwrp5aE7A",
    "outputId": "60173e4b-ac72-4d05-bbba-8b0be6007f88",
    "papermill": {
     "duration": 4.374822,
     "end_time": "2023-11-08T08:32:27.608148",
     "exception": false,
     "start_time": "2023-11-08T08:32:23.233326",
     "status": "completed"
    },
    "tags": []
   },
   "outputs": [
    {
     "data": {
      "text/plain": [
       "id                 0\n",
       "event_id           0\n",
       "down_time          0\n",
       "up_time            0\n",
       "action_time        0\n",
       "activity           0\n",
       "down_event         0\n",
       "up_event           0\n",
       "text_change        0\n",
       "cursor_position    0\n",
       "word_count         0\n",
       "dtype: int64"
      ]
     },
     "execution_count": 9,
     "metadata": {},
     "output_type": "execute_result"
    }
   ],
   "source": [
    "train_logs.isna().sum()"
   ]
  },
  {
   "cell_type": "code",
   "execution_count": 10,
   "id": "5b3044a1",
   "metadata": {
    "execution": {
     "iopub.execute_input": "2023-11-08T08:32:27.693597Z",
     "iopub.status.busy": "2023-11-08T08:32:27.693188Z",
     "iopub.status.idle": "2023-11-08T08:32:28.919886Z",
     "shell.execute_reply": "2023-11-08T08:32:28.918918Z"
    },
    "id": "K8OetTOPaN9A",
    "outputId": "8027be0a-f0c5-419c-ab8a-5dc1b1f60671",
    "papermill": {
     "duration": 1.272079,
     "end_time": "2023-11-08T08:32:28.922475",
     "exception": false,
     "start_time": "2023-11-08T08:32:27.650396",
     "status": "completed"
    },
    "tags": []
   },
   "outputs": [
    {
     "data": {
      "image/png": "[encoded data removed]",
      "text/plain": [
       "<Figure size 1600x300 with 1 Axes>"
      ]
     },
     "metadata": {},
     "output_type": "display_data"
    }
   ],
   "source": [
    "#количество строк по каждому id\n",
    "#Plot the number of rows per id\n",
    "train_logs_groupby = train_logs.groupby('id').size()\n",
    "train_logs_groupby.plot(title='Number of Rows per id', figsize=(16, 3), xlabel='id');"
   ]
  },
  {
   "cell_type": "code",
   "execution_count": 11,
   "id": "1705387a",
   "metadata": {
    "execution": {
     "iopub.execute_input": "2023-11-08T08:32:29.012878Z",
     "iopub.status.busy": "2023-11-08T08:32:29.012192Z",
     "iopub.status.idle": "2023-11-08T08:32:29.019919Z",
     "shell.execute_reply": "2023-11-08T08:32:29.018773Z"
    },
    "id": "pbRThQCnbf8G",
    "outputId": "5e87b7f3-3491-4a0f-d888-a240ea7e4f31",
    "papermill": {
     "duration": 0.055844,
     "end_time": "2023-11-08T08:32:29.022535",
     "exception": false,
     "start_time": "2023-11-08T08:32:28.966691",
     "status": "completed"
    },
    "tags": []
   },
   "outputs": [
    {
     "data": {
      "text/plain": [
       "(262, 12876)"
      ]
     },
     "execution_count": 11,
     "metadata": {},
     "output_type": "execute_result"
    }
   ],
   "source": [
    "train_logs_groupby.min(), train_logs_groupby.max()"
   ]
  },
  {
   "cell_type": "code",
   "execution_count": 12,
   "id": "5ee35408",
   "metadata": {
    "execution": {
     "iopub.execute_input": "2023-11-08T08:32:29.110647Z",
     "iopub.status.busy": "2023-11-08T08:32:29.110243Z",
     "iopub.status.idle": "2023-11-08T08:32:29.119138Z",
     "shell.execute_reply": "2023-11-08T08:32:29.117984Z"
    },
    "id": "1DPTknIaA8cr",
    "outputId": "1b67a989-db30-4a86-942d-12f9c474a926",
    "papermill": {
     "duration": 0.055398,
     "end_time": "2023-11-08T08:32:29.121679",
     "exception": false,
     "start_time": "2023-11-08T08:32:29.066281",
     "status": "completed"
    },
    "tags": []
   },
   "outputs": [
    {
     "data": {
      "text/plain": [
       "id\n",
       "d3fef198    12876\n",
       "dtype: int64"
      ]
     },
     "execution_count": 12,
     "metadata": {},
     "output_type": "execute_result"
    }
   ],
   "source": [
    "#поиск пользователя с огромным количеством правок\n",
    "train_logs_groupby[train_logs_groupby > 12000]"
   ]
  },
  {
   "cell_type": "code",
   "execution_count": 13,
   "id": "e6c65a09",
   "metadata": {
    "execution": {
     "iopub.execute_input": "2023-11-08T08:32:29.209583Z",
     "iopub.status.busy": "2023-11-08T08:32:29.209189Z",
     "iopub.status.idle": "2023-11-08T08:32:29.216671Z",
     "shell.execute_reply": "2023-11-08T08:32:29.215487Z"
    },
    "id": "NfyjU1MTyU9J",
    "outputId": "eed6d0f2-270e-4a84-96f7-361d1d1fb987",
    "papermill": {
     "duration": 0.054228,
     "end_time": "2023-11-08T08:32:29.219048",
     "exception": false,
     "start_time": "2023-11-08T08:32:29.164820",
     "status": "completed"
    },
    "tags": []
   },
   "outputs": [
    {
     "data": {
      "text/plain": [
       "((2471,), (2471, 2))"
      ]
     },
     "execution_count": 13,
     "metadata": {},
     "output_type": "execute_result"
    }
   ],
   "source": [
    "#проверка что кол-во таргетов совпадает с количеством id\n",
    "train_logs_groupby.shape, train_scores.shape"
   ]
  },
  {
   "cell_type": "code",
   "execution_count": 14,
   "id": "7474fc20",
   "metadata": {
    "execution": {
     "iopub.execute_input": "2023-11-08T08:32:29.308278Z",
     "iopub.status.busy": "2023-11-08T08:32:29.307837Z",
     "iopub.status.idle": "2023-11-08T08:32:29.668928Z",
     "shell.execute_reply": "2023-11-08T08:32:29.667746Z"
    },
    "id": "181r4rrA3yup",
    "outputId": "a78a7ec4-6f81-496b-f536-7ef5dbf0727e",
    "papermill": {
     "duration": 0.408773,
     "end_time": "2023-11-08T08:32:29.671622",
     "exception": false,
     "start_time": "2023-11-08T08:32:29.262849",
     "status": "completed"
    },
    "tags": []
   },
   "outputs": [
    {
     "data": {
      "image/png": "[encoded data removed]",
      "text/plain": [
       "<Figure size 640x480 with 1 Axes>"
      ]
     },
     "metadata": {},
     "output_type": "display_data"
    }
   ],
   "source": [
    "train_scores['score'].hist(bins=50);"
   ]
  },
  {
   "cell_type": "code",
   "execution_count": 15,
   "id": "e578b3f8",
   "metadata": {
    "execution": {
     "iopub.execute_input": "2023-11-08T08:32:29.761578Z",
     "iopub.status.busy": "2023-11-08T08:32:29.761056Z",
     "iopub.status.idle": "2023-11-08T08:32:29.771843Z",
     "shell.execute_reply": "2023-11-08T08:32:29.770621Z"
    },
    "id": "OzA8-EAoDwsZ",
    "outputId": "00bc3748-130a-4932-dd64-92cb0cca2d22",
    "papermill": {
     "duration": 0.058103,
     "end_time": "2023-11-08T08:32:29.774302",
     "exception": false,
     "start_time": "2023-11-08T08:32:29.716199",
     "status": "completed"
    },
    "tags": []
   },
   "outputs": [
    {
     "data": {
      "text/plain": [
       "score\n",
       "4.0    501\n",
       "3.5    486\n",
       "4.5    402\n",
       "3.0    336\n",
       "2.5    201\n",
       "5.0    179\n",
       "5.5    128\n",
       "2.0     92\n",
       "1.5     69\n",
       "6.0     37\n",
       "1.0     35\n",
       "0.5      5\n",
       "Name: count, dtype: int64"
      ]
     },
     "execution_count": 15,
     "metadata": {},
     "output_type": "execute_result"
    }
   ],
   "source": [
    "train_scores['score'].value_counts()"
   ]
  },
  {
   "cell_type": "code",
   "execution_count": 16,
   "id": "2e223400",
   "metadata": {
    "execution": {
     "iopub.execute_input": "2023-11-08T08:32:29.863876Z",
     "iopub.status.busy": "2023-11-08T08:32:29.863462Z",
     "iopub.status.idle": "2023-11-08T08:32:29.871498Z",
     "shell.execute_reply": "2023-11-08T08:32:29.870259Z"
    },
    "id": "ppSdELt3Eoyt",
    "outputId": "87164ce0-5d88-4a2d-9ece-5f34e394cb9d",
    "papermill": {
     "duration": 0.05577,
     "end_time": "2023-11-08T08:32:29.873890",
     "exception": false,
     "start_time": "2023-11-08T08:32:29.818120",
     "status": "completed"
    },
    "tags": []
   },
   "outputs": [
    {
     "data": {
      "text/plain": [
       "12"
      ]
     },
     "execution_count": 16,
     "metadata": {},
     "output_type": "execute_result"
    }
   ],
   "source": [
    "train_scores['score'].nunique()"
   ]
  },
  {
   "cell_type": "code",
   "execution_count": null,
   "id": "42ee1815",
   "metadata": {
    "id": "LJMBzZv2Eo2G",
    "papermill": {
     "duration": 0.043564,
     "end_time": "2023-11-08T08:32:29.960965",
     "exception": false,
     "start_time": "2023-11-08T08:32:29.917401",
     "status": "completed"
    },
    "tags": []
   },
   "outputs": [],
   "source": []
  },
  {
   "cell_type": "code",
   "execution_count": 17,
   "id": "6d64045a",
   "metadata": {
    "execution": {
     "iopub.execute_input": "2023-11-08T08:32:30.051061Z",
     "iopub.status.busy": "2023-11-08T08:32:30.050664Z",
     "iopub.status.idle": "2023-11-08T08:32:31.629873Z",
     "shell.execute_reply": "2023-11-08T08:32:31.628435Z"
    },
    "id": "XswnQFoM3yx7",
    "outputId": "20650094-8581-4965-e1f7-8910afba21d4",
    "papermill": {
     "duration": 1.62742,
     "end_time": "2023-11-08T08:32:31.632639",
     "exception": false,
     "start_time": "2023-11-08T08:32:30.005219",
     "status": "completed"
    },
    "tags": []
   },
   "outputs": [
    {
     "data": {
      "text/html": [
       "<div>\n",
       "<style scoped>\n",
       "    .dataframe tbody tr th:only-of-type {\n",
       "        vertical-align: middle;\n",
       "    }\n",
       "\n",
       "    .dataframe tbody tr th {\n",
       "        vertical-align: top;\n",
       "    }\n",
       "\n",
       "    .dataframe thead th {\n",
       "        text-align: right;\n",
       "    }\n",
       "</style>\n",
       "<table border=\"1\" class=\"dataframe\">\n",
       "  <thead>\n",
       "    <tr style=\"text-align: right;\">\n",
       "      <th></th>\n",
       "      <th>id</th>\n",
       "      <th>event_id</th>\n",
       "      <th>down_time</th>\n",
       "      <th>up_time</th>\n",
       "      <th>action_time</th>\n",
       "      <th>activity</th>\n",
       "      <th>down_event</th>\n",
       "      <th>up_event</th>\n",
       "      <th>text_change</th>\n",
       "      <th>cursor_position</th>\n",
       "      <th>word_count</th>\n",
       "    </tr>\n",
       "  </thead>\n",
       "  <tbody>\n",
       "    <tr>\n",
       "      <th>6857805</th>\n",
       "      <td>d3fef198</td>\n",
       "      <td>1</td>\n",
       "      <td>844</td>\n",
       "      <td>1061</td>\n",
       "      <td>217</td>\n",
       "      <td>Nonproduction</td>\n",
       "      <td>Leftclick</td>\n",
       "      <td>Leftclick</td>\n",
       "      <td>NoChange</td>\n",
       "      <td>0</td>\n",
       "      <td>0</td>\n",
       "    </tr>\n",
       "    <tr>\n",
       "      <th>6857806</th>\n",
       "      <td>d3fef198</td>\n",
       "      <td>2</td>\n",
       "      <td>6951</td>\n",
       "      <td>7172</td>\n",
       "      <td>221</td>\n",
       "      <td>Nonproduction</td>\n",
       "      <td>Leftclick</td>\n",
       "      <td>Leftclick</td>\n",
       "      <td>NoChange</td>\n",
       "      <td>0</td>\n",
       "      <td>0</td>\n",
       "    </tr>\n",
       "    <tr>\n",
       "      <th>6857807</th>\n",
       "      <td>d3fef198</td>\n",
       "      <td>3</td>\n",
       "      <td>28631</td>\n",
       "      <td>28631</td>\n",
       "      <td>0</td>\n",
       "      <td>Nonproduction</td>\n",
       "      <td>Shift</td>\n",
       "      <td>Shift</td>\n",
       "      <td>NoChange</td>\n",
       "      <td>0</td>\n",
       "      <td>0</td>\n",
       "    </tr>\n",
       "    <tr>\n",
       "      <th>6857808</th>\n",
       "      <td>d3fef198</td>\n",
       "      <td>4</td>\n",
       "      <td>28706</td>\n",
       "      <td>28796</td>\n",
       "      <td>90</td>\n",
       "      <td>Input</td>\n",
       "      <td>q</td>\n",
       "      <td>q</td>\n",
       "      <td>q</td>\n",
       "      <td>1</td>\n",
       "      <td>1</td>\n",
       "    </tr>\n",
       "    <tr>\n",
       "      <th>6857809</th>\n",
       "      <td>d3fef198</td>\n",
       "      <td>5</td>\n",
       "      <td>28753</td>\n",
       "      <td>28865</td>\n",
       "      <td>112</td>\n",
       "      <td>Input</td>\n",
       "      <td>q</td>\n",
       "      <td>q</td>\n",
       "      <td>q</td>\n",
       "      <td>2</td>\n",
       "      <td>1</td>\n",
       "    </tr>\n",
       "    <tr>\n",
       "      <th>...</th>\n",
       "      <td>...</td>\n",
       "      <td>...</td>\n",
       "      <td>...</td>\n",
       "      <td>...</td>\n",
       "      <td>...</td>\n",
       "      <td>...</td>\n",
       "      <td>...</td>\n",
       "      <td>...</td>\n",
       "      <td>...</td>\n",
       "      <td>...</td>\n",
       "      <td>...</td>\n",
       "    </tr>\n",
       "    <tr>\n",
       "      <th>6870676</th>\n",
       "      <td>d3fef198</td>\n",
       "      <td>12872</td>\n",
       "      <td>1814664</td>\n",
       "      <td>1814729</td>\n",
       "      <td>65</td>\n",
       "      <td>Input</td>\n",
       "      <td>.</td>\n",
       "      <td>.</td>\n",
       "      <td>.</td>\n",
       "      <td>5480</td>\n",
       "      <td>954</td>\n",
       "    </tr>\n",
       "    <tr>\n",
       "      <th>6870677</th>\n",
       "      <td>d3fef198</td>\n",
       "      <td>12873</td>\n",
       "      <td>1814942</td>\n",
       "      <td>1814981</td>\n",
       "      <td>39</td>\n",
       "      <td>Remove/Cut</td>\n",
       "      <td>Backspace</td>\n",
       "      <td>Backspace</td>\n",
       "      <td>.</td>\n",
       "      <td>5479</td>\n",
       "      <td>954</td>\n",
       "    </tr>\n",
       "    <tr>\n",
       "      <th>6870678</th>\n",
       "      <td>d3fef198</td>\n",
       "      <td>12874</td>\n",
       "      <td>1815034</td>\n",
       "      <td>1815094</td>\n",
       "      <td>60</td>\n",
       "      <td>Remove/Cut</td>\n",
       "      <td>Backspace</td>\n",
       "      <td>Backspace</td>\n",
       "      <td>,</td>\n",
       "      <td>5478</td>\n",
       "      <td>954</td>\n",
       "    </tr>\n",
       "    <tr>\n",
       "      <th>6870679</th>\n",
       "      <td>d3fef198</td>\n",
       "      <td>12875</td>\n",
       "      <td>1815273</td>\n",
       "      <td>1815306</td>\n",
       "      <td>33</td>\n",
       "      <td>Input</td>\n",
       "      <td>.</td>\n",
       "      <td>.</td>\n",
       "      <td>.</td>\n",
       "      <td>5479</td>\n",
       "      <td>954</td>\n",
       "    </tr>\n",
       "    <tr>\n",
       "      <th>6870680</th>\n",
       "      <td>d3fef198</td>\n",
       "      <td>12876</td>\n",
       "      <td>1815294</td>\n",
       "      <td>1815384</td>\n",
       "      <td>90</td>\n",
       "      <td>Input</td>\n",
       "      <td>Space</td>\n",
       "      <td>Space</td>\n",
       "      <td></td>\n",
       "      <td>5480</td>\n",
       "      <td>954</td>\n",
       "    </tr>\n",
       "  </tbody>\n",
       "</table>\n",
       "<p>12876 rows × 11 columns</p>\n",
       "</div>"
      ],
      "text/plain": [
       "               id  event_id  down_time  up_time  action_time       activity  \\\n",
       "6857805  d3fef198         1        844     1061          217  Nonproduction   \n",
       "6857806  d3fef198         2       6951     7172          221  Nonproduction   \n",
       "6857807  d3fef198         3      28631    28631            0  Nonproduction   \n",
       "6857808  d3fef198         4      28706    28796           90          Input   \n",
       "6857809  d3fef198         5      28753    28865          112          Input   \n",
       "...           ...       ...        ...      ...          ...            ...   \n",
       "6870676  d3fef198     12872    1814664  1814729           65          Input   \n",
       "6870677  d3fef198     12873    1814942  1814981           39     Remove/Cut   \n",
       "6870678  d3fef198     12874    1815034  1815094           60     Remove/Cut   \n",
       "6870679  d3fef198     12875    1815273  1815306           33          Input   \n",
       "6870680  d3fef198     12876    1815294  1815384           90          Input   \n",
       "\n",
       "        down_event   up_event text_change  cursor_position  word_count  \n",
       "6857805  Leftclick  Leftclick    NoChange                0           0  \n",
       "6857806  Leftclick  Leftclick    NoChange                0           0  \n",
       "6857807      Shift      Shift    NoChange                0           0  \n",
       "6857808          q          q           q                1           1  \n",
       "6857809          q          q           q                2           1  \n",
       "...            ...        ...         ...              ...         ...  \n",
       "6870676          .          .           .             5480         954  \n",
       "6870677  Backspace  Backspace           .             5479         954  \n",
       "6870678  Backspace  Backspace           ,             5478         954  \n",
       "6870679          .          .           .             5479         954  \n",
       "6870680      Space      Space                         5480         954  \n",
       "\n",
       "[12876 rows x 11 columns]"
      ]
     },
     "execution_count": 17,
     "metadata": {},
     "output_type": "execute_result"
    }
   ],
   "source": [
    "\n",
    "#for user 'd3fef198'\n",
    "user_d3fef198 = train_logs.loc[train_logs['id'] == 'd3fef198']\n",
    "user_d3fef198"
   ]
  },
  {
   "cell_type": "code",
   "execution_count": 18,
   "id": "32cdfb72",
   "metadata": {
    "execution": {
     "iopub.execute_input": "2023-11-08T08:32:31.724052Z",
     "iopub.status.busy": "2023-11-08T08:32:31.723045Z",
     "iopub.status.idle": "2023-11-08T08:32:31.732913Z",
     "shell.execute_reply": "2023-11-08T08:32:31.732047Z"
    },
    "id": "TJ2MqbY7yVCk",
    "outputId": "d8b77ddd-aa3f-4ebd-d2a0-d32a6d86a7ec",
    "papermill": {
     "duration": 0.057675,
     "end_time": "2023-11-08T08:32:31.735029",
     "exception": false,
     "start_time": "2023-11-08T08:32:31.677354",
     "status": "completed"
    },
    "tags": []
   },
   "outputs": [
    {
     "data": {
      "text/plain": [
       "activity\n",
       "Input            9091\n",
       "Remove/Cut       3370\n",
       "Nonproduction     414\n",
       "Replace             1\n",
       "Name: count, dtype: int64"
      ]
     },
     "execution_count": 18,
     "metadata": {},
     "output_type": "execute_result"
    }
   ],
   "source": [
    "user_d3fef198['activity'].value_counts()"
   ]
  },
  {
   "cell_type": "code",
   "execution_count": 19,
   "id": "13171c8f",
   "metadata": {
    "execution": {
     "iopub.execute_input": "2023-11-08T08:32:31.824987Z",
     "iopub.status.busy": "2023-11-08T08:32:31.824588Z",
     "iopub.status.idle": "2023-11-08T08:32:31.835688Z",
     "shell.execute_reply": "2023-11-08T08:32:31.834573Z"
    },
    "id": "pFxoS_F5B5FH",
    "outputId": "d7a84470-431b-4246-e7af-2e18c1830b2f",
    "papermill": {
     "duration": 0.058882,
     "end_time": "2023-11-08T08:32:31.837958",
     "exception": false,
     "start_time": "2023-11-08T08:32:31.779076",
     "status": "completed"
    },
    "tags": []
   },
   "outputs": [
    {
     "data": {
      "text/plain": [
       "text_change\n",
       "q                                                                             10067\n",
       "                                                                               2011\n",
       "NoChange                                                                        414\n",
       ",                                                                               120\n",
       ".                                                                                70\n",
       "=                                                                                26\n",
       ")                                                                                25\n",
       ";                                                                                24\n",
       "-                                                                                24\n",
       "\\n                                                                               21\n",
       "?                                                                                12\n",
       "'                                                                                12\n",
       "/                                                                                11\n",
       "\"                                                                                10\n",
       "(                                                                                 9\n",
       ":                                                                                 5\n",
       "&                                                                                 4\n",
       ">                                                                                 2\n",
       "_                                                                                 2\n",
       "\\                                                                                 2\n",
       "qqqqqqq, qq qqqqq qq q qqqqq qqqqq qq qqqq                                        1\n",
       "qqq qqqqqqqq qqqq qqqqqq qq: qq qqqq q                                            1\n",
       "qqqq qq qqq qqqqqqqqqqq qqqqqqq qqq qqqqqq qqq qqqqqqq qqqq                       1\n",
       "qq qqqq qq qq qqqqqq qq q qqqqqqq qq qqqqqq qqqqqqqqq qqq qqqqq qqqqq => q        1\n",
       " qq q qqqqqq qqqqqqqqqqqqqq qq qqqq'q                                             1\n",
       "Name: count, dtype: int64"
      ]
     },
     "execution_count": 19,
     "metadata": {},
     "output_type": "execute_result"
    }
   ],
   "source": [
    "\n",
    "user_d3fef198['text_change'].value_counts()"
   ]
  },
  {
   "cell_type": "code",
   "execution_count": null,
   "id": "f0c9bb4c",
   "metadata": {
    "id": "7Pl0OJGUB5Mu",
    "papermill": {
     "duration": 0.044722,
     "end_time": "2023-11-08T08:32:31.927286",
     "exception": false,
     "start_time": "2023-11-08T08:32:31.882564",
     "status": "completed"
    },
    "tags": []
   },
   "outputs": [],
   "source": []
  },
  {
   "cell_type": "code",
   "execution_count": 20,
   "id": "a96bbba0",
   "metadata": {
    "execution": {
     "iopub.execute_input": "2023-11-08T08:32:32.017440Z",
     "iopub.status.busy": "2023-11-08T08:32:32.017016Z",
     "iopub.status.idle": "2023-11-08T08:32:45.584038Z",
     "shell.execute_reply": "2023-11-08T08:32:45.582905Z"
    },
    "id": "nCRqfv6actMw",
    "outputId": "a3d50615-2ec2-4d8f-a294-f6fdc0b69c2e",
    "papermill": {
     "duration": 13.615577,
     "end_time": "2023-11-08T08:32:45.587030",
     "exception": false,
     "start_time": "2023-11-08T08:32:31.971453",
     "status": "completed"
    },
    "tags": []
   },
   "outputs": [
    {
     "data": {
      "text/plain": [
       "0"
      ]
     },
     "execution_count": 20,
     "metadata": {},
     "output_type": "execute_result"
    }
   ],
   "source": [
    "#кол-во дубликатов строк\n",
    "train_logs.duplicated().sum()"
   ]
  },
  {
   "cell_type": "code",
   "execution_count": 21,
   "id": "66711e9e",
   "metadata": {
    "execution": {
     "iopub.execute_input": "2023-11-08T08:32:45.678198Z",
     "iopub.status.busy": "2023-11-08T08:32:45.676936Z",
     "iopub.status.idle": "2023-11-08T08:32:47.263550Z",
     "shell.execute_reply": "2023-11-08T08:32:47.262457Z"
    },
    "id": "Q-IclTPAdUJI",
    "outputId": "7266fb02-518d-4c68-bace-855a37cc3f34",
    "papermill": {
     "duration": 1.634757,
     "end_time": "2023-11-08T08:32:47.266059",
     "exception": false,
     "start_time": "2023-11-08T08:32:45.631302",
     "status": "completed"
    },
    "tags": []
   },
   "outputs": [
    {
     "data": {
      "text/html": [
       "<div>\n",
       "<style scoped>\n",
       "    .dataframe tbody tr th:only-of-type {\n",
       "        vertical-align: middle;\n",
       "    }\n",
       "\n",
       "    .dataframe tbody tr th {\n",
       "        vertical-align: top;\n",
       "    }\n",
       "\n",
       "    .dataframe thead th {\n",
       "        text-align: right;\n",
       "    }\n",
       "</style>\n",
       "<table border=\"1\" class=\"dataframe\">\n",
       "  <thead>\n",
       "    <tr style=\"text-align: right;\">\n",
       "      <th></th>\n",
       "      <th>id</th>\n",
       "      <th>event_id</th>\n",
       "      <th>down_time</th>\n",
       "      <th>up_time</th>\n",
       "      <th>action_time</th>\n",
       "      <th>activity</th>\n",
       "      <th>down_event</th>\n",
       "      <th>up_event</th>\n",
       "      <th>text_change</th>\n",
       "      <th>cursor_position</th>\n",
       "      <th>word_count</th>\n",
       "    </tr>\n",
       "  </thead>\n",
       "  <tbody>\n",
       "    <tr>\n",
       "      <th>0</th>\n",
       "      <td>001519c8</td>\n",
       "      <td>1</td>\n",
       "      <td>4526</td>\n",
       "      <td>4557</td>\n",
       "      <td>31</td>\n",
       "      <td>Nonproduction</td>\n",
       "      <td>Leftclick</td>\n",
       "      <td>Leftclick</td>\n",
       "      <td>NoChange</td>\n",
       "      <td>0</td>\n",
       "      <td>0</td>\n",
       "    </tr>\n",
       "    <tr>\n",
       "      <th>1</th>\n",
       "      <td>001519c8</td>\n",
       "      <td>2</td>\n",
       "      <td>4558</td>\n",
       "      <td>4962</td>\n",
       "      <td>404</td>\n",
       "      <td>Nonproduction</td>\n",
       "      <td>Leftclick</td>\n",
       "      <td>Leftclick</td>\n",
       "      <td>NoChange</td>\n",
       "      <td>0</td>\n",
       "      <td>0</td>\n",
       "    </tr>\n",
       "    <tr>\n",
       "      <th>2</th>\n",
       "      <td>001519c8</td>\n",
       "      <td>3</td>\n",
       "      <td>106571</td>\n",
       "      <td>106571</td>\n",
       "      <td>0</td>\n",
       "      <td>Nonproduction</td>\n",
       "      <td>Shift</td>\n",
       "      <td>Shift</td>\n",
       "      <td>NoChange</td>\n",
       "      <td>0</td>\n",
       "      <td>0</td>\n",
       "    </tr>\n",
       "    <tr>\n",
       "      <th>3</th>\n",
       "      <td>001519c8</td>\n",
       "      <td>4</td>\n",
       "      <td>106686</td>\n",
       "      <td>106777</td>\n",
       "      <td>91</td>\n",
       "      <td>Input</td>\n",
       "      <td>q</td>\n",
       "      <td>q</td>\n",
       "      <td>q</td>\n",
       "      <td>1</td>\n",
       "      <td>1</td>\n",
       "    </tr>\n",
       "    <tr>\n",
       "      <th>4</th>\n",
       "      <td>001519c8</td>\n",
       "      <td>5</td>\n",
       "      <td>107196</td>\n",
       "      <td>107323</td>\n",
       "      <td>127</td>\n",
       "      <td>Input</td>\n",
       "      <td>q</td>\n",
       "      <td>q</td>\n",
       "      <td>q</td>\n",
       "      <td>2</td>\n",
       "      <td>1</td>\n",
       "    </tr>\n",
       "    <tr>\n",
       "      <th>...</th>\n",
       "      <td>...</td>\n",
       "      <td>...</td>\n",
       "      <td>...</td>\n",
       "      <td>...</td>\n",
       "      <td>...</td>\n",
       "      <td>...</td>\n",
       "      <td>...</td>\n",
       "      <td>...</td>\n",
       "      <td>...</td>\n",
       "      <td>...</td>\n",
       "      <td>...</td>\n",
       "    </tr>\n",
       "    <tr>\n",
       "      <th>2552</th>\n",
       "      <td>001519c8</td>\n",
       "      <td>2553</td>\n",
       "      <td>1781786</td>\n",
       "      <td>1781841</td>\n",
       "      <td>55</td>\n",
       "      <td>Remove/Cut</td>\n",
       "      <td>Backspace</td>\n",
       "      <td>Backspace</td>\n",
       "      <td>q</td>\n",
       "      <td>555</td>\n",
       "      <td>255</td>\n",
       "    </tr>\n",
       "    <tr>\n",
       "      <th>2553</th>\n",
       "      <td>001519c8</td>\n",
       "      <td>2554</td>\n",
       "      <td>1781917</td>\n",
       "      <td>1781991</td>\n",
       "      <td>74</td>\n",
       "      <td>Remove/Cut</td>\n",
       "      <td>Backspace</td>\n",
       "      <td>Backspace</td>\n",
       "      <td>q</td>\n",
       "      <td>554</td>\n",
       "      <td>255</td>\n",
       "    </tr>\n",
       "    <tr>\n",
       "      <th>2554</th>\n",
       "      <td>001519c8</td>\n",
       "      <td>2555</td>\n",
       "      <td>1782062</td>\n",
       "      <td>1782141</td>\n",
       "      <td>79</td>\n",
       "      <td>Remove/Cut</td>\n",
       "      <td>Backspace</td>\n",
       "      <td>Backspace</td>\n",
       "      <td>q</td>\n",
       "      <td>553</td>\n",
       "      <td>255</td>\n",
       "    </tr>\n",
       "    <tr>\n",
       "      <th>2555</th>\n",
       "      <td>001519c8</td>\n",
       "      <td>2556</td>\n",
       "      <td>1782922</td>\n",
       "      <td>1782985</td>\n",
       "      <td>63</td>\n",
       "      <td>Input</td>\n",
       "      <td>q</td>\n",
       "      <td>q</td>\n",
       "      <td>q</td>\n",
       "      <td>554</td>\n",
       "      <td>255</td>\n",
       "    </tr>\n",
       "    <tr>\n",
       "      <th>2556</th>\n",
       "      <td>001519c8</td>\n",
       "      <td>2557</td>\n",
       "      <td>1801877</td>\n",
       "      <td>1801969</td>\n",
       "      <td>92</td>\n",
       "      <td>Nonproduction</td>\n",
       "      <td>Leftclick</td>\n",
       "      <td>Leftclick</td>\n",
       "      <td>NoChange</td>\n",
       "      <td>1046</td>\n",
       "      <td>255</td>\n",
       "    </tr>\n",
       "  </tbody>\n",
       "</table>\n",
       "<p>2557 rows × 11 columns</p>\n",
       "</div>"
      ],
      "text/plain": [
       "            id  event_id  down_time  up_time  action_time       activity  \\\n",
       "0     001519c8         1       4526     4557           31  Nonproduction   \n",
       "1     001519c8         2       4558     4962          404  Nonproduction   \n",
       "2     001519c8         3     106571   106571            0  Nonproduction   \n",
       "3     001519c8         4     106686   106777           91          Input   \n",
       "4     001519c8         5     107196   107323          127          Input   \n",
       "...        ...       ...        ...      ...          ...            ...   \n",
       "2552  001519c8      2553    1781786  1781841           55     Remove/Cut   \n",
       "2553  001519c8      2554    1781917  1781991           74     Remove/Cut   \n",
       "2554  001519c8      2555    1782062  1782141           79     Remove/Cut   \n",
       "2555  001519c8      2556    1782922  1782985           63          Input   \n",
       "2556  001519c8      2557    1801877  1801969           92  Nonproduction   \n",
       "\n",
       "     down_event   up_event text_change  cursor_position  word_count  \n",
       "0     Leftclick  Leftclick    NoChange                0           0  \n",
       "1     Leftclick  Leftclick    NoChange                0           0  \n",
       "2         Shift      Shift    NoChange                0           0  \n",
       "3             q          q           q                1           1  \n",
       "4             q          q           q                2           1  \n",
       "...         ...        ...         ...              ...         ...  \n",
       "2552  Backspace  Backspace           q              555         255  \n",
       "2553  Backspace  Backspace           q              554         255  \n",
       "2554  Backspace  Backspace           q              553         255  \n",
       "2555          q          q           q              554         255  \n",
       "2556  Leftclick  Leftclick    NoChange             1046         255  \n",
       "\n",
       "[2557 rows x 11 columns]"
      ]
     },
     "execution_count": 21,
     "metadata": {},
     "output_type": "execute_result"
    }
   ],
   "source": [
    "#for user '001519c8'\n",
    "user_001519c8 = train_logs.loc[train_logs['id'] == '001519c8']\n",
    "user_001519c8"
   ]
  },
  {
   "cell_type": "code",
   "execution_count": 22,
   "id": "da854c1a",
   "metadata": {
    "execution": {
     "iopub.execute_input": "2023-11-08T08:32:47.358047Z",
     "iopub.status.busy": "2023-11-08T08:32:47.357338Z",
     "iopub.status.idle": "2023-11-08T08:32:47.363983Z",
     "shell.execute_reply": "2023-11-08T08:32:47.362664Z"
    },
    "id": "lC-df09qnbk0",
    "outputId": "35544172-556c-4d56-c616-f2dc0f91263f",
    "papermill": {
     "duration": 0.055646,
     "end_time": "2023-11-08T08:32:47.366796",
     "exception": false,
     "start_time": "2023-11-08T08:32:47.311150",
     "status": "completed"
    },
    "tags": []
   },
   "outputs": [
    {
     "data": {
      "text/plain": [
       "55"
      ]
     },
     "execution_count": 22,
     "metadata": {},
     "output_type": "execute_result"
    }
   ],
   "source": [
    "1781841 - 1781786"
   ]
  },
  {
   "cell_type": "code",
   "execution_count": 23,
   "id": "498cf2e0",
   "metadata": {
    "execution": {
     "iopub.execute_input": "2023-11-08T08:32:47.458551Z",
     "iopub.status.busy": "2023-11-08T08:32:47.457854Z",
     "iopub.status.idle": "2023-11-08T08:32:47.466720Z",
     "shell.execute_reply": "2023-11-08T08:32:47.465687Z"
    },
    "id": "r3ygbC6vgMqD",
    "outputId": "69eb1e3f-43f1-4993-895d-23dc507171d9",
    "papermill": {
     "duration": 0.057404,
     "end_time": "2023-11-08T08:32:47.469034",
     "exception": false,
     "start_time": "2023-11-08T08:32:47.411630",
     "status": "completed"
    },
    "tags": []
   },
   "outputs": [
    {
     "data": {
      "text/plain": [
       "activity\n",
       "Input                                 2010\n",
       "Remove/Cut                             417\n",
       "Nonproduction                          120\n",
       "Replace                                  7\n",
       "Move From [284, 292] To [282, 290]       1\n",
       "Move From [287, 289] To [285, 287]       1\n",
       "Move From [460, 461] To [465, 466]       1\n",
       "Name: count, dtype: int64"
      ]
     },
     "execution_count": 23,
     "metadata": {},
     "output_type": "execute_result"
    }
   ],
   "source": [
    "user_001519c8['activity'].value_counts()"
   ]
  },
  {
   "cell_type": "code",
   "execution_count": 24,
   "id": "4233d8c7",
   "metadata": {
    "execution": {
     "iopub.execute_input": "2023-11-08T08:32:47.560584Z",
     "iopub.status.busy": "2023-11-08T08:32:47.559926Z",
     "iopub.status.idle": "2023-11-08T08:32:48.241310Z",
     "shell.execute_reply": "2023-11-08T08:32:48.240157Z"
    },
    "id": "OCCaH62JwRmh",
    "outputId": "d787e74c-58ae-4131-fd77-61fc36fc8977",
    "papermill": {
     "duration": 0.729781,
     "end_time": "2023-11-08T08:32:48.243619",
     "exception": false,
     "start_time": "2023-11-08T08:32:47.513838",
     "status": "completed"
    },
    "tags": []
   },
   "outputs": [
    {
     "data": {
      "text/plain": [
       "50"
      ]
     },
     "execution_count": 24,
     "metadata": {},
     "output_type": "execute_result"
    }
   ],
   "source": [
    "train_logs['activity'].nunique()"
   ]
  },
  {
   "cell_type": "code",
   "execution_count": 25,
   "id": "0670a239",
   "metadata": {
    "execution": {
     "iopub.execute_input": "2023-11-08T08:32:48.337428Z",
     "iopub.status.busy": "2023-11-08T08:32:48.336737Z",
     "iopub.status.idle": "2023-11-08T08:32:49.808723Z",
     "shell.execute_reply": "2023-11-08T08:32:49.807720Z"
    },
    "id": "q6GvpWSbtha7",
    "outputId": "733b0235-06d1-4c45-dcd5-57ced73c2aec",
    "papermill": {
     "duration": 1.521359,
     "end_time": "2023-11-08T08:32:49.810915",
     "exception": false,
     "start_time": "2023-11-08T08:32:48.289556",
     "status": "completed"
    },
    "tags": []
   },
   "outputs": [
    {
     "data": {
      "text/plain": [
       "activity\n",
       "Input                                     6726796\n",
       "Remove/Cut                                 970158\n",
       "Nonproduction                              703851\n",
       "Replace                                      4448\n",
       "Paste                                         599\n",
       "Move From [1306, 1371] To [1061, 1126]          2\n",
       "Move From [13, 65] To [9, 61]                   1\n",
       "Move From [274, 314] To [299, 339]              1\n",
       "Move From [624, 625] To [845, 846]              1\n",
       "Move From [1861, 2063] To [1766, 1968]          1\n",
       "Move From [1766, 1968] To [1861, 2063]          1\n",
       "Move From [2091, 2179] To [252, 340]            1\n",
       "Move From [923, 1077] To [340, 494]             1\n",
       "Move From [0, 1] To [590, 591]                  1\n",
       "Move From [999, 1000] To [1000, 1001]           1\n",
       "Move From [0, 75] To [1, 76]                    1\n",
       "Move From [1651, 1769] To [1565, 1683]          1\n",
       "Move From [61, 136] To [0, 75]                  1\n",
       "Move From [623, 632] To [624, 633]              1\n",
       "Move From [75, 134] To [304, 363]               1\n",
       "Move From [289, 355] To [562, 628]              1\n",
       "Move From [944, 1102] To [1050, 1208]           1\n",
       "Move From [1061, 1126] To [1306, 1371]          1\n",
       "Move From [1361, 1362] To [1358, 1359]          1\n",
       "Move From [51, 86] To [109, 144]                1\n",
       "Move From [134, 169] To [122, 157]              1\n",
       "Move From [747, 960] To [1041, 1254]            1\n",
       "Move From [218, 220] To [206, 208]              1\n",
       "Move From [164, 165] To [153, 154]              1\n",
       "Move From [1144, 1147] To [1142, 1145]          1\n",
       "Move From [284, 292] To [282, 290]              1\n",
       "Move From [287, 289] To [285, 287]              1\n",
       "Move From [460, 461] To [465, 466]              1\n",
       "Move From [905, 1314] To [907, 1316]            1\n",
       "Move From [565, 743] To [669, 847]              1\n",
       "Move From [669, 847] To [565, 743]              1\n",
       "Move From [1041, 1121] To [1496, 1576]          1\n",
       "Move From [1455, 1557] To [1323, 1425]          1\n",
       "Move From [2268, 2275] To [2247, 2254]          1\n",
       "Move From [213, 302] To [902, 991]              1\n",
       "Move From [0, 158] To [234, 392]                1\n",
       "Move From [460, 465] To [925, 930]              1\n",
       "Move From [810, 906] To [816, 912]              1\n",
       "Move From [186, 187] To [184, 185]              1\n",
       "Move From [140, 272] To [299, 431]              1\n",
       "Move From [114, 140] To [272, 298]              1\n",
       "Move From [1386, 1450] To [1445, 1509]          1\n",
       "Move From [442, 524] To [296, 378]              1\n",
       "Move From [408, 414] To [390, 396]              1\n",
       "Move From [382, 437] To [458, 513]              1\n",
       "Name: count, dtype: int64"
      ]
     },
     "execution_count": 25,
     "metadata": {},
     "output_type": "execute_result"
    }
   ],
   "source": [
    "train_logs['activity'].value_counts()"
   ]
  },
  {
   "cell_type": "code",
   "execution_count": null,
   "id": "ecbade19",
   "metadata": {
    "id": "hfLOVnv3thea",
    "papermill": {
     "duration": 0.045793,
     "end_time": "2023-11-08T08:32:49.902285",
     "exception": false,
     "start_time": "2023-11-08T08:32:49.856492",
     "status": "completed"
    },
    "tags": []
   },
   "outputs": [],
   "source": []
  },
  {
   "cell_type": "code",
   "execution_count": 26,
   "id": "a9b79200",
   "metadata": {
    "execution": {
     "iopub.execute_input": "2023-11-08T08:32:49.995651Z",
     "iopub.status.busy": "2023-11-08T08:32:49.995049Z",
     "iopub.status.idle": "2023-11-08T08:32:50.003676Z",
     "shell.execute_reply": "2023-11-08T08:32:50.002638Z"
    },
    "id": "BMVWzYB4gTJL",
    "outputId": "3f454381-7cfe-47d5-9b57-38e0d84f7415",
    "papermill": {
     "duration": 0.057824,
     "end_time": "2023-11-08T08:32:50.005806",
     "exception": false,
     "start_time": "2023-11-08T08:32:49.947982",
     "status": "completed"
    },
    "tags": []
   },
   "outputs": [
    {
     "data": {
      "text/plain": [
       "down_event\n",
       "q             1619\n",
       "Backspace      417\n",
       "Space          357\n",
       "Leftclick       92\n",
       "Shift           27\n",
       ".               21\n",
       ",               12\n",
       "Enter            4\n",
       "'                3\n",
       "ArrowLeft        2\n",
       "ArrowRight       2\n",
       ";                1\n",
       "Name: count, dtype: int64"
      ]
     },
     "execution_count": 26,
     "metadata": {},
     "output_type": "execute_result"
    }
   ],
   "source": [
    "user_001519c8['down_event'].value_counts()"
   ]
  },
  {
   "cell_type": "code",
   "execution_count": 27,
   "id": "08b68717",
   "metadata": {
    "execution": {
     "iopub.execute_input": "2023-11-08T08:32:50.100099Z",
     "iopub.status.busy": "2023-11-08T08:32:50.099441Z",
     "iopub.status.idle": "2023-11-08T08:32:50.108436Z",
     "shell.execute_reply": "2023-11-08T08:32:50.107449Z"
    },
    "id": "tqQBalO2gd5D",
    "outputId": "537091cd-ca29-4d98-bcd3-bb5eef8e225e",
    "papermill": {
     "duration": 0.059209,
     "end_time": "2023-11-08T08:32:50.110549",
     "exception": false,
     "start_time": "2023-11-08T08:32:50.051340",
     "status": "completed"
    },
    "tags": []
   },
   "outputs": [
    {
     "data": {
      "text/plain": [
       "up_event\n",
       "q             1619\n",
       "Backspace      417\n",
       "Space          357\n",
       "Leftclick       92\n",
       "Shift           27\n",
       ".               21\n",
       ",               12\n",
       "Enter            4\n",
       "'                3\n",
       "ArrowLeft        2\n",
       "ArrowRight       2\n",
       ";                1\n",
       "Name: count, dtype: int64"
      ]
     },
     "execution_count": 27,
     "metadata": {},
     "output_type": "execute_result"
    }
   ],
   "source": [
    "user_001519c8['up_event'].value_counts()"
   ]
  },
  {
   "cell_type": "code",
   "execution_count": 28,
   "id": "cb4072b7",
   "metadata": {
    "execution": {
     "iopub.execute_input": "2023-11-08T08:32:50.206100Z",
     "iopub.status.busy": "2023-11-08T08:32:50.205422Z",
     "iopub.status.idle": "2023-11-08T08:32:50.213613Z",
     "shell.execute_reply": "2023-11-08T08:32:50.212658Z"
    },
    "id": "JM1Z1kfPgyIr",
    "outputId": "4c0e8f7d-89c4-4c38-b42d-63b1c4d901b5",
    "papermill": {
     "duration": 0.058922,
     "end_time": "2023-11-08T08:32:50.215816",
     "exception": false,
     "start_time": "2023-11-08T08:32:50.156894",
     "status": "completed"
    },
    "tags": []
   },
   "outputs": [
    {
     "data": {
      "text/plain": [
       "True"
      ]
     },
     "execution_count": 28,
     "metadata": {},
     "output_type": "execute_result"
    }
   ],
   "source": [
    "#проверка для одного айди что данные одинаковы для столбцов `down_event` `up_event`\n",
    "(user_001519c8['down_event'] == user_001519c8['up_event']).min()"
   ]
  },
  {
   "cell_type": "code",
   "execution_count": 29,
   "id": "1e9bfe6f",
   "metadata": {
    "execution": {
     "iopub.execute_input": "2023-11-08T08:32:50.309776Z",
     "iopub.status.busy": "2023-11-08T08:32:50.309149Z",
     "iopub.status.idle": "2023-11-08T08:32:52.204782Z",
     "shell.execute_reply": "2023-11-08T08:32:52.203718Z"
    },
    "id": "QCkp6fOEhYCE",
    "outputId": "4c12a0ea-880a-4bff-bd54-64b67e78ea6b",
    "papermill": {
     "duration": 1.946017,
     "end_time": "2023-11-08T08:32:52.207735",
     "exception": false,
     "start_time": "2023-11-08T08:32:50.261718",
     "status": "completed"
    },
    "tags": []
   },
   "outputs": [
    {
     "data": {
      "text/plain": [
       "0.999936473176334"
      ]
     },
     "execution_count": 29,
     "metadata": {},
     "output_type": "execute_result"
    }
   ],
   "source": [
    "#проверка для всего датасета что данные одинаковы для столбцов  `down_event` `up_event`\n",
    "(train_logs['down_event'] == train_logs['up_event']).mean()"
   ]
  },
  {
   "cell_type": "markdown",
   "id": "b0440cf2",
   "metadata": {
    "id": "Nu4tRbZrh8RN",
    "papermill": {
     "duration": 0.046405,
     "end_time": "2023-11-08T08:32:52.300850",
     "exception": false,
     "start_time": "2023-11-08T08:32:52.254445",
     "status": "completed"
    },
    "tags": []
   },
   "source": [
    "значит есть где-то неодинаковые данные и интересно что в 99.9936 % случаев данные одинаковы !"
   ]
  },
  {
   "cell_type": "code",
   "execution_count": 30,
   "id": "9f7253d3",
   "metadata": {
    "execution": {
     "iopub.execute_input": "2023-11-08T08:32:52.395473Z",
     "iopub.status.busy": "2023-11-08T08:32:52.395029Z",
     "iopub.status.idle": "2023-11-08T08:32:53.495234Z",
     "shell.execute_reply": "2023-11-08T08:32:53.494148Z"
    },
    "id": "qz3GBxRwiMz3",
    "outputId": "04cd2a9a-c5a6-47cd-9303-43d2809f3b0c",
    "papermill": {
     "duration": 1.150397,
     "end_time": "2023-11-08T08:32:53.497560",
     "exception": false,
     "start_time": "2023-11-08T08:32:52.347163",
     "status": "completed"
    },
    "tags": []
   },
   "outputs": [
    {
     "data": {
      "text/plain": [
       "text_change\n",
       "q                                                                                                                                                               6128208\n",
       "                                                                                                                                                                1376829\n",
       "NoChange                                                                                                                                                         703851\n",
       ".                                                                                                                                                                 67797\n",
       ",                                                                                                                                                                 54797\n",
       "                                                                                                                                                                 ...   \n",
       "qqq qqqqq qqqqqqqqqq qqqqqqq qq qqqqq qqqqqqqq                                                                                                                        1\n",
       "qqqqqqqqq qq qqq qqqqqqqqq qq qqqq qq qqq qqqqqqqq  => q                                                                                                              1\n",
       "qq qqq qqqqqqqq qqq qqq qqqqq qqqq, => q                                                                                                                              1\n",
       "?                                                                                                                                                                     1\n",
       "\\n qqqqq qqqqqq qqqqqqqqqq qq q qqqqqqqq qqq qqq qqqq qqqqqq q qqq. \\n\\nqqqq qqq qq qqqqqqq qqq:\\n- \\n- qqq qqqqqqq qqqq q qqqqqq qqqqqqqq qq qqqq qqqqqqqq           1\n",
       "Name: count, Length: 4111, dtype: int64"
      ]
     },
     "execution_count": 30,
     "metadata": {},
     "output_type": "execute_result"
    }
   ],
   "source": [
    "#text_change\n",
    "train_logs['text_change'].value_counts()"
   ]
  },
  {
   "cell_type": "code",
   "execution_count": 31,
   "id": "8c53b843",
   "metadata": {
    "execution": {
     "iopub.execute_input": "2023-11-08T08:32:53.593368Z",
     "iopub.status.busy": "2023-11-08T08:32:53.592966Z",
     "iopub.status.idle": "2023-11-08T08:32:53.846284Z",
     "shell.execute_reply": "2023-11-08T08:32:53.845156Z"
    },
    "id": "RWT2dM3woU3g",
    "outputId": "6dbcf5bf-85f2-4634-d656-c7bd06788d4a",
    "papermill": {
     "duration": 0.304803,
     "end_time": "2023-11-08T08:32:53.848683",
     "exception": false,
     "start_time": "2023-11-08T08:32:53.543880",
     "status": "completed"
    },
    "tags": []
   },
   "outputs": [
    {
     "data": {
      "text/plain": [
       "count    8.405898e+06\n",
       "mean     9.808498e+01\n",
       "std      2.533985e+02\n",
       "min      0.000000e+00\n",
       "25%      6.600000e+01\n",
       "50%      9.300000e+01\n",
       "75%      1.220000e+02\n",
       "max      4.474700e+05\n",
       "Name: action_time, dtype: float64"
      ]
     },
     "execution_count": 31,
     "metadata": {},
     "output_type": "execute_result"
    }
   ],
   "source": [
    "train_logs['action_time'].describe()"
   ]
  },
  {
   "cell_type": "code",
   "execution_count": 32,
   "id": "92024586",
   "metadata": {
    "execution": {
     "iopub.execute_input": "2023-11-08T08:32:53.945402Z",
     "iopub.status.busy": "2023-11-08T08:32:53.944426Z",
     "iopub.status.idle": "2023-11-08T08:32:55.542066Z",
     "shell.execute_reply": "2023-11-08T08:32:55.540959Z"
    },
    "id": "MQ8cMoi2nDVd",
    "outputId": "9ef88f25-1727-4779-a645-99bf19ce558f",
    "papermill": {
     "duration": 1.648635,
     "end_time": "2023-11-08T08:32:55.544396",
     "exception": false,
     "start_time": "2023-11-08T08:32:53.895761",
     "status": "completed"
    },
    "tags": []
   },
   "outputs": [
    {
     "data": {
      "image/png": "[encoded data removed]",
      "text/plain": [
       "<Figure size 640x480 with 1 Axes>"
      ]
     },
     "metadata": {},
     "output_type": "display_data"
    }
   ],
   "source": [
    "#action_time\n",
    "train_logs.loc[train_logs['action_time'] < 4e2]['action_time'].hist(bins=40);"
   ]
  },
  {
   "cell_type": "code",
   "execution_count": 33,
   "id": "bf4f5748",
   "metadata": {
    "execution": {
     "iopub.execute_input": "2023-11-08T08:32:55.640873Z",
     "iopub.status.busy": "2023-11-08T08:32:55.639779Z",
     "iopub.status.idle": "2023-11-08T08:32:56.369189Z",
     "shell.execute_reply": "2023-11-08T08:32:56.367967Z"
    },
    "id": "8FFJIpHT2Mqs",
    "outputId": "ca57dd75-b4d4-4350-fd5e-6481b2e7f75c",
    "papermill": {
     "duration": 0.780919,
     "end_time": "2023-11-08T08:32:56.372136",
     "exception": false,
     "start_time": "2023-11-08T08:32:55.591217",
     "status": "completed"
    },
    "tags": []
   },
   "outputs": [
    {
     "data": {
      "image/png": "[encoded data removed]",
      "text/plain": [
       "<Figure size 640x480 with 1 Axes>"
      ]
     },
     "metadata": {},
     "output_type": "display_data"
    }
   ],
   "source": [
    "#log action_time\n",
    "np.log1p(train_logs['action_time']).hist(bins=40);"
   ]
  },
  {
   "cell_type": "code",
   "execution_count": null,
   "id": "b729150f",
   "metadata": {
    "id": "aB6y389w2pRJ",
    "papermill": {
     "duration": 0.046959,
     "end_time": "2023-11-08T08:32:56.656601",
     "exception": false,
     "start_time": "2023-11-08T08:32:56.609642",
     "status": "completed"
    },
    "tags": []
   },
   "outputs": [],
   "source": []
  },
  {
   "cell_type": "code",
   "execution_count": 34,
   "id": "122547eb",
   "metadata": {
    "execution": {
     "iopub.execute_input": "2023-11-08T08:32:56.754320Z",
     "iopub.status.busy": "2023-11-08T08:32:56.753604Z",
     "iopub.status.idle": "2023-11-08T08:32:56.783205Z",
     "shell.execute_reply": "2023-11-08T08:32:56.782018Z"
    },
    "id": "ueyjgyOwny7V",
    "outputId": "ab52df6c-94d9-491d-c760-847919eec243",
    "papermill": {
     "duration": 0.082095,
     "end_time": "2023-11-08T08:32:56.785574",
     "exception": false,
     "start_time": "2023-11-08T08:32:56.703479",
     "status": "completed"
    },
    "tags": []
   },
   "outputs": [
    {
     "data": {
      "text/plain": [
       "id                 5787\n",
       "event_id           5787\n",
       "down_time          5787\n",
       "up_time            5787\n",
       "action_time        5787\n",
       "activity           5787\n",
       "down_event         5787\n",
       "up_event           5787\n",
       "text_change        5787\n",
       "cursor_position    5787\n",
       "word_count         5787\n",
       "dtype: int64"
      ]
     },
     "execution_count": 34,
     "metadata": {},
     "output_type": "execute_result"
    }
   ],
   "source": [
    "train_logs.loc[train_logs['action_time'] > 1e3].count()"
   ]
  },
  {
   "cell_type": "code",
   "execution_count": 35,
   "id": "e0203902",
   "metadata": {
    "execution": {
     "iopub.execute_input": "2023-11-08T08:32:56.882194Z",
     "iopub.status.busy": "2023-11-08T08:32:56.881787Z",
     "iopub.status.idle": "2023-11-08T08:32:57.411401Z",
     "shell.execute_reply": "2023-11-08T08:32:57.410259Z"
    },
    "id": "-aXNdulypTZF",
    "outputId": "b81e82de-b99c-4e79-c62c-ca8795197aae",
    "papermill": {
     "duration": 0.580738,
     "end_time": "2023-11-08T08:32:57.413739",
     "exception": false,
     "start_time": "2023-11-08T08:32:56.833001",
     "status": "completed"
    },
    "tags": []
   },
   "outputs": [
    {
     "data": {
      "image/png": "[encoded data removed]",
      "text/plain": [
       "<Figure size 640x480 with 1 Axes>"
      ]
     },
     "metadata": {},
     "output_type": "display_data"
    }
   ],
   "source": [
    "#cursor_position\n",
    "train_logs['cursor_position'].hist(bins=40);"
   ]
  },
  {
   "cell_type": "code",
   "execution_count": 36,
   "id": "6e38ccf4",
   "metadata": {
    "execution": {
     "iopub.execute_input": "2023-11-08T08:32:57.512670Z",
     "iopub.status.busy": "2023-11-08T08:32:57.512003Z",
     "iopub.status.idle": "2023-11-08T08:32:58.054627Z",
     "shell.execute_reply": "2023-11-08T08:32:58.053469Z"
    },
    "id": "7RDsYE_Tx34V",
    "outputId": "0d9bac93-3683-4e62-e843-4744ee9cb7c0",
    "papermill": {
     "duration": 0.595794,
     "end_time": "2023-11-08T08:32:58.057123",
     "exception": false,
     "start_time": "2023-11-08T08:32:57.461329",
     "status": "completed"
    },
    "tags": []
   },
   "outputs": [
    {
     "data": {
      "image/png": "[encoded data removed]",
      "text/plain": [
       "<Figure size 640x480 with 1 Axes>"
      ]
     },
     "metadata": {},
     "output_type": "display_data"
    }
   ],
   "source": [
    "#word_count\n",
    "train_logs['word_count'].hist(bins=40);"
   ]
  },
  {
   "cell_type": "code",
   "execution_count": null,
   "id": "a088f0c5",
   "metadata": {
    "id": "9GwkYPs2CfTt",
    "papermill": {
     "duration": 0.048484,
     "end_time": "2023-11-08T08:32:58.156040",
     "exception": false,
     "start_time": "2023-11-08T08:32:58.107556",
     "status": "completed"
    },
    "tags": []
   },
   "outputs": [],
   "source": []
  },
  {
   "cell_type": "code",
   "execution_count": 37,
   "id": "d042cc5e",
   "metadata": {
    "execution": {
     "iopub.execute_input": "2023-11-08T08:32:58.261725Z",
     "iopub.status.busy": "2023-11-08T08:32:58.261064Z",
     "iopub.status.idle": "2023-11-08T08:32:58.621218Z",
     "shell.execute_reply": "2023-11-08T08:32:58.620011Z"
    },
    "id": "o8eed3tKJ620",
    "outputId": "337c0a38-5e01-4835-f6ee-2fb799362fd1",
    "papermill": {
     "duration": 0.415298,
     "end_time": "2023-11-08T08:32:58.623887",
     "exception": false,
     "start_time": "2023-11-08T08:32:58.208589",
     "status": "completed"
    },
    "tags": []
   },
   "outputs": [
    {
     "data": {
      "image/png": "[encoded data removed]",
      "text/plain": [
       "<Figure size 640x480 with 1 Axes>"
      ]
     },
     "metadata": {},
     "output_type": "display_data"
    }
   ],
   "source": [
    "#action_time\n",
    "user_d3fef198.loc[user_d3fef198['action_time'] < 300]['action_time'].hist(bins=40);"
   ]
  },
  {
   "cell_type": "code",
   "execution_count": 38,
   "id": "7109aef0",
   "metadata": {
    "execution": {
     "iopub.execute_input": "2023-11-08T08:32:58.724672Z",
     "iopub.status.busy": "2023-11-08T08:32:58.723836Z",
     "iopub.status.idle": "2023-11-08T08:32:58.744709Z",
     "shell.execute_reply": "2023-11-08T08:32:58.743549Z"
    },
    "id": "TUHhfC3c1Ezd",
    "outputId": "86a8e1d4-5ddb-464b-ba04-f371e668d6aa",
    "papermill": {
     "duration": 0.074166,
     "end_time": "2023-11-08T08:32:58.747498",
     "exception": false,
     "start_time": "2023-11-08T08:32:58.673332",
     "status": "completed"
    },
    "tags": []
   },
   "outputs": [
    {
     "data": {
      "text/html": [
       "<div>\n",
       "<style scoped>\n",
       "    .dataframe tbody tr th:only-of-type {\n",
       "        vertical-align: middle;\n",
       "    }\n",
       "\n",
       "    .dataframe tbody tr th {\n",
       "        vertical-align: top;\n",
       "    }\n",
       "\n",
       "    .dataframe thead th {\n",
       "        text-align: right;\n",
       "    }\n",
       "</style>\n",
       "<table border=\"1\" class=\"dataframe\">\n",
       "  <thead>\n",
       "    <tr style=\"text-align: right;\">\n",
       "      <th></th>\n",
       "      <th>id</th>\n",
       "      <th>event_id</th>\n",
       "      <th>down_time</th>\n",
       "      <th>up_time</th>\n",
       "      <th>action_time</th>\n",
       "      <th>activity</th>\n",
       "      <th>down_event</th>\n",
       "      <th>up_event</th>\n",
       "      <th>text_change</th>\n",
       "      <th>cursor_position</th>\n",
       "      <th>word_count</th>\n",
       "    </tr>\n",
       "  </thead>\n",
       "  <tbody>\n",
       "    <tr>\n",
       "      <th>6857805</th>\n",
       "      <td>d3fef198</td>\n",
       "      <td>1</td>\n",
       "      <td>844</td>\n",
       "      <td>1061</td>\n",
       "      <td>217</td>\n",
       "      <td>Nonproduction</td>\n",
       "      <td>Leftclick</td>\n",
       "      <td>Leftclick</td>\n",
       "      <td>NoChange</td>\n",
       "      <td>0</td>\n",
       "      <td>0</td>\n",
       "    </tr>\n",
       "    <tr>\n",
       "      <th>6857806</th>\n",
       "      <td>d3fef198</td>\n",
       "      <td>2</td>\n",
       "      <td>6951</td>\n",
       "      <td>7172</td>\n",
       "      <td>221</td>\n",
       "      <td>Nonproduction</td>\n",
       "      <td>Leftclick</td>\n",
       "      <td>Leftclick</td>\n",
       "      <td>NoChange</td>\n",
       "      <td>0</td>\n",
       "      <td>0</td>\n",
       "    </tr>\n",
       "    <tr>\n",
       "      <th>6857807</th>\n",
       "      <td>d3fef198</td>\n",
       "      <td>3</td>\n",
       "      <td>28631</td>\n",
       "      <td>28631</td>\n",
       "      <td>0</td>\n",
       "      <td>Nonproduction</td>\n",
       "      <td>Shift</td>\n",
       "      <td>Shift</td>\n",
       "      <td>NoChange</td>\n",
       "      <td>0</td>\n",
       "      <td>0</td>\n",
       "    </tr>\n",
       "    <tr>\n",
       "      <th>6857808</th>\n",
       "      <td>d3fef198</td>\n",
       "      <td>4</td>\n",
       "      <td>28706</td>\n",
       "      <td>28796</td>\n",
       "      <td>90</td>\n",
       "      <td>Input</td>\n",
       "      <td>q</td>\n",
       "      <td>q</td>\n",
       "      <td>q</td>\n",
       "      <td>1</td>\n",
       "      <td>1</td>\n",
       "    </tr>\n",
       "    <tr>\n",
       "      <th>6857809</th>\n",
       "      <td>d3fef198</td>\n",
       "      <td>5</td>\n",
       "      <td>28753</td>\n",
       "      <td>28865</td>\n",
       "      <td>112</td>\n",
       "      <td>Input</td>\n",
       "      <td>q</td>\n",
       "      <td>q</td>\n",
       "      <td>q</td>\n",
       "      <td>2</td>\n",
       "      <td>1</td>\n",
       "    </tr>\n",
       "    <tr>\n",
       "      <th>...</th>\n",
       "      <td>...</td>\n",
       "      <td>...</td>\n",
       "      <td>...</td>\n",
       "      <td>...</td>\n",
       "      <td>...</td>\n",
       "      <td>...</td>\n",
       "      <td>...</td>\n",
       "      <td>...</td>\n",
       "      <td>...</td>\n",
       "      <td>...</td>\n",
       "      <td>...</td>\n",
       "    </tr>\n",
       "    <tr>\n",
       "      <th>6870676</th>\n",
       "      <td>d3fef198</td>\n",
       "      <td>12872</td>\n",
       "      <td>1814664</td>\n",
       "      <td>1814729</td>\n",
       "      <td>65</td>\n",
       "      <td>Input</td>\n",
       "      <td>.</td>\n",
       "      <td>.</td>\n",
       "      <td>.</td>\n",
       "      <td>5480</td>\n",
       "      <td>954</td>\n",
       "    </tr>\n",
       "    <tr>\n",
       "      <th>6870677</th>\n",
       "      <td>d3fef198</td>\n",
       "      <td>12873</td>\n",
       "      <td>1814942</td>\n",
       "      <td>1814981</td>\n",
       "      <td>39</td>\n",
       "      <td>Remove/Cut</td>\n",
       "      <td>Backspace</td>\n",
       "      <td>Backspace</td>\n",
       "      <td>.</td>\n",
       "      <td>5479</td>\n",
       "      <td>954</td>\n",
       "    </tr>\n",
       "    <tr>\n",
       "      <th>6870678</th>\n",
       "      <td>d3fef198</td>\n",
       "      <td>12874</td>\n",
       "      <td>1815034</td>\n",
       "      <td>1815094</td>\n",
       "      <td>60</td>\n",
       "      <td>Remove/Cut</td>\n",
       "      <td>Backspace</td>\n",
       "      <td>Backspace</td>\n",
       "      <td>,</td>\n",
       "      <td>5478</td>\n",
       "      <td>954</td>\n",
       "    </tr>\n",
       "    <tr>\n",
       "      <th>6870679</th>\n",
       "      <td>d3fef198</td>\n",
       "      <td>12875</td>\n",
       "      <td>1815273</td>\n",
       "      <td>1815306</td>\n",
       "      <td>33</td>\n",
       "      <td>Input</td>\n",
       "      <td>.</td>\n",
       "      <td>.</td>\n",
       "      <td>.</td>\n",
       "      <td>5479</td>\n",
       "      <td>954</td>\n",
       "    </tr>\n",
       "    <tr>\n",
       "      <th>6870680</th>\n",
       "      <td>d3fef198</td>\n",
       "      <td>12876</td>\n",
       "      <td>1815294</td>\n",
       "      <td>1815384</td>\n",
       "      <td>90</td>\n",
       "      <td>Input</td>\n",
       "      <td>Space</td>\n",
       "      <td>Space</td>\n",
       "      <td></td>\n",
       "      <td>5480</td>\n",
       "      <td>954</td>\n",
       "    </tr>\n",
       "  </tbody>\n",
       "</table>\n",
       "<p>12876 rows × 11 columns</p>\n",
       "</div>"
      ],
      "text/plain": [
       "               id  event_id  down_time  up_time  action_time       activity  \\\n",
       "6857805  d3fef198         1        844     1061          217  Nonproduction   \n",
       "6857806  d3fef198         2       6951     7172          221  Nonproduction   \n",
       "6857807  d3fef198         3      28631    28631            0  Nonproduction   \n",
       "6857808  d3fef198         4      28706    28796           90          Input   \n",
       "6857809  d3fef198         5      28753    28865          112          Input   \n",
       "...           ...       ...        ...      ...          ...            ...   \n",
       "6870676  d3fef198     12872    1814664  1814729           65          Input   \n",
       "6870677  d3fef198     12873    1814942  1814981           39     Remove/Cut   \n",
       "6870678  d3fef198     12874    1815034  1815094           60     Remove/Cut   \n",
       "6870679  d3fef198     12875    1815273  1815306           33          Input   \n",
       "6870680  d3fef198     12876    1815294  1815384           90          Input   \n",
       "\n",
       "        down_event   up_event text_change  cursor_position  word_count  \n",
       "6857805  Leftclick  Leftclick    NoChange                0           0  \n",
       "6857806  Leftclick  Leftclick    NoChange                0           0  \n",
       "6857807      Shift      Shift    NoChange                0           0  \n",
       "6857808          q          q           q                1           1  \n",
       "6857809          q          q           q                2           1  \n",
       "...            ...        ...         ...              ...         ...  \n",
       "6870676          .          .           .             5480         954  \n",
       "6870677  Backspace  Backspace           .             5479         954  \n",
       "6870678  Backspace  Backspace           ,             5478         954  \n",
       "6870679          .          .           .             5479         954  \n",
       "6870680      Space      Space                         5480         954  \n",
       "\n",
       "[12876 rows x 11 columns]"
      ]
     },
     "execution_count": 38,
     "metadata": {},
     "output_type": "execute_result"
    }
   ],
   "source": [
    "user_d3fef198"
   ]
  },
  {
   "cell_type": "markdown",
   "id": "875d7b5a",
   "metadata": {
    "id": "zrhQaxcjCUmM",
    "papermill": {
     "duration": 0.049066,
     "end_time": "2023-11-08T08:32:58.846928",
     "exception": false,
     "start_time": "2023-11-08T08:32:58.797862",
     "status": "completed"
    },
    "tags": []
   },
   "source": [
    "Идеи:\n",
    "\n",
    "0. удалить столбец `up_event`, потому что он в 99,99% случаев повторяет столбец `down_event`.\n",
    "1. для каждого юзера собрать статистику\n",
    "- колчество записей (правок)\n",
    "- посчитать кол-во каждого вида `activity`\n",
    "-\n",
    "\n",
    "2. подумать о логарифмировании некоторых столбцов\n",
    "3. посчитать лаг по `down_time`, потом на его основе посчитать разные статистики\n",
    "\n",
    "4. может посмотреть некий график по времени `down_time` для некоторых клиентов? Может `cursor_position` или ещё что\n",
    "5.\n",
    "\n",
    "-- --\n",
    "Ideas:\n",
    "\n",
    "0. remove the `up_event` column, because in 99.99% of cases it is the same as the `down_event` column.\n",
    "1. collect statistics for each user\n",
    "- number of entries (edits)\n",
    "- count the number of each type of `activity`\n",
    "-\n",
    "\n",
    "2. think about taking logarithms of some columns\n",
    "3. calculate the lag using `down_time`, then calculate various statistics based on it\n",
    "\n",
    "4. Can I look at a certain `down_time` time graph for some clients? Maybe `cursor_position` or something else\n",
    "5."
   ]
  },
  {
   "cell_type": "code",
   "execution_count": null,
   "id": "b33809fa",
   "metadata": {
    "id": "ZrYFaetw_LBB",
    "papermill": {
     "duration": 0.048769,
     "end_time": "2023-11-08T08:32:58.945841",
     "exception": false,
     "start_time": "2023-11-08T08:32:58.897072",
     "status": "completed"
    },
    "tags": []
   },
   "outputs": [],
   "source": []
  },
  {
   "cell_type": "markdown",
   "id": "d1074e70",
   "metadata": {
    "id": "rK_OQlFm4E7b",
    "papermill": {
     "duration": 0.049785,
     "end_time": "2023-11-08T08:32:59.045505",
     "exception": false,
     "start_time": "2023-11-08T08:32:58.995720",
     "status": "completed"
    },
    "tags": []
   },
   "source": [
    "## Test"
   ]
  },
  {
   "cell_type": "code",
   "execution_count": 39,
   "id": "179088d9",
   "metadata": {
    "execution": {
     "iopub.execute_input": "2023-11-08T08:32:59.148378Z",
     "iopub.status.busy": "2023-11-08T08:32:59.147626Z",
     "iopub.status.idle": "2023-11-08T08:32:59.160839Z",
     "shell.execute_reply": "2023-11-08T08:32:59.159276Z"
    },
    "id": "J78Gr-q6_LDW",
    "outputId": "42f6fab7-3456-48bd-99b7-2076b12ef8ec",
    "papermill": {
     "duration": 0.06844,
     "end_time": "2023-11-08T08:32:59.163543",
     "exception": false,
     "start_time": "2023-11-08T08:32:59.095103",
     "status": "completed"
    },
    "tags": []
   },
   "outputs": [
    {
     "name": "stdout",
     "output_type": "stream",
     "text": [
      "<class 'pandas.core.frame.DataFrame'>\n",
      "RangeIndex: 6 entries, 0 to 5\n",
      "Data columns (total 11 columns):\n",
      " #   Column           Non-Null Count  Dtype \n",
      "---  ------           --------------  ----- \n",
      " 0   id               6 non-null      object\n",
      " 1   event_id         6 non-null      int64 \n",
      " 2   down_time        6 non-null      int64 \n",
      " 3   up_time          6 non-null      int64 \n",
      " 4   action_time      6 non-null      int64 \n",
      " 5   activity         6 non-null      object\n",
      " 6   down_event       6 non-null      object\n",
      " 7   up_event         6 non-null      object\n",
      " 8   text_change      6 non-null      object\n",
      " 9   cursor_position  6 non-null      int64 \n",
      " 10  word_count       6 non-null      int64 \n",
      "dtypes: int64(6), object(5)\n",
      "memory usage: 656.0+ bytes\n"
     ]
    }
   ],
   "source": [
    "test_logs.info()"
   ]
  },
  {
   "cell_type": "code",
   "execution_count": null,
   "id": "4819b310",
   "metadata": {
    "id": "4_jmZcfY_LIS",
    "papermill": {
     "duration": 0.048867,
     "end_time": "2023-11-08T08:32:59.264605",
     "exception": false,
     "start_time": "2023-11-08T08:32:59.215738",
     "status": "completed"
    },
    "tags": []
   },
   "outputs": [],
   "source": []
  },
  {
   "cell_type": "markdown",
   "id": "622b5bb4",
   "metadata": {
    "id": "LOFX_87N_MIZ",
    "papermill": {
     "duration": 0.048999,
     "end_time": "2023-11-08T08:32:59.363448",
     "exception": false,
     "start_time": "2023-11-08T08:32:59.314449",
     "status": "completed"
    },
    "tags": []
   },
   "source": [
    "## Prepare data"
   ]
  },
  {
   "cell_type": "code",
   "execution_count": null,
   "id": "7bd1a336",
   "metadata": {
    "id": "pswRYO_a_LUS",
    "papermill": {
     "duration": 0.048881,
     "end_time": "2023-11-08T08:32:59.461700",
     "exception": false,
     "start_time": "2023-11-08T08:32:59.412819",
     "status": "completed"
    },
    "tags": []
   },
   "outputs": [],
   "source": []
  },
  {
   "cell_type": "markdown",
   "id": "4046373b",
   "metadata": {
    "id": "7-rNUcWh_T_R",
    "papermill": {
     "duration": 0.049715,
     "end_time": "2023-11-08T08:32:59.561762",
     "exception": false,
     "start_time": "2023-11-08T08:32:59.512047",
     "status": "completed"
    },
    "tags": []
   },
   "source": [
    "### Использование разделителя данных с учетом групп (по id)\n",
    "### Separate data by id\n",
    "> Indented blockz\n",
    "\n",
    "\n"
   ]
  },
  {
   "cell_type": "code",
   "execution_count": 40,
   "id": "2346840c",
   "metadata": {
    "execution": {
     "iopub.execute_input": "2023-11-08T08:32:59.663916Z",
     "iopub.status.busy": "2023-11-08T08:32:59.663209Z",
     "iopub.status.idle": "2023-11-08T08:32:59.670251Z",
     "shell.execute_reply": "2023-11-08T08:32:59.669195Z"
    },
    "id": "Sty7iKvP_a8o",
    "outputId": "504fb732-0ebb-4b5e-dd0a-0454fe5b66f3",
    "papermill": {
     "duration": 0.060481,
     "end_time": "2023-11-08T08:32:59.672616",
     "exception": false,
     "start_time": "2023-11-08T08:32:59.612135",
     "status": "completed"
    },
    "tags": []
   },
   "outputs": [
    {
     "data": {
      "text/plain": [
       "((8405898, 11), (2471, 2))"
      ]
     },
     "execution_count": 40,
     "metadata": {},
     "output_type": "execute_result"
    }
   ],
   "source": [
    "train_logs.shape, train_scores.shape"
   ]
  },
  {
   "cell_type": "code",
   "execution_count": 41,
   "id": "f00a0e57",
   "metadata": {
    "execution": {
     "iopub.execute_input": "2023-11-08T08:32:59.774128Z",
     "iopub.status.busy": "2023-11-08T08:32:59.773666Z",
     "iopub.status.idle": "2023-11-08T08:32:59.783579Z",
     "shell.execute_reply": "2023-11-08T08:32:59.782343Z"
    },
    "id": "b_TbxNX5HPGx",
    "outputId": "abf8a547-6e8c-4a07-a0d7-0a3e499df837",
    "papermill": {
     "duration": 0.063691,
     "end_time": "2023-11-08T08:32:59.786100",
     "exception": false,
     "start_time": "2023-11-08T08:32:59.722409",
     "status": "completed"
    },
    "tags": []
   },
   "outputs": [
    {
     "data": {
      "text/plain": [
       "((1976,), (495,))"
      ]
     },
     "execution_count": 41,
     "metadata": {},
     "output_type": "execute_result"
    }
   ],
   "source": [
    "train_id, valid_id = train_test_split(train_scores['id'], test_size=0.2, random_state = STATE)\n",
    "train_id.shape, valid_id.shape"
   ]
  },
  {
   "cell_type": "code",
   "execution_count": 42,
   "id": "ab883192",
   "metadata": {
    "execution": {
     "iopub.execute_input": "2023-11-08T08:32:59.887801Z",
     "iopub.status.busy": "2023-11-08T08:32:59.887379Z",
     "iopub.status.idle": "2023-11-08T08:33:02.099684Z",
     "shell.execute_reply": "2023-11-08T08:33:02.098820Z"
    },
    "id": "cZ5x8tevFW9e",
    "outputId": "95add06a-7c5e-439c-9468-34bbc2739ced",
    "papermill": {
     "duration": 2.265654,
     "end_time": "2023-11-08T08:33:02.101783",
     "exception": false,
     "start_time": "2023-11-08T08:32:59.836129",
     "status": "completed"
    },
    "tags": []
   },
   "outputs": [
    {
     "data": {
      "text/plain": [
       "((6707106, 11), (1976, 2), (1698792, 11), (495, 2))"
      ]
     },
     "execution_count": 42,
     "metadata": {},
     "output_type": "execute_result"
    }
   ],
   "source": [
    "x_train = train_logs.loc[train_logs['id'].isin(train_id)]\n",
    "y_train = train_scores.loc[train_scores['id'].isin(train_id)]\n",
    "\n",
    "x_valid = train_logs.loc[train_logs['id'].isin(valid_id)]\n",
    "y_valid = train_scores.loc[train_scores['id'].isin(valid_id)]\n",
    "\n",
    "x_train.shape, y_train.shape, x_valid.shape, y_valid.shape\n"
   ]
  },
  {
   "cell_type": "code",
   "execution_count": 43,
   "id": "6e1e6f8f",
   "metadata": {
    "execution": {
     "iopub.execute_input": "2023-11-08T08:33:02.206744Z",
     "iopub.status.busy": "2023-11-08T08:33:02.206359Z",
     "iopub.status.idle": "2023-11-08T08:33:02.213287Z",
     "shell.execute_reply": "2023-11-08T08:33:02.212211Z"
    },
    "id": "o1gIbQGwJnvP",
    "outputId": "9062ab61-e895-4576-b763-cfaa82ff6643",
    "papermill": {
     "duration": 0.063429,
     "end_time": "2023-11-08T08:33:02.215729",
     "exception": false,
     "start_time": "2023-11-08T08:33:02.152300",
     "status": "completed"
    },
    "tags": []
   },
   "outputs": [
    {
     "data": {
      "text/plain": [
       "True"
      ]
     },
     "execution_count": 43,
     "metadata": {},
     "output_type": "execute_result"
    }
   ],
   "source": [
    "#check\n",
    "x_train.shape[0] + x_valid.shape[0] == train_logs.shape[0]"
   ]
  },
  {
   "cell_type": "code",
   "execution_count": 44,
   "id": "a706f9b8",
   "metadata": {
    "execution": {
     "iopub.execute_input": "2023-11-08T08:33:02.317876Z",
     "iopub.status.busy": "2023-11-08T08:33:02.317459Z",
     "iopub.status.idle": "2023-11-08T08:33:02.533432Z",
     "shell.execute_reply": "2023-11-08T08:33:02.532319Z"
    },
    "id": "lNgpw1F3_fo5",
    "outputId": "3f4907f3-b76a-4232-8637-7c5f3206603a",
    "papermill": {
     "duration": 0.270028,
     "end_time": "2023-11-08T08:33:02.535981",
     "exception": false,
     "start_time": "2023-11-08T08:33:02.265953",
     "status": "completed"
    },
    "tags": []
   },
   "outputs": [
    {
     "data": {
      "text/plain": [
       "0"
      ]
     },
     "execution_count": 44,
     "metadata": {},
     "output_type": "execute_result"
    }
   ],
   "source": [
    "#проверка что ни один id не встречается в двух выборках одновременно\n",
    "#check\n",
    "x_train.id.isin(x_valid.id).sum()"
   ]
  },
  {
   "cell_type": "code",
   "execution_count": 45,
   "id": "450b25aa",
   "metadata": {
    "execution": {
     "iopub.execute_input": "2023-11-08T08:33:02.642815Z",
     "iopub.status.busy": "2023-11-08T08:33:02.642049Z",
     "iopub.status.idle": "2023-11-08T08:33:02.646282Z",
     "shell.execute_reply": "2023-11-08T08:33:02.645392Z"
    },
    "id": "2k3aTQ8P_fto",
    "papermill": {
     "duration": 0.061079,
     "end_time": "2023-11-08T08:33:02.648499",
     "exception": false,
     "start_time": "2023-11-08T08:33:02.587420",
     "status": "completed"
    },
    "tags": []
   },
   "outputs": [],
   "source": [
    "#train_logs.groupby('id').agg({'text_change': list}).reset_index()"
   ]
  },
  {
   "cell_type": "markdown",
   "id": "0b265037",
   "metadata": {
    "id": "KxcwXr-KKes2",
    "papermill": {
     "duration": 0.049647,
     "end_time": "2023-11-08T08:33:02.748357",
     "exception": false,
     "start_time": "2023-11-08T08:33:02.698710",
     "status": "completed"
    },
    "tags": []
   },
   "source": [
    "### add new future"
   ]
  },
  {
   "cell_type": "code",
   "execution_count": 46,
   "id": "1c7d293c",
   "metadata": {
    "execution": {
     "iopub.execute_input": "2023-11-08T08:33:02.851804Z",
     "iopub.status.busy": "2023-11-08T08:33:02.851033Z",
     "iopub.status.idle": "2023-11-08T08:33:02.867297Z",
     "shell.execute_reply": "2023-11-08T08:33:02.866001Z"
    },
    "id": "qJrvEeh4Kq98",
    "outputId": "c9623582-e635-41e1-dad3-168d893cf637",
    "papermill": {
     "duration": 0.071137,
     "end_time": "2023-11-08T08:33:02.869999",
     "exception": false,
     "start_time": "2023-11-08T08:33:02.798862",
     "status": "completed"
    },
    "tags": []
   },
   "outputs": [
    {
     "data": {
      "text/html": [
       "<div>\n",
       "<style scoped>\n",
       "    .dataframe tbody tr th:only-of-type {\n",
       "        vertical-align: middle;\n",
       "    }\n",
       "\n",
       "    .dataframe tbody tr th {\n",
       "        vertical-align: top;\n",
       "    }\n",
       "\n",
       "    .dataframe thead th {\n",
       "        text-align: right;\n",
       "    }\n",
       "</style>\n",
       "<table border=\"1\" class=\"dataframe\">\n",
       "  <thead>\n",
       "    <tr style=\"text-align: right;\">\n",
       "      <th></th>\n",
       "      <th>id</th>\n",
       "      <th>event_id</th>\n",
       "      <th>down_time</th>\n",
       "      <th>up_time</th>\n",
       "      <th>action_time</th>\n",
       "      <th>activity</th>\n",
       "      <th>down_event</th>\n",
       "      <th>up_event</th>\n",
       "      <th>text_change</th>\n",
       "      <th>cursor_position</th>\n",
       "      <th>word_count</th>\n",
       "    </tr>\n",
       "  </thead>\n",
       "  <tbody>\n",
       "    <tr>\n",
       "      <th>0</th>\n",
       "      <td>001519c8</td>\n",
       "      <td>1</td>\n",
       "      <td>4526</td>\n",
       "      <td>4557</td>\n",
       "      <td>31</td>\n",
       "      <td>Nonproduction</td>\n",
       "      <td>Leftclick</td>\n",
       "      <td>Leftclick</td>\n",
       "      <td>NoChange</td>\n",
       "      <td>0</td>\n",
       "      <td>0</td>\n",
       "    </tr>\n",
       "    <tr>\n",
       "      <th>1</th>\n",
       "      <td>001519c8</td>\n",
       "      <td>2</td>\n",
       "      <td>4558</td>\n",
       "      <td>4962</td>\n",
       "      <td>404</td>\n",
       "      <td>Nonproduction</td>\n",
       "      <td>Leftclick</td>\n",
       "      <td>Leftclick</td>\n",
       "      <td>NoChange</td>\n",
       "      <td>0</td>\n",
       "      <td>0</td>\n",
       "    </tr>\n",
       "    <tr>\n",
       "      <th>2</th>\n",
       "      <td>001519c8</td>\n",
       "      <td>3</td>\n",
       "      <td>106571</td>\n",
       "      <td>106571</td>\n",
       "      <td>0</td>\n",
       "      <td>Nonproduction</td>\n",
       "      <td>Shift</td>\n",
       "      <td>Shift</td>\n",
       "      <td>NoChange</td>\n",
       "      <td>0</td>\n",
       "      <td>0</td>\n",
       "    </tr>\n",
       "    <tr>\n",
       "      <th>3</th>\n",
       "      <td>001519c8</td>\n",
       "      <td>4</td>\n",
       "      <td>106686</td>\n",
       "      <td>106777</td>\n",
       "      <td>91</td>\n",
       "      <td>Input</td>\n",
       "      <td>q</td>\n",
       "      <td>q</td>\n",
       "      <td>q</td>\n",
       "      <td>1</td>\n",
       "      <td>1</td>\n",
       "    </tr>\n",
       "    <tr>\n",
       "      <th>4</th>\n",
       "      <td>001519c8</td>\n",
       "      <td>5</td>\n",
       "      <td>107196</td>\n",
       "      <td>107323</td>\n",
       "      <td>127</td>\n",
       "      <td>Input</td>\n",
       "      <td>q</td>\n",
       "      <td>q</td>\n",
       "      <td>q</td>\n",
       "      <td>2</td>\n",
       "      <td>1</td>\n",
       "    </tr>\n",
       "  </tbody>\n",
       "</table>\n",
       "</div>"
      ],
      "text/plain": [
       "         id  event_id  down_time  up_time  action_time       activity  \\\n",
       "0  001519c8         1       4526     4557           31  Nonproduction   \n",
       "1  001519c8         2       4558     4962          404  Nonproduction   \n",
       "2  001519c8         3     106571   106571            0  Nonproduction   \n",
       "3  001519c8         4     106686   106777           91          Input   \n",
       "4  001519c8         5     107196   107323          127          Input   \n",
       "\n",
       "  down_event   up_event text_change  cursor_position  word_count  \n",
       "0  Leftclick  Leftclick    NoChange                0           0  \n",
       "1  Leftclick  Leftclick    NoChange                0           0  \n",
       "2      Shift      Shift    NoChange                0           0  \n",
       "3          q          q           q                1           1  \n",
       "4          q          q           q                2           1  "
      ]
     },
     "execution_count": 46,
     "metadata": {},
     "output_type": "execute_result"
    }
   ],
   "source": [
    "x_train.head()"
   ]
  },
  {
   "cell_type": "code",
   "execution_count": null,
   "id": "8eef8176",
   "metadata": {
    "id": "9cNx2TmbpXNN",
    "papermill": {
     "duration": 0.050452,
     "end_time": "2023-11-08T08:33:03.075209",
     "exception": false,
     "start_time": "2023-11-08T08:33:03.024757",
     "status": "completed"
    },
    "tags": []
   },
   "outputs": [],
   "source": []
  },
  {
   "cell_type": "code",
   "execution_count": 47,
   "id": "a2fe99f2",
   "metadata": {
    "execution": {
     "iopub.execute_input": "2023-11-08T08:33:03.179662Z",
     "iopub.status.busy": "2023-11-08T08:33:03.178825Z",
     "iopub.status.idle": "2023-11-08T08:33:03.183800Z",
     "shell.execute_reply": "2023-11-08T08:33:03.183005Z"
    },
    "id": "lWtH63DoXGdw",
    "papermill": {
     "duration": 0.059421,
     "end_time": "2023-11-08T08:33:03.185968",
     "exception": false,
     "start_time": "2023-11-08T08:33:03.126547",
     "status": "completed"
    },
    "tags": []
   },
   "outputs": [],
   "source": [
    "#удаление лишнего столбца\n",
    "def del_coll(df):\n",
    "    return df.drop(['event_id', 'up_event'], axis=1)"
   ]
  },
  {
   "cell_type": "code",
   "execution_count": 48,
   "id": "9f71017b",
   "metadata": {
    "execution": {
     "iopub.execute_input": "2023-11-08T08:33:03.291239Z",
     "iopub.status.busy": "2023-11-08T08:33:03.290590Z",
     "iopub.status.idle": "2023-11-08T08:33:03.295386Z",
     "shell.execute_reply": "2023-11-08T08:33:03.294349Z"
    },
    "id": "AO6SaoU5pwBn",
    "papermill": {
     "duration": 0.059607,
     "end_time": "2023-11-08T08:33:03.297659",
     "exception": false,
     "start_time": "2023-11-08T08:33:03.238052",
     "status": "completed"
    },
    "tags": []
   },
   "outputs": [],
   "source": [
    "#log coll 'action_time'\n",
    "def action_time_log(df):\n",
    "    df['action_time_log'] = np.log1p(df['action_time'])\n",
    "    return df"
   ]
  },
  {
   "cell_type": "code",
   "execution_count": 49,
   "id": "22d10ea2",
   "metadata": {
    "execution": {
     "iopub.execute_input": "2023-11-08T08:33:03.401546Z",
     "iopub.status.busy": "2023-11-08T08:33:03.401129Z",
     "iopub.status.idle": "2023-11-08T08:33:03.406372Z",
     "shell.execute_reply": "2023-11-08T08:33:03.405218Z"
    },
    "id": "DEn57kMcees8",
    "papermill": {
     "duration": 0.060172,
     "end_time": "2023-11-08T08:33:03.408666",
     "exception": false,
     "start_time": "2023-11-08T08:33:03.348494",
     "status": "completed"
    },
    "tags": []
   },
   "outputs": [],
   "source": [
    "#lag for 'down_time'\n",
    "def shift_coll(df):\n",
    "    df['down_time_lag1'] = df['down_time'].shift(1).fillna(0)\n",
    "    return df"
   ]
  },
  {
   "cell_type": "code",
   "execution_count": 50,
   "id": "d0ea2911",
   "metadata": {
    "execution": {
     "iopub.execute_input": "2023-11-08T08:33:03.512731Z",
     "iopub.status.busy": "2023-11-08T08:33:03.512300Z",
     "iopub.status.idle": "2023-11-08T08:33:03.519551Z",
     "shell.execute_reply": "2023-11-08T08:33:03.518682Z"
    },
    "id": "cAO03IpToJ6m",
    "outputId": "566f93d9-c273-4005-d215-2693ef04d775",
    "papermill": {
     "duration": 0.062406,
     "end_time": "2023-11-08T08:33:03.521758",
     "exception": false,
     "start_time": "2023-11-08T08:33:03.459352",
     "status": "completed"
    },
    "tags": []
   },
   "outputs": [
    {
     "data": {
      "text/plain": [
       "\"\\nInput                                     6726796\\nRemove/Cut                                 970158\\nNonproduction                              703851\\nReplace                                      4448\\nPaste                                         599\\nMove From [1306, 1371] To [1061, 1126]          2\\nMove From [13, 65] To [9, 61]                   1\\nMove From [274, 314] To [299, 339]              1\\nMove From [624, 625] To [845, 846]              1\\n\\n#добавление признаков по столбцу activity для каждого пользователя\\ndef add_activity(df):\\n    df.groupby('id')['activity']\\n\""
      ]
     },
     "execution_count": 50,
     "metadata": {},
     "output_type": "execute_result"
    }
   ],
   "source": [
    "'''\n",
    "Input                                     6726796\n",
    "Remove/Cut                                 970158\n",
    "Nonproduction                              703851\n",
    "Replace                                      4448\n",
    "Paste                                         599\n",
    "Move From [1306, 1371] To [1061, 1126]          2\n",
    "Move From [13, 65] To [9, 61]                   1\n",
    "Move From [274, 314] To [299, 339]              1\n",
    "Move From [624, 625] To [845, 846]              1\n",
    "\n",
    "#добавление признаков по столбцу activity для каждого пользователя\n",
    "def add_activity(df):\n",
    "    df.groupby('id')['activity']\n",
    "'''"
   ]
  },
  {
   "cell_type": "code",
   "execution_count": null,
   "id": "973ed5f8",
   "metadata": {
    "id": "kjZQdTFgzuj-",
    "papermill": {
     "duration": 0.050188,
     "end_time": "2023-11-08T08:33:03.623071",
     "exception": false,
     "start_time": "2023-11-08T08:33:03.572883",
     "status": "completed"
    },
    "tags": []
   },
   "outputs": [],
   "source": []
  },
  {
   "cell_type": "code",
   "execution_count": 51,
   "id": "b895543d",
   "metadata": {
    "execution": {
     "iopub.execute_input": "2023-11-08T08:33:03.728120Z",
     "iopub.status.busy": "2023-11-08T08:33:03.726893Z",
     "iopub.status.idle": "2023-11-08T08:33:04.458226Z",
     "shell.execute_reply": "2023-11-08T08:33:04.457338Z"
    },
    "id": "dX_sOOadBj9n",
    "outputId": "ca41949c-165f-4c6e-dca6-a39177148918",
    "papermill": {
     "duration": 0.786657,
     "end_time": "2023-11-08T08:33:04.460629",
     "exception": false,
     "start_time": "2023-11-08T08:33:03.673972",
     "status": "completed"
    },
    "tags": []
   },
   "outputs": [
    {
     "data": {
      "text/plain": [
       "array(['Nonproduction', 'Input', 'Remove/Cut', 'Replace',\n",
       "       'Move From [284, 292] To [282, 290]',\n",
       "       'Move From [287, 289] To [285, 287]',\n",
       "       'Move From [460, 461] To [465, 466]', 'Paste',\n",
       "       'Move From [905, 1314] To [907, 1316]',\n",
       "       'Move From [565, 743] To [669, 847]',\n",
       "       'Move From [669, 847] To [565, 743]',\n",
       "       'Move From [1041, 1121] To [1496, 1576]',\n",
       "       'Move From [1455, 1557] To [1323, 1425]',\n",
       "       'Move From [2268, 2275] To [2247, 2254]',\n",
       "       'Move From [213, 302] To [902, 991]',\n",
       "       'Move From [0, 158] To [234, 392]',\n",
       "       'Move From [460, 465] To [925, 930]',\n",
       "       'Move From [810, 906] To [816, 912]',\n",
       "       'Move From [186, 187] To [184, 185]',\n",
       "       'Move From [140, 272] To [299, 431]',\n",
       "       'Move From [114, 140] To [272, 298]',\n",
       "       'Move From [1386, 1450] To [1445, 1509]',\n",
       "       'Move From [442, 524] To [296, 378]',\n",
       "       'Move From [408, 414] To [390, 396]',\n",
       "       'Move From [1144, 1147] To [1142, 1145]',\n",
       "       'Move From [218, 220] To [206, 208]',\n",
       "       'Move From [164, 165] To [153, 154]',\n",
       "       'Move From [623, 632] To [624, 633]',\n",
       "       'Move From [747, 960] To [1041, 1254]',\n",
       "       'Move From [274, 314] To [299, 339]',\n",
       "       'Move From [624, 625] To [845, 846]',\n",
       "       'Move From [1861, 2063] To [1766, 1968]',\n",
       "       'Move From [1766, 1968] To [1861, 2063]',\n",
       "       'Move From [2091, 2179] To [252, 340]',\n",
       "       'Move From [923, 1077] To [340, 494]',\n",
       "       'Move From [0, 1] To [590, 591]',\n",
       "       'Move From [999, 1000] To [1000, 1001]',\n",
       "       'Move From [13, 65] To [9, 61]',\n",
       "       'Move From [1651, 1769] To [1565, 1683]',\n",
       "       'Move From [61, 136] To [0, 75]', 'Move From [0, 75] To [1, 76]',\n",
       "       'Move From [75, 134] To [304, 363]',\n",
       "       'Move From [289, 355] To [562, 628]',\n",
       "       'Move From [944, 1102] To [1050, 1208]',\n",
       "       'Move From [1306, 1371] To [1061, 1126]',\n",
       "       'Move From [1061, 1126] To [1306, 1371]',\n",
       "       'Move From [1361, 1362] To [1358, 1359]',\n",
       "       'Move From [51, 86] To [109, 144]',\n",
       "       'Move From [134, 169] To [122, 157]',\n",
       "       'Move From [382, 437] To [458, 513]'], dtype=object)"
      ]
     },
     "execution_count": 51,
     "metadata": {},
     "output_type": "execute_result"
    }
   ],
   "source": [
    "#уникальные названия столбцов для дальнейшей работы\n",
    "train_logs['activity'].unique()"
   ]
  },
  {
   "cell_type": "code",
   "execution_count": 52,
   "id": "3e5200ea",
   "metadata": {
    "execution": {
     "iopub.execute_input": "2023-11-08T08:33:04.565492Z",
     "iopub.status.busy": "2023-11-08T08:33:04.564454Z",
     "iopub.status.idle": "2023-11-08T08:33:04.569135Z",
     "shell.execute_reply": "2023-11-08T08:33:04.568320Z"
    },
    "id": "k6Gi1qCyvnrc",
    "papermill": {
     "duration": 0.058837,
     "end_time": "2023-11-08T08:33:04.571309",
     "exception": false,
     "start_time": "2023-11-08T08:33:04.512472",
     "status": "completed"
    },
    "tags": []
   },
   "outputs": [],
   "source": [
    "columns_activity = ['Nonproduction', 'Input', 'Remove/Cut', 'Replace', 'Move']"
   ]
  },
  {
   "cell_type": "code",
   "execution_count": null,
   "id": "e73dd489",
   "metadata": {
    "id": "9U8c8x5ntQVS",
    "papermill": {
     "duration": 0.050694,
     "end_time": "2023-11-08T08:33:04.674741",
     "exception": false,
     "start_time": "2023-11-08T08:33:04.624047",
     "status": "completed"
    },
    "tags": []
   },
   "outputs": [],
   "source": []
  },
  {
   "cell_type": "code",
   "execution_count": 53,
   "id": "a8907d64",
   "metadata": {
    "execution": {
     "iopub.execute_input": "2023-11-08T08:33:04.779208Z",
     "iopub.status.busy": "2023-11-08T08:33:04.778782Z",
     "iopub.status.idle": "2023-11-08T08:33:04.786039Z",
     "shell.execute_reply": "2023-11-08T08:33:04.785002Z"
    },
    "id": "S1TY7deAtQYI",
    "papermill": {
     "duration": 0.063094,
     "end_time": "2023-11-08T08:33:04.788699",
     "exception": false,
     "start_time": "2023-11-08T08:33:04.725605",
     "status": "completed"
    },
    "tags": []
   },
   "outputs": [],
   "source": [
    "#создание нового датасета. В него войдёт id и аггрегации по некоторым столбцам\n",
    "def new_df(df):\n",
    "    df = df.groupby(['id'], as_index=True).agg({'action_time':['mean', 'std'],\n",
    "                                                'word_count':['mean', 'std'],\n",
    "                                                'action_time_log':['mean', 'std'],\n",
    "                                                'down_time_lag1':['mean', 'std'],\n",
    "                                                })\n",
    "    df.columns = ['_'.join(col) for col in df.columns]\n",
    "    df = df.reset_index()\n",
    "    return df"
   ]
  },
  {
   "cell_type": "code",
   "execution_count": 54,
   "id": "f1e1107d",
   "metadata": {
    "execution": {
     "iopub.execute_input": "2023-11-08T08:33:04.892828Z",
     "iopub.status.busy": "2023-11-08T08:33:04.892451Z",
     "iopub.status.idle": "2023-11-08T08:33:04.896861Z",
     "shell.execute_reply": "2023-11-08T08:33:04.895624Z"
    },
    "id": "LANYHoVGtQcI",
    "papermill": {
     "duration": 0.059612,
     "end_time": "2023-11-08T08:33:04.899488",
     "exception": false,
     "start_time": "2023-11-08T08:33:04.839876",
     "status": "completed"
    },
    "tags": []
   },
   "outputs": [],
   "source": [
    "#x_train_new = new_df(x_train)\n",
    "#x_train_new"
   ]
  },
  {
   "cell_type": "code",
   "execution_count": null,
   "id": "bc9f9196",
   "metadata": {
    "id": "8-Zpdz21pg6Y",
    "papermill": {
     "duration": 0.050416,
     "end_time": "2023-11-08T08:33:05.001162",
     "exception": false,
     "start_time": "2023-11-08T08:33:04.950746",
     "status": "completed"
    },
    "tags": []
   },
   "outputs": [],
   "source": []
  },
  {
   "cell_type": "markdown",
   "id": "53769d75",
   "metadata": {
    "id": "iRkoJ4_7BTOE",
    "papermill": {
     "duration": 0.050523,
     "end_time": "2023-11-08T08:33:05.102439",
     "exception": false,
     "start_time": "2023-11-08T08:33:05.051916",
     "status": "completed"
    },
    "tags": []
   },
   "source": [
    "Добавление в датасет признаков"
   ]
  },
  {
   "cell_type": "code",
   "execution_count": null,
   "id": "a8ca377d",
   "metadata": {
    "id": "rAvYyKCfyF0Q",
    "papermill": {
     "duration": 0.050353,
     "end_time": "2023-11-08T08:33:05.204343",
     "exception": false,
     "start_time": "2023-11-08T08:33:05.153990",
     "status": "completed"
    },
    "tags": []
   },
   "outputs": [],
   "source": []
  },
  {
   "cell_type": "code",
   "execution_count": 55,
   "id": "62b6710d",
   "metadata": {
    "execution": {
     "iopub.execute_input": "2023-11-08T08:33:05.310310Z",
     "iopub.status.busy": "2023-11-08T08:33:05.309902Z",
     "iopub.status.idle": "2023-11-08T08:33:05.315839Z",
     "shell.execute_reply": "2023-11-08T08:33:05.314899Z"
    },
    "id": "E8JpVMxoeev4",
    "papermill": {
     "duration": 0.06043,
     "end_time": "2023-11-08T08:33:05.318005",
     "exception": false,
     "start_time": "2023-11-08T08:33:05.257575",
     "status": "completed"
    },
    "tags": []
   },
   "outputs": [],
   "source": [
    "pipe_add = Pipeline([('del_coll', FunctionTransformer(del_coll, validate=False)),\n",
    "                     ('action_time_log', FunctionTransformer(action_time_log, validate=False)),\n",
    "                     ('shift_coll', FunctionTransformer(shift_coll, validate=False)),\n",
    "                     ('new_df', FunctionTransformer(new_df, validate=False))\n",
    "                     ])"
   ]
  },
  {
   "cell_type": "code",
   "execution_count": 56,
   "id": "5d3d55a6",
   "metadata": {
    "execution": {
     "iopub.execute_input": "2023-11-08T08:33:05.423550Z",
     "iopub.status.busy": "2023-11-08T08:33:05.422498Z",
     "iopub.status.idle": "2023-11-08T08:33:07.489762Z",
     "shell.execute_reply": "2023-11-08T08:33:07.488344Z"
    },
    "id": "K1Dp70OWLA1x",
    "papermill": {
     "duration": 2.122761,
     "end_time": "2023-11-08T08:33:07.492604",
     "exception": false,
     "start_time": "2023-11-08T08:33:05.369843",
     "status": "completed"
    },
    "tags": []
   },
   "outputs": [],
   "source": [
    "x_train_new = pipe_add.transform(x_train)"
   ]
  },
  {
   "cell_type": "code",
   "execution_count": 57,
   "id": "0d94f461",
   "metadata": {
    "execution": {
     "iopub.execute_input": "2023-11-08T08:33:07.663124Z",
     "iopub.status.busy": "2023-11-08T08:33:07.661696Z",
     "iopub.status.idle": "2023-11-08T08:33:07.683497Z",
     "shell.execute_reply": "2023-11-08T08:33:07.682541Z"
    },
    "id": "cpeHkJceacoF",
    "outputId": "9846d4f5-7a63-4cd6-8230-d6570f38c5e6",
    "papermill": {
     "duration": 0.14168,
     "end_time": "2023-11-08T08:33:07.685973",
     "exception": false,
     "start_time": "2023-11-08T08:33:07.544293",
     "status": "completed"
    },
    "tags": []
   },
   "outputs": [
    {
     "data": {
      "text/html": [
       "<div>\n",
       "<style scoped>\n",
       "    .dataframe tbody tr th:only-of-type {\n",
       "        vertical-align: middle;\n",
       "    }\n",
       "\n",
       "    .dataframe tbody tr th {\n",
       "        vertical-align: top;\n",
       "    }\n",
       "\n",
       "    .dataframe thead th {\n",
       "        text-align: right;\n",
       "    }\n",
       "</style>\n",
       "<table border=\"1\" class=\"dataframe\">\n",
       "  <thead>\n",
       "    <tr style=\"text-align: right;\">\n",
       "      <th></th>\n",
       "      <th>id</th>\n",
       "      <th>action_time_mean</th>\n",
       "      <th>action_time_std</th>\n",
       "      <th>word_count_mean</th>\n",
       "      <th>word_count_std</th>\n",
       "      <th>action_time_log_mean</th>\n",
       "      <th>action_time_log_std</th>\n",
       "      <th>down_time_lag1_mean</th>\n",
       "      <th>down_time_lag1_std</th>\n",
       "    </tr>\n",
       "  </thead>\n",
       "  <tbody>\n",
       "    <tr>\n",
       "      <th>0</th>\n",
       "      <td>001519c8</td>\n",
       "      <td>116.246774</td>\n",
       "      <td>91.797374</td>\n",
       "      <td>128.116152</td>\n",
       "      <td>76.498372</td>\n",
       "      <td>4.599037</td>\n",
       "      <td>0.731816</td>\n",
       "      <td>847476.087994</td>\n",
       "      <td>395017.895651</td>\n",
       "    </tr>\n",
       "    <tr>\n",
       "      <th>1</th>\n",
       "      <td>0059420b</td>\n",
       "      <td>121.848329</td>\n",
       "      <td>113.768226</td>\n",
       "      <td>103.618895</td>\n",
       "      <td>61.882250</td>\n",
       "      <td>4.112479</td>\n",
       "      <td>1.670000</td>\n",
       "      <td>785738.478149</td>\n",
       "      <td>385747.129680</td>\n",
       "    </tr>\n",
       "    <tr>\n",
       "      <th>2</th>\n",
       "      <td>0075873a</td>\n",
       "      <td>123.943896</td>\n",
       "      <td>62.082013</td>\n",
       "      <td>125.082971</td>\n",
       "      <td>77.255054</td>\n",
       "      <td>4.631532</td>\n",
       "      <td>0.835734</td>\n",
       "      <td>713252.263137</td>\n",
       "      <td>405370.160405</td>\n",
       "    </tr>\n",
       "    <tr>\n",
       "      <th>3</th>\n",
       "      <td>0081af50</td>\n",
       "      <td>81.404342</td>\n",
       "      <td>40.653054</td>\n",
       "      <td>132.942560</td>\n",
       "      <td>81.208824</td>\n",
       "      <td>4.324892</td>\n",
       "      <td>0.491386</td>\n",
       "      <td>544286.520579</td>\n",
       "      <td>484522.665101</td>\n",
       "    </tr>\n",
       "    <tr>\n",
       "      <th>4</th>\n",
       "      <td>0093f095</td>\n",
       "      <td>109.717847</td>\n",
       "      <td>37.018331</td>\n",
       "      <td>119.671388</td>\n",
       "      <td>72.388234</td>\n",
       "      <td>4.617338</td>\n",
       "      <td>0.585590</td>\n",
       "      <td>354320.565439</td>\n",
       "      <td>242084.043765</td>\n",
       "    </tr>\n",
       "    <tr>\n",
       "      <th>5</th>\n",
       "      <td>009e23ab</td>\n",
       "      <td>90.755631</td>\n",
       "      <td>41.934952</td>\n",
       "      <td>154.297068</td>\n",
       "      <td>93.486783</td>\n",
       "      <td>4.342355</td>\n",
       "      <td>0.870865</td>\n",
       "      <td>487653.051424</td>\n",
       "      <td>279532.402824</td>\n",
       "    </tr>\n",
       "    <tr>\n",
       "      <th>6</th>\n",
       "      <td>00e048f1</td>\n",
       "      <td>75.011356</td>\n",
       "      <td>33.244615</td>\n",
       "      <td>114.762776</td>\n",
       "      <td>66.917911</td>\n",
       "      <td>4.213029</td>\n",
       "      <td>0.667777</td>\n",
       "      <td>837618.558360</td>\n",
       "      <td>345751.468740</td>\n",
       "    </tr>\n",
       "    <tr>\n",
       "      <th>7</th>\n",
       "      <td>00e713bd</td>\n",
       "      <td>94.306900</td>\n",
       "      <td>47.010933</td>\n",
       "      <td>274.463527</td>\n",
       "      <td>167.907921</td>\n",
       "      <td>4.438922</td>\n",
       "      <td>0.647760</td>\n",
       "      <td>777474.605038</td>\n",
       "      <td>364747.613247</td>\n",
       "    </tr>\n",
       "    <tr>\n",
       "      <th>8</th>\n",
       "      <td>00fc9a6a</td>\n",
       "      <td>111.768234</td>\n",
       "      <td>554.588417</td>\n",
       "      <td>128.462421</td>\n",
       "      <td>74.532437</td>\n",
       "      <td>4.436755</td>\n",
       "      <td>0.558204</td>\n",
       "      <td>688457.208812</td>\n",
       "      <td>362554.780805</td>\n",
       "    </tr>\n",
       "    <tr>\n",
       "      <th>9</th>\n",
       "      <td>0144e4d5</td>\n",
       "      <td>87.003779</td>\n",
       "      <td>45.208935</td>\n",
       "      <td>124.254606</td>\n",
       "      <td>71.355416</td>\n",
       "      <td>4.315920</td>\n",
       "      <td>0.699769</td>\n",
       "      <td>919054.289088</td>\n",
       "      <td>472700.044204</td>\n",
       "    </tr>\n",
       "  </tbody>\n",
       "</table>\n",
       "</div>"
      ],
      "text/plain": [
       "         id  action_time_mean  action_time_std  word_count_mean  \\\n",
       "0  001519c8        116.246774        91.797374       128.116152   \n",
       "1  0059420b        121.848329       113.768226       103.618895   \n",
       "2  0075873a        123.943896        62.082013       125.082971   \n",
       "3  0081af50         81.404342        40.653054       132.942560   \n",
       "4  0093f095        109.717847        37.018331       119.671388   \n",
       "5  009e23ab         90.755631        41.934952       154.297068   \n",
       "6  00e048f1         75.011356        33.244615       114.762776   \n",
       "7  00e713bd         94.306900        47.010933       274.463527   \n",
       "8  00fc9a6a        111.768234       554.588417       128.462421   \n",
       "9  0144e4d5         87.003779        45.208935       124.254606   \n",
       "\n",
       "   word_count_std  action_time_log_mean  action_time_log_std  \\\n",
       "0       76.498372              4.599037             0.731816   \n",
       "1       61.882250              4.112479             1.670000   \n",
       "2       77.255054              4.631532             0.835734   \n",
       "3       81.208824              4.324892             0.491386   \n",
       "4       72.388234              4.617338             0.585590   \n",
       "5       93.486783              4.342355             0.870865   \n",
       "6       66.917911              4.213029             0.667777   \n",
       "7      167.907921              4.438922             0.647760   \n",
       "8       74.532437              4.436755             0.558204   \n",
       "9       71.355416              4.315920             0.699769   \n",
       "\n",
       "   down_time_lag1_mean  down_time_lag1_std  \n",
       "0        847476.087994       395017.895651  \n",
       "1        785738.478149       385747.129680  \n",
       "2        713252.263137       405370.160405  \n",
       "3        544286.520579       484522.665101  \n",
       "4        354320.565439       242084.043765  \n",
       "5        487653.051424       279532.402824  \n",
       "6        837618.558360       345751.468740  \n",
       "7        777474.605038       364747.613247  \n",
       "8        688457.208812       362554.780805  \n",
       "9        919054.289088       472700.044204  "
      ]
     },
     "execution_count": 57,
     "metadata": {},
     "output_type": "execute_result"
    }
   ],
   "source": [
    "x_train_new.head(10)"
   ]
  },
  {
   "cell_type": "code",
   "execution_count": 58,
   "id": "55d9cd7f",
   "metadata": {
    "execution": {
     "iopub.execute_input": "2023-11-08T08:33:07.791260Z",
     "iopub.status.busy": "2023-11-08T08:33:07.790455Z",
     "iopub.status.idle": "2023-11-08T08:33:07.797827Z",
     "shell.execute_reply": "2023-11-08T08:33:07.796753Z"
    },
    "id": "18yg4fBHkkrT",
    "outputId": "1c40db12-4426-4987-bd6b-4f9d9a8a8bf9",
    "papermill": {
     "duration": 0.062302,
     "end_time": "2023-11-08T08:33:07.800065",
     "exception": false,
     "start_time": "2023-11-08T08:33:07.737763",
     "status": "completed"
    },
    "tags": []
   },
   "outputs": [
    {
     "data": {
      "text/plain": [
       "(1976,)"
      ]
     },
     "execution_count": 58,
     "metadata": {},
     "output_type": "execute_result"
    }
   ],
   "source": [
    "x_train_new['id'].unique().shape"
   ]
  },
  {
   "cell_type": "code",
   "execution_count": null,
   "id": "d73dbe35",
   "metadata": {
    "id": "_DUm3TlMacyF",
    "papermill": {
     "duration": 0.051673,
     "end_time": "2023-11-08T08:33:07.903782",
     "exception": false,
     "start_time": "2023-11-08T08:33:07.852109",
     "status": "completed"
    },
    "tags": []
   },
   "outputs": [],
   "source": []
  },
  {
   "cell_type": "markdown",
   "id": "96687c5c",
   "metadata": {
    "id": "O6Tay1Zcklrz",
    "papermill": {
     "duration": 0.051152,
     "end_time": "2023-11-08T08:33:08.006446",
     "exception": false,
     "start_time": "2023-11-08T08:33:07.955294",
     "status": "completed"
    },
    "tags": []
   },
   "source": [
    "## создание датасета с аггрегированными признаками из исходного датасета\n",
    "## creating a dataset with aggregated features from the original dataset"
   ]
  },
  {
   "cell_type": "code",
   "execution_count": null,
   "id": "35a718ad",
   "metadata": {
    "id": "ofhb6yF5k8bY",
    "papermill": {
     "duration": 0.051334,
     "end_time": "2023-11-08T08:33:08.109336",
     "exception": false,
     "start_time": "2023-11-08T08:33:08.058002",
     "status": "completed"
    },
    "tags": []
   },
   "outputs": [],
   "source": []
  },
  {
   "cell_type": "code",
   "execution_count": 59,
   "id": "e8e56228",
   "metadata": {
    "execution": {
     "iopub.execute_input": "2023-11-08T08:33:08.215134Z",
     "iopub.status.busy": "2023-11-08T08:33:08.214350Z",
     "iopub.status.idle": "2023-11-08T08:33:08.221662Z",
     "shell.execute_reply": "2023-11-08T08:33:08.219595Z"
    },
    "id": "cZv_uwtHq0xy",
    "outputId": "a9da34a6-6036-48d4-d693-3289a3c9f23b",
    "papermill": {
     "duration": 0.062941,
     "end_time": "2023-11-08T08:33:08.224460",
     "exception": false,
     "start_time": "2023-11-08T08:33:08.161519",
     "status": "completed"
    },
    "tags": []
   },
   "outputs": [
    {
     "data": {
      "text/plain": [
       "['Nonproduction', 'Input', 'Remove/Cut', 'Replace', 'Move']"
      ]
     },
     "execution_count": 59,
     "metadata": {},
     "output_type": "execute_result"
    }
   ],
   "source": [
    "columns_activity"
   ]
  },
  {
   "cell_type": "code",
   "execution_count": null,
   "id": "9bc65bc4",
   "metadata": {
    "id": "vTAAZ-7Dv52L",
    "papermill": {
     "duration": 0.051214,
     "end_time": "2023-11-08T08:33:08.327574",
     "exception": false,
     "start_time": "2023-11-08T08:33:08.276360",
     "status": "completed"
    },
    "tags": []
   },
   "outputs": [],
   "source": []
  },
  {
   "cell_type": "code",
   "execution_count": 60,
   "id": "29929e35",
   "metadata": {
    "execution": {
     "iopub.execute_input": "2023-11-08T08:33:08.432499Z",
     "iopub.status.busy": "2023-11-08T08:33:08.432060Z",
     "iopub.status.idle": "2023-11-08T08:33:08.439005Z",
     "shell.execute_reply": "2023-11-08T08:33:08.437886Z"
    },
    "id": "pYZJlu7lk8ee",
    "papermill": {
     "duration": 0.062168,
     "end_time": "2023-11-08T08:33:08.441322",
     "exception": false,
     "start_time": "2023-11-08T08:33:08.379154",
     "status": "completed"
    },
    "tags": []
   },
   "outputs": [],
   "source": [
    "#aggregation by activity\n",
    "def df_agg(df):\n",
    "    df = df.groupby(['id', 'activity'], as_index=True).agg({'activity':'count'})\n",
    "    df.columns = ['count']\n",
    "    df = df.reset_index()\n",
    "    df['activity'] = df['activity'].apply(lambda x: 'Move' if 'Move' in x else x)\n",
    "    df = df.groupby(['id', 'activity'], as_index=True).agg({'count':'sum'}).reset_index()\n",
    "    return df\n"
   ]
  },
  {
   "cell_type": "code",
   "execution_count": 61,
   "id": "bf9abe06",
   "metadata": {
    "execution": {
     "iopub.execute_input": "2023-11-08T08:33:08.550238Z",
     "iopub.status.busy": "2023-11-08T08:33:08.549805Z",
     "iopub.status.idle": "2023-11-08T08:33:10.836377Z",
     "shell.execute_reply": "2023-11-08T08:33:10.835224Z"
    },
    "id": "u3N5xR9oyyLh",
    "outputId": "fc5004be-0de6-4507-d14a-4f580226c237",
    "papermill": {
     "duration": 2.345895,
     "end_time": "2023-11-08T08:33:10.838894",
     "exception": false,
     "start_time": "2023-11-08T08:33:08.492999",
     "status": "completed"
    },
    "tags": []
   },
   "outputs": [
    {
     "data": {
      "text/html": [
       "<div>\n",
       "<style scoped>\n",
       "    .dataframe tbody tr th:only-of-type {\n",
       "        vertical-align: middle;\n",
       "    }\n",
       "\n",
       "    .dataframe tbody tr th {\n",
       "        vertical-align: top;\n",
       "    }\n",
       "\n",
       "    .dataframe thead th {\n",
       "        text-align: right;\n",
       "    }\n",
       "</style>\n",
       "<table border=\"1\" class=\"dataframe\">\n",
       "  <thead>\n",
       "    <tr style=\"text-align: right;\">\n",
       "      <th></th>\n",
       "      <th>id</th>\n",
       "      <th>activity</th>\n",
       "      <th>count</th>\n",
       "    </tr>\n",
       "  </thead>\n",
       "  <tbody>\n",
       "    <tr>\n",
       "      <th>0</th>\n",
       "      <td>001519c8</td>\n",
       "      <td>Input</td>\n",
       "      <td>2010</td>\n",
       "    </tr>\n",
       "    <tr>\n",
       "      <th>1</th>\n",
       "      <td>001519c8</td>\n",
       "      <td>Move</td>\n",
       "      <td>3</td>\n",
       "    </tr>\n",
       "    <tr>\n",
       "      <th>2</th>\n",
       "      <td>001519c8</td>\n",
       "      <td>Nonproduction</td>\n",
       "      <td>120</td>\n",
       "    </tr>\n",
       "    <tr>\n",
       "      <th>3</th>\n",
       "      <td>001519c8</td>\n",
       "      <td>Remove/Cut</td>\n",
       "      <td>417</td>\n",
       "    </tr>\n",
       "    <tr>\n",
       "      <th>4</th>\n",
       "      <td>001519c8</td>\n",
       "      <td>Replace</td>\n",
       "      <td>7</td>\n",
       "    </tr>\n",
       "    <tr>\n",
       "      <th>5</th>\n",
       "      <td>0059420b</td>\n",
       "      <td>Input</td>\n",
       "      <td>1304</td>\n",
       "    </tr>\n",
       "    <tr>\n",
       "      <th>6</th>\n",
       "      <td>0059420b</td>\n",
       "      <td>Nonproduction</td>\n",
       "      <td>99</td>\n",
       "    </tr>\n",
       "    <tr>\n",
       "      <th>7</th>\n",
       "      <td>0059420b</td>\n",
       "      <td>Paste</td>\n",
       "      <td>1</td>\n",
       "    </tr>\n",
       "    <tr>\n",
       "      <th>8</th>\n",
       "      <td>0059420b</td>\n",
       "      <td>Remove/Cut</td>\n",
       "      <td>151</td>\n",
       "    </tr>\n",
       "    <tr>\n",
       "      <th>9</th>\n",
       "      <td>0059420b</td>\n",
       "      <td>Replace</td>\n",
       "      <td>1</td>\n",
       "    </tr>\n",
       "  </tbody>\n",
       "</table>\n",
       "</div>"
      ],
      "text/plain": [
       "         id       activity  count\n",
       "0  001519c8          Input   2010\n",
       "1  001519c8           Move      3\n",
       "2  001519c8  Nonproduction    120\n",
       "3  001519c8     Remove/Cut    417\n",
       "4  001519c8        Replace      7\n",
       "5  0059420b          Input   1304\n",
       "6  0059420b  Nonproduction     99\n",
       "7  0059420b          Paste      1\n",
       "8  0059420b     Remove/Cut    151\n",
       "9  0059420b        Replace      1"
      ]
     },
     "execution_count": 61,
     "metadata": {},
     "output_type": "execute_result"
    }
   ],
   "source": [
    "x_train_agg = df_agg(x_train)\n",
    "x_train_agg.head(10)"
   ]
  },
  {
   "cell_type": "code",
   "execution_count": 62,
   "id": "2cf155af",
   "metadata": {
    "execution": {
     "iopub.execute_input": "2023-11-08T08:33:10.947288Z",
     "iopub.status.busy": "2023-11-08T08:33:10.946850Z",
     "iopub.status.idle": "2023-11-08T08:33:10.955319Z",
     "shell.execute_reply": "2023-11-08T08:33:10.954138Z"
    },
    "id": "BZTBTZzTyyPK",
    "papermill": {
     "duration": 0.065527,
     "end_time": "2023-11-08T08:33:10.957404",
     "exception": false,
     "start_time": "2023-11-08T08:33:10.891877",
     "status": "completed"
    },
    "tags": []
   },
   "outputs": [],
   "source": [
    "#переделываем аггрегированную таблицу в вид один айди - одна строка с аггрег значениями\n",
    "def df_agg_activity(df1_agg, columns_activity):\n",
    "    unique_id = df1_agg['id'].unique()\n",
    "    df_out = pd.DataFrame(unique_id, columns=['un_id'])\n",
    "    df_out[columns_activity] = 0\n",
    "    #print(df_out)\n",
    "\n",
    "    for un_id in unique_id:\n",
    "        for col_activity in columns_activity:\n",
    "            #print(un_id)\n",
    "            #print(col_activity)\n",
    "            try:\n",
    "                df_out.loc[df_out['un_id'] == un_id, col_activity] = df1_agg.loc[(df1_agg['id'] == un_id) & (df1_agg['activity'] == col_activity)]['count'].values\n",
    "            except:\n",
    "                df_out.loc[df_out['un_id'] == un_id, col_activity] = 0\n",
    "\n",
    "\n",
    "    return df_out\n"
   ]
  },
  {
   "cell_type": "code",
   "execution_count": 63,
   "id": "601106c3",
   "metadata": {
    "execution": {
     "iopub.execute_input": "2023-11-08T08:33:11.063962Z",
     "iopub.status.busy": "2023-11-08T08:33:11.063530Z",
     "iopub.status.idle": "2023-11-08T08:33:52.613518Z",
     "shell.execute_reply": "2023-11-08T08:33:52.612276Z"
    },
    "id": "GNQlKbmgy9E3",
    "outputId": "9acf15d3-83cf-4e14-b59c-9f0bb223649a",
    "papermill": {
     "duration": 41.659993,
     "end_time": "2023-11-08T08:33:52.669510",
     "exception": false,
     "start_time": "2023-11-08T08:33:11.009517",
     "status": "completed"
    },
    "tags": []
   },
   "outputs": [
    {
     "data": {
      "text/html": [
       "<div>\n",
       "<style scoped>\n",
       "    .dataframe tbody tr th:only-of-type {\n",
       "        vertical-align: middle;\n",
       "    }\n",
       "\n",
       "    .dataframe tbody tr th {\n",
       "        vertical-align: top;\n",
       "    }\n",
       "\n",
       "    .dataframe thead th {\n",
       "        text-align: right;\n",
       "    }\n",
       "</style>\n",
       "<table border=\"1\" class=\"dataframe\">\n",
       "  <thead>\n",
       "    <tr style=\"text-align: right;\">\n",
       "      <th></th>\n",
       "      <th>un_id</th>\n",
       "      <th>Nonproduction</th>\n",
       "      <th>Input</th>\n",
       "      <th>Remove/Cut</th>\n",
       "      <th>Replace</th>\n",
       "      <th>Move</th>\n",
       "    </tr>\n",
       "  </thead>\n",
       "  <tbody>\n",
       "    <tr>\n",
       "      <th>0</th>\n",
       "      <td>001519c8</td>\n",
       "      <td>120</td>\n",
       "      <td>2010</td>\n",
       "      <td>417</td>\n",
       "      <td>7</td>\n",
       "      <td>3</td>\n",
       "    </tr>\n",
       "    <tr>\n",
       "      <th>1</th>\n",
       "      <td>0059420b</td>\n",
       "      <td>99</td>\n",
       "      <td>1304</td>\n",
       "      <td>151</td>\n",
       "      <td>1</td>\n",
       "      <td>0</td>\n",
       "    </tr>\n",
       "    <tr>\n",
       "      <th>2</th>\n",
       "      <td>0075873a</td>\n",
       "      <td>72</td>\n",
       "      <td>1942</td>\n",
       "      <td>517</td>\n",
       "      <td>0</td>\n",
       "      <td>0</td>\n",
       "    </tr>\n",
       "    <tr>\n",
       "      <th>3</th>\n",
       "      <td>0081af50</td>\n",
       "      <td>76</td>\n",
       "      <td>1794</td>\n",
       "      <td>338</td>\n",
       "      <td>3</td>\n",
       "      <td>0</td>\n",
       "    </tr>\n",
       "    <tr>\n",
       "      <th>4</th>\n",
       "      <td>0093f095</td>\n",
       "      <td>34</td>\n",
       "      <td>1583</td>\n",
       "      <td>148</td>\n",
       "      <td>0</td>\n",
       "      <td>0</td>\n",
       "    </tr>\n",
       "    <tr>\n",
       "      <th>...</th>\n",
       "      <td>...</td>\n",
       "      <td>...</td>\n",
       "      <td>...</td>\n",
       "      <td>...</td>\n",
       "      <td>...</td>\n",
       "      <td>...</td>\n",
       "    </tr>\n",
       "    <tr>\n",
       "      <th>1971</th>\n",
       "      <td>ff7f1779</td>\n",
       "      <td>67</td>\n",
       "      <td>2807</td>\n",
       "      <td>468</td>\n",
       "      <td>0</td>\n",
       "      <td>0</td>\n",
       "    </tr>\n",
       "    <tr>\n",
       "      <th>1972</th>\n",
       "      <td>ff90a677</td>\n",
       "      <td>43</td>\n",
       "      <td>1729</td>\n",
       "      <td>112</td>\n",
       "      <td>1</td>\n",
       "      <td>0</td>\n",
       "    </tr>\n",
       "    <tr>\n",
       "      <th>1973</th>\n",
       "      <td>ffbef7e5</td>\n",
       "      <td>148</td>\n",
       "      <td>2395</td>\n",
       "      <td>60</td>\n",
       "      <td>1</td>\n",
       "      <td>0</td>\n",
       "    </tr>\n",
       "    <tr>\n",
       "      <th>1974</th>\n",
       "      <td>ffec5b38</td>\n",
       "      <td>71</td>\n",
       "      <td>2895</td>\n",
       "      <td>276</td>\n",
       "      <td>0</td>\n",
       "      <td>0</td>\n",
       "    </tr>\n",
       "    <tr>\n",
       "      <th>1975</th>\n",
       "      <td>fff05981</td>\n",
       "      <td>843</td>\n",
       "      <td>2452</td>\n",
       "      <td>310</td>\n",
       "      <td>12</td>\n",
       "      <td>1</td>\n",
       "    </tr>\n",
       "  </tbody>\n",
       "</table>\n",
       "<p>1976 rows × 6 columns</p>\n",
       "</div>"
      ],
      "text/plain": [
       "         un_id  Nonproduction  Input  Remove/Cut  Replace  Move\n",
       "0     001519c8            120   2010         417        7     3\n",
       "1     0059420b             99   1304         151        1     0\n",
       "2     0075873a             72   1942         517        0     0\n",
       "3     0081af50             76   1794         338        3     0\n",
       "4     0093f095             34   1583         148        0     0\n",
       "...        ...            ...    ...         ...      ...   ...\n",
       "1971  ff7f1779             67   2807         468        0     0\n",
       "1972  ff90a677             43   1729         112        1     0\n",
       "1973  ffbef7e5            148   2395          60        1     0\n",
       "1974  ffec5b38             71   2895         276        0     0\n",
       "1975  fff05981            843   2452         310       12     1\n",
       "\n",
       "[1976 rows x 6 columns]"
      ]
     },
     "execution_count": 63,
     "metadata": {},
     "output_type": "execute_result"
    }
   ],
   "source": [
    "x_train_agg_new = df_agg_activity(x_train_agg, columns_activity)\n",
    "x_train_agg_new"
   ]
  },
  {
   "cell_type": "code",
   "execution_count": 64,
   "id": "ae29159d",
   "metadata": {
    "execution": {
     "iopub.execute_input": "2023-11-08T08:33:52.775740Z",
     "iopub.status.busy": "2023-11-08T08:33:52.775333Z",
     "iopub.status.idle": "2023-11-08T08:33:52.784337Z",
     "shell.execute_reply": "2023-11-08T08:33:52.783493Z"
    },
    "id": "onLPvGqhy9Hx",
    "outputId": "522de70f-93f7-47a3-b641-ef9386431a5f",
    "papermill": {
     "duration": 0.064956,
     "end_time": "2023-11-08T08:33:52.786615",
     "exception": false,
     "start_time": "2023-11-08T08:33:52.721659",
     "status": "completed"
    },
    "tags": []
   },
   "outputs": [
    {
     "data": {
      "text/plain": [
       "un_id            0\n",
       "Nonproduction    0\n",
       "Input            0\n",
       "Remove/Cut       0\n",
       "Replace          0\n",
       "Move             0\n",
       "dtype: int64"
      ]
     },
     "execution_count": 64,
     "metadata": {},
     "output_type": "execute_result"
    }
   ],
   "source": [
    "x_train_agg_new.isna().sum()"
   ]
  },
  {
   "cell_type": "code",
   "execution_count": null,
   "id": "c8139fd4",
   "metadata": {
    "id": "VWhkQSWyoyHr",
    "papermill": {
     "duration": 0.051417,
     "end_time": "2023-11-08T08:33:52.889798",
     "exception": false,
     "start_time": "2023-11-08T08:33:52.838381",
     "status": "completed"
    },
    "tags": []
   },
   "outputs": [],
   "source": []
  },
  {
   "cell_type": "code",
   "execution_count": 65,
   "id": "dead8bc7",
   "metadata": {
    "execution": {
     "iopub.execute_input": "2023-11-08T08:33:52.996025Z",
     "iopub.status.busy": "2023-11-08T08:33:52.994837Z",
     "iopub.status.idle": "2023-11-08T08:33:53.000595Z",
     "shell.execute_reply": "2023-11-08T08:33:52.999475Z"
    },
    "id": "6RcbNY-4qDgM",
    "papermill": {
     "duration": 0.061302,
     "end_time": "2023-11-08T08:33:53.003035",
     "exception": false,
     "start_time": "2023-11-08T08:33:52.941733",
     "status": "completed"
    },
    "tags": []
   },
   "outputs": [],
   "source": [
    "#join two df\n",
    "def join_two_df(df1, df2):\n",
    "    return pd.merge(df1, df2, left_on='id', right_on='un_id').drop('un_id', axis=1)"
   ]
  },
  {
   "cell_type": "code",
   "execution_count": 66,
   "id": "4d6bd59c",
   "metadata": {
    "execution": {
     "iopub.execute_input": "2023-11-08T08:33:53.110493Z",
     "iopub.status.busy": "2023-11-08T08:33:53.110097Z",
     "iopub.status.idle": "2023-11-08T08:33:53.115319Z",
     "shell.execute_reply": "2023-11-08T08:33:53.114219Z"
    },
    "id": "5TMI5uVfoySS",
    "papermill": {
     "duration": 0.062282,
     "end_time": "2023-11-08T08:33:53.117894",
     "exception": false,
     "start_time": "2023-11-08T08:33:53.055612",
     "status": "completed"
    },
    "tags": []
   },
   "outputs": [],
   "source": [
    "#join df witch target\n",
    "def join_w_target(df1, df2):\n",
    "    return pd.merge(df1, df2, left_on='id', right_on='id', how='left')"
   ]
  },
  {
   "cell_type": "code",
   "execution_count": 67,
   "id": "1bb6e172",
   "metadata": {
    "execution": {
     "iopub.execute_input": "2023-11-08T08:33:53.225400Z",
     "iopub.status.busy": "2023-11-08T08:33:53.225018Z",
     "iopub.status.idle": "2023-11-08T08:33:53.230130Z",
     "shell.execute_reply": "2023-11-08T08:33:53.228887Z"
    },
    "id": "vMzomO9xnXH0",
    "papermill": {
     "duration": 0.061446,
     "end_time": "2023-11-08T08:33:53.232529",
     "exception": false,
     "start_time": "2023-11-08T08:33:53.171083",
     "status": "completed"
    },
    "tags": []
   },
   "outputs": [],
   "source": [
    "#delete some columns\n",
    "def del_2(df):\n",
    "    return df.drop(['down_time', 'up_time', 'cursor_position'], axis=1)"
   ]
  },
  {
   "cell_type": "code",
   "execution_count": 68,
   "id": "47ac7922",
   "metadata": {
    "execution": {
     "iopub.execute_input": "2023-11-08T08:33:53.340519Z",
     "iopub.status.busy": "2023-11-08T08:33:53.340094Z",
     "iopub.status.idle": "2023-11-08T08:33:53.345690Z",
     "shell.execute_reply": "2023-11-08T08:33:53.344464Z"
    },
    "id": "ANcfmk2Rsohk",
    "papermill": {
     "duration": 0.062355,
     "end_time": "2023-11-08T08:33:53.348334",
     "exception": false,
     "start_time": "2023-11-08T08:33:53.285979",
     "status": "completed"
    },
    "tags": []
   },
   "outputs": [],
   "source": [
    "#добавление столца с классами оценки\n",
    "def add_klass(df):\n",
    "    df['y'] = df['score'] * 2 - 1\n",
    "    df['y'] = df['y'].astype(int)\n",
    "    #df = df.drop('score', axis=1)\n",
    "    return df"
   ]
  },
  {
   "cell_type": "code",
   "execution_count": 69,
   "id": "7d814a38",
   "metadata": {
    "execution": {
     "iopub.execute_input": "2023-11-08T08:33:53.457273Z",
     "iopub.status.busy": "2023-11-08T08:33:53.456860Z",
     "iopub.status.idle": "2023-11-08T08:33:53.496902Z",
     "shell.execute_reply": "2023-11-08T08:33:53.495783Z"
    },
    "id": "J9Jmiw3bvdQl",
    "outputId": "cd19320f-9ce2-491d-f882-056c4fab4d6a",
    "papermill": {
     "duration": 0.096216,
     "end_time": "2023-11-08T08:33:53.499679",
     "exception": false,
     "start_time": "2023-11-08T08:33:53.403463",
     "status": "completed"
    },
    "tags": []
   },
   "outputs": [
    {
     "data": {
      "text/html": [
       "<div>\n",
       "<style scoped>\n",
       "    .dataframe tbody tr th:only-of-type {\n",
       "        vertical-align: middle;\n",
       "    }\n",
       "\n",
       "    .dataframe tbody tr th {\n",
       "        vertical-align: top;\n",
       "    }\n",
       "\n",
       "    .dataframe thead th {\n",
       "        text-align: right;\n",
       "    }\n",
       "</style>\n",
       "<table border=\"1\" class=\"dataframe\">\n",
       "  <thead>\n",
       "    <tr style=\"text-align: right;\">\n",
       "      <th></th>\n",
       "      <th>id</th>\n",
       "      <th>action_time_mean</th>\n",
       "      <th>action_time_std</th>\n",
       "      <th>word_count_mean</th>\n",
       "      <th>word_count_std</th>\n",
       "      <th>action_time_log_mean</th>\n",
       "      <th>action_time_log_std</th>\n",
       "      <th>down_time_lag1_mean</th>\n",
       "      <th>down_time_lag1_std</th>\n",
       "      <th>Nonproduction</th>\n",
       "      <th>Input</th>\n",
       "      <th>Remove/Cut</th>\n",
       "      <th>Replace</th>\n",
       "      <th>Move</th>\n",
       "      <th>score</th>\n",
       "      <th>y</th>\n",
       "    </tr>\n",
       "  </thead>\n",
       "  <tbody>\n",
       "    <tr>\n",
       "      <th>0</th>\n",
       "      <td>001519c8</td>\n",
       "      <td>116.246774</td>\n",
       "      <td>91.797374</td>\n",
       "      <td>128.116152</td>\n",
       "      <td>76.498372</td>\n",
       "      <td>4.599037</td>\n",
       "      <td>0.731816</td>\n",
       "      <td>8.474761e+05</td>\n",
       "      <td>395017.895651</td>\n",
       "      <td>120</td>\n",
       "      <td>2010</td>\n",
       "      <td>417</td>\n",
       "      <td>7</td>\n",
       "      <td>3</td>\n",
       "      <td>3.5</td>\n",
       "      <td>6</td>\n",
       "    </tr>\n",
       "    <tr>\n",
       "      <th>1</th>\n",
       "      <td>0059420b</td>\n",
       "      <td>121.848329</td>\n",
       "      <td>113.768226</td>\n",
       "      <td>103.618895</td>\n",
       "      <td>61.882250</td>\n",
       "      <td>4.112479</td>\n",
       "      <td>1.670000</td>\n",
       "      <td>7.857385e+05</td>\n",
       "      <td>385747.129680</td>\n",
       "      <td>99</td>\n",
       "      <td>1304</td>\n",
       "      <td>151</td>\n",
       "      <td>1</td>\n",
       "      <td>0</td>\n",
       "      <td>2.0</td>\n",
       "      <td>3</td>\n",
       "    </tr>\n",
       "    <tr>\n",
       "      <th>2</th>\n",
       "      <td>0075873a</td>\n",
       "      <td>123.943896</td>\n",
       "      <td>62.082013</td>\n",
       "      <td>125.082971</td>\n",
       "      <td>77.255054</td>\n",
       "      <td>4.631532</td>\n",
       "      <td>0.835734</td>\n",
       "      <td>7.132523e+05</td>\n",
       "      <td>405370.160405</td>\n",
       "      <td>72</td>\n",
       "      <td>1942</td>\n",
       "      <td>517</td>\n",
       "      <td>0</td>\n",
       "      <td>0</td>\n",
       "      <td>4.0</td>\n",
       "      <td>7</td>\n",
       "    </tr>\n",
       "    <tr>\n",
       "      <th>3</th>\n",
       "      <td>0081af50</td>\n",
       "      <td>81.404342</td>\n",
       "      <td>40.653054</td>\n",
       "      <td>132.942560</td>\n",
       "      <td>81.208824</td>\n",
       "      <td>4.324892</td>\n",
       "      <td>0.491386</td>\n",
       "      <td>5.442865e+05</td>\n",
       "      <td>484522.665101</td>\n",
       "      <td>76</td>\n",
       "      <td>1794</td>\n",
       "      <td>338</td>\n",
       "      <td>3</td>\n",
       "      <td>0</td>\n",
       "      <td>2.0</td>\n",
       "      <td>3</td>\n",
       "    </tr>\n",
       "    <tr>\n",
       "      <th>4</th>\n",
       "      <td>0093f095</td>\n",
       "      <td>109.717847</td>\n",
       "      <td>37.018331</td>\n",
       "      <td>119.671388</td>\n",
       "      <td>72.388234</td>\n",
       "      <td>4.617338</td>\n",
       "      <td>0.585590</td>\n",
       "      <td>3.543206e+05</td>\n",
       "      <td>242084.043765</td>\n",
       "      <td>34</td>\n",
       "      <td>1583</td>\n",
       "      <td>148</td>\n",
       "      <td>0</td>\n",
       "      <td>0</td>\n",
       "      <td>4.5</td>\n",
       "      <td>8</td>\n",
       "    </tr>\n",
       "    <tr>\n",
       "      <th>...</th>\n",
       "      <td>...</td>\n",
       "      <td>...</td>\n",
       "      <td>...</td>\n",
       "      <td>...</td>\n",
       "      <td>...</td>\n",
       "      <td>...</td>\n",
       "      <td>...</td>\n",
       "      <td>...</td>\n",
       "      <td>...</td>\n",
       "      <td>...</td>\n",
       "      <td>...</td>\n",
       "      <td>...</td>\n",
       "      <td>...</td>\n",
       "      <td>...</td>\n",
       "      <td>...</td>\n",
       "      <td>...</td>\n",
       "    </tr>\n",
       "    <tr>\n",
       "      <th>1971</th>\n",
       "      <td>ff7f1779</td>\n",
       "      <td>95.689408</td>\n",
       "      <td>45.091107</td>\n",
       "      <td>227.251047</td>\n",
       "      <td>127.316992</td>\n",
       "      <td>4.424712</td>\n",
       "      <td>0.726349</td>\n",
       "      <td>6.793416e+05</td>\n",
       "      <td>459931.674935</td>\n",
       "      <td>67</td>\n",
       "      <td>2807</td>\n",
       "      <td>468</td>\n",
       "      <td>0</td>\n",
       "      <td>0</td>\n",
       "      <td>4.5</td>\n",
       "      <td>8</td>\n",
       "    </tr>\n",
       "    <tr>\n",
       "      <th>1972</th>\n",
       "      <td>ff90a677</td>\n",
       "      <td>129.262599</td>\n",
       "      <td>37.822211</td>\n",
       "      <td>137.294430</td>\n",
       "      <td>83.418634</td>\n",
       "      <td>4.765415</td>\n",
       "      <td>0.704039</td>\n",
       "      <td>2.340180e+05</td>\n",
       "      <td>109375.567726</td>\n",
       "      <td>43</td>\n",
       "      <td>1729</td>\n",
       "      <td>112</td>\n",
       "      <td>1</td>\n",
       "      <td>0</td>\n",
       "      <td>4.0</td>\n",
       "      <td>7</td>\n",
       "    </tr>\n",
       "    <tr>\n",
       "      <th>1973</th>\n",
       "      <td>ffbef7e5</td>\n",
       "      <td>82.266129</td>\n",
       "      <td>36.178818</td>\n",
       "      <td>223.013057</td>\n",
       "      <td>126.627934</td>\n",
       "      <td>4.239485</td>\n",
       "      <td>0.923658</td>\n",
       "      <td>8.419172e+05</td>\n",
       "      <td>512659.285164</td>\n",
       "      <td>148</td>\n",
       "      <td>2395</td>\n",
       "      <td>60</td>\n",
       "      <td>1</td>\n",
       "      <td>0</td>\n",
       "      <td>4.0</td>\n",
       "      <td>7</td>\n",
       "    </tr>\n",
       "    <tr>\n",
       "      <th>1974</th>\n",
       "      <td>ffec5b38</td>\n",
       "      <td>89.277915</td>\n",
       "      <td>54.515788</td>\n",
       "      <td>205.917027</td>\n",
       "      <td>118.473905</td>\n",
       "      <td>4.339672</td>\n",
       "      <td>0.739735</td>\n",
       "      <td>5.766082e+05</td>\n",
       "      <td>334766.796220</td>\n",
       "      <td>71</td>\n",
       "      <td>2895</td>\n",
       "      <td>276</td>\n",
       "      <td>0</td>\n",
       "      <td>0</td>\n",
       "      <td>5.0</td>\n",
       "      <td>9</td>\n",
       "    </tr>\n",
       "    <tr>\n",
       "      <th>1975</th>\n",
       "      <td>fff05981</td>\n",
       "      <td>83.237082</td>\n",
       "      <td>63.738723</td>\n",
       "      <td>105.105278</td>\n",
       "      <td>67.890428</td>\n",
       "      <td>4.055051</td>\n",
       "      <td>1.319331</td>\n",
       "      <td>1.076689e+06</td>\n",
       "      <td>580917.380848</td>\n",
       "      <td>843</td>\n",
       "      <td>2452</td>\n",
       "      <td>310</td>\n",
       "      <td>12</td>\n",
       "      <td>1</td>\n",
       "      <td>4.0</td>\n",
       "      <td>7</td>\n",
       "    </tr>\n",
       "  </tbody>\n",
       "</table>\n",
       "<p>1976 rows × 16 columns</p>\n",
       "</div>"
      ],
      "text/plain": [
       "            id  action_time_mean  action_time_std  word_count_mean  \\\n",
       "0     001519c8        116.246774        91.797374       128.116152   \n",
       "1     0059420b        121.848329       113.768226       103.618895   \n",
       "2     0075873a        123.943896        62.082013       125.082971   \n",
       "3     0081af50         81.404342        40.653054       132.942560   \n",
       "4     0093f095        109.717847        37.018331       119.671388   \n",
       "...        ...               ...              ...              ...   \n",
       "1971  ff7f1779         95.689408        45.091107       227.251047   \n",
       "1972  ff90a677        129.262599        37.822211       137.294430   \n",
       "1973  ffbef7e5         82.266129        36.178818       223.013057   \n",
       "1974  ffec5b38         89.277915        54.515788       205.917027   \n",
       "1975  fff05981         83.237082        63.738723       105.105278   \n",
       "\n",
       "      word_count_std  action_time_log_mean  action_time_log_std  \\\n",
       "0          76.498372              4.599037             0.731816   \n",
       "1          61.882250              4.112479             1.670000   \n",
       "2          77.255054              4.631532             0.835734   \n",
       "3          81.208824              4.324892             0.491386   \n",
       "4          72.388234              4.617338             0.585590   \n",
       "...              ...                   ...                  ...   \n",
       "1971      127.316992              4.424712             0.726349   \n",
       "1972       83.418634              4.765415             0.704039   \n",
       "1973      126.627934              4.239485             0.923658   \n",
       "1974      118.473905              4.339672             0.739735   \n",
       "1975       67.890428              4.055051             1.319331   \n",
       "\n",
       "      down_time_lag1_mean  down_time_lag1_std  Nonproduction  Input  \\\n",
       "0            8.474761e+05       395017.895651            120   2010   \n",
       "1            7.857385e+05       385747.129680             99   1304   \n",
       "2            7.132523e+05       405370.160405             72   1942   \n",
       "3            5.442865e+05       484522.665101             76   1794   \n",
       "4            3.543206e+05       242084.043765             34   1583   \n",
       "...                   ...                 ...            ...    ...   \n",
       "1971         6.793416e+05       459931.674935             67   2807   \n",
       "1972         2.340180e+05       109375.567726             43   1729   \n",
       "1973         8.419172e+05       512659.285164            148   2395   \n",
       "1974         5.766082e+05       334766.796220             71   2895   \n",
       "1975         1.076689e+06       580917.380848            843   2452   \n",
       "\n",
       "      Remove/Cut  Replace  Move  score  y  \n",
       "0            417        7     3    3.5  6  \n",
       "1            151        1     0    2.0  3  \n",
       "2            517        0     0    4.0  7  \n",
       "3            338        3     0    2.0  3  \n",
       "4            148        0     0    4.5  8  \n",
       "...          ...      ...   ...    ... ..  \n",
       "1971         468        0     0    4.5  8  \n",
       "1972         112        1     0    4.0  7  \n",
       "1973          60        1     0    4.0  7  \n",
       "1974         276        0     0    5.0  9  \n",
       "1975         310       12     1    4.0  7  \n",
       "\n",
       "[1976 rows x 16 columns]"
      ]
     },
     "execution_count": 69,
     "metadata": {},
     "output_type": "execute_result"
    }
   ],
   "source": [
    "x_train_new_join = join_two_df(x_train_new, x_train_agg_new)\n",
    "x_train_new_join_target = join_w_target(x_train_new_join, y_train)\n",
    "x_train_new_join_target = add_klass(x_train_new_join_target)\n",
    "x_train_new_join_target"
   ]
  },
  {
   "cell_type": "code",
   "execution_count": 70,
   "id": "30a18937",
   "metadata": {
    "execution": {
     "iopub.execute_input": "2023-11-08T08:33:53.606862Z",
     "iopub.status.busy": "2023-11-08T08:33:53.606464Z",
     "iopub.status.idle": "2023-11-08T08:33:54.858153Z",
     "shell.execute_reply": "2023-11-08T08:33:54.856850Z"
    },
    "id": "V2rGDzMfvdTG",
    "outputId": "4622d1ce-a928-4876-e0fb-4878a229605a",
    "papermill": {
     "duration": 1.308008,
     "end_time": "2023-11-08T08:33:54.860691",
     "exception": false,
     "start_time": "2023-11-08T08:33:53.552683",
     "status": "completed"
    },
    "tags": []
   },
   "outputs": [
    {
     "data": {
      "image/png": "[encoded data removed]",
      "text/plain": [
       "<Figure size 1000x1000 with 2 Axes>"
      ]
     },
     "metadata": {},
     "output_type": "display_data"
    }
   ],
   "source": [
    "#проверка лин корреляции Пирсона\n",
    "drop_col = ['id', 'y', 'Input', 'word_count_std']\n",
    "correl = x_train_new_join_target.drop(drop_col, axis=1).corr()\n",
    "\n",
    "sns.set(rc={\"figure.figsize\":(10, 10)})\n",
    "sns.heatmap(correl, annot=True, fmt=\".2f\", cmap= 'coolwarm');"
   ]
  },
  {
   "cell_type": "code",
   "execution_count": null,
   "id": "514d7e7b",
   "metadata": {
    "id": "kt7pT3kHvdV_",
    "papermill": {
     "duration": 0.056021,
     "end_time": "2023-11-08T08:33:54.973302",
     "exception": false,
     "start_time": "2023-11-08T08:33:54.917281",
     "status": "completed"
    },
    "tags": []
   },
   "outputs": [],
   "source": []
  },
  {
   "cell_type": "code",
   "execution_count": 71,
   "id": "5b6d5ecf",
   "metadata": {
    "execution": {
     "iopub.execute_input": "2023-11-08T08:33:55.087852Z",
     "iopub.status.busy": "2023-11-08T08:33:55.087137Z",
     "iopub.status.idle": "2023-11-08T08:33:55.094337Z",
     "shell.execute_reply": "2023-11-08T08:33:55.093352Z"
    },
    "id": "KRXm3CtOvdY5",
    "outputId": "93082331-7fe5-4352-c8a4-9c1ffd68191a",
    "papermill": {
     "duration": 0.067935,
     "end_time": "2023-11-08T08:33:55.096584",
     "exception": false,
     "start_time": "2023-11-08T08:33:55.028649",
     "status": "completed"
    },
    "tags": []
   },
   "outputs": [
    {
     "data": {
      "text/plain": [
       "array([ 6,  3,  7,  8,  4,  9,  5, 10, 11,  1,  2,  0])"
      ]
     },
     "execution_count": 71,
     "metadata": {},
     "output_type": "execute_result"
    }
   ],
   "source": [
    "x_train_new_join_target['y'].unique()"
   ]
  },
  {
   "cell_type": "code",
   "execution_count": null,
   "id": "77cd73f3",
   "metadata": {
    "id": "I_01mkOZvdbZ",
    "papermill": {
     "duration": 0.056588,
     "end_time": "2023-11-08T08:33:55.210930",
     "exception": false,
     "start_time": "2023-11-08T08:33:55.154342",
     "status": "completed"
    },
    "tags": []
   },
   "outputs": [],
   "source": []
  },
  {
   "cell_type": "markdown",
   "id": "ce4c94f6",
   "metadata": {
    "id": "lGA8O33F47qv",
    "papermill": {
     "duration": 0.056093,
     "end_time": "2023-11-08T08:33:55.322707",
     "exception": false,
     "start_time": "2023-11-08T08:33:55.266614",
     "status": "completed"
    },
    "tags": []
   },
   "source": [
    "### для валидации\n",
    "### for validation"
   ]
  },
  {
   "cell_type": "code",
   "execution_count": 72,
   "id": "32e22952",
   "metadata": {
    "execution": {
     "iopub.execute_input": "2023-11-08T08:33:55.436642Z",
     "iopub.status.busy": "2023-11-08T08:33:55.435890Z",
     "iopub.status.idle": "2023-11-08T08:34:01.204743Z",
     "shell.execute_reply": "2023-11-08T08:34:01.203539Z"
    },
    "id": "AkLhxkcN45Ph",
    "outputId": "c6b36e1c-b702-42ed-e865-f5be3c67f8ed",
    "papermill": {
     "duration": 5.828798,
     "end_time": "2023-11-08T08:34:01.207155",
     "exception": false,
     "start_time": "2023-11-08T08:33:55.378357",
     "status": "completed"
    },
    "tags": []
   },
   "outputs": [
    {
     "data": {
      "text/html": [
       "<div>\n",
       "<style scoped>\n",
       "    .dataframe tbody tr th:only-of-type {\n",
       "        vertical-align: middle;\n",
       "    }\n",
       "\n",
       "    .dataframe tbody tr th {\n",
       "        vertical-align: top;\n",
       "    }\n",
       "\n",
       "    .dataframe thead th {\n",
       "        text-align: right;\n",
       "    }\n",
       "</style>\n",
       "<table border=\"1\" class=\"dataframe\">\n",
       "  <thead>\n",
       "    <tr style=\"text-align: right;\">\n",
       "      <th></th>\n",
       "      <th>id</th>\n",
       "      <th>action_time_mean</th>\n",
       "      <th>action_time_std</th>\n",
       "      <th>word_count_mean</th>\n",
       "      <th>word_count_std</th>\n",
       "      <th>action_time_log_mean</th>\n",
       "      <th>action_time_log_std</th>\n",
       "      <th>down_time_lag1_mean</th>\n",
       "      <th>down_time_lag1_std</th>\n",
       "      <th>Nonproduction</th>\n",
       "      <th>Input</th>\n",
       "      <th>Remove/Cut</th>\n",
       "      <th>Replace</th>\n",
       "      <th>Move</th>\n",
       "      <th>score</th>\n",
       "      <th>y</th>\n",
       "    </tr>\n",
       "  </thead>\n",
       "  <tbody>\n",
       "    <tr>\n",
       "      <th>0</th>\n",
       "      <td>0022f953</td>\n",
       "      <td>112.221271</td>\n",
       "      <td>55.431189</td>\n",
       "      <td>182.714751</td>\n",
       "      <td>97.763090</td>\n",
       "      <td>4.516625</td>\n",
       "      <td>0.993812</td>\n",
       "      <td>5.181264e+05</td>\n",
       "      <td>384246.602200</td>\n",
       "      <td>254</td>\n",
       "      <td>1938</td>\n",
       "      <td>260</td>\n",
       "      <td>1</td>\n",
       "      <td>0</td>\n",
       "      <td>3.5</td>\n",
       "      <td>6</td>\n",
       "    </tr>\n",
       "    <tr>\n",
       "      <th>1</th>\n",
       "      <td>0042269b</td>\n",
       "      <td>101.837766</td>\n",
       "      <td>82.383766</td>\n",
       "      <td>194.772727</td>\n",
       "      <td>108.935068</td>\n",
       "      <td>4.502382</td>\n",
       "      <td>0.600137</td>\n",
       "      <td>8.284960e+05</td>\n",
       "      <td>489509.081188</td>\n",
       "      <td>175</td>\n",
       "      <td>3515</td>\n",
       "      <td>439</td>\n",
       "      <td>7</td>\n",
       "      <td>0</td>\n",
       "      <td>6.0</td>\n",
       "      <td>11</td>\n",
       "    </tr>\n",
       "    <tr>\n",
       "      <th>2</th>\n",
       "      <td>00e1f05a</td>\n",
       "      <td>93.343215</td>\n",
       "      <td>198.896690</td>\n",
       "      <td>364.352159</td>\n",
       "      <td>207.108617</td>\n",
       "      <td>4.276279</td>\n",
       "      <td>0.820115</td>\n",
       "      <td>8.843470e+05</td>\n",
       "      <td>493334.430015</td>\n",
       "      <td>228</td>\n",
       "      <td>6145</td>\n",
       "      <td>1446</td>\n",
       "      <td>7</td>\n",
       "      <td>0</td>\n",
       "      <td>4.5</td>\n",
       "      <td>8</td>\n",
       "    </tr>\n",
       "    <tr>\n",
       "      <th>3</th>\n",
       "      <td>00f0737e</td>\n",
       "      <td>131.157285</td>\n",
       "      <td>81.291786</td>\n",
       "      <td>119.692053</td>\n",
       "      <td>79.707921</td>\n",
       "      <td>4.306283</td>\n",
       "      <td>1.643927</td>\n",
       "      <td>6.035255e+05</td>\n",
       "      <td>401132.188564</td>\n",
       "      <td>398</td>\n",
       "      <td>1780</td>\n",
       "      <td>237</td>\n",
       "      <td>1</td>\n",
       "      <td>0</td>\n",
       "      <td>2.5</td>\n",
       "      <td>4</td>\n",
       "    </tr>\n",
       "    <tr>\n",
       "      <th>4</th>\n",
       "      <td>00f8e84c</td>\n",
       "      <td>82.430529</td>\n",
       "      <td>43.591846</td>\n",
       "      <td>281.274389</td>\n",
       "      <td>168.116243</td>\n",
       "      <td>3.947912</td>\n",
       "      <td>1.501683</td>\n",
       "      <td>9.508620e+05</td>\n",
       "      <td>462081.502552</td>\n",
       "      <td>477</td>\n",
       "      <td>3182</td>\n",
       "      <td>62</td>\n",
       "      <td>0</td>\n",
       "      <td>0</td>\n",
       "      <td>4.5</td>\n",
       "      <td>8</td>\n",
       "    </tr>\n",
       "    <tr>\n",
       "      <th>...</th>\n",
       "      <td>...</td>\n",
       "      <td>...</td>\n",
       "      <td>...</td>\n",
       "      <td>...</td>\n",
       "      <td>...</td>\n",
       "      <td>...</td>\n",
       "      <td>...</td>\n",
       "      <td>...</td>\n",
       "      <td>...</td>\n",
       "      <td>...</td>\n",
       "      <td>...</td>\n",
       "      <td>...</td>\n",
       "      <td>...</td>\n",
       "      <td>...</td>\n",
       "      <td>...</td>\n",
       "      <td>...</td>\n",
       "    </tr>\n",
       "    <tr>\n",
       "      <th>490</th>\n",
       "      <td>ff9a11ae</td>\n",
       "      <td>115.759066</td>\n",
       "      <td>91.889604</td>\n",
       "      <td>170.935989</td>\n",
       "      <td>93.444698</td>\n",
       "      <td>4.591669</td>\n",
       "      <td>0.720316</td>\n",
       "      <td>8.843147e+05</td>\n",
       "      <td>479816.825275</td>\n",
       "      <td>120</td>\n",
       "      <td>2773</td>\n",
       "      <td>741</td>\n",
       "      <td>6</td>\n",
       "      <td>0</td>\n",
       "      <td>3.5</td>\n",
       "      <td>6</td>\n",
       "    </tr>\n",
       "    <tr>\n",
       "      <th>491</th>\n",
       "      <td>ff9d1032</td>\n",
       "      <td>76.438247</td>\n",
       "      <td>126.558610</td>\n",
       "      <td>171.576965</td>\n",
       "      <td>96.281595</td>\n",
       "      <td>4.116985</td>\n",
       "      <td>0.698452</td>\n",
       "      <td>7.448387e+05</td>\n",
       "      <td>408608.725563</td>\n",
       "      <td>98</td>\n",
       "      <td>2296</td>\n",
       "      <td>366</td>\n",
       "      <td>1</td>\n",
       "      <td>0</td>\n",
       "      <td>4.0</td>\n",
       "      <td>7</td>\n",
       "    </tr>\n",
       "    <tr>\n",
       "      <th>492</th>\n",
       "      <td>ffab2ba4</td>\n",
       "      <td>63.867066</td>\n",
       "      <td>69.863913</td>\n",
       "      <td>165.328336</td>\n",
       "      <td>92.144748</td>\n",
       "      <td>4.095248</td>\n",
       "      <td>0.376152</td>\n",
       "      <td>6.152696e+05</td>\n",
       "      <td>379305.941674</td>\n",
       "      <td>70</td>\n",
       "      <td>1828</td>\n",
       "      <td>103</td>\n",
       "      <td>0</td>\n",
       "      <td>0</td>\n",
       "      <td>3.5</td>\n",
       "      <td>6</td>\n",
       "    </tr>\n",
       "    <tr>\n",
       "      <th>493</th>\n",
       "      <td>ffb8c745</td>\n",
       "      <td>105.437856</td>\n",
       "      <td>63.622575</td>\n",
       "      <td>256.353661</td>\n",
       "      <td>118.093794</td>\n",
       "      <td>4.473816</td>\n",
       "      <td>0.928110</td>\n",
       "      <td>7.360779e+05</td>\n",
       "      <td>503834.583587</td>\n",
       "      <td>189</td>\n",
       "      <td>3588</td>\n",
       "      <td>960</td>\n",
       "      <td>2</td>\n",
       "      <td>0</td>\n",
       "      <td>3.5</td>\n",
       "      <td>6</td>\n",
       "    </tr>\n",
       "    <tr>\n",
       "      <th>494</th>\n",
       "      <td>ffccd6fd</td>\n",
       "      <td>75.605615</td>\n",
       "      <td>63.494975</td>\n",
       "      <td>157.589292</td>\n",
       "      <td>61.236111</td>\n",
       "      <td>4.039836</td>\n",
       "      <td>0.877297</td>\n",
       "      <td>1.228960e+06</td>\n",
       "      <td>514252.009937</td>\n",
       "      <td>126</td>\n",
       "      <td>2849</td>\n",
       "      <td>88</td>\n",
       "      <td>0</td>\n",
       "      <td>0</td>\n",
       "      <td>1.5</td>\n",
       "      <td>2</td>\n",
       "    </tr>\n",
       "  </tbody>\n",
       "</table>\n",
       "<p>495 rows × 16 columns</p>\n",
       "</div>"
      ],
      "text/plain": [
       "           id  action_time_mean  action_time_std  word_count_mean  \\\n",
       "0    0022f953        112.221271        55.431189       182.714751   \n",
       "1    0042269b        101.837766        82.383766       194.772727   \n",
       "2    00e1f05a         93.343215       198.896690       364.352159   \n",
       "3    00f0737e        131.157285        81.291786       119.692053   \n",
       "4    00f8e84c         82.430529        43.591846       281.274389   \n",
       "..        ...               ...              ...              ...   \n",
       "490  ff9a11ae        115.759066        91.889604       170.935989   \n",
       "491  ff9d1032         76.438247       126.558610       171.576965   \n",
       "492  ffab2ba4         63.867066        69.863913       165.328336   \n",
       "493  ffb8c745        105.437856        63.622575       256.353661   \n",
       "494  ffccd6fd         75.605615        63.494975       157.589292   \n",
       "\n",
       "     word_count_std  action_time_log_mean  action_time_log_std  \\\n",
       "0         97.763090              4.516625             0.993812   \n",
       "1        108.935068              4.502382             0.600137   \n",
       "2        207.108617              4.276279             0.820115   \n",
       "3         79.707921              4.306283             1.643927   \n",
       "4        168.116243              3.947912             1.501683   \n",
       "..              ...                   ...                  ...   \n",
       "490       93.444698              4.591669             0.720316   \n",
       "491       96.281595              4.116985             0.698452   \n",
       "492       92.144748              4.095248             0.376152   \n",
       "493      118.093794              4.473816             0.928110   \n",
       "494       61.236111              4.039836             0.877297   \n",
       "\n",
       "     down_time_lag1_mean  down_time_lag1_std  Nonproduction  Input  \\\n",
       "0           5.181264e+05       384246.602200            254   1938   \n",
       "1           8.284960e+05       489509.081188            175   3515   \n",
       "2           8.843470e+05       493334.430015            228   6145   \n",
       "3           6.035255e+05       401132.188564            398   1780   \n",
       "4           9.508620e+05       462081.502552            477   3182   \n",
       "..                   ...                 ...            ...    ...   \n",
       "490         8.843147e+05       479816.825275            120   2773   \n",
       "491         7.448387e+05       408608.725563             98   2296   \n",
       "492         6.152696e+05       379305.941674             70   1828   \n",
       "493         7.360779e+05       503834.583587            189   3588   \n",
       "494         1.228960e+06       514252.009937            126   2849   \n",
       "\n",
       "     Remove/Cut  Replace  Move  score   y  \n",
       "0           260        1     0    3.5   6  \n",
       "1           439        7     0    6.0  11  \n",
       "2          1446        7     0    4.5   8  \n",
       "3           237        1     0    2.5   4  \n",
       "4            62        0     0    4.5   8  \n",
       "..          ...      ...   ...    ...  ..  \n",
       "490         741        6     0    3.5   6  \n",
       "491         366        1     0    4.0   7  \n",
       "492         103        0     0    3.5   6  \n",
       "493         960        2     0    3.5   6  \n",
       "494          88        0     0    1.5   2  \n",
       "\n",
       "[495 rows x 16 columns]"
      ]
     },
     "execution_count": 72,
     "metadata": {},
     "output_type": "execute_result"
    }
   ],
   "source": [
    "x_valid_new = pipe_add.transform(x_valid)\n",
    "\n",
    "x_valid_agg = df_agg(x_valid)\n",
    "\n",
    "x_valid_agg_new = df_agg_activity(x_valid_agg, columns_activity)\n",
    "x_valid_new_join = join_two_df(x_valid_new, x_valid_agg_new)\n",
    "\n",
    "x_valid_new_join_target = join_w_target(x_valid_new_join, y_valid)\n",
    "\n",
    "x_valid_new_join_target = add_klass(x_valid_new_join_target)\n",
    "x_valid_new_join_target"
   ]
  },
  {
   "cell_type": "code",
   "execution_count": null,
   "id": "6ea8d90b",
   "metadata": {
    "id": "uExE2jL71hTP",
    "papermill": {
     "duration": 0.05625,
     "end_time": "2023-11-08T08:34:01.321967",
     "exception": false,
     "start_time": "2023-11-08T08:34:01.265717",
     "status": "completed"
    },
    "tags": []
   },
   "outputs": [],
   "source": []
  },
  {
   "cell_type": "code",
   "execution_count": null,
   "id": "badc4f51",
   "metadata": {
    "id": "ZPxeIWZ81hWW",
    "papermill": {
     "duration": 0.057964,
     "end_time": "2023-11-08T08:34:01.436106",
     "exception": false,
     "start_time": "2023-11-08T08:34:01.378142",
     "status": "completed"
    },
    "tags": []
   },
   "outputs": [],
   "source": []
  },
  {
   "cell_type": "markdown",
   "id": "0b8900e4",
   "metadata": {
    "id": "MAhju0-qyH9b",
    "papermill": {
     "duration": 0.055618,
     "end_time": "2023-11-08T08:34:01.548344",
     "exception": false,
     "start_time": "2023-11-08T08:34:01.492726",
     "status": "completed"
    },
    "tags": []
   },
   "source": [
    "## Models"
   ]
  },
  {
   "cell_type": "code",
   "execution_count": null,
   "id": "a03ff90c",
   "metadata": {
    "id": "-Up0vO0Xvdd0",
    "papermill": {
     "duration": 0.057889,
     "end_time": "2023-11-08T08:34:01.663106",
     "exception": false,
     "start_time": "2023-11-08T08:34:01.605217",
     "status": "completed"
    },
    "tags": []
   },
   "outputs": [],
   "source": []
  },
  {
   "cell_type": "markdown",
   "id": "572811d2",
   "metadata": {
    "id": "Fsg61alnyKqu",
    "papermill": {
     "duration": 0.055829,
     "end_time": "2023-11-08T08:34:01.776174",
     "exception": false,
     "start_time": "2023-11-08T08:34:01.720345",
     "status": "completed"
    },
    "tags": []
   },
   "source": [
    "### RandomForestClassifier"
   ]
  },
  {
   "cell_type": "code",
   "execution_count": 73,
   "id": "84369dbb",
   "metadata": {
    "execution": {
     "iopub.execute_input": "2023-11-08T08:34:01.890802Z",
     "iopub.status.busy": "2023-11-08T08:34:01.890072Z",
     "iopub.status.idle": "2023-11-08T08:34:21.805163Z",
     "shell.execute_reply": "2023-11-08T08:34:21.803928Z"
    },
    "id": "9ac_RmIfvdg5",
    "outputId": "bdc9f73e-8e24-44a6-9272-da2638c4859d",
    "papermill": {
     "duration": 19.975497,
     "end_time": "2023-11-08T08:34:21.807698",
     "exception": false,
     "start_time": "2023-11-08T08:34:01.832201",
     "status": "completed"
    },
    "tags": []
   },
   "outputs": [
    {
     "name": "stderr",
     "output_type": "stream",
     "text": [
      "[I 2023-11-08 08:34:01,897] A new study created in memory with name: no-name-74704615-2651-4dee-a3e2-57c73f9b4768\n",
      "[I 2023-11-08 08:34:03,202] Trial 0 finished with value: 0.8034018580103892 and parameters: {'n_estimators': 127, 'criterion': 'log_loss', 'max_depth': 9, 'min_samples_split': 2, 'min_samples_leaf': 9}. Best is trial 0 with value: 0.8034018580103892.\n",
      "[I 2023-11-08 08:34:04,145] Trial 1 finished with value: 0.8027729719194864 and parameters: {'n_estimators': 170, 'criterion': 'gini', 'max_depth': 59, 'min_samples_split': 14, 'min_samples_leaf': 15}. Best is trial 1 with value: 0.8027729719194864.\n",
      "[I 2023-11-08 08:34:05,275] Trial 2 finished with value: 0.7859241488062113 and parameters: {'n_estimators': 166, 'criterion': 'gini', 'max_depth': 59, 'min_samples_split': 3, 'min_samples_leaf': 4}. Best is trial 2 with value: 0.7859241488062113.\n",
      "[I 2023-11-08 08:34:07,233] Trial 3 finished with value: 0.7878496498108447 and parameters: {'n_estimators': 192, 'criterion': 'log_loss', 'max_depth': 7, 'min_samples_split': 14, 'min_samples_leaf': 3}. Best is trial 2 with value: 0.7859241488062113.\n",
      "[I 2023-11-08 08:34:07,636] Trial 4 finished with value: 0.7955050489018174 and parameters: {'n_estimators': 103, 'criterion': 'gini', 'max_depth': 3, 'min_samples_split': 9, 'min_samples_leaf': 17}. Best is trial 2 with value: 0.7859241488062113.\n",
      "[I 2023-11-08 08:34:08,687] Trial 5 finished with value: 0.810910449788235 and parameters: {'n_estimators': 200, 'criterion': 'gini', 'max_depth': 56, 'min_samples_split': 15, 'min_samples_leaf': 19}. Best is trial 2 with value: 0.7859241488062113.\n",
      "[I 2023-11-08 08:34:09,038] Trial 6 finished with value: 0.8049719237214413 and parameters: {'n_estimators': 39, 'criterion': 'log_loss', 'max_depth': 66, 'min_samples_split': 4, 'min_samples_leaf': 20}. Best is trial 2 with value: 0.7859241488062113.\n",
      "[I 2023-11-08 08:34:09,689] Trial 7 finished with value: 0.7989892604934301 and parameters: {'n_estimators': 116, 'criterion': 'gini', 'max_depth': 62, 'min_samples_split': 11, 'min_samples_leaf': 14}. Best is trial 2 with value: 0.7859241488062113.\n",
      "[I 2023-11-08 08:34:11,087] Trial 8 finished with value: 0.8040302522073697 and parameters: {'n_estimators': 160, 'criterion': 'log_loss', 'max_depth': 64, 'min_samples_split': 19, 'min_samples_leaf': 20}. Best is trial 2 with value: 0.7859241488062113.\n",
      "[I 2023-11-08 08:34:12,118] Trial 9 finished with value: 0.7852812659593165 and parameters: {'n_estimators': 94, 'criterion': 'entropy', 'max_depth': 13, 'min_samples_split': 9, 'min_samples_leaf': 6}. Best is trial 9 with value: 0.7852812659593165.\n",
      "[I 2023-11-08 08:34:12,716] Trial 10 finished with value: 0.7923242882669809 and parameters: {'n_estimators': 53, 'criterion': 'entropy', 'max_depth': 25, 'min_samples_split': 7, 'min_samples_leaf': 8}. Best is trial 9 with value: 0.7852812659593165.\n",
      "[I 2023-11-08 08:34:13,802] Trial 11 finished with value: 0.8011985970526857 and parameters: {'n_estimators': 81, 'criterion': 'entropy', 'max_depth': 95, 'min_samples_split': 6, 'min_samples_leaf': 2}. Best is trial 9 with value: 0.7852812659593165.\n",
      "[I 2023-11-08 08:34:15,536] Trial 12 finished with value: 0.7891307069980693 and parameters: {'n_estimators': 148, 'criterion': 'entropy', 'max_depth': 36, 'min_samples_split': 2, 'min_samples_leaf': 5}. Best is trial 9 with value: 0.7852812659593165.\n",
      "[I 2023-11-08 08:34:16,503] Trial 13 finished with value: 0.7888106377466155 and parameters: {'n_estimators': 79, 'criterion': 'entropy', 'max_depth': 84, 'min_samples_split': 8, 'min_samples_leaf': 6}. Best is trial 9 with value: 0.7852812659593165.\n",
      "[I 2023-11-08 08:34:17,302] Trial 14 finished with value: 0.7872083394483126 and parameters: {'n_estimators': 132, 'criterion': 'gini', 'max_depth': 38, 'min_samples_split': 11, 'min_samples_leaf': 12}. Best is trial 9 with value: 0.7852812659593165.\n",
      "[I 2023-11-08 08:34:18,541] Trial 15 finished with value: 0.7836717515270115 and parameters: {'n_estimators': 89, 'criterion': 'entropy', 'max_depth': 42, 'min_samples_split': 4, 'min_samples_leaf': 1}. Best is trial 15 with value: 0.7836717515270115.\n",
      "[I 2023-11-08 08:34:19,719] Trial 16 finished with value: 0.8074776789609741 and parameters: {'n_estimators': 86, 'criterion': 'entropy', 'max_depth': 22, 'min_samples_split': 6, 'min_samples_leaf': 1}. Best is trial 15 with value: 0.7836717515270115.\n",
      "[I 2023-11-08 08:34:20,336] Trial 17 finished with value: 0.7916866026197973 and parameters: {'n_estimators': 54, 'criterion': 'entropy', 'max_depth': 43, 'min_samples_split': 5, 'min_samples_leaf': 7}. Best is trial 15 with value: 0.7836717515270115.\n",
      "[I 2023-11-08 08:34:20,627] Trial 18 finished with value: 0.8102873913406629 and parameters: {'n_estimators': 24, 'criterion': 'entropy', 'max_depth': 23, 'min_samples_split': 10, 'min_samples_leaf': 10}. Best is trial 15 with value: 0.7836717515270115.\n",
      "[I 2023-11-08 08:34:21,800] Trial 19 finished with value: 0.7977240352174656 and parameters: {'n_estimators': 97, 'criterion': 'entropy', 'max_depth': 76, 'min_samples_split': 18, 'min_samples_leaf': 1}. Best is trial 15 with value: 0.7836717515270115.\n"
     ]
    }
   ],
   "source": [
    "def objective(trial):\n",
    "    params = {\n",
    "            'n_estimators': trial.suggest_int('n_estimators', 20, 200),\n",
    "            'criterion': trial.suggest_categorical('criterion', ['gini', 'entropy', 'log_loss']),\n",
    "            'max_depth': trial.suggest_int('max_depth', 2, 100),\n",
    "            'min_samples_split': trial.suggest_int('min_samples_split', 2, 20),\n",
    "            'min_samples_leaf': trial.suggest_int('min_samples_leaf', 1, 20),\n",
    "        }\n",
    "\n",
    "    clf = RandomForestClassifier(random_state=STATE, **params)\n",
    "\n",
    "    x_train = x_train_new_join_target[x_train_new_join_target.columns[1:-2]]\n",
    "    y_train = x_train_new_join_target['y']\n",
    "\n",
    "    x_valid = x_valid_new_join_target[x_valid_new_join_target.columns[1:-2]]\n",
    "    y_valid = x_valid_new_join_target['score']\n",
    "\n",
    "    clf.fit(x_train, y_train)\n",
    "\n",
    "    pred = (clf.predict(x_valid) + 1) / 2\n",
    "\n",
    "    mse = mean_squared_error(y_valid, pred, squared=False)\n",
    "\n",
    "    #return clf.score(x_valid, y_valid)\n",
    "    return mse\n",
    "\n",
    "\n",
    "study = optuna.create_study(direction=\"minimize\")\n",
    "study.optimize(objective, n_trials=20)"
   ]
  },
  {
   "cell_type": "code",
   "execution_count": 74,
   "id": "a9c5806c",
   "metadata": {
    "execution": {
     "iopub.execute_input": "2023-11-08T08:34:21.928565Z",
     "iopub.status.busy": "2023-11-08T08:34:21.928149Z",
     "iopub.status.idle": "2023-11-08T08:34:21.934676Z",
     "shell.execute_reply": "2023-11-08T08:34:21.933612Z"
    },
    "id": "J6bLyNiavdlW",
    "outputId": "fee0105b-1050-4577-e2f0-b4f05dab78e0",
    "papermill": {
     "duration": 0.069503,
     "end_time": "2023-11-08T08:34:21.937567",
     "exception": false,
     "start_time": "2023-11-08T08:34:21.868064",
     "status": "completed"
    },
    "tags": []
   },
   "outputs": [
    {
     "name": "stdout",
     "output_type": "stream",
     "text": [
      "Best trial: 15\n",
      "Best accuracy: 0.7836717515270115\n",
      "Best hyperparameters: {'n_estimators': 89, 'criterion': 'entropy', 'max_depth': 42, 'min_samples_split': 4, 'min_samples_leaf': 1}\n"
     ]
    }
   ],
   "source": [
    "print(\"Best trial:\", study.best_trial.number)\n",
    "print(\"Best accuracy:\", study.best_trial.value)\n",
    "print(\"Best hyperparameters:\", study.best_params)\n"
   ]
  },
  {
   "cell_type": "code",
   "execution_count": null,
   "id": "606d0025",
   "metadata": {
    "id": "tCZ2424hhG2u",
    "papermill": {
     "duration": 0.058871,
     "end_time": "2023-11-08T08:34:22.054635",
     "exception": false,
     "start_time": "2023-11-08T08:34:21.995764",
     "status": "completed"
    },
    "tags": []
   },
   "outputs": [],
   "source": []
  },
  {
   "cell_type": "markdown",
   "id": "51cf3492",
   "metadata": {
    "id": "vhdFA-IpPNwE",
    "papermill": {
     "duration": 0.058567,
     "end_time": "2023-11-08T08:34:22.171770",
     "exception": false,
     "start_time": "2023-11-08T08:34:22.113203",
     "status": "completed"
    },
    "tags": []
   },
   "source": [
    "### RandomForestRegressor"
   ]
  },
  {
   "cell_type": "code",
   "execution_count": 75,
   "id": "42755420",
   "metadata": {
    "execution": {
     "iopub.execute_input": "2023-11-08T08:34:22.290271Z",
     "iopub.status.busy": "2023-11-08T08:34:22.289869Z",
     "iopub.status.idle": "2023-11-08T08:34:42.168002Z",
     "shell.execute_reply": "2023-11-08T08:34:42.166866Z"
    },
    "id": "OKViy5T9Anuw",
    "outputId": "9126c199-9e95-4559-fdb3-865e15275454",
    "papermill": {
     "duration": 19.940139,
     "end_time": "2023-11-08T08:34:42.170566",
     "exception": false,
     "start_time": "2023-11-08T08:34:22.230427",
     "status": "completed"
    },
    "tags": []
   },
   "outputs": [
    {
     "name": "stderr",
     "output_type": "stream",
     "text": [
      "[I 2023-11-08 08:34:22,297] A new study created in memory with name: no-name-49ed9fe8-4e2a-4802-818f-204cbdce6631\n",
      "[I 2023-11-08 08:34:22,791] Trial 0 finished with value: 0.7440265100936537 and parameters: {'n_estimators': 54, 'criterion': 'squared_error', 'max_depth': 47, 'min_samples_split': 14, 'min_samples_leaf': 18}. Best is trial 0 with value: 0.7440265100936537.\n",
      "[I 2023-11-08 08:34:23,065] Trial 1 finished with value: 0.7474415809059735 and parameters: {'n_estimators': 29, 'criterion': 'squared_error', 'max_depth': 10, 'min_samples_split': 11, 'min_samples_leaf': 17}. Best is trial 0 with value: 0.7440265100936537.\n",
      "[I 2023-11-08 08:34:24,757] Trial 2 finished with value: 0.7489083268326651 and parameters: {'n_estimators': 190, 'criterion': 'squared_error', 'max_depth': 68, 'min_samples_split': 20, 'min_samples_leaf': 19}. Best is trial 0 with value: 0.7440265100936537.\n",
      "[I 2023-11-08 08:34:25,779] Trial 3 finished with value: 0.7483158625739206 and parameters: {'n_estimators': 88, 'criterion': 'squared_error', 'max_depth': 89, 'min_samples_split': 17, 'min_samples_leaf': 5}. Best is trial 0 with value: 0.7440265100936537.\n",
      "[I 2023-11-08 08:34:26,621] Trial 4 finished with value: 0.7485162169672465 and parameters: {'n_estimators': 88, 'criterion': 'squared_error', 'max_depth': 35, 'min_samples_split': 8, 'min_samples_leaf': 16}. Best is trial 0 with value: 0.7440265100936537.\n",
      "[I 2023-11-08 08:34:27,693] Trial 5 finished with value: 0.746318231531755 and parameters: {'n_estimators': 108, 'criterion': 'squared_error', 'max_depth': 7, 'min_samples_split': 8, 'min_samples_leaf': 2}. Best is trial 0 with value: 0.7440265100936537.\n",
      "[I 2023-11-08 08:34:28,818] Trial 6 finished with value: 0.7478092598352309 and parameters: {'n_estimators': 125, 'criterion': 'squared_error', 'max_depth': 22, 'min_samples_split': 5, 'min_samples_leaf': 19}. Best is trial 0 with value: 0.7440265100936537.\n",
      "[I 2023-11-08 08:34:30,422] Trial 7 finished with value: 0.7510258573044406 and parameters: {'n_estimators': 121, 'criterion': 'squared_error', 'max_depth': 58, 'min_samples_split': 7, 'min_samples_leaf': 3}. Best is trial 0 with value: 0.7440265100936537.\n",
      "[I 2023-11-08 08:34:30,834] Trial 8 finished with value: 0.7512558702704126 and parameters: {'n_estimators': 36, 'criterion': 'squared_error', 'max_depth': 94, 'min_samples_split': 6, 'min_samples_leaf': 7}. Best is trial 0 with value: 0.7440265100936537.\n",
      "[I 2023-11-08 08:34:32,025] Trial 9 finished with value: 0.7473324248333575 and parameters: {'n_estimators': 132, 'criterion': 'squared_error', 'max_depth': 63, 'min_samples_split': 2, 'min_samples_leaf': 18}. Best is trial 0 with value: 0.7440265100936537.\n",
      "[I 2023-11-08 08:34:32,574] Trial 10 finished with value: 0.7438001207188253 and parameters: {'n_estimators': 51, 'criterion': 'squared_error', 'max_depth': 36, 'min_samples_split': 14, 'min_samples_leaf': 12}. Best is trial 10 with value: 0.7438001207188253.\n",
      "[I 2023-11-08 08:34:33,139] Trial 11 finished with value: 0.7443011337540808 and parameters: {'n_estimators': 52, 'criterion': 'squared_error', 'max_depth': 39, 'min_samples_split': 14, 'min_samples_leaf': 12}. Best is trial 10 with value: 0.7438001207188253.\n",
      "[I 2023-11-08 08:34:33,805] Trial 12 finished with value: 0.7431773165408467 and parameters: {'n_estimators': 62, 'criterion': 'squared_error', 'max_depth': 42, 'min_samples_split': 13, 'min_samples_leaf': 11}. Best is trial 12 with value: 0.7431773165408467.\n",
      "[I 2023-11-08 08:34:34,629] Trial 13 finished with value: 0.7447203040959919 and parameters: {'n_estimators': 78, 'criterion': 'squared_error', 'max_depth': 27, 'min_samples_split': 12, 'min_samples_leaf': 11}. Best is trial 12 with value: 0.7431773165408467.\n",
      "[I 2023-11-08 08:34:35,284] Trial 14 finished with value: 0.7454676125293406 and parameters: {'n_estimators': 64, 'criterion': 'squared_error', 'max_depth': 78, 'min_samples_split': 17, 'min_samples_leaf': 14}. Best is trial 12 with value: 0.7431773165408467.\n",
      "[I 2023-11-08 08:34:35,531] Trial 15 finished with value: 0.7460773077474573 and parameters: {'n_estimators': 20, 'criterion': 'squared_error', 'max_depth': 46, 'min_samples_split': 12, 'min_samples_leaf': 10}. Best is trial 12 with value: 0.7431773165408467.\n",
      "[I 2023-11-08 08:34:37,378] Trial 16 finished with value: 0.7437187077595956 and parameters: {'n_estimators': 166, 'criterion': 'squared_error', 'max_depth': 21, 'min_samples_split': 15, 'min_samples_leaf': 8}. Best is trial 12 with value: 0.7431773165408467.\n",
      "[I 2023-11-08 08:34:39,162] Trial 17 finished with value: 0.7436266249700622 and parameters: {'n_estimators': 164, 'criterion': 'squared_error', 'max_depth': 23, 'min_samples_split': 18, 'min_samples_leaf': 8}. Best is trial 12 with value: 0.7431773165408467.\n",
      "[I 2023-11-08 08:34:40,819] Trial 18 finished with value: 0.7433314171288545 and parameters: {'n_estimators': 153, 'criterion': 'squared_error', 'max_depth': 15, 'min_samples_split': 20, 'min_samples_leaf': 8}. Best is trial 12 with value: 0.7431773165408467.\n",
      "[I 2023-11-08 08:34:42,163] Trial 19 finished with value: 0.7466656636179297 and parameters: {'n_estimators': 150, 'criterion': 'squared_error', 'max_depth': 6, 'min_samples_split': 20, 'min_samples_leaf': 5}. Best is trial 12 with value: 0.7431773165408467.\n"
     ]
    }
   ],
   "source": [
    "def objective(trial):\n",
    "    params = {\n",
    "            'n_estimators': trial.suggest_int('n_estimators', 20, 200),\n",
    "            'criterion': trial.suggest_categorical('criterion', ['squared_error']),\n",
    "            'max_depth': trial.suggest_int('max_depth', 2, 100),\n",
    "            'min_samples_split': trial.suggest_int('min_samples_split', 2, 20),\n",
    "            'min_samples_leaf': trial.suggest_int('min_samples_leaf', 1, 20),\n",
    "        }\n",
    "\n",
    "    clf = RandomForestRegressor(random_state=STATE, **params)\n",
    "\n",
    "    drop_col = ['id', 'y', 'Input', 'word_count_std', 'score']\n",
    "\n",
    "    x_train = x_train_new_join_target.drop(drop_col, axis=1)\n",
    "    y_train = x_train_new_join_target['score']\n",
    "\n",
    "    x_valid = x_valid_new_join_target.drop(drop_col, axis=1)\n",
    "    y_valid = x_valid_new_join_target['score']\n",
    "\n",
    "    clf.fit(x_train, y_train)\n",
    "\n",
    "    pred = clf.predict(x_valid)\n",
    "    mse = mean_squared_error(y_valid, pred, squared=False)\n",
    "\n",
    "    return mse\n",
    "\n",
    "study = optuna.create_study(direction=\"minimize\")\n",
    "study.optimize(objective, n_trials=20)"
   ]
  },
  {
   "cell_type": "code",
   "execution_count": 76,
   "id": "2859d35f",
   "metadata": {
    "execution": {
     "iopub.execute_input": "2023-11-08T08:34:42.294451Z",
     "iopub.status.busy": "2023-11-08T08:34:42.293988Z",
     "iopub.status.idle": "2023-11-08T08:34:42.301841Z",
     "shell.execute_reply": "2023-11-08T08:34:42.300189Z"
    },
    "id": "FZ1UDRNpPQvq",
    "outputId": "0bc187df-34c1-48e3-a23b-b66db6f11450",
    "papermill": {
     "duration": 0.072455,
     "end_time": "2023-11-08T08:34:42.304060",
     "exception": false,
     "start_time": "2023-11-08T08:34:42.231605",
     "status": "completed"
    },
    "tags": []
   },
   "outputs": [
    {
     "name": "stdout",
     "output_type": "stream",
     "text": [
      "Best trial: 12\n",
      "Best accuracy: 0.7431773165408467\n",
      "Best hyperparameters: {'n_estimators': 62, 'criterion': 'squared_error', 'max_depth': 42, 'min_samples_split': 13, 'min_samples_leaf': 11}\n"
     ]
    }
   ],
   "source": [
    "print(\"Best trial:\", study.best_trial.number)\n",
    "print(\"Best accuracy:\", study.best_trial.value)\n",
    "print(\"Best hyperparameters:\", study.best_params)\n"
   ]
  },
  {
   "cell_type": "code",
   "execution_count": 77,
   "id": "77849ef0",
   "metadata": {
    "execution": {
     "iopub.execute_input": "2023-11-08T08:34:42.427133Z",
     "iopub.status.busy": "2023-11-08T08:34:42.426694Z",
     "iopub.status.idle": "2023-11-08T08:34:43.601999Z",
     "shell.execute_reply": "2023-11-08T08:34:43.600863Z"
    },
    "id": "S1c6eW4-PQyL",
    "papermill": {
     "duration": 1.23975,
     "end_time": "2023-11-08T08:34:43.604375",
     "exception": false,
     "start_time": "2023-11-08T08:34:42.364625",
     "status": "completed"
    },
    "tags": []
   },
   "outputs": [
    {
     "data": {
      "text/html": [
       "<style>#sk-container-id-1 {color: black;background-color: white;}#sk-container-id-1 pre{padding: 0;}#sk-container-id-1 div.sk-toggleable {background-color: white;}#sk-container-id-1 label.sk-toggleable__label {cursor: pointer;display: block;width: 100%;margin-bottom: 0;padding: 0.3em;box-sizing: border-box;text-align: center;}#sk-container-id-1 label.sk-toggleable__label-arrow:before {content: \"▸\";float: left;margin-right: 0.25em;color: #696969;}#sk-container-id-1 label.sk-toggleable__label-arrow:hover:before {color: black;}#sk-container-id-1 div.sk-estimator:hover label.sk-toggleable__label-arrow:before {color: black;}#sk-container-id-1 div.sk-toggleable__content {max-height: 0;max-width: 0;overflow: hidden;text-align: left;background-color: #f0f8ff;}#sk-container-id-1 div.sk-toggleable__content pre {margin: 0.2em;color: black;border-radius: 0.25em;background-color: #f0f8ff;}#sk-container-id-1 input.sk-toggleable__control:checked~div.sk-toggleable__content {max-height: 200px;max-width: 100%;overflow: auto;}#sk-container-id-1 input.sk-toggleable__control:checked~label.sk-toggleable__label-arrow:before {content: \"▾\";}#sk-container-id-1 div.sk-estimator input.sk-toggleable__control:checked~label.sk-toggleable__label {background-color: #d4ebff;}#sk-container-id-1 div.sk-label input.sk-toggleable__control:checked~label.sk-toggleable__label {background-color: #d4ebff;}#sk-container-id-1 input.sk-hidden--visually {border: 0;clip: rect(1px 1px 1px 1px);clip: rect(1px, 1px, 1px, 1px);height: 1px;margin: -1px;overflow: hidden;padding: 0;position: absolute;width: 1px;}#sk-container-id-1 div.sk-estimator {font-family: monospace;background-color: #f0f8ff;border: 1px dotted black;border-radius: 0.25em;box-sizing: border-box;margin-bottom: 0.5em;}#sk-container-id-1 div.sk-estimator:hover {background-color: #d4ebff;}#sk-container-id-1 div.sk-parallel-item::after {content: \"\";width: 100%;border-bottom: 1px solid gray;flex-grow: 1;}#sk-container-id-1 div.sk-label:hover label.sk-toggleable__label {background-color: #d4ebff;}#sk-container-id-1 div.sk-serial::before {content: \"\";position: absolute;border-left: 1px solid gray;box-sizing: border-box;top: 0;bottom: 0;left: 50%;z-index: 0;}#sk-container-id-1 div.sk-serial {display: flex;flex-direction: column;align-items: center;background-color: white;padding-right: 0.2em;padding-left: 0.2em;position: relative;}#sk-container-id-1 div.sk-item {position: relative;z-index: 1;}#sk-container-id-1 div.sk-parallel {display: flex;align-items: stretch;justify-content: center;background-color: white;position: relative;}#sk-container-id-1 div.sk-item::before, #sk-container-id-1 div.sk-parallel-item::before {content: \"\";position: absolute;border-left: 1px solid gray;box-sizing: border-box;top: 0;bottom: 0;left: 50%;z-index: -1;}#sk-container-id-1 div.sk-parallel-item {display: flex;flex-direction: column;z-index: 1;position: relative;background-color: white;}#sk-container-id-1 div.sk-parallel-item:first-child::after {align-self: flex-end;width: 50%;}#sk-container-id-1 div.sk-parallel-item:last-child::after {align-self: flex-start;width: 50%;}#sk-container-id-1 div.sk-parallel-item:only-child::after {width: 0;}#sk-container-id-1 div.sk-dashed-wrapped {border: 1px dashed gray;margin: 0 0.4em 0.5em 0.4em;box-sizing: border-box;padding-bottom: 0.4em;background-color: white;}#sk-container-id-1 div.sk-label label {font-family: monospace;font-weight: bold;display: inline-block;line-height: 1.2em;}#sk-container-id-1 div.sk-label-container {text-align: center;}#sk-container-id-1 div.sk-container {/* jupyter's `normalize.less` sets `[hidden] { display: none; }` but bootstrap.min.css set `[hidden] { display: none !important; }` so we also need the `!important` here to be able to override the default hidden behavior on the sphinx rendered scikit-learn.org. See: https://github.com/scikit-learn/scikit-learn/issues/21755 */display: inline-block !important;position: relative;}#sk-container-id-1 div.sk-text-repr-fallback {display: none;}</style><div id=\"sk-container-id-1\" class=\"sk-top-container\"><div class=\"sk-text-repr-fallback\"><pre>RandomForestRegressor(max_depth=95, min_samples_leaf=8, min_samples_split=10,\n",
       "                      n_estimators=107, random_state=33443)</pre><b>In a Jupyter environment, please rerun this cell to show the HTML representation or trust the notebook. <br />On GitHub, the HTML representation is unable to render, please try loading this page with nbviewer.org.</b></div><div class=\"sk-container\" hidden><div class=\"sk-item\"><div class=\"sk-estimator sk-toggleable\"><input class=\"sk-toggleable__control sk-hidden--visually\" id=\"sk-estimator-id-1\" type=\"checkbox\" checked><label for=\"sk-estimator-id-1\" class=\"sk-toggleable__label sk-toggleable__label-arrow\">RandomForestRegressor</label><div class=\"sk-toggleable__content\"><pre>RandomForestRegressor(max_depth=95, min_samples_leaf=8, min_samples_split=10,\n",
       "                      n_estimators=107, random_state=33443)</pre></div></div></div></div></div>"
      ],
      "text/plain": [
       "RandomForestRegressor(max_depth=95, min_samples_leaf=8, min_samples_split=10,\n",
       "                      n_estimators=107, random_state=33443)"
      ]
     },
     "execution_count": 77,
     "metadata": {},
     "output_type": "execute_result"
    }
   ],
   "source": [
    "params = {'n_estimators': 107, 'criterion': 'squared_error', 'max_depth': 95, 'min_samples_split': 10, 'min_samples_leaf': 8}\n",
    "rf = RandomForestRegressor(random_state=STATE, **params)\n",
    "\n",
    "drop_col = ['id', 'y', 'Input', 'word_count_std', 'score']\n",
    "\n",
    "x_train = x_train_new_join_target.drop(drop_col, axis=1)\n",
    "y_train = x_train_new_join_target['score']\n",
    "\n",
    "rf.fit(x_train, y_train)\n"
   ]
  },
  {
   "cell_type": "code",
   "execution_count": null,
   "id": "4d7cfa07",
   "metadata": {
    "id": "fzV52JI-PQ1S",
    "papermill": {
     "duration": 0.061225,
     "end_time": "2023-11-08T08:34:43.726314",
     "exception": false,
     "start_time": "2023-11-08T08:34:43.665089",
     "status": "completed"
    },
    "tags": []
   },
   "outputs": [],
   "source": []
  },
  {
   "cell_type": "markdown",
   "id": "114cc6bb",
   "metadata": {
    "id": "mwB9TKPsAoED",
    "papermill": {
     "duration": 0.060366,
     "end_time": "2023-11-08T08:34:43.847853",
     "exception": false,
     "start_time": "2023-11-08T08:34:43.787487",
     "status": "completed"
    },
    "tags": []
   },
   "source": [
    "### LinearRegression"
   ]
  },
  {
   "cell_type": "code",
   "execution_count": 78,
   "id": "578bc0f9",
   "metadata": {
    "execution": {
     "iopub.execute_input": "2023-11-08T08:34:43.972316Z",
     "iopub.status.busy": "2023-11-08T08:34:43.971608Z",
     "iopub.status.idle": "2023-11-08T08:34:43.975871Z",
     "shell.execute_reply": "2023-11-08T08:34:43.975073Z"
    },
    "id": "nKHqHrtZvdm2",
    "papermill": {
     "duration": 0.069506,
     "end_time": "2023-11-08T08:34:43.978081",
     "exception": false,
     "start_time": "2023-11-08T08:34:43.908575",
     "status": "completed"
    },
    "tags": []
   },
   "outputs": [],
   "source": [
    "lr = LinearRegression()"
   ]
  },
  {
   "cell_type": "code",
   "execution_count": 79,
   "id": "b38c25f5",
   "metadata": {
    "execution": {
     "iopub.execute_input": "2023-11-08T08:34:44.101425Z",
     "iopub.status.busy": "2023-11-08T08:34:44.100718Z",
     "iopub.status.idle": "2023-11-08T08:34:44.142389Z",
     "shell.execute_reply": "2023-11-08T08:34:44.141003Z"
    },
    "id": "Ywxg69SCApfp",
    "papermill": {
     "duration": 0.106161,
     "end_time": "2023-11-08T08:34:44.145062",
     "exception": false,
     "start_time": "2023-11-08T08:34:44.038901",
     "status": "completed"
    },
    "tags": []
   },
   "outputs": [],
   "source": [
    "drop_col = ['id', 'y', 'Input', 'word_count_std', 'score']\n",
    "\n",
    "x_train = x_train_new_join_target.drop(drop_col, axis=1)\n",
    "y_train = x_train_new_join_target['score']\n",
    "\n",
    "x_valid = x_valid_new_join_target.drop(drop_col, axis=1)\n",
    "y_valid = x_valid_new_join_target['score']\n"
   ]
  },
  {
   "cell_type": "code",
   "execution_count": 80,
   "id": "d2f4a22b",
   "metadata": {
    "execution": {
     "iopub.execute_input": "2023-11-08T08:34:44.270338Z",
     "iopub.status.busy": "2023-11-08T08:34:44.269252Z",
     "iopub.status.idle": "2023-11-08T08:34:44.307121Z",
     "shell.execute_reply": "2023-11-08T08:34:44.305629Z"
    },
    "id": "wIbiLyZgApim",
    "outputId": "82603c7b-9f15-4311-8a3e-c01d957eebe8",
    "papermill": {
     "duration": 0.103488,
     "end_time": "2023-11-08T08:34:44.309594",
     "exception": false,
     "start_time": "2023-11-08T08:34:44.206106",
     "status": "completed"
    },
    "tags": []
   },
   "outputs": [
    {
     "data": {
      "text/html": [
       "<style>#sk-container-id-2 {color: black;background-color: white;}#sk-container-id-2 pre{padding: 0;}#sk-container-id-2 div.sk-toggleable {background-color: white;}#sk-container-id-2 label.sk-toggleable__label {cursor: pointer;display: block;width: 100%;margin-bottom: 0;padding: 0.3em;box-sizing: border-box;text-align: center;}#sk-container-id-2 label.sk-toggleable__label-arrow:before {content: \"▸\";float: left;margin-right: 0.25em;color: #696969;}#sk-container-id-2 label.sk-toggleable__label-arrow:hover:before {color: black;}#sk-container-id-2 div.sk-estimator:hover label.sk-toggleable__label-arrow:before {color: black;}#sk-container-id-2 div.sk-toggleable__content {max-height: 0;max-width: 0;overflow: hidden;text-align: left;background-color: #f0f8ff;}#sk-container-id-2 div.sk-toggleable__content pre {margin: 0.2em;color: black;border-radius: 0.25em;background-color: #f0f8ff;}#sk-container-id-2 input.sk-toggleable__control:checked~div.sk-toggleable__content {max-height: 200px;max-width: 100%;overflow: auto;}#sk-container-id-2 input.sk-toggleable__control:checked~label.sk-toggleable__label-arrow:before {content: \"▾\";}#sk-container-id-2 div.sk-estimator input.sk-toggleable__control:checked~label.sk-toggleable__label {background-color: #d4ebff;}#sk-container-id-2 div.sk-label input.sk-toggleable__control:checked~label.sk-toggleable__label {background-color: #d4ebff;}#sk-container-id-2 input.sk-hidden--visually {border: 0;clip: rect(1px 1px 1px 1px);clip: rect(1px, 1px, 1px, 1px);height: 1px;margin: -1px;overflow: hidden;padding: 0;position: absolute;width: 1px;}#sk-container-id-2 div.sk-estimator {font-family: monospace;background-color: #f0f8ff;border: 1px dotted black;border-radius: 0.25em;box-sizing: border-box;margin-bottom: 0.5em;}#sk-container-id-2 div.sk-estimator:hover {background-color: #d4ebff;}#sk-container-id-2 div.sk-parallel-item::after {content: \"\";width: 100%;border-bottom: 1px solid gray;flex-grow: 1;}#sk-container-id-2 div.sk-label:hover label.sk-toggleable__label {background-color: #d4ebff;}#sk-container-id-2 div.sk-serial::before {content: \"\";position: absolute;border-left: 1px solid gray;box-sizing: border-box;top: 0;bottom: 0;left: 50%;z-index: 0;}#sk-container-id-2 div.sk-serial {display: flex;flex-direction: column;align-items: center;background-color: white;padding-right: 0.2em;padding-left: 0.2em;position: relative;}#sk-container-id-2 div.sk-item {position: relative;z-index: 1;}#sk-container-id-2 div.sk-parallel {display: flex;align-items: stretch;justify-content: center;background-color: white;position: relative;}#sk-container-id-2 div.sk-item::before, #sk-container-id-2 div.sk-parallel-item::before {content: \"\";position: absolute;border-left: 1px solid gray;box-sizing: border-box;top: 0;bottom: 0;left: 50%;z-index: -1;}#sk-container-id-2 div.sk-parallel-item {display: flex;flex-direction: column;z-index: 1;position: relative;background-color: white;}#sk-container-id-2 div.sk-parallel-item:first-child::after {align-self: flex-end;width: 50%;}#sk-container-id-2 div.sk-parallel-item:last-child::after {align-self: flex-start;width: 50%;}#sk-container-id-2 div.sk-parallel-item:only-child::after {width: 0;}#sk-container-id-2 div.sk-dashed-wrapped {border: 1px dashed gray;margin: 0 0.4em 0.5em 0.4em;box-sizing: border-box;padding-bottom: 0.4em;background-color: white;}#sk-container-id-2 div.sk-label label {font-family: monospace;font-weight: bold;display: inline-block;line-height: 1.2em;}#sk-container-id-2 div.sk-label-container {text-align: center;}#sk-container-id-2 div.sk-container {/* jupyter's `normalize.less` sets `[hidden] { display: none; }` but bootstrap.min.css set `[hidden] { display: none !important; }` so we also need the `!important` here to be able to override the default hidden behavior on the sphinx rendered scikit-learn.org. See: https://github.com/scikit-learn/scikit-learn/issues/21755 */display: inline-block !important;position: relative;}#sk-container-id-2 div.sk-text-repr-fallback {display: none;}</style><div id=\"sk-container-id-2\" class=\"sk-top-container\"><div class=\"sk-text-repr-fallback\"><pre>LinearRegression()</pre><b>In a Jupyter environment, please rerun this cell to show the HTML representation or trust the notebook. <br />On GitHub, the HTML representation is unable to render, please try loading this page with nbviewer.org.</b></div><div class=\"sk-container\" hidden><div class=\"sk-item\"><div class=\"sk-estimator sk-toggleable\"><input class=\"sk-toggleable__control sk-hidden--visually\" id=\"sk-estimator-id-2\" type=\"checkbox\" checked><label for=\"sk-estimator-id-2\" class=\"sk-toggleable__label sk-toggleable__label-arrow\">LinearRegression</label><div class=\"sk-toggleable__content\"><pre>LinearRegression()</pre></div></div></div></div></div>"
      ],
      "text/plain": [
       "LinearRegression()"
      ]
     },
     "execution_count": 80,
     "metadata": {},
     "output_type": "execute_result"
    }
   ],
   "source": [
    "lr.fit(x_train, y_train)"
   ]
  },
  {
   "cell_type": "code",
   "execution_count": 81,
   "id": "80f69181",
   "metadata": {
    "execution": {
     "iopub.execute_input": "2023-11-08T08:34:44.489072Z",
     "iopub.status.busy": "2023-11-08T08:34:44.488609Z",
     "iopub.status.idle": "2023-11-08T08:34:44.495355Z",
     "shell.execute_reply": "2023-11-08T08:34:44.494493Z"
    },
    "id": "ZLS2FnOSA0Uu",
    "papermill": {
     "duration": 0.071004,
     "end_time": "2023-11-08T08:34:44.497462",
     "exception": false,
     "start_time": "2023-11-08T08:34:44.426458",
     "status": "completed"
    },
    "tags": []
   },
   "outputs": [],
   "source": [
    "lr_pred = lr.predict(x_valid)"
   ]
  },
  {
   "cell_type": "code",
   "execution_count": 82,
   "id": "fa6e6198",
   "metadata": {
    "execution": {
     "iopub.execute_input": "2023-11-08T08:34:44.622415Z",
     "iopub.status.busy": "2023-11-08T08:34:44.621685Z",
     "iopub.status.idle": "2023-11-08T08:34:44.629292Z",
     "shell.execute_reply": "2023-11-08T08:34:44.628278Z"
    },
    "id": "I7_XojU3A0Xn",
    "outputId": "26918853-c7c1-414f-c55b-3b7a271ea554",
    "papermill": {
     "duration": 0.07337,
     "end_time": "2023-11-08T08:34:44.631604",
     "exception": false,
     "start_time": "2023-11-08T08:34:44.558234",
     "status": "completed"
    },
    "tags": []
   },
   "outputs": [
    {
     "data": {
      "text/plain": [
       "0.8193902635743264"
      ]
     },
     "execution_count": 82,
     "metadata": {},
     "output_type": "execute_result"
    }
   ],
   "source": [
    "mean_squared_error(y_valid, np.round(lr_pred, 2), squared=False)"
   ]
  },
  {
   "cell_type": "code",
   "execution_count": 83,
   "id": "6db19747",
   "metadata": {
    "execution": {
     "iopub.execute_input": "2023-11-08T08:34:44.755743Z",
     "iopub.status.busy": "2023-11-08T08:34:44.755030Z",
     "iopub.status.idle": "2023-11-08T08:34:44.767849Z",
     "shell.execute_reply": "2023-11-08T08:34:44.767038Z"
    },
    "id": "7xakmaPEA0an",
    "outputId": "83731ccf-e8fc-4e35-ae46-751f194c2011",
    "papermill": {
     "duration": 0.077638,
     "end_time": "2023-11-08T08:34:44.769865",
     "exception": false,
     "start_time": "2023-11-08T08:34:44.692227",
     "status": "completed"
    },
    "tags": []
   },
   "outputs": [
    {
     "data": {
      "text/plain": [
       "array([3.63711161, 3.80137541, 5.34891504, 3.15519952, 4.03308608,\n",
       "       3.95417475, 2.77325277, 3.62307726, 3.35389197, 3.56829193,\n",
       "       4.15084113, 5.47069863, 3.94247474, 4.42320837, 2.84652236,\n",
       "       4.53302677, 2.83982317, 3.80610113, 4.00776672, 3.2389075 ,\n",
       "       4.04636962, 2.79739901, 3.52869882, 3.3764181 , 3.03739791,\n",
       "       4.02657528, 2.95696151, 3.68694484, 3.85696426, 3.48342311,\n",
       "       3.64748485, 4.3079778 , 3.06111311, 4.11443816, 4.42826236,\n",
       "       3.55245753, 4.03521818, 3.38569516, 3.79588644, 4.74847294,\n",
       "       3.58443577, 4.77296507, 3.43142852, 3.24154816, 4.24708145,\n",
       "       3.28271053, 2.98196676, 3.15260576, 3.54705579, 3.71533108,\n",
       "       4.30733736, 3.94886486, 4.06611771, 2.9502124 , 5.42895447,\n",
       "       3.19392752, 4.04174597, 3.17260829, 3.1964358 , 3.21630845,\n",
       "       4.35625632, 4.0001854 , 3.60812252, 3.31282603, 5.45272606,\n",
       "       3.77944535, 3.81888454, 4.59233238, 4.31638291, 4.44119665,\n",
       "       3.26070539, 3.45522942, 0.57740945, 3.63709333, 3.50636312,\n",
       "       4.02253165, 3.92658458, 2.78290785, 3.98764216, 3.50285987,\n",
       "       4.06245168, 3.28696649, 3.99658571, 3.18008056, 3.93565432,\n",
       "       3.3029746 , 3.44308894, 4.21148419, 3.50792823, 3.27464169,\n",
       "       3.63020623, 4.01137449, 3.24848506, 3.03738452, 3.5165755 ,\n",
       "       3.46690144, 3.99132861, 3.85665005, 3.89147709, 2.79181608,\n",
       "       2.7808399 , 3.13144618, 3.62722649, 2.77381817, 4.03769749,\n",
       "       3.20502738, 3.28383705, 3.38427511, 4.08563114, 3.15077717,\n",
       "       3.32452728, 4.13196923, 3.65257489, 3.40233501, 4.16063309,\n",
       "       3.90827479, 3.49845611, 5.26944223, 3.85749197, 3.47934946,\n",
       "       2.81619809, 2.76825675, 4.62302049, 4.11493127, 5.05761053,\n",
       "       3.71774103, 3.79198405, 2.94089436, 3.28375595, 3.4289122 ,\n",
       "       3.81491857, 4.29928075, 3.92710335, 2.90815317, 4.70441345,\n",
       "       3.34401624, 3.68136768, 3.17393233, 3.26165756, 4.05307053,\n",
       "       4.3134803 , 3.00346103, 2.98930245, 3.21155288, 3.42747008,\n",
       "       3.83030978, 3.77579024, 2.81514561, 2.79233288, 4.48444889,\n",
       "       3.67105105, 2.84841055, 5.03801703, 4.54990094, 3.39580639,\n",
       "       3.79025541, 4.369107  , 3.53876223, 3.41157904, 4.31760545,\n",
       "       3.39682728, 3.5502669 , 3.52768565, 3.63495278, 4.15455001,\n",
       "       3.3866316 , 3.02619377, 3.4704713 , 3.54211342, 4.1977731 ,\n",
       "       6.12029926, 3.41666559, 3.97491489, 4.04969386, 3.00990137,\n",
       "       3.31871606, 3.99889239, 3.96882706, 2.96608312, 2.99849378,\n",
       "       3.40761597, 3.66151645, 3.21506308, 4.09535908, 4.70232312,\n",
       "       2.97740137, 4.61220437, 3.99043332, 3.41217068, 4.38305934,\n",
       "       3.51076888, 3.45380431, 3.95637434, 3.20991274, 3.38296925,\n",
       "       3.55243244, 3.12994783, 3.56634789, 3.42537647, 4.07903843,\n",
       "       5.03969755, 3.61260962, 3.4303896 , 3.99257382, 3.85929389,\n",
       "       2.40705485, 4.35558864, 3.5755318 , 3.38270638, 3.55536186,\n",
       "       3.87603686, 3.60437339, 3.13910792, 3.56534857, 3.46371807,\n",
       "       3.25845624, 3.82802304, 3.36327413, 4.25252063, 2.78399531,\n",
       "       3.68349356, 5.50273698, 3.60927621, 3.86422696, 3.58408639,\n",
       "       4.20695829, 3.48713332, 2.9798416 , 4.10384591, 4.36948059,\n",
       "       3.90760517, 3.40526096, 2.6052532 , 5.23292297, 4.09297425,\n",
       "       3.8057035 , 3.25036349, 4.89109702, 4.31343748, 3.03711213,\n",
       "       4.02943082, 4.14906154, 3.65630362, 2.74346483, 4.04811351,\n",
       "       4.52372005, 3.20458093, 3.6989892 , 4.17661941, 3.70774847,\n",
       "       3.87377677, 4.50625738, 3.406816  , 3.51468692, 3.92425875,\n",
       "       3.48270242, 2.95244239, 3.41784971, 4.72960293, 3.38805969,\n",
       "       4.00092071, 3.01457889, 3.40491157, 3.47013924, 3.01158057,\n",
       "       5.9253937 , 4.15408607, 4.1342451 , 3.02753703, 3.91890688,\n",
       "       3.90562653, 3.49965083, 3.93454149, 2.99088278, 4.03442706,\n",
       "       3.79776038, 3.82756238, 4.31769747, 3.36801153, 3.78380576,\n",
       "       3.30240397, 3.66196962, 3.23098411, 4.03013833, 3.5950959 ,\n",
       "       4.58492588, 4.24895264, 5.11563899, 3.3569153 , 3.55462768,\n",
       "       3.49246372, 4.2008408 , 3.56561129, 3.92514515, 3.08804932,\n",
       "       2.84037139, 3.97791485, 2.96249549, 3.62262346, 3.94503925,\n",
       "       3.90339094, 4.6887722 , 4.27146271, 2.95057092, 2.80316173,\n",
       "       2.69689708, 3.47542527, 2.83437718, 3.87667807, 3.33669925,\n",
       "       3.61072539, 3.10453595, 2.92730784, 3.15830976, 3.68386092,\n",
       "       4.04536668, 3.44289077, 3.78728273, 3.62123443, 3.33941578,\n",
       "       3.94886833, 4.38290713, 3.20991998, 3.3311238 , 5.20045285,\n",
       "       3.48478761, 3.6837181 , 3.86842954, 3.71726489, 2.93114339,\n",
       "       4.72133881, 4.55222594, 3.71980661, 5.04429525, 3.58805067,\n",
       "       3.10368068, 4.98283781, 5.21454006, 4.65227304, 2.80909563,\n",
       "       3.89449275, 4.86432168, 3.49900146, 3.8454651 , 3.00166452,\n",
       "       3.47549314, 3.23046862, 3.56051667, 4.98413828, 4.8893934 ,\n",
       "       4.86959459, 3.21918427, 3.40300979, 3.21304493, 3.49239373,\n",
       "       3.07604692, 3.17999692, 4.21023685, 3.840912  , 3.65166278,\n",
       "       3.29851851, 3.2234842 , 3.24040186, 2.95153641, 3.19902961,\n",
       "       4.19426927, 3.09004694, 4.10977665, 3.30290679, 3.07394672,\n",
       "       3.50795795, 3.81797895, 2.86292227, 3.90583636, 4.46485359,\n",
       "       3.44859839, 3.56564201, 4.00422673, 5.20831748, 3.08399999,\n",
       "       3.93953487, 3.28013893, 3.42094237, 3.4322238 , 4.14432097,\n",
       "       3.24724483, 3.27744911, 3.27827816, 4.16974267, 2.93347854,\n",
       "       3.93064229, 3.32844318, 5.39478885, 3.44877529, 3.19808564,\n",
       "       3.48750846, 3.49320961, 2.60128033, 3.14933431, 4.84200892,\n",
       "       2.94643584, 3.53523805, 3.0848591 , 2.89531434, 3.69401142,\n",
       "       3.21290667, 3.19558988, 5.22561864, 3.08158886, 3.79819851,\n",
       "       4.41109397, 5.01613769, 3.2787869 , 4.14899673, 4.54590844,\n",
       "       3.23840949, 3.92180032, 4.48501416, 3.12268538, 3.9115291 ,\n",
       "       3.60586949, 5.18325395, 3.49825461, 3.41927185, 5.10819016,\n",
       "       2.7964714 , 4.29748866, 3.59781749, 4.55640686, 3.20359947,\n",
       "       3.92267401, 3.12711757, 2.95178812, 4.00975548, 3.30598097,\n",
       "       3.16171754, 3.63649029, 3.21935825, 3.51662459, 4.60176843,\n",
       "       3.93012926, 5.58665182, 3.21529042, 3.06906617, 3.59301285,\n",
       "       5.59300312, 3.43108998, 3.83551538, 3.57469406, 3.31624606,\n",
       "       4.16960007, 3.35329067, 5.06548701, 4.50607399, 3.92139097,\n",
       "       3.58864803, 3.96583158, 4.30749254, 4.67211915, 4.25302307,\n",
       "       3.64689125, 3.61978996, 3.16335994, 4.86225934, 3.52517727,\n",
       "       3.58965133, 3.17234381, 3.11220679, 3.36853418, 3.51217688,\n",
       "       2.98390462, 3.42982928, 3.28114901, 3.04222972, 3.78348779,\n",
       "       3.90694671, 3.02513221, 4.6210461 , 2.8197388 , 3.48415783,\n",
       "       5.57291559, 4.0814818 , 3.48290611, 4.69374882, 2.9133055 ,\n",
       "       3.61430414, 3.74583122, 4.03120982, 3.08142869, 3.44161656,\n",
       "       3.70522061, 3.49163405, 3.35309122, 4.3056837 , 3.02992718])"
      ]
     },
     "execution_count": 83,
     "metadata": {},
     "output_type": "execute_result"
    }
   ],
   "source": [
    "lr_pred"
   ]
  },
  {
   "cell_type": "code",
   "execution_count": 84,
   "id": "68c0142f",
   "metadata": {
    "execution": {
     "iopub.execute_input": "2023-11-08T08:34:44.896597Z",
     "iopub.status.busy": "2023-11-08T08:34:44.895858Z",
     "iopub.status.idle": "2023-11-08T08:34:44.906759Z",
     "shell.execute_reply": "2023-11-08T08:34:44.905998Z"
    },
    "id": "2twIDsGpE8-r",
    "outputId": "2fe170b3-f619-4bc4-f4f7-2c6448eb2d7e",
    "papermill": {
     "duration": 0.077092,
     "end_time": "2023-11-08T08:34:44.908854",
     "exception": false,
     "start_time": "2023-11-08T08:34:44.831762",
     "status": "completed"
    },
    "tags": []
   },
   "outputs": [
    {
     "data": {
      "text/plain": [
       "array([3.6, 3.8, 5.3, 3.2, 4. , 4. , 2.8, 3.6, 3.4, 3.6, 4.2, 5.5, 3.9,\n",
       "       4.4, 2.8, 4.5, 2.8, 3.8, 4. , 3.2, 4. , 2.8, 3.5, 3.4, 3. , 4. ,\n",
       "       3. , 3.7, 3.9, 3.5, 3.6, 4.3, 3.1, 4.1, 4.4, 3.6, 4. , 3.4, 3.8,\n",
       "       4.7, 3.6, 4.8, 3.4, 3.2, 4.2, 3.3, 3. , 3.2, 3.5, 3.7, 4.3, 3.9,\n",
       "       4.1, 3. , 5.4, 3.2, 4. , 3.2, 3.2, 3.2, 4.4, 4. , 3.6, 3.3, 5.5,\n",
       "       3.8, 3.8, 4.6, 4.3, 4.4, 3.3, 3.5, 0.6, 3.6, 3.5, 4. , 3.9, 2.8,\n",
       "       4. , 3.5, 4.1, 3.3, 4. , 3.2, 3.9, 3.3, 3.4, 4.2, 3.5, 3.3, 3.6,\n",
       "       4. , 3.2, 3. , 3.5, 3.5, 4. , 3.9, 3.9, 2.8, 2.8, 3.1, 3.6, 2.8,\n",
       "       4. , 3.2, 3.3, 3.4, 4.1, 3.2, 3.3, 4.1, 3.7, 3.4, 4.2, 3.9, 3.5,\n",
       "       5.3, 3.9, 3.5, 2.8, 2.8, 4.6, 4.1, 5.1, 3.7, 3.8, 2.9, 3.3, 3.4,\n",
       "       3.8, 4.3, 3.9, 2.9, 4.7, 3.3, 3.7, 3.2, 3.3, 4.1, 4.3, 3. , 3. ,\n",
       "       3.2, 3.4, 3.8, 3.8, 2.8, 2.8, 4.5, 3.7, 2.8, 5. , 4.5, 3.4, 3.8,\n",
       "       4.4, 3.5, 3.4, 4.3, 3.4, 3.6, 3.5, 3.6, 4.2, 3.4, 3. , 3.5, 3.5,\n",
       "       4.2, 6.1, 3.4, 4. , 4. , 3. , 3.3, 4. , 4. , 3. , 3. , 3.4, 3.7,\n",
       "       3.2, 4.1, 4.7, 3. , 4.6, 4. , 3.4, 4.4, 3.5, 3.5, 4. , 3.2, 3.4,\n",
       "       3.6, 3.1, 3.6, 3.4, 4.1, 5. , 3.6, 3.4, 4. , 3.9, 2.4, 4.4, 3.6,\n",
       "       3.4, 3.6, 3.9, 3.6, 3.1, 3.6, 3.5, 3.3, 3.8, 3.4, 4.3, 2.8, 3.7,\n",
       "       5.5, 3.6, 3.9, 3.6, 4.2, 3.5, 3. , 4.1, 4.4, 3.9, 3.4, 2.6, 5.2,\n",
       "       4.1, 3.8, 3.3, 4.9, 4.3, 3. , 4. , 4.1, 3.7, 2.7, 4. , 4.5, 3.2,\n",
       "       3.7, 4.2, 3.7, 3.9, 4.5, 3.4, 3.5, 3.9, 3.5, 3. , 3.4, 4.7, 3.4,\n",
       "       4. , 3. , 3.4, 3.5, 3. , 5.9, 4.2, 4.1, 3. , 3.9, 3.9, 3.5, 3.9,\n",
       "       3. , 4. , 3.8, 3.8, 4.3, 3.4, 3.8, 3.3, 3.7, 3.2, 4. , 3.6, 4.6,\n",
       "       4.2, 5.1, 3.4, 3.6, 3.5, 4.2, 3.6, 3.9, 3.1, 2.8, 4. , 3. , 3.6,\n",
       "       3.9, 3.9, 4.7, 4.3, 3. , 2.8, 2.7, 3.5, 2.8, 3.9, 3.3, 3.6, 3.1,\n",
       "       2.9, 3.2, 3.7, 4. , 3.4, 3.8, 3.6, 3.3, 3.9, 4.4, 3.2, 3.3, 5.2,\n",
       "       3.5, 3.7, 3.9, 3.7, 2.9, 4.7, 4.6, 3.7, 5. , 3.6, 3.1, 5. , 5.2,\n",
       "       4.7, 2.8, 3.9, 4.9, 3.5, 3.8, 3. , 3.5, 3.2, 3.6, 5. , 4.9, 4.9,\n",
       "       3.2, 3.4, 3.2, 3.5, 3.1, 3.2, 4.2, 3.8, 3.7, 3.3, 3.2, 3.2, 3. ,\n",
       "       3.2, 4.2, 3.1, 4.1, 3.3, 3.1, 3.5, 3.8, 2.9, 3.9, 4.5, 3.4, 3.6,\n",
       "       4. , 5.2, 3.1, 3.9, 3.3, 3.4, 3.4, 4.1, 3.2, 3.3, 3.3, 4.2, 2.9,\n",
       "       3.9, 3.3, 5.4, 3.4, 3.2, 3.5, 3.5, 2.6, 3.1, 4.8, 2.9, 3.5, 3.1,\n",
       "       2.9, 3.7, 3.2, 3.2, 5.2, 3.1, 3.8, 4.4, 5. , 3.3, 4.1, 4.5, 3.2,\n",
       "       3.9, 4.5, 3.1, 3.9, 3.6, 5.2, 3.5, 3.4, 5.1, 2.8, 4.3, 3.6, 4.6,\n",
       "       3.2, 3.9, 3.1, 3. , 4. , 3.3, 3.2, 3.6, 3.2, 3.5, 4.6, 3.9, 5.6,\n",
       "       3.2, 3.1, 3.6, 5.6, 3.4, 3.8, 3.6, 3.3, 4.2, 3.4, 5.1, 4.5, 3.9,\n",
       "       3.6, 4. , 4.3, 4.7, 4.3, 3.6, 3.6, 3.2, 4.9, 3.5, 3.6, 3.2, 3.1,\n",
       "       3.4, 3.5, 3. , 3.4, 3.3, 3. , 3.8, 3.9, 3. , 4.6, 2.8, 3.5, 5.6,\n",
       "       4.1, 3.5, 4.7, 2.9, 3.6, 3.7, 4. , 3.1, 3.4, 3.7, 3.5, 3.4, 4.3,\n",
       "       3. ])"
      ]
     },
     "execution_count": 84,
     "metadata": {},
     "output_type": "execute_result"
    }
   ],
   "source": [
    "np.round(lr_pred, 1)"
   ]
  },
  {
   "cell_type": "code",
   "execution_count": 85,
   "id": "16be7251",
   "metadata": {
    "execution": {
     "iopub.execute_input": "2023-11-08T08:34:45.035579Z",
     "iopub.status.busy": "2023-11-08T08:34:45.034838Z",
     "iopub.status.idle": "2023-11-08T08:34:45.482608Z",
     "shell.execute_reply": "2023-11-08T08:34:45.481504Z"
    },
    "id": "qOH5OMt_A0dm",
    "outputId": "6446dc0c-5426-4aac-83e2-268de8dab7ea",
    "papermill": {
     "duration": 0.513911,
     "end_time": "2023-11-08T08:34:45.485383",
     "exception": false,
     "start_time": "2023-11-08T08:34:44.971472",
     "status": "completed"
    },
    "tags": []
   },
   "outputs": [
    {
     "data": {
      "image/png": "[encoded data removed]",
      "text/plain": [
       "<Figure size 1000x1000 with 1 Axes>"
      ]
     },
     "metadata": {},
     "output_type": "display_data"
    }
   ],
   "source": [
    "pd.Series(lr_pred).hist(bins=20);"
   ]
  },
  {
   "cell_type": "code",
   "execution_count": 86,
   "id": "d37e4e81",
   "metadata": {
    "execution": {
     "iopub.execute_input": "2023-11-08T08:34:45.614844Z",
     "iopub.status.busy": "2023-11-08T08:34:45.614450Z",
     "iopub.status.idle": "2023-11-08T08:34:46.062502Z",
     "shell.execute_reply": "2023-11-08T08:34:46.061000Z"
    },
    "id": "CWzJ2h7RES0Z",
    "outputId": "7d6fa83d-f3f6-4464-86a3-649d39460ffd",
    "papermill": {
     "duration": 0.518059,
     "end_time": "2023-11-08T08:34:46.066602",
     "exception": false,
     "start_time": "2023-11-08T08:34:45.548543",
     "status": "completed"
    },
    "tags": []
   },
   "outputs": [
    {
     "data": {
      "image/png": "[encoded data removed]",
      "text/plain": [
       "<Figure size 1000x1000 with 1 Axes>"
      ]
     },
     "metadata": {},
     "output_type": "display_data"
    }
   ],
   "source": [
    "y_valid.hist(bins=20);"
   ]
  },
  {
   "cell_type": "code",
   "execution_count": null,
   "id": "d5143a69",
   "metadata": {
    "id": "EmJQiWsbES-Y",
    "papermill": {
     "duration": 0.062652,
     "end_time": "2023-11-08T08:34:46.199776",
     "exception": false,
     "start_time": "2023-11-08T08:34:46.137124",
     "status": "completed"
    },
    "tags": []
   },
   "outputs": [],
   "source": []
  },
  {
   "cell_type": "markdown",
   "id": "69c7cc4c",
   "metadata": {
    "id": "ltM1sTOcyNzM",
    "papermill": {
     "duration": 0.062121,
     "end_time": "2023-11-08T08:34:46.326899",
     "exception": false,
     "start_time": "2023-11-08T08:34:46.264778",
     "status": "completed"
    },
    "tags": []
   },
   "source": [
    "### CatBoost"
   ]
  },
  {
   "cell_type": "code",
   "execution_count": null,
   "id": "206945d7",
   "metadata": {
    "id": "aZ0RyCUxvdqu",
    "papermill": {
     "duration": 0.062332,
     "end_time": "2023-11-08T08:34:46.580059",
     "exception": false,
     "start_time": "2023-11-08T08:34:46.517727",
     "status": "completed"
    },
    "tags": []
   },
   "outputs": [],
   "source": []
  },
  {
   "cell_type": "markdown",
   "id": "09826db6",
   "metadata": {
    "papermill": {
     "duration": 0.062005,
     "end_time": "2023-11-08T08:34:46.705732",
     "exception": false,
     "start_time": "2023-11-08T08:34:46.643727",
     "status": "completed"
    },
    "tags": []
   },
   "source": [
    "### TEST"
   ]
  },
  {
   "cell_type": "code",
   "execution_count": 87,
   "id": "df078b73",
   "metadata": {
    "execution": {
     "iopub.execute_input": "2023-11-08T08:34:46.832568Z",
     "iopub.status.busy": "2023-11-08T08:34:46.832082Z",
     "iopub.status.idle": "2023-11-08T08:34:46.849080Z",
     "shell.execute_reply": "2023-11-08T08:34:46.847991Z"
    },
    "id": "anlecsAlvdtF",
    "papermill": {
     "duration": 0.083133,
     "end_time": "2023-11-08T08:34:46.851418",
     "exception": false,
     "start_time": "2023-11-08T08:34:46.768285",
     "status": "completed"
    },
    "tags": []
   },
   "outputs": [
    {
     "data": {
      "text/html": [
       "<div>\n",
       "<style scoped>\n",
       "    .dataframe tbody tr th:only-of-type {\n",
       "        vertical-align: middle;\n",
       "    }\n",
       "\n",
       "    .dataframe tbody tr th {\n",
       "        vertical-align: top;\n",
       "    }\n",
       "\n",
       "    .dataframe thead th {\n",
       "        text-align: right;\n",
       "    }\n",
       "</style>\n",
       "<table border=\"1\" class=\"dataframe\">\n",
       "  <thead>\n",
       "    <tr style=\"text-align: right;\">\n",
       "      <th></th>\n",
       "      <th>id</th>\n",
       "      <th>event_id</th>\n",
       "      <th>down_time</th>\n",
       "      <th>up_time</th>\n",
       "      <th>action_time</th>\n",
       "      <th>activity</th>\n",
       "      <th>down_event</th>\n",
       "      <th>up_event</th>\n",
       "      <th>text_change</th>\n",
       "      <th>cursor_position</th>\n",
       "      <th>word_count</th>\n",
       "    </tr>\n",
       "  </thead>\n",
       "  <tbody>\n",
       "    <tr>\n",
       "      <th>0</th>\n",
       "      <td>0000aaaa</td>\n",
       "      <td>1</td>\n",
       "      <td>338433</td>\n",
       "      <td>338518</td>\n",
       "      <td>85</td>\n",
       "      <td>Input</td>\n",
       "      <td>Space</td>\n",
       "      <td>Space</td>\n",
       "      <td></td>\n",
       "      <td>0</td>\n",
       "      <td>0</td>\n",
       "    </tr>\n",
       "    <tr>\n",
       "      <th>1</th>\n",
       "      <td>0000aaaa</td>\n",
       "      <td>2</td>\n",
       "      <td>760073</td>\n",
       "      <td>760160</td>\n",
       "      <td>87</td>\n",
       "      <td>Input</td>\n",
       "      <td>Space</td>\n",
       "      <td>Space</td>\n",
       "      <td></td>\n",
       "      <td>1</td>\n",
       "      <td>0</td>\n",
       "    </tr>\n",
       "    <tr>\n",
       "      <th>2</th>\n",
       "      <td>2222bbbb</td>\n",
       "      <td>1</td>\n",
       "      <td>711956</td>\n",
       "      <td>712023</td>\n",
       "      <td>67</td>\n",
       "      <td>Input</td>\n",
       "      <td>q</td>\n",
       "      <td>q</td>\n",
       "      <td>q</td>\n",
       "      <td>0</td>\n",
       "      <td>1</td>\n",
       "    </tr>\n",
       "    <tr>\n",
       "      <th>3</th>\n",
       "      <td>2222bbbb</td>\n",
       "      <td>2</td>\n",
       "      <td>290502</td>\n",
       "      <td>290548</td>\n",
       "      <td>46</td>\n",
       "      <td>Input</td>\n",
       "      <td>q</td>\n",
       "      <td>q</td>\n",
       "      <td>q</td>\n",
       "      <td>1</td>\n",
       "      <td>1</td>\n",
       "    </tr>\n",
       "    <tr>\n",
       "      <th>4</th>\n",
       "      <td>4444cccc</td>\n",
       "      <td>1</td>\n",
       "      <td>635547</td>\n",
       "      <td>635641</td>\n",
       "      <td>94</td>\n",
       "      <td>Input</td>\n",
       "      <td>Space</td>\n",
       "      <td>Space</td>\n",
       "      <td></td>\n",
       "      <td>0</td>\n",
       "      <td>0</td>\n",
       "    </tr>\n",
       "    <tr>\n",
       "      <th>5</th>\n",
       "      <td>4444cccc</td>\n",
       "      <td>2</td>\n",
       "      <td>184996</td>\n",
       "      <td>185052</td>\n",
       "      <td>56</td>\n",
       "      <td>Input</td>\n",
       "      <td>q</td>\n",
       "      <td>q</td>\n",
       "      <td>q</td>\n",
       "      <td>1</td>\n",
       "      <td>1</td>\n",
       "    </tr>\n",
       "  </tbody>\n",
       "</table>\n",
       "</div>"
      ],
      "text/plain": [
       "         id  event_id  down_time  up_time  action_time activity down_event  \\\n",
       "0  0000aaaa         1     338433   338518           85    Input      Space   \n",
       "1  0000aaaa         2     760073   760160           87    Input      Space   \n",
       "2  2222bbbb         1     711956   712023           67    Input          q   \n",
       "3  2222bbbb         2     290502   290548           46    Input          q   \n",
       "4  4444cccc         1     635547   635641           94    Input      Space   \n",
       "5  4444cccc         2     184996   185052           56    Input          q   \n",
       "\n",
       "  up_event text_change  cursor_position  word_count  \n",
       "0    Space                            0           0  \n",
       "1    Space                            1           0  \n",
       "2        q           q                0           1  \n",
       "3        q           q                1           1  \n",
       "4    Space                            0           0  \n",
       "5        q           q                1           1  "
      ]
     },
     "execution_count": 87,
     "metadata": {},
     "output_type": "execute_result"
    }
   ],
   "source": [
    "test_logs"
   ]
  },
  {
   "cell_type": "code",
   "execution_count": 88,
   "id": "1d3fcd8b",
   "metadata": {
    "execution": {
     "iopub.execute_input": "2023-11-08T08:34:46.978981Z",
     "iopub.status.busy": "2023-11-08T08:34:46.978573Z",
     "iopub.status.idle": "2023-11-08T08:34:47.000162Z",
     "shell.execute_reply": "2023-11-08T08:34:46.999101Z"
    },
    "papermill": {
     "duration": 0.088526,
     "end_time": "2023-11-08T08:34:47.002567",
     "exception": false,
     "start_time": "2023-11-08T08:34:46.914041",
     "status": "completed"
    },
    "tags": []
   },
   "outputs": [
    {
     "data": {
      "text/html": [
       "<div>\n",
       "<style scoped>\n",
       "    .dataframe tbody tr th:only-of-type {\n",
       "        vertical-align: middle;\n",
       "    }\n",
       "\n",
       "    .dataframe tbody tr th {\n",
       "        vertical-align: top;\n",
       "    }\n",
       "\n",
       "    .dataframe thead th {\n",
       "        text-align: right;\n",
       "    }\n",
       "</style>\n",
       "<table border=\"1\" class=\"dataframe\">\n",
       "  <thead>\n",
       "    <tr style=\"text-align: right;\">\n",
       "      <th></th>\n",
       "      <th>action_time_mean</th>\n",
       "      <th>action_time_std</th>\n",
       "      <th>word_count_mean</th>\n",
       "      <th>action_time_log_mean</th>\n",
       "      <th>action_time_log_std</th>\n",
       "      <th>down_time_lag1_mean</th>\n",
       "      <th>down_time_lag1_std</th>\n",
       "      <th>Nonproduction</th>\n",
       "      <th>Remove/Cut</th>\n",
       "      <th>Replace</th>\n",
       "      <th>Move</th>\n",
       "    </tr>\n",
       "  </thead>\n",
       "  <tbody>\n",
       "    <tr>\n",
       "      <th>0</th>\n",
       "      <td>116.246774</td>\n",
       "      <td>91.797374</td>\n",
       "      <td>128.116152</td>\n",
       "      <td>4.599037</td>\n",
       "      <td>0.731816</td>\n",
       "      <td>8.474761e+05</td>\n",
       "      <td>395017.895651</td>\n",
       "      <td>120</td>\n",
       "      <td>417</td>\n",
       "      <td>7</td>\n",
       "      <td>3</td>\n",
       "    </tr>\n",
       "    <tr>\n",
       "      <th>1</th>\n",
       "      <td>121.848329</td>\n",
       "      <td>113.768226</td>\n",
       "      <td>103.618895</td>\n",
       "      <td>4.112479</td>\n",
       "      <td>1.670000</td>\n",
       "      <td>7.857385e+05</td>\n",
       "      <td>385747.129680</td>\n",
       "      <td>99</td>\n",
       "      <td>151</td>\n",
       "      <td>1</td>\n",
       "      <td>0</td>\n",
       "    </tr>\n",
       "    <tr>\n",
       "      <th>2</th>\n",
       "      <td>123.943896</td>\n",
       "      <td>62.082013</td>\n",
       "      <td>125.082971</td>\n",
       "      <td>4.631532</td>\n",
       "      <td>0.835734</td>\n",
       "      <td>7.132523e+05</td>\n",
       "      <td>405370.160405</td>\n",
       "      <td>72</td>\n",
       "      <td>517</td>\n",
       "      <td>0</td>\n",
       "      <td>0</td>\n",
       "    </tr>\n",
       "    <tr>\n",
       "      <th>3</th>\n",
       "      <td>81.404342</td>\n",
       "      <td>40.653054</td>\n",
       "      <td>132.942560</td>\n",
       "      <td>4.324892</td>\n",
       "      <td>0.491386</td>\n",
       "      <td>5.442865e+05</td>\n",
       "      <td>484522.665101</td>\n",
       "      <td>76</td>\n",
       "      <td>338</td>\n",
       "      <td>3</td>\n",
       "      <td>0</td>\n",
       "    </tr>\n",
       "    <tr>\n",
       "      <th>4</th>\n",
       "      <td>109.717847</td>\n",
       "      <td>37.018331</td>\n",
       "      <td>119.671388</td>\n",
       "      <td>4.617338</td>\n",
       "      <td>0.585590</td>\n",
       "      <td>3.543206e+05</td>\n",
       "      <td>242084.043765</td>\n",
       "      <td>34</td>\n",
       "      <td>148</td>\n",
       "      <td>0</td>\n",
       "      <td>0</td>\n",
       "    </tr>\n",
       "    <tr>\n",
       "      <th>...</th>\n",
       "      <td>...</td>\n",
       "      <td>...</td>\n",
       "      <td>...</td>\n",
       "      <td>...</td>\n",
       "      <td>...</td>\n",
       "      <td>...</td>\n",
       "      <td>...</td>\n",
       "      <td>...</td>\n",
       "      <td>...</td>\n",
       "      <td>...</td>\n",
       "      <td>...</td>\n",
       "    </tr>\n",
       "    <tr>\n",
       "      <th>1971</th>\n",
       "      <td>95.689408</td>\n",
       "      <td>45.091107</td>\n",
       "      <td>227.251047</td>\n",
       "      <td>4.424712</td>\n",
       "      <td>0.726349</td>\n",
       "      <td>6.793416e+05</td>\n",
       "      <td>459931.674935</td>\n",
       "      <td>67</td>\n",
       "      <td>468</td>\n",
       "      <td>0</td>\n",
       "      <td>0</td>\n",
       "    </tr>\n",
       "    <tr>\n",
       "      <th>1972</th>\n",
       "      <td>129.262599</td>\n",
       "      <td>37.822211</td>\n",
       "      <td>137.294430</td>\n",
       "      <td>4.765415</td>\n",
       "      <td>0.704039</td>\n",
       "      <td>2.340180e+05</td>\n",
       "      <td>109375.567726</td>\n",
       "      <td>43</td>\n",
       "      <td>112</td>\n",
       "      <td>1</td>\n",
       "      <td>0</td>\n",
       "    </tr>\n",
       "    <tr>\n",
       "      <th>1973</th>\n",
       "      <td>82.266129</td>\n",
       "      <td>36.178818</td>\n",
       "      <td>223.013057</td>\n",
       "      <td>4.239485</td>\n",
       "      <td>0.923658</td>\n",
       "      <td>8.419172e+05</td>\n",
       "      <td>512659.285164</td>\n",
       "      <td>148</td>\n",
       "      <td>60</td>\n",
       "      <td>1</td>\n",
       "      <td>0</td>\n",
       "    </tr>\n",
       "    <tr>\n",
       "      <th>1974</th>\n",
       "      <td>89.277915</td>\n",
       "      <td>54.515788</td>\n",
       "      <td>205.917027</td>\n",
       "      <td>4.339672</td>\n",
       "      <td>0.739735</td>\n",
       "      <td>5.766082e+05</td>\n",
       "      <td>334766.796220</td>\n",
       "      <td>71</td>\n",
       "      <td>276</td>\n",
       "      <td>0</td>\n",
       "      <td>0</td>\n",
       "    </tr>\n",
       "    <tr>\n",
       "      <th>1975</th>\n",
       "      <td>83.237082</td>\n",
       "      <td>63.738723</td>\n",
       "      <td>105.105278</td>\n",
       "      <td>4.055051</td>\n",
       "      <td>1.319331</td>\n",
       "      <td>1.076689e+06</td>\n",
       "      <td>580917.380848</td>\n",
       "      <td>843</td>\n",
       "      <td>310</td>\n",
       "      <td>12</td>\n",
       "      <td>1</td>\n",
       "    </tr>\n",
       "  </tbody>\n",
       "</table>\n",
       "<p>1976 rows × 11 columns</p>\n",
       "</div>"
      ],
      "text/plain": [
       "      action_time_mean  action_time_std  word_count_mean  \\\n",
       "0           116.246774        91.797374       128.116152   \n",
       "1           121.848329       113.768226       103.618895   \n",
       "2           123.943896        62.082013       125.082971   \n",
       "3            81.404342        40.653054       132.942560   \n",
       "4           109.717847        37.018331       119.671388   \n",
       "...                ...              ...              ...   \n",
       "1971         95.689408        45.091107       227.251047   \n",
       "1972        129.262599        37.822211       137.294430   \n",
       "1973         82.266129        36.178818       223.013057   \n",
       "1974         89.277915        54.515788       205.917027   \n",
       "1975         83.237082        63.738723       105.105278   \n",
       "\n",
       "      action_time_log_mean  action_time_log_std  down_time_lag1_mean  \\\n",
       "0                 4.599037             0.731816         8.474761e+05   \n",
       "1                 4.112479             1.670000         7.857385e+05   \n",
       "2                 4.631532             0.835734         7.132523e+05   \n",
       "3                 4.324892             0.491386         5.442865e+05   \n",
       "4                 4.617338             0.585590         3.543206e+05   \n",
       "...                    ...                  ...                  ...   \n",
       "1971              4.424712             0.726349         6.793416e+05   \n",
       "1972              4.765415             0.704039         2.340180e+05   \n",
       "1973              4.239485             0.923658         8.419172e+05   \n",
       "1974              4.339672             0.739735         5.766082e+05   \n",
       "1975              4.055051             1.319331         1.076689e+06   \n",
       "\n",
       "      down_time_lag1_std  Nonproduction  Remove/Cut  Replace  Move  \n",
       "0          395017.895651            120         417        7     3  \n",
       "1          385747.129680             99         151        1     0  \n",
       "2          405370.160405             72         517        0     0  \n",
       "3          484522.665101             76         338        3     0  \n",
       "4          242084.043765             34         148        0     0  \n",
       "...                  ...            ...         ...      ...   ...  \n",
       "1971       459931.674935             67         468        0     0  \n",
       "1972       109375.567726             43         112        1     0  \n",
       "1973       512659.285164            148          60        1     0  \n",
       "1974       334766.796220             71         276        0     0  \n",
       "1975       580917.380848            843         310       12     1  \n",
       "\n",
       "[1976 rows x 11 columns]"
      ]
     },
     "execution_count": 88,
     "metadata": {},
     "output_type": "execute_result"
    }
   ],
   "source": [
    "x_train"
   ]
  },
  {
   "cell_type": "code",
   "execution_count": 89,
   "id": "0e5eae92",
   "metadata": {
    "execution": {
     "iopub.execute_input": "2023-11-08T08:34:47.132328Z",
     "iopub.status.busy": "2023-11-08T08:34:47.131917Z",
     "iopub.status.idle": "2023-11-08T08:34:47.187316Z",
     "shell.execute_reply": "2023-11-08T08:34:47.186025Z"
    },
    "papermill": {
     "duration": 0.123779,
     "end_time": "2023-11-08T08:34:47.189950",
     "exception": false,
     "start_time": "2023-11-08T08:34:47.066171",
     "status": "completed"
    },
    "tags": []
   },
   "outputs": [
    {
     "data": {
      "text/html": [
       "<div>\n",
       "<style scoped>\n",
       "    .dataframe tbody tr th:only-of-type {\n",
       "        vertical-align: middle;\n",
       "    }\n",
       "\n",
       "    .dataframe tbody tr th {\n",
       "        vertical-align: top;\n",
       "    }\n",
       "\n",
       "    .dataframe thead th {\n",
       "        text-align: right;\n",
       "    }\n",
       "</style>\n",
       "<table border=\"1\" class=\"dataframe\">\n",
       "  <thead>\n",
       "    <tr style=\"text-align: right;\">\n",
       "      <th></th>\n",
       "      <th>action_time_mean</th>\n",
       "      <th>action_time_std</th>\n",
       "      <th>word_count_mean</th>\n",
       "      <th>action_time_log_mean</th>\n",
       "      <th>action_time_log_std</th>\n",
       "      <th>down_time_lag1_mean</th>\n",
       "      <th>down_time_lag1_std</th>\n",
       "      <th>Nonproduction</th>\n",
       "      <th>Remove/Cut</th>\n",
       "      <th>Replace</th>\n",
       "      <th>Move</th>\n",
       "    </tr>\n",
       "  </thead>\n",
       "  <tbody>\n",
       "    <tr>\n",
       "      <th>0</th>\n",
       "      <td>86.0</td>\n",
       "      <td>1.414214</td>\n",
       "      <td>0.0</td>\n",
       "      <td>4.465842</td>\n",
       "      <td>0.016256</td>\n",
       "      <td>169216.5</td>\n",
       "      <td>239308.269277</td>\n",
       "      <td>0</td>\n",
       "      <td>0</td>\n",
       "      <td>0</td>\n",
       "      <td>0</td>\n",
       "    </tr>\n",
       "    <tr>\n",
       "      <th>1</th>\n",
       "      <td>56.5</td>\n",
       "      <td>14.849242</td>\n",
       "      <td>1.0</td>\n",
       "      <td>4.034828</td>\n",
       "      <td>0.261177</td>\n",
       "      <td>736014.5</td>\n",
       "      <td>34023.856990</td>\n",
       "      <td>0</td>\n",
       "      <td>0</td>\n",
       "      <td>0</td>\n",
       "      <td>0</td>\n",
       "    </tr>\n",
       "    <tr>\n",
       "      <th>2</th>\n",
       "      <td>75.0</td>\n",
       "      <td>26.870058</td>\n",
       "      <td>0.5</td>\n",
       "      <td>4.298464</td>\n",
       "      <td>0.361208</td>\n",
       "      <td>463024.5</td>\n",
       "      <td>243983.659315</td>\n",
       "      <td>0</td>\n",
       "      <td>0</td>\n",
       "      <td>0</td>\n",
       "      <td>0</td>\n",
       "    </tr>\n",
       "  </tbody>\n",
       "</table>\n",
       "</div>"
      ],
      "text/plain": [
       "   action_time_mean  action_time_std  word_count_mean  action_time_log_mean  \\\n",
       "0              86.0         1.414214              0.0              4.465842   \n",
       "1              56.5        14.849242              1.0              4.034828   \n",
       "2              75.0        26.870058              0.5              4.298464   \n",
       "\n",
       "   action_time_log_std  down_time_lag1_mean  down_time_lag1_std  \\\n",
       "0             0.016256             169216.5       239308.269277   \n",
       "1             0.261177             736014.5        34023.856990   \n",
       "2             0.361208             463024.5       243983.659315   \n",
       "\n",
       "   Nonproduction  Remove/Cut  Replace  Move  \n",
       "0              0           0        0     0  \n",
       "1              0           0        0     0  \n",
       "2              0           0        0     0  "
      ]
     },
     "execution_count": 89,
     "metadata": {},
     "output_type": "execute_result"
    }
   ],
   "source": [
    "x_test_new = pipe_add.transform(test_logs)\n",
    "\n",
    "x_test_agg = df_agg(test_logs)\n",
    "\n",
    "x_test_agg_new = df_agg_activity(x_test_agg, columns_activity)\n",
    "x_test_new_join = join_two_df(x_test_new, x_test_agg_new)\n",
    "x_test_new_join = x_test_new_join.drop(['id', 'word_count_std', 'Input'], axis=1)\n",
    "x_test_new_join\n",
    "#x_test_new_join_target = join_w_target(x_test_new_join, y_valid)\n",
    "\n",
    "#x_test_new_join_target = add_klass(x_test_new_join_target)\n",
    "#x_test_new_join_target"
   ]
  },
  {
   "cell_type": "code",
   "execution_count": 90,
   "id": "be5282d4",
   "metadata": {
    "execution": {
     "iopub.execute_input": "2023-11-08T08:34:47.353511Z",
     "iopub.status.busy": "2023-11-08T08:34:47.352781Z",
     "iopub.status.idle": "2023-11-08T08:34:47.368813Z",
     "shell.execute_reply": "2023-11-08T08:34:47.367837Z"
    },
    "papermill": {
     "duration": 0.102398,
     "end_time": "2023-11-08T08:34:47.370960",
     "exception": false,
     "start_time": "2023-11-08T08:34:47.268562",
     "status": "completed"
    },
    "tags": []
   },
   "outputs": [
    {
     "data": {
      "text/plain": [
       "array([1.45628002, 1.59114143, 1.48904987])"
      ]
     },
     "execution_count": 90,
     "metadata": {},
     "output_type": "execute_result"
    }
   ],
   "source": [
    "pred = rf.predict(x_test_new_join)\n",
    "pred"
   ]
  },
  {
   "cell_type": "code",
   "execution_count": null,
   "id": "87fa42cb",
   "metadata": {
    "papermill": {
     "duration": 0.080442,
     "end_time": "2023-11-08T08:34:47.516563",
     "exception": false,
     "start_time": "2023-11-08T08:34:47.436121",
     "status": "completed"
    },
    "tags": []
   },
   "outputs": [],
   "source": []
  },
  {
   "cell_type": "markdown",
   "id": "6906c423",
   "metadata": {
    "papermill": {
     "duration": 0.070459,
     "end_time": "2023-11-08T08:34:47.653508",
     "exception": false,
     "start_time": "2023-11-08T08:34:47.583049",
     "status": "completed"
    },
    "tags": []
   },
   "source": [
    "### OUT file"
   ]
  },
  {
   "cell_type": "code",
   "execution_count": 91,
   "id": "dcf0f6ec",
   "metadata": {
    "execution": {
     "iopub.execute_input": "2023-11-08T08:34:47.792623Z",
     "iopub.status.busy": "2023-11-08T08:34:47.791621Z",
     "iopub.status.idle": "2023-11-08T08:34:47.803349Z",
     "shell.execute_reply": "2023-11-08T08:34:47.802353Z"
    },
    "papermill": {
     "duration": 0.080156,
     "end_time": "2023-11-08T08:34:47.805526",
     "exception": false,
     "start_time": "2023-11-08T08:34:47.725370",
     "status": "completed"
    },
    "tags": []
   },
   "outputs": [
    {
     "data": {
      "text/html": [
       "<div>\n",
       "<style scoped>\n",
       "    .dataframe tbody tr th:only-of-type {\n",
       "        vertical-align: middle;\n",
       "    }\n",
       "\n",
       "    .dataframe tbody tr th {\n",
       "        vertical-align: top;\n",
       "    }\n",
       "\n",
       "    .dataframe thead th {\n",
       "        text-align: right;\n",
       "    }\n",
       "</style>\n",
       "<table border=\"1\" class=\"dataframe\">\n",
       "  <thead>\n",
       "    <tr style=\"text-align: right;\">\n",
       "      <th></th>\n",
       "      <th>id</th>\n",
       "      <th>score</th>\n",
       "    </tr>\n",
       "  </thead>\n",
       "  <tbody>\n",
       "    <tr>\n",
       "      <th>0</th>\n",
       "      <td>0000aaaa</td>\n",
       "      <td>1.0</td>\n",
       "    </tr>\n",
       "    <tr>\n",
       "      <th>1</th>\n",
       "      <td>2222bbbb</td>\n",
       "      <td>2.0</td>\n",
       "    </tr>\n",
       "    <tr>\n",
       "      <th>2</th>\n",
       "      <td>4444cccc</td>\n",
       "      <td>3.0</td>\n",
       "    </tr>\n",
       "  </tbody>\n",
       "</table>\n",
       "</div>"
      ],
      "text/plain": [
       "         id  score\n",
       "0  0000aaaa    1.0\n",
       "1  2222bbbb    2.0\n",
       "2  4444cccc    3.0"
      ]
     },
     "execution_count": 91,
     "metadata": {},
     "output_type": "execute_result"
    }
   ],
   "source": [
    "sample_submission"
   ]
  },
  {
   "cell_type": "code",
   "execution_count": 92,
   "id": "1aaa3f46",
   "metadata": {
    "execution": {
     "iopub.execute_input": "2023-11-08T08:34:47.937996Z",
     "iopub.status.busy": "2023-11-08T08:34:47.937018Z",
     "iopub.status.idle": "2023-11-08T08:34:47.953257Z",
     "shell.execute_reply": "2023-11-08T08:34:47.952210Z"
    },
    "papermill": {
     "duration": 0.085066,
     "end_time": "2023-11-08T08:34:47.955516",
     "exception": false,
     "start_time": "2023-11-08T08:34:47.870450",
     "status": "completed"
    },
    "tags": []
   },
   "outputs": [
    {
     "data": {
      "text/html": [
       "<div>\n",
       "<style scoped>\n",
       "    .dataframe tbody tr th:only-of-type {\n",
       "        vertical-align: middle;\n",
       "    }\n",
       "\n",
       "    .dataframe tbody tr th {\n",
       "        vertical-align: top;\n",
       "    }\n",
       "\n",
       "    .dataframe thead th {\n",
       "        text-align: right;\n",
       "    }\n",
       "</style>\n",
       "<table border=\"1\" class=\"dataframe\">\n",
       "  <thead>\n",
       "    <tr style=\"text-align: right;\">\n",
       "      <th></th>\n",
       "      <th>id</th>\n",
       "      <th>score</th>\n",
       "    </tr>\n",
       "  </thead>\n",
       "  <tbody>\n",
       "    <tr>\n",
       "      <th>0</th>\n",
       "      <td>0000aaaa</td>\n",
       "      <td>1.456280</td>\n",
       "    </tr>\n",
       "    <tr>\n",
       "      <th>1</th>\n",
       "      <td>2222bbbb</td>\n",
       "      <td>1.591141</td>\n",
       "    </tr>\n",
       "    <tr>\n",
       "      <th>2</th>\n",
       "      <td>4444cccc</td>\n",
       "      <td>1.489050</td>\n",
       "    </tr>\n",
       "  </tbody>\n",
       "</table>\n",
       "</div>"
      ],
      "text/plain": [
       "         id     score\n",
       "0  0000aaaa  1.456280\n",
       "1  2222bbbb  1.591141\n",
       "2  4444cccc  1.489050"
      ]
     },
     "execution_count": 92,
     "metadata": {},
     "output_type": "execute_result"
    }
   ],
   "source": [
    "submission = sample_submission\n",
    "submission['score']=pred\n",
    "submission.to_csv(\"submission.csv\", index=False)\n",
    "submission"
   ]
  },
  {
   "cell_type": "code",
   "execution_count": null,
   "id": "aa8b56cf",
   "metadata": {
    "papermill": {
     "duration": 0.064142,
     "end_time": "2023-11-08T08:34:48.083971",
     "exception": false,
     "start_time": "2023-11-08T08:34:48.019829",
     "status": "completed"
    },
    "tags": []
   },
   "outputs": [],
   "source": []
  },
  {
   "cell_type": "markdown",
   "id": "be4ae5a3",
   "metadata": {
    "papermill": {
     "duration": 0.064165,
     "end_time": "2023-11-08T08:34:48.212315",
     "exception": false,
     "start_time": "2023-11-08T08:34:48.148150",
     "status": "completed"
    },
    "tags": []
   },
   "source": [
    "My score in this competition:\n",
    "\n",
    "Public Score\n",
    "0.714\n",
    "\n",
    "Best Score\n",
    "0.714 V2"
   ]
  },
  {
   "cell_type": "code",
   "execution_count": null,
   "id": "cf894dc5",
   "metadata": {},
   "outputs": [],
   "source": []
  }
 ],
 "metadata": {
  "kernelspec": {
   "display_name": "Python 3 (ipykernel)",
   "language": "python",
   "name": "python3"
  },
  "language_info": {
   "codemirror_mode": {
    "name": "ipython",
    "version": 3
   },
   "file_extension": ".py",
   "mimetype": "text/x-python",
   "name": "python",
   "nbconvert_exporter": "python",
   "pygments_lexer": "ipython3",
   "version": "3.9.2"
  },
  "papermill": {
   "default_parameters": {},
   "duration": 181.834551,
   "end_time": "2023-11-08T08:34:49.299816",
   "environment_variables": {},
   "exception": null,
   "input_path": "__notebook__.ipynb",
   "output_path": "__notebook__.ipynb",
   "parameters": {},
   "start_time": "2023-11-08T08:31:47.465265",
   "version": "2.4.0"
  }
 },
 "nbformat": 4,
 "nbformat_minor": 5
}
